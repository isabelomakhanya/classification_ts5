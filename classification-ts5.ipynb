{
 "cells": [
  {
   "cell_type": "markdown",
   "id": "convertible-premises",
   "metadata": {
    "_cell_guid": "b1076dfc-b9ad-4769-8c92-a6c4dae69d19",
    "_uuid": "8f2839f25d086af736a60e9eeb907d3b93b6e0e5",
    "execution": {
     "iopub.execute_input": "2021-06-02T23:35:44.754705Z",
     "iopub.status.busy": "2021-06-02T23:35:44.754249Z",
     "iopub.status.idle": "2021-06-02T23:35:44.775038Z",
     "shell.execute_reply": "2021-06-02T23:35:44.773868Z",
     "shell.execute_reply.started": "2021-06-02T23:35:44.754668Z"
    },
    "papermill": {
     "duration": 0.029085,
     "end_time": "2021-06-10T11:00:29.318311",
     "exception": false,
     "start_time": "2021-06-10T11:00:29.289226",
     "status": "completed"
    },
    "tags": []
   },
   "source": [
    "# EDSA - Climate Change Belief Analysis 2021\n",
    "### Team TS5 Classification"
   ]
  },
  {
   "cell_type": "markdown",
   "id": "special-australia",
   "metadata": {
    "execution": {
     "iopub.execute_input": "2021-06-03T16:17:48.062355Z",
     "iopub.status.busy": "2021-06-03T16:17:48.06194Z",
     "iopub.status.idle": "2021-06-03T16:17:48.069466Z",
     "shell.execute_reply": "2021-06-03T16:17:48.067878Z",
     "shell.execute_reply.started": "2021-06-03T16:17:48.062321Z"
    },
    "papermill": {
     "duration": 0.027386,
     "end_time": "2021-06-10T11:00:29.373653",
     "exception": false,
     "start_time": "2021-06-10T11:00:29.346267",
     "status": "completed"
    },
    "tags": []
   },
   "source": [
    "<div align=\"center\" style=\"width: 1000px; font-size: 80%; text-align: center; margin: 0 auto\">\n",
    "<img src=\"https://raw.githubusercontent.com/CPNMorgan/Team_TS5_JHB_Classification/main/climat change.jpg\"\n",
    "     alt=\"Titanic\"\n",
    "     style=\"float: center; padding-bottom=0.5em\"\n",
    "     width=1000px/>\n",
    "\n",
    "</div>"
   ]
  },
  {
   "cell_type": "markdown",
   "id": "binding-christian",
   "metadata": {
    "papermill": {
     "duration": 0.027351,
     "end_time": "2021-06-10T11:00:29.428674",
     "exception": false,
     "start_time": "2021-06-10T11:00:29.401323",
     "status": "completed"
    },
    "tags": []
   },
   "source": [
    "# Challange Description"
   ]
  },
  {
   "cell_type": "markdown",
   "id": "isolated-syndicate",
   "metadata": {
    "papermill": {
     "duration": 0.027413,
     "end_time": "2021-06-10T11:00:29.483654",
     "exception": false,
     "start_time": "2021-06-10T11:00:29.456241",
     "status": "completed"
    },
    "tags": []
   },
   "source": [
    "Many companies are built around lessening one’s environmental impact or carbon footprint. They offer products and services that are environmentally friendly and sustainable, in line with their values and ideals. They would like to determine how people perceive climate change and whether or not they believe it is a real threat. This would add to their market research efforts in gauging how their product/service may be received.\n",
    "\n",
    "With this context, EDSA is challenging you during the Classification Sprint with the task of creating a Machine Learning model that is able to classify whether or not a person believes in climate change, based on their novel tweet data.\n",
    "\n",
    "Providing an accurate and robust solution to this task gives companies access to a broad base of consumer sentiment, spanning multiple demographic and geographic categories - thus increasing their insights and informing future marketing strategies."
   ]
  },
  {
   "cell_type": "markdown",
   "id": "understanding-parliament",
   "metadata": {
    "papermill": {
     "duration": 0.02766,
     "end_time": "2021-06-10T11:00:29.538981",
     "exception": false,
     "start_time": "2021-06-10T11:00:29.511321",
     "status": "completed"
    },
    "tags": []
   },
   "source": [
    "# Introduction"
   ]
  },
  {
   "cell_type": "code",
   "execution_count": null,
   "id": "cosmetic-syracuse",
   "metadata": {
    "papermill": {
     "duration": 0.027694,
     "end_time": "2021-06-10T11:00:29.594317",
     "exception": false,
     "start_time": "2021-06-10T11:00:29.566623",
     "status": "completed"
    },
    "tags": []
   },
   "outputs": [],
   "source": []
  },
  {
   "cell_type": "markdown",
   "id": "binary-sierra",
   "metadata": {
    "execution": {
     "iopub.execute_input": "2021-06-03T16:23:06.285173Z",
     "iopub.status.busy": "2021-06-03T16:23:06.284666Z",
     "iopub.status.idle": "2021-06-03T16:23:06.289831Z",
     "shell.execute_reply": "2021-06-03T16:23:06.288702Z",
     "shell.execute_reply.started": "2021-06-03T16:23:06.285137Z"
    },
    "papermill": {
     "duration": 0.027728,
     "end_time": "2021-06-10T11:00:29.650136",
     "exception": false,
     "start_time": "2021-06-10T11:00:29.622408",
     "status": "completed"
    },
    "tags": []
   },
   "source": [
    "# Importing Packages"
   ]
  },
  {
   "cell_type": "markdown",
   "id": "previous-control",
   "metadata": {
    "papermill": {
     "duration": 0.027467,
     "end_time": "2021-06-10T11:00:29.705505",
     "exception": false,
     "start_time": "2021-06-10T11:00:29.678038",
     "status": "completed"
    },
    "tags": []
   },
   "source": []
  },
  {
   "cell_type": "code",
   "execution_count": 1,
   "id": "instrumental-removal",
   "metadata": {
    "execution": {
     "iopub.execute_input": "2021-06-10T11:00:29.765450Z",
     "iopub.status.busy": "2021-06-10T11:00:29.764243Z",
     "iopub.status.idle": "2021-06-10T11:00:32.254609Z",
     "shell.execute_reply": "2021-06-10T11:00:32.253907Z",
     "shell.execute_reply.started": "2021-06-10T10:33:10.870622Z"
    },
    "papermill": {
     "duration": 2.521345,
     "end_time": "2021-06-10T11:00:32.254770",
     "exception": false,
     "start_time": "2021-06-10T11:00:29.733425",
     "status": "completed"
    },
    "tags": []
   },
   "outputs": [
    {
     "name": "stdout",
     "output_type": "stream",
     "text": [
      "/kaggle/input/edsa-climate-change-belief-analysis-2021/sample_submission.csv\n",
      "/kaggle/input/edsa-climate-change-belief-analysis-2021/train.csv\n",
      "/kaggle/input/edsa-climate-change-belief-analysis-2021/test.csv\n"
     ]
    }
   ],
   "source": [
    "import numpy as np # linear algebra\n",
    "import pandas as pd # data processing, CSV file I/O (e.g. pd.read_csv)\n",
    "import matplotlib.pyplot as plt\n",
    "from plotly import graph_objs as go\n",
    "import seaborn as sns\n",
    "\n",
    "#nlp\n",
    "import string\n",
    "import re    #for regex\n",
    "import nltk\n",
    "from nltk.stem.porter import *\n",
    "from nltk.corpus import stopwords\n",
    "import spacy\n",
    "from nltk import pos_tag\n",
    "from nltk.stem.wordnet import WordNetLemmatizer \n",
    "from nltk.tokenize import word_tokenize\n",
    "from PIL import Image\n",
    "from sklearn.feature_extraction.text import CountVectorizer\n",
    "from wordcloud import WordCloud, STOPWORDS, ImageColorGenerator\n",
    "\n",
    "from nltk.tokenize import TweetTokenizer   \n",
    "from sklearn.feature_extraction.text import TfidfVectorizer\n",
    "from sklearn.model_selection import cross_val_score\n",
    "from sklearn.pipeline import make_union\n",
    "\n",
    "#models\n",
    "from sklearn.linear_model import LogisticRegression\n",
    "from sklearn.svm import SVC\n",
    "from sklearn.naive_bayes import MultinomialNB\n",
    "from sklearn.neighbors import KNeighborsClassifier\n",
    "from sklearn.tree import DecisionTreeClassifier\n",
    "from sklearn.ensemble import RandomForestClassifier\n",
    "from sklearn.pipeline import Pipeline\n",
    "from sklearn.decomposition import LatentDirichletAllocation as LDA\n",
    "from sklearn.model_selection import GridSearchCV\n",
    "from sklearn import metrics\n",
    "\n",
    "import os\n",
    "for dirname, _, filenames in os.walk('/kaggle/input'):\n",
    "    for filename in filenames:\n",
    "        print(os.path.join(dirname, filename))\n"
   ]
  },
  {
   "cell_type": "code",
   "execution_count": 2,
   "id": "realistic-prototype",
   "metadata": {
    "execution": {
     "iopub.execute_input": "2021-06-10T11:00:32.316907Z",
     "iopub.status.busy": "2021-06-10T11:00:32.316180Z",
     "iopub.status.idle": "2021-06-10T11:00:32.494847Z",
     "shell.execute_reply": "2021-06-10T11:00:32.494240Z",
     "shell.execute_reply.started": "2021-06-10T08:50:18.225298Z"
    },
    "papermill": {
     "duration": 0.211607,
     "end_time": "2021-06-10T11:00:32.495049",
     "exception": false,
     "start_time": "2021-06-10T11:00:32.283442",
     "status": "completed"
    },
    "tags": []
   },
   "outputs": [],
   "source": [
    "test_df = pd.read_csv('../input/edsa-climate-change-belief-analysis-2021/test.csv')\n",
    "train_df = pd.read_csv('../input/edsa-climate-change-belief-analysis-2021/train.csv')"
   ]
  },
  {
   "cell_type": "markdown",
   "id": "smaller-tactics",
   "metadata": {
    "papermill": {
     "duration": 0.027813,
     "end_time": "2021-06-10T11:00:32.551171",
     "exception": false,
     "start_time": "2021-06-10T11:00:32.523358",
     "status": "completed"
    },
    "tags": []
   },
   "source": [
    "## First look into data"
   ]
  },
  {
   "cell_type": "code",
   "execution_count": 3,
   "id": "gothic-poverty",
   "metadata": {
    "execution": {
     "iopub.execute_input": "2021-06-10T11:00:32.617474Z",
     "iopub.status.busy": "2021-06-10T11:00:32.616754Z",
     "iopub.status.idle": "2021-06-10T11:00:32.635564Z",
     "shell.execute_reply": "2021-06-10T11:00:32.636066Z",
     "shell.execute_reply.started": "2021-06-10T06:16:37.472295Z"
    },
    "papermill": {
     "duration": 0.05712,
     "end_time": "2021-06-10T11:00:32.636234",
     "exception": false,
     "start_time": "2021-06-10T11:00:32.579114",
     "status": "completed"
    },
    "tags": []
   },
   "outputs": [
    {
     "data": {
      "text/html": [
       "<div>\n",
       "<style scoped>\n",
       "    .dataframe tbody tr th:only-of-type {\n",
       "        vertical-align: middle;\n",
       "    }\n",
       "\n",
       "    .dataframe tbody tr th {\n",
       "        vertical-align: top;\n",
       "    }\n",
       "\n",
       "    .dataframe thead th {\n",
       "        text-align: right;\n",
       "    }\n",
       "</style>\n",
       "<table border=\"1\" class=\"dataframe\">\n",
       "  <thead>\n",
       "    <tr style=\"text-align: right;\">\n",
       "      <th></th>\n",
       "      <th>sentiment</th>\n",
       "      <th>message</th>\n",
       "      <th>tweetid</th>\n",
       "    </tr>\n",
       "  </thead>\n",
       "  <tbody>\n",
       "    <tr>\n",
       "      <th>0</th>\n",
       "      <td>1</td>\n",
       "      <td>PolySciMajor EPA chief doesn't think carbon di...</td>\n",
       "      <td>625221</td>\n",
       "    </tr>\n",
       "    <tr>\n",
       "      <th>1</th>\n",
       "      <td>1</td>\n",
       "      <td>It's not like we lack evidence of anthropogeni...</td>\n",
       "      <td>126103</td>\n",
       "    </tr>\n",
       "    <tr>\n",
       "      <th>2</th>\n",
       "      <td>2</td>\n",
       "      <td>RT @RawStory: Researchers say we have three ye...</td>\n",
       "      <td>698562</td>\n",
       "    </tr>\n",
       "    <tr>\n",
       "      <th>3</th>\n",
       "      <td>1</td>\n",
       "      <td>#TodayinMaker# WIRED : 2016 was a pivotal year...</td>\n",
       "      <td>573736</td>\n",
       "    </tr>\n",
       "    <tr>\n",
       "      <th>4</th>\n",
       "      <td>1</td>\n",
       "      <td>RT @SoyNovioDeTodas: It's 2016, and a racist, ...</td>\n",
       "      <td>466954</td>\n",
       "    </tr>\n",
       "    <tr>\n",
       "      <th>5</th>\n",
       "      <td>1</td>\n",
       "      <td>Worth a read whether you do or don't believe i...</td>\n",
       "      <td>425577</td>\n",
       "    </tr>\n",
       "    <tr>\n",
       "      <th>6</th>\n",
       "      <td>1</td>\n",
       "      <td>RT @thenation: Mike Pence doesn’t believe in g...</td>\n",
       "      <td>294933</td>\n",
       "    </tr>\n",
       "    <tr>\n",
       "      <th>7</th>\n",
       "      <td>1</td>\n",
       "      <td>RT @makeandmendlife: Six big things we can ALL...</td>\n",
       "      <td>992717</td>\n",
       "    </tr>\n",
       "    <tr>\n",
       "      <th>8</th>\n",
       "      <td>1</td>\n",
       "      <td>@AceofSpadesHQ My 8yo nephew is inconsolable. ...</td>\n",
       "      <td>664510</td>\n",
       "    </tr>\n",
       "    <tr>\n",
       "      <th>9</th>\n",
       "      <td>1</td>\n",
       "      <td>RT @paigetweedy: no offense… but like… how do ...</td>\n",
       "      <td>260471</td>\n",
       "    </tr>\n",
       "  </tbody>\n",
       "</table>\n",
       "</div>"
      ],
      "text/plain": [
       "   sentiment                                            message  tweetid\n",
       "0          1  PolySciMajor EPA chief doesn't think carbon di...   625221\n",
       "1          1  It's not like we lack evidence of anthropogeni...   126103\n",
       "2          2  RT @RawStory: Researchers say we have three ye...   698562\n",
       "3          1  #TodayinMaker# WIRED : 2016 was a pivotal year...   573736\n",
       "4          1  RT @SoyNovioDeTodas: It's 2016, and a racist, ...   466954\n",
       "5          1  Worth a read whether you do or don't believe i...   425577\n",
       "6          1  RT @thenation: Mike Pence doesn’t believe in g...   294933\n",
       "7          1  RT @makeandmendlife: Six big things we can ALL...   992717\n",
       "8          1  @AceofSpadesHQ My 8yo nephew is inconsolable. ...   664510\n",
       "9          1  RT @paigetweedy: no offense… but like… how do ...   260471"
      ]
     },
     "execution_count": 3,
     "metadata": {},
     "output_type": "execute_result"
    }
   ],
   "source": [
    "train_df.head(10)"
   ]
  },
  {
   "cell_type": "code",
   "execution_count": 4,
   "id": "rocky-unknown",
   "metadata": {
    "execution": {
     "iopub.execute_input": "2021-06-10T11:00:32.697062Z",
     "iopub.status.busy": "2021-06-10T11:00:32.696382Z",
     "iopub.status.idle": "2021-06-10T11:00:32.701403Z",
     "shell.execute_reply": "2021-06-10T11:00:32.701855Z",
     "shell.execute_reply.started": "2021-06-10T06:17:07.701621Z"
    },
    "papermill": {
     "duration": 0.036715,
     "end_time": "2021-06-10T11:00:32.702052",
     "exception": false,
     "start_time": "2021-06-10T11:00:32.665337",
     "status": "completed"
    },
    "tags": []
   },
   "outputs": [
    {
     "data": {
      "text/plain": [
       "((15819, 3), (10546, 2))"
      ]
     },
     "execution_count": 4,
     "metadata": {},
     "output_type": "execute_result"
    }
   ],
   "source": [
    "#check the shape of the data\n",
    "train_df.shape, test_df.shape"
   ]
  },
  {
   "cell_type": "code",
   "execution_count": 5,
   "id": "interested-champion",
   "metadata": {
    "execution": {
     "iopub.execute_input": "2021-06-10T11:00:32.763657Z",
     "iopub.status.busy": "2021-06-10T11:00:32.762978Z",
     "iopub.status.idle": "2021-06-10T11:00:32.772620Z",
     "shell.execute_reply": "2021-06-10T11:00:32.772132Z",
     "shell.execute_reply.started": "2021-06-10T06:17:20.021929Z"
    },
    "papermill": {
     "duration": 0.041649,
     "end_time": "2021-06-10T11:00:32.772773",
     "exception": false,
     "start_time": "2021-06-10T11:00:32.731124",
     "status": "completed"
    },
    "tags": []
   },
   "outputs": [
    {
     "data": {
      "text/plain": [
       "array([ 1,  2,  0, -1])"
      ]
     },
     "execution_count": 5,
     "metadata": {},
     "output_type": "execute_result"
    }
   ],
   "source": [
    "#unique sentiments\n",
    "train_df['sentiment'].unique()"
   ]
  },
  {
   "cell_type": "code",
   "execution_count": 6,
   "id": "original-attraction",
   "metadata": {
    "execution": {
     "iopub.execute_input": "2021-06-10T11:00:32.844017Z",
     "iopub.status.busy": "2021-06-10T11:00:32.838561Z",
     "iopub.status.idle": "2021-06-10T11:00:32.847407Z",
     "shell.execute_reply": "2021-06-10T11:00:32.846815Z",
     "shell.execute_reply.started": "2021-06-10T06:17:39.289686Z"
    },
    "papermill": {
     "duration": 0.045151,
     "end_time": "2021-06-10T11:00:32.847546",
     "exception": false,
     "start_time": "2021-06-10T11:00:32.802395",
     "status": "completed"
    },
    "tags": []
   },
   "outputs": [
    {
     "data": {
      "text/plain": [
       "(sentiment    0\n",
       " message      0\n",
       " tweetid      0\n",
       " dtype: int64,\n",
       " message    0\n",
       " tweetid    0\n",
       " dtype: int64)"
      ]
     },
     "execution_count": 6,
     "metadata": {},
     "output_type": "execute_result"
    }
   ],
   "source": [
    "#check for nulls\n",
    "train_df.isnull().sum(), test_df.isnull().sum()"
   ]
  },
  {
   "cell_type": "code",
   "execution_count": 7,
   "id": "forced-salvation",
   "metadata": {
    "execution": {
     "iopub.execute_input": "2021-06-10T11:00:32.915117Z",
     "iopub.status.busy": "2021-06-10T11:00:32.914448Z",
     "iopub.status.idle": "2021-06-10T11:00:32.932450Z",
     "shell.execute_reply": "2021-06-10T11:00:32.931811Z",
     "shell.execute_reply.started": "2021-06-10T06:17:52.480159Z"
    },
    "papermill": {
     "duration": 0.055335,
     "end_time": "2021-06-10T11:00:32.932587",
     "exception": false,
     "start_time": "2021-06-10T11:00:32.877252",
     "status": "completed"
    },
    "tags": []
   },
   "outputs": [
    {
     "data": {
      "text/html": [
       "<div>\n",
       "<style scoped>\n",
       "    .dataframe tbody tr th:only-of-type {\n",
       "        vertical-align: middle;\n",
       "    }\n",
       "\n",
       "    .dataframe tbody tr th {\n",
       "        vertical-align: top;\n",
       "    }\n",
       "\n",
       "    .dataframe thead th {\n",
       "        text-align: right;\n",
       "    }\n",
       "</style>\n",
       "<table border=\"1\" class=\"dataframe\">\n",
       "  <thead>\n",
       "    <tr style=\"text-align: right;\">\n",
       "      <th></th>\n",
       "      <th>sentiment</th>\n",
       "      <th>tweetid</th>\n",
       "    </tr>\n",
       "  </thead>\n",
       "  <tbody>\n",
       "    <tr>\n",
       "      <th>count</th>\n",
       "      <td>15819.000000</td>\n",
       "      <td>15819.000000</td>\n",
       "    </tr>\n",
       "    <tr>\n",
       "      <th>mean</th>\n",
       "      <td>0.917504</td>\n",
       "      <td>501719.433656</td>\n",
       "    </tr>\n",
       "    <tr>\n",
       "      <th>std</th>\n",
       "      <td>0.836537</td>\n",
       "      <td>289045.983132</td>\n",
       "    </tr>\n",
       "    <tr>\n",
       "      <th>min</th>\n",
       "      <td>-1.000000</td>\n",
       "      <td>6.000000</td>\n",
       "    </tr>\n",
       "    <tr>\n",
       "      <th>25%</th>\n",
       "      <td>1.000000</td>\n",
       "      <td>253207.500000</td>\n",
       "    </tr>\n",
       "    <tr>\n",
       "      <th>50%</th>\n",
       "      <td>1.000000</td>\n",
       "      <td>502291.000000</td>\n",
       "    </tr>\n",
       "    <tr>\n",
       "      <th>75%</th>\n",
       "      <td>1.000000</td>\n",
       "      <td>753769.000000</td>\n",
       "    </tr>\n",
       "    <tr>\n",
       "      <th>max</th>\n",
       "      <td>2.000000</td>\n",
       "      <td>999888.000000</td>\n",
       "    </tr>\n",
       "  </tbody>\n",
       "</table>\n",
       "</div>"
      ],
      "text/plain": [
       "          sentiment        tweetid\n",
       "count  15819.000000   15819.000000\n",
       "mean       0.917504  501719.433656\n",
       "std        0.836537  289045.983132\n",
       "min       -1.000000       6.000000\n",
       "25%        1.000000  253207.500000\n",
       "50%        1.000000  502291.000000\n",
       "75%        1.000000  753769.000000\n",
       "max        2.000000  999888.000000"
      ]
     },
     "execution_count": 7,
     "metadata": {},
     "output_type": "execute_result"
    }
   ],
   "source": [
    "#describe the data\n",
    "train_df.describe()"
   ]
  },
  {
   "cell_type": "markdown",
   "id": "regulation-apparatus",
   "metadata": {
    "papermill": {
     "duration": 0.029839,
     "end_time": "2021-06-10T11:00:32.992482",
     "exception": false,
     "start_time": "2021-06-10T11:00:32.962643",
     "status": "completed"
    },
    "tags": []
   },
   "source": [
    "## EDA"
   ]
  },
  {
   "cell_type": "markdown",
   "id": "scenic-hunter",
   "metadata": {
    "papermill": {
     "duration": 0.030734,
     "end_time": "2021-06-10T11:00:33.053423",
     "exception": false,
     "start_time": "2021-06-10T11:00:33.022689",
     "status": "completed"
    },
    "tags": []
   },
   "source": [
    "- Distribution of sentiments"
   ]
  },
  {
   "cell_type": "code",
   "execution_count": 8,
   "id": "detected-berkeley",
   "metadata": {
    "execution": {
     "iopub.execute_input": "2021-06-10T11:00:33.127588Z",
     "iopub.status.busy": "2021-06-10T11:00:33.126901Z",
     "iopub.status.idle": "2021-06-10T11:00:33.129384Z",
     "shell.execute_reply": "2021-06-10T11:00:33.129828Z",
     "shell.execute_reply.started": "2021-06-10T08:50:51.730910Z"
    },
    "papermill": {
     "duration": 0.044893,
     "end_time": "2021-06-10T11:00:33.130022",
     "exception": false,
     "start_time": "2021-06-10T11:00:33.085129",
     "status": "completed"
    },
    "tags": []
   },
   "outputs": [],
   "source": [
    "copy_df = train_df.copy()\n",
    "# Labeling the target\n",
    "copy_df['sentiment'] = [['Negative', 'Neutral', 'Positive', 'News'][x+1] for x in copy_df['sentiment']]"
   ]
  },
  {
   "cell_type": "code",
   "execution_count": 9,
   "id": "freelance-vampire",
   "metadata": {
    "execution": {
     "iopub.execute_input": "2021-06-10T11:00:33.194135Z",
     "iopub.status.busy": "2021-06-10T11:00:33.193514Z",
     "iopub.status.idle": "2021-06-10T11:00:33.245882Z",
     "shell.execute_reply": "2021-06-10T11:00:33.245334Z",
     "shell.execute_reply.started": "2021-06-10T08:51:10.368730Z"
    },
    "papermill": {
     "duration": 0.085286,
     "end_time": "2021-06-10T11:00:33.246038",
     "exception": false,
     "start_time": "2021-06-10T11:00:33.160752",
     "status": "completed"
    },
    "tags": []
   },
   "outputs": [
    {
     "data": {
      "text/html": [
       "<style  type=\"text/css\" >\n",
       "#T_227ec_row0_col1{\n",
       "            background-color:  #00441b;\n",
       "            color:  #f1f1f1;\n",
       "        }#T_227ec_row1_col1{\n",
       "            background-color:  #b1e0ab;\n",
       "            color:  #000000;\n",
       "        }#T_227ec_row2_col1{\n",
       "            background-color:  #e0f3db;\n",
       "            color:  #000000;\n",
       "        }#T_227ec_row3_col1{\n",
       "            background-color:  #f7fcf5;\n",
       "            color:  #000000;\n",
       "        }</style><table id=\"T_227ec_\" ><thead>    <tr>        <th class=\"blank level0\" ></th>        <th class=\"col_heading level0 col0\" >sentiment</th>        <th class=\"col_heading level0 col1\" >message</th>    </tr></thead><tbody>\n",
       "                <tr>\n",
       "                        <th id=\"T_227ec_level0_row0\" class=\"row_heading level0 row0\" >3</th>\n",
       "                        <td id=\"T_227ec_row0_col0\" class=\"data row0 col0\" >Positive</td>\n",
       "                        <td id=\"T_227ec_row0_col1\" class=\"data row0 col1\" >8530</td>\n",
       "            </tr>\n",
       "            <tr>\n",
       "                        <th id=\"T_227ec_level0_row1\" class=\"row_heading level0 row1\" >2</th>\n",
       "                        <td id=\"T_227ec_row1_col0\" class=\"data row1 col0\" >News</td>\n",
       "                        <td id=\"T_227ec_row1_col1\" class=\"data row1 col1\" >3640</td>\n",
       "            </tr>\n",
       "            <tr>\n",
       "                        <th id=\"T_227ec_level0_row2\" class=\"row_heading level0 row2\" >1</th>\n",
       "                        <td id=\"T_227ec_row2_col0\" class=\"data row2 col0\" >Neutral</td>\n",
       "                        <td id=\"T_227ec_row2_col1\" class=\"data row2 col1\" >2353</td>\n",
       "            </tr>\n",
       "            <tr>\n",
       "                        <th id=\"T_227ec_level0_row3\" class=\"row_heading level0 row3\" >0</th>\n",
       "                        <td id=\"T_227ec_row3_col0\" class=\"data row3 col0\" >Negative</td>\n",
       "                        <td id=\"T_227ec_row3_col1\" class=\"data row3 col1\" >1296</td>\n",
       "            </tr>\n",
       "    </tbody></table>"
      ],
      "text/plain": [
       "<pandas.io.formats.style.Styler at 0x7fe385dbaed0>"
      ]
     },
     "execution_count": 9,
     "metadata": {},
     "output_type": "execute_result"
    }
   ],
   "source": [
    "dist = copy_df.groupby('sentiment').count()['message'].reset_index().sort_values(by='message',ascending=False)\n",
    "dist.style.background_gradient(cmap='Greens')"
   ]
  },
  {
   "cell_type": "code",
   "execution_count": 10,
   "id": "uniform-maximum",
   "metadata": {
    "execution": {
     "iopub.execute_input": "2021-06-10T11:00:33.324253Z",
     "iopub.status.busy": "2021-06-10T11:00:33.323533Z",
     "iopub.status.idle": "2021-06-10T11:00:33.510408Z",
     "shell.execute_reply": "2021-06-10T11:00:33.509858Z",
     "shell.execute_reply.started": "2021-06-10T08:51:20.958395Z"
    },
    "papermill": {
     "duration": 0.233675,
     "end_time": "2021-06-10T11:00:33.510558",
     "exception": false,
     "start_time": "2021-06-10T11:00:33.276883",
     "status": "completed"
    },
    "tags": []
   },
   "outputs": [
    {
     "data": {
      "text/plain": [
       "<AxesSubplot:xlabel='sentiment', ylabel='count'>"
      ]
     },
     "execution_count": 10,
     "metadata": {},
     "output_type": "execute_result"
    },
    {
     "data": {
      "image/png": "[encoded data removed]",
      "text/plain": [
       "<Figure size 864x432 with 1 Axes>"
      ]
     },
     "metadata": {
      "needs_background": "light"
     },
     "output_type": "display_data"
    }
   ],
   "source": [
    "labels = []\n",
    "plt.figure(figsize=(12,6))\n",
    "sns.countplot(x='sentiment',data=copy_df)"
   ]
  },
  {
   "cell_type": "markdown",
   "id": "fresh-official",
   "metadata": {
    "papermill": {
     "duration": 0.031158,
     "end_time": "2021-06-10T11:00:33.573439",
     "exception": false,
     "start_time": "2021-06-10T11:00:33.542281",
     "status": "completed"
    },
    "tags": []
   },
   "source": [
    "- Funnel chart to get more insight from sentiments"
   ]
  },
  {
   "cell_type": "code",
   "execution_count": 11,
   "id": "enormous-submission",
   "metadata": {
    "execution": {
     "iopub.execute_input": "2021-06-10T11:00:33.641584Z",
     "iopub.status.busy": "2021-06-10T11:00:33.640896Z",
     "iopub.status.idle": "2021-06-10T11:00:33.750759Z",
     "shell.execute_reply": "2021-06-10T11:00:33.750107Z",
     "shell.execute_reply.started": "2021-06-10T08:51:29.450713Z"
    },
    "papermill": {
     "duration": 0.146097,
     "end_time": "2021-06-10T11:00:33.750900",
     "exception": false,
     "start_time": "2021-06-10T11:00:33.604803",
     "status": "completed"
    },
    "tags": []
   },
   "outputs": [
    {
     "data": {
      "text/html": [
       "        <script type=\"text/javascript\">\n",
       "        window.PlotlyConfig = {MathJaxConfig: 'local'};\n",
       "        if (window.MathJax) {MathJax.Hub.Config({SVG: {font: \"STIX-Web\"}});}\n",
       "        if (typeof require !== 'undefined') {\n",
       "        require.undef(\"plotly\");\n",
       "        requirejs.config({\n",
       "            paths: {\n",
       "                'plotly': ['https://cdn.plot.ly/plotly-latest.min']\n",
       "            }\n",
       "        });\n",
       "        require(['plotly'], function(Plotly) {\n",
       "            window._Plotly = Plotly;\n",
       "        });\n",
       "        }\n",
       "        </script>\n",
       "        "
      ]
     },
     "metadata": {},
     "output_type": "display_data"
    },
    {
     "data": {
      "text/html": [
       "<div>                            <div id=\"a6c91dcd-55a4-4286-bfaf-9ae84495a678\" class=\"plotly-graph-div\" style=\"height:525px; width:100%;\"></div>            <script type=\"text/javascript\">                require([\"plotly\"], function(Plotly) {                    window.PLOTLYENV=window.PLOTLYENV || {};                                    if (document.getElementById(\"a6c91dcd-55a4-4286-bfaf-9ae84495a678\")) {                    Plotly.newPlot(                        \"a6c91dcd-55a4-4286-bfaf-9ae84495a678\",                        [{\"text\": [\"Positive\", \"News\", \"Neutral\", \"Negative\"], \"title\": {\"position\": \"top center\", \"text\": \"Funnel-Chart of Sentiment Distribution\"}, \"type\": \"funnelarea\", \"values\": [8530, 3640, 2353, 1296]}],                        {\"template\": {\"data\": {\"bar\": [{\"error_x\": {\"color\": \"#2a3f5f\"}, \"error_y\": {\"color\": \"#2a3f5f\"}, \"marker\": {\"line\": {\"color\": \"#E5ECF6\", \"width\": 0.5}}, \"type\": \"bar\"}], \"barpolar\": [{\"marker\": {\"line\": {\"color\": \"#E5ECF6\", \"width\": 0.5}}, \"type\": \"barpolar\"}], \"carpet\": [{\"aaxis\": {\"endlinecolor\": \"#2a3f5f\", \"gridcolor\": \"white\", \"linecolor\": \"white\", \"minorgridcolor\": \"white\", \"startlinecolor\": \"#2a3f5f\"}, \"baxis\": {\"endlinecolor\": \"#2a3f5f\", \"gridcolor\": \"white\", \"linecolor\": \"white\", \"minorgridcolor\": \"white\", \"startlinecolor\": \"#2a3f5f\"}, \"type\": \"carpet\"}], \"choropleth\": [{\"colorbar\": {\"outlinewidth\": 0, \"ticks\": \"\"}, \"type\": \"choropleth\"}], \"contour\": [{\"colorbar\": {\"outlinewidth\": 0, \"ticks\": \"\"}, \"colorscale\": [[0.0, \"#0d0887\"], [0.1111111111111111, \"#46039f\"], [0.2222222222222222, \"#7201a8\"], [0.3333333333333333, \"#9c179e\"], [0.4444444444444444, \"#bd3786\"], [0.5555555555555556, \"#d8576b\"], [0.6666666666666666, \"#ed7953\"], [0.7777777777777778, \"#fb9f3a\"], [0.8888888888888888, \"#fdca26\"], [1.0, \"#f0f921\"]], \"type\": \"contour\"}], \"contourcarpet\": [{\"colorbar\": {\"outlinewidth\": 0, \"ticks\": \"\"}, \"type\": \"contourcarpet\"}], \"heatmap\": [{\"colorbar\": {\"outlinewidth\": 0, \"ticks\": \"\"}, \"colorscale\": [[0.0, \"#0d0887\"], [0.1111111111111111, \"#46039f\"], [0.2222222222222222, \"#7201a8\"], [0.3333333333333333, \"#9c179e\"], [0.4444444444444444, \"#bd3786\"], [0.5555555555555556, \"#d8576b\"], [0.6666666666666666, \"#ed7953\"], [0.7777777777777778, \"#fb9f3a\"], [0.8888888888888888, \"#fdca26\"], [1.0, \"#f0f921\"]], \"type\": \"heatmap\"}], \"heatmapgl\": [{\"colorbar\": {\"outlinewidth\": 0, \"ticks\": \"\"}, \"colorscale\": [[0.0, \"#0d0887\"], [0.1111111111111111, \"#46039f\"], [0.2222222222222222, \"#7201a8\"], [0.3333333333333333, \"#9c179e\"], [0.4444444444444444, \"#bd3786\"], [0.5555555555555556, \"#d8576b\"], [0.6666666666666666, \"#ed7953\"], [0.7777777777777778, \"#fb9f3a\"], [0.8888888888888888, \"#fdca26\"], [1.0, \"#f0f921\"]], \"type\": \"heatmapgl\"}], \"histogram\": [{\"marker\": {\"colorbar\": {\"outlinewidth\": 0, \"ticks\": \"\"}}, \"type\": \"histogram\"}], \"histogram2d\": [{\"colorbar\": {\"outlinewidth\": 0, \"ticks\": \"\"}, \"colorscale\": [[0.0, \"#0d0887\"], [0.1111111111111111, \"#46039f\"], [0.2222222222222222, \"#7201a8\"], [0.3333333333333333, \"#9c179e\"], [0.4444444444444444, \"#bd3786\"], [0.5555555555555556, \"#d8576b\"], [0.6666666666666666, \"#ed7953\"], [0.7777777777777778, \"#fb9f3a\"], [0.8888888888888888, \"#fdca26\"], [1.0, \"#f0f921\"]], \"type\": \"histogram2d\"}], \"histogram2dcontour\": [{\"colorbar\": {\"outlinewidth\": 0, \"ticks\": \"\"}, \"colorscale\": [[0.0, \"#0d0887\"], [0.1111111111111111, \"#46039f\"], [0.2222222222222222, \"#7201a8\"], [0.3333333333333333, \"#9c179e\"], [0.4444444444444444, \"#bd3786\"], [0.5555555555555556, \"#d8576b\"], [0.6666666666666666, \"#ed7953\"], [0.7777777777777778, \"#fb9f3a\"], [0.8888888888888888, \"#fdca26\"], [1.0, \"#f0f921\"]], \"type\": \"histogram2dcontour\"}], \"mesh3d\": [{\"colorbar\": {\"outlinewidth\": 0, \"ticks\": \"\"}, \"type\": \"mesh3d\"}], \"parcoords\": [{\"line\": {\"colorbar\": {\"outlinewidth\": 0, \"ticks\": \"\"}}, \"type\": \"parcoords\"}], \"pie\": [{\"automargin\": true, \"type\": \"pie\"}], \"scatter\": [{\"marker\": {\"colorbar\": {\"outlinewidth\": 0, \"ticks\": \"\"}}, \"type\": \"scatter\"}], \"scatter3d\": [{\"line\": {\"colorbar\": {\"outlinewidth\": 0, \"ticks\": \"\"}}, \"marker\": {\"colorbar\": {\"outlinewidth\": 0, \"ticks\": \"\"}}, \"type\": \"scatter3d\"}], \"scattercarpet\": [{\"marker\": {\"colorbar\": {\"outlinewidth\": 0, \"ticks\": \"\"}}, \"type\": \"scattercarpet\"}], \"scattergeo\": [{\"marker\": {\"colorbar\": {\"outlinewidth\": 0, \"ticks\": \"\"}}, \"type\": \"scattergeo\"}], \"scattergl\": [{\"marker\": {\"colorbar\": {\"outlinewidth\": 0, \"ticks\": \"\"}}, \"type\": \"scattergl\"}], \"scattermapbox\": [{\"marker\": {\"colorbar\": {\"outlinewidth\": 0, \"ticks\": \"\"}}, \"type\": \"scattermapbox\"}], \"scatterpolar\": [{\"marker\": {\"colorbar\": {\"outlinewidth\": 0, \"ticks\": \"\"}}, \"type\": \"scatterpolar\"}], \"scatterpolargl\": [{\"marker\": {\"colorbar\": {\"outlinewidth\": 0, \"ticks\": \"\"}}, \"type\": \"scatterpolargl\"}], \"scatterternary\": [{\"marker\": {\"colorbar\": {\"outlinewidth\": 0, \"ticks\": \"\"}}, \"type\": \"scatterternary\"}], \"surface\": [{\"colorbar\": {\"outlinewidth\": 0, \"ticks\": \"\"}, \"colorscale\": [[0.0, \"#0d0887\"], [0.1111111111111111, \"#46039f\"], [0.2222222222222222, \"#7201a8\"], [0.3333333333333333, \"#9c179e\"], [0.4444444444444444, \"#bd3786\"], [0.5555555555555556, \"#d8576b\"], [0.6666666666666666, \"#ed7953\"], [0.7777777777777778, \"#fb9f3a\"], [0.8888888888888888, \"#fdca26\"], [1.0, \"#f0f921\"]], \"type\": \"surface\"}], \"table\": [{\"cells\": {\"fill\": {\"color\": \"#EBF0F8\"}, \"line\": {\"color\": \"white\"}}, \"header\": {\"fill\": {\"color\": \"#C8D4E3\"}, \"line\": {\"color\": \"white\"}}, \"type\": \"table\"}]}, \"layout\": {\"annotationdefaults\": {\"arrowcolor\": \"#2a3f5f\", \"arrowhead\": 0, \"arrowwidth\": 1}, \"autotypenumbers\": \"strict\", \"coloraxis\": {\"colorbar\": {\"outlinewidth\": 0, \"ticks\": \"\"}}, \"colorscale\": {\"diverging\": [[0, \"#8e0152\"], [0.1, \"#c51b7d\"], [0.2, \"#de77ae\"], [0.3, \"#f1b6da\"], [0.4, \"#fde0ef\"], [0.5, \"#f7f7f7\"], [0.6, \"#e6f5d0\"], [0.7, \"#b8e186\"], [0.8, \"#7fbc41\"], [0.9, \"#4d9221\"], [1, \"#276419\"]], \"sequential\": [[0.0, \"#0d0887\"], [0.1111111111111111, \"#46039f\"], [0.2222222222222222, \"#7201a8\"], [0.3333333333333333, \"#9c179e\"], [0.4444444444444444, \"#bd3786\"], [0.5555555555555556, \"#d8576b\"], [0.6666666666666666, \"#ed7953\"], [0.7777777777777778, \"#fb9f3a\"], [0.8888888888888888, \"#fdca26\"], [1.0, \"#f0f921\"]], \"sequentialminus\": [[0.0, \"#0d0887\"], [0.1111111111111111, \"#46039f\"], [0.2222222222222222, \"#7201a8\"], [0.3333333333333333, \"#9c179e\"], [0.4444444444444444, \"#bd3786\"], [0.5555555555555556, \"#d8576b\"], [0.6666666666666666, \"#ed7953\"], [0.7777777777777778, \"#fb9f3a\"], [0.8888888888888888, \"#fdca26\"], [1.0, \"#f0f921\"]]}, \"colorway\": [\"#636efa\", \"#EF553B\", \"#00cc96\", \"#ab63fa\", \"#FFA15A\", \"#19d3f3\", \"#FF6692\", \"#B6E880\", \"#FF97FF\", \"#FECB52\"], \"font\": {\"color\": \"#2a3f5f\"}, \"geo\": {\"bgcolor\": \"white\", \"lakecolor\": \"white\", \"landcolor\": \"#E5ECF6\", \"showlakes\": true, \"showland\": true, \"subunitcolor\": \"white\"}, \"hoverlabel\": {\"align\": \"left\"}, \"hovermode\": \"closest\", \"mapbox\": {\"style\": \"light\"}, \"paper_bgcolor\": \"white\", \"plot_bgcolor\": \"#E5ECF6\", \"polar\": {\"angularaxis\": {\"gridcolor\": \"white\", \"linecolor\": \"white\", \"ticks\": \"\"}, \"bgcolor\": \"#E5ECF6\", \"radialaxis\": {\"gridcolor\": \"white\", \"linecolor\": \"white\", \"ticks\": \"\"}}, \"scene\": {\"xaxis\": {\"backgroundcolor\": \"#E5ECF6\", \"gridcolor\": \"white\", \"gridwidth\": 2, \"linecolor\": \"white\", \"showbackground\": true, \"ticks\": \"\", \"zerolinecolor\": \"white\"}, \"yaxis\": {\"backgroundcolor\": \"#E5ECF6\", \"gridcolor\": \"white\", \"gridwidth\": 2, \"linecolor\": \"white\", \"showbackground\": true, \"ticks\": \"\", \"zerolinecolor\": \"white\"}, \"zaxis\": {\"backgroundcolor\": \"#E5ECF6\", \"gridcolor\": \"white\", \"gridwidth\": 2, \"linecolor\": \"white\", \"showbackground\": true, \"ticks\": \"\", \"zerolinecolor\": \"white\"}}, \"shapedefaults\": {\"line\": {\"color\": \"#2a3f5f\"}}, \"ternary\": {\"aaxis\": {\"gridcolor\": \"white\", \"linecolor\": \"white\", \"ticks\": \"\"}, \"baxis\": {\"gridcolor\": \"white\", \"linecolor\": \"white\", \"ticks\": \"\"}, \"bgcolor\": \"#E5ECF6\", \"caxis\": {\"gridcolor\": \"white\", \"linecolor\": \"white\", \"ticks\": \"\"}}, \"title\": {\"x\": 0.05}, \"xaxis\": {\"automargin\": true, \"gridcolor\": \"white\", \"linecolor\": \"white\", \"ticks\": \"\", \"title\": {\"standoff\": 15}, \"zerolinecolor\": \"white\", \"zerolinewidth\": 2}, \"yaxis\": {\"automargin\": true, \"gridcolor\": \"white\", \"linecolor\": \"white\", \"ticks\": \"\", \"title\": {\"standoff\": 15}, \"zerolinecolor\": \"white\", \"zerolinewidth\": 2}}}},                        {\"responsive\": true}                    ).then(function(){\n",
       "                            \n",
       "var gd = document.getElementById('a6c91dcd-55a4-4286-bfaf-9ae84495a678');\n",
       "var x = new MutationObserver(function (mutations, observer) {{\n",
       "        var display = window.getComputedStyle(gd).display;\n",
       "        if (!display || display === 'none') {{\n",
       "            console.log([gd, 'removed!']);\n",
       "            Plotly.purge(gd);\n",
       "            observer.disconnect();\n",
       "        }}\n",
       "}});\n",
       "\n",
       "// Listen for the removal of the full notebook cells\n",
       "var notebookContainer = gd.closest('#notebook-container');\n",
       "if (notebookContainer) {{\n",
       "    x.observe(notebookContainer, {childList: true});\n",
       "}}\n",
       "\n",
       "// Listen for the clearing of the current output cell\n",
       "var outputEl = gd.closest('.output');\n",
       "if (outputEl) {{\n",
       "    x.observe(outputEl, {childList: true});\n",
       "}}\n",
       "\n",
       "                        })                };                });            </script>        </div>"
      ]
     },
     "metadata": {},
     "output_type": "display_data"
    }
   ],
   "source": [
    "fig = go.Figure(go.Funnelarea(\n",
    "    text =dist.sentiment,\n",
    "    values = dist.message,\n",
    "    title = {\"position\": \"top center\", \"text\": \"Funnel-Chart of Sentiment Distribution\"}\n",
    "    ))\n",
    "fig.show()"
   ]
  },
  {
   "cell_type": "markdown",
   "id": "accomplished-patent",
   "metadata": {
    "papermill": {
     "duration": 0.033422,
     "end_time": "2021-06-10T11:00:33.817700",
     "exception": false,
     "start_time": "2021-06-10T11:00:33.784278",
     "status": "completed"
    },
    "tags": []
   },
   "source": [
    "- checking average length of each sentiment catergory"
   ]
  },
  {
   "cell_type": "code",
   "execution_count": 12,
   "id": "cosmetic-jamaica",
   "metadata": {
    "execution": {
     "iopub.execute_input": "2021-06-10T11:00:33.907815Z",
     "iopub.status.busy": "2021-06-10T11:00:33.907160Z",
     "iopub.status.idle": "2021-06-10T11:00:34.330572Z",
     "shell.execute_reply": "2021-06-10T11:00:34.331114Z",
     "shell.execute_reply.started": "2021-06-10T09:31:16.088029Z"
    },
    "papermill": {
     "duration": 0.480759,
     "end_time": "2021-06-10T11:00:34.331303",
     "exception": false,
     "start_time": "2021-06-10T11:00:33.850544",
     "status": "completed"
    },
    "tags": []
   },
   "outputs": [
    {
     "data": {
      "image/png": "[encoded data removed]",
      "text/plain": [
       "<Figure size 864x432 with 1 Axes>"
      ]
     },
     "metadata": {
      "needs_background": "light"
     },
     "output_type": "display_data"
    }
   ],
   "source": [
    "plt.figure(figsize=(12,6))\n",
    "sns.barplot(x='sentiment', y=copy_df['message'].apply(len) ,data = copy_df, palette='PRGn')\n",
    "plt.ylabel('avg_Length')\n",
    "plt.xlabel('Sentiment')\n",
    "plt.title('Average Length of Message by Sentiment')\n",
    "plt.show()"
   ]
  },
  {
   "cell_type": "code",
   "execution_count": null,
   "id": "undefined-connection",
   "metadata": {
    "papermill": {
     "duration": 0.033457,
     "end_time": "2021-06-10T11:00:34.408250",
     "exception": false,
     "start_time": "2021-06-10T11:00:34.374793",
     "status": "completed"
    },
    "tags": []
   },
   "outputs": [],
   "source": []
  },
  {
   "cell_type": "markdown",
   "id": "original-leadership",
   "metadata": {
    "papermill": {
     "duration": 0.033644,
     "end_time": "2021-06-10T11:00:34.475785",
     "exception": false,
     "start_time": "2021-06-10T11:00:34.442141",
     "status": "completed"
    },
    "tags": []
   },
   "source": [
    "## Data cleaning"
   ]
  },
  {
   "cell_type": "code",
   "execution_count": 13,
   "id": "boring-conspiracy",
   "metadata": {
    "execution": {
     "iopub.execute_input": "2021-06-10T11:00:34.546048Z",
     "iopub.status.busy": "2021-06-10T11:00:34.545402Z",
     "iopub.status.idle": "2021-06-10T11:00:34.551373Z",
     "shell.execute_reply": "2021-06-10T11:00:34.551952Z",
     "shell.execute_reply.started": "2021-06-10T10:06:09.742641Z"
    },
    "papermill": {
     "duration": 0.042721,
     "end_time": "2021-06-10T11:00:34.552133",
     "exception": false,
     "start_time": "2021-06-10T11:00:34.509412",
     "status": "completed"
    },
    "tags": []
   },
   "outputs": [],
   "source": [
    "# function that takes a tweet message and a character e.g @ and remove the character from the sentence\n",
    "# Returns the sentence without the character\n",
    "# Define the function to remove the punctuation\n",
    "def remove_punctuations(msg):\n",
    "    msg = str(msg).lower()\n",
    "    msg = re.sub('\\[.*?\\]', '', msg)\n",
    "    msg = re.sub('https?://\\S+|www\\.\\S+', '', msg)\n",
    "    msg = re.sub('<.*?>+', '', msg)\n",
    "    msg = re.sub('[%s]' % re.escape(string.punctuation), '', msg)\n",
    "    msg = re.sub('\\n', '', msg)\n",
    "    msg = re.sub('\\w*\\d\\w*', '', msg)\n",
    "    msg = re.sub('rt','',msg)\n",
    "    return msg\n",
    "\n"
   ]
  },
  {
   "cell_type": "code",
   "execution_count": 14,
   "id": "norman-reservoir",
   "metadata": {
    "execution": {
     "iopub.execute_input": "2021-06-10T11:00:34.622452Z",
     "iopub.status.busy": "2021-06-10T11:00:34.621808Z",
     "iopub.status.idle": "2021-06-10T11:00:35.389076Z",
     "shell.execute_reply": "2021-06-10T11:00:35.388547Z",
     "shell.execute_reply.started": "2021-06-10T10:06:15.557449Z"
    },
    "papermill": {
     "duration": 0.803834,
     "end_time": "2021-06-10T11:00:35.389220",
     "exception": false,
     "start_time": "2021-06-10T11:00:34.585386",
     "status": "completed"
    },
    "tags": []
   },
   "outputs": [
    {
     "data": {
      "text/html": [
       "<div>\n",
       "<style scoped>\n",
       "    .dataframe tbody tr th:only-of-type {\n",
       "        vertical-align: middle;\n",
       "    }\n",
       "\n",
       "    .dataframe tbody tr th {\n",
       "        vertical-align: top;\n",
       "    }\n",
       "\n",
       "    .dataframe thead th {\n",
       "        text-align: right;\n",
       "    }\n",
       "</style>\n",
       "<table border=\"1\" class=\"dataframe\">\n",
       "  <thead>\n",
       "    <tr style=\"text-align: right;\">\n",
       "      <th></th>\n",
       "      <th>sentiment</th>\n",
       "      <th>message</th>\n",
       "      <th>tweetid</th>\n",
       "      <th>clean_message</th>\n",
       "    </tr>\n",
       "  </thead>\n",
       "  <tbody>\n",
       "    <tr>\n",
       "      <th>0</th>\n",
       "      <td>1</td>\n",
       "      <td>PolySciMajor EPA chief doesn't think carbon di...</td>\n",
       "      <td>625221</td>\n",
       "      <td>polyscimajor epa chief doesnt think carbon dio...</td>\n",
       "    </tr>\n",
       "    <tr>\n",
       "      <th>1</th>\n",
       "      <td>1</td>\n",
       "      <td>It's not like we lack evidence of anthropogeni...</td>\n",
       "      <td>126103</td>\n",
       "      <td>its not like we lack evidence of anthropogenic...</td>\n",
       "    </tr>\n",
       "    <tr>\n",
       "      <th>2</th>\n",
       "      <td>2</td>\n",
       "      <td>RT @RawStory: Researchers say we have three ye...</td>\n",
       "      <td>698562</td>\n",
       "      <td>rawstory researchers say we have three years ...</td>\n",
       "    </tr>\n",
       "    <tr>\n",
       "      <th>3</th>\n",
       "      <td>1</td>\n",
       "      <td>#TodayinMaker# WIRED : 2016 was a pivotal year...</td>\n",
       "      <td>573736</td>\n",
       "      <td>todayinmaker wired   was a pivotal year in the...</td>\n",
       "    </tr>\n",
       "    <tr>\n",
       "      <th>4</th>\n",
       "      <td>1</td>\n",
       "      <td>RT @SoyNovioDeTodas: It's 2016, and a racist, ...</td>\n",
       "      <td>466954</td>\n",
       "      <td>soynoviodetodas its  and a racist sexist clim...</td>\n",
       "    </tr>\n",
       "  </tbody>\n",
       "</table>\n",
       "</div>"
      ],
      "text/plain": [
       "   sentiment                                            message  tweetid  \\\n",
       "0          1  PolySciMajor EPA chief doesn't think carbon di...   625221   \n",
       "1          1  It's not like we lack evidence of anthropogeni...   126103   \n",
       "2          2  RT @RawStory: Researchers say we have three ye...   698562   \n",
       "3          1  #TodayinMaker# WIRED : 2016 was a pivotal year...   573736   \n",
       "4          1  RT @SoyNovioDeTodas: It's 2016, and a racist, ...   466954   \n",
       "\n",
       "                                       clean_message  \n",
       "0  polyscimajor epa chief doesnt think carbon dio...  \n",
       "1  its not like we lack evidence of anthropogenic...  \n",
       "2   rawstory researchers say we have three years ...  \n",
       "3  todayinmaker wired   was a pivotal year in the...  \n",
       "4   soynoviodetodas its  and a racist sexist clim...  "
      ]
     },
     "execution_count": 14,
     "metadata": {},
     "output_type": "execute_result"
    }
   ],
   "source": [
    "train_df['clean_message'] = train_df['message'].apply(lambda x:remove_punctuations(x))\n",
    "train_df.head()"
   ]
  },
  {
   "cell_type": "markdown",
   "id": "equal-shelf",
   "metadata": {
    "papermill": {
     "duration": 0.033605,
     "end_time": "2021-06-10T11:00:35.456786",
     "exception": false,
     "start_time": "2021-06-10T11:00:35.423181",
     "status": "completed"
    },
    "tags": []
   },
   "source": [
    "### Removing Stop Words"
   ]
  },
  {
   "cell_type": "code",
   "execution_count": 15,
   "id": "graduate-copyright",
   "metadata": {
    "execution": {
     "iopub.execute_input": "2021-06-10T11:00:35.545764Z",
     "iopub.status.busy": "2021-06-10T11:00:35.530214Z",
     "iopub.status.idle": "2021-06-10T11:00:35.601071Z",
     "shell.execute_reply": "2021-06-10T11:00:35.600483Z",
     "shell.execute_reply.started": "2021-06-10T10:51:15.561935Z"
    },
    "papermill": {
     "duration": 0.110652,
     "end_time": "2021-06-10T11:00:35.601225",
     "exception": false,
     "start_time": "2021-06-10T11:00:35.490573",
     "status": "completed"
    },
    "tags": []
   },
   "outputs": [],
   "source": [
    "train_df['clean_message'] = train_df['clean_message'].apply(lambda x: ' '.join([a for a in x.split() if len(a)>3]))"
   ]
  },
  {
   "cell_type": "code",
   "execution_count": 16,
   "id": "chief-fortune",
   "metadata": {
    "execution": {
     "iopub.execute_input": "2021-06-10T11:00:35.681209Z",
     "iopub.status.busy": "2021-06-10T11:00:35.680293Z",
     "iopub.status.idle": "2021-06-10T11:00:35.684627Z",
     "shell.execute_reply": "2021-06-10T11:00:35.684130Z",
     "shell.execute_reply.started": "2021-06-10T10:51:25.785930Z"
    },
    "papermill": {
     "duration": 0.04897,
     "end_time": "2021-06-10T11:00:35.684762",
     "exception": false,
     "start_time": "2021-06-10T11:00:35.635792",
     "status": "completed"
    },
    "tags": []
   },
   "outputs": [
    {
     "data": {
      "text/html": [
       "<div>\n",
       "<style scoped>\n",
       "    .dataframe tbody tr th:only-of-type {\n",
       "        vertical-align: middle;\n",
       "    }\n",
       "\n",
       "    .dataframe tbody tr th {\n",
       "        vertical-align: top;\n",
       "    }\n",
       "\n",
       "    .dataframe thead th {\n",
       "        text-align: right;\n",
       "    }\n",
       "</style>\n",
       "<table border=\"1\" class=\"dataframe\">\n",
       "  <thead>\n",
       "    <tr style=\"text-align: right;\">\n",
       "      <th></th>\n",
       "      <th>sentiment</th>\n",
       "      <th>message</th>\n",
       "      <th>tweetid</th>\n",
       "      <th>clean_message</th>\n",
       "    </tr>\n",
       "  </thead>\n",
       "  <tbody>\n",
       "    <tr>\n",
       "      <th>0</th>\n",
       "      <td>1</td>\n",
       "      <td>PolySciMajor EPA chief doesn't think carbon di...</td>\n",
       "      <td>625221</td>\n",
       "      <td>polyscimajor chief doesnt think carbon dioxide...</td>\n",
       "    </tr>\n",
       "    <tr>\n",
       "      <th>1</th>\n",
       "      <td>1</td>\n",
       "      <td>It's not like we lack evidence of anthropogeni...</td>\n",
       "      <td>126103</td>\n",
       "      <td>like lack evidence anthropogenic global warming</td>\n",
       "    </tr>\n",
       "    <tr>\n",
       "      <th>2</th>\n",
       "      <td>2</td>\n",
       "      <td>RT @RawStory: Researchers say we have three ye...</td>\n",
       "      <td>698562</td>\n",
       "      <td>rawstory researchers have three years climate ...</td>\n",
       "    </tr>\n",
       "    <tr>\n",
       "      <th>3</th>\n",
       "      <td>1</td>\n",
       "      <td>#TodayinMaker# WIRED : 2016 was a pivotal year...</td>\n",
       "      <td>573736</td>\n",
       "      <td>todayinmaker wired pivotal year climate change</td>\n",
       "    </tr>\n",
       "    <tr>\n",
       "      <th>4</th>\n",
       "      <td>1</td>\n",
       "      <td>RT @SoyNovioDeTodas: It's 2016, and a racist, ...</td>\n",
       "      <td>466954</td>\n",
       "      <td>soynoviodetodas racist sexist climate change d...</td>\n",
       "    </tr>\n",
       "  </tbody>\n",
       "</table>\n",
       "</div>"
      ],
      "text/plain": [
       "   sentiment                                            message  tweetid  \\\n",
       "0          1  PolySciMajor EPA chief doesn't think carbon di...   625221   \n",
       "1          1  It's not like we lack evidence of anthropogeni...   126103   \n",
       "2          2  RT @RawStory: Researchers say we have three ye...   698562   \n",
       "3          1  #TodayinMaker# WIRED : 2016 was a pivotal year...   573736   \n",
       "4          1  RT @SoyNovioDeTodas: It's 2016, and a racist, ...   466954   \n",
       "\n",
       "                                       clean_message  \n",
       "0  polyscimajor chief doesnt think carbon dioxide...  \n",
       "1    like lack evidence anthropogenic global warming  \n",
       "2  rawstory researchers have three years climate ...  \n",
       "3     todayinmaker wired pivotal year climate change  \n",
       "4  soynoviodetodas racist sexist climate change d...  "
      ]
     },
     "execution_count": 16,
     "metadata": {},
     "output_type": "execute_result"
    }
   ],
   "source": [
    "train_df.head()"
   ]
  },
  {
   "cell_type": "code",
   "execution_count": 17,
   "id": "living-copper",
   "metadata": {
    "execution": {
     "iopub.execute_input": "2021-06-10T11:00:35.772367Z",
     "iopub.status.busy": "2021-06-10T11:00:35.767126Z",
     "iopub.status.idle": "2021-06-10T11:00:36.106088Z",
     "shell.execute_reply": "2021-06-10T11:00:36.105529Z",
     "shell.execute_reply.started": "2021-06-10T10:56:19.310705Z"
    },
    "papermill": {
     "duration": 0.386982,
     "end_time": "2021-06-10T11:00:36.106231",
     "exception": false,
     "start_time": "2021-06-10T11:00:35.719249",
     "status": "completed"
    },
    "tags": []
   },
   "outputs": [],
   "source": [
    " train = train_df['clean_message']\n",
    "\n",
    "vectorizer = CountVectorizer()\n",
    "count_vectorized = vectorizer.fit_transform(train)"
   ]
  },
  {
   "cell_type": "code",
   "execution_count": 18,
   "id": "electoral-vegetable",
   "metadata": {
    "execution": {
     "iopub.execute_input": "2021-06-10T11:00:36.220903Z",
     "iopub.status.busy": "2021-06-10T11:00:36.215757Z",
     "iopub.status.idle": "2021-06-10T11:00:36.542319Z",
     "shell.execute_reply": "2021-06-10T11:00:36.541725Z",
     "shell.execute_reply.started": "2021-06-10T10:56:55.871286Z"
    },
    "papermill": {
     "duration": 0.401215,
     "end_time": "2021-06-10T11:00:36.542489",
     "exception": false,
     "start_time": "2021-06-10T11:00:36.141274",
     "status": "completed"
    },
    "tags": []
   },
   "outputs": [],
   "source": [
    "# Converting the collection of clean messages to a matrix of TF-IDF features\n",
    "data = train_df['clean_message']\n",
    "\n",
    "vectorizer=TfidfVectorizer(use_idf=True, max_df=0.95)\n",
    "vectorized = vectorizer.fit_transform(data)"
   ]
  },
  {
   "cell_type": "code",
   "execution_count": 19,
   "id": "official-working",
   "metadata": {
    "execution": {
     "iopub.execute_input": "2021-06-10T11:00:36.617259Z",
     "iopub.status.busy": "2021-06-10T11:00:36.616582Z",
     "iopub.status.idle": "2021-06-10T11:00:36.632458Z",
     "shell.execute_reply": "2021-06-10T11:00:36.632930Z",
     "shell.execute_reply.started": "2021-06-10T10:57:58.617905Z"
    },
    "papermill": {
     "duration": 0.055563,
     "end_time": "2021-06-10T11:00:36.633139",
     "exception": false,
     "start_time": "2021-06-10T11:00:36.577576",
     "status": "completed"
    },
    "tags": []
   },
   "outputs": [],
   "source": [
    "import scipy.sparse\n",
    "\n",
    "# Defining the features as well as the label\n",
    "X = scipy.sparse.hstack([vectorized, count_vectorized])\n",
    "y = train_df['sentiment']"
   ]
  },
  {
   "cell_type": "code",
   "execution_count": 20,
   "id": "differential-concert",
   "metadata": {
    "execution": {
     "iopub.execute_input": "2021-06-10T11:00:36.707714Z",
     "iopub.status.busy": "2021-06-10T11:00:36.707045Z",
     "iopub.status.idle": "2021-06-10T11:00:36.725774Z",
     "shell.execute_reply": "2021-06-10T11:00:36.725189Z",
     "shell.execute_reply.started": "2021-06-10T10:58:17.717335Z"
    },
    "papermill": {
     "duration": 0.058423,
     "end_time": "2021-06-10T11:00:36.725907",
     "exception": false,
     "start_time": "2021-06-10T11:00:36.667484",
     "status": "completed"
    },
    "tags": []
   },
   "outputs": [],
   "source": [
    "from sklearn.model_selection import train_test_split\n",
    "\n",
    "# Splitting the previously defined features and label of your dataset\n",
    "X_train, X_test, y_train, y_test = train_test_split(X, y, test_size=0.33, random_state=42)"
   ]
  },
  {
   "cell_type": "code",
   "execution_count": 21,
   "id": "hispanic-language",
   "metadata": {
    "execution": {
     "iopub.execute_input": "2021-06-10T11:00:36.800963Z",
     "iopub.status.busy": "2021-06-10T11:00:36.800234Z",
     "iopub.status.idle": "2021-06-10T11:00:36.803670Z",
     "shell.execute_reply": "2021-06-10T11:00:36.803030Z",
     "shell.execute_reply.started": "2021-06-10T10:58:47.505157Z"
    },
    "papermill": {
     "duration": 0.04344,
     "end_time": "2021-06-10T11:00:36.803809",
     "exception": false,
     "start_time": "2021-06-10T11:00:36.760369",
     "status": "completed"
    },
    "tags": []
   },
   "outputs": [],
   "source": [
    "# Creating a list of all the models to train\n",
    "algs = [LogisticRegression(random_state = 5), SVC(kernel = 'linear', random_state = 5), SVC(kernel = 'rbf', random_state = 5)\n",
    "        ,MultinomialNB(), KNeighborsClassifier(), DecisionTreeClassifier(max_depth=6),RandomForestClassifier()]"
   ]
  },
  {
   "cell_type": "code",
   "execution_count": 22,
   "id": "respected-corrections",
   "metadata": {
    "execution": {
     "iopub.execute_input": "2021-06-10T11:00:36.881409Z",
     "iopub.status.busy": "2021-06-10T11:00:36.880659Z",
     "iopub.status.idle": "2021-06-10T11:02:45.895936Z",
     "shell.execute_reply": "2021-06-10T11:02:45.896444Z"
    },
    "papermill": {
     "duration": 129.05744,
     "end_time": "2021-06-10T11:02:45.896636",
     "exception": false,
     "start_time": "2021-06-10T11:00:36.839196",
     "status": "completed"
    },
    "tags": []
   },
   "outputs": [
    {
     "name": "stderr",
     "output_type": "stream",
     "text": [
      "/opt/conda/lib/python3.7/site-packages/sklearn/linear_model/_logistic.py:765: ConvergenceWarning:\n",
      "\n",
      "lbfgs failed to converge (status=1):\n",
      "STOP: TOTAL NO. of ITERATIONS REACHED LIMIT.\n",
      "\n",
      "Increase the number of iterations (max_iter) or scale the data as shown in:\n",
      "    https://scikit-learn.org/stable/modules/preprocessing.html\n",
      "Please also refer to the documentation for alternative solver options:\n",
      "    https://scikit-learn.org/stable/modules/linear_model.html#logistic-regression\n",
      "\n"
     ]
    },
    {
     "name": "stdout",
     "output_type": "stream",
     "text": [
      "LogisticRegression(random_state=5)\n",
      "[[ 178   65  166   19]\n",
      " [  27  314  327   69]\n",
      " [  31  162 2428  240]\n",
      " [   6   33  279  877]]\n",
      "              precision    recall  f1-score   support\n",
      "\n",
      "          -1       0.74      0.42      0.53       428\n",
      "           0       0.55      0.43      0.48       737\n",
      "           1       0.76      0.85      0.80      2861\n",
      "           2       0.73      0.73      0.73      1195\n",
      "\n",
      "    accuracy                           0.73      5221\n",
      "   macro avg       0.69      0.61      0.64      5221\n",
      "weighted avg       0.72      0.73      0.72      5221\n",
      "\n",
      "F1_score:  0.717\n",
      "-------------------------------------------------------\n",
      "SVC(kernel='linear', random_state=5)\n",
      "[[ 200   69  142   17]\n",
      " [  54  369  248   66]\n",
      " [  90  267 2237  267]\n",
      " [  16   72  243  864]]\n",
      "              precision    recall  f1-score   support\n",
      "\n",
      "          -1       0.56      0.47      0.51       428\n",
      "           0       0.47      0.50      0.49       737\n",
      "           1       0.78      0.78      0.78      2861\n",
      "           2       0.71      0.72      0.72      1195\n",
      "\n",
      "    accuracy                           0.70      5221\n",
      "   macro avg       0.63      0.62      0.62      5221\n",
      "weighted avg       0.70      0.70      0.70      5221\n",
      "\n",
      "F1_score:  0.702\n",
      "-------------------------------------------------------\n",
      "SVC(random_state=5)\n",
      "[[  82   35  300   11]\n",
      " [   2  198  497   40]\n",
      " [   0   55 2657  149]\n",
      " [   3   20  370  802]]\n",
      "              precision    recall  f1-score   support\n",
      "\n",
      "          -1       0.94      0.19      0.32       428\n",
      "           0       0.64      0.27      0.38       737\n",
      "           1       0.69      0.93      0.79      2861\n",
      "           2       0.80      0.67      0.73      1195\n",
      "\n",
      "    accuracy                           0.72      5221\n",
      "   macro avg       0.77      0.52      0.56      5221\n",
      "weighted avg       0.73      0.72      0.68      5221\n",
      "\n",
      "F1_score:  0.682\n",
      "-------------------------------------------------------\n",
      "MultinomialNB()\n",
      "[[  73   25  306   24]\n",
      " [  11  191  460   75]\n",
      " [   8   53 2594  206]\n",
      " [   1   12  401  781]]\n",
      "              precision    recall  f1-score   support\n",
      "\n",
      "          -1       0.78      0.17      0.28       428\n",
      "           0       0.68      0.26      0.38       737\n",
      "           1       0.69      0.91      0.78      2861\n",
      "           2       0.72      0.65      0.68      1195\n",
      "\n",
      "    accuracy                           0.70      5221\n",
      "   macro avg       0.72      0.50      0.53      5221\n",
      "weighted avg       0.70      0.70      0.66      5221\n",
      "\n",
      "F1_score:  0.662\n",
      "-------------------------------------------------------\n",
      "KNeighborsClassifier()\n",
      "[[  51  210  159    8]\n",
      " [  11  425  276   25]\n",
      " [  46  798 1895  122]\n",
      " [   5  306  480  404]]\n",
      "              precision    recall  f1-score   support\n",
      "\n",
      "          -1       0.45      0.12      0.19       428\n",
      "           0       0.24      0.58      0.34       737\n",
      "           1       0.67      0.66      0.67      2861\n",
      "           2       0.72      0.34      0.46      1195\n",
      "\n",
      "    accuracy                           0.53      5221\n",
      "   macro avg       0.52      0.42      0.42      5221\n",
      "weighted avg       0.61      0.53      0.54      5221\n",
      "\n",
      "F1_score:  0.536\n",
      "-------------------------------------------------------\n",
      "DecisionTreeClassifier(max_depth=6)\n",
      "[[  13    0  414    1]\n",
      " [   1   22  701   13]\n",
      " [   7    6 2770   78]\n",
      " [   0    1 1005  189]]\n",
      "              precision    recall  f1-score   support\n",
      "\n",
      "          -1       0.62      0.03      0.06       428\n",
      "           0       0.76      0.03      0.06       737\n",
      "           1       0.57      0.97      0.71      2861\n",
      "           2       0.67      0.16      0.26      1195\n",
      "\n",
      "    accuracy                           0.57      5221\n",
      "   macro avg       0.65      0.30      0.27      5221\n",
      "weighted avg       0.62      0.57      0.46      5221\n",
      "\n",
      "F1_score:  0.463\n",
      "-------------------------------------------------------\n",
      "RandomForestClassifier()\n",
      "[[  87   49  278   14]\n",
      " [   5  236  472   24]\n",
      " [   5  109 2600  147]\n",
      " [   2   24  459  710]]\n",
      "              precision    recall  f1-score   support\n",
      "\n",
      "          -1       0.88      0.20      0.33       428\n",
      "           0       0.56      0.32      0.41       737\n",
      "           1       0.68      0.91      0.78      2861\n",
      "           2       0.79      0.59      0.68      1195\n",
      "\n",
      "    accuracy                           0.70      5221\n",
      "   macro avg       0.73      0.51      0.55      5221\n",
      "weighted avg       0.71      0.70      0.67      5221\n",
      "\n",
      "F1_score:  0.667\n",
      "-------------------------------------------------------\n"
     ]
    }
   ],
   "source": [
    "# Fitting models onto the training data and predicting.\n",
    "for i in range(0, len(algs)):\n",
    "    text_clf = Pipeline([('clf', algs[i])])\n",
    "    text_clf.fit(X_train, y_train)  \n",
    "    predictions = text_clf.predict(X_test)\n",
    "    \n",
    "    \n",
    "    print(algs[i])\n",
    "    print(metrics.confusion_matrix(y_test,predictions))\n",
    "    print(metrics.classification_report(y_test,predictions))\n",
    "    print('F1_score: ',round(metrics.f1_score(y_test,predictions, average = 'weighted'),3))\n",
    "    print('-------------------------------------------------------')"
   ]
  },
  {
   "cell_type": "code",
   "execution_count": null,
   "id": "precise-dimension",
   "metadata": {
    "papermill": {
     "duration": 0.036576,
     "end_time": "2021-06-10T11:02:45.970338",
     "exception": false,
     "start_time": "2021-06-10T11:02:45.933762",
     "status": "completed"
    },
    "tags": []
   },
   "outputs": [],
   "source": []
  },
  {
   "cell_type": "markdown",
   "id": "criminal-conjunction",
   "metadata": {
    "papermill": {
     "duration": 0.037324,
     "end_time": "2021-06-10T11:02:46.044445",
     "exception": false,
     "start_time": "2021-06-10T11:02:46.007121",
     "status": "completed"
    },
    "tags": []
   },
   "source": [
    "## References\n",
    "- Websites used for insipiration"
   ]
  },
  {
   "cell_type": "markdown",
   "id": "normal-relevance",
   "metadata": {
    "papermill": {
     "duration": 0.037772,
     "end_time": "2021-06-10T11:02:46.119164",
     "exception": false,
     "start_time": "2021-06-10T11:02:46.081392",
     "status": "completed"
    },
    "tags": []
   },
   "source": [
    "- analyticsvidhya: https://www.analyticsvidhya.com/blog/2018/07/hands-on-sentiment-analysis-dataset-python/\n",
    "- towardsdatascience: https://towardsdatascience.com/how-to-efficiently-remove-punctuations-from-a-string-899ad4a059fb\n",
    "- codegrepper:  https://www.codegrepper.com/code-examples/python/pandas+series+remove+punctuation"
   ]
  },
  {
   "cell_type": "code",
   "execution_count": null,
   "id": "homeless-blood",
   "metadata": {
    "papermill": {
     "duration": 0.0364,
     "end_time": "2021-06-10T11:02:46.193094",
     "exception": false,
     "start_time": "2021-06-10T11:02:46.156694",
     "status": "completed"
    },
    "tags": []
   },
   "outputs": [],
   "source": []
  }
 ],
 "metadata": {
  "kernelspec": {
   "display_name": "Python 3",
   "language": "python",
   "name": "python3"
  },
  "language_info": {
   "codemirror_mode": {
    "name": "ipython",
    "version": 3
   },
   "file_extension": ".py",
   "mimetype": "text/x-python",
   "name": "python",
   "nbconvert_exporter": "python",
   "pygments_lexer": "ipython3",
   "version": "3.7.10"
  },
  "papermill": {
   "default_parameters": {},
   "duration": 145.811705,
   "end_time": "2021-06-10T11:02:47.040917",
   "environment_variables": {},
   "exception": null,
   "input_path": "__notebook__.ipynb",
   "output_path": "__notebook__.ipynb",
   "parameters": {},
   "start_time": "2021-06-10T11:00:21.229212",
   "version": "2.3.3"
  }
 },
 "nbformat": 4,
 "nbformat_minor": 5
}
