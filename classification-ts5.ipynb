{
 "cells": [
  {
   "cell_type": "markdown",
   "metadata": {
    "_cell_guid": "b1076dfc-b9ad-4769-8c92-a6c4dae69d19",
    "_uuid": "8f2839f25d086af736a60e9eeb907d3b93b6e0e5",
    "execution": {
     "iopub.execute_input": "2021-06-02T23:35:44.754705Z",
     "iopub.status.busy": "2021-06-02T23:35:44.754249Z",
     "iopub.status.idle": "2021-06-02T23:35:44.775038Z",
     "shell.execute_reply": "2021-06-02T23:35:44.773868Z",
     "shell.execute_reply.started": "2021-06-02T23:35:44.754668Z"
    },
    "papermill": {
     "duration": 0.029085,
     "end_time": "2021-06-10T11:00:29.318311",
     "exception": false,
     "start_time": "2021-06-10T11:00:29.289226",
     "status": "completed"
    },
    "tags": []
   },
   "source": [
    "# EDSA - Climate Change Belief Analysis 2021\n",
    "### Team TS5 Classification"
   ]
  },
  {
   "cell_type": "markdown",
   "metadata": {
    "execution": {
     "iopub.execute_input": "2021-06-03T16:17:48.062355Z",
     "iopub.status.busy": "2021-06-03T16:17:48.06194Z",
     "iopub.status.idle": "2021-06-03T16:17:48.069466Z",
     "shell.execute_reply": "2021-06-03T16:17:48.067878Z",
     "shell.execute_reply.started": "2021-06-03T16:17:48.062321Z"
    },
    "papermill": {
     "duration": 0.027386,
     "end_time": "2021-06-10T11:00:29.373653",
     "exception": false,
     "start_time": "2021-06-10T11:00:29.346267",
     "status": "completed"
    },
    "tags": []
   },
   "source": [
    "<div align=\"center\" style=\"width: 1000px; font-size: 80%; text-align: center; margin: 0 auto\">\n",
    "<img src=\"https://raw.githubusercontent.com/CPNMorgan/Team_TS5_JHB_Classification/main/climat change.jpg\"\n",
    "     alt=\"Titanic\"\n",
    "     style=\"float: center; padding-bottom=0.5em\"\n",
    "     width=1000px/>\n",
    "\n",
    "</div>"
   ]
  },
  {
   "cell_type": "markdown",
   "metadata": {
    "papermill": {
     "duration": 0.027351,
     "end_time": "2021-06-10T11:00:29.428674",
     "exception": false,
     "start_time": "2021-06-10T11:00:29.401323",
     "status": "completed"
    },
    "tags": []
   },
   "source": [
    "# Challenge Description"
   ]
  },
  {
   "cell_type": "markdown",
   "metadata": {
    "papermill": {
     "duration": 0.027413,
     "end_time": "2021-06-10T11:00:29.483654",
     "exception": false,
     "start_time": "2021-06-10T11:00:29.456241",
     "status": "completed"
    },
    "tags": []
   },
   "source": [
    "Many companies are built around lessening one’s environmental impact or carbon footprint. They offer products and services that are environmentally friendly and sustainable, in line with their values and ideals. They would like to determine how people perceive climate change and whether or not they believe it is a real threat. This would add to their market research efforts in gauging how their product/service may be received.\n",
    "\n",
    "With this context, EDSA is challenging you during the Classification Sprint with the task of creating a Machine Learning model that is able to classify whether or not a person believes in climate change, based on their novel tweet data.\n",
    "\n",
    "Providing an accurate and robust solution to this task gives companies access to a broad base of consumer sentiment, spanning multiple demographic and geographic categories - thus increasing their insights and informing future marketing strategies."
   ]
  },
  {
   "cell_type": "markdown",
   "metadata": {
    "papermill": {
     "duration": 0.02766,
     "end_time": "2021-06-10T11:00:29.538981",
     "exception": false,
     "start_time": "2021-06-10T11:00:29.511321",
     "status": "completed"
    },
    "tags": []
   },
   "source": [
    "# Introduction"
   ]
  },
  {
   "source": [
    "Theoretical (LogisticRegression, )\n",
    "Problem/Hypothesis\n",
    "\n"
   ],
   "cell_type": "markdown",
   "metadata": {
    "papermill": {
     "duration": 0.027694,
     "end_time": "2021-06-10T11:00:29.594317",
     "exception": false,
     "start_time": "2021-06-10T11:00:29.566623",
     "status": "completed"
    },
    "tags": []
   }
  },
  {
   "source": [
    "We now know that the output value of a logistic regression model refers to the probability that the observation in question belongs to class 1. The output values all fall between 0 and 1, which is all very well. But at what threshold value do we decide that a probability is too low to be assigned to class 1? Usually, we pick 0.5. That is:\n",
    "\n",
    "- Values greater than or equal to 0.5 are assigned to class 1; and\n",
    "- Values less than 0.5 are assigned to class 0.\n",
    "\n",
    "This output needs to hold for all values of X. In other words, regardless of the value of X, we need the output to be a value between 0 and 1. The function that takes care of all this is defined as follows:\n",
    "\n",
    "$$P(X) = \\displaystyle \\frac{e^{\\beta_0 + \\beta_1 X}}{1+e^{\\beta_0 + \\beta_1 X}}$$\n",
    "\n",
    "where $P(X)$ is the probability of X belonging to class 1, and $\\beta_0$ and $\\beta_1$ are the intercept and regression coefficient respectively, just like in a linear regression model. After a bit of manipulation we arrive at:\n",
    "\n",
    "\\begin{align}\n",
    "1 - P(X) &= \\displaystyle \\frac{1}{1+e^{\\beta_0 + \\beta_1 X}} \\\\\n",
    "\\therefore \\log \\left( \\frac{P(X)}{1-P(X)} \\right) &= {\\beta_0 + \\beta_1 X}\n",
    "\\end{align}\n",
    "\n",
    "<img src=\"useful_info/image5-13.jpg\" align=\"center\"/>\n",
    "\n",
    "The term on the left is known as the **log odds ratio**. Without the log sign in front of it, it is known simply as the odds ratio. While $P(X)$ is bounded between 0 and 1, the odds ratio is bounded between 0 and $\\infty$. \n",
    "\n"
   ],
   "cell_type": "markdown",
   "metadata": {}
  },
  {
   "cell_type": "markdown",
   "metadata": {
    "execution": {
     "iopub.execute_input": "2021-06-03T16:23:06.285173Z",
     "iopub.status.busy": "2021-06-03T16:23:06.284666Z",
     "iopub.status.idle": "2021-06-03T16:23:06.289831Z",
     "shell.execute_reply": "2021-06-03T16:23:06.288702Z",
     "shell.execute_reply.started": "2021-06-03T16:23:06.285137Z"
    },
    "papermill": {
     "duration": 0.027728,
     "end_time": "2021-06-10T11:00:29.650136",
     "exception": false,
     "start_time": "2021-06-10T11:00:29.622408",
     "status": "completed"
    },
    "tags": []
   },
   "source": [
    "# Importing Packages"
   ]
  },
  {
   "cell_type": "code",
   "execution_count": 1,
   "metadata": {
    "execution": {
     "iopub.execute_input": "2021-06-10T11:00:29.765450Z",
     "iopub.status.busy": "2021-06-10T11:00:29.764243Z",
     "iopub.status.idle": "2021-06-10T11:00:32.254609Z",
     "shell.execute_reply": "2021-06-10T11:00:32.253907Z",
     "shell.execute_reply.started": "2021-06-10T10:33:10.870622Z"
    },
    "papermill": {
     "duration": 2.521345,
     "end_time": "2021-06-10T11:00:32.254770",
     "exception": false,
     "start_time": "2021-06-10T11:00:29.733425",
     "status": "completed"
    },
    "tags": []
   },
   "outputs": [],
   "source": [
    "#comet.ml\n",
    "import comet_ml\n",
    "from comet_ml import Experiment\n",
    "\n",
    "import numpy as np # linear algebra\n",
    "import pandas as pd # data processing, CSV file I/O (e.g. pd.read_csv)\n",
    "import matplotlib.pyplot as plt\n",
    "import seaborn as sns\n",
    "from plotly import graph_objs as go\n",
    "import plotly.express as px\n",
    "import plotly.figure_factory as ff\n",
    "\n",
    "#nlp\n",
    "import string\n",
    "import re    #for regex\n",
    "import nltk\n",
    "from nltk.stem.porter import *\n",
    "from nltk.corpus import stopwords\n",
    "from nltk import pos_tag\n",
    "from nltk.tokenize import word_tokenize\n",
    "from PIL import Image\n",
    "from sklearn.feature_extraction.text import CountVectorizer\n",
    "from nltk.stem import WordNetLemmatizer,PorterStemmer, LancasterStemmer\n",
    "from nltk.tokenize import RegexpTokenizer\n",
    "\n",
    "\n",
    "\n",
    "from nltk.tokenize import TweetTokenizer   \n",
    "from sklearn.feature_extraction.text import TfidfVectorizer\n",
    "from sklearn.model_selection import cross_val_score\n",
    "from sklearn.pipeline import make_union\n",
    "from wordcloud import WordCloud \n",
    "from collections import Counter\n",
    "import emoji\n",
    "\n",
    "#models\n",
    "from sklearn.linear_model import LogisticRegression\n",
    "from sklearn.svm import SVC\n",
    "from sklearn.naive_bayes import MultinomialNB\n",
    "from sklearn.neighbors import KNeighborsClassifier\n",
    "from sklearn.tree import DecisionTreeClassifier\n",
    "from sklearn.model_selection import train_test_split\n",
    "from sklearn.feature_extraction.text import TfidfVectorizer\n",
    "from sklearn.linear_model import LogisticRegression\n",
    "from sklearn.linear_model import LogisticRegressionCV\n",
    "from sklearn.ensemble import RandomForestClassifier\n",
    "from sklearn.pipeline import Pipeline\n",
    "from sklearn.decomposition import LatentDirichletAllocation as LDA\n",
    "from sklearn.model_selection import GridSearchCV\n",
    "from sklearn.svm import LinearSVC\n",
    "from sklearn.ensemble import RandomForestClassifier, AdaBoostClassifier\n",
    "from sklearn import metrics\n",
    "from sklearn.svm import SVC\n",
    "from sklearn import metrics\n",
    "from sklearn.utils import resample\n",
    "from sklearn.metrics import classification_report\n",
    "\n",
    "import os\n",
    "for dirname, _, filenames in os.walk('/kaggle/input'):\n",
    "    for filename in filenames:\n",
    "        print(os.path.join(dirname, filename))\n"
   ]
  },
  {
   "source": [
    "# Initialising Comet.ml Experiment Tracking"
   ],
   "cell_type": "markdown",
   "metadata": {}
  },
  {
   "cell_type": "code",
   "execution_count": 2,
   "metadata": {},
   "outputs": [
    {
     "output_type": "stream",
     "name": "stderr",
     "text": [
      "COMET INFO: Comet API key is valid\n",
      "COMET WARNING: As you are running in a Jupyter environment, you will need to call `experiment.end()` when finished to ensure all metrics and code are logged before exiting.\n",
      "COMET INFO: Experiment is live on comet.ml https://www.comet.ml/classification-ts5/edsa-climate-change-sentiment-analysis-default-view/44be4006e6e848a9a26b0f2939eaae26\n",
      "\n"
     ]
    }
   ],
   "source": [
    "comet_ml.init()\n",
    "experiment = Experiment(\n",
    "            project_name=\"edsa-climate-change-sentiment-analysis/Default view\",\n",
    "            workspace=\"classification-ts5\",\n",
    ")"
   ]
  },
  {
   "source": [
    "# Importing Datasets"
   ],
   "cell_type": "markdown",
   "metadata": {}
  },
  {
   "cell_type": "code",
   "execution_count": 3,
   "metadata": {
    "execution": {
     "iopub.execute_input": "2021-06-10T11:00:32.316907Z",
     "iopub.status.busy": "2021-06-10T11:00:32.316180Z",
     "iopub.status.idle": "2021-06-10T11:00:32.494847Z",
     "shell.execute_reply": "2021-06-10T11:00:32.494240Z",
     "shell.execute_reply.started": "2021-06-10T08:50:18.225298Z"
    },
    "papermill": {
     "duration": 0.211607,
     "end_time": "2021-06-10T11:00:32.495049",
     "exception": false,
     "start_time": "2021-06-10T11:00:32.283442",
     "status": "completed"
    },
    "tags": []
   },
   "outputs": [
    {
     "output_type": "stream",
     "name": "stdout",
     "text": [
      "Data imported succesfully\n"
     ]
    }
   ],
   "source": [
    "train_df = pd.read_csv('data/train.csv')\n",
    "test_df = pd.read_csv('data/test.csv')\n",
    "print('Data imported succesfully')"
   ]
  },
  {
   "source": [
    "# First Look at the Data"
   ],
   "cell_type": "markdown",
   "metadata": {}
  },
  {
   "cell_type": "code",
   "execution_count": 4,
   "metadata": {},
   "outputs": [
    {
     "output_type": "execute_result",
     "data": {
      "text/plain": [
       "   sentiment                                            message  tweetid\n",
       "0          1  PolySciMajor EPA chief doesn't think carbon di...   625221\n",
       "1          1  It's not like we lack evidence of anthropogeni...   126103\n",
       "2          2  RT @RawStory: Researchers say we have three ye...   698562\n",
       "3          1  #TodayinMaker# WIRED : 2016 was a pivotal year...   573736\n",
       "4          1  RT @SoyNovioDeTodas: It's 2016, and a racist, ...   466954"
      ],
      "text/html": "<div>\n<style scoped>\n    .dataframe tbody tr th:only-of-type {\n        vertical-align: middle;\n    }\n\n    .dataframe tbody tr th {\n        vertical-align: top;\n    }\n\n    .dataframe thead th {\n        text-align: right;\n    }\n</style>\n<table border=\"1\" class=\"dataframe\">\n  <thead>\n    <tr style=\"text-align: right;\">\n      <th></th>\n      <th>sentiment</th>\n      <th>message</th>\n      <th>tweetid</th>\n    </tr>\n  </thead>\n  <tbody>\n    <tr>\n      <th>0</th>\n      <td>1</td>\n      <td>PolySciMajor EPA chief doesn't think carbon di...</td>\n      <td>625221</td>\n    </tr>\n    <tr>\n      <th>1</th>\n      <td>1</td>\n      <td>It's not like we lack evidence of anthropogeni...</td>\n      <td>126103</td>\n    </tr>\n    <tr>\n      <th>2</th>\n      <td>2</td>\n      <td>RT @RawStory: Researchers say we have three ye...</td>\n      <td>698562</td>\n    </tr>\n    <tr>\n      <th>3</th>\n      <td>1</td>\n      <td>#TodayinMaker# WIRED : 2016 was a pivotal year...</td>\n      <td>573736</td>\n    </tr>\n    <tr>\n      <th>4</th>\n      <td>1</td>\n      <td>RT @SoyNovioDeTodas: It's 2016, and a racist, ...</td>\n      <td>466954</td>\n    </tr>\n  </tbody>\n</table>\n</div>"
     },
     "metadata": {},
     "execution_count": 4
    }
   ],
   "source": [
    "train_df.head()"
   ]
  },
  {
   "cell_type": "code",
   "execution_count": 5,
   "metadata": {},
   "outputs": [
    {
     "output_type": "execute_result",
     "data": {
      "text/plain": [
       "                                             message  tweetid\n",
       "0  Europe will now be looking to China to make su...   169760\n",
       "1  Combine this with the polling of staffers re c...    35326\n",
       "2  The scary, unimpeachable evidence that climate...   224985\n",
       "3  @Karoli @morgfair @OsborneInk @dailykos \\nPuti...   476263\n",
       "4  RT @FakeWillMoore: 'Female orgasms cause globa...   872928"
      ],
      "text/html": "<div>\n<style scoped>\n    .dataframe tbody tr th:only-of-type {\n        vertical-align: middle;\n    }\n\n    .dataframe tbody tr th {\n        vertical-align: top;\n    }\n\n    .dataframe thead th {\n        text-align: right;\n    }\n</style>\n<table border=\"1\" class=\"dataframe\">\n  <thead>\n    <tr style=\"text-align: right;\">\n      <th></th>\n      <th>message</th>\n      <th>tweetid</th>\n    </tr>\n  </thead>\n  <tbody>\n    <tr>\n      <th>0</th>\n      <td>Europe will now be looking to China to make su...</td>\n      <td>169760</td>\n    </tr>\n    <tr>\n      <th>1</th>\n      <td>Combine this with the polling of staffers re c...</td>\n      <td>35326</td>\n    </tr>\n    <tr>\n      <th>2</th>\n      <td>The scary, unimpeachable evidence that climate...</td>\n      <td>224985</td>\n    </tr>\n    <tr>\n      <th>3</th>\n      <td>@Karoli @morgfair @OsborneInk @dailykos \\nPuti...</td>\n      <td>476263</td>\n    </tr>\n    <tr>\n      <th>4</th>\n      <td>RT @FakeWillMoore: 'Female orgasms cause globa...</td>\n      <td>872928</td>\n    </tr>\n  </tbody>\n</table>\n</div>"
     },
     "metadata": {},
     "execution_count": 5
    }
   ],
   "source": [
    "test_df.head()"
   ]
  },
  {
   "cell_type": "code",
   "execution_count": 6,
   "metadata": {
    "execution": {
     "iopub.execute_input": "2021-06-10T11:00:32.697062Z",
     "iopub.status.busy": "2021-06-10T11:00:32.696382Z",
     "iopub.status.idle": "2021-06-10T11:00:32.701403Z",
     "shell.execute_reply": "2021-06-10T11:00:32.701855Z",
     "shell.execute_reply.started": "2021-06-10T06:17:07.701621Z"
    },
    "papermill": {
     "duration": 0.036715,
     "end_time": "2021-06-10T11:00:32.702052",
     "exception": false,
     "start_time": "2021-06-10T11:00:32.665337",
     "status": "completed"
    },
    "tags": []
   },
   "outputs": [
    {
     "output_type": "execute_result",
     "data": {
      "text/plain": [
       "((15819, 3), (10546, 2))"
      ]
     },
     "metadata": {},
     "execution_count": 6
    }
   ],
   "source": [
    "#check the shape of the data\n",
    "train_df.shape, test_df.shape"
   ]
  },
  {
   "cell_type": "code",
   "execution_count": 7,
   "metadata": {
    "execution": {
     "iopub.execute_input": "2021-06-10T11:00:32.763657Z",
     "iopub.status.busy": "2021-06-10T11:00:32.762978Z",
     "iopub.status.idle": "2021-06-10T11:00:32.772620Z",
     "shell.execute_reply": "2021-06-10T11:00:32.772132Z",
     "shell.execute_reply.started": "2021-06-10T06:17:20.021929Z"
    },
    "papermill": {
     "duration": 0.041649,
     "end_time": "2021-06-10T11:00:32.772773",
     "exception": false,
     "start_time": "2021-06-10T11:00:32.731124",
     "status": "completed"
    },
    "tags": []
   },
   "outputs": [
    {
     "output_type": "execute_result",
     "data": {
      "text/plain": [
       "array([ 1,  2,  0, -1])"
      ]
     },
     "metadata": {},
     "execution_count": 7
    }
   ],
   "source": [
    "#unique sentiments\n",
    "train_df['sentiment'].unique()"
   ]
  },
  {
   "cell_type": "code",
   "execution_count": 8,
   "metadata": {},
   "outputs": [
    {
     "output_type": "execute_result",
     "data": {
      "text/plain": [
       " 1    8530\n",
       " 2    3640\n",
       " 0    2353\n",
       "-1    1296\n",
       "Name: sentiment, dtype: int64"
      ]
     },
     "metadata": {},
     "execution_count": 8
    }
   ],
   "source": [
    "#samples per sentiment\n",
    "train_df['sentiment'].value_counts()"
   ]
  },
  {
   "cell_type": "code",
   "execution_count": 9,
   "metadata": {},
   "outputs": [
    {
     "output_type": "execute_result",
     "data": {
      "text/plain": [
       "count    15819.000000\n",
       "mean         0.917504\n",
       "std          0.836537\n",
       "min         -1.000000\n",
       "25%          1.000000\n",
       "50%          1.000000\n",
       "75%          1.000000\n",
       "max          2.000000\n",
       "Name: sentiment, dtype: float64"
      ]
     },
     "metadata": {},
     "execution_count": 9
    }
   ],
   "source": [
    "#trainig data statistics\n",
    "train_df['sentiment'].describe()"
   ]
  },
  {
   "cell_type": "code",
   "execution_count": 10,
   "metadata": {
    "execution": {
     "iopub.execute_input": "2021-06-10T11:00:32.844017Z",
     "iopub.status.busy": "2021-06-10T11:00:32.838561Z",
     "iopub.status.idle": "2021-06-10T11:00:32.847407Z",
     "shell.execute_reply": "2021-06-10T11:00:32.846815Z",
     "shell.execute_reply.started": "2021-06-10T06:17:39.289686Z"
    },
    "papermill": {
     "duration": 0.045151,
     "end_time": "2021-06-10T11:00:32.847546",
     "exception": false,
     "start_time": "2021-06-10T11:00:32.802395",
     "status": "completed"
    },
    "tags": []
   },
   "outputs": [
    {
     "output_type": "execute_result",
     "data": {
      "text/plain": [
       "(sentiment    0\n",
       " message      0\n",
       " tweetid      0\n",
       " dtype: int64,\n",
       " message    0\n",
       " tweetid    0\n",
       " dtype: int64)"
      ]
     },
     "metadata": {},
     "execution_count": 10
    }
   ],
   "source": [
    "#checking for nulls\n",
    "train_df.isnull().sum(), test_df.isnull().sum()"
   ]
  },
  {
   "cell_type": "markdown",
   "metadata": {},
   "source": [
    "# DATA CLEANING"
   ]
  },
  {
   "cell_type": "code",
   "execution_count": 11,
   "metadata": {},
   "outputs": [],
   "source": [
    "# creating copy of train_df\n",
    "df = train_df.copy()"
   ]
  },
  {
   "cell_type": "markdown",
   "metadata": {},
   "source": [
    "### Removing Noise"
   ]
  },
  {
   "cell_type": "code",
   "execution_count": 12,
   "metadata": {},
   "outputs": [],
   "source": [
    "lemmatizer = WordNetLemmatizer()\n",
    "stemmer = PorterStemmer()\n",
    "\n",
    "def preprocess_fil(sentence):\n",
    "    '''function removes noise/cleans text data'''\n",
    "    sentence=str(sentence)\n",
    "    sentence = sentence.lower()\n",
    "    sentence=sentence.replace('{html}',\"\")\n",
    "    cleanr = re.compile('<.*?>') \n",
    "    cleantext = re.sub(cleanr, '', sentence)\n",
    "    rem_url=re.sub(r'http\\S+', '',cleantext)\n",
    "    rem_num = re.sub('[0-9]+', '', rem_url)\n",
    "    tokenizer = RegexpTokenizer(r'\\w+')\n",
    "    tokens = tokenizer.tokenize(rem_num)  \n",
    "    filtered_words = [w for w in tokens if len(w) > 2 if not w in stopwords.words('english')]\n",
    "    stem_words=[stemmer.stem(w) for w in filtered_words]\n",
    "    lemma_words=[lemmatizer.lemmatize(w) for w in stem_words]\n",
    "    return \" \".join(filtered_words)\n",
    "    "
   ]
  },
  {
   "cell_type": "code",
   "execution_count": 13,
   "metadata": {},
   "outputs": [],
   "source": [
    "def preprocess_stemm(sentence):\n",
    "    sentence=str(sentence)\n",
    "    sentence = sentence.lower()\n",
    "    sentence=sentence.replace('{html}',\"\") \n",
    "    cleanr = re.compile('<.*?>')\n",
    "    cleantext = re.sub(cleanr, '', sentence)\n",
    "    rem_url=re.sub(r'http\\S+', '',cleantext)\n",
    "    rem_num = re.sub('[0-9]+', '', rem_url)\n",
    "    tokenizer = RegexpTokenizer(r'\\w+')\n",
    "    tokens = tokenizer.tokenize(rem_num)  \n",
    "    filtered_words = [w for w in tokens if len(w) > 2 if not w in stopwords.words('english')]\n",
    "    stem_words=[stemmer.stem(w) for w in filtered_words]\n",
    "    lemma_words=[lemmatizer.lemmatize(w) for w in stem_words]\n",
    "    return \" \".join(stem_words)"
   ]
  },
  {
   "cell_type": "code",
   "execution_count": 14,
   "metadata": {},
   "outputs": [],
   "source": [
    "def preprocess_lemm(sentence):\n",
    "    sentence=str(sentence)\n",
    "    sentence = sentence.lower()\n",
    "    sentence=sentence.replace('{html}',\"\") \n",
    "    cleanr = re.compile('<.*?>')\n",
    "    cleantext = re.sub(cleanr, '', sentence)\n",
    "    rem_url=re.sub(r'http\\S+', '',cleantext)\n",
    "    rem_num = re.sub('[0-9]+', '', rem_url)\n",
    "    tokenizer = RegexpTokenizer(r'\\w+')\n",
    "    tokens = tokenizer.tokenize(rem_num)  \n",
    "    filtered_words = [w for w in tokens if len(w) > 2 if not w in stopwords.words('english')]\n",
    "    stem_words=[stemmer.stem(w) for w in filtered_words]\n",
    "    lemma_words=[lemmatizer.lemmatize(w) for w in filtered_words ]\n",
    "    return \" \".join(lemma_words)"
   ]
  },
  {
   "cell_type": "code",
   "execution_count": 15,
   "metadata": {},
   "outputs": [
    {
     "output_type": "execute_result",
     "data": {
      "text/plain": [
       "   sentiment                                            message  tweetid  \\\n",
       "0          1  PolySciMajor EPA chief doesn't think carbon di...   625221   \n",
       "1          1  It's not like we lack evidence of anthropogeni...   126103   \n",
       "2          2  RT @RawStory: Researchers say we have three ye...   698562   \n",
       "3          1  #TodayinMaker# WIRED : 2016 was a pivotal year...   573736   \n",
       "4          1  RT @SoyNovioDeTodas: It's 2016, and a racist, ...   466954   \n",
       "\n",
       "                                       clean_message  \n",
       "0  polyscimajor epa chief think carbon dioxide ma...  \n",
       "1    like lack evidence anthropogenic global warming  \n",
       "2  rawstory researchers say three years act clima...  \n",
       "3  todayinmaker wired pivotal year war climate ch...  \n",
       "4  soynoviodetodas racist sexist climate change d...  "
      ],
      "text/html": "<div>\n<style scoped>\n    .dataframe tbody tr th:only-of-type {\n        vertical-align: middle;\n    }\n\n    .dataframe tbody tr th {\n        vertical-align: top;\n    }\n\n    .dataframe thead th {\n        text-align: right;\n    }\n</style>\n<table border=\"1\" class=\"dataframe\">\n  <thead>\n    <tr style=\"text-align: right;\">\n      <th></th>\n      <th>sentiment</th>\n      <th>message</th>\n      <th>tweetid</th>\n      <th>clean_message</th>\n    </tr>\n  </thead>\n  <tbody>\n    <tr>\n      <th>0</th>\n      <td>1</td>\n      <td>PolySciMajor EPA chief doesn't think carbon di...</td>\n      <td>625221</td>\n      <td>polyscimajor epa chief think carbon dioxide ma...</td>\n    </tr>\n    <tr>\n      <th>1</th>\n      <td>1</td>\n      <td>It's not like we lack evidence of anthropogeni...</td>\n      <td>126103</td>\n      <td>like lack evidence anthropogenic global warming</td>\n    </tr>\n    <tr>\n      <th>2</th>\n      <td>2</td>\n      <td>RT @RawStory: Researchers say we have three ye...</td>\n      <td>698562</td>\n      <td>rawstory researchers say three years act clima...</td>\n    </tr>\n    <tr>\n      <th>3</th>\n      <td>1</td>\n      <td>#TodayinMaker# WIRED : 2016 was a pivotal year...</td>\n      <td>573736</td>\n      <td>todayinmaker wired pivotal year war climate ch...</td>\n    </tr>\n    <tr>\n      <th>4</th>\n      <td>1</td>\n      <td>RT @SoyNovioDeTodas: It's 2016, and a racist, ...</td>\n      <td>466954</td>\n      <td>soynoviodetodas racist sexist climate change d...</td>\n    </tr>\n  </tbody>\n</table>\n</div>"
     },
     "metadata": {},
     "execution_count": 15
    }
   ],
   "source": [
    "# cleaning the text messages and creates a new column named 'clean_message'\n",
    "df['clean_message']=df['message'].map(lambda s:preprocess_fil(s))\n",
    "df.head()"
   ]
  },
  {
   "cell_type": "code",
   "execution_count": 16,
   "metadata": {},
   "outputs": [
    {
     "output_type": "execute_result",
     "data": {
      "text/plain": [
       "   sentiment                                            message  tweetid  \\\n",
       "0          1  PolySciMajor EPA chief doesn't think carbon di...   625221   \n",
       "1          1  It's not like we lack evidence of anthropogeni...   126103   \n",
       "2          2  RT @RawStory: Researchers say we have three ye...   698562   \n",
       "3          1  #TodayinMaker# WIRED : 2016 was a pivotal year...   573736   \n",
       "4          1  RT @SoyNovioDeTodas: It's 2016, and a racist, ...   466954   \n",
       "\n",
       "                                       clean_message  \\\n",
       "0  polyscimajor epa chief think carbon dioxide ma...   \n",
       "1    like lack evidence anthropogenic global warming   \n",
       "2  rawstory researchers say three years act clima...   \n",
       "3  todayinmaker wired pivotal year war climate ch...   \n",
       "4  soynoviodetodas racist sexist climate change d...   \n",
       "\n",
       "                                               Lemma  \n",
       "0  polyscimajor epa chief think carbon dioxide ma...  \n",
       "1    like lack evidence anthropogenic global warming  \n",
       "2  rawstory researcher say three year act climate...  \n",
       "3  todayinmaker wired pivotal year war climate ch...  \n",
       "4  soynoviodetodas racist sexist climate change d...  "
      ],
      "text/html": "<div>\n<style scoped>\n    .dataframe tbody tr th:only-of-type {\n        vertical-align: middle;\n    }\n\n    .dataframe tbody tr th {\n        vertical-align: top;\n    }\n\n    .dataframe thead th {\n        text-align: right;\n    }\n</style>\n<table border=\"1\" class=\"dataframe\">\n  <thead>\n    <tr style=\"text-align: right;\">\n      <th></th>\n      <th>sentiment</th>\n      <th>message</th>\n      <th>tweetid</th>\n      <th>clean_message</th>\n      <th>Lemma</th>\n    </tr>\n  </thead>\n  <tbody>\n    <tr>\n      <th>0</th>\n      <td>1</td>\n      <td>PolySciMajor EPA chief doesn't think carbon di...</td>\n      <td>625221</td>\n      <td>polyscimajor epa chief think carbon dioxide ma...</td>\n      <td>polyscimajor epa chief think carbon dioxide ma...</td>\n    </tr>\n    <tr>\n      <th>1</th>\n      <td>1</td>\n      <td>It's not like we lack evidence of anthropogeni...</td>\n      <td>126103</td>\n      <td>like lack evidence anthropogenic global warming</td>\n      <td>like lack evidence anthropogenic global warming</td>\n    </tr>\n    <tr>\n      <th>2</th>\n      <td>2</td>\n      <td>RT @RawStory: Researchers say we have three ye...</td>\n      <td>698562</td>\n      <td>rawstory researchers say three years act clima...</td>\n      <td>rawstory researcher say three year act climate...</td>\n    </tr>\n    <tr>\n      <th>3</th>\n      <td>1</td>\n      <td>#TodayinMaker# WIRED : 2016 was a pivotal year...</td>\n      <td>573736</td>\n      <td>todayinmaker wired pivotal year war climate ch...</td>\n      <td>todayinmaker wired pivotal year war climate ch...</td>\n    </tr>\n    <tr>\n      <th>4</th>\n      <td>1</td>\n      <td>RT @SoyNovioDeTodas: It's 2016, and a racist, ...</td>\n      <td>466954</td>\n      <td>soynoviodetodas racist sexist climate change d...</td>\n      <td>soynoviodetodas racist sexist climate change d...</td>\n    </tr>\n  </tbody>\n</table>\n</div>"
     },
     "metadata": {},
     "execution_count": 16
    }
   ],
   "source": [
    "# lemmatizes the cleaned text data and creates new column named 'Lemma\"\n",
    "df['Lemma']=df['message'].map(lambda s:preprocess_lemm(s)) \n",
    "df.head()"
   ]
  },
  {
   "cell_type": "code",
   "execution_count": 17,
   "metadata": {},
   "outputs": [
    {
     "output_type": "execute_result",
     "data": {
      "text/plain": [
       "   sentiment                                            message  tweetid  \\\n",
       "0          1  PolySciMajor EPA chief doesn't think carbon di...   625221   \n",
       "1          1  It's not like we lack evidence of anthropogeni...   126103   \n",
       "2          2  RT @RawStory: Researchers say we have three ye...   698562   \n",
       "3          1  #TodayinMaker# WIRED : 2016 was a pivotal year...   573736   \n",
       "4          1  RT @SoyNovioDeTodas: It's 2016, and a racist, ...   466954   \n",
       "\n",
       "                                       clean_message  \\\n",
       "0  polyscimajor epa chief think carbon dioxide ma...   \n",
       "1    like lack evidence anthropogenic global warming   \n",
       "2  rawstory researchers say three years act clima...   \n",
       "3  todayinmaker wired pivotal year war climate ch...   \n",
       "4  soynoviodetodas racist sexist climate change d...   \n",
       "\n",
       "                                               Lemma  \\\n",
       "0  polyscimajor epa chief think carbon dioxide ma...   \n",
       "1    like lack evidence anthropogenic global warming   \n",
       "2  rawstory researcher say three year act climate...   \n",
       "3  todayinmaker wired pivotal year war climate ch...   \n",
       "4  soynoviodetodas racist sexist climate change d...   \n",
       "\n",
       "                                               stemm  \n",
       "0  polyscimajor epa chief think carbon dioxid mai...  \n",
       "1             like lack evid anthropogen global warm  \n",
       "2  rawstori research say three year act climat ch...  \n",
       "3        todayinmak wire pivot year war climat chang  \n",
       "4  soynoviodetoda racist sexist climat chang deni...  "
      ],
      "text/html": "<div>\n<style scoped>\n    .dataframe tbody tr th:only-of-type {\n        vertical-align: middle;\n    }\n\n    .dataframe tbody tr th {\n        vertical-align: top;\n    }\n\n    .dataframe thead th {\n        text-align: right;\n    }\n</style>\n<table border=\"1\" class=\"dataframe\">\n  <thead>\n    <tr style=\"text-align: right;\">\n      <th></th>\n      <th>sentiment</th>\n      <th>message</th>\n      <th>tweetid</th>\n      <th>clean_message</th>\n      <th>Lemma</th>\n      <th>stemm</th>\n    </tr>\n  </thead>\n  <tbody>\n    <tr>\n      <th>0</th>\n      <td>1</td>\n      <td>PolySciMajor EPA chief doesn't think carbon di...</td>\n      <td>625221</td>\n      <td>polyscimajor epa chief think carbon dioxide ma...</td>\n      <td>polyscimajor epa chief think carbon dioxide ma...</td>\n      <td>polyscimajor epa chief think carbon dioxid mai...</td>\n    </tr>\n    <tr>\n      <th>1</th>\n      <td>1</td>\n      <td>It's not like we lack evidence of anthropogeni...</td>\n      <td>126103</td>\n      <td>like lack evidence anthropogenic global warming</td>\n      <td>like lack evidence anthropogenic global warming</td>\n      <td>like lack evid anthropogen global warm</td>\n    </tr>\n    <tr>\n      <th>2</th>\n      <td>2</td>\n      <td>RT @RawStory: Researchers say we have three ye...</td>\n      <td>698562</td>\n      <td>rawstory researchers say three years act clima...</td>\n      <td>rawstory researcher say three year act climate...</td>\n      <td>rawstori research say three year act climat ch...</td>\n    </tr>\n    <tr>\n      <th>3</th>\n      <td>1</td>\n      <td>#TodayinMaker# WIRED : 2016 was a pivotal year...</td>\n      <td>573736</td>\n      <td>todayinmaker wired pivotal year war climate ch...</td>\n      <td>todayinmaker wired pivotal year war climate ch...</td>\n      <td>todayinmak wire pivot year war climat chang</td>\n    </tr>\n    <tr>\n      <th>4</th>\n      <td>1</td>\n      <td>RT @SoyNovioDeTodas: It's 2016, and a racist, ...</td>\n      <td>466954</td>\n      <td>soynoviodetodas racist sexist climate change d...</td>\n      <td>soynoviodetodas racist sexist climate change d...</td>\n      <td>soynoviodetoda racist sexist climat chang deni...</td>\n    </tr>\n  </tbody>\n</table>\n</div>"
     },
     "metadata": {},
     "execution_count": 17
    }
   ],
   "source": [
    "# stemmatize the cleaned text data and creates a new column named 'Stemm'\n",
    "df['stemm']=df['message'].map(lambda s:preprocess_stemm(s)) \n",
    "df.head()"
   ]
  },
  {
   "cell_type": "code",
   "execution_count": 18,
   "metadata": {},
   "outputs": [
    {
     "output_type": "execute_result",
     "data": {
      "text/plain": [
       "0         True\n",
       "1         True\n",
       "2        False\n",
       "3         True\n",
       "4        False\n",
       "         ...  \n",
       "15814    False\n",
       "15815     True\n",
       "15816    False\n",
       "15817    False\n",
       "15818     True\n",
       "Length: 15819, dtype: bool"
      ]
     },
     "metadata": {},
     "execution_count": 18
    }
   ],
   "source": [
    "# proves that the lemmatization is applied to the 'clean_message' column\n",
    "df['Lemma']==df['clean_message']"
   ]
  },
  {
   "cell_type": "code",
   "execution_count": 19,
   "metadata": {},
   "outputs": [
    {
     "output_type": "execute_result",
     "data": {
      "text/plain": [
       "0        False\n",
       "1        False\n",
       "2        False\n",
       "3        False\n",
       "4        False\n",
       "         ...  \n",
       "15814    False\n",
       "15815    False\n",
       "15816    False\n",
       "15817    False\n",
       "15818    False\n",
       "Length: 15819, dtype: bool"
      ]
     },
     "metadata": {},
     "execution_count": 19
    }
   ],
   "source": [
    "# proves that stemming is not equal to lemmatization\n",
    "df['Lemma']==df['stemm']"
   ]
  },
  {
   "cell_type": "markdown",
   "metadata": {
    "papermill": {
     "duration": 0.029839,
     "end_time": "2021-06-10T11:00:32.992482",
     "exception": false,
     "start_time": "2021-06-10T11:00:32.962643",
     "status": "completed"
    },
    "tags": []
   },
   "source": [
    "## Exploratory Data Analysis (EDA)"
   ]
  },
  {
   "cell_type": "markdown",
   "metadata": {
    "papermill": {
     "duration": 0.030734,
     "end_time": "2021-06-10T11:00:33.053423",
     "exception": false,
     "start_time": "2021-06-10T11:00:33.022689",
     "status": "completed"
    },
    "tags": []
   },
   "source": [
    " Exploratory Data Analysis (EDA) refers to the critical process of performing initial investigations on data so as to discover patterns,to spot anomalies,to test hypothesis and to check assumptions with the help of summary statistics and graphical representations"
   ]
  },
  {
   "cell_type": "code",
   "execution_count": 20,
   "metadata": {
    "execution": {
     "iopub.execute_input": "2021-06-10T11:00:33.127588Z",
     "iopub.status.busy": "2021-06-10T11:00:33.126901Z",
     "iopub.status.idle": "2021-06-10T11:00:33.129384Z",
     "shell.execute_reply": "2021-06-10T11:00:33.129828Z",
     "shell.execute_reply.started": "2021-06-10T08:50:51.730910Z"
    },
    "papermill": {
     "duration": 0.044893,
     "end_time": "2021-06-10T11:00:33.130022",
     "exception": false,
     "start_time": "2021-06-10T11:00:33.085129",
     "status": "completed"
    },
    "tags": []
   },
   "outputs": [
    {
     "output_type": "execute_result",
     "data": {
      "text/plain": [
       "   sentiment                                            message  tweetid  \\\n",
       "0          1  PolySciMajor EPA chief doesn't think carbon di...   625221   \n",
       "1          1  It's not like we lack evidence of anthropogeni...   126103   \n",
       "2          2  RT @RawStory: Researchers say we have three ye...   698562   \n",
       "3          1  #TodayinMaker# WIRED : 2016 was a pivotal year...   573736   \n",
       "4          1  RT @SoyNovioDeTodas: It's 2016, and a racist, ...   466954   \n",
       "\n",
       "                                       clean_message  \\\n",
       "0  polyscimajor epa chief think carbon dioxide ma...   \n",
       "1    like lack evidence anthropogenic global warming   \n",
       "2  rawstory researchers say three years act clima...   \n",
       "3  todayinmaker wired pivotal year war climate ch...   \n",
       "4  soynoviodetodas racist sexist climate change d...   \n",
       "\n",
       "                                               Lemma  \\\n",
       "0  polyscimajor epa chief think carbon dioxide ma...   \n",
       "1    like lack evidence anthropogenic global warming   \n",
       "2  rawstory researcher say three year act climate...   \n",
       "3  todayinmaker wired pivotal year war climate ch...   \n",
       "4  soynoviodetodas racist sexist climate change d...   \n",
       "\n",
       "                                               stemm  class_label  \n",
       "0  polyscimajor epa chief think carbon dioxid mai...  Positive(1)  \n",
       "1             like lack evid anthropogen global warm  Positive(1)  \n",
       "2  rawstori research say three year act climat ch...      News(2)  \n",
       "3        todayinmak wire pivot year war climat chang  Positive(1)  \n",
       "4  soynoviodetoda racist sexist climat chang deni...  Positive(1)  "
      ],
      "text/html": "<div>\n<style scoped>\n    .dataframe tbody tr th:only-of-type {\n        vertical-align: middle;\n    }\n\n    .dataframe tbody tr th {\n        vertical-align: top;\n    }\n\n    .dataframe thead th {\n        text-align: right;\n    }\n</style>\n<table border=\"1\" class=\"dataframe\">\n  <thead>\n    <tr style=\"text-align: right;\">\n      <th></th>\n      <th>sentiment</th>\n      <th>message</th>\n      <th>tweetid</th>\n      <th>clean_message</th>\n      <th>Lemma</th>\n      <th>stemm</th>\n      <th>class_label</th>\n    </tr>\n  </thead>\n  <tbody>\n    <tr>\n      <th>0</th>\n      <td>1</td>\n      <td>PolySciMajor EPA chief doesn't think carbon di...</td>\n      <td>625221</td>\n      <td>polyscimajor epa chief think carbon dioxide ma...</td>\n      <td>polyscimajor epa chief think carbon dioxide ma...</td>\n      <td>polyscimajor epa chief think carbon dioxid mai...</td>\n      <td>Positive(1)</td>\n    </tr>\n    <tr>\n      <th>1</th>\n      <td>1</td>\n      <td>It's not like we lack evidence of anthropogeni...</td>\n      <td>126103</td>\n      <td>like lack evidence anthropogenic global warming</td>\n      <td>like lack evidence anthropogenic global warming</td>\n      <td>like lack evid anthropogen global warm</td>\n      <td>Positive(1)</td>\n    </tr>\n    <tr>\n      <th>2</th>\n      <td>2</td>\n      <td>RT @RawStory: Researchers say we have three ye...</td>\n      <td>698562</td>\n      <td>rawstory researchers say three years act clima...</td>\n      <td>rawstory researcher say three year act climate...</td>\n      <td>rawstori research say three year act climat ch...</td>\n      <td>News(2)</td>\n    </tr>\n    <tr>\n      <th>3</th>\n      <td>1</td>\n      <td>#TodayinMaker# WIRED : 2016 was a pivotal year...</td>\n      <td>573736</td>\n      <td>todayinmaker wired pivotal year war climate ch...</td>\n      <td>todayinmaker wired pivotal year war climate ch...</td>\n      <td>todayinmak wire pivot year war climat chang</td>\n      <td>Positive(1)</td>\n    </tr>\n    <tr>\n      <th>4</th>\n      <td>1</td>\n      <td>RT @SoyNovioDeTodas: It's 2016, and a racist, ...</td>\n      <td>466954</td>\n      <td>soynoviodetodas racist sexist climate change d...</td>\n      <td>soynoviodetodas racist sexist climate change d...</td>\n      <td>soynoviodetoda racist sexist climat chang deni...</td>\n      <td>Positive(1)</td>\n    </tr>\n  </tbody>\n</table>\n</div>"
     },
     "metadata": {},
     "execution_count": 20
    }
   ],
   "source": [
    "# Labeling the target\n",
    "df['class_label'] = [['Negative(-1)', 'Neutral(0)', 'Positive(1)', 'News(2)'][x+1] for x in df['sentiment']]\n",
    "df.head()"
   ]
  },
  {
   "cell_type": "markdown",
   "metadata": {},
   "source": [
    "#### Discreption of Sentiments:\n",
    "- 2 News: the tweet links to factual news about climate change\n",
    "- 1 Positive: the tweet supports the belief of man-made climate change\n",
    "- 0 Neutral: the tweet neither supports nor refutes the belief of man-made climate change\n",
    "- -1 Negative: the tweet does not believe in man-made climate change"
   ]
  },
  {
   "cell_type": "markdown",
   "metadata": {},
   "source": [
    "#### Count of words per sentiment"
   ]
  },
  {
   "cell_type": "code",
   "execution_count": 60,
   "metadata": {
    "execution": {
     "iopub.execute_input": "2021-06-10T11:00:33.194135Z",
     "iopub.status.busy": "2021-06-10T11:00:33.193514Z",
     "iopub.status.idle": "2021-06-10T11:00:33.245882Z",
     "shell.execute_reply": "2021-06-10T11:00:33.245334Z",
     "shell.execute_reply.started": "2021-06-10T08:51:10.368730Z"
    },
    "papermill": {
     "duration": 0.085286,
     "end_time": "2021-06-10T11:00:33.246038",
     "exception": false,
     "start_time": "2021-06-10T11:00:33.160752",
     "status": "completed"
    },
    "tags": []
   },
   "outputs": [
    {
     "output_type": "execute_result",
     "data": {
      "text/plain": [
       "<pandas.io.formats.style.Styler at 0x7fecc9bbdbb0>"
      ],
      "text/html": "<style  type=\"text/css\" >\n#T_0ae6b_row0_col1{\n            background-color:  #08306b;\n            color:  #f1f1f1;\n        }#T_0ae6b_row1_col1{\n            background-color:  #afd1e7;\n            color:  #000000;\n        }#T_0ae6b_row2_col1{\n            background-color:  #dae8f6;\n            color:  #000000;\n        }#T_0ae6b_row3_col1{\n            background-color:  #f7fbff;\n            color:  #000000;\n        }</style><table id=\"T_0ae6b_\" ><thead>    <tr>        <th class=\"blank level0\" ></th>        <th class=\"col_heading level0 col0\" >class_label</th>        <th class=\"col_heading level0 col1\" >clean_message</th>    </tr></thead><tbody>\n                <tr>\n                        <th id=\"T_0ae6b_level0_row0\" class=\"row_heading level0 row0\" >3</th>\n                        <td id=\"T_0ae6b_row0_col0\" class=\"data row0 col0\" >Positive(1)</td>\n                        <td id=\"T_0ae6b_row0_col1\" class=\"data row0 col1\" >8530</td>\n            </tr>\n            <tr>\n                        <th id=\"T_0ae6b_level0_row1\" class=\"row_heading level0 row1\" >2</th>\n                        <td id=\"T_0ae6b_row1_col0\" class=\"data row1 col0\" >News(2)</td>\n                        <td id=\"T_0ae6b_row1_col1\" class=\"data row1 col1\" >3640</td>\n            </tr>\n            <tr>\n                        <th id=\"T_0ae6b_level0_row2\" class=\"row_heading level0 row2\" >1</th>\n                        <td id=\"T_0ae6b_row2_col0\" class=\"data row2 col0\" >Neutral(0)</td>\n                        <td id=\"T_0ae6b_row2_col1\" class=\"data row2 col1\" >2353</td>\n            </tr>\n            <tr>\n                        <th id=\"T_0ae6b_level0_row3\" class=\"row_heading level0 row3\" >0</th>\n                        <td id=\"T_0ae6b_row3_col0\" class=\"data row3 col0\" >Negative(-1)</td>\n                        <td id=\"T_0ae6b_row3_col1\" class=\"data row3 col1\" >1296</td>\n            </tr>\n    </tbody></table>"
     },
     "metadata": {},
     "execution_count": 60
    }
   ],
   "source": [
    "dist = df.groupby('class_label').count()['clean_message'].reset_index().sort_values(by='clean_message',ascending=False)\n",
    "dist.style.background_gradient(cmap='Blues')"
   ]
  },
  {
   "cell_type": "code",
   "execution_count": 56,
   "metadata": {
    "scrolled": true
   },
   "outputs": [
    {
     "output_type": "display_data",
     "data": {
      "text/plain": "<Figure size 864x432 with 1 Axes>",
      "image/svg+xml": "<?xml version=\"1.0\" encoding=\"utf-8\" standalone=\"no\"?>\n<!DOCTYPE svg PUBLIC \"-//W3C//DTD SVG 1.1//EN\"\n  \"http://www.w3.org/Graphics/SVG/1.1/DTD/svg11.dtd\">\n<svg height=\"386.3125pt\" version=\"1.1\" viewBox=\"0 0 730.128125 386.3125\" width=\"730.128125pt\" xmlns=\"http://www.w3.org/2000/svg\" xmlns:xlink=\"http://www.w3.org/1999/xlink\">\n <metadata>\n  <rdf:RDF xmlns:cc=\"http://creativecommons.org/ns#\" xmlns:dc=\"http://purl.org/dc/elements/1.1/\" xmlns:rdf=\"http://www.w3.org/1999/02/22-rdf-syntax-ns#\">\n   <cc:Work>\n    <dc:type rdf:resource=\"http://purl.org/dc/dcmitype/StillImage\"/>\n    <dc:date>2021-06-22T18:45:44.782127</dc:date>\n    <dc:format>image/svg+xml</dc:format>\n    <dc:creator>\n     <cc:Agent>\n      <dc:title>Matplotlib v3.4.2, https://matplotlib.org/</dc:title>\n     </cc:Agent>\n    </dc:creator>\n   </cc:Work>\n  </rdf:RDF>\n </metadata>\n <defs>\n  <style type=\"text/css\">*{stroke-linecap:butt;stroke-linejoin:round;}</style>\n </defs>\n <g id=\"figure_1\">\n  <g id=\"patch_1\">\n   <path d=\"M 0 386.3125 \nL 730.128125 386.3125 \nL 730.128125 0 \nL 0 0 \nz\n\" style=\"fill:none;\"/>\n  </g>\n  <g id=\"axes_1\">\n   <g id=\"patch_2\">\n    <path d=\"M 53.328125 348.478125 \nL 722.928125 348.478125 \nL 722.928125 22.318125 \nL 53.328125 22.318125 \nz\n\" style=\"fill:#ffffff;\"/>\n   </g>\n   <g id=\"patch_3\">\n    <path clip-path=\"url(#pdf37fa8be1)\" d=\"M 70.068125 348.478125 \nL 203.988125 348.478125 \nL 203.988125 37.849554 \nL 70.068125 37.849554 \nz\n\" style=\"fill:#88b0cb;\"/>\n   </g>\n   <g id=\"patch_4\">\n    <path clip-path=\"url(#pdf37fa8be1)\" d=\"M 237.468125 348.478125 \nL 371.388125 348.478125 \nL 371.388125 215.923846 \nL 237.468125 215.923846 \nz\n\" style=\"fill:#5d93b9;\"/>\n   </g>\n   <g id=\"patch_5\">\n    <path clip-path=\"url(#pdf37fa8be1)\" d=\"M 404.868125 348.478125 \nL 538.788125 348.478125 \nL 538.788125 262.791252 \nL 404.868125 262.791252 \nz\n\" style=\"fill:#447496;\"/>\n   </g>\n   <g id=\"patch_6\">\n    <path clip-path=\"url(#pdf37fa8be1)\" d=\"M 572.268125 348.478125 \nL 706.188125 348.478125 \nL 706.188125 301.282975 \nL 572.268125 301.282975 \nz\n\" style=\"fill:#3b5365;\"/>\n   </g>\n   <g id=\"matplotlib.axis_1\">\n    <g id=\"xtick_1\">\n     <g id=\"line2d_1\">\n      <defs>\n       <path d=\"M 0 0 \nL 0 3.5 \n\" id=\"m448cedf909\" style=\"stroke:#000000;stroke-width:0.8;\"/>\n      </defs>\n      <g>\n       <use style=\"stroke:#000000;stroke-width:0.8;\" x=\"137.028125\" xlink:href=\"#m448cedf909\" y=\"348.478125\"/>\n      </g>\n     </g>\n     <g id=\"text_1\">\n      <!-- Positive(1) -->\n      <g transform=\"translate(110.673438 363.076562)scale(0.1 -0.1)\">\n       <defs>\n        <path d=\"M 1259 4147 \nL 1259 2394 \nL 2053 2394 \nQ 2494 2394 2734 2622 \nQ 2975 2850 2975 3272 \nQ 2975 3691 2734 3919 \nQ 2494 4147 2053 4147 \nL 1259 4147 \nz\nM 628 4666 \nL 2053 4666 \nQ 2838 4666 3239 4311 \nQ 3641 3956 3641 3272 \nQ 3641 2581 3239 2228 \nQ 2838 1875 2053 1875 \nL 1259 1875 \nL 1259 0 \nL 628 0 \nL 628 4666 \nz\n\" id=\"DejaVuSans-50\" transform=\"scale(0.015625)\"/>\n        <path d=\"M 1959 3097 \nQ 1497 3097 1228 2736 \nQ 959 2375 959 1747 \nQ 959 1119 1226 758 \nQ 1494 397 1959 397 \nQ 2419 397 2687 759 \nQ 2956 1122 2956 1747 \nQ 2956 2369 2687 2733 \nQ 2419 3097 1959 3097 \nz\nM 1959 3584 \nQ 2709 3584 3137 3096 \nQ 3566 2609 3566 1747 \nQ 3566 888 3137 398 \nQ 2709 -91 1959 -91 \nQ 1206 -91 779 398 \nQ 353 888 353 1747 \nQ 353 2609 779 3096 \nQ 1206 3584 1959 3584 \nz\n\" id=\"DejaVuSans-6f\" transform=\"scale(0.015625)\"/>\n        <path d=\"M 2834 3397 \nL 2834 2853 \nQ 2591 2978 2328 3040 \nQ 2066 3103 1784 3103 \nQ 1356 3103 1142 2972 \nQ 928 2841 928 2578 \nQ 928 2378 1081 2264 \nQ 1234 2150 1697 2047 \nL 1894 2003 \nQ 2506 1872 2764 1633 \nQ 3022 1394 3022 966 \nQ 3022 478 2636 193 \nQ 2250 -91 1575 -91 \nQ 1294 -91 989 -36 \nQ 684 19 347 128 \nL 347 722 \nQ 666 556 975 473 \nQ 1284 391 1588 391 \nQ 1994 391 2212 530 \nQ 2431 669 2431 922 \nQ 2431 1156 2273 1281 \nQ 2116 1406 1581 1522 \nL 1381 1569 \nQ 847 1681 609 1914 \nQ 372 2147 372 2553 \nQ 372 3047 722 3315 \nQ 1072 3584 1716 3584 \nQ 2034 3584 2315 3537 \nQ 2597 3491 2834 3397 \nz\n\" id=\"DejaVuSans-73\" transform=\"scale(0.015625)\"/>\n        <path d=\"M 603 3500 \nL 1178 3500 \nL 1178 0 \nL 603 0 \nL 603 3500 \nz\nM 603 4863 \nL 1178 4863 \nL 1178 4134 \nL 603 4134 \nL 603 4863 \nz\n\" id=\"DejaVuSans-69\" transform=\"scale(0.015625)\"/>\n        <path d=\"M 1172 4494 \nL 1172 3500 \nL 2356 3500 \nL 2356 3053 \nL 1172 3053 \nL 1172 1153 \nQ 1172 725 1289 603 \nQ 1406 481 1766 481 \nL 2356 481 \nL 2356 0 \nL 1766 0 \nQ 1100 0 847 248 \nQ 594 497 594 1153 \nL 594 3053 \nL 172 3053 \nL 172 3500 \nL 594 3500 \nL 594 4494 \nL 1172 4494 \nz\n\" id=\"DejaVuSans-74\" transform=\"scale(0.015625)\"/>\n        <path d=\"M 191 3500 \nL 800 3500 \nL 1894 563 \nL 2988 3500 \nL 3597 3500 \nL 2284 0 \nL 1503 0 \nL 191 3500 \nz\n\" id=\"DejaVuSans-76\" transform=\"scale(0.015625)\"/>\n        <path d=\"M 3597 1894 \nL 3597 1613 \nL 953 1613 \nQ 991 1019 1311 708 \nQ 1631 397 2203 397 \nQ 2534 397 2845 478 \nQ 3156 559 3463 722 \nL 3463 178 \nQ 3153 47 2828 -22 \nQ 2503 -91 2169 -91 \nQ 1331 -91 842 396 \nQ 353 884 353 1716 \nQ 353 2575 817 3079 \nQ 1281 3584 2069 3584 \nQ 2775 3584 3186 3129 \nQ 3597 2675 3597 1894 \nz\nM 3022 2063 \nQ 3016 2534 2758 2815 \nQ 2500 3097 2075 3097 \nQ 1594 3097 1305 2825 \nQ 1016 2553 972 2059 \nL 3022 2063 \nz\n\" id=\"DejaVuSans-65\" transform=\"scale(0.015625)\"/>\n        <path d=\"M 1984 4856 \nQ 1566 4138 1362 3434 \nQ 1159 2731 1159 2009 \nQ 1159 1288 1364 580 \nQ 1569 -128 1984 -844 \nL 1484 -844 \nQ 1016 -109 783 600 \nQ 550 1309 550 2009 \nQ 550 2706 781 3412 \nQ 1013 4119 1484 4856 \nL 1984 4856 \nz\n\" id=\"DejaVuSans-28\" transform=\"scale(0.015625)\"/>\n        <path d=\"M 794 531 \nL 1825 531 \nL 1825 4091 \nL 703 3866 \nL 703 4441 \nL 1819 4666 \nL 2450 4666 \nL 2450 531 \nL 3481 531 \nL 3481 0 \nL 794 0 \nL 794 531 \nz\n\" id=\"DejaVuSans-31\" transform=\"scale(0.015625)\"/>\n        <path d=\"M 513 4856 \nL 1013 4856 \nQ 1481 4119 1714 3412 \nQ 1947 2706 1947 2009 \nQ 1947 1309 1714 600 \nQ 1481 -109 1013 -844 \nL 513 -844 \nQ 928 -128 1133 580 \nQ 1338 1288 1338 2009 \nQ 1338 2731 1133 3434 \nQ 928 4138 513 4856 \nz\n\" id=\"DejaVuSans-29\" transform=\"scale(0.015625)\"/>\n       </defs>\n       <use xlink:href=\"#DejaVuSans-50\"/>\n       <use x=\"56.677734\" xlink:href=\"#DejaVuSans-6f\"/>\n       <use x=\"117.859375\" xlink:href=\"#DejaVuSans-73\"/>\n       <use x=\"169.958984\" xlink:href=\"#DejaVuSans-69\"/>\n       <use x=\"197.742188\" xlink:href=\"#DejaVuSans-74\"/>\n       <use x=\"236.951172\" xlink:href=\"#DejaVuSans-69\"/>\n       <use x=\"264.734375\" xlink:href=\"#DejaVuSans-76\"/>\n       <use x=\"323.914062\" xlink:href=\"#DejaVuSans-65\"/>\n       <use x=\"385.4375\" xlink:href=\"#DejaVuSans-28\"/>\n       <use x=\"424.451172\" xlink:href=\"#DejaVuSans-31\"/>\n       <use x=\"488.074219\" xlink:href=\"#DejaVuSans-29\"/>\n      </g>\n     </g>\n    </g>\n    <g id=\"xtick_2\">\n     <g id=\"line2d_2\">\n      <g>\n       <use style=\"stroke:#000000;stroke-width:0.8;\" x=\"304.428125\" xlink:href=\"#m448cedf909\" y=\"348.478125\"/>\n      </g>\n     </g>\n     <g id=\"text_2\">\n      <!-- News(2) -->\n      <g transform=\"translate(283.834375 363.076562)scale(0.1 -0.1)\">\n       <defs>\n        <path d=\"M 628 4666 \nL 1478 4666 \nL 3547 763 \nL 3547 4666 \nL 4159 4666 \nL 4159 0 \nL 3309 0 \nL 1241 3903 \nL 1241 0 \nL 628 0 \nL 628 4666 \nz\n\" id=\"DejaVuSans-4e\" transform=\"scale(0.015625)\"/>\n        <path d=\"M 269 3500 \nL 844 3500 \nL 1563 769 \nL 2278 3500 \nL 2956 3500 \nL 3675 769 \nL 4391 3500 \nL 4966 3500 \nL 4050 0 \nL 3372 0 \nL 2619 2869 \nL 1863 0 \nL 1184 0 \nL 269 3500 \nz\n\" id=\"DejaVuSans-77\" transform=\"scale(0.015625)\"/>\n        <path d=\"M 1228 531 \nL 3431 531 \nL 3431 0 \nL 469 0 \nL 469 531 \nQ 828 903 1448 1529 \nQ 2069 2156 2228 2338 \nQ 2531 2678 2651 2914 \nQ 2772 3150 2772 3378 \nQ 2772 3750 2511 3984 \nQ 2250 4219 1831 4219 \nQ 1534 4219 1204 4116 \nQ 875 4013 500 3803 \nL 500 4441 \nQ 881 4594 1212 4672 \nQ 1544 4750 1819 4750 \nQ 2544 4750 2975 4387 \nQ 3406 4025 3406 3419 \nQ 3406 3131 3298 2873 \nQ 3191 2616 2906 2266 \nQ 2828 2175 2409 1742 \nQ 1991 1309 1228 531 \nz\n\" id=\"DejaVuSans-32\" transform=\"scale(0.015625)\"/>\n       </defs>\n       <use xlink:href=\"#DejaVuSans-4e\"/>\n       <use x=\"74.804688\" xlink:href=\"#DejaVuSans-65\"/>\n       <use x=\"136.328125\" xlink:href=\"#DejaVuSans-77\"/>\n       <use x=\"218.115234\" xlink:href=\"#DejaVuSans-73\"/>\n       <use x=\"270.214844\" xlink:href=\"#DejaVuSans-28\"/>\n       <use x=\"309.228516\" xlink:href=\"#DejaVuSans-32\"/>\n       <use x=\"372.851562\" xlink:href=\"#DejaVuSans-29\"/>\n      </g>\n     </g>\n    </g>\n    <g id=\"xtick_3\">\n     <g id=\"line2d_3\">\n      <g>\n       <use style=\"stroke:#000000;stroke-width:0.8;\" x=\"471.828125\" xlink:href=\"#m448cedf909\" y=\"348.478125\"/>\n      </g>\n     </g>\n     <g id=\"text_3\">\n      <!-- Neutral(0) -->\n      <g transform=\"translate(446.290625 363.076562)scale(0.1 -0.1)\">\n       <defs>\n        <path d=\"M 544 1381 \nL 544 3500 \nL 1119 3500 \nL 1119 1403 \nQ 1119 906 1312 657 \nQ 1506 409 1894 409 \nQ 2359 409 2629 706 \nQ 2900 1003 2900 1516 \nL 2900 3500 \nL 3475 3500 \nL 3475 0 \nL 2900 0 \nL 2900 538 \nQ 2691 219 2414 64 \nQ 2138 -91 1772 -91 \nQ 1169 -91 856 284 \nQ 544 659 544 1381 \nz\nM 1991 3584 \nL 1991 3584 \nz\n\" id=\"DejaVuSans-75\" transform=\"scale(0.015625)\"/>\n        <path d=\"M 2631 2963 \nQ 2534 3019 2420 3045 \nQ 2306 3072 2169 3072 \nQ 1681 3072 1420 2755 \nQ 1159 2438 1159 1844 \nL 1159 0 \nL 581 0 \nL 581 3500 \nL 1159 3500 \nL 1159 2956 \nQ 1341 3275 1631 3429 \nQ 1922 3584 2338 3584 \nQ 2397 3584 2469 3576 \nQ 2541 3569 2628 3553 \nL 2631 2963 \nz\n\" id=\"DejaVuSans-72\" transform=\"scale(0.015625)\"/>\n        <path d=\"M 2194 1759 \nQ 1497 1759 1228 1600 \nQ 959 1441 959 1056 \nQ 959 750 1161 570 \nQ 1363 391 1709 391 \nQ 2188 391 2477 730 \nQ 2766 1069 2766 1631 \nL 2766 1759 \nL 2194 1759 \nz\nM 3341 1997 \nL 3341 0 \nL 2766 0 \nL 2766 531 \nQ 2569 213 2275 61 \nQ 1981 -91 1556 -91 \nQ 1019 -91 701 211 \nQ 384 513 384 1019 \nQ 384 1609 779 1909 \nQ 1175 2209 1959 2209 \nL 2766 2209 \nL 2766 2266 \nQ 2766 2663 2505 2880 \nQ 2244 3097 1772 3097 \nQ 1472 3097 1187 3025 \nQ 903 2953 641 2809 \nL 641 3341 \nQ 956 3463 1253 3523 \nQ 1550 3584 1831 3584 \nQ 2591 3584 2966 3190 \nQ 3341 2797 3341 1997 \nz\n\" id=\"DejaVuSans-61\" transform=\"scale(0.015625)\"/>\n        <path d=\"M 603 4863 \nL 1178 4863 \nL 1178 0 \nL 603 0 \nL 603 4863 \nz\n\" id=\"DejaVuSans-6c\" transform=\"scale(0.015625)\"/>\n        <path d=\"M 2034 4250 \nQ 1547 4250 1301 3770 \nQ 1056 3291 1056 2328 \nQ 1056 1369 1301 889 \nQ 1547 409 2034 409 \nQ 2525 409 2770 889 \nQ 3016 1369 3016 2328 \nQ 3016 3291 2770 3770 \nQ 2525 4250 2034 4250 \nz\nM 2034 4750 \nQ 2819 4750 3233 4129 \nQ 3647 3509 3647 2328 \nQ 3647 1150 3233 529 \nQ 2819 -91 2034 -91 \nQ 1250 -91 836 529 \nQ 422 1150 422 2328 \nQ 422 3509 836 4129 \nQ 1250 4750 2034 4750 \nz\n\" id=\"DejaVuSans-30\" transform=\"scale(0.015625)\"/>\n       </defs>\n       <use xlink:href=\"#DejaVuSans-4e\"/>\n       <use x=\"74.804688\" xlink:href=\"#DejaVuSans-65\"/>\n       <use x=\"136.328125\" xlink:href=\"#DejaVuSans-75\"/>\n       <use x=\"199.707031\" xlink:href=\"#DejaVuSans-74\"/>\n       <use x=\"238.916016\" xlink:href=\"#DejaVuSans-72\"/>\n       <use x=\"280.029297\" xlink:href=\"#DejaVuSans-61\"/>\n       <use x=\"341.308594\" xlink:href=\"#DejaVuSans-6c\"/>\n       <use x=\"369.091797\" xlink:href=\"#DejaVuSans-28\"/>\n       <use x=\"408.105469\" xlink:href=\"#DejaVuSans-30\"/>\n       <use x=\"471.728516\" xlink:href=\"#DejaVuSans-29\"/>\n      </g>\n     </g>\n    </g>\n    <g id=\"xtick_4\">\n     <g id=\"line2d_4\">\n      <g>\n       <use style=\"stroke:#000000;stroke-width:0.8;\" x=\"639.228125\" xlink:href=\"#m448cedf909\" y=\"348.478125\"/>\n      </g>\n     </g>\n     <g id=\"text_4\">\n      <!-- Negative(-1) -->\n      <g transform=\"translate(607.900781 363.076562)scale(0.1 -0.1)\">\n       <defs>\n        <path d=\"M 2906 1791 \nQ 2906 2416 2648 2759 \nQ 2391 3103 1925 3103 \nQ 1463 3103 1205 2759 \nQ 947 2416 947 1791 \nQ 947 1169 1205 825 \nQ 1463 481 1925 481 \nQ 2391 481 2648 825 \nQ 2906 1169 2906 1791 \nz\nM 3481 434 \nQ 3481 -459 3084 -895 \nQ 2688 -1331 1869 -1331 \nQ 1566 -1331 1297 -1286 \nQ 1028 -1241 775 -1147 \nL 775 -588 \nQ 1028 -725 1275 -790 \nQ 1522 -856 1778 -856 \nQ 2344 -856 2625 -561 \nQ 2906 -266 2906 331 \nL 2906 616 \nQ 2728 306 2450 153 \nQ 2172 0 1784 0 \nQ 1141 0 747 490 \nQ 353 981 353 1791 \nQ 353 2603 747 3093 \nQ 1141 3584 1784 3584 \nQ 2172 3584 2450 3431 \nQ 2728 3278 2906 2969 \nL 2906 3500 \nL 3481 3500 \nL 3481 434 \nz\n\" id=\"DejaVuSans-67\" transform=\"scale(0.015625)\"/>\n        <path d=\"M 313 2009 \nL 1997 2009 \nL 1997 1497 \nL 313 1497 \nL 313 2009 \nz\n\" id=\"DejaVuSans-2d\" transform=\"scale(0.015625)\"/>\n       </defs>\n       <use xlink:href=\"#DejaVuSans-4e\"/>\n       <use x=\"74.804688\" xlink:href=\"#DejaVuSans-65\"/>\n       <use x=\"136.328125\" xlink:href=\"#DejaVuSans-67\"/>\n       <use x=\"199.804688\" xlink:href=\"#DejaVuSans-61\"/>\n       <use x=\"261.083984\" xlink:href=\"#DejaVuSans-74\"/>\n       <use x=\"300.292969\" xlink:href=\"#DejaVuSans-69\"/>\n       <use x=\"328.076172\" xlink:href=\"#DejaVuSans-76\"/>\n       <use x=\"387.255859\" xlink:href=\"#DejaVuSans-65\"/>\n       <use x=\"448.779297\" xlink:href=\"#DejaVuSans-28\"/>\n       <use x=\"487.792969\" xlink:href=\"#DejaVuSans-2d\"/>\n       <use x=\"523.876953\" xlink:href=\"#DejaVuSans-31\"/>\n       <use x=\"587.5\" xlink:href=\"#DejaVuSans-29\"/>\n      </g>\n     </g>\n    </g>\n    <g id=\"text_5\">\n     <!-- class_label -->\n     <g transform=\"translate(361.123438 376.754687)scale(0.1 -0.1)\">\n      <defs>\n       <path d=\"M 3122 3366 \nL 3122 2828 \nQ 2878 2963 2633 3030 \nQ 2388 3097 2138 3097 \nQ 1578 3097 1268 2742 \nQ 959 2388 959 1747 \nQ 959 1106 1268 751 \nQ 1578 397 2138 397 \nQ 2388 397 2633 464 \nQ 2878 531 3122 666 \nL 3122 134 \nQ 2881 22 2623 -34 \nQ 2366 -91 2075 -91 \nQ 1284 -91 818 406 \nQ 353 903 353 1747 \nQ 353 2603 823 3093 \nQ 1294 3584 2113 3584 \nQ 2378 3584 2631 3529 \nQ 2884 3475 3122 3366 \nz\n\" id=\"DejaVuSans-63\" transform=\"scale(0.015625)\"/>\n       <path d=\"M 3263 -1063 \nL 3263 -1509 \nL -63 -1509 \nL -63 -1063 \nL 3263 -1063 \nz\n\" id=\"DejaVuSans-5f\" transform=\"scale(0.015625)\"/>\n       <path d=\"M 3116 1747 \nQ 3116 2381 2855 2742 \nQ 2594 3103 2138 3103 \nQ 1681 3103 1420 2742 \nQ 1159 2381 1159 1747 \nQ 1159 1113 1420 752 \nQ 1681 391 2138 391 \nQ 2594 391 2855 752 \nQ 3116 1113 3116 1747 \nz\nM 1159 2969 \nQ 1341 3281 1617 3432 \nQ 1894 3584 2278 3584 \nQ 2916 3584 3314 3078 \nQ 3713 2572 3713 1747 \nQ 3713 922 3314 415 \nQ 2916 -91 2278 -91 \nQ 1894 -91 1617 61 \nQ 1341 213 1159 525 \nL 1159 0 \nL 581 0 \nL 581 4863 \nL 1159 4863 \nL 1159 2969 \nz\n\" id=\"DejaVuSans-62\" transform=\"scale(0.015625)\"/>\n      </defs>\n      <use xlink:href=\"#DejaVuSans-63\"/>\n      <use x=\"54.980469\" xlink:href=\"#DejaVuSans-6c\"/>\n      <use x=\"82.763672\" xlink:href=\"#DejaVuSans-61\"/>\n      <use x=\"144.042969\" xlink:href=\"#DejaVuSans-73\"/>\n      <use x=\"196.142578\" xlink:href=\"#DejaVuSans-73\"/>\n      <use x=\"248.242188\" xlink:href=\"#DejaVuSans-5f\"/>\n      <use x=\"298.242188\" xlink:href=\"#DejaVuSans-6c\"/>\n      <use x=\"326.025391\" xlink:href=\"#DejaVuSans-61\"/>\n      <use x=\"387.304688\" xlink:href=\"#DejaVuSans-62\"/>\n      <use x=\"450.78125\" xlink:href=\"#DejaVuSans-65\"/>\n      <use x=\"512.304688\" xlink:href=\"#DejaVuSans-6c\"/>\n     </g>\n    </g>\n   </g>\n   <g id=\"matplotlib.axis_2\">\n    <g id=\"ytick_1\">\n     <g id=\"line2d_5\">\n      <defs>\n       <path d=\"M 0 0 \nL -3.5 0 \n\" id=\"m0e3b71515b\" style=\"stroke:#000000;stroke-width:0.8;\"/>\n      </defs>\n      <g>\n       <use style=\"stroke:#000000;stroke-width:0.8;\" x=\"53.328125\" xlink:href=\"#m0e3b71515b\" y=\"348.478125\"/>\n      </g>\n     </g>\n     <g id=\"text_6\">\n      <!-- 0 -->\n      <g transform=\"translate(39.965625 352.277344)scale(0.1 -0.1)\">\n       <use xlink:href=\"#DejaVuSans-30\"/>\n      </g>\n     </g>\n    </g>\n    <g id=\"ytick_2\">\n     <g id=\"line2d_6\">\n      <g>\n       <use style=\"stroke:#000000;stroke-width:0.8;\" x=\"53.328125\" xlink:href=\"#m0e3b71515b\" y=\"312.062114\"/>\n      </g>\n     </g>\n     <g id=\"text_7\">\n      <!-- 1000 -->\n      <g transform=\"translate(20.878125 315.861333)scale(0.1 -0.1)\">\n       <use xlink:href=\"#DejaVuSans-31\"/>\n       <use x=\"63.623047\" xlink:href=\"#DejaVuSans-30\"/>\n       <use x=\"127.246094\" xlink:href=\"#DejaVuSans-30\"/>\n       <use x=\"190.869141\" xlink:href=\"#DejaVuSans-30\"/>\n      </g>\n     </g>\n    </g>\n    <g id=\"ytick_3\">\n     <g id=\"line2d_7\">\n      <g>\n       <use style=\"stroke:#000000;stroke-width:0.8;\" x=\"53.328125\" xlink:href=\"#m0e3b71515b\" y=\"275.646104\"/>\n      </g>\n     </g>\n     <g id=\"text_8\">\n      <!-- 2000 -->\n      <g transform=\"translate(20.878125 279.445322)scale(0.1 -0.1)\">\n       <use xlink:href=\"#DejaVuSans-32\"/>\n       <use x=\"63.623047\" xlink:href=\"#DejaVuSans-30\"/>\n       <use x=\"127.246094\" xlink:href=\"#DejaVuSans-30\"/>\n       <use x=\"190.869141\" xlink:href=\"#DejaVuSans-30\"/>\n      </g>\n     </g>\n    </g>\n    <g id=\"ytick_4\">\n     <g id=\"line2d_8\">\n      <g>\n       <use style=\"stroke:#000000;stroke-width:0.8;\" x=\"53.328125\" xlink:href=\"#m0e3b71515b\" y=\"239.230093\"/>\n      </g>\n     </g>\n     <g id=\"text_9\">\n      <!-- 3000 -->\n      <g transform=\"translate(20.878125 243.029312)scale(0.1 -0.1)\">\n       <defs>\n        <path d=\"M 2597 2516 \nQ 3050 2419 3304 2112 \nQ 3559 1806 3559 1356 \nQ 3559 666 3084 287 \nQ 2609 -91 1734 -91 \nQ 1441 -91 1130 -33 \nQ 819 25 488 141 \nL 488 750 \nQ 750 597 1062 519 \nQ 1375 441 1716 441 \nQ 2309 441 2620 675 \nQ 2931 909 2931 1356 \nQ 2931 1769 2642 2001 \nQ 2353 2234 1838 2234 \nL 1294 2234 \nL 1294 2753 \nL 1863 2753 \nQ 2328 2753 2575 2939 \nQ 2822 3125 2822 3475 \nQ 2822 3834 2567 4026 \nQ 2313 4219 1838 4219 \nQ 1578 4219 1281 4162 \nQ 984 4106 628 3988 \nL 628 4550 \nQ 988 4650 1302 4700 \nQ 1616 4750 1894 4750 \nQ 2613 4750 3031 4423 \nQ 3450 4097 3450 3541 \nQ 3450 3153 3228 2886 \nQ 3006 2619 2597 2516 \nz\n\" id=\"DejaVuSans-33\" transform=\"scale(0.015625)\"/>\n       </defs>\n       <use xlink:href=\"#DejaVuSans-33\"/>\n       <use x=\"63.623047\" xlink:href=\"#DejaVuSans-30\"/>\n       <use x=\"127.246094\" xlink:href=\"#DejaVuSans-30\"/>\n       <use x=\"190.869141\" xlink:href=\"#DejaVuSans-30\"/>\n      </g>\n     </g>\n    </g>\n    <g id=\"ytick_5\">\n     <g id=\"line2d_9\">\n      <g>\n       <use style=\"stroke:#000000;stroke-width:0.8;\" x=\"53.328125\" xlink:href=\"#m0e3b71515b\" y=\"202.814082\"/>\n      </g>\n     </g>\n     <g id=\"text_10\">\n      <!-- 4000 -->\n      <g transform=\"translate(20.878125 206.613301)scale(0.1 -0.1)\">\n       <defs>\n        <path d=\"M 2419 4116 \nL 825 1625 \nL 2419 1625 \nL 2419 4116 \nz\nM 2253 4666 \nL 3047 4666 \nL 3047 1625 \nL 3713 1625 \nL 3713 1100 \nL 3047 1100 \nL 3047 0 \nL 2419 0 \nL 2419 1100 \nL 313 1100 \nL 313 1709 \nL 2253 4666 \nz\n\" id=\"DejaVuSans-34\" transform=\"scale(0.015625)\"/>\n       </defs>\n       <use xlink:href=\"#DejaVuSans-34\"/>\n       <use x=\"63.623047\" xlink:href=\"#DejaVuSans-30\"/>\n       <use x=\"127.246094\" xlink:href=\"#DejaVuSans-30\"/>\n       <use x=\"190.869141\" xlink:href=\"#DejaVuSans-30\"/>\n      </g>\n     </g>\n    </g>\n    <g id=\"ytick_6\">\n     <g id=\"line2d_10\">\n      <g>\n       <use style=\"stroke:#000000;stroke-width:0.8;\" x=\"53.328125\" xlink:href=\"#m0e3b71515b\" y=\"166.398071\"/>\n      </g>\n     </g>\n     <g id=\"text_11\">\n      <!-- 5000 -->\n      <g transform=\"translate(20.878125 170.19729)scale(0.1 -0.1)\">\n       <defs>\n        <path d=\"M 691 4666 \nL 3169 4666 \nL 3169 4134 \nL 1269 4134 \nL 1269 2991 \nQ 1406 3038 1543 3061 \nQ 1681 3084 1819 3084 \nQ 2600 3084 3056 2656 \nQ 3513 2228 3513 1497 \nQ 3513 744 3044 326 \nQ 2575 -91 1722 -91 \nQ 1428 -91 1123 -41 \nQ 819 9 494 109 \nL 494 744 \nQ 775 591 1075 516 \nQ 1375 441 1709 441 \nQ 2250 441 2565 725 \nQ 2881 1009 2881 1497 \nQ 2881 1984 2565 2268 \nQ 2250 2553 1709 2553 \nQ 1456 2553 1204 2497 \nQ 953 2441 691 2322 \nL 691 4666 \nz\n\" id=\"DejaVuSans-35\" transform=\"scale(0.015625)\"/>\n       </defs>\n       <use xlink:href=\"#DejaVuSans-35\"/>\n       <use x=\"63.623047\" xlink:href=\"#DejaVuSans-30\"/>\n       <use x=\"127.246094\" xlink:href=\"#DejaVuSans-30\"/>\n       <use x=\"190.869141\" xlink:href=\"#DejaVuSans-30\"/>\n      </g>\n     </g>\n    </g>\n    <g id=\"ytick_7\">\n     <g id=\"line2d_11\">\n      <g>\n       <use style=\"stroke:#000000;stroke-width:0.8;\" x=\"53.328125\" xlink:href=\"#m0e3b71515b\" y=\"129.982061\"/>\n      </g>\n     </g>\n     <g id=\"text_12\">\n      <!-- 6000 -->\n      <g transform=\"translate(20.878125 133.781279)scale(0.1 -0.1)\">\n       <defs>\n        <path d=\"M 2113 2584 \nQ 1688 2584 1439 2293 \nQ 1191 2003 1191 1497 \nQ 1191 994 1439 701 \nQ 1688 409 2113 409 \nQ 2538 409 2786 701 \nQ 3034 994 3034 1497 \nQ 3034 2003 2786 2293 \nQ 2538 2584 2113 2584 \nz\nM 3366 4563 \nL 3366 3988 \nQ 3128 4100 2886 4159 \nQ 2644 4219 2406 4219 \nQ 1781 4219 1451 3797 \nQ 1122 3375 1075 2522 \nQ 1259 2794 1537 2939 \nQ 1816 3084 2150 3084 \nQ 2853 3084 3261 2657 \nQ 3669 2231 3669 1497 \nQ 3669 778 3244 343 \nQ 2819 -91 2113 -91 \nQ 1303 -91 875 529 \nQ 447 1150 447 2328 \nQ 447 3434 972 4092 \nQ 1497 4750 2381 4750 \nQ 2619 4750 2861 4703 \nQ 3103 4656 3366 4563 \nz\n\" id=\"DejaVuSans-36\" transform=\"scale(0.015625)\"/>\n       </defs>\n       <use xlink:href=\"#DejaVuSans-36\"/>\n       <use x=\"63.623047\" xlink:href=\"#DejaVuSans-30\"/>\n       <use x=\"127.246094\" xlink:href=\"#DejaVuSans-30\"/>\n       <use x=\"190.869141\" xlink:href=\"#DejaVuSans-30\"/>\n      </g>\n     </g>\n    </g>\n    <g id=\"ytick_8\">\n     <g id=\"line2d_12\">\n      <g>\n       <use style=\"stroke:#000000;stroke-width:0.8;\" x=\"53.328125\" xlink:href=\"#m0e3b71515b\" y=\"93.56605\"/>\n      </g>\n     </g>\n     <g id=\"text_13\">\n      <!-- 7000 -->\n      <g transform=\"translate(20.878125 97.365269)scale(0.1 -0.1)\">\n       <defs>\n        <path d=\"M 525 4666 \nL 3525 4666 \nL 3525 4397 \nL 1831 0 \nL 1172 0 \nL 2766 4134 \nL 525 4134 \nL 525 4666 \nz\n\" id=\"DejaVuSans-37\" transform=\"scale(0.015625)\"/>\n       </defs>\n       <use xlink:href=\"#DejaVuSans-37\"/>\n       <use x=\"63.623047\" xlink:href=\"#DejaVuSans-30\"/>\n       <use x=\"127.246094\" xlink:href=\"#DejaVuSans-30\"/>\n       <use x=\"190.869141\" xlink:href=\"#DejaVuSans-30\"/>\n      </g>\n     </g>\n    </g>\n    <g id=\"ytick_9\">\n     <g id=\"line2d_13\">\n      <g>\n       <use style=\"stroke:#000000;stroke-width:0.8;\" x=\"53.328125\" xlink:href=\"#m0e3b71515b\" y=\"57.150039\"/>\n      </g>\n     </g>\n     <g id=\"text_14\">\n      <!-- 8000 -->\n      <g transform=\"translate(20.878125 60.949258)scale(0.1 -0.1)\">\n       <defs>\n        <path d=\"M 2034 2216 \nQ 1584 2216 1326 1975 \nQ 1069 1734 1069 1313 \nQ 1069 891 1326 650 \nQ 1584 409 2034 409 \nQ 2484 409 2743 651 \nQ 3003 894 3003 1313 \nQ 3003 1734 2745 1975 \nQ 2488 2216 2034 2216 \nz\nM 1403 2484 \nQ 997 2584 770 2862 \nQ 544 3141 544 3541 \nQ 544 4100 942 4425 \nQ 1341 4750 2034 4750 \nQ 2731 4750 3128 4425 \nQ 3525 4100 3525 3541 \nQ 3525 3141 3298 2862 \nQ 3072 2584 2669 2484 \nQ 3125 2378 3379 2068 \nQ 3634 1759 3634 1313 \nQ 3634 634 3220 271 \nQ 2806 -91 2034 -91 \nQ 1263 -91 848 271 \nQ 434 634 434 1313 \nQ 434 1759 690 2068 \nQ 947 2378 1403 2484 \nz\nM 1172 3481 \nQ 1172 3119 1398 2916 \nQ 1625 2713 2034 2713 \nQ 2441 2713 2670 2916 \nQ 2900 3119 2900 3481 \nQ 2900 3844 2670 4047 \nQ 2441 4250 2034 4250 \nQ 1625 4250 1398 4047 \nQ 1172 3844 1172 3481 \nz\n\" id=\"DejaVuSans-38\" transform=\"scale(0.015625)\"/>\n       </defs>\n       <use xlink:href=\"#DejaVuSans-38\"/>\n       <use x=\"63.623047\" xlink:href=\"#DejaVuSans-30\"/>\n       <use x=\"127.246094\" xlink:href=\"#DejaVuSans-30\"/>\n       <use x=\"190.869141\" xlink:href=\"#DejaVuSans-30\"/>\n      </g>\n     </g>\n    </g>\n    <g id=\"text_15\">\n     <!-- count -->\n     <g transform=\"translate(14.798438 199.504375)rotate(-90)scale(0.1 -0.1)\">\n      <defs>\n       <path d=\"M 3513 2113 \nL 3513 0 \nL 2938 0 \nL 2938 2094 \nQ 2938 2591 2744 2837 \nQ 2550 3084 2163 3084 \nQ 1697 3084 1428 2787 \nQ 1159 2491 1159 1978 \nL 1159 0 \nL 581 0 \nL 581 3500 \nL 1159 3500 \nL 1159 2956 \nQ 1366 3272 1645 3428 \nQ 1925 3584 2291 3584 \nQ 2894 3584 3203 3211 \nQ 3513 2838 3513 2113 \nz\n\" id=\"DejaVuSans-6e\" transform=\"scale(0.015625)\"/>\n      </defs>\n      <use xlink:href=\"#DejaVuSans-63\"/>\n      <use x=\"54.980469\" xlink:href=\"#DejaVuSans-6f\"/>\n      <use x=\"116.162109\" xlink:href=\"#DejaVuSans-75\"/>\n      <use x=\"179.541016\" xlink:href=\"#DejaVuSans-6e\"/>\n      <use x=\"242.919922\" xlink:href=\"#DejaVuSans-74\"/>\n     </g>\n    </g>\n   </g>\n   <g id=\"patch_7\">\n    <path d=\"M 53.328125 348.478125 \nL 53.328125 22.318125 \n\" style=\"fill:none;stroke:#000000;stroke-linecap:square;stroke-linejoin:miter;stroke-width:0.8;\"/>\n   </g>\n   <g id=\"patch_8\">\n    <path d=\"M 722.928125 348.478125 \nL 722.928125 22.318125 \n\" style=\"fill:none;stroke:#000000;stroke-linecap:square;stroke-linejoin:miter;stroke-width:0.8;\"/>\n   </g>\n   <g id=\"patch_9\">\n    <path d=\"M 53.328125 348.478125 \nL 722.928125 348.478125 \n\" style=\"fill:none;stroke:#000000;stroke-linecap:square;stroke-linejoin:miter;stroke-width:0.8;\"/>\n   </g>\n   <g id=\"patch_10\">\n    <path d=\"M 53.328125 22.318125 \nL 722.928125 22.318125 \n\" style=\"fill:none;stroke:#000000;stroke-linecap:square;stroke-linejoin:miter;stroke-width:0.8;\"/>\n   </g>\n   <g id=\"text_16\">\n    <!-- Count of Sentiments -->\n    <g transform=\"translate(326.57375 16.318125)scale(0.12 -0.12)\">\n     <defs>\n      <path d=\"M 4122 4306 \nL 4122 3641 \nQ 3803 3938 3442 4084 \nQ 3081 4231 2675 4231 \nQ 1875 4231 1450 3742 \nQ 1025 3253 1025 2328 \nQ 1025 1406 1450 917 \nQ 1875 428 2675 428 \nQ 3081 428 3442 575 \nQ 3803 722 4122 1019 \nL 4122 359 \nQ 3791 134 3420 21 \nQ 3050 -91 2638 -91 \nQ 1578 -91 968 557 \nQ 359 1206 359 2328 \nQ 359 3453 968 4101 \nQ 1578 4750 2638 4750 \nQ 3056 4750 3426 4639 \nQ 3797 4528 4122 4306 \nz\n\" id=\"DejaVuSans-43\" transform=\"scale(0.015625)\"/>\n      <path id=\"DejaVuSans-20\" transform=\"scale(0.015625)\"/>\n      <path d=\"M 2375 4863 \nL 2375 4384 \nL 1825 4384 \nQ 1516 4384 1395 4259 \nQ 1275 4134 1275 3809 \nL 1275 3500 \nL 2222 3500 \nL 2222 3053 \nL 1275 3053 \nL 1275 0 \nL 697 0 \nL 697 3053 \nL 147 3053 \nL 147 3500 \nL 697 3500 \nL 697 3744 \nQ 697 4328 969 4595 \nQ 1241 4863 1831 4863 \nL 2375 4863 \nz\n\" id=\"DejaVuSans-66\" transform=\"scale(0.015625)\"/>\n      <path d=\"M 3425 4513 \nL 3425 3897 \nQ 3066 4069 2747 4153 \nQ 2428 4238 2131 4238 \nQ 1616 4238 1336 4038 \nQ 1056 3838 1056 3469 \nQ 1056 3159 1242 3001 \nQ 1428 2844 1947 2747 \nL 2328 2669 \nQ 3034 2534 3370 2195 \nQ 3706 1856 3706 1288 \nQ 3706 609 3251 259 \nQ 2797 -91 1919 -91 \nQ 1588 -91 1214 -16 \nQ 841 59 441 206 \nL 441 856 \nQ 825 641 1194 531 \nQ 1563 422 1919 422 \nQ 2459 422 2753 634 \nQ 3047 847 3047 1241 \nQ 3047 1584 2836 1778 \nQ 2625 1972 2144 2069 \nL 1759 2144 \nQ 1053 2284 737 2584 \nQ 422 2884 422 3419 \nQ 422 4038 858 4394 \nQ 1294 4750 2059 4750 \nQ 2388 4750 2728 4690 \nQ 3069 4631 3425 4513 \nz\n\" id=\"DejaVuSans-53\" transform=\"scale(0.015625)\"/>\n      <path d=\"M 3328 2828 \nQ 3544 3216 3844 3400 \nQ 4144 3584 4550 3584 \nQ 5097 3584 5394 3201 \nQ 5691 2819 5691 2113 \nL 5691 0 \nL 5113 0 \nL 5113 2094 \nQ 5113 2597 4934 2840 \nQ 4756 3084 4391 3084 \nQ 3944 3084 3684 2787 \nQ 3425 2491 3425 1978 \nL 3425 0 \nL 2847 0 \nL 2847 2094 \nQ 2847 2600 2669 2842 \nQ 2491 3084 2119 3084 \nQ 1678 3084 1418 2786 \nQ 1159 2488 1159 1978 \nL 1159 0 \nL 581 0 \nL 581 3500 \nL 1159 3500 \nL 1159 2956 \nQ 1356 3278 1631 3431 \nQ 1906 3584 2284 3584 \nQ 2666 3584 2933 3390 \nQ 3200 3197 3328 2828 \nz\n\" id=\"DejaVuSans-6d\" transform=\"scale(0.015625)\"/>\n     </defs>\n     <use xlink:href=\"#DejaVuSans-43\"/>\n     <use x=\"69.824219\" xlink:href=\"#DejaVuSans-6f\"/>\n     <use x=\"131.005859\" xlink:href=\"#DejaVuSans-75\"/>\n     <use x=\"194.384766\" xlink:href=\"#DejaVuSans-6e\"/>\n     <use x=\"257.763672\" xlink:href=\"#DejaVuSans-74\"/>\n     <use x=\"296.972656\" xlink:href=\"#DejaVuSans-20\"/>\n     <use x=\"328.759766\" xlink:href=\"#DejaVuSans-6f\"/>\n     <use x=\"389.941406\" xlink:href=\"#DejaVuSans-66\"/>\n     <use x=\"425.146484\" xlink:href=\"#DejaVuSans-20\"/>\n     <use x=\"456.933594\" xlink:href=\"#DejaVuSans-53\"/>\n     <use x=\"520.410156\" xlink:href=\"#DejaVuSans-65\"/>\n     <use x=\"581.933594\" xlink:href=\"#DejaVuSans-6e\"/>\n     <use x=\"645.3125\" xlink:href=\"#DejaVuSans-74\"/>\n     <use x=\"684.521484\" xlink:href=\"#DejaVuSans-69\"/>\n     <use x=\"712.304688\" xlink:href=\"#DejaVuSans-6d\"/>\n     <use x=\"809.716797\" xlink:href=\"#DejaVuSans-65\"/>\n     <use x=\"871.240234\" xlink:href=\"#DejaVuSans-6e\"/>\n     <use x=\"934.619141\" xlink:href=\"#DejaVuSans-74\"/>\n     <use x=\"973.828125\" xlink:href=\"#DejaVuSans-73\"/>\n    </g>\n   </g>\n  </g>\n </g>\n <defs>\n  <clipPath id=\"pdf37fa8be1\">\n   <rect height=\"326.16\" width=\"669.6\" x=\"53.328125\" y=\"22.318125\"/>\n  </clipPath>\n </defs>\n</svg>\n",
      "image/png": "[encoded data removed]"
     },
     "metadata": {
      "needs_background": "light"
     }
    }
   ],
   "source": [
    "labels = []\n",
    "plt.figure(figsize=(12,6))\n",
    "sns.countplot(x='class_label',data=df, palette=\"Blues_d\")\n",
    "plt.title('Count of Sentiments')\n",
    "plt.show()"
   ]
  },
  {
   "cell_type": "markdown",
   "metadata": {},
   "source": [
    "## Relation between length of text and sentiment"
   ]
  },
  {
   "cell_type": "code",
   "execution_count": 23,
   "metadata": {},
   "outputs": [
    {
     "output_type": "execute_result",
     "data": {
      "text/plain": [
       "Text(0, 0.5, 'Count of Tweets')"
      ]
     },
     "metadata": {},
     "execution_count": 23
    },
    {
     "output_type": "display_data",
     "data": {
      "text/plain": "<Figure size 432x288 with 1 Axes>",
      "image/svg+xml": "<?xml version=\"1.0\" encoding=\"utf-8\" standalone=\"no\"?>\n<!DOCTYPE svg PUBLIC \"-//W3C//DTD SVG 1.1//EN\"\n  \"http://www.w3.org/Graphics/SVG/1.1/DTD/svg11.dtd\">\n<svg height=\"277.314375pt\" version=\"1.1\" viewBox=\"0 0 395.328125 277.314375\" width=\"395.328125pt\" xmlns=\"http://www.w3.org/2000/svg\" xmlns:xlink=\"http://www.w3.org/1999/xlink\">\n <metadata>\n  <rdf:RDF xmlns:cc=\"http://creativecommons.org/ns#\" xmlns:dc=\"http://purl.org/dc/elements/1.1/\" xmlns:rdf=\"http://www.w3.org/1999/02/22-rdf-syntax-ns#\">\n   <cc:Work>\n    <dc:type rdf:resource=\"http://purl.org/dc/dcmitype/StillImage\"/>\n    <dc:date>2021-06-22T18:08:42.269458</dc:date>\n    <dc:format>image/svg+xml</dc:format>\n    <dc:creator>\n     <cc:Agent>\n      <dc:title>Matplotlib v3.4.2, https://matplotlib.org/</dc:title>\n     </cc:Agent>\n    </dc:creator>\n   </cc:Work>\n  </rdf:RDF>\n </metadata>\n <defs>\n  <style type=\"text/css\">*{stroke-linecap:butt;stroke-linejoin:round;}</style>\n </defs>\n <g id=\"figure_1\">\n  <g id=\"patch_1\">\n   <path d=\"M 0 277.314375 \nL 395.328125 277.314375 \nL 395.328125 0 \nL 0 0 \nz\n\" style=\"fill:none;\"/>\n  </g>\n  <g id=\"axes_1\">\n   <g id=\"patch_2\">\n    <path d=\"M 53.328125 239.758125 \nL 388.128125 239.758125 \nL 388.128125 22.318125 \nL 53.328125 22.318125 \nz\n\" style=\"fill:#ffffff;\"/>\n   </g>\n   <g id=\"patch_3\">\n    <path clip-path=\"url(#p0fa7192fe0)\" d=\"M 68.546307 239.758125 \nL 98.98267 239.758125 \nL 98.98267 229.13244 \nL 68.546307 229.13244 \nz\n\" style=\"fill:#1f77b4;\"/>\n   </g>\n   <g id=\"patch_4\">\n    <path clip-path=\"url(#p0fa7192fe0)\" d=\"M 98.98267 239.758125 \nL 129.419034 239.758125 \nL 129.419034 137.744972 \nL 98.98267 137.744972 \nz\n\" style=\"fill:#1f77b4;\"/>\n   </g>\n   <g id=\"patch_5\">\n    <path clip-path=\"url(#p0fa7192fe0)\" d=\"M 129.419034 239.758125 \nL 159.855398 239.758125 \nL 159.855398 32.672411 \nL 129.419034 32.672411 \nz\n\" style=\"fill:#1f77b4;\"/>\n   </g>\n   <g id=\"patch_6\">\n    <path clip-path=\"url(#p0fa7192fe0)\" d=\"M 159.855398 239.758125 \nL 190.291761 239.758125 \nL 190.291761 90.801157 \nL 159.855398 90.801157 \nz\n\" style=\"fill:#1f77b4;\"/>\n   </g>\n   <g id=\"patch_7\">\n    <path clip-path=\"url(#p0fa7192fe0)\" d=\"M 190.291761 239.758125 \nL 220.728125 239.758125 \nL 220.728125 199.130507 \nL 190.291761 199.130507 \nz\n\" style=\"fill:#1f77b4;\"/>\n   </g>\n   <g id=\"patch_8\">\n    <path clip-path=\"url(#p0fa7192fe0)\" d=\"M 220.728125 239.758125 \nL 251.164489 239.758125 \nL 251.164489 231.303633 \nL 220.728125 231.303633 \nz\n\" style=\"fill:#1f77b4;\"/>\n   </g>\n   <g id=\"patch_9\">\n    <path clip-path=\"url(#p0fa7192fe0)\" d=\"M 251.164489 239.758125 \nL 281.600852 239.758125 \nL 281.600852 237.586932 \nL 251.164489 237.586932 \nz\n\" style=\"fill:#1f77b4;\"/>\n   </g>\n   <g id=\"patch_10\">\n    <path clip-path=\"url(#p0fa7192fe0)\" d=\"M 281.600852 239.758125 \nL 312.037216 239.758125 \nL 312.037216 239.39626 \nL 281.600852 239.39626 \nz\n\" style=\"fill:#1f77b4;\"/>\n   </g>\n   <g id=\"patch_11\">\n    <path clip-path=\"url(#p0fa7192fe0)\" d=\"M 312.037216 239.758125 \nL 342.47358 239.758125 \nL 342.47358 239.725228 \nL 312.037216 239.725228 \nz\n\" style=\"fill:#1f77b4;\"/>\n   </g>\n   <g id=\"patch_12\">\n    <path clip-path=\"url(#p0fa7192fe0)\" d=\"M 342.47358 239.758125 \nL 372.909943 239.758125 \nL 372.909943 239.692331 \nL 342.47358 239.692331 \nz\n\" style=\"fill:#1f77b4;\"/>\n   </g>\n   <g id=\"matplotlib.axis_1\">\n    <g id=\"xtick_1\">\n     <g id=\"line2d_1\">\n      <path clip-path=\"url(#p0fa7192fe0)\" d=\"M 58.272429 239.758125 \nL 58.272429 22.318125 \n\" style=\"fill:none;stroke:#b0b0b0;stroke-linecap:square;stroke-width:0.8;\"/>\n     </g>\n     <g id=\"line2d_2\">\n      <defs>\n       <path d=\"M 0 0 \nL 0 3.5 \n\" id=\"m23ce3eb97a\" style=\"stroke:#000000;stroke-width:0.8;\"/>\n      </defs>\n      <g>\n       <use style=\"stroke:#000000;stroke-width:0.8;\" x=\"58.272429\" xlink:href=\"#m23ce3eb97a\" y=\"239.758125\"/>\n      </g>\n     </g>\n     <g id=\"text_1\">\n      <!-- 4 -->\n      <g transform=\"translate(55.091179 254.356562)scale(0.1 -0.1)\">\n       <defs>\n        <path d=\"M 2419 4116 \nL 825 1625 \nL 2419 1625 \nL 2419 4116 \nz\nM 2253 4666 \nL 3047 4666 \nL 3047 1625 \nL 3713 1625 \nL 3713 1100 \nL 3047 1100 \nL 3047 0 \nL 2419 0 \nL 2419 1100 \nL 313 1100 \nL 313 1709 \nL 2253 4666 \nz\n\" id=\"DejaVuSans-34\" transform=\"scale(0.015625)\"/>\n       </defs>\n       <use xlink:href=\"#DejaVuSans-34\"/>\n      </g>\n     </g>\n    </g>\n    <g id=\"xtick_2\">\n     <g id=\"line2d_3\">\n      <path clip-path=\"url(#p0fa7192fe0)\" d=\"M 130.189575 239.758125 \nL 130.189575 22.318125 \n\" style=\"fill:none;stroke:#b0b0b0;stroke-linecap:square;stroke-width:0.8;\"/>\n     </g>\n     <g id=\"line2d_4\">\n      <g>\n       <use style=\"stroke:#000000;stroke-width:0.8;\" x=\"130.189575\" xlink:href=\"#m23ce3eb97a\" y=\"239.758125\"/>\n      </g>\n     </g>\n     <g id=\"text_2\">\n      <!-- 6 -->\n      <g transform=\"translate(127.008325 254.356562)scale(0.1 -0.1)\">\n       <defs>\n        <path d=\"M 2113 2584 \nQ 1688 2584 1439 2293 \nQ 1191 2003 1191 1497 \nQ 1191 994 1439 701 \nQ 1688 409 2113 409 \nQ 2538 409 2786 701 \nQ 3034 994 3034 1497 \nQ 3034 2003 2786 2293 \nQ 2538 2584 2113 2584 \nz\nM 3366 4563 \nL 3366 3988 \nQ 3128 4100 2886 4159 \nQ 2644 4219 2406 4219 \nQ 1781 4219 1451 3797 \nQ 1122 3375 1075 2522 \nQ 1259 2794 1537 2939 \nQ 1816 3084 2150 3084 \nQ 2853 3084 3261 2657 \nQ 3669 2231 3669 1497 \nQ 3669 778 3244 343 \nQ 2819 -91 2113 -91 \nQ 1303 -91 875 529 \nQ 447 1150 447 2328 \nQ 447 3434 972 4092 \nQ 1497 4750 2381 4750 \nQ 2619 4750 2861 4703 \nQ 3103 4656 3366 4563 \nz\n\" id=\"DejaVuSans-36\" transform=\"scale(0.015625)\"/>\n       </defs>\n       <use xlink:href=\"#DejaVuSans-36\"/>\n      </g>\n     </g>\n    </g>\n    <g id=\"xtick_3\">\n     <g id=\"line2d_5\">\n      <path clip-path=\"url(#p0fa7192fe0)\" d=\"M 202.106721 239.758125 \nL 202.106721 22.318125 \n\" style=\"fill:none;stroke:#b0b0b0;stroke-linecap:square;stroke-width:0.8;\"/>\n     </g>\n     <g id=\"line2d_6\">\n      <g>\n       <use style=\"stroke:#000000;stroke-width:0.8;\" x=\"202.106721\" xlink:href=\"#m23ce3eb97a\" y=\"239.758125\"/>\n      </g>\n     </g>\n     <g id=\"text_3\">\n      <!-- 8 -->\n      <g transform=\"translate(198.925471 254.356562)scale(0.1 -0.1)\">\n       <defs>\n        <path d=\"M 2034 2216 \nQ 1584 2216 1326 1975 \nQ 1069 1734 1069 1313 \nQ 1069 891 1326 650 \nQ 1584 409 2034 409 \nQ 2484 409 2743 651 \nQ 3003 894 3003 1313 \nQ 3003 1734 2745 1975 \nQ 2488 2216 2034 2216 \nz\nM 1403 2484 \nQ 997 2584 770 2862 \nQ 544 3141 544 3541 \nQ 544 4100 942 4425 \nQ 1341 4750 2034 4750 \nQ 2731 4750 3128 4425 \nQ 3525 4100 3525 3541 \nQ 3525 3141 3298 2862 \nQ 3072 2584 2669 2484 \nQ 3125 2378 3379 2068 \nQ 3634 1759 3634 1313 \nQ 3634 634 3220 271 \nQ 2806 -91 2034 -91 \nQ 1263 -91 848 271 \nQ 434 634 434 1313 \nQ 434 1759 690 2068 \nQ 947 2378 1403 2484 \nz\nM 1172 3481 \nQ 1172 3119 1398 2916 \nQ 1625 2713 2034 2713 \nQ 2441 2713 2670 2916 \nQ 2900 3119 2900 3481 \nQ 2900 3844 2670 4047 \nQ 2441 4250 2034 4250 \nQ 1625 4250 1398 4047 \nQ 1172 3844 1172 3481 \nz\n\" id=\"DejaVuSans-38\" transform=\"scale(0.015625)\"/>\n       </defs>\n       <use xlink:href=\"#DejaVuSans-38\"/>\n      </g>\n     </g>\n    </g>\n    <g id=\"xtick_4\">\n     <g id=\"line2d_7\">\n      <path clip-path=\"url(#p0fa7192fe0)\" d=\"M 274.023867 239.758125 \nL 274.023867 22.318125 \n\" style=\"fill:none;stroke:#b0b0b0;stroke-linecap:square;stroke-width:0.8;\"/>\n     </g>\n     <g id=\"line2d_8\">\n      <g>\n       <use style=\"stroke:#000000;stroke-width:0.8;\" x=\"274.023867\" xlink:href=\"#m23ce3eb97a\" y=\"239.758125\"/>\n      </g>\n     </g>\n     <g id=\"text_4\">\n      <!-- 10 -->\n      <g transform=\"translate(267.661367 254.356562)scale(0.1 -0.1)\">\n       <defs>\n        <path d=\"M 794 531 \nL 1825 531 \nL 1825 4091 \nL 703 3866 \nL 703 4441 \nL 1819 4666 \nL 2450 4666 \nL 2450 531 \nL 3481 531 \nL 3481 0 \nL 794 0 \nL 794 531 \nz\n\" id=\"DejaVuSans-31\" transform=\"scale(0.015625)\"/>\n        <path d=\"M 2034 4250 \nQ 1547 4250 1301 3770 \nQ 1056 3291 1056 2328 \nQ 1056 1369 1301 889 \nQ 1547 409 2034 409 \nQ 2525 409 2770 889 \nQ 3016 1369 3016 2328 \nQ 3016 3291 2770 3770 \nQ 2525 4250 2034 4250 \nz\nM 2034 4750 \nQ 2819 4750 3233 4129 \nQ 3647 3509 3647 2328 \nQ 3647 1150 3233 529 \nQ 2819 -91 2034 -91 \nQ 1250 -91 836 529 \nQ 422 1150 422 2328 \nQ 422 3509 836 4129 \nQ 1250 4750 2034 4750 \nz\n\" id=\"DejaVuSans-30\" transform=\"scale(0.015625)\"/>\n       </defs>\n       <use xlink:href=\"#DejaVuSans-31\"/>\n       <use x=\"63.623047\" xlink:href=\"#DejaVuSans-30\"/>\n      </g>\n     </g>\n    </g>\n    <g id=\"xtick_5\">\n     <g id=\"line2d_9\">\n      <path clip-path=\"url(#p0fa7192fe0)\" d=\"M 345.941013 239.758125 \nL 345.941013 22.318125 \n\" style=\"fill:none;stroke:#b0b0b0;stroke-linecap:square;stroke-width:0.8;\"/>\n     </g>\n     <g id=\"line2d_10\">\n      <g>\n       <use style=\"stroke:#000000;stroke-width:0.8;\" x=\"345.941013\" xlink:href=\"#m23ce3eb97a\" y=\"239.758125\"/>\n      </g>\n     </g>\n     <g id=\"text_5\">\n      <!-- 12 -->\n      <g transform=\"translate(339.578513 254.356562)scale(0.1 -0.1)\">\n       <defs>\n        <path d=\"M 1228 531 \nL 3431 531 \nL 3431 0 \nL 469 0 \nL 469 531 \nQ 828 903 1448 1529 \nQ 2069 2156 2228 2338 \nQ 2531 2678 2651 2914 \nQ 2772 3150 2772 3378 \nQ 2772 3750 2511 3984 \nQ 2250 4219 1831 4219 \nQ 1534 4219 1204 4116 \nQ 875 4013 500 3803 \nL 500 4441 \nQ 881 4594 1212 4672 \nQ 1544 4750 1819 4750 \nQ 2544 4750 2975 4387 \nQ 3406 4025 3406 3419 \nQ 3406 3131 3298 2873 \nQ 3191 2616 2906 2266 \nQ 2828 2175 2409 1742 \nQ 1991 1309 1228 531 \nz\n\" id=\"DejaVuSans-32\" transform=\"scale(0.015625)\"/>\n       </defs>\n       <use xlink:href=\"#DejaVuSans-31\"/>\n       <use x=\"63.623047\" xlink:href=\"#DejaVuSans-32\"/>\n      </g>\n     </g>\n    </g>\n    <g id=\"text_6\">\n     <!-- Number of words per tweet -->\n     <g transform=\"translate(152.102344 268.034687)scale(0.1 -0.1)\">\n      <defs>\n       <path d=\"M 628 4666 \nL 1478 4666 \nL 3547 763 \nL 3547 4666 \nL 4159 4666 \nL 4159 0 \nL 3309 0 \nL 1241 3903 \nL 1241 0 \nL 628 0 \nL 628 4666 \nz\n\" id=\"DejaVuSans-4e\" transform=\"scale(0.015625)\"/>\n       <path d=\"M 544 1381 \nL 544 3500 \nL 1119 3500 \nL 1119 1403 \nQ 1119 906 1312 657 \nQ 1506 409 1894 409 \nQ 2359 409 2629 706 \nQ 2900 1003 2900 1516 \nL 2900 3500 \nL 3475 3500 \nL 3475 0 \nL 2900 0 \nL 2900 538 \nQ 2691 219 2414 64 \nQ 2138 -91 1772 -91 \nQ 1169 -91 856 284 \nQ 544 659 544 1381 \nz\nM 1991 3584 \nL 1991 3584 \nz\n\" id=\"DejaVuSans-75\" transform=\"scale(0.015625)\"/>\n       <path d=\"M 3328 2828 \nQ 3544 3216 3844 3400 \nQ 4144 3584 4550 3584 \nQ 5097 3584 5394 3201 \nQ 5691 2819 5691 2113 \nL 5691 0 \nL 5113 0 \nL 5113 2094 \nQ 5113 2597 4934 2840 \nQ 4756 3084 4391 3084 \nQ 3944 3084 3684 2787 \nQ 3425 2491 3425 1978 \nL 3425 0 \nL 2847 0 \nL 2847 2094 \nQ 2847 2600 2669 2842 \nQ 2491 3084 2119 3084 \nQ 1678 3084 1418 2786 \nQ 1159 2488 1159 1978 \nL 1159 0 \nL 581 0 \nL 581 3500 \nL 1159 3500 \nL 1159 2956 \nQ 1356 3278 1631 3431 \nQ 1906 3584 2284 3584 \nQ 2666 3584 2933 3390 \nQ 3200 3197 3328 2828 \nz\n\" id=\"DejaVuSans-6d\" transform=\"scale(0.015625)\"/>\n       <path d=\"M 3116 1747 \nQ 3116 2381 2855 2742 \nQ 2594 3103 2138 3103 \nQ 1681 3103 1420 2742 \nQ 1159 2381 1159 1747 \nQ 1159 1113 1420 752 \nQ 1681 391 2138 391 \nQ 2594 391 2855 752 \nQ 3116 1113 3116 1747 \nz\nM 1159 2969 \nQ 1341 3281 1617 3432 \nQ 1894 3584 2278 3584 \nQ 2916 3584 3314 3078 \nQ 3713 2572 3713 1747 \nQ 3713 922 3314 415 \nQ 2916 -91 2278 -91 \nQ 1894 -91 1617 61 \nQ 1341 213 1159 525 \nL 1159 0 \nL 581 0 \nL 581 4863 \nL 1159 4863 \nL 1159 2969 \nz\n\" id=\"DejaVuSans-62\" transform=\"scale(0.015625)\"/>\n       <path d=\"M 3597 1894 \nL 3597 1613 \nL 953 1613 \nQ 991 1019 1311 708 \nQ 1631 397 2203 397 \nQ 2534 397 2845 478 \nQ 3156 559 3463 722 \nL 3463 178 \nQ 3153 47 2828 -22 \nQ 2503 -91 2169 -91 \nQ 1331 -91 842 396 \nQ 353 884 353 1716 \nQ 353 2575 817 3079 \nQ 1281 3584 2069 3584 \nQ 2775 3584 3186 3129 \nQ 3597 2675 3597 1894 \nz\nM 3022 2063 \nQ 3016 2534 2758 2815 \nQ 2500 3097 2075 3097 \nQ 1594 3097 1305 2825 \nQ 1016 2553 972 2059 \nL 3022 2063 \nz\n\" id=\"DejaVuSans-65\" transform=\"scale(0.015625)\"/>\n       <path d=\"M 2631 2963 \nQ 2534 3019 2420 3045 \nQ 2306 3072 2169 3072 \nQ 1681 3072 1420 2755 \nQ 1159 2438 1159 1844 \nL 1159 0 \nL 581 0 \nL 581 3500 \nL 1159 3500 \nL 1159 2956 \nQ 1341 3275 1631 3429 \nQ 1922 3584 2338 3584 \nQ 2397 3584 2469 3576 \nQ 2541 3569 2628 3553 \nL 2631 2963 \nz\n\" id=\"DejaVuSans-72\" transform=\"scale(0.015625)\"/>\n       <path id=\"DejaVuSans-20\" transform=\"scale(0.015625)\"/>\n       <path d=\"M 1959 3097 \nQ 1497 3097 1228 2736 \nQ 959 2375 959 1747 \nQ 959 1119 1226 758 \nQ 1494 397 1959 397 \nQ 2419 397 2687 759 \nQ 2956 1122 2956 1747 \nQ 2956 2369 2687 2733 \nQ 2419 3097 1959 3097 \nz\nM 1959 3584 \nQ 2709 3584 3137 3096 \nQ 3566 2609 3566 1747 \nQ 3566 888 3137 398 \nQ 2709 -91 1959 -91 \nQ 1206 -91 779 398 \nQ 353 888 353 1747 \nQ 353 2609 779 3096 \nQ 1206 3584 1959 3584 \nz\n\" id=\"DejaVuSans-6f\" transform=\"scale(0.015625)\"/>\n       <path d=\"M 2375 4863 \nL 2375 4384 \nL 1825 4384 \nQ 1516 4384 1395 4259 \nQ 1275 4134 1275 3809 \nL 1275 3500 \nL 2222 3500 \nL 2222 3053 \nL 1275 3053 \nL 1275 0 \nL 697 0 \nL 697 3053 \nL 147 3053 \nL 147 3500 \nL 697 3500 \nL 697 3744 \nQ 697 4328 969 4595 \nQ 1241 4863 1831 4863 \nL 2375 4863 \nz\n\" id=\"DejaVuSans-66\" transform=\"scale(0.015625)\"/>\n       <path d=\"M 269 3500 \nL 844 3500 \nL 1563 769 \nL 2278 3500 \nL 2956 3500 \nL 3675 769 \nL 4391 3500 \nL 4966 3500 \nL 4050 0 \nL 3372 0 \nL 2619 2869 \nL 1863 0 \nL 1184 0 \nL 269 3500 \nz\n\" id=\"DejaVuSans-77\" transform=\"scale(0.015625)\"/>\n       <path d=\"M 2906 2969 \nL 2906 4863 \nL 3481 4863 \nL 3481 0 \nL 2906 0 \nL 2906 525 \nQ 2725 213 2448 61 \nQ 2172 -91 1784 -91 \nQ 1150 -91 751 415 \nQ 353 922 353 1747 \nQ 353 2572 751 3078 \nQ 1150 3584 1784 3584 \nQ 2172 3584 2448 3432 \nQ 2725 3281 2906 2969 \nz\nM 947 1747 \nQ 947 1113 1208 752 \nQ 1469 391 1925 391 \nQ 2381 391 2643 752 \nQ 2906 1113 2906 1747 \nQ 2906 2381 2643 2742 \nQ 2381 3103 1925 3103 \nQ 1469 3103 1208 2742 \nQ 947 2381 947 1747 \nz\n\" id=\"DejaVuSans-64\" transform=\"scale(0.015625)\"/>\n       <path d=\"M 2834 3397 \nL 2834 2853 \nQ 2591 2978 2328 3040 \nQ 2066 3103 1784 3103 \nQ 1356 3103 1142 2972 \nQ 928 2841 928 2578 \nQ 928 2378 1081 2264 \nQ 1234 2150 1697 2047 \nL 1894 2003 \nQ 2506 1872 2764 1633 \nQ 3022 1394 3022 966 \nQ 3022 478 2636 193 \nQ 2250 -91 1575 -91 \nQ 1294 -91 989 -36 \nQ 684 19 347 128 \nL 347 722 \nQ 666 556 975 473 \nQ 1284 391 1588 391 \nQ 1994 391 2212 530 \nQ 2431 669 2431 922 \nQ 2431 1156 2273 1281 \nQ 2116 1406 1581 1522 \nL 1381 1569 \nQ 847 1681 609 1914 \nQ 372 2147 372 2553 \nQ 372 3047 722 3315 \nQ 1072 3584 1716 3584 \nQ 2034 3584 2315 3537 \nQ 2597 3491 2834 3397 \nz\n\" id=\"DejaVuSans-73\" transform=\"scale(0.015625)\"/>\n       <path d=\"M 1159 525 \nL 1159 -1331 \nL 581 -1331 \nL 581 3500 \nL 1159 3500 \nL 1159 2969 \nQ 1341 3281 1617 3432 \nQ 1894 3584 2278 3584 \nQ 2916 3584 3314 3078 \nQ 3713 2572 3713 1747 \nQ 3713 922 3314 415 \nQ 2916 -91 2278 -91 \nQ 1894 -91 1617 61 \nQ 1341 213 1159 525 \nz\nM 3116 1747 \nQ 3116 2381 2855 2742 \nQ 2594 3103 2138 3103 \nQ 1681 3103 1420 2742 \nQ 1159 2381 1159 1747 \nQ 1159 1113 1420 752 \nQ 1681 391 2138 391 \nQ 2594 391 2855 752 \nQ 3116 1113 3116 1747 \nz\n\" id=\"DejaVuSans-70\" transform=\"scale(0.015625)\"/>\n       <path d=\"M 1172 4494 \nL 1172 3500 \nL 2356 3500 \nL 2356 3053 \nL 1172 3053 \nL 1172 1153 \nQ 1172 725 1289 603 \nQ 1406 481 1766 481 \nL 2356 481 \nL 2356 0 \nL 1766 0 \nQ 1100 0 847 248 \nQ 594 497 594 1153 \nL 594 3053 \nL 172 3053 \nL 172 3500 \nL 594 3500 \nL 594 4494 \nL 1172 4494 \nz\n\" id=\"DejaVuSans-74\" transform=\"scale(0.015625)\"/>\n      </defs>\n      <use xlink:href=\"#DejaVuSans-4e\"/>\n      <use x=\"74.804688\" xlink:href=\"#DejaVuSans-75\"/>\n      <use x=\"138.183594\" xlink:href=\"#DejaVuSans-6d\"/>\n      <use x=\"235.595703\" xlink:href=\"#DejaVuSans-62\"/>\n      <use x=\"299.072266\" xlink:href=\"#DejaVuSans-65\"/>\n      <use x=\"360.595703\" xlink:href=\"#DejaVuSans-72\"/>\n      <use x=\"401.708984\" xlink:href=\"#DejaVuSans-20\"/>\n      <use x=\"433.496094\" xlink:href=\"#DejaVuSans-6f\"/>\n      <use x=\"494.677734\" xlink:href=\"#DejaVuSans-66\"/>\n      <use x=\"529.882812\" xlink:href=\"#DejaVuSans-20\"/>\n      <use x=\"561.669922\" xlink:href=\"#DejaVuSans-77\"/>\n      <use x=\"643.457031\" xlink:href=\"#DejaVuSans-6f\"/>\n      <use x=\"704.638672\" xlink:href=\"#DejaVuSans-72\"/>\n      <use x=\"744.001953\" xlink:href=\"#DejaVuSans-64\"/>\n      <use x=\"807.478516\" xlink:href=\"#DejaVuSans-73\"/>\n      <use x=\"859.578125\" xlink:href=\"#DejaVuSans-20\"/>\n      <use x=\"891.365234\" xlink:href=\"#DejaVuSans-70\"/>\n      <use x=\"954.841797\" xlink:href=\"#DejaVuSans-65\"/>\n      <use x=\"1016.365234\" xlink:href=\"#DejaVuSans-72\"/>\n      <use x=\"1057.478516\" xlink:href=\"#DejaVuSans-20\"/>\n      <use x=\"1089.265625\" xlink:href=\"#DejaVuSans-74\"/>\n      <use x=\"1128.474609\" xlink:href=\"#DejaVuSans-77\"/>\n      <use x=\"1210.261719\" xlink:href=\"#DejaVuSans-65\"/>\n      <use x=\"1271.785156\" xlink:href=\"#DejaVuSans-65\"/>\n      <use x=\"1333.308594\" xlink:href=\"#DejaVuSans-74\"/>\n     </g>\n    </g>\n   </g>\n   <g id=\"matplotlib.axis_2\">\n    <g id=\"ytick_1\">\n     <g id=\"line2d_11\">\n      <path clip-path=\"url(#p0fa7192fe0)\" d=\"M 53.328125 239.758125 \nL 388.128125 239.758125 \n\" style=\"fill:none;stroke:#b0b0b0;stroke-linecap:square;stroke-width:0.8;\"/>\n     </g>\n     <g id=\"line2d_12\">\n      <defs>\n       <path d=\"M 0 0 \nL -3.5 0 \n\" id=\"md130283b2c\" style=\"stroke:#000000;stroke-width:0.8;\"/>\n      </defs>\n      <g>\n       <use style=\"stroke:#000000;stroke-width:0.8;\" x=\"53.328125\" xlink:href=\"#md130283b2c\" y=\"239.758125\"/>\n      </g>\n     </g>\n     <g id=\"text_7\">\n      <!-- 0 -->\n      <g transform=\"translate(39.965625 243.557344)scale(0.1 -0.1)\">\n       <use xlink:href=\"#DejaVuSans-30\"/>\n      </g>\n     </g>\n    </g>\n    <g id=\"ytick_2\">\n     <g id=\"line2d_13\">\n      <path clip-path=\"url(#p0fa7192fe0)\" d=\"M 53.328125 206.861268 \nL 388.128125 206.861268 \n\" style=\"fill:none;stroke:#b0b0b0;stroke-linecap:square;stroke-width:0.8;\"/>\n     </g>\n     <g id=\"line2d_14\">\n      <g>\n       <use style=\"stroke:#000000;stroke-width:0.8;\" x=\"53.328125\" xlink:href=\"#md130283b2c\" y=\"206.861268\"/>\n      </g>\n     </g>\n     <g id=\"text_8\">\n      <!-- 1000 -->\n      <g transform=\"translate(20.878125 210.660487)scale(0.1 -0.1)\">\n       <use xlink:href=\"#DejaVuSans-31\"/>\n       <use x=\"63.623047\" xlink:href=\"#DejaVuSans-30\"/>\n       <use x=\"127.246094\" xlink:href=\"#DejaVuSans-30\"/>\n       <use x=\"190.869141\" xlink:href=\"#DejaVuSans-30\"/>\n      </g>\n     </g>\n    </g>\n    <g id=\"ytick_3\">\n     <g id=\"line2d_15\">\n      <path clip-path=\"url(#p0fa7192fe0)\" d=\"M 53.328125 173.964411 \nL 388.128125 173.964411 \n\" style=\"fill:none;stroke:#b0b0b0;stroke-linecap:square;stroke-width:0.8;\"/>\n     </g>\n     <g id=\"line2d_16\">\n      <g>\n       <use style=\"stroke:#000000;stroke-width:0.8;\" x=\"53.328125\" xlink:href=\"#md130283b2c\" y=\"173.964411\"/>\n      </g>\n     </g>\n     <g id=\"text_9\">\n      <!-- 2000 -->\n      <g transform=\"translate(20.878125 177.76363)scale(0.1 -0.1)\">\n       <use xlink:href=\"#DejaVuSans-32\"/>\n       <use x=\"63.623047\" xlink:href=\"#DejaVuSans-30\"/>\n       <use x=\"127.246094\" xlink:href=\"#DejaVuSans-30\"/>\n       <use x=\"190.869141\" xlink:href=\"#DejaVuSans-30\"/>\n      </g>\n     </g>\n    </g>\n    <g id=\"ytick_4\">\n     <g id=\"line2d_17\">\n      <path clip-path=\"url(#p0fa7192fe0)\" d=\"M 53.328125 141.067554 \nL 388.128125 141.067554 \n\" style=\"fill:none;stroke:#b0b0b0;stroke-linecap:square;stroke-width:0.8;\"/>\n     </g>\n     <g id=\"line2d_18\">\n      <g>\n       <use style=\"stroke:#000000;stroke-width:0.8;\" x=\"53.328125\" xlink:href=\"#md130283b2c\" y=\"141.067554\"/>\n      </g>\n     </g>\n     <g id=\"text_10\">\n      <!-- 3000 -->\n      <g transform=\"translate(20.878125 144.866773)scale(0.1 -0.1)\">\n       <defs>\n        <path d=\"M 2597 2516 \nQ 3050 2419 3304 2112 \nQ 3559 1806 3559 1356 \nQ 3559 666 3084 287 \nQ 2609 -91 1734 -91 \nQ 1441 -91 1130 -33 \nQ 819 25 488 141 \nL 488 750 \nQ 750 597 1062 519 \nQ 1375 441 1716 441 \nQ 2309 441 2620 675 \nQ 2931 909 2931 1356 \nQ 2931 1769 2642 2001 \nQ 2353 2234 1838 2234 \nL 1294 2234 \nL 1294 2753 \nL 1863 2753 \nQ 2328 2753 2575 2939 \nQ 2822 3125 2822 3475 \nQ 2822 3834 2567 4026 \nQ 2313 4219 1838 4219 \nQ 1578 4219 1281 4162 \nQ 984 4106 628 3988 \nL 628 4550 \nQ 988 4650 1302 4700 \nQ 1616 4750 1894 4750 \nQ 2613 4750 3031 4423 \nQ 3450 4097 3450 3541 \nQ 3450 3153 3228 2886 \nQ 3006 2619 2597 2516 \nz\n\" id=\"DejaVuSans-33\" transform=\"scale(0.015625)\"/>\n       </defs>\n       <use xlink:href=\"#DejaVuSans-33\"/>\n       <use x=\"63.623047\" xlink:href=\"#DejaVuSans-30\"/>\n       <use x=\"127.246094\" xlink:href=\"#DejaVuSans-30\"/>\n       <use x=\"190.869141\" xlink:href=\"#DejaVuSans-30\"/>\n      </g>\n     </g>\n    </g>\n    <g id=\"ytick_5\">\n     <g id=\"line2d_19\">\n      <path clip-path=\"url(#p0fa7192fe0)\" d=\"M 53.328125 108.170697 \nL 388.128125 108.170697 \n\" style=\"fill:none;stroke:#b0b0b0;stroke-linecap:square;stroke-width:0.8;\"/>\n     </g>\n     <g id=\"line2d_20\">\n      <g>\n       <use style=\"stroke:#000000;stroke-width:0.8;\" x=\"53.328125\" xlink:href=\"#md130283b2c\" y=\"108.170697\"/>\n      </g>\n     </g>\n     <g id=\"text_11\">\n      <!-- 4000 -->\n      <g transform=\"translate(20.878125 111.969916)scale(0.1 -0.1)\">\n       <use xlink:href=\"#DejaVuSans-34\"/>\n       <use x=\"63.623047\" xlink:href=\"#DejaVuSans-30\"/>\n       <use x=\"127.246094\" xlink:href=\"#DejaVuSans-30\"/>\n       <use x=\"190.869141\" xlink:href=\"#DejaVuSans-30\"/>\n      </g>\n     </g>\n    </g>\n    <g id=\"ytick_6\">\n     <g id=\"line2d_21\">\n      <path clip-path=\"url(#p0fa7192fe0)\" d=\"M 53.328125 75.27384 \nL 388.128125 75.27384 \n\" style=\"fill:none;stroke:#b0b0b0;stroke-linecap:square;stroke-width:0.8;\"/>\n     </g>\n     <g id=\"line2d_22\">\n      <g>\n       <use style=\"stroke:#000000;stroke-width:0.8;\" x=\"53.328125\" xlink:href=\"#md130283b2c\" y=\"75.27384\"/>\n      </g>\n     </g>\n     <g id=\"text_12\">\n      <!-- 5000 -->\n      <g transform=\"translate(20.878125 79.073059)scale(0.1 -0.1)\">\n       <defs>\n        <path d=\"M 691 4666 \nL 3169 4666 \nL 3169 4134 \nL 1269 4134 \nL 1269 2991 \nQ 1406 3038 1543 3061 \nQ 1681 3084 1819 3084 \nQ 2600 3084 3056 2656 \nQ 3513 2228 3513 1497 \nQ 3513 744 3044 326 \nQ 2575 -91 1722 -91 \nQ 1428 -91 1123 -41 \nQ 819 9 494 109 \nL 494 744 \nQ 775 591 1075 516 \nQ 1375 441 1709 441 \nQ 2250 441 2565 725 \nQ 2881 1009 2881 1497 \nQ 2881 1984 2565 2268 \nQ 2250 2553 1709 2553 \nQ 1456 2553 1204 2497 \nQ 953 2441 691 2322 \nL 691 4666 \nz\n\" id=\"DejaVuSans-35\" transform=\"scale(0.015625)\"/>\n       </defs>\n       <use xlink:href=\"#DejaVuSans-35\"/>\n       <use x=\"63.623047\" xlink:href=\"#DejaVuSans-30\"/>\n       <use x=\"127.246094\" xlink:href=\"#DejaVuSans-30\"/>\n       <use x=\"190.869141\" xlink:href=\"#DejaVuSans-30\"/>\n      </g>\n     </g>\n    </g>\n    <g id=\"ytick_7\">\n     <g id=\"line2d_23\">\n      <path clip-path=\"url(#p0fa7192fe0)\" d=\"M 53.328125 42.376984 \nL 388.128125 42.376984 \n\" style=\"fill:none;stroke:#b0b0b0;stroke-linecap:square;stroke-width:0.8;\"/>\n     </g>\n     <g id=\"line2d_24\">\n      <g>\n       <use style=\"stroke:#000000;stroke-width:0.8;\" x=\"53.328125\" xlink:href=\"#md130283b2c\" y=\"42.376984\"/>\n      </g>\n     </g>\n     <g id=\"text_13\">\n      <!-- 6000 -->\n      <g transform=\"translate(20.878125 46.176202)scale(0.1 -0.1)\">\n       <use xlink:href=\"#DejaVuSans-36\"/>\n       <use x=\"63.623047\" xlink:href=\"#DejaVuSans-30\"/>\n       <use x=\"127.246094\" xlink:href=\"#DejaVuSans-30\"/>\n       <use x=\"190.869141\" xlink:href=\"#DejaVuSans-30\"/>\n      </g>\n     </g>\n    </g>\n    <g id=\"text_14\">\n     <!-- Count of Tweets -->\n     <g transform=\"translate(14.798438 170.920156)rotate(-90)scale(0.1 -0.1)\">\n      <defs>\n       <path d=\"M 4122 4306 \nL 4122 3641 \nQ 3803 3938 3442 4084 \nQ 3081 4231 2675 4231 \nQ 1875 4231 1450 3742 \nQ 1025 3253 1025 2328 \nQ 1025 1406 1450 917 \nQ 1875 428 2675 428 \nQ 3081 428 3442 575 \nQ 3803 722 4122 1019 \nL 4122 359 \nQ 3791 134 3420 21 \nQ 3050 -91 2638 -91 \nQ 1578 -91 968 557 \nQ 359 1206 359 2328 \nQ 359 3453 968 4101 \nQ 1578 4750 2638 4750 \nQ 3056 4750 3426 4639 \nQ 3797 4528 4122 4306 \nz\n\" id=\"DejaVuSans-43\" transform=\"scale(0.015625)\"/>\n       <path d=\"M 3513 2113 \nL 3513 0 \nL 2938 0 \nL 2938 2094 \nQ 2938 2591 2744 2837 \nQ 2550 3084 2163 3084 \nQ 1697 3084 1428 2787 \nQ 1159 2491 1159 1978 \nL 1159 0 \nL 581 0 \nL 581 3500 \nL 1159 3500 \nL 1159 2956 \nQ 1366 3272 1645 3428 \nQ 1925 3584 2291 3584 \nQ 2894 3584 3203 3211 \nQ 3513 2838 3513 2113 \nz\n\" id=\"DejaVuSans-6e\" transform=\"scale(0.015625)\"/>\n       <path d=\"M -19 4666 \nL 3928 4666 \nL 3928 4134 \nL 2272 4134 \nL 2272 0 \nL 1638 0 \nL 1638 4134 \nL -19 4134 \nL -19 4666 \nz\n\" id=\"DejaVuSans-54\" transform=\"scale(0.015625)\"/>\n      </defs>\n      <use xlink:href=\"#DejaVuSans-43\"/>\n      <use x=\"69.824219\" xlink:href=\"#DejaVuSans-6f\"/>\n      <use x=\"131.005859\" xlink:href=\"#DejaVuSans-75\"/>\n      <use x=\"194.384766\" xlink:href=\"#DejaVuSans-6e\"/>\n      <use x=\"257.763672\" xlink:href=\"#DejaVuSans-74\"/>\n      <use x=\"296.972656\" xlink:href=\"#DejaVuSans-20\"/>\n      <use x=\"328.759766\" xlink:href=\"#DejaVuSans-6f\"/>\n      <use x=\"389.941406\" xlink:href=\"#DejaVuSans-66\"/>\n      <use x=\"425.146484\" xlink:href=\"#DejaVuSans-20\"/>\n      <use x=\"456.933594\" xlink:href=\"#DejaVuSans-54\"/>\n      <use x=\"501.517578\" xlink:href=\"#DejaVuSans-77\"/>\n      <use x=\"583.304688\" xlink:href=\"#DejaVuSans-65\"/>\n      <use x=\"644.828125\" xlink:href=\"#DejaVuSans-65\"/>\n      <use x=\"706.351562\" xlink:href=\"#DejaVuSans-74\"/>\n      <use x=\"745.560547\" xlink:href=\"#DejaVuSans-73\"/>\n     </g>\n    </g>\n   </g>\n   <g id=\"patch_13\">\n    <path d=\"M 53.328125 239.758125 \nL 53.328125 22.318125 \n\" style=\"fill:none;stroke:#000000;stroke-linecap:square;stroke-linejoin:miter;stroke-width:0.8;\"/>\n   </g>\n   <g id=\"patch_14\">\n    <path d=\"M 388.128125 239.758125 \nL 388.128125 22.318125 \n\" style=\"fill:none;stroke:#000000;stroke-linecap:square;stroke-linejoin:miter;stroke-width:0.8;\"/>\n   </g>\n   <g id=\"patch_15\">\n    <path d=\"M 53.328125 239.758125 \nL 388.128125 239.758125 \n\" style=\"fill:none;stroke:#000000;stroke-linecap:square;stroke-linejoin:miter;stroke-width:0.8;\"/>\n   </g>\n   <g id=\"patch_16\">\n    <path d=\"M 53.328125 22.318125 \nL 388.128125 22.318125 \n\" style=\"fill:none;stroke:#000000;stroke-linecap:square;stroke-linejoin:miter;stroke-width:0.8;\"/>\n   </g>\n   <g id=\"text_15\">\n    <!-- Avg number of words used per tweet -->\n    <g transform=\"translate(109.708438 16.318125)scale(0.12 -0.12)\">\n     <defs>\n      <path d=\"M 2188 4044 \nL 1331 1722 \nL 3047 1722 \nL 2188 4044 \nz\nM 1831 4666 \nL 2547 4666 \nL 4325 0 \nL 3669 0 \nL 3244 1197 \nL 1141 1197 \nL 716 0 \nL 50 0 \nL 1831 4666 \nz\n\" id=\"DejaVuSans-41\" transform=\"scale(0.015625)\"/>\n      <path d=\"M 191 3500 \nL 800 3500 \nL 1894 563 \nL 2988 3500 \nL 3597 3500 \nL 2284 0 \nL 1503 0 \nL 191 3500 \nz\n\" id=\"DejaVuSans-76\" transform=\"scale(0.015625)\"/>\n      <path d=\"M 2906 1791 \nQ 2906 2416 2648 2759 \nQ 2391 3103 1925 3103 \nQ 1463 3103 1205 2759 \nQ 947 2416 947 1791 \nQ 947 1169 1205 825 \nQ 1463 481 1925 481 \nQ 2391 481 2648 825 \nQ 2906 1169 2906 1791 \nz\nM 3481 434 \nQ 3481 -459 3084 -895 \nQ 2688 -1331 1869 -1331 \nQ 1566 -1331 1297 -1286 \nQ 1028 -1241 775 -1147 \nL 775 -588 \nQ 1028 -725 1275 -790 \nQ 1522 -856 1778 -856 \nQ 2344 -856 2625 -561 \nQ 2906 -266 2906 331 \nL 2906 616 \nQ 2728 306 2450 153 \nQ 2172 0 1784 0 \nQ 1141 0 747 490 \nQ 353 981 353 1791 \nQ 353 2603 747 3093 \nQ 1141 3584 1784 3584 \nQ 2172 3584 2450 3431 \nQ 2728 3278 2906 2969 \nL 2906 3500 \nL 3481 3500 \nL 3481 434 \nz\n\" id=\"DejaVuSans-67\" transform=\"scale(0.015625)\"/>\n     </defs>\n     <use xlink:href=\"#DejaVuSans-41\"/>\n     <use x=\"62.533203\" xlink:href=\"#DejaVuSans-76\"/>\n     <use x=\"121.712891\" xlink:href=\"#DejaVuSans-67\"/>\n     <use x=\"185.189453\" xlink:href=\"#DejaVuSans-20\"/>\n     <use x=\"216.976562\" xlink:href=\"#DejaVuSans-6e\"/>\n     <use x=\"280.355469\" xlink:href=\"#DejaVuSans-75\"/>\n     <use x=\"343.734375\" xlink:href=\"#DejaVuSans-6d\"/>\n     <use x=\"441.146484\" xlink:href=\"#DejaVuSans-62\"/>\n     <use x=\"504.623047\" xlink:href=\"#DejaVuSans-65\"/>\n     <use x=\"566.146484\" xlink:href=\"#DejaVuSans-72\"/>\n     <use x=\"607.259766\" xlink:href=\"#DejaVuSans-20\"/>\n     <use x=\"639.046875\" xlink:href=\"#DejaVuSans-6f\"/>\n     <use x=\"700.228516\" xlink:href=\"#DejaVuSans-66\"/>\n     <use x=\"735.433594\" xlink:href=\"#DejaVuSans-20\"/>\n     <use x=\"767.220703\" xlink:href=\"#DejaVuSans-77\"/>\n     <use x=\"849.007812\" xlink:href=\"#DejaVuSans-6f\"/>\n     <use x=\"910.189453\" xlink:href=\"#DejaVuSans-72\"/>\n     <use x=\"949.552734\" xlink:href=\"#DejaVuSans-64\"/>\n     <use x=\"1013.029297\" xlink:href=\"#DejaVuSans-73\"/>\n     <use x=\"1065.128906\" xlink:href=\"#DejaVuSans-20\"/>\n     <use x=\"1096.916016\" xlink:href=\"#DejaVuSans-75\"/>\n     <use x=\"1160.294922\" xlink:href=\"#DejaVuSans-73\"/>\n     <use x=\"1212.394531\" xlink:href=\"#DejaVuSans-65\"/>\n     <use x=\"1273.917969\" xlink:href=\"#DejaVuSans-64\"/>\n     <use x=\"1337.394531\" xlink:href=\"#DejaVuSans-20\"/>\n     <use x=\"1369.181641\" xlink:href=\"#DejaVuSans-70\"/>\n     <use x=\"1432.658203\" xlink:href=\"#DejaVuSans-65\"/>\n     <use x=\"1494.181641\" xlink:href=\"#DejaVuSans-72\"/>\n     <use x=\"1535.294922\" xlink:href=\"#DejaVuSans-20\"/>\n     <use x=\"1567.082031\" xlink:href=\"#DejaVuSans-74\"/>\n     <use x=\"1606.291016\" xlink:href=\"#DejaVuSans-77\"/>\n     <use x=\"1688.078125\" xlink:href=\"#DejaVuSans-65\"/>\n     <use x=\"1749.601562\" xlink:href=\"#DejaVuSans-65\"/>\n     <use x=\"1811.125\" xlink:href=\"#DejaVuSans-74\"/>\n    </g>\n   </g>\n  </g>\n </g>\n <defs>\n  <clipPath id=\"p0fa7192fe0\">\n   <rect height=\"217.44\" width=\"334.8\" x=\"53.328125\" y=\"22.318125\"/>\n  </clipPath>\n </defs>\n</svg>\n",
      "image/png": "[encoded data removed]"
     },
     "metadata": {
      "needs_background": "light"
     }
    }
   ],
   "source": [
    "# average length of words overall\n",
    "df['clean_message'].str.split().\\\n",
    "    apply(lambda x : [len(i) for i in x]).\\\n",
    "    map(lambda x : np.mean(x)).hist()\n",
    "plt.title('Avg number of words used per tweet')\n",
    "plt.xlabel('Number of words per tweet')\n",
    "plt.ylabel('Count of Tweets')"
   ]
  },
  {
   "cell_type": "markdown",
   "metadata": {},
   "source": [
    "### Observations\n",
    "- The graph above shows that the words in the positive sentiment are higher compare to others, with 8000 words, were by the rest are below 4000"
   ]
  },
  {
   "cell_type": "code",
   "execution_count": 24,
   "metadata": {
    "scrolled": true
   },
   "outputs": [
    {
     "output_type": "display_data",
     "data": {
      "text/plain": "<Figure size 864x216 with 4 Axes>",
      "image/svg+xml": "<?xml version=\"1.0\" encoding=\"utf-8\" standalone=\"no\"?>\n<!DOCTYPE svg PUBLIC \"-//W3C//DTD SVG 1.1//EN\"\n  \"http://www.w3.org/Graphics/SVG/1.1/DTD/svg11.dtd\">\n<svg height=\"207.126562pt\" version=\"1.1\" viewBox=\"0 0 857 207.126562\" width=\"857pt\" xmlns=\"http://www.w3.org/2000/svg\" xmlns:xlink=\"http://www.w3.org/1999/xlink\">\n <metadata>\n  <rdf:RDF xmlns:cc=\"http://creativecommons.org/ns#\" xmlns:dc=\"http://purl.org/dc/elements/1.1/\" xmlns:rdf=\"http://www.w3.org/1999/02/22-rdf-syntax-ns#\">\n   <cc:Work>\n    <dc:type rdf:resource=\"http://purl.org/dc/dcmitype/StillImage\"/>\n    <dc:date>2021-06-22T18:10:13.609202</dc:date>\n    <dc:format>image/svg+xml</dc:format>\n    <dc:creator>\n     <cc:Agent>\n      <dc:title>Matplotlib v3.4.2, https://matplotlib.org/</dc:title>\n     </cc:Agent>\n    </dc:creator>\n   </cc:Work>\n  </rdf:RDF>\n </metadata>\n <defs>\n  <style type=\"text/css\">*{stroke-linecap:butt;stroke-linejoin:round;}</style>\n </defs>\n <g id=\"figure_1\">\n  <g id=\"patch_1\">\n   <path d=\"M -0 207.126562 \nL 857 207.126562 \nL 857 0 \nL -0 0 \nz\n\" style=\"fill:none;\"/>\n  </g>\n  <g id=\"axes_1\">\n   <g id=\"patch_2\">\n    <path d=\"M 39.65 169.292187 \nL 231.4625 169.292187 \nL 231.4625 20.798437 \nL 39.65 20.798437 \nz\n\" style=\"fill:#ffffff;\"/>\n   </g>\n   <g id=\"patch_3\">\n    <path clip-path=\"url(#pe8dd411579)\" d=\"M 48.36875 169.292187 \nL 64.672104 169.292187 \nL 64.672104 167.192176 \nL 48.36875 167.192176 \nz\n\" style=\"fill:#1f77b4;\"/>\n   </g>\n   <g id=\"patch_4\">\n    <path clip-path=\"url(#pe8dd411579)\" d=\"M 64.672104 169.292187 \nL 80.975457 169.292187 \nL 80.975457 162.467152 \nL 64.672104 162.467152 \nz\n\" style=\"fill:#1f77b4;\"/>\n   </g>\n   <g id=\"patch_5\">\n    <path clip-path=\"url(#pe8dd411579)\" d=\"M 80.975457 169.292187 \nL 97.278811 169.292187 \nL 97.278811 146.257691 \nL 80.975457 146.257691 \nz\n\" style=\"fill:#1f77b4;\"/>\n   </g>\n   <g id=\"patch_6\">\n    <path clip-path=\"url(#pe8dd411579)\" d=\"M 97.278811 169.292187 \nL 113.582165 169.292187 \nL 113.582165 132.870121 \nL 97.278811 132.870121 \nz\n\" style=\"fill:#1f77b4;\"/>\n   </g>\n   <g id=\"patch_7\">\n    <path clip-path=\"url(#pe8dd411579)\" d=\"M 113.582165 169.292187 \nL 129.885518 169.292187 \nL 129.885518 79.254214 \nL 113.582165 79.254214 \nz\n\" style=\"fill:#1f77b4;\"/>\n   </g>\n   <g id=\"patch_8\">\n    <path clip-path=\"url(#pe8dd411579)\" d=\"M 129.885518 169.292187 \nL 146.188872 169.292187 \nL 146.188872 65.472891 \nL 129.885518 65.472891 \nz\n\" style=\"fill:#1f77b4;\"/>\n   </g>\n   <g id=\"patch_9\">\n    <path clip-path=\"url(#pe8dd411579)\" d=\"M 146.188872 169.292187 \nL 162.492226 169.292187 \nL 162.492226 27.869568 \nL 146.188872 27.869568 \nz\n\" style=\"fill:#1f77b4;\"/>\n   </g>\n   <g id=\"patch_10\">\n    <path clip-path=\"url(#pe8dd411579)\" d=\"M 162.492226 169.292187 \nL 178.795579 169.292187 \nL 178.795579 68.819784 \nL 162.492226 68.819784 \nz\n\" style=\"fill:#1f77b4;\"/>\n   </g>\n   <g id=\"patch_11\">\n    <path clip-path=\"url(#pe8dd411579)\" d=\"M 178.795579 169.292187 \nL 195.098933 169.292187 \nL 195.098933 120.466931 \nL 178.795579 120.466931 \nz\n\" style=\"fill:#1f77b4;\"/>\n   </g>\n   <g id=\"patch_12\">\n    <path clip-path=\"url(#pe8dd411579)\" d=\"M 195.098933 169.292187 \nL 211.402287 169.292187 \nL 211.402287 162.467152 \nL 195.098933 162.467152 \nz\n\" style=\"fill:#1f77b4;\"/>\n   </g>\n   <g id=\"matplotlib.axis_1\">\n    <g id=\"xtick_1\">\n     <g id=\"line2d_1\">\n      <defs>\n       <path d=\"M 0 0 \nL 0 3.5 \n\" id=\"ma25e65f02f\" style=\"stroke:#000000;stroke-width:0.8;\"/>\n      </defs>\n      <g>\n       <use style=\"stroke:#000000;stroke-width:0.8;\" x=\"63.963262\" xlink:href=\"#ma25e65f02f\" y=\"169.292187\"/>\n      </g>\n     </g>\n     <g id=\"text_1\">\n      <!-- 25 -->\n      <g transform=\"translate(57.600762 183.890625)scale(0.1 -0.1)\">\n       <defs>\n        <path d=\"M 1228 531 \nL 3431 531 \nL 3431 0 \nL 469 0 \nL 469 531 \nQ 828 903 1448 1529 \nQ 2069 2156 2228 2338 \nQ 2531 2678 2651 2914 \nQ 2772 3150 2772 3378 \nQ 2772 3750 2511 3984 \nQ 2250 4219 1831 4219 \nQ 1534 4219 1204 4116 \nQ 875 4013 500 3803 \nL 500 4441 \nQ 881 4594 1212 4672 \nQ 1544 4750 1819 4750 \nQ 2544 4750 2975 4387 \nQ 3406 4025 3406 3419 \nQ 3406 3131 3298 2873 \nQ 3191 2616 2906 2266 \nQ 2828 2175 2409 1742 \nQ 1991 1309 1228 531 \nz\n\" id=\"DejaVuSans-32\" transform=\"scale(0.015625)\"/>\n        <path d=\"M 691 4666 \nL 3169 4666 \nL 3169 4134 \nL 1269 4134 \nL 1269 2991 \nQ 1406 3038 1543 3061 \nQ 1681 3084 1819 3084 \nQ 2600 3084 3056 2656 \nQ 3513 2228 3513 1497 \nQ 3513 744 3044 326 \nQ 2575 -91 1722 -91 \nQ 1428 -91 1123 -41 \nQ 819 9 494 109 \nL 494 744 \nQ 775 591 1075 516 \nQ 1375 441 1709 441 \nQ 2250 441 2565 725 \nQ 2881 1009 2881 1497 \nQ 2881 1984 2565 2268 \nQ 2250 2553 1709 2553 \nQ 1456 2553 1204 2497 \nQ 953 2441 691 2322 \nL 691 4666 \nz\n\" id=\"DejaVuSans-35\" transform=\"scale(0.015625)\"/>\n       </defs>\n       <use xlink:href=\"#DejaVuSans-32\"/>\n       <use x=\"63.623047\" xlink:href=\"#DejaVuSans-35\"/>\n      </g>\n     </g>\n    </g>\n    <g id=\"xtick_2\">\n     <g id=\"line2d_2\">\n      <g>\n       <use style=\"stroke:#000000;stroke-width:0.8;\" x=\"99.405335\" xlink:href=\"#ma25e65f02f\" y=\"169.292187\"/>\n      </g>\n     </g>\n     <g id=\"text_2\">\n      <!-- 50 -->\n      <g transform=\"translate(93.042835 183.890625)scale(0.1 -0.1)\">\n       <defs>\n        <path d=\"M 2034 4250 \nQ 1547 4250 1301 3770 \nQ 1056 3291 1056 2328 \nQ 1056 1369 1301 889 \nQ 1547 409 2034 409 \nQ 2525 409 2770 889 \nQ 3016 1369 3016 2328 \nQ 3016 3291 2770 3770 \nQ 2525 4250 2034 4250 \nz\nM 2034 4750 \nQ 2819 4750 3233 4129 \nQ 3647 3509 3647 2328 \nQ 3647 1150 3233 529 \nQ 2819 -91 2034 -91 \nQ 1250 -91 836 529 \nQ 422 1150 422 2328 \nQ 422 3509 836 4129 \nQ 1250 4750 2034 4750 \nz\n\" id=\"DejaVuSans-30\" transform=\"scale(0.015625)\"/>\n       </defs>\n       <use xlink:href=\"#DejaVuSans-35\"/>\n       <use x=\"63.623047\" xlink:href=\"#DejaVuSans-30\"/>\n      </g>\n     </g>\n    </g>\n    <g id=\"xtick_3\">\n     <g id=\"line2d_3\">\n      <g>\n       <use style=\"stroke:#000000;stroke-width:0.8;\" x=\"134.847409\" xlink:href=\"#ma25e65f02f\" y=\"169.292187\"/>\n      </g>\n     </g>\n     <g id=\"text_3\">\n      <!-- 75 -->\n      <g transform=\"translate(128.484909 183.890625)scale(0.1 -0.1)\">\n       <defs>\n        <path d=\"M 525 4666 \nL 3525 4666 \nL 3525 4397 \nL 1831 0 \nL 1172 0 \nL 2766 4134 \nL 525 4134 \nL 525 4666 \nz\n\" id=\"DejaVuSans-37\" transform=\"scale(0.015625)\"/>\n       </defs>\n       <use xlink:href=\"#DejaVuSans-37\"/>\n       <use x=\"63.623047\" xlink:href=\"#DejaVuSans-35\"/>\n      </g>\n     </g>\n    </g>\n    <g id=\"xtick_4\">\n     <g id=\"line2d_4\">\n      <g>\n       <use style=\"stroke:#000000;stroke-width:0.8;\" x=\"170.289482\" xlink:href=\"#ma25e65f02f\" y=\"169.292187\"/>\n      </g>\n     </g>\n     <g id=\"text_4\">\n      <!-- 100 -->\n      <g transform=\"translate(160.745732 183.890625)scale(0.1 -0.1)\">\n       <defs>\n        <path d=\"M 794 531 \nL 1825 531 \nL 1825 4091 \nL 703 3866 \nL 703 4441 \nL 1819 4666 \nL 2450 4666 \nL 2450 531 \nL 3481 531 \nL 3481 0 \nL 794 0 \nL 794 531 \nz\n\" id=\"DejaVuSans-31\" transform=\"scale(0.015625)\"/>\n       </defs>\n       <use xlink:href=\"#DejaVuSans-31\"/>\n       <use x=\"63.623047\" xlink:href=\"#DejaVuSans-30\"/>\n       <use x=\"127.246094\" xlink:href=\"#DejaVuSans-30\"/>\n      </g>\n     </g>\n    </g>\n    <g id=\"xtick_5\">\n     <g id=\"line2d_5\">\n      <g>\n       <use style=\"stroke:#000000;stroke-width:0.8;\" x=\"205.731555\" xlink:href=\"#ma25e65f02f\" y=\"169.292187\"/>\n      </g>\n     </g>\n     <g id=\"text_5\">\n      <!-- 125 -->\n      <g transform=\"translate(196.187805 183.890625)scale(0.1 -0.1)\">\n       <use xlink:href=\"#DejaVuSans-31\"/>\n       <use x=\"63.623047\" xlink:href=\"#DejaVuSans-32\"/>\n       <use x=\"127.246094\" xlink:href=\"#DejaVuSans-35\"/>\n      </g>\n     </g>\n    </g>\n    <g id=\"text_6\">\n     <!-- length_tweet -->\n     <g transform=\"translate(102.95625 197.56875)scale(0.1 -0.1)\">\n      <defs>\n       <path d=\"M 603 4863 \nL 1178 4863 \nL 1178 0 \nL 603 0 \nL 603 4863 \nz\n\" id=\"DejaVuSans-6c\" transform=\"scale(0.015625)\"/>\n       <path d=\"M 3597 1894 \nL 3597 1613 \nL 953 1613 \nQ 991 1019 1311 708 \nQ 1631 397 2203 397 \nQ 2534 397 2845 478 \nQ 3156 559 3463 722 \nL 3463 178 \nQ 3153 47 2828 -22 \nQ 2503 -91 2169 -91 \nQ 1331 -91 842 396 \nQ 353 884 353 1716 \nQ 353 2575 817 3079 \nQ 1281 3584 2069 3584 \nQ 2775 3584 3186 3129 \nQ 3597 2675 3597 1894 \nz\nM 3022 2063 \nQ 3016 2534 2758 2815 \nQ 2500 3097 2075 3097 \nQ 1594 3097 1305 2825 \nQ 1016 2553 972 2059 \nL 3022 2063 \nz\n\" id=\"DejaVuSans-65\" transform=\"scale(0.015625)\"/>\n       <path d=\"M 3513 2113 \nL 3513 0 \nL 2938 0 \nL 2938 2094 \nQ 2938 2591 2744 2837 \nQ 2550 3084 2163 3084 \nQ 1697 3084 1428 2787 \nQ 1159 2491 1159 1978 \nL 1159 0 \nL 581 0 \nL 581 3500 \nL 1159 3500 \nL 1159 2956 \nQ 1366 3272 1645 3428 \nQ 1925 3584 2291 3584 \nQ 2894 3584 3203 3211 \nQ 3513 2838 3513 2113 \nz\n\" id=\"DejaVuSans-6e\" transform=\"scale(0.015625)\"/>\n       <path d=\"M 2906 1791 \nQ 2906 2416 2648 2759 \nQ 2391 3103 1925 3103 \nQ 1463 3103 1205 2759 \nQ 947 2416 947 1791 \nQ 947 1169 1205 825 \nQ 1463 481 1925 481 \nQ 2391 481 2648 825 \nQ 2906 1169 2906 1791 \nz\nM 3481 434 \nQ 3481 -459 3084 -895 \nQ 2688 -1331 1869 -1331 \nQ 1566 -1331 1297 -1286 \nQ 1028 -1241 775 -1147 \nL 775 -588 \nQ 1028 -725 1275 -790 \nQ 1522 -856 1778 -856 \nQ 2344 -856 2625 -561 \nQ 2906 -266 2906 331 \nL 2906 616 \nQ 2728 306 2450 153 \nQ 2172 0 1784 0 \nQ 1141 0 747 490 \nQ 353 981 353 1791 \nQ 353 2603 747 3093 \nQ 1141 3584 1784 3584 \nQ 2172 3584 2450 3431 \nQ 2728 3278 2906 2969 \nL 2906 3500 \nL 3481 3500 \nL 3481 434 \nz\n\" id=\"DejaVuSans-67\" transform=\"scale(0.015625)\"/>\n       <path d=\"M 1172 4494 \nL 1172 3500 \nL 2356 3500 \nL 2356 3053 \nL 1172 3053 \nL 1172 1153 \nQ 1172 725 1289 603 \nQ 1406 481 1766 481 \nL 2356 481 \nL 2356 0 \nL 1766 0 \nQ 1100 0 847 248 \nQ 594 497 594 1153 \nL 594 3053 \nL 172 3053 \nL 172 3500 \nL 594 3500 \nL 594 4494 \nL 1172 4494 \nz\n\" id=\"DejaVuSans-74\" transform=\"scale(0.015625)\"/>\n       <path d=\"M 3513 2113 \nL 3513 0 \nL 2938 0 \nL 2938 2094 \nQ 2938 2591 2744 2837 \nQ 2550 3084 2163 3084 \nQ 1697 3084 1428 2787 \nQ 1159 2491 1159 1978 \nL 1159 0 \nL 581 0 \nL 581 4863 \nL 1159 4863 \nL 1159 2956 \nQ 1366 3272 1645 3428 \nQ 1925 3584 2291 3584 \nQ 2894 3584 3203 3211 \nQ 3513 2838 3513 2113 \nz\n\" id=\"DejaVuSans-68\" transform=\"scale(0.015625)\"/>\n       <path d=\"M 3263 -1063 \nL 3263 -1509 \nL -63 -1509 \nL -63 -1063 \nL 3263 -1063 \nz\n\" id=\"DejaVuSans-5f\" transform=\"scale(0.015625)\"/>\n       <path d=\"M 269 3500 \nL 844 3500 \nL 1563 769 \nL 2278 3500 \nL 2956 3500 \nL 3675 769 \nL 4391 3500 \nL 4966 3500 \nL 4050 0 \nL 3372 0 \nL 2619 2869 \nL 1863 0 \nL 1184 0 \nL 269 3500 \nz\n\" id=\"DejaVuSans-77\" transform=\"scale(0.015625)\"/>\n      </defs>\n      <use xlink:href=\"#DejaVuSans-6c\"/>\n      <use x=\"27.783203\" xlink:href=\"#DejaVuSans-65\"/>\n      <use x=\"89.306641\" xlink:href=\"#DejaVuSans-6e\"/>\n      <use x=\"152.685547\" xlink:href=\"#DejaVuSans-67\"/>\n      <use x=\"216.162109\" xlink:href=\"#DejaVuSans-74\"/>\n      <use x=\"255.371094\" xlink:href=\"#DejaVuSans-68\"/>\n      <use x=\"318.75\" xlink:href=\"#DejaVuSans-5f\"/>\n      <use x=\"368.75\" xlink:href=\"#DejaVuSans-74\"/>\n      <use x=\"407.958984\" xlink:href=\"#DejaVuSans-77\"/>\n      <use x=\"489.746094\" xlink:href=\"#DejaVuSans-65\"/>\n      <use x=\"551.269531\" xlink:href=\"#DejaVuSans-65\"/>\n      <use x=\"612.792969\" xlink:href=\"#DejaVuSans-74\"/>\n     </g>\n    </g>\n   </g>\n   <g id=\"matplotlib.axis_2\">\n    <g id=\"ytick_1\">\n     <g id=\"line2d_6\">\n      <defs>\n       <path d=\"M 0 0 \nL -3.5 0 \n\" id=\"mbbc2c86d57\" style=\"stroke:#000000;stroke-width:0.8;\"/>\n      </defs>\n      <g>\n       <use style=\"stroke:#000000;stroke-width:0.8;\" x=\"39.65\" xlink:href=\"#mbbc2c86d57\" y=\"169.292187\"/>\n      </g>\n     </g>\n     <g id=\"text_7\">\n      <!-- 0 -->\n      <g transform=\"translate(26.2875 173.091406)scale(0.1 -0.1)\">\n       <use xlink:href=\"#DejaVuSans-30\"/>\n      </g>\n     </g>\n    </g>\n    <g id=\"ytick_2\">\n     <g id=\"line2d_7\">\n      <g>\n       <use style=\"stroke:#000000;stroke-width:0.8;\" x=\"39.65\" xlink:href=\"#mbbc2c86d57\" y=\"136.479515\"/>\n      </g>\n     </g>\n     <g id=\"text_8\">\n      <!-- 500 -->\n      <g transform=\"translate(13.5625 140.278734)scale(0.1 -0.1)\">\n       <use xlink:href=\"#DejaVuSans-35\"/>\n       <use x=\"63.623047\" xlink:href=\"#DejaVuSans-30\"/>\n       <use x=\"127.246094\" xlink:href=\"#DejaVuSans-30\"/>\n      </g>\n     </g>\n    </g>\n    <g id=\"ytick_3\">\n     <g id=\"line2d_8\">\n      <g>\n       <use style=\"stroke:#000000;stroke-width:0.8;\" x=\"39.65\" xlink:href=\"#mbbc2c86d57\" y=\"103.666842\"/>\n      </g>\n     </g>\n     <g id=\"text_9\">\n      <!-- 1000 -->\n      <g transform=\"translate(7.2 107.466061)scale(0.1 -0.1)\">\n       <use xlink:href=\"#DejaVuSans-31\"/>\n       <use x=\"63.623047\" xlink:href=\"#DejaVuSans-30\"/>\n       <use x=\"127.246094\" xlink:href=\"#DejaVuSans-30\"/>\n       <use x=\"190.869141\" xlink:href=\"#DejaVuSans-30\"/>\n      </g>\n     </g>\n    </g>\n    <g id=\"ytick_4\">\n     <g id=\"line2d_9\">\n      <g>\n       <use style=\"stroke:#000000;stroke-width:0.8;\" x=\"39.65\" xlink:href=\"#mbbc2c86d57\" y=\"70.85417\"/>\n      </g>\n     </g>\n     <g id=\"text_10\">\n      <!-- 1500 -->\n      <g transform=\"translate(7.2 74.653388)scale(0.1 -0.1)\">\n       <use xlink:href=\"#DejaVuSans-31\"/>\n       <use x=\"63.623047\" xlink:href=\"#DejaVuSans-35\"/>\n       <use x=\"127.246094\" xlink:href=\"#DejaVuSans-30\"/>\n       <use x=\"190.869141\" xlink:href=\"#DejaVuSans-30\"/>\n      </g>\n     </g>\n    </g>\n    <g id=\"ytick_5\">\n     <g id=\"line2d_10\">\n      <g>\n       <use style=\"stroke:#000000;stroke-width:0.8;\" x=\"39.65\" xlink:href=\"#mbbc2c86d57\" y=\"38.041497\"/>\n      </g>\n     </g>\n     <g id=\"text_11\">\n      <!-- 2000 -->\n      <g transform=\"translate(7.2 41.840716)scale(0.1 -0.1)\">\n       <use xlink:href=\"#DejaVuSans-32\"/>\n       <use x=\"63.623047\" xlink:href=\"#DejaVuSans-30\"/>\n       <use x=\"127.246094\" xlink:href=\"#DejaVuSans-30\"/>\n       <use x=\"190.869141\" xlink:href=\"#DejaVuSans-30\"/>\n      </g>\n     </g>\n    </g>\n   </g>\n   <g id=\"patch_13\">\n    <path d=\"M 39.65 169.292187 \nL 39.65 20.798437 \n\" style=\"fill:none;stroke:#000000;stroke-linecap:square;stroke-linejoin:miter;stroke-width:0.8;\"/>\n   </g>\n   <g id=\"patch_14\">\n    <path d=\"M 39.65 169.292187 \nL 231.4625 169.292187 \n\" style=\"fill:none;stroke:#000000;stroke-linecap:square;stroke-linejoin:miter;stroke-width:0.8;\"/>\n   </g>\n   <g id=\"text_12\">\n    <!-- class_label = Positive(1) -->\n    <g transform=\"translate(74.828906 14.798437)scale(0.1 -0.1)\">\n     <defs>\n      <path d=\"M 3122 3366 \nL 3122 2828 \nQ 2878 2963 2633 3030 \nQ 2388 3097 2138 3097 \nQ 1578 3097 1268 2742 \nQ 959 2388 959 1747 \nQ 959 1106 1268 751 \nQ 1578 397 2138 397 \nQ 2388 397 2633 464 \nQ 2878 531 3122 666 \nL 3122 134 \nQ 2881 22 2623 -34 \nQ 2366 -91 2075 -91 \nQ 1284 -91 818 406 \nQ 353 903 353 1747 \nQ 353 2603 823 3093 \nQ 1294 3584 2113 3584 \nQ 2378 3584 2631 3529 \nQ 2884 3475 3122 3366 \nz\n\" id=\"DejaVuSans-63\" transform=\"scale(0.015625)\"/>\n      <path d=\"M 2194 1759 \nQ 1497 1759 1228 1600 \nQ 959 1441 959 1056 \nQ 959 750 1161 570 \nQ 1363 391 1709 391 \nQ 2188 391 2477 730 \nQ 2766 1069 2766 1631 \nL 2766 1759 \nL 2194 1759 \nz\nM 3341 1997 \nL 3341 0 \nL 2766 0 \nL 2766 531 \nQ 2569 213 2275 61 \nQ 1981 -91 1556 -91 \nQ 1019 -91 701 211 \nQ 384 513 384 1019 \nQ 384 1609 779 1909 \nQ 1175 2209 1959 2209 \nL 2766 2209 \nL 2766 2266 \nQ 2766 2663 2505 2880 \nQ 2244 3097 1772 3097 \nQ 1472 3097 1187 3025 \nQ 903 2953 641 2809 \nL 641 3341 \nQ 956 3463 1253 3523 \nQ 1550 3584 1831 3584 \nQ 2591 3584 2966 3190 \nQ 3341 2797 3341 1997 \nz\n\" id=\"DejaVuSans-61\" transform=\"scale(0.015625)\"/>\n      <path d=\"M 2834 3397 \nL 2834 2853 \nQ 2591 2978 2328 3040 \nQ 2066 3103 1784 3103 \nQ 1356 3103 1142 2972 \nQ 928 2841 928 2578 \nQ 928 2378 1081 2264 \nQ 1234 2150 1697 2047 \nL 1894 2003 \nQ 2506 1872 2764 1633 \nQ 3022 1394 3022 966 \nQ 3022 478 2636 193 \nQ 2250 -91 1575 -91 \nQ 1294 -91 989 -36 \nQ 684 19 347 128 \nL 347 722 \nQ 666 556 975 473 \nQ 1284 391 1588 391 \nQ 1994 391 2212 530 \nQ 2431 669 2431 922 \nQ 2431 1156 2273 1281 \nQ 2116 1406 1581 1522 \nL 1381 1569 \nQ 847 1681 609 1914 \nQ 372 2147 372 2553 \nQ 372 3047 722 3315 \nQ 1072 3584 1716 3584 \nQ 2034 3584 2315 3537 \nQ 2597 3491 2834 3397 \nz\n\" id=\"DejaVuSans-73\" transform=\"scale(0.015625)\"/>\n      <path d=\"M 3116 1747 \nQ 3116 2381 2855 2742 \nQ 2594 3103 2138 3103 \nQ 1681 3103 1420 2742 \nQ 1159 2381 1159 1747 \nQ 1159 1113 1420 752 \nQ 1681 391 2138 391 \nQ 2594 391 2855 752 \nQ 3116 1113 3116 1747 \nz\nM 1159 2969 \nQ 1341 3281 1617 3432 \nQ 1894 3584 2278 3584 \nQ 2916 3584 3314 3078 \nQ 3713 2572 3713 1747 \nQ 3713 922 3314 415 \nQ 2916 -91 2278 -91 \nQ 1894 -91 1617 61 \nQ 1341 213 1159 525 \nL 1159 0 \nL 581 0 \nL 581 4863 \nL 1159 4863 \nL 1159 2969 \nz\n\" id=\"DejaVuSans-62\" transform=\"scale(0.015625)\"/>\n      <path id=\"DejaVuSans-20\" transform=\"scale(0.015625)\"/>\n      <path d=\"M 678 2906 \nL 4684 2906 \nL 4684 2381 \nL 678 2381 \nL 678 2906 \nz\nM 678 1631 \nL 4684 1631 \nL 4684 1100 \nL 678 1100 \nL 678 1631 \nz\n\" id=\"DejaVuSans-3d\" transform=\"scale(0.015625)\"/>\n      <path d=\"M 1259 4147 \nL 1259 2394 \nL 2053 2394 \nQ 2494 2394 2734 2622 \nQ 2975 2850 2975 3272 \nQ 2975 3691 2734 3919 \nQ 2494 4147 2053 4147 \nL 1259 4147 \nz\nM 628 4666 \nL 2053 4666 \nQ 2838 4666 3239 4311 \nQ 3641 3956 3641 3272 \nQ 3641 2581 3239 2228 \nQ 2838 1875 2053 1875 \nL 1259 1875 \nL 1259 0 \nL 628 0 \nL 628 4666 \nz\n\" id=\"DejaVuSans-50\" transform=\"scale(0.015625)\"/>\n      <path d=\"M 1959 3097 \nQ 1497 3097 1228 2736 \nQ 959 2375 959 1747 \nQ 959 1119 1226 758 \nQ 1494 397 1959 397 \nQ 2419 397 2687 759 \nQ 2956 1122 2956 1747 \nQ 2956 2369 2687 2733 \nQ 2419 3097 1959 3097 \nz\nM 1959 3584 \nQ 2709 3584 3137 3096 \nQ 3566 2609 3566 1747 \nQ 3566 888 3137 398 \nQ 2709 -91 1959 -91 \nQ 1206 -91 779 398 \nQ 353 888 353 1747 \nQ 353 2609 779 3096 \nQ 1206 3584 1959 3584 \nz\n\" id=\"DejaVuSans-6f\" transform=\"scale(0.015625)\"/>\n      <path d=\"M 603 3500 \nL 1178 3500 \nL 1178 0 \nL 603 0 \nL 603 3500 \nz\nM 603 4863 \nL 1178 4863 \nL 1178 4134 \nL 603 4134 \nL 603 4863 \nz\n\" id=\"DejaVuSans-69\" transform=\"scale(0.015625)\"/>\n      <path d=\"M 191 3500 \nL 800 3500 \nL 1894 563 \nL 2988 3500 \nL 3597 3500 \nL 2284 0 \nL 1503 0 \nL 191 3500 \nz\n\" id=\"DejaVuSans-76\" transform=\"scale(0.015625)\"/>\n      <path d=\"M 1984 4856 \nQ 1566 4138 1362 3434 \nQ 1159 2731 1159 2009 \nQ 1159 1288 1364 580 \nQ 1569 -128 1984 -844 \nL 1484 -844 \nQ 1016 -109 783 600 \nQ 550 1309 550 2009 \nQ 550 2706 781 3412 \nQ 1013 4119 1484 4856 \nL 1984 4856 \nz\n\" id=\"DejaVuSans-28\" transform=\"scale(0.015625)\"/>\n      <path d=\"M 513 4856 \nL 1013 4856 \nQ 1481 4119 1714 3412 \nQ 1947 2706 1947 2009 \nQ 1947 1309 1714 600 \nQ 1481 -109 1013 -844 \nL 513 -844 \nQ 928 -128 1133 580 \nQ 1338 1288 1338 2009 \nQ 1338 2731 1133 3434 \nQ 928 4138 513 4856 \nz\n\" id=\"DejaVuSans-29\" transform=\"scale(0.015625)\"/>\n     </defs>\n     <use xlink:href=\"#DejaVuSans-63\"/>\n     <use x=\"54.980469\" xlink:href=\"#DejaVuSans-6c\"/>\n     <use x=\"82.763672\" xlink:href=\"#DejaVuSans-61\"/>\n     <use x=\"144.042969\" xlink:href=\"#DejaVuSans-73\"/>\n     <use x=\"196.142578\" xlink:href=\"#DejaVuSans-73\"/>\n     <use x=\"248.242188\" xlink:href=\"#DejaVuSans-5f\"/>\n     <use x=\"298.242188\" xlink:href=\"#DejaVuSans-6c\"/>\n     <use x=\"326.025391\" xlink:href=\"#DejaVuSans-61\"/>\n     <use x=\"387.304688\" xlink:href=\"#DejaVuSans-62\"/>\n     <use x=\"450.78125\" xlink:href=\"#DejaVuSans-65\"/>\n     <use x=\"512.304688\" xlink:href=\"#DejaVuSans-6c\"/>\n     <use x=\"540.087891\" xlink:href=\"#DejaVuSans-20\"/>\n     <use x=\"571.875\" xlink:href=\"#DejaVuSans-3d\"/>\n     <use x=\"655.664062\" xlink:href=\"#DejaVuSans-20\"/>\n     <use x=\"687.451172\" xlink:href=\"#DejaVuSans-50\"/>\n     <use x=\"744.128906\" xlink:href=\"#DejaVuSans-6f\"/>\n     <use x=\"805.310547\" xlink:href=\"#DejaVuSans-73\"/>\n     <use x=\"857.410156\" xlink:href=\"#DejaVuSans-69\"/>\n     <use x=\"885.193359\" xlink:href=\"#DejaVuSans-74\"/>\n     <use x=\"924.402344\" xlink:href=\"#DejaVuSans-69\"/>\n     <use x=\"952.185547\" xlink:href=\"#DejaVuSans-76\"/>\n     <use x=\"1011.365234\" xlink:href=\"#DejaVuSans-65\"/>\n     <use x=\"1072.888672\" xlink:href=\"#DejaVuSans-28\"/>\n     <use x=\"1111.902344\" xlink:href=\"#DejaVuSans-31\"/>\n     <use x=\"1175.525391\" xlink:href=\"#DejaVuSans-29\"/>\n    </g>\n   </g>\n  </g>\n  <g id=\"axes_2\">\n   <g id=\"patch_15\">\n    <path d=\"M 245.7625 169.292187 \nL 437.575 169.292187 \nL 437.575 20.798437 \nL 245.7625 20.798437 \nz\n\" style=\"fill:#ffffff;\"/>\n   </g>\n   <g id=\"patch_16\">\n    <path clip-path=\"url(#pb5825b3c0d)\" d=\"M 262.987348 169.292187 \nL 278.58186 169.292187 \nL 278.58186 168.373433 \nL 262.987348 168.373433 \nz\n\" style=\"fill:#1f77b4;\"/>\n   </g>\n   <g id=\"patch_17\">\n    <path clip-path=\"url(#pb5825b3c0d)\" d=\"M 278.58186 169.292187 \nL 294.176372 169.292187 \nL 294.176372 164.107785 \nL 278.58186 164.107785 \nz\n\" style=\"fill:#1f77b4;\"/>\n   </g>\n   <g id=\"patch_18\">\n    <path clip-path=\"url(#pb5825b3c0d)\" d=\"M 294.176372 169.292187 \nL 309.770884 169.292187 \nL 309.770884 146.192066 \nL 294.176372 146.192066 \nz\n\" style=\"fill:#1f77b4;\"/>\n   </g>\n   <g id=\"patch_19\">\n    <path clip-path=\"url(#pb5825b3c0d)\" d=\"M 309.770884 169.292187 \nL 325.365396 169.292187 \nL 325.365396 130.048231 \nL 309.770884 130.048231 \nz\n\" style=\"fill:#1f77b4;\"/>\n   </g>\n   <g id=\"patch_20\">\n    <path clip-path=\"url(#pb5825b3c0d)\" d=\"M 325.365396 169.292187 \nL 340.959909 169.292187 \nL 340.959909 116.791911 \nL 325.365396 116.791911 \nz\n\" style=\"fill:#1f77b4;\"/>\n   </g>\n   <g id=\"patch_21\">\n    <path clip-path=\"url(#pb5825b3c0d)\" d=\"M 340.959909 169.292187 \nL 356.554421 169.292187 \nL 356.554421 115.67628 \nL 340.959909 115.67628 \nz\n\" style=\"fill:#1f77b4;\"/>\n   </g>\n   <g id=\"patch_22\">\n    <path clip-path=\"url(#pb5825b3c0d)\" d=\"M 356.554421 169.292187 \nL 372.148933 169.292187 \nL 372.148933 131.820115 \nL 356.554421 131.820115 \nz\n\" style=\"fill:#1f77b4;\"/>\n   </g>\n   <g id=\"patch_23\">\n    <path clip-path=\"url(#pb5825b3c0d)\" d=\"M 372.148933 169.292187 \nL 387.743445 169.292187 \nL 387.743445 147.504573 \nL 372.148933 147.504573 \nz\n\" style=\"fill:#1f77b4;\"/>\n   </g>\n   <g id=\"patch_24\">\n    <path clip-path=\"url(#pb5825b3c0d)\" d=\"M 387.743445 169.292187 \nL 403.337957 169.292187 \nL 403.337957 164.632788 \nL 387.743445 164.632788 \nz\n\" style=\"fill:#1f77b4;\"/>\n   </g>\n   <g id=\"patch_25\">\n    <path clip-path=\"url(#pb5825b3c0d)\" d=\"M 403.337957 169.292187 \nL 418.93247 169.292187 \nL 418.93247 168.898435 \nL 403.337957 168.898435 \nz\n\" style=\"fill:#1f77b4;\"/>\n   </g>\n   <g id=\"matplotlib.axis_3\">\n    <g id=\"xtick_6\">\n     <g id=\"line2d_11\">\n      <g>\n       <use style=\"stroke:#000000;stroke-width:0.8;\" x=\"270.075762\" xlink:href=\"#ma25e65f02f\" y=\"169.292187\"/>\n      </g>\n     </g>\n     <g id=\"text_13\">\n      <!-- 25 -->\n      <g transform=\"translate(263.713262 183.890625)scale(0.1 -0.1)\">\n       <use xlink:href=\"#DejaVuSans-32\"/>\n       <use x=\"63.623047\" xlink:href=\"#DejaVuSans-35\"/>\n      </g>\n     </g>\n    </g>\n    <g id=\"xtick_7\">\n     <g id=\"line2d_12\">\n      <g>\n       <use style=\"stroke:#000000;stroke-width:0.8;\" x=\"305.517835\" xlink:href=\"#ma25e65f02f\" y=\"169.292187\"/>\n      </g>\n     </g>\n     <g id=\"text_14\">\n      <!-- 50 -->\n      <g transform=\"translate(299.155335 183.890625)scale(0.1 -0.1)\">\n       <use xlink:href=\"#DejaVuSans-35\"/>\n       <use x=\"63.623047\" xlink:href=\"#DejaVuSans-30\"/>\n      </g>\n     </g>\n    </g>\n    <g id=\"xtick_8\">\n     <g id=\"line2d_13\">\n      <g>\n       <use style=\"stroke:#000000;stroke-width:0.8;\" x=\"340.959909\" xlink:href=\"#ma25e65f02f\" y=\"169.292187\"/>\n      </g>\n     </g>\n     <g id=\"text_15\">\n      <!-- 75 -->\n      <g transform=\"translate(334.597409 183.890625)scale(0.1 -0.1)\">\n       <use xlink:href=\"#DejaVuSans-37\"/>\n       <use x=\"63.623047\" xlink:href=\"#DejaVuSans-35\"/>\n      </g>\n     </g>\n    </g>\n    <g id=\"xtick_9\">\n     <g id=\"line2d_14\">\n      <g>\n       <use style=\"stroke:#000000;stroke-width:0.8;\" x=\"376.401982\" xlink:href=\"#ma25e65f02f\" y=\"169.292187\"/>\n      </g>\n     </g>\n     <g id=\"text_16\">\n      <!-- 100 -->\n      <g transform=\"translate(366.858232 183.890625)scale(0.1 -0.1)\">\n       <use xlink:href=\"#DejaVuSans-31\"/>\n       <use x=\"63.623047\" xlink:href=\"#DejaVuSans-30\"/>\n       <use x=\"127.246094\" xlink:href=\"#DejaVuSans-30\"/>\n      </g>\n     </g>\n    </g>\n    <g id=\"xtick_10\">\n     <g id=\"line2d_15\">\n      <g>\n       <use style=\"stroke:#000000;stroke-width:0.8;\" x=\"411.844055\" xlink:href=\"#ma25e65f02f\" y=\"169.292187\"/>\n      </g>\n     </g>\n     <g id=\"text_17\">\n      <!-- 125 -->\n      <g transform=\"translate(402.300305 183.890625)scale(0.1 -0.1)\">\n       <use xlink:href=\"#DejaVuSans-31\"/>\n       <use x=\"63.623047\" xlink:href=\"#DejaVuSans-32\"/>\n       <use x=\"127.246094\" xlink:href=\"#DejaVuSans-35\"/>\n      </g>\n     </g>\n    </g>\n    <g id=\"text_18\">\n     <!-- length_tweet -->\n     <g transform=\"translate(309.06875 197.56875)scale(0.1 -0.1)\">\n      <use xlink:href=\"#DejaVuSans-6c\"/>\n      <use x=\"27.783203\" xlink:href=\"#DejaVuSans-65\"/>\n      <use x=\"89.306641\" xlink:href=\"#DejaVuSans-6e\"/>\n      <use x=\"152.685547\" xlink:href=\"#DejaVuSans-67\"/>\n      <use x=\"216.162109\" xlink:href=\"#DejaVuSans-74\"/>\n      <use x=\"255.371094\" xlink:href=\"#DejaVuSans-68\"/>\n      <use x=\"318.75\" xlink:href=\"#DejaVuSans-5f\"/>\n      <use x=\"368.75\" xlink:href=\"#DejaVuSans-74\"/>\n      <use x=\"407.958984\" xlink:href=\"#DejaVuSans-77\"/>\n      <use x=\"489.746094\" xlink:href=\"#DejaVuSans-65\"/>\n      <use x=\"551.269531\" xlink:href=\"#DejaVuSans-65\"/>\n      <use x=\"612.792969\" xlink:href=\"#DejaVuSans-74\"/>\n     </g>\n    </g>\n   </g>\n   <g id=\"matplotlib.axis_4\">\n    <g id=\"ytick_6\">\n     <g id=\"line2d_16\">\n      <g>\n       <use style=\"stroke:#000000;stroke-width:0.8;\" x=\"245.7625\" xlink:href=\"#mbbc2c86d57\" y=\"169.292187\"/>\n      </g>\n     </g>\n    </g>\n    <g id=\"ytick_7\">\n     <g id=\"line2d_17\">\n      <g>\n       <use style=\"stroke:#000000;stroke-width:0.8;\" x=\"245.7625\" xlink:href=\"#mbbc2c86d57\" y=\"136.479515\"/>\n      </g>\n     </g>\n    </g>\n    <g id=\"ytick_8\">\n     <g id=\"line2d_18\">\n      <g>\n       <use style=\"stroke:#000000;stroke-width:0.8;\" x=\"245.7625\" xlink:href=\"#mbbc2c86d57\" y=\"103.666842\"/>\n      </g>\n     </g>\n    </g>\n    <g id=\"ytick_9\">\n     <g id=\"line2d_19\">\n      <g>\n       <use style=\"stroke:#000000;stroke-width:0.8;\" x=\"245.7625\" xlink:href=\"#mbbc2c86d57\" y=\"70.85417\"/>\n      </g>\n     </g>\n    </g>\n    <g id=\"ytick_10\">\n     <g id=\"line2d_20\">\n      <g>\n       <use style=\"stroke:#000000;stroke-width:0.8;\" x=\"245.7625\" xlink:href=\"#mbbc2c86d57\" y=\"38.041497\"/>\n      </g>\n     </g>\n    </g>\n   </g>\n   <g id=\"patch_26\">\n    <path d=\"M 245.7625 169.292187 \nL 245.7625 20.798437 \n\" style=\"fill:none;stroke:#000000;stroke-linecap:square;stroke-linejoin:miter;stroke-width:0.8;\"/>\n   </g>\n   <g id=\"patch_27\">\n    <path d=\"M 245.7625 169.292187 \nL 437.575 169.292187 \n\" style=\"fill:none;stroke:#000000;stroke-linecap:square;stroke-linejoin:miter;stroke-width:0.8;\"/>\n   </g>\n   <g id=\"text_19\">\n    <!-- class_label = News(2) -->\n    <g transform=\"translate(286.702344 14.798437)scale(0.1 -0.1)\">\n     <defs>\n      <path d=\"M 628 4666 \nL 1478 4666 \nL 3547 763 \nL 3547 4666 \nL 4159 4666 \nL 4159 0 \nL 3309 0 \nL 1241 3903 \nL 1241 0 \nL 628 0 \nL 628 4666 \nz\n\" id=\"DejaVuSans-4e\" transform=\"scale(0.015625)\"/>\n     </defs>\n     <use xlink:href=\"#DejaVuSans-63\"/>\n     <use x=\"54.980469\" xlink:href=\"#DejaVuSans-6c\"/>\n     <use x=\"82.763672\" xlink:href=\"#DejaVuSans-61\"/>\n     <use x=\"144.042969\" xlink:href=\"#DejaVuSans-73\"/>\n     <use x=\"196.142578\" xlink:href=\"#DejaVuSans-73\"/>\n     <use x=\"248.242188\" xlink:href=\"#DejaVuSans-5f\"/>\n     <use x=\"298.242188\" xlink:href=\"#DejaVuSans-6c\"/>\n     <use x=\"326.025391\" xlink:href=\"#DejaVuSans-61\"/>\n     <use x=\"387.304688\" xlink:href=\"#DejaVuSans-62\"/>\n     <use x=\"450.78125\" xlink:href=\"#DejaVuSans-65\"/>\n     <use x=\"512.304688\" xlink:href=\"#DejaVuSans-6c\"/>\n     <use x=\"540.087891\" xlink:href=\"#DejaVuSans-20\"/>\n     <use x=\"571.875\" xlink:href=\"#DejaVuSans-3d\"/>\n     <use x=\"655.664062\" xlink:href=\"#DejaVuSans-20\"/>\n     <use x=\"687.451172\" xlink:href=\"#DejaVuSans-4e\"/>\n     <use x=\"762.255859\" xlink:href=\"#DejaVuSans-65\"/>\n     <use x=\"823.779297\" xlink:href=\"#DejaVuSans-77\"/>\n     <use x=\"905.566406\" xlink:href=\"#DejaVuSans-73\"/>\n     <use x=\"957.666016\" xlink:href=\"#DejaVuSans-28\"/>\n     <use x=\"996.679688\" xlink:href=\"#DejaVuSans-32\"/>\n     <use x=\"1060.302734\" xlink:href=\"#DejaVuSans-29\"/>\n    </g>\n   </g>\n  </g>\n  <g id=\"axes_3\">\n   <g id=\"patch_28\">\n    <path d=\"M 451.875 169.292187 \nL 643.6875 169.292187 \nL 643.6875 20.798437 \nL 451.875 20.798437 \nz\n\" style=\"fill:#ffffff;\"/>\n   </g>\n   <g id=\"patch_29\">\n    <path clip-path=\"url(#pf0afbe0892)\" d=\"M 460.59375 169.292187 \nL 478.03125 169.292187 \nL 478.03125 165.814044 \nL 460.59375 165.814044 \nz\n\" style=\"fill:#1f77b4;\"/>\n   </g>\n   <g id=\"patch_30\">\n    <path clip-path=\"url(#pf0afbe0892)\" d=\"M 478.03125 169.292187 \nL 495.46875 169.292187 \nL 495.46875 157.348375 \nL 478.03125 157.348375 \nz\n\" style=\"fill:#1f77b4;\"/>\n   </g>\n   <g id=\"patch_31\">\n    <path clip-path=\"url(#pf0afbe0892)\" d=\"M 495.46875 169.292187 \nL 512.90625 169.292187 \nL 512.90625 151.63897 \nL 495.46875 151.63897 \nz\n\" style=\"fill:#1f77b4;\"/>\n   </g>\n   <g id=\"patch_32\">\n    <path clip-path=\"url(#pf0afbe0892)\" d=\"M 512.90625 169.292187 \nL 530.34375 169.292187 \nL 530.34375 144.879559 \nL 512.90625 144.879559 \nz\n\" style=\"fill:#1f77b4;\"/>\n   </g>\n   <g id=\"patch_33\">\n    <path clip-path=\"url(#pf0afbe0892)\" d=\"M 530.34375 169.292187 \nL 547.78125 169.292187 \nL 547.78125 147.767074 \nL 530.34375 147.767074 \nz\n\" style=\"fill:#1f77b4;\"/>\n   </g>\n   <g id=\"patch_34\">\n    <path clip-path=\"url(#pf0afbe0892)\" d=\"M 547.78125 169.292187 \nL 565.21875 169.292187 \nL 565.21875 140.745162 \nL 547.78125 140.745162 \nz\n\" style=\"fill:#1f77b4;\"/>\n   </g>\n   <g id=\"patch_35\">\n    <path clip-path=\"url(#pf0afbe0892)\" d=\"M 565.21875 169.292187 \nL 582.65625 169.292187 \nL 582.65625 141.007664 \nL 565.21875 141.007664 \nz\n\" style=\"fill:#1f77b4;\"/>\n   </g>\n   <g id=\"patch_36\">\n    <path clip-path=\"url(#pf0afbe0892)\" d=\"M 582.65625 169.292187 \nL 600.09375 169.292187 \nL 600.09375 154.985862 \nL 582.65625 154.985862 \nz\n\" style=\"fill:#1f77b4;\"/>\n   </g>\n   <g id=\"patch_37\">\n    <path clip-path=\"url(#pf0afbe0892)\" d=\"M 600.09375 169.292187 \nL 617.53125 169.292187 \nL 617.53125 165.748419 \nL 600.09375 165.748419 \nz\n\" style=\"fill:#1f77b4;\"/>\n   </g>\n   <g id=\"patch_38\">\n    <path clip-path=\"url(#pf0afbe0892)\" d=\"M 617.53125 169.292187 \nL 634.96875 169.292187 \nL 634.96875 168.570309 \nL 617.53125 168.570309 \nz\n\" style=\"fill:#1f77b4;\"/>\n   </g>\n   <g id=\"matplotlib.axis_5\">\n    <g id=\"xtick_11\">\n     <g id=\"line2d_21\">\n      <g>\n       <use style=\"stroke:#000000;stroke-width:0.8;\" x=\"476.188262\" xlink:href=\"#ma25e65f02f\" y=\"169.292187\"/>\n      </g>\n     </g>\n     <g id=\"text_20\">\n      <!-- 25 -->\n      <g transform=\"translate(469.825762 183.890625)scale(0.1 -0.1)\">\n       <use xlink:href=\"#DejaVuSans-32\"/>\n       <use x=\"63.623047\" xlink:href=\"#DejaVuSans-35\"/>\n      </g>\n     </g>\n    </g>\n    <g id=\"xtick_12\">\n     <g id=\"line2d_22\">\n      <g>\n       <use style=\"stroke:#000000;stroke-width:0.8;\" x=\"511.630335\" xlink:href=\"#ma25e65f02f\" y=\"169.292187\"/>\n      </g>\n     </g>\n     <g id=\"text_21\">\n      <!-- 50 -->\n      <g transform=\"translate(505.267835 183.890625)scale(0.1 -0.1)\">\n       <use xlink:href=\"#DejaVuSans-35\"/>\n       <use x=\"63.623047\" xlink:href=\"#DejaVuSans-30\"/>\n      </g>\n     </g>\n    </g>\n    <g id=\"xtick_13\">\n     <g id=\"line2d_23\">\n      <g>\n       <use style=\"stroke:#000000;stroke-width:0.8;\" x=\"547.072409\" xlink:href=\"#ma25e65f02f\" y=\"169.292187\"/>\n      </g>\n     </g>\n     <g id=\"text_22\">\n      <!-- 75 -->\n      <g transform=\"translate(540.709909 183.890625)scale(0.1 -0.1)\">\n       <use xlink:href=\"#DejaVuSans-37\"/>\n       <use x=\"63.623047\" xlink:href=\"#DejaVuSans-35\"/>\n      </g>\n     </g>\n    </g>\n    <g id=\"xtick_14\">\n     <g id=\"line2d_24\">\n      <g>\n       <use style=\"stroke:#000000;stroke-width:0.8;\" x=\"582.514482\" xlink:href=\"#ma25e65f02f\" y=\"169.292187\"/>\n      </g>\n     </g>\n     <g id=\"text_23\">\n      <!-- 100 -->\n      <g transform=\"translate(572.970732 183.890625)scale(0.1 -0.1)\">\n       <use xlink:href=\"#DejaVuSans-31\"/>\n       <use x=\"63.623047\" xlink:href=\"#DejaVuSans-30\"/>\n       <use x=\"127.246094\" xlink:href=\"#DejaVuSans-30\"/>\n      </g>\n     </g>\n    </g>\n    <g id=\"xtick_15\">\n     <g id=\"line2d_25\">\n      <g>\n       <use style=\"stroke:#000000;stroke-width:0.8;\" x=\"617.956555\" xlink:href=\"#ma25e65f02f\" y=\"169.292187\"/>\n      </g>\n     </g>\n     <g id=\"text_24\">\n      <!-- 125 -->\n      <g transform=\"translate(608.412805 183.890625)scale(0.1 -0.1)\">\n       <use xlink:href=\"#DejaVuSans-31\"/>\n       <use x=\"63.623047\" xlink:href=\"#DejaVuSans-32\"/>\n       <use x=\"127.246094\" xlink:href=\"#DejaVuSans-35\"/>\n      </g>\n     </g>\n    </g>\n    <g id=\"text_25\">\n     <!-- length_tweet -->\n     <g transform=\"translate(515.18125 197.56875)scale(0.1 -0.1)\">\n      <use xlink:href=\"#DejaVuSans-6c\"/>\n      <use x=\"27.783203\" xlink:href=\"#DejaVuSans-65\"/>\n      <use x=\"89.306641\" xlink:href=\"#DejaVuSans-6e\"/>\n      <use x=\"152.685547\" xlink:href=\"#DejaVuSans-67\"/>\n      <use x=\"216.162109\" xlink:href=\"#DejaVuSans-74\"/>\n      <use x=\"255.371094\" xlink:href=\"#DejaVuSans-68\"/>\n      <use x=\"318.75\" xlink:href=\"#DejaVuSans-5f\"/>\n      <use x=\"368.75\" xlink:href=\"#DejaVuSans-74\"/>\n      <use x=\"407.958984\" xlink:href=\"#DejaVuSans-77\"/>\n      <use x=\"489.746094\" xlink:href=\"#DejaVuSans-65\"/>\n      <use x=\"551.269531\" xlink:href=\"#DejaVuSans-65\"/>\n      <use x=\"612.792969\" xlink:href=\"#DejaVuSans-74\"/>\n     </g>\n    </g>\n   </g>\n   <g id=\"matplotlib.axis_6\">\n    <g id=\"ytick_11\">\n     <g id=\"line2d_26\">\n      <g>\n       <use style=\"stroke:#000000;stroke-width:0.8;\" x=\"451.875\" xlink:href=\"#mbbc2c86d57\" y=\"169.292187\"/>\n      </g>\n     </g>\n    </g>\n    <g id=\"ytick_12\">\n     <g id=\"line2d_27\">\n      <g>\n       <use style=\"stroke:#000000;stroke-width:0.8;\" x=\"451.875\" xlink:href=\"#mbbc2c86d57\" y=\"136.479515\"/>\n      </g>\n     </g>\n    </g>\n    <g id=\"ytick_13\">\n     <g id=\"line2d_28\">\n      <g>\n       <use style=\"stroke:#000000;stroke-width:0.8;\" x=\"451.875\" xlink:href=\"#mbbc2c86d57\" y=\"103.666842\"/>\n      </g>\n     </g>\n    </g>\n    <g id=\"ytick_14\">\n     <g id=\"line2d_29\">\n      <g>\n       <use style=\"stroke:#000000;stroke-width:0.8;\" x=\"451.875\" xlink:href=\"#mbbc2c86d57\" y=\"70.85417\"/>\n      </g>\n     </g>\n    </g>\n    <g id=\"ytick_15\">\n     <g id=\"line2d_30\">\n      <g>\n       <use style=\"stroke:#000000;stroke-width:0.8;\" x=\"451.875\" xlink:href=\"#mbbc2c86d57\" y=\"38.041497\"/>\n      </g>\n     </g>\n    </g>\n   </g>\n   <g id=\"patch_39\">\n    <path d=\"M 451.875 169.292187 \nL 451.875 20.798437 \n\" style=\"fill:none;stroke:#000000;stroke-linecap:square;stroke-linejoin:miter;stroke-width:0.8;\"/>\n   </g>\n   <g id=\"patch_40\">\n    <path d=\"M 451.875 169.292187 \nL 643.6875 169.292187 \n\" style=\"fill:none;stroke:#000000;stroke-linecap:square;stroke-linejoin:miter;stroke-width:0.8;\"/>\n   </g>\n   <g id=\"text_26\">\n    <!-- class_label = Neutral(0) -->\n    <g transform=\"translate(487.871094 14.798437)scale(0.1 -0.1)\">\n     <defs>\n      <path d=\"M 544 1381 \nL 544 3500 \nL 1119 3500 \nL 1119 1403 \nQ 1119 906 1312 657 \nQ 1506 409 1894 409 \nQ 2359 409 2629 706 \nQ 2900 1003 2900 1516 \nL 2900 3500 \nL 3475 3500 \nL 3475 0 \nL 2900 0 \nL 2900 538 \nQ 2691 219 2414 64 \nQ 2138 -91 1772 -91 \nQ 1169 -91 856 284 \nQ 544 659 544 1381 \nz\nM 1991 3584 \nL 1991 3584 \nz\n\" id=\"DejaVuSans-75\" transform=\"scale(0.015625)\"/>\n      <path d=\"M 2631 2963 \nQ 2534 3019 2420 3045 \nQ 2306 3072 2169 3072 \nQ 1681 3072 1420 2755 \nQ 1159 2438 1159 1844 \nL 1159 0 \nL 581 0 \nL 581 3500 \nL 1159 3500 \nL 1159 2956 \nQ 1341 3275 1631 3429 \nQ 1922 3584 2338 3584 \nQ 2397 3584 2469 3576 \nQ 2541 3569 2628 3553 \nL 2631 2963 \nz\n\" id=\"DejaVuSans-72\" transform=\"scale(0.015625)\"/>\n     </defs>\n     <use xlink:href=\"#DejaVuSans-63\"/>\n     <use x=\"54.980469\" xlink:href=\"#DejaVuSans-6c\"/>\n     <use x=\"82.763672\" xlink:href=\"#DejaVuSans-61\"/>\n     <use x=\"144.042969\" xlink:href=\"#DejaVuSans-73\"/>\n     <use x=\"196.142578\" xlink:href=\"#DejaVuSans-73\"/>\n     <use x=\"248.242188\" xlink:href=\"#DejaVuSans-5f\"/>\n     <use x=\"298.242188\" xlink:href=\"#DejaVuSans-6c\"/>\n     <use x=\"326.025391\" xlink:href=\"#DejaVuSans-61\"/>\n     <use x=\"387.304688\" xlink:href=\"#DejaVuSans-62\"/>\n     <use x=\"450.78125\" xlink:href=\"#DejaVuSans-65\"/>\n     <use x=\"512.304688\" xlink:href=\"#DejaVuSans-6c\"/>\n     <use x=\"540.087891\" xlink:href=\"#DejaVuSans-20\"/>\n     <use x=\"571.875\" xlink:href=\"#DejaVuSans-3d\"/>\n     <use x=\"655.664062\" xlink:href=\"#DejaVuSans-20\"/>\n     <use x=\"687.451172\" xlink:href=\"#DejaVuSans-4e\"/>\n     <use x=\"762.255859\" xlink:href=\"#DejaVuSans-65\"/>\n     <use x=\"823.779297\" xlink:href=\"#DejaVuSans-75\"/>\n     <use x=\"887.158203\" xlink:href=\"#DejaVuSans-74\"/>\n     <use x=\"926.367188\" xlink:href=\"#DejaVuSans-72\"/>\n     <use x=\"967.480469\" xlink:href=\"#DejaVuSans-61\"/>\n     <use x=\"1028.759766\" xlink:href=\"#DejaVuSans-6c\"/>\n     <use x=\"1056.542969\" xlink:href=\"#DejaVuSans-28\"/>\n     <use x=\"1095.556641\" xlink:href=\"#DejaVuSans-30\"/>\n     <use x=\"1159.179688\" xlink:href=\"#DejaVuSans-29\"/>\n    </g>\n   </g>\n  </g>\n  <g id=\"axes_4\">\n   <g id=\"patch_41\">\n    <path d=\"M 657.9875 169.292187 \nL 849.8 169.292187 \nL 849.8 20.798437 \nL 657.9875 20.798437 \nz\n\" style=\"fill:#ffffff;\"/>\n   </g>\n   <g id=\"patch_42\">\n    <path clip-path=\"url(#pf9c99e2fc8)\" d=\"M 666.70625 169.292187 \nL 682.158994 169.292187 \nL 682.158994 168.83281 \nL 666.70625 168.83281 \nz\n\" style=\"fill:#1f77b4;\"/>\n   </g>\n   <g id=\"patch_43\">\n    <path clip-path=\"url(#pf9c99e2fc8)\" d=\"M 682.158994 169.292187 \nL 697.611738 169.292187 \nL 697.611738 167.585929 \nL 682.158994 167.585929 \nz\n\" style=\"fill:#1f77b4;\"/>\n   </g>\n   <g id=\"patch_44\">\n    <path clip-path=\"url(#pf9c99e2fc8)\" d=\"M 697.611738 169.292187 \nL 713.064482 169.292187 \nL 713.064482 165.092165 \nL 697.611738 165.092165 \nz\n\" style=\"fill:#1f77b4;\"/>\n   </g>\n   <g id=\"patch_45\">\n    <path clip-path=\"url(#pf9c99e2fc8)\" d=\"M 713.064482 169.292187 \nL 728.517226 169.292187 \nL 728.517226 163.05778 \nL 713.064482 163.05778 \nz\n\" style=\"fill:#1f77b4;\"/>\n   </g>\n   <g id=\"patch_46\">\n    <path clip-path=\"url(#pf9c99e2fc8)\" d=\"M 728.517226 169.292187 \nL 743.96997 169.292187 \nL 743.96997 160.301515 \nL 728.517226 160.301515 \nz\n\" style=\"fill:#1f77b4;\"/>\n   </g>\n   <g id=\"patch_47\">\n    <path clip-path=\"url(#pf9c99e2fc8)\" d=\"M 743.96997 169.292187 \nL 759.422713 169.292187 \nL 759.422713 156.167118 \nL 743.96997 156.167118 \nz\n\" style=\"fill:#1f77b4;\"/>\n   </g>\n   <g id=\"patch_48\">\n    <path clip-path=\"url(#pf9c99e2fc8)\" d=\"M 759.422713 169.292187 \nL 774.875457 169.292187 \nL 774.875457 149.735835 \nL 759.422713 149.735835 \nz\n\" style=\"fill:#1f77b4;\"/>\n   </g>\n   <g id=\"patch_49\">\n    <path clip-path=\"url(#pf9c99e2fc8)\" d=\"M 774.875457 169.292187 \nL 790.328201 169.292187 \nL 790.328201 148.882705 \nL 774.875457 148.882705 \nz\n\" style=\"fill:#1f77b4;\"/>\n   </g>\n   <g id=\"patch_50\">\n    <path clip-path=\"url(#pf9c99e2fc8)\" d=\"M 790.328201 169.292187 \nL 805.780945 169.292187 \nL 805.780945 160.301515 \nL 790.328201 160.301515 \nz\n\" style=\"fill:#1f77b4;\"/>\n   </g>\n   <g id=\"patch_51\">\n    <path clip-path=\"url(#pf9c99e2fc8)\" d=\"M 805.780945 169.292187 \nL 821.233689 169.292187 \nL 821.233689 167.914055 \nL 805.780945 167.914055 \nz\n\" style=\"fill:#1f77b4;\"/>\n   </g>\n   <g id=\"matplotlib.axis_7\">\n    <g id=\"xtick_16\">\n     <g id=\"line2d_31\">\n      <g>\n       <use style=\"stroke:#000000;stroke-width:0.8;\" x=\"682.300762\" xlink:href=\"#ma25e65f02f\" y=\"169.292187\"/>\n      </g>\n     </g>\n     <g id=\"text_27\">\n      <!-- 25 -->\n      <g transform=\"translate(675.938262 183.890625)scale(0.1 -0.1)\">\n       <use xlink:href=\"#DejaVuSans-32\"/>\n       <use x=\"63.623047\" xlink:href=\"#DejaVuSans-35\"/>\n      </g>\n     </g>\n    </g>\n    <g id=\"xtick_17\">\n     <g id=\"line2d_32\">\n      <g>\n       <use style=\"stroke:#000000;stroke-width:0.8;\" x=\"717.742835\" xlink:href=\"#ma25e65f02f\" y=\"169.292187\"/>\n      </g>\n     </g>\n     <g id=\"text_28\">\n      <!-- 50 -->\n      <g transform=\"translate(711.380335 183.890625)scale(0.1 -0.1)\">\n       <use xlink:href=\"#DejaVuSans-35\"/>\n       <use x=\"63.623047\" xlink:href=\"#DejaVuSans-30\"/>\n      </g>\n     </g>\n    </g>\n    <g id=\"xtick_18\">\n     <g id=\"line2d_33\">\n      <g>\n       <use style=\"stroke:#000000;stroke-width:0.8;\" x=\"753.184909\" xlink:href=\"#ma25e65f02f\" y=\"169.292187\"/>\n      </g>\n     </g>\n     <g id=\"text_29\">\n      <!-- 75 -->\n      <g transform=\"translate(746.822409 183.890625)scale(0.1 -0.1)\">\n       <use xlink:href=\"#DejaVuSans-37\"/>\n       <use x=\"63.623047\" xlink:href=\"#DejaVuSans-35\"/>\n      </g>\n     </g>\n    </g>\n    <g id=\"xtick_19\">\n     <g id=\"line2d_34\">\n      <g>\n       <use style=\"stroke:#000000;stroke-width:0.8;\" x=\"788.626982\" xlink:href=\"#ma25e65f02f\" y=\"169.292187\"/>\n      </g>\n     </g>\n     <g id=\"text_30\">\n      <!-- 100 -->\n      <g transform=\"translate(779.083232 183.890625)scale(0.1 -0.1)\">\n       <use xlink:href=\"#DejaVuSans-31\"/>\n       <use x=\"63.623047\" xlink:href=\"#DejaVuSans-30\"/>\n       <use x=\"127.246094\" xlink:href=\"#DejaVuSans-30\"/>\n      </g>\n     </g>\n    </g>\n    <g id=\"xtick_20\">\n     <g id=\"line2d_35\">\n      <g>\n       <use style=\"stroke:#000000;stroke-width:0.8;\" x=\"824.069055\" xlink:href=\"#ma25e65f02f\" y=\"169.292187\"/>\n      </g>\n     </g>\n     <g id=\"text_31\">\n      <!-- 125 -->\n      <g transform=\"translate(814.525305 183.890625)scale(0.1 -0.1)\">\n       <use xlink:href=\"#DejaVuSans-31\"/>\n       <use x=\"63.623047\" xlink:href=\"#DejaVuSans-32\"/>\n       <use x=\"127.246094\" xlink:href=\"#DejaVuSans-35\"/>\n      </g>\n     </g>\n    </g>\n    <g id=\"text_32\">\n     <!-- length_tweet -->\n     <g transform=\"translate(721.29375 197.56875)scale(0.1 -0.1)\">\n      <use xlink:href=\"#DejaVuSans-6c\"/>\n      <use x=\"27.783203\" xlink:href=\"#DejaVuSans-65\"/>\n      <use x=\"89.306641\" xlink:href=\"#DejaVuSans-6e\"/>\n      <use x=\"152.685547\" xlink:href=\"#DejaVuSans-67\"/>\n      <use x=\"216.162109\" xlink:href=\"#DejaVuSans-74\"/>\n      <use x=\"255.371094\" xlink:href=\"#DejaVuSans-68\"/>\n      <use x=\"318.75\" xlink:href=\"#DejaVuSans-5f\"/>\n      <use x=\"368.75\" xlink:href=\"#DejaVuSans-74\"/>\n      <use x=\"407.958984\" xlink:href=\"#DejaVuSans-77\"/>\n      <use x=\"489.746094\" xlink:href=\"#DejaVuSans-65\"/>\n      <use x=\"551.269531\" xlink:href=\"#DejaVuSans-65\"/>\n      <use x=\"612.792969\" xlink:href=\"#DejaVuSans-74\"/>\n     </g>\n    </g>\n   </g>\n   <g id=\"matplotlib.axis_8\">\n    <g id=\"ytick_16\">\n     <g id=\"line2d_36\">\n      <g>\n       <use style=\"stroke:#000000;stroke-width:0.8;\" x=\"657.9875\" xlink:href=\"#mbbc2c86d57\" y=\"169.292187\"/>\n      </g>\n     </g>\n    </g>\n    <g id=\"ytick_17\">\n     <g id=\"line2d_37\">\n      <g>\n       <use style=\"stroke:#000000;stroke-width:0.8;\" x=\"657.9875\" xlink:href=\"#mbbc2c86d57\" y=\"136.479515\"/>\n      </g>\n     </g>\n    </g>\n    <g id=\"ytick_18\">\n     <g id=\"line2d_38\">\n      <g>\n       <use style=\"stroke:#000000;stroke-width:0.8;\" x=\"657.9875\" xlink:href=\"#mbbc2c86d57\" y=\"103.666842\"/>\n      </g>\n     </g>\n    </g>\n    <g id=\"ytick_19\">\n     <g id=\"line2d_39\">\n      <g>\n       <use style=\"stroke:#000000;stroke-width:0.8;\" x=\"657.9875\" xlink:href=\"#mbbc2c86d57\" y=\"70.85417\"/>\n      </g>\n     </g>\n    </g>\n    <g id=\"ytick_20\">\n     <g id=\"line2d_40\">\n      <g>\n       <use style=\"stroke:#000000;stroke-width:0.8;\" x=\"657.9875\" xlink:href=\"#mbbc2c86d57\" y=\"38.041497\"/>\n      </g>\n     </g>\n    </g>\n   </g>\n   <g id=\"patch_52\">\n    <path d=\"M 657.9875 169.292187 \nL 657.9875 20.798437 \n\" style=\"fill:none;stroke:#000000;stroke-linecap:square;stroke-linejoin:miter;stroke-width:0.8;\"/>\n   </g>\n   <g id=\"patch_53\">\n    <path d=\"M 657.9875 169.292187 \nL 849.8 169.292187 \n\" style=\"fill:none;stroke:#000000;stroke-linecap:square;stroke-linejoin:miter;stroke-width:0.8;\"/>\n   </g>\n   <g id=\"text_33\">\n    <!-- class_label = Negative(-1) -->\n    <g transform=\"translate(688.19375 14.798437)scale(0.1 -0.1)\">\n     <defs>\n      <path d=\"M 313 2009 \nL 1997 2009 \nL 1997 1497 \nL 313 1497 \nL 313 2009 \nz\n\" id=\"DejaVuSans-2d\" transform=\"scale(0.015625)\"/>\n     </defs>\n     <use xlink:href=\"#DejaVuSans-63\"/>\n     <use x=\"54.980469\" xlink:href=\"#DejaVuSans-6c\"/>\n     <use x=\"82.763672\" xlink:href=\"#DejaVuSans-61\"/>\n     <use x=\"144.042969\" xlink:href=\"#DejaVuSans-73\"/>\n     <use x=\"196.142578\" xlink:href=\"#DejaVuSans-73\"/>\n     <use x=\"248.242188\" xlink:href=\"#DejaVuSans-5f\"/>\n     <use x=\"298.242188\" xlink:href=\"#DejaVuSans-6c\"/>\n     <use x=\"326.025391\" xlink:href=\"#DejaVuSans-61\"/>\n     <use x=\"387.304688\" xlink:href=\"#DejaVuSans-62\"/>\n     <use x=\"450.78125\" xlink:href=\"#DejaVuSans-65\"/>\n     <use x=\"512.304688\" xlink:href=\"#DejaVuSans-6c\"/>\n     <use x=\"540.087891\" xlink:href=\"#DejaVuSans-20\"/>\n     <use x=\"571.875\" xlink:href=\"#DejaVuSans-3d\"/>\n     <use x=\"655.664062\" xlink:href=\"#DejaVuSans-20\"/>\n     <use x=\"687.451172\" xlink:href=\"#DejaVuSans-4e\"/>\n     <use x=\"762.255859\" xlink:href=\"#DejaVuSans-65\"/>\n     <use x=\"823.779297\" xlink:href=\"#DejaVuSans-67\"/>\n     <use x=\"887.255859\" xlink:href=\"#DejaVuSans-61\"/>\n     <use x=\"948.535156\" xlink:href=\"#DejaVuSans-74\"/>\n     <use x=\"987.744141\" xlink:href=\"#DejaVuSans-69\"/>\n     <use x=\"1015.527344\" xlink:href=\"#DejaVuSans-76\"/>\n     <use x=\"1074.707031\" xlink:href=\"#DejaVuSans-65\"/>\n     <use x=\"1136.230469\" xlink:href=\"#DejaVuSans-28\"/>\n     <use x=\"1175.244141\" xlink:href=\"#DejaVuSans-2d\"/>\n     <use x=\"1211.328125\" xlink:href=\"#DejaVuSans-31\"/>\n     <use x=\"1274.951172\" xlink:href=\"#DejaVuSans-29\"/>\n    </g>\n   </g>\n  </g>\n </g>\n <defs>\n  <clipPath id=\"pe8dd411579\">\n   <rect height=\"148.49375\" width=\"191.8125\" x=\"39.65\" y=\"20.798437\"/>\n  </clipPath>\n  <clipPath id=\"pb5825b3c0d\">\n   <rect height=\"148.49375\" width=\"191.8125\" x=\"245.7625\" y=\"20.798437\"/>\n  </clipPath>\n  <clipPath id=\"pf0afbe0892\">\n   <rect height=\"148.49375\" width=\"191.8125\" x=\"451.875\" y=\"20.798437\"/>\n  </clipPath>\n  <clipPath id=\"pf9c99e2fc8\">\n   <rect height=\"148.49375\" width=\"191.8125\" x=\"657.9875\" y=\"20.798437\"/>\n  </clipPath>\n </defs>\n</svg>\n",
      "image/png": "[encoded data removed]"
     },
     "metadata": {
      "needs_background": "light"
     }
    }
   ],
   "source": [
    "#Distribution of length of words per sentiment\n",
    "\n",
    "df['length_tweet'] = df['clean_message'].apply(len)\n",
    "h = sns.FacetGrid(df,col = 'class_label')\n",
    "h.map(plt.hist,'length_tweet')\n",
    "plt.show()"
   ]
  },
  {
   "cell_type": "code",
   "execution_count": 61,
   "metadata": {},
   "outputs": [
    {
     "output_type": "display_data",
     "data": {
      "text/plain": "<Figure size 720x432 with 1 Axes>",
      "image/svg+xml": "<?xml version=\"1.0\" encoding=\"utf-8\" standalone=\"no\"?>\n<!DOCTYPE svg PUBLIC \"-//W3C//DTD SVG 1.1//EN\"\n  \"http://www.w3.org/Graphics/SVG/1.1/DTD/svg11.dtd\">\n<svg height=\"386.034375pt\" version=\"1.1\" viewBox=\"0 0 605.803125 386.034375\" width=\"605.803125pt\" xmlns=\"http://www.w3.org/2000/svg\" xmlns:xlink=\"http://www.w3.org/1999/xlink\">\n <metadata>\n  <rdf:RDF xmlns:cc=\"http://creativecommons.org/ns#\" xmlns:dc=\"http://purl.org/dc/elements/1.1/\" xmlns:rdf=\"http://www.w3.org/1999/02/22-rdf-syntax-ns#\">\n   <cc:Work>\n    <dc:type rdf:resource=\"http://purl.org/dc/dcmitype/StillImage\"/>\n    <dc:date>2021-06-22T18:46:41.263465</dc:date>\n    <dc:format>image/svg+xml</dc:format>\n    <dc:creator>\n     <cc:Agent>\n      <dc:title>Matplotlib v3.4.2, https://matplotlib.org/</dc:title>\n     </cc:Agent>\n    </dc:creator>\n   </cc:Work>\n  </rdf:RDF>\n </metadata>\n <defs>\n  <style type=\"text/css\">*{stroke-linecap:butt;stroke-linejoin:round;}</style>\n </defs>\n <g id=\"figure_1\">\n  <g id=\"patch_1\">\n   <path d=\"M 0 386.034375 \nL 605.803125 386.034375 \nL 605.803125 0 \nL 0 0 \nz\n\" style=\"fill:none;\"/>\n  </g>\n  <g id=\"axes_1\">\n   <g id=\"patch_2\">\n    <path d=\"M 40.603125 348.478125 \nL 598.603125 348.478125 \nL 598.603125 22.318125 \nL 40.603125 22.318125 \nz\n\" style=\"fill:#ffffff;\"/>\n   </g>\n   <g id=\"patch_3\">\n    <path clip-path=\"url(#p6ad7ebc853)\" d=\"M 54.553125 234.816307 \nL 166.153125 234.816307 \nL 166.153125 178.338385 \nL 54.553125 178.338385 \nL 54.553125 234.816307 \nz\n\" style=\"fill:#d4e1ee;stroke:#3a3a3a;stroke-linejoin:miter;stroke-width:1.5;\"/>\n   </g>\n   <g id=\"patch_4\">\n    <path clip-path=\"url(#p6ad7ebc853)\" d=\"M 194.053125 248.935787 \nL 305.653125 248.935787 \nL 305.653125 206.577346 \nL 194.053125 206.577346 \nL 194.053125 248.935787 \nz\n\" style=\"fill:#9dc2d5;stroke:#3a3a3a;stroke-linejoin:miter;stroke-width:1.5;\"/>\n   </g>\n   <g id=\"patch_5\">\n    <path clip-path=\"url(#p6ad7ebc853)\" d=\"M 333.553125 263.055268 \nL 445.153125 263.055268 \nL 445.153125 192.457865 \nL 333.553125 192.457865 \nL 333.553125 263.055268 \nz\n\" style=\"fill:#5a94b9;stroke:#3a3a3a;stroke-linejoin:miter;stroke-width:1.5;\"/>\n   </g>\n   <g id=\"patch_6\">\n    <path clip-path=\"url(#p6ad7ebc853)\" d=\"M 473.053125 234.816307 \nL 584.653125 234.816307 \nL 584.653125 178.338385 \nL 473.053125 178.338385 \nL 473.053125 234.816307 \nz\n\" style=\"fill:#296399;stroke:#3a3a3a;stroke-linejoin:miter;stroke-width:1.5;\"/>\n   </g>\n   <g id=\"matplotlib.axis_1\">\n    <g id=\"xtick_1\">\n     <g id=\"line2d_1\">\n      <defs>\n       <path d=\"M 0 0 \nL 0 3.5 \n\" id=\"me7f8822e27\" style=\"stroke:#000000;stroke-width:0.8;\"/>\n      </defs>\n      <g>\n       <use style=\"stroke:#000000;stroke-width:0.8;\" x=\"110.353125\" xlink:href=\"#me7f8822e27\" y=\"348.478125\"/>\n      </g>\n     </g>\n     <g id=\"text_1\">\n      <!-- Positive(1) -->\n      <g transform=\"translate(83.998438 363.076562)scale(0.1 -0.1)\">\n       <defs>\n        <path d=\"M 1259 4147 \nL 1259 2394 \nL 2053 2394 \nQ 2494 2394 2734 2622 \nQ 2975 2850 2975 3272 \nQ 2975 3691 2734 3919 \nQ 2494 4147 2053 4147 \nL 1259 4147 \nz\nM 628 4666 \nL 2053 4666 \nQ 2838 4666 3239 4311 \nQ 3641 3956 3641 3272 \nQ 3641 2581 3239 2228 \nQ 2838 1875 2053 1875 \nL 1259 1875 \nL 1259 0 \nL 628 0 \nL 628 4666 \nz\n\" id=\"DejaVuSans-50\" transform=\"scale(0.015625)\"/>\n        <path d=\"M 1959 3097 \nQ 1497 3097 1228 2736 \nQ 959 2375 959 1747 \nQ 959 1119 1226 758 \nQ 1494 397 1959 397 \nQ 2419 397 2687 759 \nQ 2956 1122 2956 1747 \nQ 2956 2369 2687 2733 \nQ 2419 3097 1959 3097 \nz\nM 1959 3584 \nQ 2709 3584 3137 3096 \nQ 3566 2609 3566 1747 \nQ 3566 888 3137 398 \nQ 2709 -91 1959 -91 \nQ 1206 -91 779 398 \nQ 353 888 353 1747 \nQ 353 2609 779 3096 \nQ 1206 3584 1959 3584 \nz\n\" id=\"DejaVuSans-6f\" transform=\"scale(0.015625)\"/>\n        <path d=\"M 2834 3397 \nL 2834 2853 \nQ 2591 2978 2328 3040 \nQ 2066 3103 1784 3103 \nQ 1356 3103 1142 2972 \nQ 928 2841 928 2578 \nQ 928 2378 1081 2264 \nQ 1234 2150 1697 2047 \nL 1894 2003 \nQ 2506 1872 2764 1633 \nQ 3022 1394 3022 966 \nQ 3022 478 2636 193 \nQ 2250 -91 1575 -91 \nQ 1294 -91 989 -36 \nQ 684 19 347 128 \nL 347 722 \nQ 666 556 975 473 \nQ 1284 391 1588 391 \nQ 1994 391 2212 530 \nQ 2431 669 2431 922 \nQ 2431 1156 2273 1281 \nQ 2116 1406 1581 1522 \nL 1381 1569 \nQ 847 1681 609 1914 \nQ 372 2147 372 2553 \nQ 372 3047 722 3315 \nQ 1072 3584 1716 3584 \nQ 2034 3584 2315 3537 \nQ 2597 3491 2834 3397 \nz\n\" id=\"DejaVuSans-73\" transform=\"scale(0.015625)\"/>\n        <path d=\"M 603 3500 \nL 1178 3500 \nL 1178 0 \nL 603 0 \nL 603 3500 \nz\nM 603 4863 \nL 1178 4863 \nL 1178 4134 \nL 603 4134 \nL 603 4863 \nz\n\" id=\"DejaVuSans-69\" transform=\"scale(0.015625)\"/>\n        <path d=\"M 1172 4494 \nL 1172 3500 \nL 2356 3500 \nL 2356 3053 \nL 1172 3053 \nL 1172 1153 \nQ 1172 725 1289 603 \nQ 1406 481 1766 481 \nL 2356 481 \nL 2356 0 \nL 1766 0 \nQ 1100 0 847 248 \nQ 594 497 594 1153 \nL 594 3053 \nL 172 3053 \nL 172 3500 \nL 594 3500 \nL 594 4494 \nL 1172 4494 \nz\n\" id=\"DejaVuSans-74\" transform=\"scale(0.015625)\"/>\n        <path d=\"M 191 3500 \nL 800 3500 \nL 1894 563 \nL 2988 3500 \nL 3597 3500 \nL 2284 0 \nL 1503 0 \nL 191 3500 \nz\n\" id=\"DejaVuSans-76\" transform=\"scale(0.015625)\"/>\n        <path d=\"M 3597 1894 \nL 3597 1613 \nL 953 1613 \nQ 991 1019 1311 708 \nQ 1631 397 2203 397 \nQ 2534 397 2845 478 \nQ 3156 559 3463 722 \nL 3463 178 \nQ 3153 47 2828 -22 \nQ 2503 -91 2169 -91 \nQ 1331 -91 842 396 \nQ 353 884 353 1716 \nQ 353 2575 817 3079 \nQ 1281 3584 2069 3584 \nQ 2775 3584 3186 3129 \nQ 3597 2675 3597 1894 \nz\nM 3022 2063 \nQ 3016 2534 2758 2815 \nQ 2500 3097 2075 3097 \nQ 1594 3097 1305 2825 \nQ 1016 2553 972 2059 \nL 3022 2063 \nz\n\" id=\"DejaVuSans-65\" transform=\"scale(0.015625)\"/>\n        <path d=\"M 1984 4856 \nQ 1566 4138 1362 3434 \nQ 1159 2731 1159 2009 \nQ 1159 1288 1364 580 \nQ 1569 -128 1984 -844 \nL 1484 -844 \nQ 1016 -109 783 600 \nQ 550 1309 550 2009 \nQ 550 2706 781 3412 \nQ 1013 4119 1484 4856 \nL 1984 4856 \nz\n\" id=\"DejaVuSans-28\" transform=\"scale(0.015625)\"/>\n        <path d=\"M 794 531 \nL 1825 531 \nL 1825 4091 \nL 703 3866 \nL 703 4441 \nL 1819 4666 \nL 2450 4666 \nL 2450 531 \nL 3481 531 \nL 3481 0 \nL 794 0 \nL 794 531 \nz\n\" id=\"DejaVuSans-31\" transform=\"scale(0.015625)\"/>\n        <path d=\"M 513 4856 \nL 1013 4856 \nQ 1481 4119 1714 3412 \nQ 1947 2706 1947 2009 \nQ 1947 1309 1714 600 \nQ 1481 -109 1013 -844 \nL 513 -844 \nQ 928 -128 1133 580 \nQ 1338 1288 1338 2009 \nQ 1338 2731 1133 3434 \nQ 928 4138 513 4856 \nz\n\" id=\"DejaVuSans-29\" transform=\"scale(0.015625)\"/>\n       </defs>\n       <use xlink:href=\"#DejaVuSans-50\"/>\n       <use x=\"56.677734\" xlink:href=\"#DejaVuSans-6f\"/>\n       <use x=\"117.859375\" xlink:href=\"#DejaVuSans-73\"/>\n       <use x=\"169.958984\" xlink:href=\"#DejaVuSans-69\"/>\n       <use x=\"197.742188\" xlink:href=\"#DejaVuSans-74\"/>\n       <use x=\"236.951172\" xlink:href=\"#DejaVuSans-69\"/>\n       <use x=\"264.734375\" xlink:href=\"#DejaVuSans-76\"/>\n       <use x=\"323.914062\" xlink:href=\"#DejaVuSans-65\"/>\n       <use x=\"385.4375\" xlink:href=\"#DejaVuSans-28\"/>\n       <use x=\"424.451172\" xlink:href=\"#DejaVuSans-31\"/>\n       <use x=\"488.074219\" xlink:href=\"#DejaVuSans-29\"/>\n      </g>\n     </g>\n    </g>\n    <g id=\"xtick_2\">\n     <g id=\"line2d_2\">\n      <g>\n       <use style=\"stroke:#000000;stroke-width:0.8;\" x=\"249.853125\" xlink:href=\"#me7f8822e27\" y=\"348.478125\"/>\n      </g>\n     </g>\n     <g id=\"text_2\">\n      <!-- News(2) -->\n      <g transform=\"translate(229.259375 363.076562)scale(0.1 -0.1)\">\n       <defs>\n        <path d=\"M 628 4666 \nL 1478 4666 \nL 3547 763 \nL 3547 4666 \nL 4159 4666 \nL 4159 0 \nL 3309 0 \nL 1241 3903 \nL 1241 0 \nL 628 0 \nL 628 4666 \nz\n\" id=\"DejaVuSans-4e\" transform=\"scale(0.015625)\"/>\n        <path d=\"M 269 3500 \nL 844 3500 \nL 1563 769 \nL 2278 3500 \nL 2956 3500 \nL 3675 769 \nL 4391 3500 \nL 4966 3500 \nL 4050 0 \nL 3372 0 \nL 2619 2869 \nL 1863 0 \nL 1184 0 \nL 269 3500 \nz\n\" id=\"DejaVuSans-77\" transform=\"scale(0.015625)\"/>\n        <path d=\"M 1228 531 \nL 3431 531 \nL 3431 0 \nL 469 0 \nL 469 531 \nQ 828 903 1448 1529 \nQ 2069 2156 2228 2338 \nQ 2531 2678 2651 2914 \nQ 2772 3150 2772 3378 \nQ 2772 3750 2511 3984 \nQ 2250 4219 1831 4219 \nQ 1534 4219 1204 4116 \nQ 875 4013 500 3803 \nL 500 4441 \nQ 881 4594 1212 4672 \nQ 1544 4750 1819 4750 \nQ 2544 4750 2975 4387 \nQ 3406 4025 3406 3419 \nQ 3406 3131 3298 2873 \nQ 3191 2616 2906 2266 \nQ 2828 2175 2409 1742 \nQ 1991 1309 1228 531 \nz\n\" id=\"DejaVuSans-32\" transform=\"scale(0.015625)\"/>\n       </defs>\n       <use xlink:href=\"#DejaVuSans-4e\"/>\n       <use x=\"74.804688\" xlink:href=\"#DejaVuSans-65\"/>\n       <use x=\"136.328125\" xlink:href=\"#DejaVuSans-77\"/>\n       <use x=\"218.115234\" xlink:href=\"#DejaVuSans-73\"/>\n       <use x=\"270.214844\" xlink:href=\"#DejaVuSans-28\"/>\n       <use x=\"309.228516\" xlink:href=\"#DejaVuSans-32\"/>\n       <use x=\"372.851562\" xlink:href=\"#DejaVuSans-29\"/>\n      </g>\n     </g>\n    </g>\n    <g id=\"xtick_3\">\n     <g id=\"line2d_3\">\n      <g>\n       <use style=\"stroke:#000000;stroke-width:0.8;\" x=\"389.353125\" xlink:href=\"#me7f8822e27\" y=\"348.478125\"/>\n      </g>\n     </g>\n     <g id=\"text_3\">\n      <!-- Neutral(0) -->\n      <g transform=\"translate(363.815625 363.076562)scale(0.1 -0.1)\">\n       <defs>\n        <path d=\"M 544 1381 \nL 544 3500 \nL 1119 3500 \nL 1119 1403 \nQ 1119 906 1312 657 \nQ 1506 409 1894 409 \nQ 2359 409 2629 706 \nQ 2900 1003 2900 1516 \nL 2900 3500 \nL 3475 3500 \nL 3475 0 \nL 2900 0 \nL 2900 538 \nQ 2691 219 2414 64 \nQ 2138 -91 1772 -91 \nQ 1169 -91 856 284 \nQ 544 659 544 1381 \nz\nM 1991 3584 \nL 1991 3584 \nz\n\" id=\"DejaVuSans-75\" transform=\"scale(0.015625)\"/>\n        <path d=\"M 2631 2963 \nQ 2534 3019 2420 3045 \nQ 2306 3072 2169 3072 \nQ 1681 3072 1420 2755 \nQ 1159 2438 1159 1844 \nL 1159 0 \nL 581 0 \nL 581 3500 \nL 1159 3500 \nL 1159 2956 \nQ 1341 3275 1631 3429 \nQ 1922 3584 2338 3584 \nQ 2397 3584 2469 3576 \nQ 2541 3569 2628 3553 \nL 2631 2963 \nz\n\" id=\"DejaVuSans-72\" transform=\"scale(0.015625)\"/>\n        <path d=\"M 2194 1759 \nQ 1497 1759 1228 1600 \nQ 959 1441 959 1056 \nQ 959 750 1161 570 \nQ 1363 391 1709 391 \nQ 2188 391 2477 730 \nQ 2766 1069 2766 1631 \nL 2766 1759 \nL 2194 1759 \nz\nM 3341 1997 \nL 3341 0 \nL 2766 0 \nL 2766 531 \nQ 2569 213 2275 61 \nQ 1981 -91 1556 -91 \nQ 1019 -91 701 211 \nQ 384 513 384 1019 \nQ 384 1609 779 1909 \nQ 1175 2209 1959 2209 \nL 2766 2209 \nL 2766 2266 \nQ 2766 2663 2505 2880 \nQ 2244 3097 1772 3097 \nQ 1472 3097 1187 3025 \nQ 903 2953 641 2809 \nL 641 3341 \nQ 956 3463 1253 3523 \nQ 1550 3584 1831 3584 \nQ 2591 3584 2966 3190 \nQ 3341 2797 3341 1997 \nz\n\" id=\"DejaVuSans-61\" transform=\"scale(0.015625)\"/>\n        <path d=\"M 603 4863 \nL 1178 4863 \nL 1178 0 \nL 603 0 \nL 603 4863 \nz\n\" id=\"DejaVuSans-6c\" transform=\"scale(0.015625)\"/>\n        <path d=\"M 2034 4250 \nQ 1547 4250 1301 3770 \nQ 1056 3291 1056 2328 \nQ 1056 1369 1301 889 \nQ 1547 409 2034 409 \nQ 2525 409 2770 889 \nQ 3016 1369 3016 2328 \nQ 3016 3291 2770 3770 \nQ 2525 4250 2034 4250 \nz\nM 2034 4750 \nQ 2819 4750 3233 4129 \nQ 3647 3509 3647 2328 \nQ 3647 1150 3233 529 \nQ 2819 -91 2034 -91 \nQ 1250 -91 836 529 \nQ 422 1150 422 2328 \nQ 422 3509 836 4129 \nQ 1250 4750 2034 4750 \nz\n\" id=\"DejaVuSans-30\" transform=\"scale(0.015625)\"/>\n       </defs>\n       <use xlink:href=\"#DejaVuSans-4e\"/>\n       <use x=\"74.804688\" xlink:href=\"#DejaVuSans-65\"/>\n       <use x=\"136.328125\" xlink:href=\"#DejaVuSans-75\"/>\n       <use x=\"199.707031\" xlink:href=\"#DejaVuSans-74\"/>\n       <use x=\"238.916016\" xlink:href=\"#DejaVuSans-72\"/>\n       <use x=\"280.029297\" xlink:href=\"#DejaVuSans-61\"/>\n       <use x=\"341.308594\" xlink:href=\"#DejaVuSans-6c\"/>\n       <use x=\"369.091797\" xlink:href=\"#DejaVuSans-28\"/>\n       <use x=\"408.105469\" xlink:href=\"#DejaVuSans-30\"/>\n       <use x=\"471.728516\" xlink:href=\"#DejaVuSans-29\"/>\n      </g>\n     </g>\n    </g>\n    <g id=\"xtick_4\">\n     <g id=\"line2d_4\">\n      <g>\n       <use style=\"stroke:#000000;stroke-width:0.8;\" x=\"528.853125\" xlink:href=\"#me7f8822e27\" y=\"348.478125\"/>\n      </g>\n     </g>\n     <g id=\"text_4\">\n      <!-- Negative(-1) -->\n      <g transform=\"translate(497.525781 363.076562)scale(0.1 -0.1)\">\n       <defs>\n        <path d=\"M 2906 1791 \nQ 2906 2416 2648 2759 \nQ 2391 3103 1925 3103 \nQ 1463 3103 1205 2759 \nQ 947 2416 947 1791 \nQ 947 1169 1205 825 \nQ 1463 481 1925 481 \nQ 2391 481 2648 825 \nQ 2906 1169 2906 1791 \nz\nM 3481 434 \nQ 3481 -459 3084 -895 \nQ 2688 -1331 1869 -1331 \nQ 1566 -1331 1297 -1286 \nQ 1028 -1241 775 -1147 \nL 775 -588 \nQ 1028 -725 1275 -790 \nQ 1522 -856 1778 -856 \nQ 2344 -856 2625 -561 \nQ 2906 -266 2906 331 \nL 2906 616 \nQ 2728 306 2450 153 \nQ 2172 0 1784 0 \nQ 1141 0 747 490 \nQ 353 981 353 1791 \nQ 353 2603 747 3093 \nQ 1141 3584 1784 3584 \nQ 2172 3584 2450 3431 \nQ 2728 3278 2906 2969 \nL 2906 3500 \nL 3481 3500 \nL 3481 434 \nz\n\" id=\"DejaVuSans-67\" transform=\"scale(0.015625)\"/>\n        <path d=\"M 313 2009 \nL 1997 2009 \nL 1997 1497 \nL 313 1497 \nL 313 2009 \nz\n\" id=\"DejaVuSans-2d\" transform=\"scale(0.015625)\"/>\n       </defs>\n       <use xlink:href=\"#DejaVuSans-4e\"/>\n       <use x=\"74.804688\" xlink:href=\"#DejaVuSans-65\"/>\n       <use x=\"136.328125\" xlink:href=\"#DejaVuSans-67\"/>\n       <use x=\"199.804688\" xlink:href=\"#DejaVuSans-61\"/>\n       <use x=\"261.083984\" xlink:href=\"#DejaVuSans-74\"/>\n       <use x=\"300.292969\" xlink:href=\"#DejaVuSans-69\"/>\n       <use x=\"328.076172\" xlink:href=\"#DejaVuSans-76\"/>\n       <use x=\"387.255859\" xlink:href=\"#DejaVuSans-65\"/>\n       <use x=\"448.779297\" xlink:href=\"#DejaVuSans-28\"/>\n       <use x=\"487.792969\" xlink:href=\"#DejaVuSans-2d\"/>\n       <use x=\"523.876953\" xlink:href=\"#DejaVuSans-31\"/>\n       <use x=\"587.5\" xlink:href=\"#DejaVuSans-29\"/>\n      </g>\n     </g>\n    </g>\n    <g id=\"text_5\">\n     <!-- Sentiment Class -->\n     <g transform=\"translate(279.015625 376.754687)scale(0.1 -0.1)\">\n      <defs>\n       <path d=\"M 3425 4513 \nL 3425 3897 \nQ 3066 4069 2747 4153 \nQ 2428 4238 2131 4238 \nQ 1616 4238 1336 4038 \nQ 1056 3838 1056 3469 \nQ 1056 3159 1242 3001 \nQ 1428 2844 1947 2747 \nL 2328 2669 \nQ 3034 2534 3370 2195 \nQ 3706 1856 3706 1288 \nQ 3706 609 3251 259 \nQ 2797 -91 1919 -91 \nQ 1588 -91 1214 -16 \nQ 841 59 441 206 \nL 441 856 \nQ 825 641 1194 531 \nQ 1563 422 1919 422 \nQ 2459 422 2753 634 \nQ 3047 847 3047 1241 \nQ 3047 1584 2836 1778 \nQ 2625 1972 2144 2069 \nL 1759 2144 \nQ 1053 2284 737 2584 \nQ 422 2884 422 3419 \nQ 422 4038 858 4394 \nQ 1294 4750 2059 4750 \nQ 2388 4750 2728 4690 \nQ 3069 4631 3425 4513 \nz\n\" id=\"DejaVuSans-53\" transform=\"scale(0.015625)\"/>\n       <path d=\"M 3513 2113 \nL 3513 0 \nL 2938 0 \nL 2938 2094 \nQ 2938 2591 2744 2837 \nQ 2550 3084 2163 3084 \nQ 1697 3084 1428 2787 \nQ 1159 2491 1159 1978 \nL 1159 0 \nL 581 0 \nL 581 3500 \nL 1159 3500 \nL 1159 2956 \nQ 1366 3272 1645 3428 \nQ 1925 3584 2291 3584 \nQ 2894 3584 3203 3211 \nQ 3513 2838 3513 2113 \nz\n\" id=\"DejaVuSans-6e\" transform=\"scale(0.015625)\"/>\n       <path d=\"M 3328 2828 \nQ 3544 3216 3844 3400 \nQ 4144 3584 4550 3584 \nQ 5097 3584 5394 3201 \nQ 5691 2819 5691 2113 \nL 5691 0 \nL 5113 0 \nL 5113 2094 \nQ 5113 2597 4934 2840 \nQ 4756 3084 4391 3084 \nQ 3944 3084 3684 2787 \nQ 3425 2491 3425 1978 \nL 3425 0 \nL 2847 0 \nL 2847 2094 \nQ 2847 2600 2669 2842 \nQ 2491 3084 2119 3084 \nQ 1678 3084 1418 2786 \nQ 1159 2488 1159 1978 \nL 1159 0 \nL 581 0 \nL 581 3500 \nL 1159 3500 \nL 1159 2956 \nQ 1356 3278 1631 3431 \nQ 1906 3584 2284 3584 \nQ 2666 3584 2933 3390 \nQ 3200 3197 3328 2828 \nz\n\" id=\"DejaVuSans-6d\" transform=\"scale(0.015625)\"/>\n       <path id=\"DejaVuSans-20\" transform=\"scale(0.015625)\"/>\n       <path d=\"M 4122 4306 \nL 4122 3641 \nQ 3803 3938 3442 4084 \nQ 3081 4231 2675 4231 \nQ 1875 4231 1450 3742 \nQ 1025 3253 1025 2328 \nQ 1025 1406 1450 917 \nQ 1875 428 2675 428 \nQ 3081 428 3442 575 \nQ 3803 722 4122 1019 \nL 4122 359 \nQ 3791 134 3420 21 \nQ 3050 -91 2638 -91 \nQ 1578 -91 968 557 \nQ 359 1206 359 2328 \nQ 359 3453 968 4101 \nQ 1578 4750 2638 4750 \nQ 3056 4750 3426 4639 \nQ 3797 4528 4122 4306 \nz\n\" id=\"DejaVuSans-43\" transform=\"scale(0.015625)\"/>\n      </defs>\n      <use xlink:href=\"#DejaVuSans-53\"/>\n      <use x=\"63.476562\" xlink:href=\"#DejaVuSans-65\"/>\n      <use x=\"125\" xlink:href=\"#DejaVuSans-6e\"/>\n      <use x=\"188.378906\" xlink:href=\"#DejaVuSans-74\"/>\n      <use x=\"227.587891\" xlink:href=\"#DejaVuSans-69\"/>\n      <use x=\"255.371094\" xlink:href=\"#DejaVuSans-6d\"/>\n      <use x=\"352.783203\" xlink:href=\"#DejaVuSans-65\"/>\n      <use x=\"414.306641\" xlink:href=\"#DejaVuSans-6e\"/>\n      <use x=\"477.685547\" xlink:href=\"#DejaVuSans-74\"/>\n      <use x=\"516.894531\" xlink:href=\"#DejaVuSans-20\"/>\n      <use x=\"548.681641\" xlink:href=\"#DejaVuSans-43\"/>\n      <use x=\"618.505859\" xlink:href=\"#DejaVuSans-6c\"/>\n      <use x=\"646.289062\" xlink:href=\"#DejaVuSans-61\"/>\n      <use x=\"707.568359\" xlink:href=\"#DejaVuSans-73\"/>\n      <use x=\"759.667969\" xlink:href=\"#DejaVuSans-73\"/>\n     </g>\n    </g>\n   </g>\n   <g id=\"matplotlib.axis_2\">\n    <g id=\"ytick_1\">\n     <g id=\"line2d_5\">\n      <defs>\n       <path d=\"M 0 0 \nL -3.5 0 \n\" id=\"mc71c02c470\" style=\"stroke:#000000;stroke-width:0.8;\"/>\n      </defs>\n      <g>\n       <use style=\"stroke:#000000;stroke-width:0.8;\" x=\"40.603125\" xlink:href=\"#mc71c02c470\" y=\"291.294229\"/>\n      </g>\n     </g>\n     <g id=\"text_6\">\n      <!-- 5 -->\n      <g transform=\"translate(27.240625 295.093448)scale(0.1 -0.1)\">\n       <defs>\n        <path d=\"M 691 4666 \nL 3169 4666 \nL 3169 4134 \nL 1269 4134 \nL 1269 2991 \nQ 1406 3038 1543 3061 \nQ 1681 3084 1819 3084 \nQ 2600 3084 3056 2656 \nQ 3513 2228 3513 1497 \nQ 3513 744 3044 326 \nQ 2575 -91 1722 -91 \nQ 1428 -91 1123 -41 \nQ 819 9 494 109 \nL 494 744 \nQ 775 591 1075 516 \nQ 1375 441 1709 441 \nQ 2250 441 2565 725 \nQ 2881 1009 2881 1497 \nQ 2881 1984 2565 2268 \nQ 2250 2553 1709 2553 \nQ 1456 2553 1204 2497 \nQ 953 2441 691 2322 \nL 691 4666 \nz\n\" id=\"DejaVuSans-35\" transform=\"scale(0.015625)\"/>\n       </defs>\n       <use xlink:href=\"#DejaVuSans-35\"/>\n      </g>\n     </g>\n    </g>\n    <g id=\"ytick_2\">\n     <g id=\"line2d_6\">\n      <g>\n       <use style=\"stroke:#000000;stroke-width:0.8;\" x=\"40.603125\" xlink:href=\"#mc71c02c470\" y=\"220.696826\"/>\n      </g>\n     </g>\n     <g id=\"text_7\">\n      <!-- 10 -->\n      <g transform=\"translate(20.878125 224.496045)scale(0.1 -0.1)\">\n       <use xlink:href=\"#DejaVuSans-31\"/>\n       <use x=\"63.623047\" xlink:href=\"#DejaVuSans-30\"/>\n      </g>\n     </g>\n    </g>\n    <g id=\"ytick_3\">\n     <g id=\"line2d_7\">\n      <g>\n       <use style=\"stroke:#000000;stroke-width:0.8;\" x=\"40.603125\" xlink:href=\"#mc71c02c470\" y=\"150.099424\"/>\n      </g>\n     </g>\n     <g id=\"text_8\">\n      <!-- 15 -->\n      <g transform=\"translate(20.878125 153.898642)scale(0.1 -0.1)\">\n       <use xlink:href=\"#DejaVuSans-31\"/>\n       <use x=\"63.623047\" xlink:href=\"#DejaVuSans-35\"/>\n      </g>\n     </g>\n    </g>\n    <g id=\"ytick_4\">\n     <g id=\"line2d_8\">\n      <g>\n       <use style=\"stroke:#000000;stroke-width:0.8;\" x=\"40.603125\" xlink:href=\"#mc71c02c470\" y=\"79.502021\"/>\n      </g>\n     </g>\n     <g id=\"text_9\">\n      <!-- 20 -->\n      <g transform=\"translate(20.878125 83.30124)scale(0.1 -0.1)\">\n       <use xlink:href=\"#DejaVuSans-32\"/>\n       <use x=\"63.623047\" xlink:href=\"#DejaVuSans-30\"/>\n      </g>\n     </g>\n    </g>\n    <g id=\"text_10\">\n     <!-- Word Count per Tweet -->\n     <g transform=\"translate(14.798438 240.602812)rotate(-90)scale(0.1 -0.1)\">\n      <defs>\n       <path d=\"M 213 4666 \nL 850 4666 \nL 1831 722 \nL 2809 4666 \nL 3519 4666 \nL 4500 722 \nL 5478 4666 \nL 6119 4666 \nL 4947 0 \nL 4153 0 \nL 3169 4050 \nL 2175 0 \nL 1381 0 \nL 213 4666 \nz\n\" id=\"DejaVuSans-57\" transform=\"scale(0.015625)\"/>\n       <path d=\"M 2906 2969 \nL 2906 4863 \nL 3481 4863 \nL 3481 0 \nL 2906 0 \nL 2906 525 \nQ 2725 213 2448 61 \nQ 2172 -91 1784 -91 \nQ 1150 -91 751 415 \nQ 353 922 353 1747 \nQ 353 2572 751 3078 \nQ 1150 3584 1784 3584 \nQ 2172 3584 2448 3432 \nQ 2725 3281 2906 2969 \nz\nM 947 1747 \nQ 947 1113 1208 752 \nQ 1469 391 1925 391 \nQ 2381 391 2643 752 \nQ 2906 1113 2906 1747 \nQ 2906 2381 2643 2742 \nQ 2381 3103 1925 3103 \nQ 1469 3103 1208 2742 \nQ 947 2381 947 1747 \nz\n\" id=\"DejaVuSans-64\" transform=\"scale(0.015625)\"/>\n       <path d=\"M 1159 525 \nL 1159 -1331 \nL 581 -1331 \nL 581 3500 \nL 1159 3500 \nL 1159 2969 \nQ 1341 3281 1617 3432 \nQ 1894 3584 2278 3584 \nQ 2916 3584 3314 3078 \nQ 3713 2572 3713 1747 \nQ 3713 922 3314 415 \nQ 2916 -91 2278 -91 \nQ 1894 -91 1617 61 \nQ 1341 213 1159 525 \nz\nM 3116 1747 \nQ 3116 2381 2855 2742 \nQ 2594 3103 2138 3103 \nQ 1681 3103 1420 2742 \nQ 1159 2381 1159 1747 \nQ 1159 1113 1420 752 \nQ 1681 391 2138 391 \nQ 2594 391 2855 752 \nQ 3116 1113 3116 1747 \nz\n\" id=\"DejaVuSans-70\" transform=\"scale(0.015625)\"/>\n       <path d=\"M -19 4666 \nL 3928 4666 \nL 3928 4134 \nL 2272 4134 \nL 2272 0 \nL 1638 0 \nL 1638 4134 \nL -19 4134 \nL -19 4666 \nz\n\" id=\"DejaVuSans-54\" transform=\"scale(0.015625)\"/>\n      </defs>\n      <use xlink:href=\"#DejaVuSans-57\"/>\n      <use x=\"93.001953\" xlink:href=\"#DejaVuSans-6f\"/>\n      <use x=\"154.183594\" xlink:href=\"#DejaVuSans-72\"/>\n      <use x=\"193.546875\" xlink:href=\"#DejaVuSans-64\"/>\n      <use x=\"257.023438\" xlink:href=\"#DejaVuSans-20\"/>\n      <use x=\"288.810547\" xlink:href=\"#DejaVuSans-43\"/>\n      <use x=\"358.634766\" xlink:href=\"#DejaVuSans-6f\"/>\n      <use x=\"419.816406\" xlink:href=\"#DejaVuSans-75\"/>\n      <use x=\"483.195312\" xlink:href=\"#DejaVuSans-6e\"/>\n      <use x=\"546.574219\" xlink:href=\"#DejaVuSans-74\"/>\n      <use x=\"585.783203\" xlink:href=\"#DejaVuSans-20\"/>\n      <use x=\"617.570312\" xlink:href=\"#DejaVuSans-70\"/>\n      <use x=\"681.046875\" xlink:href=\"#DejaVuSans-65\"/>\n      <use x=\"742.570312\" xlink:href=\"#DejaVuSans-72\"/>\n      <use x=\"783.683594\" xlink:href=\"#DejaVuSans-20\"/>\n      <use x=\"815.470703\" xlink:href=\"#DejaVuSans-54\"/>\n      <use x=\"860.054688\" xlink:href=\"#DejaVuSans-77\"/>\n      <use x=\"941.841797\" xlink:href=\"#DejaVuSans-65\"/>\n      <use x=\"1003.365234\" xlink:href=\"#DejaVuSans-65\"/>\n      <use x=\"1064.888672\" xlink:href=\"#DejaVuSans-74\"/>\n     </g>\n    </g>\n   </g>\n   <g id=\"line2d_9\">\n    <path clip-path=\"url(#p6ad7ebc853)\" d=\"M 110.353125 234.816307 \nL 110.353125 319.53319 \n\" style=\"fill:none;stroke:#3a3a3a;stroke-linecap:square;stroke-width:1.5;\"/>\n   </g>\n   <g id=\"line2d_10\">\n    <path clip-path=\"url(#p6ad7ebc853)\" d=\"M 110.353125 178.338385 \nL 110.353125 93.621502 \n\" style=\"fill:none;stroke:#3a3a3a;stroke-linecap:square;stroke-width:1.5;\"/>\n   </g>\n   <g id=\"line2d_11\">\n    <path clip-path=\"url(#p6ad7ebc853)\" d=\"M 82.453125 319.53319 \nL 138.253125 319.53319 \n\" style=\"fill:none;stroke:#3a3a3a;stroke-linecap:square;stroke-width:1.5;\"/>\n   </g>\n   <g id=\"line2d_12\">\n    <path clip-path=\"url(#p6ad7ebc853)\" d=\"M 82.453125 93.621502 \nL 138.253125 93.621502 \n\" style=\"fill:none;stroke:#3a3a3a;stroke-linecap:square;stroke-width:1.5;\"/>\n   </g>\n   <g id=\"line2d_13\">\n    <defs>\n     <path d=\"M -0 3.535534 \nL 2.12132 0 \nL -0 -3.535534 \nL -2.12132 -0 \nz\n\" id=\"m55200480a9\" style=\"stroke:#3a3a3a;stroke-linejoin:miter;\"/>\n    </defs>\n    <g clip-path=\"url(#p6ad7ebc853)\">\n     <use style=\"fill:#3a3a3a;stroke:#3a3a3a;stroke-linejoin:miter;\" x=\"110.353125\" xlink:href=\"#m55200480a9\" y=\"333.65267\"/>\n     <use style=\"fill:#3a3a3a;stroke:#3a3a3a;stroke-linejoin:miter;\" x=\"110.353125\" xlink:href=\"#m55200480a9\" y=\"333.65267\"/>\n     <use style=\"fill:#3a3a3a;stroke:#3a3a3a;stroke-linejoin:miter;\" x=\"110.353125\" xlink:href=\"#m55200480a9\" y=\"333.65267\"/>\n     <use style=\"fill:#3a3a3a;stroke:#3a3a3a;stroke-linejoin:miter;\" x=\"110.353125\" xlink:href=\"#m55200480a9\" y=\"79.502021\"/>\n     <use style=\"fill:#3a3a3a;stroke:#3a3a3a;stroke-linejoin:miter;\" x=\"110.353125\" xlink:href=\"#m55200480a9\" y=\"79.502021\"/>\n     <use style=\"fill:#3a3a3a;stroke:#3a3a3a;stroke-linejoin:miter;\" x=\"110.353125\" xlink:href=\"#m55200480a9\" y=\"79.502021\"/>\n    </g>\n   </g>\n   <g id=\"line2d_14\">\n    <path clip-path=\"url(#p6ad7ebc853)\" d=\"M 249.853125 248.935787 \nL 249.853125 305.413709 \n\" style=\"fill:none;stroke:#3a3a3a;stroke-linecap:square;stroke-width:1.5;\"/>\n   </g>\n   <g id=\"line2d_15\">\n    <path clip-path=\"url(#p6ad7ebc853)\" d=\"M 249.853125 206.577346 \nL 249.853125 150.099424 \n\" style=\"fill:none;stroke:#3a3a3a;stroke-linecap:square;stroke-width:1.5;\"/>\n   </g>\n   <g id=\"line2d_16\">\n    <path clip-path=\"url(#p6ad7ebc853)\" d=\"M 221.953125 305.413709 \nL 277.753125 305.413709 \n\" style=\"fill:none;stroke:#3a3a3a;stroke-linecap:square;stroke-width:1.5;\"/>\n   </g>\n   <g id=\"line2d_17\">\n    <path clip-path=\"url(#p6ad7ebc853)\" d=\"M 221.953125 150.099424 \nL 277.753125 150.099424 \n\" style=\"fill:none;stroke:#3a3a3a;stroke-linecap:square;stroke-width:1.5;\"/>\n   </g>\n   <g id=\"line2d_18\">\n    <g clip-path=\"url(#p6ad7ebc853)\">\n     <use style=\"fill:#3a3a3a;stroke:#3a3a3a;stroke-linejoin:miter;\" x=\"249.853125\" xlink:href=\"#m55200480a9\" y=\"319.53319\"/>\n     <use style=\"fill:#3a3a3a;stroke:#3a3a3a;stroke-linejoin:miter;\" x=\"249.853125\" xlink:href=\"#m55200480a9\" y=\"319.53319\"/>\n     <use style=\"fill:#3a3a3a;stroke:#3a3a3a;stroke-linejoin:miter;\" x=\"249.853125\" xlink:href=\"#m55200480a9\" y=\"135.979943\"/>\n     <use style=\"fill:#3a3a3a;stroke:#3a3a3a;stroke-linejoin:miter;\" x=\"249.853125\" xlink:href=\"#m55200480a9\" y=\"135.979943\"/>\n     <use style=\"fill:#3a3a3a;stroke:#3a3a3a;stroke-linejoin:miter;\" x=\"249.853125\" xlink:href=\"#m55200480a9\" y=\"135.979943\"/>\n     <use style=\"fill:#3a3a3a;stroke:#3a3a3a;stroke-linejoin:miter;\" x=\"249.853125\" xlink:href=\"#m55200480a9\" y=\"135.979943\"/>\n     <use style=\"fill:#3a3a3a;stroke:#3a3a3a;stroke-linejoin:miter;\" x=\"249.853125\" xlink:href=\"#m55200480a9\" y=\"135.979943\"/>\n     <use style=\"fill:#3a3a3a;stroke:#3a3a3a;stroke-linejoin:miter;\" x=\"249.853125\" xlink:href=\"#m55200480a9\" y=\"135.979943\"/>\n     <use style=\"fill:#3a3a3a;stroke:#3a3a3a;stroke-linejoin:miter;\" x=\"249.853125\" xlink:href=\"#m55200480a9\" y=\"135.979943\"/>\n     <use style=\"fill:#3a3a3a;stroke:#3a3a3a;stroke-linejoin:miter;\" x=\"249.853125\" xlink:href=\"#m55200480a9\" y=\"135.979943\"/>\n     <use style=\"fill:#3a3a3a;stroke:#3a3a3a;stroke-linejoin:miter;\" x=\"249.853125\" xlink:href=\"#m55200480a9\" y=\"135.979943\"/>\n     <use style=\"fill:#3a3a3a;stroke:#3a3a3a;stroke-linejoin:miter;\" x=\"249.853125\" xlink:href=\"#m55200480a9\" y=\"135.979943\"/>\n     <use style=\"fill:#3a3a3a;stroke:#3a3a3a;stroke-linejoin:miter;\" x=\"249.853125\" xlink:href=\"#m55200480a9\" y=\"135.979943\"/>\n     <use style=\"fill:#3a3a3a;stroke:#3a3a3a;stroke-linejoin:miter;\" x=\"249.853125\" xlink:href=\"#m55200480a9\" y=\"135.979943\"/>\n     <use style=\"fill:#3a3a3a;stroke:#3a3a3a;stroke-linejoin:miter;\" x=\"249.853125\" xlink:href=\"#m55200480a9\" y=\"135.979943\"/>\n     <use style=\"fill:#3a3a3a;stroke:#3a3a3a;stroke-linejoin:miter;\" x=\"249.853125\" xlink:href=\"#m55200480a9\" y=\"135.979943\"/>\n     <use style=\"fill:#3a3a3a;stroke:#3a3a3a;stroke-linejoin:miter;\" x=\"249.853125\" xlink:href=\"#m55200480a9\" y=\"107.740982\"/>\n     <use style=\"fill:#3a3a3a;stroke:#3a3a3a;stroke-linejoin:miter;\" x=\"249.853125\" xlink:href=\"#m55200480a9\" y=\"107.740982\"/>\n     <use style=\"fill:#3a3a3a;stroke:#3a3a3a;stroke-linejoin:miter;\" x=\"249.853125\" xlink:href=\"#m55200480a9\" y=\"135.979943\"/>\n     <use style=\"fill:#3a3a3a;stroke:#3a3a3a;stroke-linejoin:miter;\" x=\"249.853125\" xlink:href=\"#m55200480a9\" y=\"121.860463\"/>\n     <use style=\"fill:#3a3a3a;stroke:#3a3a3a;stroke-linejoin:miter;\" x=\"249.853125\" xlink:href=\"#m55200480a9\" y=\"135.979943\"/>\n     <use style=\"fill:#3a3a3a;stroke:#3a3a3a;stroke-linejoin:miter;\" x=\"249.853125\" xlink:href=\"#m55200480a9\" y=\"135.979943\"/>\n     <use style=\"fill:#3a3a3a;stroke:#3a3a3a;stroke-linejoin:miter;\" x=\"249.853125\" xlink:href=\"#m55200480a9\" y=\"135.979943\"/>\n     <use style=\"fill:#3a3a3a;stroke:#3a3a3a;stroke-linejoin:miter;\" x=\"249.853125\" xlink:href=\"#m55200480a9\" y=\"135.979943\"/>\n     <use style=\"fill:#3a3a3a;stroke:#3a3a3a;stroke-linejoin:miter;\" x=\"249.853125\" xlink:href=\"#m55200480a9\" y=\"135.979943\"/>\n     <use style=\"fill:#3a3a3a;stroke:#3a3a3a;stroke-linejoin:miter;\" x=\"249.853125\" xlink:href=\"#m55200480a9\" y=\"135.979943\"/>\n     <use style=\"fill:#3a3a3a;stroke:#3a3a3a;stroke-linejoin:miter;\" x=\"249.853125\" xlink:href=\"#m55200480a9\" y=\"121.860463\"/>\n     <use style=\"fill:#3a3a3a;stroke:#3a3a3a;stroke-linejoin:miter;\" x=\"249.853125\" xlink:href=\"#m55200480a9\" y=\"135.979943\"/>\n    </g>\n   </g>\n   <g id=\"line2d_19\">\n    <path clip-path=\"url(#p6ad7ebc853)\" d=\"M 389.353125 263.055268 \nL 389.353125 333.65267 \n\" style=\"fill:none;stroke:#3a3a3a;stroke-linecap:square;stroke-width:1.5;\"/>\n   </g>\n   <g id=\"line2d_20\">\n    <path clip-path=\"url(#p6ad7ebc853)\" d=\"M 389.353125 192.457865 \nL 389.353125 93.621502 \n\" style=\"fill:none;stroke:#3a3a3a;stroke-linecap:square;stroke-width:1.5;\"/>\n   </g>\n   <g id=\"line2d_21\">\n    <path clip-path=\"url(#p6ad7ebc853)\" d=\"M 361.453125 333.65267 \nL 417.253125 333.65267 \n\" style=\"fill:none;stroke:#3a3a3a;stroke-linecap:square;stroke-width:1.5;\"/>\n   </g>\n   <g id=\"line2d_22\">\n    <path clip-path=\"url(#p6ad7ebc853)\" d=\"M 361.453125 93.621502 \nL 417.253125 93.621502 \n\" style=\"fill:none;stroke:#3a3a3a;stroke-linecap:square;stroke-width:1.5;\"/>\n   </g>\n   <g id=\"line2d_23\">\n    <g clip-path=\"url(#p6ad7ebc853)\">\n     <use style=\"fill:#3a3a3a;stroke:#3a3a3a;stroke-linejoin:miter;\" x=\"389.353125\" xlink:href=\"#m55200480a9\" y=\"65.382541\"/>\n     <use style=\"fill:#3a3a3a;stroke:#3a3a3a;stroke-linejoin:miter;\" x=\"389.353125\" xlink:href=\"#m55200480a9\" y=\"65.382541\"/>\n     <use style=\"fill:#3a3a3a;stroke:#3a3a3a;stroke-linejoin:miter;\" x=\"389.353125\" xlink:href=\"#m55200480a9\" y=\"37.14358\"/>\n    </g>\n   </g>\n   <g id=\"line2d_24\">\n    <path clip-path=\"url(#p6ad7ebc853)\" d=\"M 528.853125 234.816307 \nL 528.853125 319.53319 \n\" style=\"fill:none;stroke:#3a3a3a;stroke-linecap:square;stroke-width:1.5;\"/>\n   </g>\n   <g id=\"line2d_25\">\n    <path clip-path=\"url(#p6ad7ebc853)\" d=\"M 528.853125 178.338385 \nL 528.853125 93.621502 \n\" style=\"fill:none;stroke:#3a3a3a;stroke-linecap:square;stroke-width:1.5;\"/>\n   </g>\n   <g id=\"line2d_26\">\n    <path clip-path=\"url(#p6ad7ebc853)\" d=\"M 500.953125 319.53319 \nL 556.753125 319.53319 \n\" style=\"fill:none;stroke:#3a3a3a;stroke-linecap:square;stroke-width:1.5;\"/>\n   </g>\n   <g id=\"line2d_27\">\n    <path clip-path=\"url(#p6ad7ebc853)\" d=\"M 500.953125 93.621502 \nL 556.753125 93.621502 \n\" style=\"fill:none;stroke:#3a3a3a;stroke-linecap:square;stroke-width:1.5;\"/>\n   </g>\n   <g id=\"line2d_28\">\n    <g clip-path=\"url(#p6ad7ebc853)\">\n     <use style=\"fill:#3a3a3a;stroke:#3a3a3a;stroke-linejoin:miter;\" x=\"528.853125\" xlink:href=\"#m55200480a9\" y=\"333.65267\"/>\n     <use style=\"fill:#3a3a3a;stroke:#3a3a3a;stroke-linejoin:miter;\" x=\"528.853125\" xlink:href=\"#m55200480a9\" y=\"79.502021\"/>\n    </g>\n   </g>\n   <g id=\"line2d_29\">\n    <path clip-path=\"url(#p6ad7ebc853)\" d=\"M 54.553125 206.577346 \nL 166.153125 206.577346 \n\" style=\"fill:none;stroke:#3a3a3a;stroke-linecap:square;stroke-width:1.5;\"/>\n   </g>\n   <g id=\"line2d_30\">\n    <path clip-path=\"url(#p6ad7ebc853)\" d=\"M 194.053125 220.696826 \nL 305.653125 220.696826 \n\" style=\"fill:none;stroke:#3a3a3a;stroke-linecap:square;stroke-width:1.5;\"/>\n   </g>\n   <g id=\"line2d_31\">\n    <path clip-path=\"url(#p6ad7ebc853)\" d=\"M 333.553125 220.696826 \nL 445.153125 220.696826 \n\" style=\"fill:none;stroke:#3a3a3a;stroke-linecap:square;stroke-width:1.5;\"/>\n   </g>\n   <g id=\"line2d_32\">\n    <path clip-path=\"url(#p6ad7ebc853)\" d=\"M 473.053125 206.577346 \nL 584.653125 206.577346 \n\" style=\"fill:none;stroke:#3a3a3a;stroke-linecap:square;stroke-width:1.5;\"/>\n   </g>\n   <g id=\"patch_7\">\n    <path d=\"M 40.603125 348.478125 \nL 40.603125 22.318125 \n\" style=\"fill:none;stroke:#000000;stroke-linecap:square;stroke-linejoin:miter;stroke-width:0.8;\"/>\n   </g>\n   <g id=\"patch_8\">\n    <path d=\"M 598.603125 348.478125 \nL 598.603125 22.318125 \n\" style=\"fill:none;stroke:#000000;stroke-linecap:square;stroke-linejoin:miter;stroke-width:0.8;\"/>\n   </g>\n   <g id=\"patch_9\">\n    <path d=\"M 40.603125 348.478125 \nL 598.603125 348.478125 \n\" style=\"fill:none;stroke:#000000;stroke-linecap:square;stroke-linejoin:miter;stroke-width:0.8;\"/>\n   </g>\n   <g id=\"patch_10\">\n    <path d=\"M 40.603125 22.318125 \nL 598.603125 22.318125 \n\" style=\"fill:none;stroke:#000000;stroke-linecap:square;stroke-linejoin:miter;stroke-width:0.8;\"/>\n   </g>\n   <g id=\"text_11\">\n    <!-- No of Words per Tweet by Sentiment Class -->\n    <g transform=\"translate(192.320625 16.318125)scale(0.12 -0.12)\">\n     <defs>\n      <path d=\"M 2375 4863 \nL 2375 4384 \nL 1825 4384 \nQ 1516 4384 1395 4259 \nQ 1275 4134 1275 3809 \nL 1275 3500 \nL 2222 3500 \nL 2222 3053 \nL 1275 3053 \nL 1275 0 \nL 697 0 \nL 697 3053 \nL 147 3053 \nL 147 3500 \nL 697 3500 \nL 697 3744 \nQ 697 4328 969 4595 \nQ 1241 4863 1831 4863 \nL 2375 4863 \nz\n\" id=\"DejaVuSans-66\" transform=\"scale(0.015625)\"/>\n      <path d=\"M 3116 1747 \nQ 3116 2381 2855 2742 \nQ 2594 3103 2138 3103 \nQ 1681 3103 1420 2742 \nQ 1159 2381 1159 1747 \nQ 1159 1113 1420 752 \nQ 1681 391 2138 391 \nQ 2594 391 2855 752 \nQ 3116 1113 3116 1747 \nz\nM 1159 2969 \nQ 1341 3281 1617 3432 \nQ 1894 3584 2278 3584 \nQ 2916 3584 3314 3078 \nQ 3713 2572 3713 1747 \nQ 3713 922 3314 415 \nQ 2916 -91 2278 -91 \nQ 1894 -91 1617 61 \nQ 1341 213 1159 525 \nL 1159 0 \nL 581 0 \nL 581 4863 \nL 1159 4863 \nL 1159 2969 \nz\n\" id=\"DejaVuSans-62\" transform=\"scale(0.015625)\"/>\n      <path d=\"M 2059 -325 \nQ 1816 -950 1584 -1140 \nQ 1353 -1331 966 -1331 \nL 506 -1331 \nL 506 -850 \nL 844 -850 \nQ 1081 -850 1212 -737 \nQ 1344 -625 1503 -206 \nL 1606 56 \nL 191 3500 \nL 800 3500 \nL 1894 763 \nL 2988 3500 \nL 3597 3500 \nL 2059 -325 \nz\n\" id=\"DejaVuSans-79\" transform=\"scale(0.015625)\"/>\n     </defs>\n     <use xlink:href=\"#DejaVuSans-4e\"/>\n     <use x=\"74.804688\" xlink:href=\"#DejaVuSans-6f\"/>\n     <use x=\"135.986328\" xlink:href=\"#DejaVuSans-20\"/>\n     <use x=\"167.773438\" xlink:href=\"#DejaVuSans-6f\"/>\n     <use x=\"228.955078\" xlink:href=\"#DejaVuSans-66\"/>\n     <use x=\"264.160156\" xlink:href=\"#DejaVuSans-20\"/>\n     <use x=\"295.947266\" xlink:href=\"#DejaVuSans-57\"/>\n     <use x=\"388.949219\" xlink:href=\"#DejaVuSans-6f\"/>\n     <use x=\"450.130859\" xlink:href=\"#DejaVuSans-72\"/>\n     <use x=\"489.494141\" xlink:href=\"#DejaVuSans-64\"/>\n     <use x=\"552.970703\" xlink:href=\"#DejaVuSans-73\"/>\n     <use x=\"605.070312\" xlink:href=\"#DejaVuSans-20\"/>\n     <use x=\"636.857422\" xlink:href=\"#DejaVuSans-70\"/>\n     <use x=\"700.333984\" xlink:href=\"#DejaVuSans-65\"/>\n     <use x=\"761.857422\" xlink:href=\"#DejaVuSans-72\"/>\n     <use x=\"802.970703\" xlink:href=\"#DejaVuSans-20\"/>\n     <use x=\"834.757812\" xlink:href=\"#DejaVuSans-54\"/>\n     <use x=\"879.341797\" xlink:href=\"#DejaVuSans-77\"/>\n     <use x=\"961.128906\" xlink:href=\"#DejaVuSans-65\"/>\n     <use x=\"1022.652344\" xlink:href=\"#DejaVuSans-65\"/>\n     <use x=\"1084.175781\" xlink:href=\"#DejaVuSans-74\"/>\n     <use x=\"1123.384766\" xlink:href=\"#DejaVuSans-20\"/>\n     <use x=\"1155.171875\" xlink:href=\"#DejaVuSans-62\"/>\n     <use x=\"1218.648438\" xlink:href=\"#DejaVuSans-79\"/>\n     <use x=\"1277.828125\" xlink:href=\"#DejaVuSans-20\"/>\n     <use x=\"1309.615234\" xlink:href=\"#DejaVuSans-53\"/>\n     <use x=\"1373.091797\" xlink:href=\"#DejaVuSans-65\"/>\n     <use x=\"1434.615234\" xlink:href=\"#DejaVuSans-6e\"/>\n     <use x=\"1497.994141\" xlink:href=\"#DejaVuSans-74\"/>\n     <use x=\"1537.203125\" xlink:href=\"#DejaVuSans-69\"/>\n     <use x=\"1564.986328\" xlink:href=\"#DejaVuSans-6d\"/>\n     <use x=\"1662.398438\" xlink:href=\"#DejaVuSans-65\"/>\n     <use x=\"1723.921875\" xlink:href=\"#DejaVuSans-6e\"/>\n     <use x=\"1787.300781\" xlink:href=\"#DejaVuSans-74\"/>\n     <use x=\"1826.509766\" xlink:href=\"#DejaVuSans-20\"/>\n     <use x=\"1858.296875\" xlink:href=\"#DejaVuSans-43\"/>\n     <use x=\"1928.121094\" xlink:href=\"#DejaVuSans-6c\"/>\n     <use x=\"1955.904297\" xlink:href=\"#DejaVuSans-61\"/>\n     <use x=\"2017.183594\" xlink:href=\"#DejaVuSans-73\"/>\n     <use x=\"2069.283203\" xlink:href=\"#DejaVuSans-73\"/>\n    </g>\n   </g>\n  </g>\n </g>\n <defs>\n  <clipPath id=\"p6ad7ebc853\">\n   <rect height=\"326.16\" width=\"558\" x=\"40.603125\" y=\"22.318125\"/>\n  </clipPath>\n </defs>\n</svg>\n",
      "image/png": "[encoded data removed]"
     },
     "metadata": {
      "needs_background": "light"
     }
    }
   ],
   "source": [
    "#Box plot visual of distribution between length of tweet vs class label\n",
    "plt.figure(figsize=(10, 6))\n",
    "sns.boxplot(x=df['class_label'],\n",
    "            y=df.clean_message.str.split().apply(len),\n",
    "            data=df,\n",
    "            palette=\"Blues\")\n",
    "\n",
    "plt.title('No of Words per Tweet by Sentiment Class')\n",
    "plt.xlabel('Sentiment Class')\n",
    "plt.ylabel('Word Count per Tweet');\n",
    "\n"
   ]
  },
  {
   "cell_type": "markdown",
   "metadata": {
    "papermill": {
     "duration": 0.031158,
     "end_time": "2021-06-10T11:00:33.573439",
     "exception": false,
     "start_time": "2021-06-10T11:00:33.542281",
     "status": "completed"
    },
    "tags": []
   },
   "source": [
    "## Funnel chart to get more insight from sentiments"
   ]
  },
  {
   "cell_type": "code",
   "execution_count": 71,
   "metadata": {
    "execution": {
     "iopub.execute_input": "2021-06-10T11:00:33.641584Z",
     "iopub.status.busy": "2021-06-10T11:00:33.640896Z",
     "iopub.status.idle": "2021-06-10T11:00:33.750759Z",
     "shell.execute_reply": "2021-06-10T11:00:33.750107Z",
     "shell.execute_reply.started": "2021-06-10T08:51:29.450713Z"
    },
    "papermill": {
     "duration": 0.146097,
     "end_time": "2021-06-10T11:00:33.750900",
     "exception": false,
     "start_time": "2021-06-10T11:00:33.604803",
     "status": "completed"
    },
    "tags": []
   },
   "outputs": [
    {
     "output_type": "display_data",
     "data": {
      "application/vnd.plotly.v1+json": {
       "config": {
        "plotlyServerURL": "https://plot.ly"
       },
       "data": [
        {
         "text": [
          "Positive(1)",
          "News(2)",
          "Neutral(0)",
          "Negative(-1)"
         ],
         "title": {
          "position": "top center",
          "text": "Funnel-Chart of Sentiment Distribution"
         },
         "type": "funnelarea",
         "values": [
          8530,
          3640,
          2353,
          1296
         ]
        }
       ],
       "layout": {
        "template": {
         "data": {
          "bar": [
           {
            "error_x": {
             "color": "#2a3f5f"
            },
            "error_y": {
             "color": "#2a3f5f"
            },
            "marker": {
             "line": {
              "color": "#E5ECF6",
              "width": 0.5
             }
            },
            "type": "bar"
           }
          ],
          "barpolar": [
           {
            "marker": {
             "line": {
              "color": "#E5ECF6",
              "width": 0.5
             }
            },
            "type": "barpolar"
           }
          ],
          "carpet": [
           {
            "aaxis": {
             "endlinecolor": "#2a3f5f",
             "gridcolor": "white",
             "linecolor": "white",
             "minorgridcolor": "white",
             "startlinecolor": "#2a3f5f"
            },
            "baxis": {
             "endlinecolor": "#2a3f5f",
             "gridcolor": "white",
             "linecolor": "white",
             "minorgridcolor": "white",
             "startlinecolor": "#2a3f5f"
            },
            "type": "carpet"
           }
          ],
          "choropleth": [
           {
            "colorbar": {
             "outlinewidth": 0,
             "ticks": ""
            },
            "type": "choropleth"
           }
          ],
          "contour": [
           {
            "colorbar": {
             "outlinewidth": 0,
             "ticks": ""
            },
            "colorscale": [
             [
              0,
              "#0d0887"
             ],
             [
              0.1111111111111111,
              "#46039f"
             ],
             [
              0.2222222222222222,
              "#7201a8"
             ],
             [
              0.3333333333333333,
              "#9c179e"
             ],
             [
              0.4444444444444444,
              "#bd3786"
             ],
             [
              0.5555555555555556,
              "#d8576b"
             ],
             [
              0.6666666666666666,
              "#ed7953"
             ],
             [
              0.7777777777777778,
              "#fb9f3a"
             ],
             [
              0.8888888888888888,
              "#fdca26"
             ],
             [
              1,
              "#f0f921"
             ]
            ],
            "type": "contour"
           }
          ],
          "contourcarpet": [
           {
            "colorbar": {
             "outlinewidth": 0,
             "ticks": ""
            },
            "type": "contourcarpet"
           }
          ],
          "heatmap": [
           {
            "colorbar": {
             "outlinewidth": 0,
             "ticks": ""
            },
            "colorscale": [
             [
              0,
              "#0d0887"
             ],
             [
              0.1111111111111111,
              "#46039f"
             ],
             [
              0.2222222222222222,
              "#7201a8"
             ],
             [
              0.3333333333333333,
              "#9c179e"
             ],
             [
              0.4444444444444444,
              "#bd3786"
             ],
             [
              0.5555555555555556,
              "#d8576b"
             ],
             [
              0.6666666666666666,
              "#ed7953"
             ],
             [
              0.7777777777777778,
              "#fb9f3a"
             ],
             [
              0.8888888888888888,
              "#fdca26"
             ],
             [
              1,
              "#f0f921"
             ]
            ],
            "type": "heatmap"
           }
          ],
          "heatmapgl": [
           {
            "colorbar": {
             "outlinewidth": 0,
             "ticks": ""
            },
            "colorscale": [
             [
              0,
              "#0d0887"
             ],
             [
              0.1111111111111111,
              "#46039f"
             ],
             [
              0.2222222222222222,
              "#7201a8"
             ],
             [
              0.3333333333333333,
              "#9c179e"
             ],
             [
              0.4444444444444444,
              "#bd3786"
             ],
             [
              0.5555555555555556,
              "#d8576b"
             ],
             [
              0.6666666666666666,
              "#ed7953"
             ],
             [
              0.7777777777777778,
              "#fb9f3a"
             ],
             [
              0.8888888888888888,
              "#fdca26"
             ],
             [
              1,
              "#f0f921"
             ]
            ],
            "type": "heatmapgl"
           }
          ],
          "histogram": [
           {
            "marker": {
             "colorbar": {
              "outlinewidth": 0,
              "ticks": ""
             }
            },
            "type": "histogram"
           }
          ],
          "histogram2d": [
           {
            "colorbar": {
             "outlinewidth": 0,
             "ticks": ""
            },
            "colorscale": [
             [
              0,
              "#0d0887"
             ],
             [
              0.1111111111111111,
              "#46039f"
             ],
             [
              0.2222222222222222,
              "#7201a8"
             ],
             [
              0.3333333333333333,
              "#9c179e"
             ],
             [
              0.4444444444444444,
              "#bd3786"
             ],
             [
              0.5555555555555556,
              "#d8576b"
             ],
             [
              0.6666666666666666,
              "#ed7953"
             ],
             [
              0.7777777777777778,
              "#fb9f3a"
             ],
             [
              0.8888888888888888,
              "#fdca26"
             ],
             [
              1,
              "#f0f921"
             ]
            ],
            "type": "histogram2d"
           }
          ],
          "histogram2dcontour": [
           {
            "colorbar": {
             "outlinewidth": 0,
             "ticks": ""
            },
            "colorscale": [
             [
              0,
              "#0d0887"
             ],
             [
              0.1111111111111111,
              "#46039f"
             ],
             [
              0.2222222222222222,
              "#7201a8"
             ],
             [
              0.3333333333333333,
              "#9c179e"
             ],
             [
              0.4444444444444444,
              "#bd3786"
             ],
             [
              0.5555555555555556,
              "#d8576b"
             ],
             [
              0.6666666666666666,
              "#ed7953"
             ],
             [
              0.7777777777777778,
              "#fb9f3a"
             ],
             [
              0.8888888888888888,
              "#fdca26"
             ],
             [
              1,
              "#f0f921"
             ]
            ],
            "type": "histogram2dcontour"
           }
          ],
          "mesh3d": [
           {
            "colorbar": {
             "outlinewidth": 0,
             "ticks": ""
            },
            "type": "mesh3d"
           }
          ],
          "parcoords": [
           {
            "line": {
             "colorbar": {
              "outlinewidth": 0,
              "ticks": ""
             }
            },
            "type": "parcoords"
           }
          ],
          "pie": [
           {
            "automargin": true,
            "type": "pie"
           }
          ],
          "scatter": [
           {
            "marker": {
             "colorbar": {
              "outlinewidth": 0,
              "ticks": ""
             }
            },
            "type": "scatter"
           }
          ],
          "scatter3d": [
           {
            "line": {
             "colorbar": {
              "outlinewidth": 0,
              "ticks": ""
             }
            },
            "marker": {
             "colorbar": {
              "outlinewidth": 0,
              "ticks": ""
             }
            },
            "type": "scatter3d"
           }
          ],
          "scattercarpet": [
           {
            "marker": {
             "colorbar": {
              "outlinewidth": 0,
              "ticks": ""
             }
            },
            "type": "scattercarpet"
           }
          ],
          "scattergeo": [
           {
            "marker": {
             "colorbar": {
              "outlinewidth": 0,
              "ticks": ""
             }
            },
            "type": "scattergeo"
           }
          ],
          "scattergl": [
           {
            "marker": {
             "colorbar": {
              "outlinewidth": 0,
              "ticks": ""
             }
            },
            "type": "scattergl"
           }
          ],
          "scattermapbox": [
           {
            "marker": {
             "colorbar": {
              "outlinewidth": 0,
              "ticks": ""
             }
            },
            "type": "scattermapbox"
           }
          ],
          "scatterpolar": [
           {
            "marker": {
             "colorbar": {
              "outlinewidth": 0,
              "ticks": ""
             }
            },
            "type": "scatterpolar"
           }
          ],
          "scatterpolargl": [
           {
            "marker": {
             "colorbar": {
              "outlinewidth": 0,
              "ticks": ""
             }
            },
            "type": "scatterpolargl"
           }
          ],
          "scatterternary": [
           {
            "marker": {
             "colorbar": {
              "outlinewidth": 0,
              "ticks": ""
             }
            },
            "type": "scatterternary"
           }
          ],
          "surface": [
           {
            "colorbar": {
             "outlinewidth": 0,
             "ticks": ""
            },
            "colorscale": [
             [
              0,
              "#0d0887"
             ],
             [
              0.1111111111111111,
              "#46039f"
             ],
             [
              0.2222222222222222,
              "#7201a8"
             ],
             [
              0.3333333333333333,
              "#9c179e"
             ],
             [
              0.4444444444444444,
              "#bd3786"
             ],
             [
              0.5555555555555556,
              "#d8576b"
             ],
             [
              0.6666666666666666,
              "#ed7953"
             ],
             [
              0.7777777777777778,
              "#fb9f3a"
             ],
             [
              0.8888888888888888,
              "#fdca26"
             ],
             [
              1,
              "#f0f921"
             ]
            ],
            "type": "surface"
           }
          ],
          "table": [
           {
            "cells": {
             "fill": {
              "color": "#EBF0F8"
             },
             "line": {
              "color": "white"
             }
            },
            "header": {
             "fill": {
              "color": "#C8D4E3"
             },
             "line": {
              "color": "white"
             }
            },
            "type": "table"
           }
          ]
         },
         "layout": {
          "annotationdefaults": {
           "arrowcolor": "#2a3f5f",
           "arrowhead": 0,
           "arrowwidth": 1
          },
          "autotypenumbers": "strict",
          "coloraxis": {
           "colorbar": {
            "outlinewidth": 0,
            "ticks": ""
           }
          },
          "colorscale": {
           "diverging": [
            [
             0,
             "#8e0152"
            ],
            [
             0.1,
             "#c51b7d"
            ],
            [
             0.2,
             "#de77ae"
            ],
            [
             0.3,
             "#f1b6da"
            ],
            [
             0.4,
             "#fde0ef"
            ],
            [
             0.5,
             "#f7f7f7"
            ],
            [
             0.6,
             "#e6f5d0"
            ],
            [
             0.7,
             "#b8e186"
            ],
            [
             0.8,
             "#7fbc41"
            ],
            [
             0.9,
             "#4d9221"
            ],
            [
             1,
             "#276419"
            ]
           ],
           "sequential": [
            [
             0,
             "#0d0887"
            ],
            [
             0.1111111111111111,
             "#46039f"
            ],
            [
             0.2222222222222222,
             "#7201a8"
            ],
            [
             0.3333333333333333,
             "#9c179e"
            ],
            [
             0.4444444444444444,
             "#bd3786"
            ],
            [
             0.5555555555555556,
             "#d8576b"
            ],
            [
             0.6666666666666666,
             "#ed7953"
            ],
            [
             0.7777777777777778,
             "#fb9f3a"
            ],
            [
             0.8888888888888888,
             "#fdca26"
            ],
            [
             1,
             "#f0f921"
            ]
           ],
           "sequentialminus": [
            [
             0,
             "#0d0887"
            ],
            [
             0.1111111111111111,
             "#46039f"
            ],
            [
             0.2222222222222222,
             "#7201a8"
            ],
            [
             0.3333333333333333,
             "#9c179e"
            ],
            [
             0.4444444444444444,
             "#bd3786"
            ],
            [
             0.5555555555555556,
             "#d8576b"
            ],
            [
             0.6666666666666666,
             "#ed7953"
            ],
            [
             0.7777777777777778,
             "#fb9f3a"
            ],
            [
             0.8888888888888888,
             "#fdca26"
            ],
            [
             1,
             "#f0f921"
            ]
           ]
          },
          "colorway": [
           "#636efa",
           "#EF553B",
           "#00cc96",
           "#ab63fa",
           "#FFA15A",
           "#19d3f3",
           "#FF6692",
           "#B6E880",
           "#FF97FF",
           "#FECB52"
          ],
          "font": {
           "color": "#2a3f5f"
          },
          "geo": {
           "bgcolor": "white",
           "lakecolor": "white",
           "landcolor": "#E5ECF6",
           "showlakes": true,
           "showland": true,
           "subunitcolor": "white"
          },
          "hoverlabel": {
           "align": "left"
          },
          "hovermode": "closest",
          "mapbox": {
           "style": "light"
          },
          "paper_bgcolor": "white",
          "plot_bgcolor": "#E5ECF6",
          "polar": {
           "angularaxis": {
            "gridcolor": "white",
            "linecolor": "white",
            "ticks": ""
           },
           "bgcolor": "#E5ECF6",
           "radialaxis": {
            "gridcolor": "white",
            "linecolor": "white",
            "ticks": ""
           }
          },
          "scene": {
           "xaxis": {
            "backgroundcolor": "#E5ECF6",
            "gridcolor": "white",
            "gridwidth": 2,
            "linecolor": "white",
            "showbackground": true,
            "ticks": "",
            "zerolinecolor": "white"
           },
           "yaxis": {
            "backgroundcolor": "#E5ECF6",
            "gridcolor": "white",
            "gridwidth": 2,
            "linecolor": "white",
            "showbackground": true,
            "ticks": "",
            "zerolinecolor": "white"
           },
           "zaxis": {
            "backgroundcolor": "#E5ECF6",
            "gridcolor": "white",
            "gridwidth": 2,
            "linecolor": "white",
            "showbackground": true,
            "ticks": "",
            "zerolinecolor": "white"
           }
          },
          "shapedefaults": {
           "line": {
            "color": "#2a3f5f"
           }
          },
          "ternary": {
           "aaxis": {
            "gridcolor": "white",
            "linecolor": "white",
            "ticks": ""
           },
           "baxis": {
            "gridcolor": "white",
            "linecolor": "white",
            "ticks": ""
           },
           "bgcolor": "#E5ECF6",
           "caxis": {
            "gridcolor": "white",
            "linecolor": "white",
            "ticks": ""
           }
          },
          "title": {
           "x": 0.05
          },
          "xaxis": {
           "automargin": true,
           "gridcolor": "white",
           "linecolor": "white",
           "ticks": "",
           "title": {
            "standoff": 15
           },
           "zerolinecolor": "white",
           "zerolinewidth": 2
          },
          "yaxis": {
           "automargin": true,
           "gridcolor": "white",
           "linecolor": "white",
           "ticks": "",
           "title": {
            "standoff": 15
           },
           "zerolinecolor": "white",
           "zerolinewidth": 2
          }
         }
        }
       }
      }
     },
     "metadata": {}
    }
   ],
   "source": [
    "fig = go.Figure(go.Funnelarea(\n",
    "    text =dist.class_label,\n",
    "    values = dist.clean_message,\n",
    "    title = {\"position\": \"top center\", \"text\": \"Funnel-Chart of Sentiment Distribution\"}\n",
    "    ))\n",
    "fig.show()"
   ]
  },
  {
   "cell_type": "markdown",
   "metadata": {},
   "source": [
    "### Observation\n",
    "- Negative(-1) Sentiment shows the less of counted words with the percentage of 8.19\n",
    "- Neutral(0) shows 14.9 percents of counted words\n",
    "- News(2) shows 23 percents of counted words\n",
    "- And Positive comments shows the highest percentage of 53.9 of counted words"
   ]
  },
  {
   "cell_type": "markdown",
   "metadata": {
    "papermill": {
     "duration": 0.033422,
     "end_time": "2021-06-10T11:00:33.817700",
     "exception": false,
     "start_time": "2021-06-10T11:00:33.784278",
     "status": "completed"
    },
    "tags": []
   },
   "source": [
    "## checking average length of each sentiment catergory"
   ]
  },
  {
   "cell_type": "code",
   "execution_count": 57,
   "metadata": {
    "execution": {
     "iopub.execute_input": "2021-06-10T11:00:33.907815Z",
     "iopub.status.busy": "2021-06-10T11:00:33.907160Z",
     "iopub.status.idle": "2021-06-10T11:00:34.330572Z",
     "shell.execute_reply": "2021-06-10T11:00:34.331114Z",
     "shell.execute_reply.started": "2021-06-10T09:31:16.088029Z"
    },
    "papermill": {
     "duration": 0.480759,
     "end_time": "2021-06-10T11:00:34.331303",
     "exception": false,
     "start_time": "2021-06-10T11:00:33.850544",
     "status": "completed"
    },
    "tags": []
   },
   "outputs": [
    {
     "output_type": "display_data",
     "data": {
      "text/plain": "<Figure size 864x432 with 1 Axes>",
      "image/svg+xml": "<?xml version=\"1.0\" encoding=\"utf-8\" standalone=\"no\"?>\n<!DOCTYPE svg PUBLIC \"-//W3C//DTD SVG 1.1//EN\"\n  \"http://www.w3.org/Graphics/SVG/1.1/DTD/svg11.dtd\">\n<svg height=\"386.034375pt\" version=\"1.1\" viewBox=\"0 0 717.68125 386.034375\" width=\"717.68125pt\" xmlns=\"http://www.w3.org/2000/svg\" xmlns:xlink=\"http://www.w3.org/1999/xlink\">\n <metadata>\n  <rdf:RDF xmlns:cc=\"http://creativecommons.org/ns#\" xmlns:dc=\"http://purl.org/dc/elements/1.1/\" xmlns:rdf=\"http://www.w3.org/1999/02/22-rdf-syntax-ns#\">\n   <cc:Work>\n    <dc:type rdf:resource=\"http://purl.org/dc/dcmitype/StillImage\"/>\n    <dc:date>2021-06-22T18:45:54.994609</dc:date>\n    <dc:format>image/svg+xml</dc:format>\n    <dc:creator>\n     <cc:Agent>\n      <dc:title>Matplotlib v3.4.2, https://matplotlib.org/</dc:title>\n     </cc:Agent>\n    </dc:creator>\n   </cc:Work>\n  </rdf:RDF>\n </metadata>\n <defs>\n  <style type=\"text/css\">*{stroke-linecap:butt;stroke-linejoin:round;}</style>\n </defs>\n <g id=\"figure_1\">\n  <g id=\"patch_1\">\n   <path d=\"M 0 386.034375 \nL 717.68125 386.034375 \nL 717.68125 0 \nL 0 0 \nz\n\" style=\"fill:none;\"/>\n  </g>\n  <g id=\"axes_1\">\n   <g id=\"patch_2\">\n    <path d=\"M 40.88125 348.478125 \nL 710.48125 348.478125 \nL 710.48125 22.318125 \nL 40.88125 22.318125 \nz\n\" style=\"fill:#ffffff;\"/>\n   </g>\n   <g id=\"patch_3\">\n    <path clip-path=\"url(#pc6746c5aab)\" d=\"M 57.62125 348.478125 \nL 191.54125 348.478125 \nL 191.54125 39.320862 \nL 57.62125 39.320862 \nz\n\" style=\"fill:#88b0cb;\"/>\n   </g>\n   <g id=\"patch_4\">\n    <path clip-path=\"url(#pc6746c5aab)\" d=\"M 225.02125 348.478125 \nL 358.94125 348.478125 \nL 358.94125 69.457546 \nL 225.02125 69.457546 \nz\n\" style=\"fill:#5d93b9;\"/>\n   </g>\n   <g id=\"patch_5\">\n    <path clip-path=\"url(#pc6746c5aab)\" d=\"M 392.42125 348.478125 \nL 526.34125 348.478125 \nL 526.34125 75.918567 \nL 392.42125 75.918567 \nz\n\" style=\"fill:#447496;\"/>\n   </g>\n   <g id=\"patch_6\">\n    <path clip-path=\"url(#pc6746c5aab)\" d=\"M 559.82125 348.478125 \nL 693.74125 348.478125 \nL 693.74125 45.093997 \nL 559.82125 45.093997 \nz\n\" style=\"fill:#3b5365;\"/>\n   </g>\n   <g id=\"matplotlib.axis_1\">\n    <g id=\"xtick_1\">\n     <g id=\"line2d_1\">\n      <defs>\n       <path d=\"M 0 0 \nL 0 3.5 \n\" id=\"m12fd750e38\" style=\"stroke:#000000;stroke-width:0.8;\"/>\n      </defs>\n      <g>\n       <use style=\"stroke:#000000;stroke-width:0.8;\" x=\"124.58125\" xlink:href=\"#m12fd750e38\" y=\"348.478125\"/>\n      </g>\n     </g>\n     <g id=\"text_1\">\n      <!-- Positive(1) -->\n      <g transform=\"translate(98.226562 363.076562)scale(0.1 -0.1)\">\n       <defs>\n        <path d=\"M 1259 4147 \nL 1259 2394 \nL 2053 2394 \nQ 2494 2394 2734 2622 \nQ 2975 2850 2975 3272 \nQ 2975 3691 2734 3919 \nQ 2494 4147 2053 4147 \nL 1259 4147 \nz\nM 628 4666 \nL 2053 4666 \nQ 2838 4666 3239 4311 \nQ 3641 3956 3641 3272 \nQ 3641 2581 3239 2228 \nQ 2838 1875 2053 1875 \nL 1259 1875 \nL 1259 0 \nL 628 0 \nL 628 4666 \nz\n\" id=\"DejaVuSans-50\" transform=\"scale(0.015625)\"/>\n        <path d=\"M 1959 3097 \nQ 1497 3097 1228 2736 \nQ 959 2375 959 1747 \nQ 959 1119 1226 758 \nQ 1494 397 1959 397 \nQ 2419 397 2687 759 \nQ 2956 1122 2956 1747 \nQ 2956 2369 2687 2733 \nQ 2419 3097 1959 3097 \nz\nM 1959 3584 \nQ 2709 3584 3137 3096 \nQ 3566 2609 3566 1747 \nQ 3566 888 3137 398 \nQ 2709 -91 1959 -91 \nQ 1206 -91 779 398 \nQ 353 888 353 1747 \nQ 353 2609 779 3096 \nQ 1206 3584 1959 3584 \nz\n\" id=\"DejaVuSans-6f\" transform=\"scale(0.015625)\"/>\n        <path d=\"M 2834 3397 \nL 2834 2853 \nQ 2591 2978 2328 3040 \nQ 2066 3103 1784 3103 \nQ 1356 3103 1142 2972 \nQ 928 2841 928 2578 \nQ 928 2378 1081 2264 \nQ 1234 2150 1697 2047 \nL 1894 2003 \nQ 2506 1872 2764 1633 \nQ 3022 1394 3022 966 \nQ 3022 478 2636 193 \nQ 2250 -91 1575 -91 \nQ 1294 -91 989 -36 \nQ 684 19 347 128 \nL 347 722 \nQ 666 556 975 473 \nQ 1284 391 1588 391 \nQ 1994 391 2212 530 \nQ 2431 669 2431 922 \nQ 2431 1156 2273 1281 \nQ 2116 1406 1581 1522 \nL 1381 1569 \nQ 847 1681 609 1914 \nQ 372 2147 372 2553 \nQ 372 3047 722 3315 \nQ 1072 3584 1716 3584 \nQ 2034 3584 2315 3537 \nQ 2597 3491 2834 3397 \nz\n\" id=\"DejaVuSans-73\" transform=\"scale(0.015625)\"/>\n        <path d=\"M 603 3500 \nL 1178 3500 \nL 1178 0 \nL 603 0 \nL 603 3500 \nz\nM 603 4863 \nL 1178 4863 \nL 1178 4134 \nL 603 4134 \nL 603 4863 \nz\n\" id=\"DejaVuSans-69\" transform=\"scale(0.015625)\"/>\n        <path d=\"M 1172 4494 \nL 1172 3500 \nL 2356 3500 \nL 2356 3053 \nL 1172 3053 \nL 1172 1153 \nQ 1172 725 1289 603 \nQ 1406 481 1766 481 \nL 2356 481 \nL 2356 0 \nL 1766 0 \nQ 1100 0 847 248 \nQ 594 497 594 1153 \nL 594 3053 \nL 172 3053 \nL 172 3500 \nL 594 3500 \nL 594 4494 \nL 1172 4494 \nz\n\" id=\"DejaVuSans-74\" transform=\"scale(0.015625)\"/>\n        <path d=\"M 191 3500 \nL 800 3500 \nL 1894 563 \nL 2988 3500 \nL 3597 3500 \nL 2284 0 \nL 1503 0 \nL 191 3500 \nz\n\" id=\"DejaVuSans-76\" transform=\"scale(0.015625)\"/>\n        <path d=\"M 3597 1894 \nL 3597 1613 \nL 953 1613 \nQ 991 1019 1311 708 \nQ 1631 397 2203 397 \nQ 2534 397 2845 478 \nQ 3156 559 3463 722 \nL 3463 178 \nQ 3153 47 2828 -22 \nQ 2503 -91 2169 -91 \nQ 1331 -91 842 396 \nQ 353 884 353 1716 \nQ 353 2575 817 3079 \nQ 1281 3584 2069 3584 \nQ 2775 3584 3186 3129 \nQ 3597 2675 3597 1894 \nz\nM 3022 2063 \nQ 3016 2534 2758 2815 \nQ 2500 3097 2075 3097 \nQ 1594 3097 1305 2825 \nQ 1016 2553 972 2059 \nL 3022 2063 \nz\n\" id=\"DejaVuSans-65\" transform=\"scale(0.015625)\"/>\n        <path d=\"M 1984 4856 \nQ 1566 4138 1362 3434 \nQ 1159 2731 1159 2009 \nQ 1159 1288 1364 580 \nQ 1569 -128 1984 -844 \nL 1484 -844 \nQ 1016 -109 783 600 \nQ 550 1309 550 2009 \nQ 550 2706 781 3412 \nQ 1013 4119 1484 4856 \nL 1984 4856 \nz\n\" id=\"DejaVuSans-28\" transform=\"scale(0.015625)\"/>\n        <path d=\"M 794 531 \nL 1825 531 \nL 1825 4091 \nL 703 3866 \nL 703 4441 \nL 1819 4666 \nL 2450 4666 \nL 2450 531 \nL 3481 531 \nL 3481 0 \nL 794 0 \nL 794 531 \nz\n\" id=\"DejaVuSans-31\" transform=\"scale(0.015625)\"/>\n        <path d=\"M 513 4856 \nL 1013 4856 \nQ 1481 4119 1714 3412 \nQ 1947 2706 1947 2009 \nQ 1947 1309 1714 600 \nQ 1481 -109 1013 -844 \nL 513 -844 \nQ 928 -128 1133 580 \nQ 1338 1288 1338 2009 \nQ 1338 2731 1133 3434 \nQ 928 4138 513 4856 \nz\n\" id=\"DejaVuSans-29\" transform=\"scale(0.015625)\"/>\n       </defs>\n       <use xlink:href=\"#DejaVuSans-50\"/>\n       <use x=\"56.677734\" xlink:href=\"#DejaVuSans-6f\"/>\n       <use x=\"117.859375\" xlink:href=\"#DejaVuSans-73\"/>\n       <use x=\"169.958984\" xlink:href=\"#DejaVuSans-69\"/>\n       <use x=\"197.742188\" xlink:href=\"#DejaVuSans-74\"/>\n       <use x=\"236.951172\" xlink:href=\"#DejaVuSans-69\"/>\n       <use x=\"264.734375\" xlink:href=\"#DejaVuSans-76\"/>\n       <use x=\"323.914062\" xlink:href=\"#DejaVuSans-65\"/>\n       <use x=\"385.4375\" xlink:href=\"#DejaVuSans-28\"/>\n       <use x=\"424.451172\" xlink:href=\"#DejaVuSans-31\"/>\n       <use x=\"488.074219\" xlink:href=\"#DejaVuSans-29\"/>\n      </g>\n     </g>\n    </g>\n    <g id=\"xtick_2\">\n     <g id=\"line2d_2\">\n      <g>\n       <use style=\"stroke:#000000;stroke-width:0.8;\" x=\"291.98125\" xlink:href=\"#m12fd750e38\" y=\"348.478125\"/>\n      </g>\n     </g>\n     <g id=\"text_2\">\n      <!-- News(2) -->\n      <g transform=\"translate(271.3875 363.076562)scale(0.1 -0.1)\">\n       <defs>\n        <path d=\"M 628 4666 \nL 1478 4666 \nL 3547 763 \nL 3547 4666 \nL 4159 4666 \nL 4159 0 \nL 3309 0 \nL 1241 3903 \nL 1241 0 \nL 628 0 \nL 628 4666 \nz\n\" id=\"DejaVuSans-4e\" transform=\"scale(0.015625)\"/>\n        <path d=\"M 269 3500 \nL 844 3500 \nL 1563 769 \nL 2278 3500 \nL 2956 3500 \nL 3675 769 \nL 4391 3500 \nL 4966 3500 \nL 4050 0 \nL 3372 0 \nL 2619 2869 \nL 1863 0 \nL 1184 0 \nL 269 3500 \nz\n\" id=\"DejaVuSans-77\" transform=\"scale(0.015625)\"/>\n        <path d=\"M 1228 531 \nL 3431 531 \nL 3431 0 \nL 469 0 \nL 469 531 \nQ 828 903 1448 1529 \nQ 2069 2156 2228 2338 \nQ 2531 2678 2651 2914 \nQ 2772 3150 2772 3378 \nQ 2772 3750 2511 3984 \nQ 2250 4219 1831 4219 \nQ 1534 4219 1204 4116 \nQ 875 4013 500 3803 \nL 500 4441 \nQ 881 4594 1212 4672 \nQ 1544 4750 1819 4750 \nQ 2544 4750 2975 4387 \nQ 3406 4025 3406 3419 \nQ 3406 3131 3298 2873 \nQ 3191 2616 2906 2266 \nQ 2828 2175 2409 1742 \nQ 1991 1309 1228 531 \nz\n\" id=\"DejaVuSans-32\" transform=\"scale(0.015625)\"/>\n       </defs>\n       <use xlink:href=\"#DejaVuSans-4e\"/>\n       <use x=\"74.804688\" xlink:href=\"#DejaVuSans-65\"/>\n       <use x=\"136.328125\" xlink:href=\"#DejaVuSans-77\"/>\n       <use x=\"218.115234\" xlink:href=\"#DejaVuSans-73\"/>\n       <use x=\"270.214844\" xlink:href=\"#DejaVuSans-28\"/>\n       <use x=\"309.228516\" xlink:href=\"#DejaVuSans-32\"/>\n       <use x=\"372.851562\" xlink:href=\"#DejaVuSans-29\"/>\n      </g>\n     </g>\n    </g>\n    <g id=\"xtick_3\">\n     <g id=\"line2d_3\">\n      <g>\n       <use style=\"stroke:#000000;stroke-width:0.8;\" x=\"459.38125\" xlink:href=\"#m12fd750e38\" y=\"348.478125\"/>\n      </g>\n     </g>\n     <g id=\"text_3\">\n      <!-- Neutral(0) -->\n      <g transform=\"translate(433.84375 363.076562)scale(0.1 -0.1)\">\n       <defs>\n        <path d=\"M 544 1381 \nL 544 3500 \nL 1119 3500 \nL 1119 1403 \nQ 1119 906 1312 657 \nQ 1506 409 1894 409 \nQ 2359 409 2629 706 \nQ 2900 1003 2900 1516 \nL 2900 3500 \nL 3475 3500 \nL 3475 0 \nL 2900 0 \nL 2900 538 \nQ 2691 219 2414 64 \nQ 2138 -91 1772 -91 \nQ 1169 -91 856 284 \nQ 544 659 544 1381 \nz\nM 1991 3584 \nL 1991 3584 \nz\n\" id=\"DejaVuSans-75\" transform=\"scale(0.015625)\"/>\n        <path d=\"M 2631 2963 \nQ 2534 3019 2420 3045 \nQ 2306 3072 2169 3072 \nQ 1681 3072 1420 2755 \nQ 1159 2438 1159 1844 \nL 1159 0 \nL 581 0 \nL 581 3500 \nL 1159 3500 \nL 1159 2956 \nQ 1341 3275 1631 3429 \nQ 1922 3584 2338 3584 \nQ 2397 3584 2469 3576 \nQ 2541 3569 2628 3553 \nL 2631 2963 \nz\n\" id=\"DejaVuSans-72\" transform=\"scale(0.015625)\"/>\n        <path d=\"M 2194 1759 \nQ 1497 1759 1228 1600 \nQ 959 1441 959 1056 \nQ 959 750 1161 570 \nQ 1363 391 1709 391 \nQ 2188 391 2477 730 \nQ 2766 1069 2766 1631 \nL 2766 1759 \nL 2194 1759 \nz\nM 3341 1997 \nL 3341 0 \nL 2766 0 \nL 2766 531 \nQ 2569 213 2275 61 \nQ 1981 -91 1556 -91 \nQ 1019 -91 701 211 \nQ 384 513 384 1019 \nQ 384 1609 779 1909 \nQ 1175 2209 1959 2209 \nL 2766 2209 \nL 2766 2266 \nQ 2766 2663 2505 2880 \nQ 2244 3097 1772 3097 \nQ 1472 3097 1187 3025 \nQ 903 2953 641 2809 \nL 641 3341 \nQ 956 3463 1253 3523 \nQ 1550 3584 1831 3584 \nQ 2591 3584 2966 3190 \nQ 3341 2797 3341 1997 \nz\n\" id=\"DejaVuSans-61\" transform=\"scale(0.015625)\"/>\n        <path d=\"M 603 4863 \nL 1178 4863 \nL 1178 0 \nL 603 0 \nL 603 4863 \nz\n\" id=\"DejaVuSans-6c\" transform=\"scale(0.015625)\"/>\n        <path d=\"M 2034 4250 \nQ 1547 4250 1301 3770 \nQ 1056 3291 1056 2328 \nQ 1056 1369 1301 889 \nQ 1547 409 2034 409 \nQ 2525 409 2770 889 \nQ 3016 1369 3016 2328 \nQ 3016 3291 2770 3770 \nQ 2525 4250 2034 4250 \nz\nM 2034 4750 \nQ 2819 4750 3233 4129 \nQ 3647 3509 3647 2328 \nQ 3647 1150 3233 529 \nQ 2819 -91 2034 -91 \nQ 1250 -91 836 529 \nQ 422 1150 422 2328 \nQ 422 3509 836 4129 \nQ 1250 4750 2034 4750 \nz\n\" id=\"DejaVuSans-30\" transform=\"scale(0.015625)\"/>\n       </defs>\n       <use xlink:href=\"#DejaVuSans-4e\"/>\n       <use x=\"74.804688\" xlink:href=\"#DejaVuSans-65\"/>\n       <use x=\"136.328125\" xlink:href=\"#DejaVuSans-75\"/>\n       <use x=\"199.707031\" xlink:href=\"#DejaVuSans-74\"/>\n       <use x=\"238.916016\" xlink:href=\"#DejaVuSans-72\"/>\n       <use x=\"280.029297\" xlink:href=\"#DejaVuSans-61\"/>\n       <use x=\"341.308594\" xlink:href=\"#DejaVuSans-6c\"/>\n       <use x=\"369.091797\" xlink:href=\"#DejaVuSans-28\"/>\n       <use x=\"408.105469\" xlink:href=\"#DejaVuSans-30\"/>\n       <use x=\"471.728516\" xlink:href=\"#DejaVuSans-29\"/>\n      </g>\n     </g>\n    </g>\n    <g id=\"xtick_4\">\n     <g id=\"line2d_4\">\n      <g>\n       <use style=\"stroke:#000000;stroke-width:0.8;\" x=\"626.78125\" xlink:href=\"#m12fd750e38\" y=\"348.478125\"/>\n      </g>\n     </g>\n     <g id=\"text_4\">\n      <!-- Negative(-1) -->\n      <g transform=\"translate(595.453906 363.076562)scale(0.1 -0.1)\">\n       <defs>\n        <path d=\"M 2906 1791 \nQ 2906 2416 2648 2759 \nQ 2391 3103 1925 3103 \nQ 1463 3103 1205 2759 \nQ 947 2416 947 1791 \nQ 947 1169 1205 825 \nQ 1463 481 1925 481 \nQ 2391 481 2648 825 \nQ 2906 1169 2906 1791 \nz\nM 3481 434 \nQ 3481 -459 3084 -895 \nQ 2688 -1331 1869 -1331 \nQ 1566 -1331 1297 -1286 \nQ 1028 -1241 775 -1147 \nL 775 -588 \nQ 1028 -725 1275 -790 \nQ 1522 -856 1778 -856 \nQ 2344 -856 2625 -561 \nQ 2906 -266 2906 331 \nL 2906 616 \nQ 2728 306 2450 153 \nQ 2172 0 1784 0 \nQ 1141 0 747 490 \nQ 353 981 353 1791 \nQ 353 2603 747 3093 \nQ 1141 3584 1784 3584 \nQ 2172 3584 2450 3431 \nQ 2728 3278 2906 2969 \nL 2906 3500 \nL 3481 3500 \nL 3481 434 \nz\n\" id=\"DejaVuSans-67\" transform=\"scale(0.015625)\"/>\n        <path d=\"M 313 2009 \nL 1997 2009 \nL 1997 1497 \nL 313 1497 \nL 313 2009 \nz\n\" id=\"DejaVuSans-2d\" transform=\"scale(0.015625)\"/>\n       </defs>\n       <use xlink:href=\"#DejaVuSans-4e\"/>\n       <use x=\"74.804688\" xlink:href=\"#DejaVuSans-65\"/>\n       <use x=\"136.328125\" xlink:href=\"#DejaVuSans-67\"/>\n       <use x=\"199.804688\" xlink:href=\"#DejaVuSans-61\"/>\n       <use x=\"261.083984\" xlink:href=\"#DejaVuSans-74\"/>\n       <use x=\"300.292969\" xlink:href=\"#DejaVuSans-69\"/>\n       <use x=\"328.076172\" xlink:href=\"#DejaVuSans-76\"/>\n       <use x=\"387.255859\" xlink:href=\"#DejaVuSans-65\"/>\n       <use x=\"448.779297\" xlink:href=\"#DejaVuSans-28\"/>\n       <use x=\"487.792969\" xlink:href=\"#DejaVuSans-2d\"/>\n       <use x=\"523.876953\" xlink:href=\"#DejaVuSans-31\"/>\n       <use x=\"587.5\" xlink:href=\"#DejaVuSans-29\"/>\n      </g>\n     </g>\n    </g>\n    <g id=\"text_5\">\n     <!-- Sentiment -->\n     <g transform=\"translate(349.836719 376.754687)scale(0.1 -0.1)\">\n      <defs>\n       <path d=\"M 3425 4513 \nL 3425 3897 \nQ 3066 4069 2747 4153 \nQ 2428 4238 2131 4238 \nQ 1616 4238 1336 4038 \nQ 1056 3838 1056 3469 \nQ 1056 3159 1242 3001 \nQ 1428 2844 1947 2747 \nL 2328 2669 \nQ 3034 2534 3370 2195 \nQ 3706 1856 3706 1288 \nQ 3706 609 3251 259 \nQ 2797 -91 1919 -91 \nQ 1588 -91 1214 -16 \nQ 841 59 441 206 \nL 441 856 \nQ 825 641 1194 531 \nQ 1563 422 1919 422 \nQ 2459 422 2753 634 \nQ 3047 847 3047 1241 \nQ 3047 1584 2836 1778 \nQ 2625 1972 2144 2069 \nL 1759 2144 \nQ 1053 2284 737 2584 \nQ 422 2884 422 3419 \nQ 422 4038 858 4394 \nQ 1294 4750 2059 4750 \nQ 2388 4750 2728 4690 \nQ 3069 4631 3425 4513 \nz\n\" id=\"DejaVuSans-53\" transform=\"scale(0.015625)\"/>\n       <path d=\"M 3513 2113 \nL 3513 0 \nL 2938 0 \nL 2938 2094 \nQ 2938 2591 2744 2837 \nQ 2550 3084 2163 3084 \nQ 1697 3084 1428 2787 \nQ 1159 2491 1159 1978 \nL 1159 0 \nL 581 0 \nL 581 3500 \nL 1159 3500 \nL 1159 2956 \nQ 1366 3272 1645 3428 \nQ 1925 3584 2291 3584 \nQ 2894 3584 3203 3211 \nQ 3513 2838 3513 2113 \nz\n\" id=\"DejaVuSans-6e\" transform=\"scale(0.015625)\"/>\n       <path d=\"M 3328 2828 \nQ 3544 3216 3844 3400 \nQ 4144 3584 4550 3584 \nQ 5097 3584 5394 3201 \nQ 5691 2819 5691 2113 \nL 5691 0 \nL 5113 0 \nL 5113 2094 \nQ 5113 2597 4934 2840 \nQ 4756 3084 4391 3084 \nQ 3944 3084 3684 2787 \nQ 3425 2491 3425 1978 \nL 3425 0 \nL 2847 0 \nL 2847 2094 \nQ 2847 2600 2669 2842 \nQ 2491 3084 2119 3084 \nQ 1678 3084 1418 2786 \nQ 1159 2488 1159 1978 \nL 1159 0 \nL 581 0 \nL 581 3500 \nL 1159 3500 \nL 1159 2956 \nQ 1356 3278 1631 3431 \nQ 1906 3584 2284 3584 \nQ 2666 3584 2933 3390 \nQ 3200 3197 3328 2828 \nz\n\" id=\"DejaVuSans-6d\" transform=\"scale(0.015625)\"/>\n      </defs>\n      <use xlink:href=\"#DejaVuSans-53\"/>\n      <use x=\"63.476562\" xlink:href=\"#DejaVuSans-65\"/>\n      <use x=\"125\" xlink:href=\"#DejaVuSans-6e\"/>\n      <use x=\"188.378906\" xlink:href=\"#DejaVuSans-74\"/>\n      <use x=\"227.587891\" xlink:href=\"#DejaVuSans-69\"/>\n      <use x=\"255.371094\" xlink:href=\"#DejaVuSans-6d\"/>\n      <use x=\"352.783203\" xlink:href=\"#DejaVuSans-65\"/>\n      <use x=\"414.306641\" xlink:href=\"#DejaVuSans-6e\"/>\n      <use x=\"477.685547\" xlink:href=\"#DejaVuSans-74\"/>\n     </g>\n    </g>\n   </g>\n   <g id=\"matplotlib.axis_2\">\n    <g id=\"ytick_1\">\n     <g id=\"line2d_5\">\n      <defs>\n       <path d=\"M 0 0 \nL -3.5 0 \n\" id=\"m25fe866942\" style=\"stroke:#000000;stroke-width:0.8;\"/>\n      </defs>\n      <g>\n       <use style=\"stroke:#000000;stroke-width:0.8;\" x=\"40.88125\" xlink:href=\"#m25fe866942\" y=\"348.478125\"/>\n      </g>\n     </g>\n     <g id=\"text_6\">\n      <!-- 0 -->\n      <g transform=\"translate(27.51875 352.277344)scale(0.1 -0.1)\">\n       <use xlink:href=\"#DejaVuSans-30\"/>\n      </g>\n     </g>\n    </g>\n    <g id=\"ytick_2\">\n     <g id=\"line2d_6\">\n      <g>\n       <use style=\"stroke:#000000;stroke-width:0.8;\" x=\"40.88125\" xlink:href=\"#m25fe866942\" y=\"310.793907\"/>\n      </g>\n     </g>\n     <g id=\"text_7\">\n      <!-- 10 -->\n      <g transform=\"translate(21.15625 314.593125)scale(0.1 -0.1)\">\n       <use xlink:href=\"#DejaVuSans-31\"/>\n       <use x=\"63.623047\" xlink:href=\"#DejaVuSans-30\"/>\n      </g>\n     </g>\n    </g>\n    <g id=\"ytick_3\">\n     <g id=\"line2d_7\">\n      <g>\n       <use style=\"stroke:#000000;stroke-width:0.8;\" x=\"40.88125\" xlink:href=\"#m25fe866942\" y=\"273.109688\"/>\n      </g>\n     </g>\n     <g id=\"text_8\">\n      <!-- 20 -->\n      <g transform=\"translate(21.15625 276.908907)scale(0.1 -0.1)\">\n       <use xlink:href=\"#DejaVuSans-32\"/>\n       <use x=\"63.623047\" xlink:href=\"#DejaVuSans-30\"/>\n      </g>\n     </g>\n    </g>\n    <g id=\"ytick_4\">\n     <g id=\"line2d_8\">\n      <g>\n       <use style=\"stroke:#000000;stroke-width:0.8;\" x=\"40.88125\" xlink:href=\"#m25fe866942\" y=\"235.42547\"/>\n      </g>\n     </g>\n     <g id=\"text_9\">\n      <!-- 30 -->\n      <g transform=\"translate(21.15625 239.224689)scale(0.1 -0.1)\">\n       <defs>\n        <path d=\"M 2597 2516 \nQ 3050 2419 3304 2112 \nQ 3559 1806 3559 1356 \nQ 3559 666 3084 287 \nQ 2609 -91 1734 -91 \nQ 1441 -91 1130 -33 \nQ 819 25 488 141 \nL 488 750 \nQ 750 597 1062 519 \nQ 1375 441 1716 441 \nQ 2309 441 2620 675 \nQ 2931 909 2931 1356 \nQ 2931 1769 2642 2001 \nQ 2353 2234 1838 2234 \nL 1294 2234 \nL 1294 2753 \nL 1863 2753 \nQ 2328 2753 2575 2939 \nQ 2822 3125 2822 3475 \nQ 2822 3834 2567 4026 \nQ 2313 4219 1838 4219 \nQ 1578 4219 1281 4162 \nQ 984 4106 628 3988 \nL 628 4550 \nQ 988 4650 1302 4700 \nQ 1616 4750 1894 4750 \nQ 2613 4750 3031 4423 \nQ 3450 4097 3450 3541 \nQ 3450 3153 3228 2886 \nQ 3006 2619 2597 2516 \nz\n\" id=\"DejaVuSans-33\" transform=\"scale(0.015625)\"/>\n       </defs>\n       <use xlink:href=\"#DejaVuSans-33\"/>\n       <use x=\"63.623047\" xlink:href=\"#DejaVuSans-30\"/>\n      </g>\n     </g>\n    </g>\n    <g id=\"ytick_5\">\n     <g id=\"line2d_9\">\n      <g>\n       <use style=\"stroke:#000000;stroke-width:0.8;\" x=\"40.88125\" xlink:href=\"#m25fe866942\" y=\"197.741251\"/>\n      </g>\n     </g>\n     <g id=\"text_10\">\n      <!-- 40 -->\n      <g transform=\"translate(21.15625 201.54047)scale(0.1 -0.1)\">\n       <defs>\n        <path d=\"M 2419 4116 \nL 825 1625 \nL 2419 1625 \nL 2419 4116 \nz\nM 2253 4666 \nL 3047 4666 \nL 3047 1625 \nL 3713 1625 \nL 3713 1100 \nL 3047 1100 \nL 3047 0 \nL 2419 0 \nL 2419 1100 \nL 313 1100 \nL 313 1709 \nL 2253 4666 \nz\n\" id=\"DejaVuSans-34\" transform=\"scale(0.015625)\"/>\n       </defs>\n       <use xlink:href=\"#DejaVuSans-34\"/>\n       <use x=\"63.623047\" xlink:href=\"#DejaVuSans-30\"/>\n      </g>\n     </g>\n    </g>\n    <g id=\"ytick_6\">\n     <g id=\"line2d_10\">\n      <g>\n       <use style=\"stroke:#000000;stroke-width:0.8;\" x=\"40.88125\" xlink:href=\"#m25fe866942\" y=\"160.057033\"/>\n      </g>\n     </g>\n     <g id=\"text_11\">\n      <!-- 50 -->\n      <g transform=\"translate(21.15625 163.856252)scale(0.1 -0.1)\">\n       <defs>\n        <path d=\"M 691 4666 \nL 3169 4666 \nL 3169 4134 \nL 1269 4134 \nL 1269 2991 \nQ 1406 3038 1543 3061 \nQ 1681 3084 1819 3084 \nQ 2600 3084 3056 2656 \nQ 3513 2228 3513 1497 \nQ 3513 744 3044 326 \nQ 2575 -91 1722 -91 \nQ 1428 -91 1123 -41 \nQ 819 9 494 109 \nL 494 744 \nQ 775 591 1075 516 \nQ 1375 441 1709 441 \nQ 2250 441 2565 725 \nQ 2881 1009 2881 1497 \nQ 2881 1984 2565 2268 \nQ 2250 2553 1709 2553 \nQ 1456 2553 1204 2497 \nQ 953 2441 691 2322 \nL 691 4666 \nz\n\" id=\"DejaVuSans-35\" transform=\"scale(0.015625)\"/>\n       </defs>\n       <use xlink:href=\"#DejaVuSans-35\"/>\n       <use x=\"63.623047\" xlink:href=\"#DejaVuSans-30\"/>\n      </g>\n     </g>\n    </g>\n    <g id=\"ytick_7\">\n     <g id=\"line2d_11\">\n      <g>\n       <use style=\"stroke:#000000;stroke-width:0.8;\" x=\"40.88125\" xlink:href=\"#m25fe866942\" y=\"122.372815\"/>\n      </g>\n     </g>\n     <g id=\"text_12\">\n      <!-- 60 -->\n      <g transform=\"translate(21.15625 126.172033)scale(0.1 -0.1)\">\n       <defs>\n        <path d=\"M 2113 2584 \nQ 1688 2584 1439 2293 \nQ 1191 2003 1191 1497 \nQ 1191 994 1439 701 \nQ 1688 409 2113 409 \nQ 2538 409 2786 701 \nQ 3034 994 3034 1497 \nQ 3034 2003 2786 2293 \nQ 2538 2584 2113 2584 \nz\nM 3366 4563 \nL 3366 3988 \nQ 3128 4100 2886 4159 \nQ 2644 4219 2406 4219 \nQ 1781 4219 1451 3797 \nQ 1122 3375 1075 2522 \nQ 1259 2794 1537 2939 \nQ 1816 3084 2150 3084 \nQ 2853 3084 3261 2657 \nQ 3669 2231 3669 1497 \nQ 3669 778 3244 343 \nQ 2819 -91 2113 -91 \nQ 1303 -91 875 529 \nQ 447 1150 447 2328 \nQ 447 3434 972 4092 \nQ 1497 4750 2381 4750 \nQ 2619 4750 2861 4703 \nQ 3103 4656 3366 4563 \nz\n\" id=\"DejaVuSans-36\" transform=\"scale(0.015625)\"/>\n       </defs>\n       <use xlink:href=\"#DejaVuSans-36\"/>\n       <use x=\"63.623047\" xlink:href=\"#DejaVuSans-30\"/>\n      </g>\n     </g>\n    </g>\n    <g id=\"ytick_8\">\n     <g id=\"line2d_12\">\n      <g>\n       <use style=\"stroke:#000000;stroke-width:0.8;\" x=\"40.88125\" xlink:href=\"#m25fe866942\" y=\"84.688596\"/>\n      </g>\n     </g>\n     <g id=\"text_13\">\n      <!-- 70 -->\n      <g transform=\"translate(21.15625 88.487815)scale(0.1 -0.1)\">\n       <defs>\n        <path d=\"M 525 4666 \nL 3525 4666 \nL 3525 4397 \nL 1831 0 \nL 1172 0 \nL 2766 4134 \nL 525 4134 \nL 525 4666 \nz\n\" id=\"DejaVuSans-37\" transform=\"scale(0.015625)\"/>\n       </defs>\n       <use xlink:href=\"#DejaVuSans-37\"/>\n       <use x=\"63.623047\" xlink:href=\"#DejaVuSans-30\"/>\n      </g>\n     </g>\n    </g>\n    <g id=\"ytick_9\">\n     <g id=\"line2d_13\">\n      <g>\n       <use style=\"stroke:#000000;stroke-width:0.8;\" x=\"40.88125\" xlink:href=\"#m25fe866942\" y=\"47.004378\"/>\n      </g>\n     </g>\n     <g id=\"text_14\">\n      <!-- 80 -->\n      <g transform=\"translate(21.15625 50.803597)scale(0.1 -0.1)\">\n       <defs>\n        <path d=\"M 2034 2216 \nQ 1584 2216 1326 1975 \nQ 1069 1734 1069 1313 \nQ 1069 891 1326 650 \nQ 1584 409 2034 409 \nQ 2484 409 2743 651 \nQ 3003 894 3003 1313 \nQ 3003 1734 2745 1975 \nQ 2488 2216 2034 2216 \nz\nM 1403 2484 \nQ 997 2584 770 2862 \nQ 544 3141 544 3541 \nQ 544 4100 942 4425 \nQ 1341 4750 2034 4750 \nQ 2731 4750 3128 4425 \nQ 3525 4100 3525 3541 \nQ 3525 3141 3298 2862 \nQ 3072 2584 2669 2484 \nQ 3125 2378 3379 2068 \nQ 3634 1759 3634 1313 \nQ 3634 634 3220 271 \nQ 2806 -91 2034 -91 \nQ 1263 -91 848 271 \nQ 434 634 434 1313 \nQ 434 1759 690 2068 \nQ 947 2378 1403 2484 \nz\nM 1172 3481 \nQ 1172 3119 1398 2916 \nQ 1625 2713 2034 2713 \nQ 2441 2713 2670 2916 \nQ 2900 3119 2900 3481 \nQ 2900 3844 2670 4047 \nQ 2441 4250 2034 4250 \nQ 1625 4250 1398 4047 \nQ 1172 3844 1172 3481 \nz\n\" id=\"DejaVuSans-38\" transform=\"scale(0.015625)\"/>\n       </defs>\n       <use xlink:href=\"#DejaVuSans-38\"/>\n       <use x=\"63.623047\" xlink:href=\"#DejaVuSans-30\"/>\n      </g>\n     </g>\n    </g>\n    <g id=\"text_15\">\n     <!-- avg_Length -->\n     <g transform=\"translate(14.798437 214.342656)rotate(-90)scale(0.1 -0.1)\">\n      <defs>\n       <path d=\"M 3263 -1063 \nL 3263 -1509 \nL -63 -1509 \nL -63 -1063 \nL 3263 -1063 \nz\n\" id=\"DejaVuSans-5f\" transform=\"scale(0.015625)\"/>\n       <path d=\"M 628 4666 \nL 1259 4666 \nL 1259 531 \nL 3531 531 \nL 3531 0 \nL 628 0 \nL 628 4666 \nz\n\" id=\"DejaVuSans-4c\" transform=\"scale(0.015625)\"/>\n       <path d=\"M 3513 2113 \nL 3513 0 \nL 2938 0 \nL 2938 2094 \nQ 2938 2591 2744 2837 \nQ 2550 3084 2163 3084 \nQ 1697 3084 1428 2787 \nQ 1159 2491 1159 1978 \nL 1159 0 \nL 581 0 \nL 581 4863 \nL 1159 4863 \nL 1159 2956 \nQ 1366 3272 1645 3428 \nQ 1925 3584 2291 3584 \nQ 2894 3584 3203 3211 \nQ 3513 2838 3513 2113 \nz\n\" id=\"DejaVuSans-68\" transform=\"scale(0.015625)\"/>\n      </defs>\n      <use xlink:href=\"#DejaVuSans-61\"/>\n      <use x=\"61.279297\" xlink:href=\"#DejaVuSans-76\"/>\n      <use x=\"120.458984\" xlink:href=\"#DejaVuSans-67\"/>\n      <use x=\"183.935547\" xlink:href=\"#DejaVuSans-5f\"/>\n      <use x=\"233.935547\" xlink:href=\"#DejaVuSans-4c\"/>\n      <use x=\"287.898438\" xlink:href=\"#DejaVuSans-65\"/>\n      <use x=\"349.421875\" xlink:href=\"#DejaVuSans-6e\"/>\n      <use x=\"412.800781\" xlink:href=\"#DejaVuSans-67\"/>\n      <use x=\"476.277344\" xlink:href=\"#DejaVuSans-74\"/>\n      <use x=\"515.486328\" xlink:href=\"#DejaVuSans-68\"/>\n     </g>\n    </g>\n   </g>\n   <g id=\"line2d_14\">\n    <path clip-path=\"url(#pc6746c5aab)\" d=\"M 124.58125 40.880659 \nL 124.58125 37.849554 \n\" style=\"fill:none;stroke:#424242;stroke-linecap:square;stroke-width:2.7;\"/>\n   </g>\n   <g id=\"line2d_15\">\n    <path clip-path=\"url(#pc6746c5aab)\" d=\"M 291.98125 71.666059 \nL 291.98125 67.423064 \n\" style=\"fill:none;stroke:#424242;stroke-linecap:square;stroke-width:2.7;\"/>\n   </g>\n   <g id=\"line2d_16\">\n    <path clip-path=\"url(#pc6746c5aab)\" d=\"M 459.38125 79.513582 \nL 459.38125 72.210964 \n\" style=\"fill:none;stroke:#424242;stroke-linecap:square;stroke-width:2.7;\"/>\n   </g>\n   <g id=\"line2d_17\">\n    <path clip-path=\"url(#pc6746c5aab)\" d=\"M 626.78125 49.066397 \nL 626.78125 41.027387 \n\" style=\"fill:none;stroke:#424242;stroke-linecap:square;stroke-width:2.7;\"/>\n   </g>\n   <g id=\"patch_7\">\n    <path d=\"M 40.88125 348.478125 \nL 40.88125 22.318125 \n\" style=\"fill:none;stroke:#000000;stroke-linecap:square;stroke-linejoin:miter;stroke-width:0.8;\"/>\n   </g>\n   <g id=\"patch_8\">\n    <path d=\"M 710.48125 348.478125 \nL 710.48125 22.318125 \n\" style=\"fill:none;stroke:#000000;stroke-linecap:square;stroke-linejoin:miter;stroke-width:0.8;\"/>\n   </g>\n   <g id=\"patch_9\">\n    <path d=\"M 40.88125 348.478125 \nL 710.48125 348.478125 \n\" style=\"fill:none;stroke:#000000;stroke-linecap:square;stroke-linejoin:miter;stroke-width:0.8;\"/>\n   </g>\n   <g id=\"patch_10\">\n    <path d=\"M 40.88125 22.318125 \nL 710.48125 22.318125 \n\" style=\"fill:none;stroke:#000000;stroke-linecap:square;stroke-linejoin:miter;stroke-width:0.8;\"/>\n   </g>\n   <g id=\"text_16\">\n    <!-- Average Length of Cleaned_Message by Sentiment -->\n    <g transform=\"translate(222.8275 16.318125)scale(0.12 -0.12)\">\n     <defs>\n      <path d=\"M 2188 4044 \nL 1331 1722 \nL 3047 1722 \nL 2188 4044 \nz\nM 1831 4666 \nL 2547 4666 \nL 4325 0 \nL 3669 0 \nL 3244 1197 \nL 1141 1197 \nL 716 0 \nL 50 0 \nL 1831 4666 \nz\n\" id=\"DejaVuSans-41\" transform=\"scale(0.015625)\"/>\n      <path id=\"DejaVuSans-20\" transform=\"scale(0.015625)\"/>\n      <path d=\"M 2375 4863 \nL 2375 4384 \nL 1825 4384 \nQ 1516 4384 1395 4259 \nQ 1275 4134 1275 3809 \nL 1275 3500 \nL 2222 3500 \nL 2222 3053 \nL 1275 3053 \nL 1275 0 \nL 697 0 \nL 697 3053 \nL 147 3053 \nL 147 3500 \nL 697 3500 \nL 697 3744 \nQ 697 4328 969 4595 \nQ 1241 4863 1831 4863 \nL 2375 4863 \nz\n\" id=\"DejaVuSans-66\" transform=\"scale(0.015625)\"/>\n      <path d=\"M 4122 4306 \nL 4122 3641 \nQ 3803 3938 3442 4084 \nQ 3081 4231 2675 4231 \nQ 1875 4231 1450 3742 \nQ 1025 3253 1025 2328 \nQ 1025 1406 1450 917 \nQ 1875 428 2675 428 \nQ 3081 428 3442 575 \nQ 3803 722 4122 1019 \nL 4122 359 \nQ 3791 134 3420 21 \nQ 3050 -91 2638 -91 \nQ 1578 -91 968 557 \nQ 359 1206 359 2328 \nQ 359 3453 968 4101 \nQ 1578 4750 2638 4750 \nQ 3056 4750 3426 4639 \nQ 3797 4528 4122 4306 \nz\n\" id=\"DejaVuSans-43\" transform=\"scale(0.015625)\"/>\n      <path d=\"M 2906 2969 \nL 2906 4863 \nL 3481 4863 \nL 3481 0 \nL 2906 0 \nL 2906 525 \nQ 2725 213 2448 61 \nQ 2172 -91 1784 -91 \nQ 1150 -91 751 415 \nQ 353 922 353 1747 \nQ 353 2572 751 3078 \nQ 1150 3584 1784 3584 \nQ 2172 3584 2448 3432 \nQ 2725 3281 2906 2969 \nz\nM 947 1747 \nQ 947 1113 1208 752 \nQ 1469 391 1925 391 \nQ 2381 391 2643 752 \nQ 2906 1113 2906 1747 \nQ 2906 2381 2643 2742 \nQ 2381 3103 1925 3103 \nQ 1469 3103 1208 2742 \nQ 947 2381 947 1747 \nz\n\" id=\"DejaVuSans-64\" transform=\"scale(0.015625)\"/>\n      <path d=\"M 628 4666 \nL 1569 4666 \nL 2759 1491 \nL 3956 4666 \nL 4897 4666 \nL 4897 0 \nL 4281 0 \nL 4281 4097 \nL 3078 897 \nL 2444 897 \nL 1241 4097 \nL 1241 0 \nL 628 0 \nL 628 4666 \nz\n\" id=\"DejaVuSans-4d\" transform=\"scale(0.015625)\"/>\n      <path d=\"M 3116 1747 \nQ 3116 2381 2855 2742 \nQ 2594 3103 2138 3103 \nQ 1681 3103 1420 2742 \nQ 1159 2381 1159 1747 \nQ 1159 1113 1420 752 \nQ 1681 391 2138 391 \nQ 2594 391 2855 752 \nQ 3116 1113 3116 1747 \nz\nM 1159 2969 \nQ 1341 3281 1617 3432 \nQ 1894 3584 2278 3584 \nQ 2916 3584 3314 3078 \nQ 3713 2572 3713 1747 \nQ 3713 922 3314 415 \nQ 2916 -91 2278 -91 \nQ 1894 -91 1617 61 \nQ 1341 213 1159 525 \nL 1159 0 \nL 581 0 \nL 581 4863 \nL 1159 4863 \nL 1159 2969 \nz\n\" id=\"DejaVuSans-62\" transform=\"scale(0.015625)\"/>\n      <path d=\"M 2059 -325 \nQ 1816 -950 1584 -1140 \nQ 1353 -1331 966 -1331 \nL 506 -1331 \nL 506 -850 \nL 844 -850 \nQ 1081 -850 1212 -737 \nQ 1344 -625 1503 -206 \nL 1606 56 \nL 191 3500 \nL 800 3500 \nL 1894 763 \nL 2988 3500 \nL 3597 3500 \nL 2059 -325 \nz\n\" id=\"DejaVuSans-79\" transform=\"scale(0.015625)\"/>\n     </defs>\n     <use xlink:href=\"#DejaVuSans-41\"/>\n     <use x=\"62.533203\" xlink:href=\"#DejaVuSans-76\"/>\n     <use x=\"121.712891\" xlink:href=\"#DejaVuSans-65\"/>\n     <use x=\"183.236328\" xlink:href=\"#DejaVuSans-72\"/>\n     <use x=\"224.349609\" xlink:href=\"#DejaVuSans-61\"/>\n     <use x=\"285.628906\" xlink:href=\"#DejaVuSans-67\"/>\n     <use x=\"349.105469\" xlink:href=\"#DejaVuSans-65\"/>\n     <use x=\"410.628906\" xlink:href=\"#DejaVuSans-20\"/>\n     <use x=\"442.416016\" xlink:href=\"#DejaVuSans-4c\"/>\n     <use x=\"496.378906\" xlink:href=\"#DejaVuSans-65\"/>\n     <use x=\"557.902344\" xlink:href=\"#DejaVuSans-6e\"/>\n     <use x=\"621.28125\" xlink:href=\"#DejaVuSans-67\"/>\n     <use x=\"684.757812\" xlink:href=\"#DejaVuSans-74\"/>\n     <use x=\"723.966797\" xlink:href=\"#DejaVuSans-68\"/>\n     <use x=\"787.345703\" xlink:href=\"#DejaVuSans-20\"/>\n     <use x=\"819.132812\" xlink:href=\"#DejaVuSans-6f\"/>\n     <use x=\"880.314453\" xlink:href=\"#DejaVuSans-66\"/>\n     <use x=\"915.519531\" xlink:href=\"#DejaVuSans-20\"/>\n     <use x=\"947.306641\" xlink:href=\"#DejaVuSans-43\"/>\n     <use x=\"1017.130859\" xlink:href=\"#DejaVuSans-6c\"/>\n     <use x=\"1044.914062\" xlink:href=\"#DejaVuSans-65\"/>\n     <use x=\"1106.4375\" xlink:href=\"#DejaVuSans-61\"/>\n     <use x=\"1167.716797\" xlink:href=\"#DejaVuSans-6e\"/>\n     <use x=\"1231.095703\" xlink:href=\"#DejaVuSans-65\"/>\n     <use x=\"1292.619141\" xlink:href=\"#DejaVuSans-64\"/>\n     <use x=\"1356.095703\" xlink:href=\"#DejaVuSans-5f\"/>\n     <use x=\"1406.095703\" xlink:href=\"#DejaVuSans-4d\"/>\n     <use x=\"1492.375\" xlink:href=\"#DejaVuSans-65\"/>\n     <use x=\"1553.898438\" xlink:href=\"#DejaVuSans-73\"/>\n     <use x=\"1605.998047\" xlink:href=\"#DejaVuSans-73\"/>\n     <use x=\"1658.097656\" xlink:href=\"#DejaVuSans-61\"/>\n     <use x=\"1719.376953\" xlink:href=\"#DejaVuSans-67\"/>\n     <use x=\"1782.853516\" xlink:href=\"#DejaVuSans-65\"/>\n     <use x=\"1844.376953\" xlink:href=\"#DejaVuSans-20\"/>\n     <use x=\"1876.164062\" xlink:href=\"#DejaVuSans-62\"/>\n     <use x=\"1939.640625\" xlink:href=\"#DejaVuSans-79\"/>\n     <use x=\"1998.820312\" xlink:href=\"#DejaVuSans-20\"/>\n     <use x=\"2030.607422\" xlink:href=\"#DejaVuSans-53\"/>\n     <use x=\"2094.083984\" xlink:href=\"#DejaVuSans-65\"/>\n     <use x=\"2155.607422\" xlink:href=\"#DejaVuSans-6e\"/>\n     <use x=\"2218.986328\" xlink:href=\"#DejaVuSans-74\"/>\n     <use x=\"2258.195312\" xlink:href=\"#DejaVuSans-69\"/>\n     <use x=\"2285.978516\" xlink:href=\"#DejaVuSans-6d\"/>\n     <use x=\"2383.390625\" xlink:href=\"#DejaVuSans-65\"/>\n     <use x=\"2444.914062\" xlink:href=\"#DejaVuSans-6e\"/>\n     <use x=\"2508.292969\" xlink:href=\"#DejaVuSans-74\"/>\n    </g>\n   </g>\n  </g>\n </g>\n <defs>\n  <clipPath id=\"pc6746c5aab\">\n   <rect height=\"326.16\" width=\"669.6\" x=\"40.88125\" y=\"22.318125\"/>\n  </clipPath>\n </defs>\n</svg>\n",
      "image/png": "[encoded data removed]"
     },
     "metadata": {
      "needs_background": "light"
     }
    }
   ],
   "source": [
    "# avarage length of words per sentiment category\n",
    "plt.figure(figsize=(12,6))\n",
    "sns.barplot(x='class_label', y=df['clean_message'].apply(len) ,data = df, palette='Blues_d')\n",
    "plt.ylabel('avg_Length')\n",
    "plt.xlabel('Sentiment')\n",
    "plt.title('Average Length of Cleaned_Message by Sentiment')\n",
    "plt.show()"
   ]
  },
  {
   "cell_type": "code",
   "execution_count": 37,
   "metadata": {},
   "outputs": [
    {
     "output_type": "execute_result",
     "data": {
      "text/plain": [
       "             tweetid  length_tweet  word_count\n",
       "sentiment                                     \n",
       "-1         499169.45         80.51       10.87\n",
       " 0         496550.25         72.33        9.80\n",
       " 1         507418.55         82.04       10.87\n",
       " 2         492613.50         74.04        9.98"
      ],
      "text/html": "<div>\n<style scoped>\n    .dataframe tbody tr th:only-of-type {\n        vertical-align: middle;\n    }\n\n    .dataframe tbody tr th {\n        vertical-align: top;\n    }\n\n    .dataframe thead th {\n        text-align: right;\n    }\n</style>\n<table border=\"1\" class=\"dataframe\">\n  <thead>\n    <tr style=\"text-align: right;\">\n      <th></th>\n      <th>tweetid</th>\n      <th>length_tweet</th>\n      <th>word_count</th>\n    </tr>\n    <tr>\n      <th>sentiment</th>\n      <th></th>\n      <th></th>\n      <th></th>\n    </tr>\n  </thead>\n  <tbody>\n    <tr>\n      <th>-1</th>\n      <td>499169.45</td>\n      <td>80.51</td>\n      <td>10.87</td>\n    </tr>\n    <tr>\n      <th>0</th>\n      <td>496550.25</td>\n      <td>72.33</td>\n      <td>9.80</td>\n    </tr>\n    <tr>\n      <th>1</th>\n      <td>507418.55</td>\n      <td>82.04</td>\n      <td>10.87</td>\n    </tr>\n    <tr>\n      <th>2</th>\n      <td>492613.50</td>\n      <td>74.04</td>\n      <td>9.98</td>\n    </tr>\n  </tbody>\n</table>\n</div>"
     },
     "metadata": {},
     "execution_count": 37
    }
   ],
   "source": [
    "#View of average length of tweet\n",
    "\n",
    "rel = df.groupby('sentiment').mean()\n",
    "round(rel,2)"
   ]
  },
  {
   "cell_type": "markdown",
   "metadata": {},
   "source": [
    "### Observations:\n",
    " - On avarage tweet length is between 70 - 80 words for each sentiment category"
   ]
  },
  {
   "cell_type": "markdown",
   "metadata": {},
   "source": [
    "## Most Common words in our Target-Selected Message"
   ]
  },
  {
   "cell_type": "code",
   "execution_count": 52,
   "metadata": {},
   "outputs": [
    {
     "output_type": "execute_result",
     "data": {
      "text/plain": [
       "<pandas.io.formats.style.Styler at 0x7fecf0456cd0>"
      ],
      "text/html": "<style  type=\"text/css\" >\n#T_19bf7_row0_col1{\n            background-color:  #08306b;\n            color:  #f1f1f1;\n        }#T_19bf7_row1_col1{\n            background-color:  #083776;\n            color:  #f1f1f1;\n        }#T_19bf7_row2_col1{\n            background-color:  #c1d9ed;\n            color:  #000000;\n        }#T_19bf7_row3_col1{\n            background-color:  #c7dbef;\n            color:  #000000;\n        }#T_19bf7_row4_col1{\n            background-color:  #d9e7f5;\n            color:  #000000;\n        }#T_19bf7_row5_col1{\n            background-color:  #ecf4fb;\n            color:  #000000;\n        }#T_19bf7_row6_col1{\n            background-color:  #eff6fc;\n            color:  #000000;\n        }#T_19bf7_row7_col1,#T_19bf7_row8_col1{\n            background-color:  #f2f8fd;\n            color:  #000000;\n        }#T_19bf7_row9_col1{\n            background-color:  #f3f8fe;\n            color:  #000000;\n        }#T_19bf7_row10_col1{\n            background-color:  #f4f9fe;\n            color:  #000000;\n        }#T_19bf7_row11_col1{\n            background-color:  #f5f9fe;\n            color:  #000000;\n        }#T_19bf7_row12_col1,#T_19bf7_row13_col1,#T_19bf7_row14_col1{\n            background-color:  #f5fafe;\n            color:  #000000;\n        }#T_19bf7_row15_col1,#T_19bf7_row16_col1,#T_19bf7_row17_col1{\n            background-color:  #f6faff;\n            color:  #000000;\n        }#T_19bf7_row18_col1,#T_19bf7_row19_col1{\n            background-color:  #f7fbff;\n            color:  #000000;\n        }</style><table id=\"T_19bf7_\" ><thead>    <tr>        <th class=\"blank level0\" ></th>        <th class=\"col_heading level0 col0\" >Common_words</th>        <th class=\"col_heading level0 col1\" >count</th>    </tr></thead><tbody>\n                <tr>\n                        <th id=\"T_19bf7_level0_row0\" class=\"row_heading level0 row0\" >0</th>\n                        <td id=\"T_19bf7_row0_col0\" class=\"data row0 col0\" >climate</td>\n                        <td id=\"T_19bf7_row0_col1\" class=\"data row0 col1\" >13019</td>\n            </tr>\n            <tr>\n                        <th id=\"T_19bf7_level0_row1\" class=\"row_heading level0 row1\" >1</th>\n                        <td id=\"T_19bf7_row1_col0\" class=\"data row1 col0\" >change</td>\n                        <td id=\"T_19bf7_row1_col1\" class=\"data row1 col1\" >12645</td>\n            </tr>\n            <tr>\n                        <th id=\"T_19bf7_level0_row2\" class=\"row_heading level0 row2\" >2</th>\n                        <td id=\"T_19bf7_row2_col0\" class=\"data row2 col0\" >global</td>\n                        <td id=\"T_19bf7_row2_col1\" class=\"data row2 col1\" >3796</td>\n            </tr>\n            <tr>\n                        <th id=\"T_19bf7_level0_row3\" class=\"row_heading level0 row3\" >3</th>\n                        <td id=\"T_19bf7_row3_col0\" class=\"data row3 col0\" >warming</td>\n                        <td id=\"T_19bf7_row3_col1\" class=\"data row3 col1\" >3534</td>\n            </tr>\n            <tr>\n                        <th id=\"T_19bf7_level0_row4\" class=\"row_heading level0 row4\" >4</th>\n                        <td id=\"T_19bf7_row4_col0\" class=\"data row4 col0\" >trump</td>\n                        <td id=\"T_19bf7_row4_col1\" class=\"data row4 col1\" >2387</td>\n            </tr>\n            <tr>\n                        <th id=\"T_19bf7_level0_row5\" class=\"row_heading level0 row5\" >5</th>\n                        <td id=\"T_19bf7_row5_col0\" class=\"data row5 col0\" >believe</td>\n                        <td id=\"T_19bf7_row5_col1\" class=\"data row5 col1\" >1158</td>\n            </tr>\n            <tr>\n                        <th id=\"T_19bf7_level0_row6\" class=\"row_heading level0 row6\" >6</th>\n                        <td id=\"T_19bf7_row6_col0\" class=\"data row6 col0\" >amp</td>\n                        <td id=\"T_19bf7_row6_col1\" class=\"data row6 col1\" >940</td>\n            </tr>\n            <tr>\n                        <th id=\"T_19bf7_level0_row7\" class=\"row_heading level0 row7\" >7</th>\n                        <td id=\"T_19bf7_row7_col0\" class=\"data row7 col0\" >world</td>\n                        <td id=\"T_19bf7_row7_col1\" class=\"data row7 col1\" >732</td>\n            </tr>\n            <tr>\n                        <th id=\"T_19bf7_level0_row8\" class=\"row_heading level0 row8\" >8</th>\n                        <td id=\"T_19bf7_row8_col0\" class=\"data row8 col0\" >real</td>\n                        <td id=\"T_19bf7_row8_col1\" class=\"data row8 col1\" >720</td>\n            </tr>\n            <tr>\n                        <th id=\"T_19bf7_level0_row9\" class=\"row_heading level0 row9\" >9</th>\n                        <td id=\"T_19bf7_row9_col0\" class=\"data row9 col0\" >going</td>\n                        <td id=\"T_19bf7_row9_col1\" class=\"data row9 col1\" >670</td>\n            </tr>\n            <tr>\n                        <th id=\"T_19bf7_level0_row10\" class=\"row_heading level0 row10\" >10</th>\n                        <td id=\"T_19bf7_row10_col0\" class=\"data row10 col0\" >people</td>\n                        <td id=\"T_19bf7_row10_col1\" class=\"data row10 col1\" >618</td>\n            </tr>\n            <tr>\n                        <th id=\"T_19bf7_level0_row11\" class=\"row_heading level0 row11\" >11</th>\n                        <td id=\"T_19bf7_row11_col0\" class=\"data row11 col0\" >epa</td>\n                        <td id=\"T_19bf7_row11_col1\" class=\"data row11 col1\" >600</td>\n            </tr>\n            <tr>\n                        <th id=\"T_19bf7_level0_row12\" class=\"row_heading level0 row12\" >12</th>\n                        <td id=\"T_19bf7_row12_col0\" class=\"data row12 col0\" >president</td>\n                        <td id=\"T_19bf7_row12_col1\" class=\"data row12 col1\" >567</td>\n            </tr>\n            <tr>\n                        <th id=\"T_19bf7_level0_row13\" class=\"row_heading level0 row13\" >13</th>\n                        <td id=\"T_19bf7_row13_col0\" class=\"data row13 col0\" >new</td>\n                        <td id=\"T_19bf7_row13_col1\" class=\"data row13 col1\" >542</td>\n            </tr>\n            <tr>\n                        <th id=\"T_19bf7_level0_row14\" class=\"row_heading level0 row14\" >14</th>\n                        <td id=\"T_19bf7_row14_col0\" class=\"data row14 col0\" >via</td>\n                        <td id=\"T_19bf7_row14_col1\" class=\"data row14 col1\" >540</td>\n            </tr>\n            <tr>\n                        <th id=\"T_19bf7_level0_row15\" class=\"row_heading level0 row15\" >15</th>\n                        <td id=\"T_19bf7_row15_col0\" class=\"data row15 col0\" >science</td>\n                        <td id=\"T_19bf7_row15_col1\" class=\"data row15 col1\" >481</td>\n            </tr>\n            <tr>\n                        <th id=\"T_19bf7_level0_row16\" class=\"row_heading level0 row16\" >16</th>\n                        <td id=\"T_19bf7_row16_col0\" class=\"data row16 col0\" >fight</td>\n                        <td id=\"T_19bf7_row16_col1\" class=\"data row16 col1\" >474</td>\n            </tr>\n            <tr>\n                        <th id=\"T_19bf7_level0_row17\" class=\"row_heading level0 row17\" >17</th>\n                        <td id=\"T_19bf7_row17_col0\" class=\"data row17 col0\" >like</td>\n                        <td id=\"T_19bf7_row17_col1\" class=\"data row17 col1\" >473</td>\n            </tr>\n            <tr>\n                        <th id=\"T_19bf7_level0_row18\" class=\"row_heading level0 row18\" >18</th>\n                        <td id=\"T_19bf7_row18_col0\" class=\"data row18 col0\" >says</td>\n                        <td id=\"T_19bf7_row18_col1\" class=\"data row18 col1\" >430</td>\n            </tr>\n            <tr>\n                        <th id=\"T_19bf7_level0_row19\" class=\"row_heading level0 row19\" >19</th>\n                        <td id=\"T_19bf7_row19_col0\" class=\"data row19 col0\" >die</td>\n                        <td id=\"T_19bf7_row19_col1\" class=\"data row19 col1\" >421</td>\n            </tr>\n    </tbody></table>"
     },
     "metadata": {},
     "execution_count": 52
    }
   ],
   "source": [
    "\n",
    "df['new_lis'] = df['clean_message'].apply(lambda x:str(x).split())\n",
    "words = Counter([item for sublist in df['new_lis'] for item in sublist])\n",
    "new = pd.DataFrame(words.most_common(20))\n",
    "new.columns = ['Common_words','count']\n",
    "new.style.background_gradient(cmap='Blues')"
   ]
  },
  {
   "cell_type": "code",
   "execution_count": 64,
   "metadata": {},
   "outputs": [
    {
     "output_type": "display_data",
     "data": {
      "application/vnd.plotly.v1+json": {
       "config": {
        "plotlyServerURL": "https://plot.ly"
       },
       "data": [
        {
         "alignmentgroup": "True",
         "hovertemplate": "count=%{x}<br>Common_words=%{y}<extra></extra>",
         "legendgroup": "",
         "marker": {
          "color": "blue"
         },
         "name": "",
         "offsetgroup": "",
         "orientation": "h",
         "showlegend": false,
         "textposition": "auto",
         "type": "bar",
         "x": [
          13019,
          12645,
          3796,
          3534,
          2387,
          1158,
          940,
          732,
          720,
          670,
          618,
          600,
          567,
          542,
          540,
          481,
          474,
          473,
          430,
          421
         ],
         "xaxis": "x",
         "y": [
          "climate",
          "change",
          "global",
          "warming",
          "trump",
          "believe",
          "amp",
          "world",
          "real",
          "going",
          "people",
          "epa",
          "president",
          "new",
          "via",
          "science",
          "fight",
          "like",
          "says",
          "die"
         ],
         "yaxis": "y"
        }
       ],
       "layout": {
        "barmode": "relative",
        "height": 600,
        "legend": {
         "tracegroupgap": 0
        },
        "template": {
         "data": {
          "bar": [
           {
            "error_x": {
             "color": "#2a3f5f"
            },
            "error_y": {
             "color": "#2a3f5f"
            },
            "marker": {
             "line": {
              "color": "#E5ECF6",
              "width": 0.5
             }
            },
            "type": "bar"
           }
          ],
          "barpolar": [
           {
            "marker": {
             "line": {
              "color": "#E5ECF6",
              "width": 0.5
             }
            },
            "type": "barpolar"
           }
          ],
          "carpet": [
           {
            "aaxis": {
             "endlinecolor": "#2a3f5f",
             "gridcolor": "white",
             "linecolor": "white",
             "minorgridcolor": "white",
             "startlinecolor": "#2a3f5f"
            },
            "baxis": {
             "endlinecolor": "#2a3f5f",
             "gridcolor": "white",
             "linecolor": "white",
             "minorgridcolor": "white",
             "startlinecolor": "#2a3f5f"
            },
            "type": "carpet"
           }
          ],
          "choropleth": [
           {
            "colorbar": {
             "outlinewidth": 0,
             "ticks": ""
            },
            "type": "choropleth"
           }
          ],
          "contour": [
           {
            "colorbar": {
             "outlinewidth": 0,
             "ticks": ""
            },
            "colorscale": [
             [
              0,
              "#0d0887"
             ],
             [
              0.1111111111111111,
              "#46039f"
             ],
             [
              0.2222222222222222,
              "#7201a8"
             ],
             [
              0.3333333333333333,
              "#9c179e"
             ],
             [
              0.4444444444444444,
              "#bd3786"
             ],
             [
              0.5555555555555556,
              "#d8576b"
             ],
             [
              0.6666666666666666,
              "#ed7953"
             ],
             [
              0.7777777777777778,
              "#fb9f3a"
             ],
             [
              0.8888888888888888,
              "#fdca26"
             ],
             [
              1,
              "#f0f921"
             ]
            ],
            "type": "contour"
           }
          ],
          "contourcarpet": [
           {
            "colorbar": {
             "outlinewidth": 0,
             "ticks": ""
            },
            "type": "contourcarpet"
           }
          ],
          "heatmap": [
           {
            "colorbar": {
             "outlinewidth": 0,
             "ticks": ""
            },
            "colorscale": [
             [
              0,
              "#0d0887"
             ],
             [
              0.1111111111111111,
              "#46039f"
             ],
             [
              0.2222222222222222,
              "#7201a8"
             ],
             [
              0.3333333333333333,
              "#9c179e"
             ],
             [
              0.4444444444444444,
              "#bd3786"
             ],
             [
              0.5555555555555556,
              "#d8576b"
             ],
             [
              0.6666666666666666,
              "#ed7953"
             ],
             [
              0.7777777777777778,
              "#fb9f3a"
             ],
             [
              0.8888888888888888,
              "#fdca26"
             ],
             [
              1,
              "#f0f921"
             ]
            ],
            "type": "heatmap"
           }
          ],
          "heatmapgl": [
           {
            "colorbar": {
             "outlinewidth": 0,
             "ticks": ""
            },
            "colorscale": [
             [
              0,
              "#0d0887"
             ],
             [
              0.1111111111111111,
              "#46039f"
             ],
             [
              0.2222222222222222,
              "#7201a8"
             ],
             [
              0.3333333333333333,
              "#9c179e"
             ],
             [
              0.4444444444444444,
              "#bd3786"
             ],
             [
              0.5555555555555556,
              "#d8576b"
             ],
             [
              0.6666666666666666,
              "#ed7953"
             ],
             [
              0.7777777777777778,
              "#fb9f3a"
             ],
             [
              0.8888888888888888,
              "#fdca26"
             ],
             [
              1,
              "#f0f921"
             ]
            ],
            "type": "heatmapgl"
           }
          ],
          "histogram": [
           {
            "marker": {
             "colorbar": {
              "outlinewidth": 0,
              "ticks": ""
             }
            },
            "type": "histogram"
           }
          ],
          "histogram2d": [
           {
            "colorbar": {
             "outlinewidth": 0,
             "ticks": ""
            },
            "colorscale": [
             [
              0,
              "#0d0887"
             ],
             [
              0.1111111111111111,
              "#46039f"
             ],
             [
              0.2222222222222222,
              "#7201a8"
             ],
             [
              0.3333333333333333,
              "#9c179e"
             ],
             [
              0.4444444444444444,
              "#bd3786"
             ],
             [
              0.5555555555555556,
              "#d8576b"
             ],
             [
              0.6666666666666666,
              "#ed7953"
             ],
             [
              0.7777777777777778,
              "#fb9f3a"
             ],
             [
              0.8888888888888888,
              "#fdca26"
             ],
             [
              1,
              "#f0f921"
             ]
            ],
            "type": "histogram2d"
           }
          ],
          "histogram2dcontour": [
           {
            "colorbar": {
             "outlinewidth": 0,
             "ticks": ""
            },
            "colorscale": [
             [
              0,
              "#0d0887"
             ],
             [
              0.1111111111111111,
              "#46039f"
             ],
             [
              0.2222222222222222,
              "#7201a8"
             ],
             [
              0.3333333333333333,
              "#9c179e"
             ],
             [
              0.4444444444444444,
              "#bd3786"
             ],
             [
              0.5555555555555556,
              "#d8576b"
             ],
             [
              0.6666666666666666,
              "#ed7953"
             ],
             [
              0.7777777777777778,
              "#fb9f3a"
             ],
             [
              0.8888888888888888,
              "#fdca26"
             ],
             [
              1,
              "#f0f921"
             ]
            ],
            "type": "histogram2dcontour"
           }
          ],
          "mesh3d": [
           {
            "colorbar": {
             "outlinewidth": 0,
             "ticks": ""
            },
            "type": "mesh3d"
           }
          ],
          "parcoords": [
           {
            "line": {
             "colorbar": {
              "outlinewidth": 0,
              "ticks": ""
             }
            },
            "type": "parcoords"
           }
          ],
          "pie": [
           {
            "automargin": true,
            "type": "pie"
           }
          ],
          "scatter": [
           {
            "marker": {
             "colorbar": {
              "outlinewidth": 0,
              "ticks": ""
             }
            },
            "type": "scatter"
           }
          ],
          "scatter3d": [
           {
            "line": {
             "colorbar": {
              "outlinewidth": 0,
              "ticks": ""
             }
            },
            "marker": {
             "colorbar": {
              "outlinewidth": 0,
              "ticks": ""
             }
            },
            "type": "scatter3d"
           }
          ],
          "scattercarpet": [
           {
            "marker": {
             "colorbar": {
              "outlinewidth": 0,
              "ticks": ""
             }
            },
            "type": "scattercarpet"
           }
          ],
          "scattergeo": [
           {
            "marker": {
             "colorbar": {
              "outlinewidth": 0,
              "ticks": ""
             }
            },
            "type": "scattergeo"
           }
          ],
          "scattergl": [
           {
            "marker": {
             "colorbar": {
              "outlinewidth": 0,
              "ticks": ""
             }
            },
            "type": "scattergl"
           }
          ],
          "scattermapbox": [
           {
            "marker": {
             "colorbar": {
              "outlinewidth": 0,
              "ticks": ""
             }
            },
            "type": "scattermapbox"
           }
          ],
          "scatterpolar": [
           {
            "marker": {
             "colorbar": {
              "outlinewidth": 0,
              "ticks": ""
             }
            },
            "type": "scatterpolar"
           }
          ],
          "scatterpolargl": [
           {
            "marker": {
             "colorbar": {
              "outlinewidth": 0,
              "ticks": ""
             }
            },
            "type": "scatterpolargl"
           }
          ],
          "scatterternary": [
           {
            "marker": {
             "colorbar": {
              "outlinewidth": 0,
              "ticks": ""
             }
            },
            "type": "scatterternary"
           }
          ],
          "surface": [
           {
            "colorbar": {
             "outlinewidth": 0,
             "ticks": ""
            },
            "colorscale": [
             [
              0,
              "#0d0887"
             ],
             [
              0.1111111111111111,
              "#46039f"
             ],
             [
              0.2222222222222222,
              "#7201a8"
             ],
             [
              0.3333333333333333,
              "#9c179e"
             ],
             [
              0.4444444444444444,
              "#bd3786"
             ],
             [
              0.5555555555555556,
              "#d8576b"
             ],
             [
              0.6666666666666666,
              "#ed7953"
             ],
             [
              0.7777777777777778,
              "#fb9f3a"
             ],
             [
              0.8888888888888888,
              "#fdca26"
             ],
             [
              1,
              "#f0f921"
             ]
            ],
            "type": "surface"
           }
          ],
          "table": [
           {
            "cells": {
             "fill": {
              "color": "#EBF0F8"
             },
             "line": {
              "color": "white"
             }
            },
            "header": {
             "fill": {
              "color": "#C8D4E3"
             },
             "line": {
              "color": "white"
             }
            },
            "type": "table"
           }
          ]
         },
         "layout": {
          "annotationdefaults": {
           "arrowcolor": "#2a3f5f",
           "arrowhead": 0,
           "arrowwidth": 1
          },
          "autotypenumbers": "strict",
          "coloraxis": {
           "colorbar": {
            "outlinewidth": 0,
            "ticks": ""
           }
          },
          "colorscale": {
           "diverging": [
            [
             0,
             "#8e0152"
            ],
            [
             0.1,
             "#c51b7d"
            ],
            [
             0.2,
             "#de77ae"
            ],
            [
             0.3,
             "#f1b6da"
            ],
            [
             0.4,
             "#fde0ef"
            ],
            [
             0.5,
             "#f7f7f7"
            ],
            [
             0.6,
             "#e6f5d0"
            ],
            [
             0.7,
             "#b8e186"
            ],
            [
             0.8,
             "#7fbc41"
            ],
            [
             0.9,
             "#4d9221"
            ],
            [
             1,
             "#276419"
            ]
           ],
           "sequential": [
            [
             0,
             "#0d0887"
            ],
            [
             0.1111111111111111,
             "#46039f"
            ],
            [
             0.2222222222222222,
             "#7201a8"
            ],
            [
             0.3333333333333333,
             "#9c179e"
            ],
            [
             0.4444444444444444,
             "#bd3786"
            ],
            [
             0.5555555555555556,
             "#d8576b"
            ],
            [
             0.6666666666666666,
             "#ed7953"
            ],
            [
             0.7777777777777778,
             "#fb9f3a"
            ],
            [
             0.8888888888888888,
             "#fdca26"
            ],
            [
             1,
             "#f0f921"
            ]
           ],
           "sequentialminus": [
            [
             0,
             "#0d0887"
            ],
            [
             0.1111111111111111,
             "#46039f"
            ],
            [
             0.2222222222222222,
             "#7201a8"
            ],
            [
             0.3333333333333333,
             "#9c179e"
            ],
            [
             0.4444444444444444,
             "#bd3786"
            ],
            [
             0.5555555555555556,
             "#d8576b"
            ],
            [
             0.6666666666666666,
             "#ed7953"
            ],
            [
             0.7777777777777778,
             "#fb9f3a"
            ],
            [
             0.8888888888888888,
             "#fdca26"
            ],
            [
             1,
             "#f0f921"
            ]
           ]
          },
          "colorway": [
           "#636efa",
           "#EF553B",
           "#00cc96",
           "#ab63fa",
           "#FFA15A",
           "#19d3f3",
           "#FF6692",
           "#B6E880",
           "#FF97FF",
           "#FECB52"
          ],
          "font": {
           "color": "#2a3f5f"
          },
          "geo": {
           "bgcolor": "white",
           "lakecolor": "white",
           "landcolor": "#E5ECF6",
           "showlakes": true,
           "showland": true,
           "subunitcolor": "white"
          },
          "hoverlabel": {
           "align": "left"
          },
          "hovermode": "closest",
          "mapbox": {
           "style": "light"
          },
          "paper_bgcolor": "white",
          "plot_bgcolor": "#E5ECF6",
          "polar": {
           "angularaxis": {
            "gridcolor": "white",
            "linecolor": "white",
            "ticks": ""
           },
           "bgcolor": "#E5ECF6",
           "radialaxis": {
            "gridcolor": "white",
            "linecolor": "white",
            "ticks": ""
           }
          },
          "scene": {
           "xaxis": {
            "backgroundcolor": "#E5ECF6",
            "gridcolor": "white",
            "gridwidth": 2,
            "linecolor": "white",
            "showbackground": true,
            "ticks": "",
            "zerolinecolor": "white"
           },
           "yaxis": {
            "backgroundcolor": "#E5ECF6",
            "gridcolor": "white",
            "gridwidth": 2,
            "linecolor": "white",
            "showbackground": true,
            "ticks": "",
            "zerolinecolor": "white"
           },
           "zaxis": {
            "backgroundcolor": "#E5ECF6",
            "gridcolor": "white",
            "gridwidth": 2,
            "linecolor": "white",
            "showbackground": true,
            "ticks": "",
            "zerolinecolor": "white"
           }
          },
          "shapedefaults": {
           "line": {
            "color": "#2a3f5f"
           }
          },
          "ternary": {
           "aaxis": {
            "gridcolor": "white",
            "linecolor": "white",
            "ticks": ""
           },
           "baxis": {
            "gridcolor": "white",
            "linecolor": "white",
            "ticks": ""
           },
           "bgcolor": "#E5ECF6",
           "caxis": {
            "gridcolor": "white",
            "linecolor": "white",
            "ticks": ""
           }
          },
          "title": {
           "x": 0.05
          },
          "xaxis": {
           "automargin": true,
           "gridcolor": "white",
           "linecolor": "white",
           "ticks": "",
           "title": {
            "standoff": 15
           },
           "zerolinecolor": "white",
           "zerolinewidth": 2
          },
          "yaxis": {
           "automargin": true,
           "gridcolor": "white",
           "linecolor": "white",
           "ticks": "",
           "title": {
            "standoff": 15
           },
           "zerolinecolor": "white",
           "zerolinewidth": 2
          }
         }
        },
        "title": {
         "text": "Commmon Words in Selected Text"
        },
        "width": 600,
        "xaxis": {
         "anchor": "y",
         "domain": [
          0,
          1
         ],
         "title": {
          "text": "count"
         }
        },
        "yaxis": {
         "anchor": "x",
         "domain": [
          0,
          1
         ],
         "title": {
          "text": "Common_words"
         }
        }
       }
      }
     },
     "metadata": {}
    }
   ],
   "source": [
    "import plotly.express as px\n",
    "fig = px.bar(new, x=\"count\", y=\"Common_words\", color_discrete_sequence =['']*len(df), title='Commmon Words in tweet messages', orientation='h', \n",
    "             width=600, height=600)\n",
    "fig.show()"
   ]
  },
  {
   "cell_type": "markdown",
   "metadata": {},
   "source": [
    "### Observations:\n",
    " -"
   ]
  },
  {
   "cell_type": "markdown",
   "metadata": {},
   "source": [
    "## Most common words Sentiments Wise"
   ]
  },
  {
   "cell_type": "code",
   "execution_count": null,
   "metadata": {},
   "outputs": [],
   "source": [
    "Positive = df[df['sentiment']==1]\n",
    "Negative = df[df['sentiment']==-1]\n",
    "Neutral = df[train_df['sentiment']==0]\n",
    "News = df[df['sentiment']==2]\n"
   ]
  },
  {
   "cell_type": "markdown",
   "metadata": {},
   "source": [
    "### Most common positive(1) words"
   ]
  },
  {
   "cell_type": "code",
   "execution_count": null,
   "metadata": {},
   "outputs": [],
   "source": [
    "#MosT common positive words\n",
    "top = Counter([item for sublist in Positive['new_lis'] for item in sublist])\n",
    "positive_w = pd.DataFrame(top.most_common(20))\n",
    "positive_w.columns = ['Common_words','count']\n",
    "positive_w.style.background_gradient(cmap='Greens')"
   ]
  },
  {
   "cell_type": "code",
   "execution_count": null,
   "metadata": {},
   "outputs": [],
   "source": [
    "fig = px.bar(positive_w, x=\"count\", y=\"Common_words\", title='Most Commmon Positive(1) Words', orientation='h', \n",
    "             width=600, height=600)\n",
    "fig.show()"
   ]
  },
  {
   "cell_type": "markdown",
   "metadata": {},
   "source": [
    "### Observations:\n",
    " -"
   ]
  },
  {
   "cell_type": "markdown",
   "metadata": {},
   "source": [
    "### Most common negative words"
   ]
  },
  {
   "cell_type": "code",
   "execution_count": null,
   "metadata": {},
   "outputs": [],
   "source": [
    "\n",
    "top = Counter([item for sublist in Negative['new_lis'] for item in sublist])\n",
    "negative = pd.DataFrame(top.most_common(20))\n",
    "negative = negative.iloc[1:,:]\n",
    "negative.columns = ['Common_words','count']\n",
    "negative.style.background_gradient(cmap='Reds')"
   ]
  },
  {
   "cell_type": "code",
   "execution_count": null,
   "metadata": {},
   "outputs": [],
   "source": [
    "fig = px.bar(negative, x=\"count\", y=\"Common_words\", title='Most Commmon Negative(-1) Words', orientation='h', \n",
    "             width=600, height=600)\n",
    "fig.show()"
   ]
  },
  {
   "cell_type": "markdown",
   "metadata": {},
   "source": [
    "### Observation:\n",
    " -"
   ]
  },
  {
   "cell_type": "markdown",
   "metadata": {},
   "source": [
    "### Most common neutral(0) words"
   ]
  },
  {
   "cell_type": "code",
   "execution_count": null,
   "metadata": {},
   "outputs": [],
   "source": [
    "top = Counter([item for sublist in Neutral['new_lis'] for item in sublist])\n",
    "neutral = pd.DataFrame(top.most_common(20))\n",
    "neutral = neutral.iloc[1:,:]\n",
    "neutral.columns = ['Common_words','count']\n",
    "neutral.style.background_gradient(cmap='Blues')"
   ]
  },
  {
   "cell_type": "code",
   "execution_count": null,
   "metadata": {},
   "outputs": [],
   "source": [
    "fig = px.bar(neutral, x=\"count\", y=\"Common_words\", title='Most Commmon Neutral(0) Words', orientation='h', \n",
    "             width=600, height=600)\n",
    "fig.show()"
   ]
  },
  {
   "cell_type": "markdown",
   "metadata": {},
   "source": [
    "### Observation:\n",
    " -"
   ]
  },
  {
   "cell_type": "markdown",
   "metadata": {},
   "source": [
    "### Most common news(2) words"
   ]
  },
  {
   "cell_type": "code",
   "execution_count": null,
   "metadata": {},
   "outputs": [],
   "source": [
    "top = Counter([item for sublist in News['new_lis'] for item in sublist])\n",
    "news = pd.DataFrame(top.most_common(20))\n",
    "news = news.iloc[1:,:]\n",
    "news.columns = ['Common_words','count']\n",
    "news.style.background_gradient(cmap='Reds')"
   ]
  },
  {
   "cell_type": "code",
   "execution_count": null,
   "metadata": {},
   "outputs": [],
   "source": [
    "fig = px.bar(news, x=\"count\", y=\"Common_words\", title='Most Commmon Neutral(0) Words', orientation='h', \n",
    "             width=600, height=600)\n",
    "fig.show()"
   ]
  },
  {
   "cell_type": "markdown",
   "metadata": {},
   "source": [
    "### Observation:\n",
    " -"
   ]
  },
  {
   "cell_type": "markdown",
   "metadata": {},
   "source": [
    "### Counting number of Emojis used in the texts"
   ]
  },
  {
   "cell_type": "code",
   "execution_count": null,
   "metadata": {},
   "outputs": [],
   "source": [
    "!pip install emoji\n",
    "import emoji\n",
    "emojis_df=[]\n",
    "for string in df['message']:\n",
    "    my_str = str(string)\n",
    "    for each in my_str:\n",
    "        if each in emoji.UNICODE_EMOJI['en'].keys():\n",
    "            emojis_df.append(each)\n",
    "freq = (Counter(i for sub in emojis_df for i in set(sub))) \n",
    "sort_orders = sorted(freq.items(), key=lambda x: x[1], reverse=True)"
   ]
  },
  {
   "cell_type": "code",
   "execution_count": null,
   "metadata": {},
   "outputs": [],
   "source": [
    "print(sort_orders)"
   ]
  },
  {
   "cell_type": "code",
   "execution_count": null,
   "metadata": {},
   "outputs": [],
   "source": [
    "#function for emoji extraction\n",
    "def ext_emoji(s):\n",
    "    return ''.join(c for c in s if c in emoji.UNICODE_EMOJI['en'].keys())"
   ]
  },
  {
   "cell_type": "code",
   "execution_count": null,
   "metadata": {},
   "outputs": [],
   "source": [
    "#extracting emojis from train data\n",
    "\n",
    "df['emoji'] = df['message'].apply(ext_emoji)\n",
    "df[df['emoji']!='']['emoji']"
   ]
  },
  {
   "cell_type": "markdown",
   "metadata": {},
   "source": [
    "### Observation:\n",
    "- The most common emoji is the 'face with tears of joy' is an emoji featuring a jovial face laughing, while also crying out tears\n",
    "- We have other emjis that illustrate the impacts of global warmaing on weather and climate change, e.g 'earth,fire,flowers and snowflake'"
   ]
  },
  {
   "cell_type": "code",
   "execution_count": null,
   "metadata": {},
   "outputs": [],
   "source": []
  },
  {
   "cell_type": "markdown",
   "metadata": {},
   "source": [
    "### WordCloud of most common positive words used.\n"
   ]
  },
  {
   "cell_type": "code",
   "execution_count": null,
   "metadata": {},
   "outputs": [],
   "source": [
    "wordcloud = WordCloud(max_font_size=250,background_color='white', width=1500, height=700).generate(' '.join(Positive[Positive['sentiment'] == 1]\n",
    "                                          ['clean_message']))\n",
    "plt.figure( figsize=(16,10))\n",
    "plt.imshow(wordcloud)\n",
    "plt.title('Positive Tweets')\n",
    "plt.axis(\"off\")\n",
    "plt.show()"
   ]
  },
  {
   "cell_type": "markdown",
   "metadata": {},
   "source": [
    "### Observations:\n",
    " -"
   ]
  },
  {
   "cell_type": "markdown",
   "metadata": {},
   "source": [
    "### WordCloud of most common negative words used"
   ]
  },
  {
   "cell_type": "code",
   "execution_count": null,
   "metadata": {},
   "outputs": [],
   "source": [
    "wordcloud = WordCloud(max_font_size=250,background_color='white', width=1500, height=700).generate(' '.join(Negative[Negative['sentiment'] == -1]\n",
    "                                          ['clean_message']))\n",
    "plt.figure( figsize=(16,10))\n",
    "plt.imshow(wordcloud)\n",
    "plt.title('Negative Tweets')\n",
    "plt.axis(\"off\")\n",
    "plt.show()"
   ]
  },
  {
   "cell_type": "markdown",
   "metadata": {},
   "source": [
    "### Observations:\n",
    " -"
   ]
  },
  {
   "cell_type": "code",
   "execution_count": null,
   "metadata": {},
   "outputs": [],
   "source": []
  },
  {
   "cell_type": "markdown",
   "metadata": {},
   "source": [
    "### WordCloud of most common neutral words used"
   ]
  },
  {
   "cell_type": "code",
   "execution_count": null,
   "metadata": {},
   "outputs": [],
   "source": [
    "wordcloud = WordCloud(max_font_size=250,background_color='white', width=1500, height=700).generate(' '.join(Neutral[Neutral['sentiment'] == 0]\n",
    "                                          ['clean_message']))\n",
    "plt.figure( figsize=(16,10))\n",
    "plt.imshow(wordcloud)\n",
    "plt.title('Neutral Tweets')\n",
    "plt.axis(\"off\")\n",
    "plt.show()"
   ]
  },
  {
   "cell_type": "markdown",
   "metadata": {},
   "source": [
    "### Observations:\n",
    " -"
   ]
  },
  {
   "cell_type": "code",
   "execution_count": null,
   "metadata": {},
   "outputs": [],
   "source": []
  },
  {
   "cell_type": "markdown",
   "metadata": {},
   "source": [
    "### WordCloud of most common neutral words used"
   ]
  },
  {
   "cell_type": "code",
   "execution_count": null,
   "metadata": {},
   "outputs": [],
   "source": [
    "wordcloud = WordCloud(max_font_size=250,background_color='white', width=1500, height=700).generate(' '.join(News[News['sentiment'] == 2]\n",
    "                                          ['clean_message']))\n",
    "plt.figure( figsize=(16,10))\n",
    "plt.imshow(wordcloud)\n",
    "plt.title('News Tweets')\n",
    "plt.axis(\"off\")\n",
    "plt.show()"
   ]
  },
  {
   "cell_type": "markdown",
   "metadata": {},
   "source": [
    "### WordCloud of most common words used 'Overall'\n",
    "- Wordcloud is a data visualization technique used for representing text data in which the size of each word indicates its frequency or importance"
   ]
  },
  {
   "cell_type": "code",
   "execution_count": null,
   "metadata": {},
   "outputs": [],
   "source": [
    "train_msg = \" \".join(tweet for tweet in df.clean_message)\n",
    "train_wordcloud = WordCloud(max_font_size=250,\n",
    "                            background_color=\"black\",\n",
    "                            width=1500,\n",
    "                            height=700,\n",
    "                            collocations=False,\n",
    "                            colormap='Paired').generate(train_msg)\n",
    "plt.figure(figsize=(16, 10))\n",
    "plt.imshow(train_wordcloud)\n",
    "plt.axis(\"off\")\n",
    "plt.tight_layout(pad=0)\n",
    "plt.show()"
   ]
  },
  {
   "cell_type": "markdown",
   "metadata": {},
   "source": [
    "### Observation:\n",
    " - "
   ]
  },
  {
   "cell_type": "markdown",
   "metadata": {},
   "source": [
    "## Balancing Data"
   ]
  },
  {
   "cell_type": "code",
   "execution_count": null,
   "metadata": {},
   "outputs": [],
   "source": [
    "\n",
    "# Separate minority and majority classes\n",
    "majority_sentiment = df[df['sentiment']== 1]\n",
    "minority_sentiment_0 = df[df['sentiment']== 0]\n",
    "minority_sentiment_2 = df[df['sentiment']== 2]\n",
    "minority_sentiment_neg1 = df[df['sentiment'] == -1]"
   ]
  },
  {
   "cell_type": "markdown",
   "metadata": {},
   "source": [
    "# Upsample minority"
   ]
  },
  {
   "cell_type": "code",
   "execution_count": null,
   "metadata": {},
   "outputs": [],
   "source": [
    "minority_sentiment_0_minority = resample(minority_sentiment_0,\n",
    "                          replace=True, # sample with replacement (we need to duplicate observations)\n",
    "                          n_samples=len(majority_sentiment), # match number in minority class\n",
    "                          random_state=42) # reproducible results\n",
    "\n",
    "minority_sentiment_2_minority = resample(minority_sentiment_2,\n",
    "                                         replace = True,\n",
    "                                         n_samples=len(majority_sentiment),\n",
    "                                         random_state=42)\n",
    "\n",
    "minority_sentiment_neg1_minority = resample(minority_sentiment_neg1,\n",
    "                                   replace=True,\n",
    "                                   n_samples=len(majority_sentiment),\n",
    "                                   random_state=42)\n",
    "\n",
    "# Combine upsampled minority class with majority class\n",
    "df2 = pd.concat([majority_sentiment, minority_sentiment_0_minority,minority_sentiment_2_minority,minority_sentiment_neg1_minority])\n",
    "\n",
    "# Check new class counts\n",
    "df2['sentiment'].value_counts()"
   ]
  },
  {
   "cell_type": "markdown",
   "metadata": {},
   "source": [
    "## downsample "
   ]
  },
  {
   "cell_type": "code",
   "execution_count": null,
   "metadata": {},
   "outputs": [],
   "source": [
    "# Separate minority and majority classes\n",
    "majority_sentiment = df[df['sentiment']== 1]\n",
    "minority_sentiment_0 = df[df['sentiment']== 0]\n",
    "minority_sentiment_2 = df[df['sentiment']== 2]\n",
    "minority_sentiment_neg1 = df[df['sentiment'] == -1]\n",
    "\n",
    "\n",
    "Pro = resample(majority_sentiment,##PRO,\n",
    "                          replace=False, # sample with replacement (we need to duplicate observations)\n",
    "                          n_samples=len(minority_sentiment_neg1), # match number in minority class\n",
    "                          random_state=42) # reproducible results\n",
    "\n",
    "Neutral = resample(minority_sentiment_0,##NEUTRAL,\n",
    "                                         replace = False,\n",
    "                                         n_samples=len(minority_sentiment_neg1),\n",
    "                                         random_state=42)\n",
    "\n",
    "news = resample(minority_sentiment_2,##NEWS,\n",
    "                                   replace=False,\n",
    "                                   n_samples=len(minority_sentiment_neg1),\n",
    "                                   random_state=42)\n",
    "\n",
    "# Combine upsampled minority class with majority class\n",
    "df_down = pd.concat([Pro,Neutral,news,minority_sentiment_neg1])\n",
    "\n",
    "# Check new class counts\n",
    "df_down['sentiment'].value_counts()"
   ]
  },
  {
   "cell_type": "code",
   "execution_count": null,
   "metadata": {},
   "outputs": [],
   "source": [
    "#n_samples=len(Anti)"
   ]
  },
  {
   "cell_type": "code",
   "execution_count": null,
   "metadata": {},
   "outputs": [],
   "source": [
    "# Show the table of balanced data in clean_text from each language Id\n",
    "dist = df2.groupby('sentiment').count()['clean_message'].reset_index().sort_values(by='clean_message',ascending=True)"
   ]
  },
  {
   "cell_type": "code",
   "execution_count": null,
   "metadata": {},
   "outputs": [],
   "source": [
    "dist"
   ]
  },
  {
   "cell_type": "markdown",
   "metadata": {},
   "source": [
    "# UP AND DOWN"
   ]
  },
  {
   "cell_type": "code",
   "execution_count": null,
   "metadata": {},
   "outputs": [],
   "source": [
    "# Separate minority and majority classes\n",
    "majority_sentiment = df[df['sentiment']== 1]\n",
    "minority_sentiment_0 = df[df['sentiment']== 0]\n",
    "minority_sentiment_2 = df[df['sentiment']== 2]\n",
    "minority_sentiment_neg1 = df[df['sentiment'] == -1]\n",
    "\n",
    "# Downsample majority\n",
    "class_size=round(len(majority_sentiment)/2)\n",
    "Pro_downsampled2 = resample(majority_sentiment,\n",
    "                          replace=False, # sample without replacement (no need to duplicate observations)\n",
    "                          n_samples=class_size, # match number in class size\n",
    "                          random_state=30) # reproducible results\n",
    "\n",
    "# Combine downsampled majority class with minority class\n",
    "#downsampled = pd.concat([not_spam_downsampled, spam])\n",
    "\n",
    "# Upsample minority\n",
    "News_upsampled = resample(minority_sentiment_2,\n",
    "                          replace=True, # sample with replacement (we need to duplicate observations)\n",
    "                          n_samples=class_size, # match number in  class size\n",
    "                          random_state=31) # reproducible results\n",
    "\n",
    "Neutral_upsampled = resample(minority_sentiment_0,\n",
    "                          replace=True, # sample with replacement (we need to duplicate observations)\n",
    "                          n_samples=class_size, # match number in  class size\n",
    "                          random_state=32) # reproducible results\n",
    "\n",
    "Anti_upsampled = resample(minority_sentiment_neg1,\n",
    "                          replace=True, # sample with replacement (we need to duplicate observations)\n",
    "                          n_samples=class_size, # match number in  class size\n",
    "                          random_state=33) # reproducible results\n",
    "\n",
    "\n",
    "\n",
    "# Combine upsampled minority class with majority class\n",
    "upsampled_downsampled = pd.concat([News_upsampled,Neutral_upsampled,Anti_upsampled, Pro_downsampled2])\n",
    "# Check new class counts\n",
    "upsampled_downsampled['sentiment'].value_counts()"
   ]
  },
  {
   "cell_type": "code",
   "execution_count": null,
   "metadata": {},
   "outputs": [],
   "source": [
    "upsampled_downsampled.head(2)"
   ]
  },
  {
   "cell_type": "markdown",
   "metadata": {},
   "source": [
    "## Data Preprosessing"
   ]
  },
  {
   "cell_type": "markdown",
   "metadata": {},
   "source": [
    "### Train (Validation) Test Split"
   ]
  },
  {
   "cell_type": "code",
   "execution_count": null,
   "metadata": {},
   "outputs": [],
   "source": [
    "df['stemm']#Unbalanced"
   ]
  },
  {
   "cell_type": "code",
   "execution_count": null,
   "metadata": {},
   "outputs": [],
   "source": [
    "df2.head()# Upsampled balanced"
   ]
  },
  {
   "cell_type": "code",
   "execution_count": null,
   "metadata": {},
   "outputs": [],
   "source": [
    "X = df2['clean_message']\n",
    "y = df2['sentiment']"
   ]
  },
  {
   "cell_type": "markdown",
   "metadata": {},
   "source": [
    "### Upsampling_Downsampling our data makes model performance worse"
   ]
  },
  {
   "cell_type": "markdown",
   "metadata": {},
   "source": [
    "X = upsampled_downsampled['clean_message']\n",
    "y = upsampled_downsampled['sentiment']"
   ]
  },
  {
   "cell_type": "markdown",
   "metadata": {},
   "source": [
    "### Down sampling our data makes model performance worst\n",
    "\n",
    "we have very little training data here"
   ]
  },
  {
   "cell_type": "markdown",
   "metadata": {},
   "source": [
    "X = df_down['clean_message']\n",
    "y = df_down['sentiment']"
   ]
  },
  {
   "cell_type": "code",
   "execution_count": null,
   "metadata": {},
   "outputs": [],
   "source": [
    "df2.shape"
   ]
  },
  {
   "cell_type": "markdown",
   "metadata": {},
   "source": [
    "# Train_Test Split "
   ]
  },
  {
   "cell_type": "code",
   "execution_count": null,
   "metadata": {},
   "outputs": [],
   "source": [
    "ts = .1\n",
    "rs = 42\n",
    "\n",
    "X_train, X_val, y_train, y_val = train_test_split(X, y, test_size=ts, random_state=rs)\n",
    "\n",
    "experiment.log_parameters({\"test size\": ts, \"random state\": rs})"
   ]
  },
  {
   "cell_type": "markdown",
   "metadata": {},
   "source": [
    "# Classification Models \n",
    "[Back to Table of Contents](#toc)"
   ]
  },
  {
   "cell_type": "code",
   "execution_count": null,
   "metadata": {},
   "outputs": [],
   "source": [
    "from sklearn.naive_bayes import MultinomialNB, ComplementNB\n",
    "clf_dict = [LinearSVC(random_state=42), KNeighborsClassifier(n_neighbors=5),DecisionTreeClassifier(max_depth=5),\n",
    "                        RandomForestClassifier(max_depth=5, n_estimators=10,\n",
    "                        max_features=1), ComplementNB(), MultinomialNB(), AdaBoostClassifier()\n",
    "                         ]"
   ]
  },
  {
   "cell_type": "code",
   "execution_count": null,
   "metadata": {},
   "outputs": [],
   "source": [
    "def modeling(clf_dict, X_train, y_train, X_val, y_val):\n",
    "\n",
    "    models = {}\n",
    "    for clf in clf_dict:\n",
    "        clf_text = Pipeline([('tfidf', TfidfVectorizer(min_df=1, max_df=0.1, ngram_range=(1, 2))),('clf', clf)])\n",
    "        \n",
    "        clf_text.fit(X_train, y_train)\n",
    "        predictions = clf_text.predict(X_val)\n",
    "\n",
    "        # Output for each model\n",
    "        models[clf.__class__.__name__] = {\n",
    "            'F1-Macro': metrics.f1_score(y_val,predictions,average='macro'),\n",
    "            'F1-Mccuracy': metrics.f1_score(y_val, predictions,average='micro'),\n",
    "            'F1-Weighted': metrics.f1_score(y_val,predictions,average='weighted')}\n",
    "\n",
    "    return pd.DataFrame.from_dict(models, orient='index')"
   ]
  },
  {
   "cell_type": "code",
   "execution_count": null,
   "metadata": {},
   "outputs": [],
   "source": [
    "# Displaying all the models\n",
    "classi = modeling(clf_dict, X_train, y_train, X_val, y_val)\n",
    "display_df = classi.sort_values('F1-Macro', ascending=False)\n",
    "display_df"
   ]
  },
  {
   "cell_type": "markdown",
   "metadata": {},
   "source": [
    "## Performance Visuals"
   ]
  },
  {
   "cell_type": "code",
   "execution_count": null,
   "metadata": {},
   "outputs": [],
   "source": [
    "#Compare Performance between models visually\n",
    "\n",
    "#fig,axis = plt.subplots(figsize=(10,5))\n",
    "#rmse_x = ['LinearSVC', 'KNeighborsClassifier','DecisionTreeClassifier','RandomForestClassifier', 'ComplementNB', 'MultinomialNB', 'AdaBoostClassifier']\n",
    "#rmse_y = clf_dict\n",
    "#ax = sns.barplot(x=rmse_x, y=rmse_y, palette=('Blues_d'))\n",
    "#plt.title('Weighted F1-Score per Model', fontsize=14)\n",
    "#plt.xticks(rotation=90)\n",
    "#plt.ylabel('Weighted F1-Score')\n",
    "#for p in ax.patches:\n",
    "#    ax.text(p.get_x() + p.get_width()/2, p.get_height(), round(p.get_height(), 2), fontsize=12, ha='center', va='bottom')\n",
    "    \n",
    "#plt.show()"
   ]
  },
  {
   "cell_type": "code",
   "execution_count": null,
   "metadata": {},
   "outputs": [],
   "source": [
    "from sklearn.feature_extraction.text import CountVectorizer\n",
    "vectorizer = CountVectorizer()"
   ]
  },
  {
   "cell_type": "markdown",
   "metadata": {},
   "source": [
    "### Running a Single model"
   ]
  },
  {
   "cell_type": "code",
   "execution_count": null,
   "metadata": {},
   "outputs": [],
   "source": [
    "from sklearn.pipeline import Pipeline\n",
    "param_grid = {'alpha': [0.1, 1, 5, 11]}  # parameter grid\n",
    "\n",
    "pipeline = Pipeline([('tfidf', TfidfVectorizer(min_df=2, max_df=0.9, ngram_range=(1, 3))), ('mnb', GridSearchCV(MultinomialNB(),  param_grid=param_grid, cv=5, n_jobs=-1, scoring='f1_weighted'))])\n"
   ]
  },
  {
   "cell_type": "code",
   "execution_count": null,
   "metadata": {},
   "outputs": [],
   "source": [
    "pipeline.fit(X_train,y_train)"
   ]
  },
  {
   "cell_type": "code",
   "execution_count": null,
   "metadata": {},
   "outputs": [],
   "source": [
    "predictions = pipeline.predict(X_val)"
   ]
  },
  {
   "cell_type": "code",
   "execution_count": null,
   "metadata": {},
   "outputs": [],
   "source": [
    "print(classification_report(predictions,y_val))"
   ]
  },
  {
   "cell_type": "code",
   "execution_count": null,
   "metadata": {},
   "outputs": [],
   "source": [
    "from sklearn.feature_extraction.text import CountVectorizer\n",
    "vectorizer = CountVectorizer()"
   ]
  },
  {
   "cell_type": "code",
   "execution_count": null,
   "metadata": {},
   "outputs": [],
   "source": [
    "experiment.log_metric(\"f1-Macro\", f1_Macro)\n",
    "experiment.log_metric(\"f1-Mccuracy\", f1_Mccuracy)\n",
    "experiment.log_metric(\"f1-Weighted\", f1_Weighted)"
   ]
  },
  {
   "cell_type": "code",
   "execution_count": null,
   "metadata": {},
   "outputs": [],
   "source": [
    "f1_Macro = metrics.f1_score(y_val,predictions,average='macro')\n",
    "f1_Mccuracy = metrics.f1_score(y_val, predictions,average='micro'),\n",
    "f1_Weighted =  metrics.f1_score(y_val,predictions,average='weighted')"
   ]
  },
  {
   "cell_type": "markdown",
   "metadata": {},
   "source": [
    "## Prediction Submission csv"
   ]
  },
  {
   "cell_type": "code",
   "execution_count": null,
   "metadata": {},
   "outputs": [],
   "source": [
    "LSVC = pd.DataFrame(data={'tweetid': test_df['tweetid'],'sentiment': predictions})"
   ]
  },
  {
   "cell_type": "code",
   "execution_count": null,
   "metadata": {},
   "outputs": [],
   "source": [
    "LSVC.to_csv(\"GridSearch_MultNB_Clean_message.csv\", index=False)\n",
    "#OUR MODEL IMPROVED BY USING STEMMA BETTER THAN LEMMA AND WE USED UPSAMPLED DATA WITH TRAINING DATA OF 90%"
   ]
  },
  {
   "cell_type": "code",
   "execution_count": null,
   "metadata": {},
   "outputs": [],
   "source": [
    "experiment.end()"
   ]
  },
  {
   "cell_type": "markdown",
   "metadata": {
    "papermill": {
     "duration": 0.037324,
     "end_time": "2021-06-10T11:02:46.044445",
     "exception": false,
     "start_time": "2021-06-10T11:02:46.007121",
     "status": "completed"
    },
    "tags": []
   },
   "source": [
    "## References\n",
    "- Websites used for insipiration"
   ]
  },
  {
   "cell_type": "markdown",
   "metadata": {
    "papermill": {
     "duration": 0.037772,
     "end_time": "2021-06-10T11:02:46.119164",
     "exception": false,
     "start_time": "2021-06-10T11:02:46.081392",
     "status": "completed"
    },
    "tags": []
   },
   "source": [
    "- analyticsvidhya: https://www.analyticsvidhya.com/blog/2018/07/hands-on-sentiment-analysis-dataset-python/\n",
    "- towardsdatascience: https://towardsdatascience.com/how-to-efficiently-remove-punctuations-from-a-string-899ad4a059fb\n",
    "- codegrepper:  https://www.codegrepper.com/code-examples/python/pandas+series+remove+punctuation\n",
    "- https://stackoverflow.com/questions/54396405/how-can-i-preprocess-nlp-text-lowercase-remove-special-characters-remove-numb\n"
   ]
  },
  {
   "cell_type": "code",
   "execution_count": null,
   "metadata": {
    "papermill": {
     "duration": 0.0364,
     "end_time": "2021-06-10T11:02:46.193094",
     "exception": false,
     "start_time": "2021-06-10T11:02:46.156694",
     "status": "completed"
    },
    "tags": []
   },
   "outputs": [],
   "source": []
  }
 ],
 "metadata": {
  "interpreter": {
   "hash": "2cb31fa55ae00465923d9b187a5051f66c494d866be42a4c03d35b8bacfe6992"
  },
  "kernelspec": {
   "name": "python3",
   "display_name": "Python 3.9.5 64-bit ('.env': venv)"
  },
  "language_info": {
   "codemirror_mode": {
    "name": "ipython",
    "version": 3
   },
   "file_extension": ".py",
   "mimetype": "text/x-python",
   "name": "python",
   "nbconvert_exporter": "python",
   "pygments_lexer": "ipython3",
   "version": "3.9.5"
  },
  "papermill": {
   "default_parameters": {},
   "duration": 145.811705,
   "end_time": "2021-06-10T11:02:47.040917",
   "environment_variables": {},
   "exception": null,
   "input_path": "__notebook__.ipynb",
   "output_path": "__notebook__.ipynb",
   "parameters": {},
   "start_time": "2021-06-10T11:00:21.229212",
   "version": "2.3.3"
  }
 },
 "nbformat": 4,
 "nbformat_minor": 5
}