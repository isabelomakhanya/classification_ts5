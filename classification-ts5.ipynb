{
 "cells": [
  {
   "cell_type": "markdown",
   "source": [
    "# EDSA - Climate Change Belief Analysis 2021\n",
    "### Team TS5 Classification"
   ],
   "metadata": {
    "_cell_guid": "b1076dfc-b9ad-4769-8c92-a6c4dae69d19",
    "_uuid": "8f2839f25d086af736a60e9eeb907d3b93b6e0e5",
    "execution": {
     "iopub.execute_input": "2021-06-02T23:35:44.754705Z",
     "iopub.status.busy": "2021-06-02T23:35:44.754249Z",
     "iopub.status.idle": "2021-06-02T23:35:44.775038Z",
     "shell.execute_reply": "2021-06-02T23:35:44.773868Z",
     "shell.execute_reply.started": "2021-06-02T23:35:44.754668Z"
    },
    "papermill": {
     "duration": 0.029085,
     "end_time": "2021-06-10T11:00:29.318311",
     "exception": false,
     "start_time": "2021-06-10T11:00:29.289226",
     "status": "completed"
    },
    "tags": []
   }
  },
  {
   "cell_type": "markdown",
   "source": [
    "<div align=\"center\" style=\"width: 1000px; font-size: 80%; text-align: center; margin: 0 auto\">\n",
    "<img src=\"https://raw.githubusercontent.com/CPNMorgan/Team_TS5_JHB_Classification/main/climat change.jpg\"\n",
    "     alt=\"Titanic\"\n",
    "     style=\"float: center; padding-bottom=0.5em\"\n",
    "     width=1000px/>\n",
    "\n",
    "</div>"
   ],
   "metadata": {
    "execution": {
     "iopub.execute_input": "2021-06-03T16:17:48.062355Z",
     "iopub.status.busy": "2021-06-03T16:17:48.06194Z",
     "iopub.status.idle": "2021-06-03T16:17:48.069466Z",
     "shell.execute_reply": "2021-06-03T16:17:48.067878Z",
     "shell.execute_reply.started": "2021-06-03T16:17:48.062321Z"
    },
    "papermill": {
     "duration": 0.027386,
     "end_time": "2021-06-10T11:00:29.373653",
     "exception": false,
     "start_time": "2021-06-10T11:00:29.346267",
     "status": "completed"
    },
    "tags": []
   }
  },
  {
   "cell_type": "markdown",
   "source": [
    "# Challenge Description"
   ],
   "metadata": {
    "papermill": {
     "duration": 0.027351,
     "end_time": "2021-06-10T11:00:29.428674",
     "exception": false,
     "start_time": "2021-06-10T11:00:29.401323",
     "status": "completed"
    },
    "tags": []
   }
  },
  {
   "cell_type": "markdown",
   "source": [
    "Many companies are built around lessening one’s environmental impact or carbon footprint. They offer products and services that are environmentally friendly and sustainable, in line with their values and ideals. They would like to determine how people perceive climate change and whether or not they believe it is a real threat. This would add to their market research efforts in gauging how their product/service may be received.\n",
    "\n",
    "With this context, EDSA is challenging you during the Classification Sprint with the task of creating a Machine Learning model that is able to classify whether or not a person believes in climate change, based on their novel tweet data.\n",
    "\n",
    "Providing an accurate and robust solution to this task gives companies access to a broad base of consumer sentiment, spanning multiple demographic and geographic categories - thus increasing their insights and informing future marketing strategies."
   ],
   "metadata": {
    "papermill": {
     "duration": 0.027413,
     "end_time": "2021-06-10T11:00:29.483654",
     "exception": false,
     "start_time": "2021-06-10T11:00:29.456241",
     "status": "completed"
    },
    "tags": []
   }
  },
  {
   "cell_type": "markdown",
   "source": [
    "# Introduction"
   ],
   "metadata": {
    "papermill": {
     "duration": 0.02766,
     "end_time": "2021-06-10T11:00:29.538981",
     "exception": false,
     "start_time": "2021-06-10T11:00:29.511321",
     "status": "completed"
    },
    "tags": []
   }
  },
  {
   "cell_type": "markdown",
   "source": [
    "Theoretical (LogisticRegression, )\n",
    "Problem/Hypothesis\n",
    "\n"
   ],
   "metadata": {
    "papermill": {
     "duration": 0.027694,
     "end_time": "2021-06-10T11:00:29.594317",
     "exception": false,
     "start_time": "2021-06-10T11:00:29.566623",
     "status": "completed"
    },
    "tags": []
   }
  },
  {
   "cell_type": "markdown",
   "source": [
    "The output value of a logistic regression model refers to the probability that the observation in question belongs to class 1. The output values all fall between 0 and 1, which is all very well. But at what threshold value do we decide that a probability is too low to be assigned to class 1? Usually, we pick 0.5. That is:\n",
    "\n",
    "- Values greater than or equal to 0.5 are assigned to class 1; and\n",
    "- Values less than 0.5 are assigned to class 0.\n",
    "\n",
    "This output needs to hold for all values of X. In other words, regardless of the value of X, we need the output to be a value between 0 and 1. The function that takes care of all this is defined as follows:\n",
    "\n",
    "$$P(X) = \\displaystyle \\frac{e^{\\beta_0 + \\beta_1 X}}{1+e^{\\beta_0 + \\beta_1 X}}$$\n",
    "\n",
    "where $P(X)$ is the probability of X belonging to class 1, and $\\beta_0$ and $\\beta_1$ are the intercept and regression coefficient respectively, just like in a linear regression model. After a bit of manipulation we arrive at:\n",
    "\n",
    "\\begin{align}\n",
    "1 - P(X) &= \\displaystyle \\frac{1}{1+e^{\\beta_0 + \\beta_1 X}} \\\\\n",
    "\\therefore \\log \\left( \\frac{P(X)}{1-P(X)} \\right) &= {\\beta_0 + \\beta_1 X}\n",
    "\\end{align}\n",
    "\n",
    "<img src=\"useful_info/image5-13.jpg\" align=\"center\"/>\n",
    "\n",
    "The term on the left is known as the **log odds ratio**. Without the log sign in front of it, it is known simply as the odds ratio. While $P(X)$ is bounded between 0 and 1, the odds ratio is bounded between 0 and $\\infty$. \n",
    "\n"
   ],
   "metadata": {}
  },
  {
   "cell_type": "markdown",
   "source": [
    "# Importing Packages"
   ],
   "metadata": {
    "execution": {
     "iopub.execute_input": "2021-06-03T16:23:06.285173Z",
     "iopub.status.busy": "2021-06-03T16:23:06.284666Z",
     "iopub.status.idle": "2021-06-03T16:23:06.289831Z",
     "shell.execute_reply": "2021-06-03T16:23:06.288702Z",
     "shell.execute_reply.started": "2021-06-03T16:23:06.285137Z"
    },
    "papermill": {
     "duration": 0.027728,
     "end_time": "2021-06-10T11:00:29.650136",
     "exception": false,
     "start_time": "2021-06-10T11:00:29.622408",
     "status": "completed"
    },
    "tags": []
   }
  },
  {
   "cell_type": "code",
   "execution_count": 2,
   "source": [
    "#comet.ml\n",
    "import comet_ml\n",
    "from comet_ml import Experiment\n",
    "\n",
    "import numpy as np # linear algebra\n",
    "import pandas as pd # data processing, CSV file I/O (e.g. pd.read_csv)\n",
    "import matplotlib.pyplot as plt\n",
    "import seaborn as sns\n",
    "from plotly import graph_objs as go\n",
    "import plotly.express as px\n",
    "import plotly.figure_factory as ff\n",
    "\n",
    "#nlp\n",
    "import string\n",
    "import re    #for regex\n",
    "import nltk\n",
    "from nltk.stem.porter import *\n",
    "from nltk.corpus import stopwords\n",
    "from nltk import pos_tag\n",
    "from nltk.tokenize import word_tokenize\n",
    "from PIL import Image\n",
    "from sklearn.feature_extraction.text import CountVectorizer\n",
    "from nltk.stem import WordNetLemmatizer,PorterStemmer, LancasterStemmer\n",
    "from nltk.tokenize import RegexpTokenizer\n",
    "\n",
    "\n",
    "\n",
    "from nltk.tokenize import TweetTokenizer   \n",
    "from sklearn.feature_extraction.text import TfidfVectorizer\n",
    "from sklearn.model_selection import cross_val_score\n",
    "from sklearn.pipeline import make_union\n",
    "from wordcloud import WordCloud \n",
    "from collections import Counter\n",
    "import emoji\n",
    "\n",
    "#models\n",
    "from sklearn.linear_model import LogisticRegression\n",
    "from sklearn.svm import SVC\n",
    "from sklearn.naive_bayes import MultinomialNB\n",
    "from sklearn.neighbors import KNeighborsClassifier\n",
    "from sklearn.tree import DecisionTreeClassifier\n",
    "from sklearn.model_selection import train_test_split\n",
    "from sklearn.feature_extraction.text import TfidfVectorizer\n",
    "from sklearn.linear_model import LogisticRegression\n",
    "from sklearn.linear_model import LogisticRegressionCV\n",
    "from sklearn.ensemble import RandomForestClassifier\n",
    "from sklearn.pipeline import Pipeline\n",
    "from sklearn.decomposition import LatentDirichletAllocation as LDA\n",
    "from sklearn.model_selection import GridSearchCV\n",
    "from sklearn.svm import LinearSVC\n",
    "from sklearn.ensemble import RandomForestClassifier, AdaBoostClassifier\n",
    "from sklearn import metrics\n",
    "from sklearn.svm import SVC\n",
    "from sklearn import metrics\n",
    "from sklearn.utils import resample\n",
    "from sklearn.metrics import classification_report\n",
    "\n",
    "import os\n",
    "for dirname, _, filenames in os.walk('/kaggle/input'):\n",
    "    for filename in filenames:\n",
    "        print(os.path.join(dirname, filename))\n"
   ],
   "outputs": [],
   "metadata": {
    "execution": {
     "iopub.execute_input": "2021-06-10T11:00:29.765450Z",
     "iopub.status.busy": "2021-06-10T11:00:29.764243Z",
     "iopub.status.idle": "2021-06-10T11:00:32.254609Z",
     "shell.execute_reply": "2021-06-10T11:00:32.253907Z",
     "shell.execute_reply.started": "2021-06-10T10:33:10.870622Z"
    },
    "papermill": {
     "duration": 2.521345,
     "end_time": "2021-06-10T11:00:32.254770",
     "exception": false,
     "start_time": "2021-06-10T11:00:29.733425",
     "status": "completed"
    },
    "tags": []
   }
  },
  {
   "cell_type": "markdown",
   "source": [
    "# Initialising Comet.ml Experiment Tracking"
   ],
   "metadata": {}
  },
  {
   "cell_type": "code",
   "execution_count": 2,
   "source": [
    "comet_ml.init()\n",
    "experiment = Experiment(\n",
    "            project_name=\"edsa-climate-change-sentiment-analysis/Default view\",\n",
    "            workspace=\"classification-ts5\",\n",
    ")"
   ],
   "outputs": [
    {
     "output_type": "stream",
     "name": "stderr",
     "text": [
      "COMET INFO: Comet API key is valid\n",
      "COMET WARNING: As you are running in a Jupyter environment, you will need to call `experiment.end()` when finished to ensure all metrics and code are logged before exiting.\n",
      "COMET INFO: Experiment is live on comet.ml https://www.comet.ml/classification-ts5/edsa-climate-change-sentiment-analysis-default-view/815d51bff2674474ae513e193e0b6af2\n",
      "\n"
     ]
    }
   ],
   "metadata": {}
  },
  {
   "cell_type": "markdown",
   "source": [
    "# Importing Datasets"
   ],
   "metadata": {}
  },
  {
   "cell_type": "code",
   "execution_count": 3,
   "source": [
    "train_df = pd.read_csv('data/train.csv')\n",
    "test_df = pd.read_csv('data/test.csv')\n",
    "print('Data imported succesfully')"
   ],
   "outputs": [
    {
     "output_type": "stream",
     "name": "stdout",
     "text": [
      "Data imported succesfully\n"
     ]
    }
   ],
   "metadata": {
    "execution": {
     "iopub.execute_input": "2021-06-10T11:00:32.316907Z",
     "iopub.status.busy": "2021-06-10T11:00:32.316180Z",
     "iopub.status.idle": "2021-06-10T11:00:32.494847Z",
     "shell.execute_reply": "2021-06-10T11:00:32.494240Z",
     "shell.execute_reply.started": "2021-06-10T08:50:18.225298Z"
    },
    "papermill": {
     "duration": 0.211607,
     "end_time": "2021-06-10T11:00:32.495049",
     "exception": false,
     "start_time": "2021-06-10T11:00:32.283442",
     "status": "completed"
    },
    "tags": []
   }
  },
  {
   "cell_type": "markdown",
   "source": [
    "# First Look at the Data"
   ],
   "metadata": {}
  },
  {
   "cell_type": "code",
   "execution_count": 4,
   "source": [
    "train_df.head()"
   ],
   "outputs": [
    {
     "output_type": "execute_result",
     "data": {
      "text/plain": [
       "   sentiment                                            message  tweetid\n",
       "0          1  PolySciMajor EPA chief doesn't think carbon di...   625221\n",
       "1          1  It's not like we lack evidence of anthropogeni...   126103\n",
       "2          2  RT @RawStory: Researchers say we have three ye...   698562\n",
       "3          1  #TodayinMaker# WIRED : 2016 was a pivotal year...   573736\n",
       "4          1  RT @SoyNovioDeTodas: It's 2016, and a racist, ...   466954"
      ],
      "text/html": "<div>\n<style scoped>\n    .dataframe tbody tr th:only-of-type {\n        vertical-align: middle;\n    }\n\n    .dataframe tbody tr th {\n        vertical-align: top;\n    }\n\n    .dataframe thead th {\n        text-align: right;\n    }\n</style>\n<table border=\"1\" class=\"dataframe\">\n  <thead>\n    <tr style=\"text-align: right;\">\n      <th></th>\n      <th>sentiment</th>\n      <th>message</th>\n      <th>tweetid</th>\n    </tr>\n  </thead>\n  <tbody>\n    <tr>\n      <th>0</th>\n      <td>1</td>\n      <td>PolySciMajor EPA chief doesn't think carbon di...</td>\n      <td>625221</td>\n    </tr>\n    <tr>\n      <th>1</th>\n      <td>1</td>\n      <td>It's not like we lack evidence of anthropogeni...</td>\n      <td>126103</td>\n    </tr>\n    <tr>\n      <th>2</th>\n      <td>2</td>\n      <td>RT @RawStory: Researchers say we have three ye...</td>\n      <td>698562</td>\n    </tr>\n    <tr>\n      <th>3</th>\n      <td>1</td>\n      <td>#TodayinMaker# WIRED : 2016 was a pivotal year...</td>\n      <td>573736</td>\n    </tr>\n    <tr>\n      <th>4</th>\n      <td>1</td>\n      <td>RT @SoyNovioDeTodas: It's 2016, and a racist, ...</td>\n      <td>466954</td>\n    </tr>\n  </tbody>\n</table>\n</div>"
     },
     "metadata": {},
     "execution_count": 4
    }
   ],
   "metadata": {}
  },
  {
   "cell_type": "code",
   "execution_count": 5,
   "source": [
    "test_df.head()"
   ],
   "outputs": [
    {
     "output_type": "execute_result",
     "data": {
      "text/plain": [
       "                                             message  tweetid\n",
       "0  Europe will now be looking to China to make su...   169760\n",
       "1  Combine this with the polling of staffers re c...    35326\n",
       "2  The scary, unimpeachable evidence that climate...   224985\n",
       "3  @Karoli @morgfair @OsborneInk @dailykos \\nPuti...   476263\n",
       "4  RT @FakeWillMoore: 'Female orgasms cause globa...   872928"
      ],
      "text/html": "<div>\n<style scoped>\n    .dataframe tbody tr th:only-of-type {\n        vertical-align: middle;\n    }\n\n    .dataframe tbody tr th {\n        vertical-align: top;\n    }\n\n    .dataframe thead th {\n        text-align: right;\n    }\n</style>\n<table border=\"1\" class=\"dataframe\">\n  <thead>\n    <tr style=\"text-align: right;\">\n      <th></th>\n      <th>message</th>\n      <th>tweetid</th>\n    </tr>\n  </thead>\n  <tbody>\n    <tr>\n      <th>0</th>\n      <td>Europe will now be looking to China to make su...</td>\n      <td>169760</td>\n    </tr>\n    <tr>\n      <th>1</th>\n      <td>Combine this with the polling of staffers re c...</td>\n      <td>35326</td>\n    </tr>\n    <tr>\n      <th>2</th>\n      <td>The scary, unimpeachable evidence that climate...</td>\n      <td>224985</td>\n    </tr>\n    <tr>\n      <th>3</th>\n      <td>@Karoli @morgfair @OsborneInk @dailykos \\nPuti...</td>\n      <td>476263</td>\n    </tr>\n    <tr>\n      <th>4</th>\n      <td>RT @FakeWillMoore: 'Female orgasms cause globa...</td>\n      <td>872928</td>\n    </tr>\n  </tbody>\n</table>\n</div>"
     },
     "metadata": {},
     "execution_count": 5
    }
   ],
   "metadata": {}
  },
  {
   "cell_type": "code",
   "execution_count": 6,
   "source": [
    "#check the shape of the data\n",
    "train_df.shape, test_df.shape"
   ],
   "outputs": [
    {
     "output_type": "execute_result",
     "data": {
      "text/plain": [
       "((15819, 3), (10546, 2))"
      ]
     },
     "metadata": {},
     "execution_count": 6
    }
   ],
   "metadata": {
    "execution": {
     "iopub.execute_input": "2021-06-10T11:00:32.697062Z",
     "iopub.status.busy": "2021-06-10T11:00:32.696382Z",
     "iopub.status.idle": "2021-06-10T11:00:32.701403Z",
     "shell.execute_reply": "2021-06-10T11:00:32.701855Z",
     "shell.execute_reply.started": "2021-06-10T06:17:07.701621Z"
    },
    "papermill": {
     "duration": 0.036715,
     "end_time": "2021-06-10T11:00:32.702052",
     "exception": false,
     "start_time": "2021-06-10T11:00:32.665337",
     "status": "completed"
    },
    "tags": []
   }
  },
  {
   "cell_type": "code",
   "execution_count": 7,
   "source": [
    "#unique sentiments\n",
    "train_df['sentiment'].unique()"
   ],
   "outputs": [
    {
     "output_type": "execute_result",
     "data": {
      "text/plain": [
       "array([ 1,  2,  0, -1], dtype=int64)"
      ]
     },
     "metadata": {},
     "execution_count": 7
    }
   ],
   "metadata": {
    "execution": {
     "iopub.execute_input": "2021-06-10T11:00:32.763657Z",
     "iopub.status.busy": "2021-06-10T11:00:32.762978Z",
     "iopub.status.idle": "2021-06-10T11:00:32.772620Z",
     "shell.execute_reply": "2021-06-10T11:00:32.772132Z",
     "shell.execute_reply.started": "2021-06-10T06:17:20.021929Z"
    },
    "papermill": {
     "duration": 0.041649,
     "end_time": "2021-06-10T11:00:32.772773",
     "exception": false,
     "start_time": "2021-06-10T11:00:32.731124",
     "status": "completed"
    },
    "tags": []
   }
  },
  {
   "cell_type": "code",
   "execution_count": 8,
   "source": [
    "#samples per sentiment\n",
    "train_df['sentiment'].value_counts()"
   ],
   "outputs": [
    {
     "output_type": "execute_result",
     "data": {
      "text/plain": [
       " 1    8530\n",
       " 2    3640\n",
       " 0    2353\n",
       "-1    1296\n",
       "Name: sentiment, dtype: int64"
      ]
     },
     "metadata": {},
     "execution_count": 8
    }
   ],
   "metadata": {}
  },
  {
   "cell_type": "code",
   "execution_count": 9,
   "source": [
    "#trainig data statistics\n",
    "train_df['sentiment'].describe()"
   ],
   "outputs": [
    {
     "output_type": "execute_result",
     "data": {
      "text/plain": [
       "count    15819.000000\n",
       "mean         0.917504\n",
       "std          0.836537\n",
       "min         -1.000000\n",
       "25%          1.000000\n",
       "50%          1.000000\n",
       "75%          1.000000\n",
       "max          2.000000\n",
       "Name: sentiment, dtype: float64"
      ]
     },
     "metadata": {},
     "execution_count": 9
    }
   ],
   "metadata": {}
  },
  {
   "cell_type": "code",
   "execution_count": 10,
   "source": [
    "#checking for nulls\n",
    "train_df.isnull().sum(), test_df.isnull().sum()"
   ],
   "outputs": [
    {
     "output_type": "execute_result",
     "data": {
      "text/plain": [
       "(sentiment    0\n",
       " message      0\n",
       " tweetid      0\n",
       " dtype: int64,\n",
       " message    0\n",
       " tweetid    0\n",
       " dtype: int64)"
      ]
     },
     "metadata": {},
     "execution_count": 10
    }
   ],
   "metadata": {
    "execution": {
     "iopub.execute_input": "2021-06-10T11:00:32.844017Z",
     "iopub.status.busy": "2021-06-10T11:00:32.838561Z",
     "iopub.status.idle": "2021-06-10T11:00:32.847407Z",
     "shell.execute_reply": "2021-06-10T11:00:32.846815Z",
     "shell.execute_reply.started": "2021-06-10T06:17:39.289686Z"
    },
    "papermill": {
     "duration": 0.045151,
     "end_time": "2021-06-10T11:00:32.847546",
     "exception": false,
     "start_time": "2021-06-10T11:00:32.802395",
     "status": "completed"
    },
    "tags": []
   }
  },
  {
   "cell_type": "markdown",
   "source": [
    "# DATA CLEANING"
   ],
   "metadata": {}
  },
  {
   "cell_type": "code",
   "execution_count": 5,
   "source": [
    "# creating copy of train_df\n",
    "df = train_df.copy()"
   ],
   "outputs": [],
   "metadata": {}
  },
  {
   "cell_type": "markdown",
   "source": [
    "### Removing Noise"
   ],
   "metadata": {}
  },
  {
   "cell_type": "code",
   "execution_count": 6,
   "source": [
    "lemmatizer = WordNetLemmatizer()\n",
    "stemmer = PorterStemmer()\n",
    "\n",
    "def preprocess_fil(sentence):\n",
    "    '''function removes noise/cleans text data'''\n",
    "    sentence=str(sentence)\n",
    "    sentence = sentence.lower()\n",
    "    sentence=sentence.replace('{html}',\"\")\n",
    "    cleanr = re.compile('<.*?>') \n",
    "    cleantext = re.sub(cleanr, '', sentence)\n",
    "    rem_url=re.sub(r'http\\S+', '',cleantext)\n",
    "    rem_num = re.sub('[0-9]+', '', rem_url)\n",
    "    tokenizer = RegexpTokenizer(r'\\w+')\n",
    "    tokens = tokenizer.tokenize(rem_num)  \n",
    "    filtered_words = [w for w in tokens if len(w) > 2 if not w in stopwords.words('english')]\n",
    "    stem_words=[stemmer.stem(w) for w in filtered_words]\n",
    "    lemma_words=[lemmatizer.lemmatize(w) for w in stem_words]\n",
    "    return \" \".join(filtered_words)\n",
    "    "
   ],
   "outputs": [],
   "metadata": {}
  },
  {
   "cell_type": "code",
   "execution_count": 7,
   "source": [
    "def preprocess_stemm(sentence):\n",
    "    sentence=str(sentence)\n",
    "    sentence = sentence.lower()\n",
    "    sentence=sentence.replace('{html}',\"\") \n",
    "    cleanr = re.compile('<.*?>')\n",
    "    cleantext = re.sub(cleanr, '', sentence)\n",
    "    rem_url=re.sub(r'http\\S+', '',cleantext)\n",
    "    rem_num = re.sub('[0-9]+', '', rem_url)\n",
    "    tokenizer = RegexpTokenizer(r'\\w+')\n",
    "    tokens = tokenizer.tokenize(rem_num)  \n",
    "    filtered_words = [w for w in tokens if len(w) > 2 if not w in stopwords.words('english')]\n",
    "    stem_words=[stemmer.stem(w) for w in filtered_words]\n",
    "    lemma_words=[lemmatizer.lemmatize(w) for w in stem_words]\n",
    "    return \" \".join(stem_words)"
   ],
   "outputs": [],
   "metadata": {}
  },
  {
   "cell_type": "code",
   "execution_count": 8,
   "source": [
    "def preprocess_lemm(sentence):\n",
    "    sentence=str(sentence)\n",
    "    sentence = sentence.lower()\n",
    "    sentence=sentence.replace('{html}',\"\") \n",
    "    cleanr = re.compile('<.*?>')\n",
    "    cleantext = re.sub(cleanr, '', sentence)\n",
    "    rem_url=re.sub(r'http\\S+', '',cleantext)\n",
    "    rem_num = re.sub('[0-9]+', '', rem_url)\n",
    "    tokenizer = RegexpTokenizer(r'\\w+')\n",
    "    tokens = tokenizer.tokenize(rem_num)  \n",
    "    filtered_words = [w for w in tokens if len(w) > 2 if not w in stopwords.words('english')]\n",
    "    stem_words=[stemmer.stem(w) for w in filtered_words]\n",
    "    lemma_words=[lemmatizer.lemmatize(w) for w in filtered_words ]\n",
    "    return \" \".join(lemma_words)"
   ],
   "outputs": [],
   "metadata": {}
  },
  {
   "cell_type": "code",
   "execution_count": 9,
   "source": [
    "# cleaning the text messages and creates a new column named 'clean_message'\n",
    "df['clean_message']=df['message'].map(lambda s:preprocess_fil(s))\n",
    "df.head()"
   ],
   "outputs": [
    {
     "output_type": "execute_result",
     "data": {
      "text/plain": [
       "   sentiment                                            message  tweetid  \\\n",
       "0          1  PolySciMajor EPA chief doesn't think carbon di...   625221   \n",
       "1          1  It's not like we lack evidence of anthropogeni...   126103   \n",
       "2          2  RT @RawStory: Researchers say we have three ye...   698562   \n",
       "3          1  #TodayinMaker# WIRED : 2016 was a pivotal year...   573736   \n",
       "4          1  RT @SoyNovioDeTodas: It's 2016, and a racist, ...   466954   \n",
       "\n",
       "                                       clean_message  \n",
       "0  polyscimajor epa chief think carbon dioxide ma...  \n",
       "1    like lack evidence anthropogenic global warming  \n",
       "2  rawstory researchers say three years act clima...  \n",
       "3  todayinmaker wired pivotal year war climate ch...  \n",
       "4  soynoviodetodas racist sexist climate change d...  "
      ],
      "text/html": "<div>\n<style scoped>\n    .dataframe tbody tr th:only-of-type {\n        vertical-align: middle;\n    }\n\n    .dataframe tbody tr th {\n        vertical-align: top;\n    }\n\n    .dataframe thead th {\n        text-align: right;\n    }\n</style>\n<table border=\"1\" class=\"dataframe\">\n  <thead>\n    <tr style=\"text-align: right;\">\n      <th></th>\n      <th>sentiment</th>\n      <th>message</th>\n      <th>tweetid</th>\n      <th>clean_message</th>\n    </tr>\n  </thead>\n  <tbody>\n    <tr>\n      <th>0</th>\n      <td>1</td>\n      <td>PolySciMajor EPA chief doesn't think carbon di...</td>\n      <td>625221</td>\n      <td>polyscimajor epa chief think carbon dioxide ma...</td>\n    </tr>\n    <tr>\n      <th>1</th>\n      <td>1</td>\n      <td>It's not like we lack evidence of anthropogeni...</td>\n      <td>126103</td>\n      <td>like lack evidence anthropogenic global warming</td>\n    </tr>\n    <tr>\n      <th>2</th>\n      <td>2</td>\n      <td>RT @RawStory: Researchers say we have three ye...</td>\n      <td>698562</td>\n      <td>rawstory researchers say three years act clima...</td>\n    </tr>\n    <tr>\n      <th>3</th>\n      <td>1</td>\n      <td>#TodayinMaker# WIRED : 2016 was a pivotal year...</td>\n      <td>573736</td>\n      <td>todayinmaker wired pivotal year war climate ch...</td>\n    </tr>\n    <tr>\n      <th>4</th>\n      <td>1</td>\n      <td>RT @SoyNovioDeTodas: It's 2016, and a racist, ...</td>\n      <td>466954</td>\n      <td>soynoviodetodas racist sexist climate change d...</td>\n    </tr>\n  </tbody>\n</table>\n</div>"
     },
     "metadata": {},
     "execution_count": 9
    }
   ],
   "metadata": {}
  },
  {
   "cell_type": "code",
   "execution_count": 10,
   "source": [
    "# lemmatizes the cleaned text data and creates new column named 'Lemma\"\n",
    "df['Lemma']=df['message'].map(lambda s:preprocess_lemm(s)) \n",
    "df.head()"
   ],
   "outputs": [
    {
     "output_type": "execute_result",
     "data": {
      "text/plain": [
       "   sentiment                                            message  tweetid  \\\n",
       "0          1  PolySciMajor EPA chief doesn't think carbon di...   625221   \n",
       "1          1  It's not like we lack evidence of anthropogeni...   126103   \n",
       "2          2  RT @RawStory: Researchers say we have three ye...   698562   \n",
       "3          1  #TodayinMaker# WIRED : 2016 was a pivotal year...   573736   \n",
       "4          1  RT @SoyNovioDeTodas: It's 2016, and a racist, ...   466954   \n",
       "\n",
       "                                       clean_message  \\\n",
       "0  polyscimajor epa chief think carbon dioxide ma...   \n",
       "1    like lack evidence anthropogenic global warming   \n",
       "2  rawstory researchers say three years act clima...   \n",
       "3  todayinmaker wired pivotal year war climate ch...   \n",
       "4  soynoviodetodas racist sexist climate change d...   \n",
       "\n",
       "                                               Lemma  \n",
       "0  polyscimajor epa chief think carbon dioxide ma...  \n",
       "1    like lack evidence anthropogenic global warming  \n",
       "2  rawstory researcher say three year act climate...  \n",
       "3  todayinmaker wired pivotal year war climate ch...  \n",
       "4  soynoviodetodas racist sexist climate change d...  "
      ],
      "text/html": "<div>\n<style scoped>\n    .dataframe tbody tr th:only-of-type {\n        vertical-align: middle;\n    }\n\n    .dataframe tbody tr th {\n        vertical-align: top;\n    }\n\n    .dataframe thead th {\n        text-align: right;\n    }\n</style>\n<table border=\"1\" class=\"dataframe\">\n  <thead>\n    <tr style=\"text-align: right;\">\n      <th></th>\n      <th>sentiment</th>\n      <th>message</th>\n      <th>tweetid</th>\n      <th>clean_message</th>\n      <th>Lemma</th>\n    </tr>\n  </thead>\n  <tbody>\n    <tr>\n      <th>0</th>\n      <td>1</td>\n      <td>PolySciMajor EPA chief doesn't think carbon di...</td>\n      <td>625221</td>\n      <td>polyscimajor epa chief think carbon dioxide ma...</td>\n      <td>polyscimajor epa chief think carbon dioxide ma...</td>\n    </tr>\n    <tr>\n      <th>1</th>\n      <td>1</td>\n      <td>It's not like we lack evidence of anthropogeni...</td>\n      <td>126103</td>\n      <td>like lack evidence anthropogenic global warming</td>\n      <td>like lack evidence anthropogenic global warming</td>\n    </tr>\n    <tr>\n      <th>2</th>\n      <td>2</td>\n      <td>RT @RawStory: Researchers say we have three ye...</td>\n      <td>698562</td>\n      <td>rawstory researchers say three years act clima...</td>\n      <td>rawstory researcher say three year act climate...</td>\n    </tr>\n    <tr>\n      <th>3</th>\n      <td>1</td>\n      <td>#TodayinMaker# WIRED : 2016 was a pivotal year...</td>\n      <td>573736</td>\n      <td>todayinmaker wired pivotal year war climate ch...</td>\n      <td>todayinmaker wired pivotal year war climate ch...</td>\n    </tr>\n    <tr>\n      <th>4</th>\n      <td>1</td>\n      <td>RT @SoyNovioDeTodas: It's 2016, and a racist, ...</td>\n      <td>466954</td>\n      <td>soynoviodetodas racist sexist climate change d...</td>\n      <td>soynoviodetodas racist sexist climate change d...</td>\n    </tr>\n  </tbody>\n</table>\n</div>"
     },
     "metadata": {},
     "execution_count": 10
    }
   ],
   "metadata": {}
  },
  {
   "cell_type": "code",
   "execution_count": 11,
   "source": [
    "# stemmatize the cleaned text data and creates a new column named 'Stemm'\n",
    "df['stemm']=df['message'].map(lambda s:preprocess_stemm(s)) \n",
    "df.head()"
   ],
   "outputs": [
    {
     "output_type": "execute_result",
     "data": {
      "text/plain": [
       "   sentiment                                            message  tweetid  \\\n",
       "0          1  PolySciMajor EPA chief doesn't think carbon di...   625221   \n",
       "1          1  It's not like we lack evidence of anthropogeni...   126103   \n",
       "2          2  RT @RawStory: Researchers say we have three ye...   698562   \n",
       "3          1  #TodayinMaker# WIRED : 2016 was a pivotal year...   573736   \n",
       "4          1  RT @SoyNovioDeTodas: It's 2016, and a racist, ...   466954   \n",
       "\n",
       "                                       clean_message  \\\n",
       "0  polyscimajor epa chief think carbon dioxide ma...   \n",
       "1    like lack evidence anthropogenic global warming   \n",
       "2  rawstory researchers say three years act clima...   \n",
       "3  todayinmaker wired pivotal year war climate ch...   \n",
       "4  soynoviodetodas racist sexist climate change d...   \n",
       "\n",
       "                                               Lemma  \\\n",
       "0  polyscimajor epa chief think carbon dioxide ma...   \n",
       "1    like lack evidence anthropogenic global warming   \n",
       "2  rawstory researcher say three year act climate...   \n",
       "3  todayinmaker wired pivotal year war climate ch...   \n",
       "4  soynoviodetodas racist sexist climate change d...   \n",
       "\n",
       "                                               stemm  \n",
       "0  polyscimajor epa chief think carbon dioxid mai...  \n",
       "1             like lack evid anthropogen global warm  \n",
       "2  rawstori research say three year act climat ch...  \n",
       "3        todayinmak wire pivot year war climat chang  \n",
       "4  soynoviodetoda racist sexist climat chang deni...  "
      ],
      "text/html": "<div>\n<style scoped>\n    .dataframe tbody tr th:only-of-type {\n        vertical-align: middle;\n    }\n\n    .dataframe tbody tr th {\n        vertical-align: top;\n    }\n\n    .dataframe thead th {\n        text-align: right;\n    }\n</style>\n<table border=\"1\" class=\"dataframe\">\n  <thead>\n    <tr style=\"text-align: right;\">\n      <th></th>\n      <th>sentiment</th>\n      <th>message</th>\n      <th>tweetid</th>\n      <th>clean_message</th>\n      <th>Lemma</th>\n      <th>stemm</th>\n    </tr>\n  </thead>\n  <tbody>\n    <tr>\n      <th>0</th>\n      <td>1</td>\n      <td>PolySciMajor EPA chief doesn't think carbon di...</td>\n      <td>625221</td>\n      <td>polyscimajor epa chief think carbon dioxide ma...</td>\n      <td>polyscimajor epa chief think carbon dioxide ma...</td>\n      <td>polyscimajor epa chief think carbon dioxid mai...</td>\n    </tr>\n    <tr>\n      <th>1</th>\n      <td>1</td>\n      <td>It's not like we lack evidence of anthropogeni...</td>\n      <td>126103</td>\n      <td>like lack evidence anthropogenic global warming</td>\n      <td>like lack evidence anthropogenic global warming</td>\n      <td>like lack evid anthropogen global warm</td>\n    </tr>\n    <tr>\n      <th>2</th>\n      <td>2</td>\n      <td>RT @RawStory: Researchers say we have three ye...</td>\n      <td>698562</td>\n      <td>rawstory researchers say three years act clima...</td>\n      <td>rawstory researcher say three year act climate...</td>\n      <td>rawstori research say three year act climat ch...</td>\n    </tr>\n    <tr>\n      <th>3</th>\n      <td>1</td>\n      <td>#TodayinMaker# WIRED : 2016 was a pivotal year...</td>\n      <td>573736</td>\n      <td>todayinmaker wired pivotal year war climate ch...</td>\n      <td>todayinmaker wired pivotal year war climate ch...</td>\n      <td>todayinmak wire pivot year war climat chang</td>\n    </tr>\n    <tr>\n      <th>4</th>\n      <td>1</td>\n      <td>RT @SoyNovioDeTodas: It's 2016, and a racist, ...</td>\n      <td>466954</td>\n      <td>soynoviodetodas racist sexist climate change d...</td>\n      <td>soynoviodetodas racist sexist climate change d...</td>\n      <td>soynoviodetoda racist sexist climat chang deni...</td>\n    </tr>\n  </tbody>\n</table>\n</div>"
     },
     "metadata": {},
     "execution_count": 11
    }
   ],
   "metadata": {}
  },
  {
   "cell_type": "code",
   "execution_count": null,
   "source": [
    "# proves that the lemmatization is applied to the 'clean_message' column\n",
    "df['Lemma']==df['clean_message']"
   ],
   "outputs": [],
   "metadata": {}
  },
  {
   "cell_type": "code",
   "execution_count": null,
   "source": [
    "# proves that stemming is not equal to lemmatization\n",
    "df['Lemma']==df['stemm']"
   ],
   "outputs": [],
   "metadata": {}
  },
  {
   "cell_type": "markdown",
   "source": [
    "## Exploratory Data Analysis (EDA)"
   ],
   "metadata": {
    "papermill": {
     "duration": 0.029839,
     "end_time": "2021-06-10T11:00:32.992482",
     "exception": false,
     "start_time": "2021-06-10T11:00:32.962643",
     "status": "completed"
    },
    "tags": []
   }
  },
  {
   "cell_type": "markdown",
   "source": [
    " Exploratory Data Analysis (EDA) refers to the critical process of performing initial investigations on data so as to discover patterns,to spot anomalies,to test hypothesis and to check assumptions with the help of summary statistics and graphical representations"
   ],
   "metadata": {
    "papermill": {
     "duration": 0.030734,
     "end_time": "2021-06-10T11:00:33.053423",
     "exception": false,
     "start_time": "2021-06-10T11:00:33.022689",
     "status": "completed"
    },
    "tags": []
   }
  },
  {
   "cell_type": "code",
   "execution_count": 21,
   "source": [
    "# Labeling the target\n",
    "df['class_label'] = [['Negative(-1)', 'Neutral(0)', 'Positive(1)', 'News(2)'][x+1] for x in df['sentiment']]\n",
    "df.head()"
   ],
   "outputs": [
    {
     "output_type": "execute_result",
     "data": {
      "text/plain": [
       "   sentiment                                            message  tweetid  \\\n",
       "0          1  PolySciMajor EPA chief doesn't think carbon di...   625221   \n",
       "1          1  It's not like we lack evidence of anthropogeni...   126103   \n",
       "2          2  RT @RawStory: Researchers say we have three ye...   698562   \n",
       "3          1  #TodayinMaker# WIRED : 2016 was a pivotal year...   573736   \n",
       "4          1  RT @SoyNovioDeTodas: It's 2016, and a racist, ...   466954   \n",
       "\n",
       "                                       clean_message  \\\n",
       "0  polyscimajor epa chief think carbon dioxide ma...   \n",
       "1    like lack evidence anthropogenic global warming   \n",
       "2  rawstory researchers say three years act clima...   \n",
       "3  todayinmaker wired pivotal year war climate ch...   \n",
       "4  soynoviodetodas racist sexist climate change d...   \n",
       "\n",
       "                                               Lemma  \\\n",
       "0  polyscimajor epa chief think carbon dioxide ma...   \n",
       "1    like lack evidence anthropogenic global warming   \n",
       "2  rawstory researcher say three year act climate...   \n",
       "3  todayinmaker wired pivotal year war climate ch...   \n",
       "4  soynoviodetodas racist sexist climate change d...   \n",
       "\n",
       "                                               stemm  class_label  \\\n",
       "0  polyscimajor epa chief think carbon dioxid mai...  Positive(1)   \n",
       "1             like lack evid anthropogen global warm  Positive(1)   \n",
       "2  rawstori research say three year act climat ch...      News(2)   \n",
       "3        todayinmak wire pivot year war climat chang  Positive(1)   \n",
       "4  soynoviodetoda racist sexist climat chang deni...  Positive(1)   \n",
       "\n",
       "                                             new_lis  \n",
       "0  [polyscimajor, epa, chief, think, carbon, diox...  \n",
       "1  [like, lack, evidence, anthropogenic, global, ...  \n",
       "2  [rawstory, researchers, say, three, years, act...  \n",
       "3  [todayinmaker, wired, pivotal, year, war, clim...  \n",
       "4  [soynoviodetodas, racist, sexist, climate, cha...  "
      ],
      "text/html": "<div>\n<style scoped>\n    .dataframe tbody tr th:only-of-type {\n        vertical-align: middle;\n    }\n\n    .dataframe tbody tr th {\n        vertical-align: top;\n    }\n\n    .dataframe thead th {\n        text-align: right;\n    }\n</style>\n<table border=\"1\" class=\"dataframe\">\n  <thead>\n    <tr style=\"text-align: right;\">\n      <th></th>\n      <th>sentiment</th>\n      <th>message</th>\n      <th>tweetid</th>\n      <th>clean_message</th>\n      <th>Lemma</th>\n      <th>stemm</th>\n      <th>class_label</th>\n      <th>new_lis</th>\n    </tr>\n  </thead>\n  <tbody>\n    <tr>\n      <th>0</th>\n      <td>1</td>\n      <td>PolySciMajor EPA chief doesn't think carbon di...</td>\n      <td>625221</td>\n      <td>polyscimajor epa chief think carbon dioxide ma...</td>\n      <td>polyscimajor epa chief think carbon dioxide ma...</td>\n      <td>polyscimajor epa chief think carbon dioxid mai...</td>\n      <td>Positive(1)</td>\n      <td>[polyscimajor, epa, chief, think, carbon, diox...</td>\n    </tr>\n    <tr>\n      <th>1</th>\n      <td>1</td>\n      <td>It's not like we lack evidence of anthropogeni...</td>\n      <td>126103</td>\n      <td>like lack evidence anthropogenic global warming</td>\n      <td>like lack evidence anthropogenic global warming</td>\n      <td>like lack evid anthropogen global warm</td>\n      <td>Positive(1)</td>\n      <td>[like, lack, evidence, anthropogenic, global, ...</td>\n    </tr>\n    <tr>\n      <th>2</th>\n      <td>2</td>\n      <td>RT @RawStory: Researchers say we have three ye...</td>\n      <td>698562</td>\n      <td>rawstory researchers say three years act clima...</td>\n      <td>rawstory researcher say three year act climate...</td>\n      <td>rawstori research say three year act climat ch...</td>\n      <td>News(2)</td>\n      <td>[rawstory, researchers, say, three, years, act...</td>\n    </tr>\n    <tr>\n      <th>3</th>\n      <td>1</td>\n      <td>#TodayinMaker# WIRED : 2016 was a pivotal year...</td>\n      <td>573736</td>\n      <td>todayinmaker wired pivotal year war climate ch...</td>\n      <td>todayinmaker wired pivotal year war climate ch...</td>\n      <td>todayinmak wire pivot year war climat chang</td>\n      <td>Positive(1)</td>\n      <td>[todayinmaker, wired, pivotal, year, war, clim...</td>\n    </tr>\n    <tr>\n      <th>4</th>\n      <td>1</td>\n      <td>RT @SoyNovioDeTodas: It's 2016, and a racist, ...</td>\n      <td>466954</td>\n      <td>soynoviodetodas racist sexist climate change d...</td>\n      <td>soynoviodetodas racist sexist climate change d...</td>\n      <td>soynoviodetoda racist sexist climat chang deni...</td>\n      <td>Positive(1)</td>\n      <td>[soynoviodetodas, racist, sexist, climate, cha...</td>\n    </tr>\n  </tbody>\n</table>\n</div>"
     },
     "metadata": {},
     "execution_count": 21
    }
   ],
   "metadata": {
    "execution": {
     "iopub.execute_input": "2021-06-10T11:00:33.127588Z",
     "iopub.status.busy": "2021-06-10T11:00:33.126901Z",
     "iopub.status.idle": "2021-06-10T11:00:33.129384Z",
     "shell.execute_reply": "2021-06-10T11:00:33.129828Z",
     "shell.execute_reply.started": "2021-06-10T08:50:51.730910Z"
    },
    "papermill": {
     "duration": 0.044893,
     "end_time": "2021-06-10T11:00:33.130022",
     "exception": false,
     "start_time": "2021-06-10T11:00:33.085129",
     "status": "completed"
    },
    "tags": []
   }
  },
  {
   "cell_type": "markdown",
   "source": [
    "#### Discreption of Sentiments:\n",
    "- 2 News: the tweet links to factual news about climate change\n",
    "- 1 Positive: the tweet supports the belief of man-made climate change\n",
    "- 0 Neutral: the tweet neither supports nor refutes the belief of man-made climate change\n",
    "- -1 Negative: the tweet does not believe in man-made climate change"
   ],
   "metadata": {}
  },
  {
   "cell_type": "markdown",
   "source": [
    "#### Count of words per sentiment"
   ],
   "metadata": {}
  },
  {
   "cell_type": "code",
   "execution_count": 22,
   "source": [
    "dist = df.groupby('class_label').count()['clean_message'].reset_index().sort_values(by='clean_message',ascending=False)\n",
    "dist.style.background_gradient(cmap='Blues')"
   ],
   "outputs": [
    {
     "output_type": "execute_result",
     "data": {
      "text/plain": [
       "<pandas.io.formats.style.Styler at 0x1c3e4f52400>"
      ],
      "text/html": "<style  type=\"text/css\" >\n#T_da6a7_row0_col1{\n            background-color:  #08306b;\n            color:  #f1f1f1;\n        }#T_da6a7_row1_col1{\n            background-color:  #afd1e7;\n            color:  #000000;\n        }#T_da6a7_row2_col1{\n            background-color:  #dae8f6;\n            color:  #000000;\n        }#T_da6a7_row3_col1{\n            background-color:  #f7fbff;\n            color:  #000000;\n        }</style><table id=\"T_da6a7_\" ><thead>    <tr>        <th class=\"blank level0\" ></th>        <th class=\"col_heading level0 col0\" >class_label</th>        <th class=\"col_heading level0 col1\" >clean_message</th>    </tr></thead><tbody>\n                <tr>\n                        <th id=\"T_da6a7_level0_row0\" class=\"row_heading level0 row0\" >3</th>\n                        <td id=\"T_da6a7_row0_col0\" class=\"data row0 col0\" >Positive(1)</td>\n                        <td id=\"T_da6a7_row0_col1\" class=\"data row0 col1\" >8530</td>\n            </tr>\n            <tr>\n                        <th id=\"T_da6a7_level0_row1\" class=\"row_heading level0 row1\" >2</th>\n                        <td id=\"T_da6a7_row1_col0\" class=\"data row1 col0\" >News(2)</td>\n                        <td id=\"T_da6a7_row1_col1\" class=\"data row1 col1\" >3640</td>\n            </tr>\n            <tr>\n                        <th id=\"T_da6a7_level0_row2\" class=\"row_heading level0 row2\" >1</th>\n                        <td id=\"T_da6a7_row2_col0\" class=\"data row2 col0\" >Neutral(0)</td>\n                        <td id=\"T_da6a7_row2_col1\" class=\"data row2 col1\" >2353</td>\n            </tr>\n            <tr>\n                        <th id=\"T_da6a7_level0_row3\" class=\"row_heading level0 row3\" >0</th>\n                        <td id=\"T_da6a7_row3_col0\" class=\"data row3 col0\" >Negative(-1)</td>\n                        <td id=\"T_da6a7_row3_col1\" class=\"data row3 col1\" >1296</td>\n            </tr>\n    </tbody></table>"
     },
     "metadata": {},
     "execution_count": 22
    }
   ],
   "metadata": {
    "execution": {
     "iopub.execute_input": "2021-06-10T11:00:33.194135Z",
     "iopub.status.busy": "2021-06-10T11:00:33.193514Z",
     "iopub.status.idle": "2021-06-10T11:00:33.245882Z",
     "shell.execute_reply": "2021-06-10T11:00:33.245334Z",
     "shell.execute_reply.started": "2021-06-10T08:51:10.368730Z"
    },
    "papermill": {
     "duration": 0.085286,
     "end_time": "2021-06-10T11:00:33.246038",
     "exception": false,
     "start_time": "2021-06-10T11:00:33.160752",
     "status": "completed"
    },
    "tags": []
   }
  },
  {
   "cell_type": "code",
   "execution_count": 27,
   "source": [
    "labels = []\n",
    "plt.figure(figsize=(12,6))\n",
    "sns.countplot(x='class_label',data=df, palette=\"Blues_d\")\n",
    "plt.title('Count of Tweets per Sentiment')\n",
    "plt.show()\n",
    "plt.savefig('CountPerSentiment.png', dpi=300, bbox_inches='tight')"
   ],
   "outputs": [
    {
     "output_type": "display_data",
     "data": {
      "text/plain": "<Figure size 864x432 with 1 Axes>",
      "image/svg+xml": "<?xml version=\"1.0\" encoding=\"utf-8\" standalone=\"no\"?>\r\n<!DOCTYPE svg PUBLIC \"-//W3C//DTD SVG 1.1//EN\"\r\n  \"http://www.w3.org/Graphics/SVG/1.1/DTD/svg11.dtd\">\r\n<svg height=\"386.3125pt\" version=\"1.1\" viewBox=\"0 0 730.128125 386.3125\" width=\"730.128125pt\" xmlns=\"http://www.w3.org/2000/svg\" xmlns:xlink=\"http://www.w3.org/1999/xlink\">\r\n <metadata>\r\n  <rdf:RDF xmlns:cc=\"http://creativecommons.org/ns#\" xmlns:dc=\"http://purl.org/dc/elements/1.1/\" xmlns:rdf=\"http://www.w3.org/1999/02/22-rdf-syntax-ns#\">\r\n   <cc:Work>\r\n    <dc:type rdf:resource=\"http://purl.org/dc/dcmitype/StillImage\"/>\r\n    <dc:date>2021-06-24T03:18:14.597382</dc:date>\r\n    <dc:format>image/svg+xml</dc:format>\r\n    <dc:creator>\r\n     <cc:Agent>\r\n      <dc:title>Matplotlib v3.4.2, https://matplotlib.org/</dc:title>\r\n     </cc:Agent>\r\n    </dc:creator>\r\n   </cc:Work>\r\n  </rdf:RDF>\r\n </metadata>\r\n <defs>\r\n  <style type=\"text/css\">*{stroke-linecap:butt;stroke-linejoin:round;}</style>\r\n </defs>\r\n <g id=\"figure_1\">\r\n  <g id=\"patch_1\">\r\n   <path d=\"M 0 386.3125 \r\nL 730.128125 386.3125 \r\nL 730.128125 0 \r\nL 0 0 \r\nz\r\n\" style=\"fill:none;\"/>\r\n  </g>\r\n  <g id=\"axes_1\">\r\n   <g id=\"patch_2\">\r\n    <path d=\"M 53.328125 348.478125 \r\nL 722.928125 348.478125 \r\nL 722.928125 22.318125 \r\nL 53.328125 22.318125 \r\nz\r\n\" style=\"fill:#ffffff;\"/>\r\n   </g>\r\n   <g id=\"patch_3\">\r\n    <path clip-path=\"url(#p49c94a1bb5)\" d=\"M 70.068125 348.478125 \r\nL 203.988125 348.478125 \r\nL 203.988125 37.849554 \r\nL 70.068125 37.849554 \r\nz\r\n\" style=\"fill:#88b0cb;\"/>\r\n   </g>\r\n   <g id=\"patch_4\">\r\n    <path clip-path=\"url(#p49c94a1bb5)\" d=\"M 237.468125 348.478125 \r\nL 371.388125 348.478125 \r\nL 371.388125 215.923846 \r\nL 237.468125 215.923846 \r\nz\r\n\" style=\"fill:#5d93b9;\"/>\r\n   </g>\r\n   <g id=\"patch_5\">\r\n    <path clip-path=\"url(#p49c94a1bb5)\" d=\"M 404.868125 348.478125 \r\nL 538.788125 348.478125 \r\nL 538.788125 262.791252 \r\nL 404.868125 262.791252 \r\nz\r\n\" style=\"fill:#447496;\"/>\r\n   </g>\r\n   <g id=\"patch_6\">\r\n    <path clip-path=\"url(#p49c94a1bb5)\" d=\"M 572.268125 348.478125 \r\nL 706.188125 348.478125 \r\nL 706.188125 301.282975 \r\nL 572.268125 301.282975 \r\nz\r\n\" style=\"fill:#3b5365;\"/>\r\n   </g>\r\n   <g id=\"matplotlib.axis_1\">\r\n    <g id=\"xtick_1\">\r\n     <g id=\"line2d_1\">\r\n      <defs>\r\n       <path d=\"M 0 0 \r\nL 0 3.5 \r\n\" id=\"m9027535fc2\" style=\"stroke:#000000;stroke-width:0.8;\"/>\r\n      </defs>\r\n      <g>\r\n       <use style=\"stroke:#000000;stroke-width:0.8;\" x=\"137.028125\" xlink:href=\"#m9027535fc2\" y=\"348.478125\"/>\r\n      </g>\r\n     </g>\r\n     <g id=\"text_1\">\r\n      <!-- Positive(1) -->\r\n      <g transform=\"translate(110.673438 363.076562)scale(0.1 -0.1)\">\r\n       <defs>\r\n        <path d=\"M 1259 4147 \r\nL 1259 2394 \r\nL 2053 2394 \r\nQ 2494 2394 2734 2622 \r\nQ 2975 2850 2975 3272 \r\nQ 2975 3691 2734 3919 \r\nQ 2494 4147 2053 4147 \r\nL 1259 4147 \r\nz\r\nM 628 4666 \r\nL 2053 4666 \r\nQ 2838 4666 3239 4311 \r\nQ 3641 3956 3641 3272 \r\nQ 3641 2581 3239 2228 \r\nQ 2838 1875 2053 1875 \r\nL 1259 1875 \r\nL 1259 0 \r\nL 628 0 \r\nL 628 4666 \r\nz\r\n\" id=\"DejaVuSans-50\" transform=\"scale(0.015625)\"/>\r\n        <path d=\"M 1959 3097 \r\nQ 1497 3097 1228 2736 \r\nQ 959 2375 959 1747 \r\nQ 959 1119 1226 758 \r\nQ 1494 397 1959 397 \r\nQ 2419 397 2687 759 \r\nQ 2956 1122 2956 1747 \r\nQ 2956 2369 2687 2733 \r\nQ 2419 3097 1959 3097 \r\nz\r\nM 1959 3584 \r\nQ 2709 3584 3137 3096 \r\nQ 3566 2609 3566 1747 \r\nQ 3566 888 3137 398 \r\nQ 2709 -91 1959 -91 \r\nQ 1206 -91 779 398 \r\nQ 353 888 353 1747 \r\nQ 353 2609 779 3096 \r\nQ 1206 3584 1959 3584 \r\nz\r\n\" id=\"DejaVuSans-6f\" transform=\"scale(0.015625)\"/>\r\n        <path d=\"M 2834 3397 \r\nL 2834 2853 \r\nQ 2591 2978 2328 3040 \r\nQ 2066 3103 1784 3103 \r\nQ 1356 3103 1142 2972 \r\nQ 928 2841 928 2578 \r\nQ 928 2378 1081 2264 \r\nQ 1234 2150 1697 2047 \r\nL 1894 2003 \r\nQ 2506 1872 2764 1633 \r\nQ 3022 1394 3022 966 \r\nQ 3022 478 2636 193 \r\nQ 2250 -91 1575 -91 \r\nQ 1294 -91 989 -36 \r\nQ 684 19 347 128 \r\nL 347 722 \r\nQ 666 556 975 473 \r\nQ 1284 391 1588 391 \r\nQ 1994 391 2212 530 \r\nQ 2431 669 2431 922 \r\nQ 2431 1156 2273 1281 \r\nQ 2116 1406 1581 1522 \r\nL 1381 1569 \r\nQ 847 1681 609 1914 \r\nQ 372 2147 372 2553 \r\nQ 372 3047 722 3315 \r\nQ 1072 3584 1716 3584 \r\nQ 2034 3584 2315 3537 \r\nQ 2597 3491 2834 3397 \r\nz\r\n\" id=\"DejaVuSans-73\" transform=\"scale(0.015625)\"/>\r\n        <path d=\"M 603 3500 \r\nL 1178 3500 \r\nL 1178 0 \r\nL 603 0 \r\nL 603 3500 \r\nz\r\nM 603 4863 \r\nL 1178 4863 \r\nL 1178 4134 \r\nL 603 4134 \r\nL 603 4863 \r\nz\r\n\" id=\"DejaVuSans-69\" transform=\"scale(0.015625)\"/>\r\n        <path d=\"M 1172 4494 \r\nL 1172 3500 \r\nL 2356 3500 \r\nL 2356 3053 \r\nL 1172 3053 \r\nL 1172 1153 \r\nQ 1172 725 1289 603 \r\nQ 1406 481 1766 481 \r\nL 2356 481 \r\nL 2356 0 \r\nL 1766 0 \r\nQ 1100 0 847 248 \r\nQ 594 497 594 1153 \r\nL 594 3053 \r\nL 172 3053 \r\nL 172 3500 \r\nL 594 3500 \r\nL 594 4494 \r\nL 1172 4494 \r\nz\r\n\" id=\"DejaVuSans-74\" transform=\"scale(0.015625)\"/>\r\n        <path d=\"M 191 3500 \r\nL 800 3500 \r\nL 1894 563 \r\nL 2988 3500 \r\nL 3597 3500 \r\nL 2284 0 \r\nL 1503 0 \r\nL 191 3500 \r\nz\r\n\" id=\"DejaVuSans-76\" transform=\"scale(0.015625)\"/>\r\n        <path d=\"M 3597 1894 \r\nL 3597 1613 \r\nL 953 1613 \r\nQ 991 1019 1311 708 \r\nQ 1631 397 2203 397 \r\nQ 2534 397 2845 478 \r\nQ 3156 559 3463 722 \r\nL 3463 178 \r\nQ 3153 47 2828 -22 \r\nQ 2503 -91 2169 -91 \r\nQ 1331 -91 842 396 \r\nQ 353 884 353 1716 \r\nQ 353 2575 817 3079 \r\nQ 1281 3584 2069 3584 \r\nQ 2775 3584 3186 3129 \r\nQ 3597 2675 3597 1894 \r\nz\r\nM 3022 2063 \r\nQ 3016 2534 2758 2815 \r\nQ 2500 3097 2075 3097 \r\nQ 1594 3097 1305 2825 \r\nQ 1016 2553 972 2059 \r\nL 3022 2063 \r\nz\r\n\" id=\"DejaVuSans-65\" transform=\"scale(0.015625)\"/>\r\n        <path d=\"M 1984 4856 \r\nQ 1566 4138 1362 3434 \r\nQ 1159 2731 1159 2009 \r\nQ 1159 1288 1364 580 \r\nQ 1569 -128 1984 -844 \r\nL 1484 -844 \r\nQ 1016 -109 783 600 \r\nQ 550 1309 550 2009 \r\nQ 550 2706 781 3412 \r\nQ 1013 4119 1484 4856 \r\nL 1984 4856 \r\nz\r\n\" id=\"DejaVuSans-28\" transform=\"scale(0.015625)\"/>\r\n        <path d=\"M 794 531 \r\nL 1825 531 \r\nL 1825 4091 \r\nL 703 3866 \r\nL 703 4441 \r\nL 1819 4666 \r\nL 2450 4666 \r\nL 2450 531 \r\nL 3481 531 \r\nL 3481 0 \r\nL 794 0 \r\nL 794 531 \r\nz\r\n\" id=\"DejaVuSans-31\" transform=\"scale(0.015625)\"/>\r\n        <path d=\"M 513 4856 \r\nL 1013 4856 \r\nQ 1481 4119 1714 3412 \r\nQ 1947 2706 1947 2009 \r\nQ 1947 1309 1714 600 \r\nQ 1481 -109 1013 -844 \r\nL 513 -844 \r\nQ 928 -128 1133 580 \r\nQ 1338 1288 1338 2009 \r\nQ 1338 2731 1133 3434 \r\nQ 928 4138 513 4856 \r\nz\r\n\" id=\"DejaVuSans-29\" transform=\"scale(0.015625)\"/>\r\n       </defs>\r\n       <use xlink:href=\"#DejaVuSans-50\"/>\r\n       <use x=\"56.677734\" xlink:href=\"#DejaVuSans-6f\"/>\r\n       <use x=\"117.859375\" xlink:href=\"#DejaVuSans-73\"/>\r\n       <use x=\"169.958984\" xlink:href=\"#DejaVuSans-69\"/>\r\n       <use x=\"197.742188\" xlink:href=\"#DejaVuSans-74\"/>\r\n       <use x=\"236.951172\" xlink:href=\"#DejaVuSans-69\"/>\r\n       <use x=\"264.734375\" xlink:href=\"#DejaVuSans-76\"/>\r\n       <use x=\"323.914062\" xlink:href=\"#DejaVuSans-65\"/>\r\n       <use x=\"385.4375\" xlink:href=\"#DejaVuSans-28\"/>\r\n       <use x=\"424.451172\" xlink:href=\"#DejaVuSans-31\"/>\r\n       <use x=\"488.074219\" xlink:href=\"#DejaVuSans-29\"/>\r\n      </g>\r\n     </g>\r\n    </g>\r\n    <g id=\"xtick_2\">\r\n     <g id=\"line2d_2\">\r\n      <g>\r\n       <use style=\"stroke:#000000;stroke-width:0.8;\" x=\"304.428125\" xlink:href=\"#m9027535fc2\" y=\"348.478125\"/>\r\n      </g>\r\n     </g>\r\n     <g id=\"text_2\">\r\n      <!-- News(2) -->\r\n      <g transform=\"translate(283.834375 363.076562)scale(0.1 -0.1)\">\r\n       <defs>\r\n        <path d=\"M 628 4666 \r\nL 1478 4666 \r\nL 3547 763 \r\nL 3547 4666 \r\nL 4159 4666 \r\nL 4159 0 \r\nL 3309 0 \r\nL 1241 3903 \r\nL 1241 0 \r\nL 628 0 \r\nL 628 4666 \r\nz\r\n\" id=\"DejaVuSans-4e\" transform=\"scale(0.015625)\"/>\r\n        <path d=\"M 269 3500 \r\nL 844 3500 \r\nL 1563 769 \r\nL 2278 3500 \r\nL 2956 3500 \r\nL 3675 769 \r\nL 4391 3500 \r\nL 4966 3500 \r\nL 4050 0 \r\nL 3372 0 \r\nL 2619 2869 \r\nL 1863 0 \r\nL 1184 0 \r\nL 269 3500 \r\nz\r\n\" id=\"DejaVuSans-77\" transform=\"scale(0.015625)\"/>\r\n        <path d=\"M 1228 531 \r\nL 3431 531 \r\nL 3431 0 \r\nL 469 0 \r\nL 469 531 \r\nQ 828 903 1448 1529 \r\nQ 2069 2156 2228 2338 \r\nQ 2531 2678 2651 2914 \r\nQ 2772 3150 2772 3378 \r\nQ 2772 3750 2511 3984 \r\nQ 2250 4219 1831 4219 \r\nQ 1534 4219 1204 4116 \r\nQ 875 4013 500 3803 \r\nL 500 4441 \r\nQ 881 4594 1212 4672 \r\nQ 1544 4750 1819 4750 \r\nQ 2544 4750 2975 4387 \r\nQ 3406 4025 3406 3419 \r\nQ 3406 3131 3298 2873 \r\nQ 3191 2616 2906 2266 \r\nQ 2828 2175 2409 1742 \r\nQ 1991 1309 1228 531 \r\nz\r\n\" id=\"DejaVuSans-32\" transform=\"scale(0.015625)\"/>\r\n       </defs>\r\n       <use xlink:href=\"#DejaVuSans-4e\"/>\r\n       <use x=\"74.804688\" xlink:href=\"#DejaVuSans-65\"/>\r\n       <use x=\"136.328125\" xlink:href=\"#DejaVuSans-77\"/>\r\n       <use x=\"218.115234\" xlink:href=\"#DejaVuSans-73\"/>\r\n       <use x=\"270.214844\" xlink:href=\"#DejaVuSans-28\"/>\r\n       <use x=\"309.228516\" xlink:href=\"#DejaVuSans-32\"/>\r\n       <use x=\"372.851562\" xlink:href=\"#DejaVuSans-29\"/>\r\n      </g>\r\n     </g>\r\n    </g>\r\n    <g id=\"xtick_3\">\r\n     <g id=\"line2d_3\">\r\n      <g>\r\n       <use style=\"stroke:#000000;stroke-width:0.8;\" x=\"471.828125\" xlink:href=\"#m9027535fc2\" y=\"348.478125\"/>\r\n      </g>\r\n     </g>\r\n     <g id=\"text_3\">\r\n      <!-- Neutral(0) -->\r\n      <g transform=\"translate(446.290625 363.076562)scale(0.1 -0.1)\">\r\n       <defs>\r\n        <path d=\"M 544 1381 \r\nL 544 3500 \r\nL 1119 3500 \r\nL 1119 1403 \r\nQ 1119 906 1312 657 \r\nQ 1506 409 1894 409 \r\nQ 2359 409 2629 706 \r\nQ 2900 1003 2900 1516 \r\nL 2900 3500 \r\nL 3475 3500 \r\nL 3475 0 \r\nL 2900 0 \r\nL 2900 538 \r\nQ 2691 219 2414 64 \r\nQ 2138 -91 1772 -91 \r\nQ 1169 -91 856 284 \r\nQ 544 659 544 1381 \r\nz\r\nM 1991 3584 \r\nL 1991 3584 \r\nz\r\n\" id=\"DejaVuSans-75\" transform=\"scale(0.015625)\"/>\r\n        <path d=\"M 2631 2963 \r\nQ 2534 3019 2420 3045 \r\nQ 2306 3072 2169 3072 \r\nQ 1681 3072 1420 2755 \r\nQ 1159 2438 1159 1844 \r\nL 1159 0 \r\nL 581 0 \r\nL 581 3500 \r\nL 1159 3500 \r\nL 1159 2956 \r\nQ 1341 3275 1631 3429 \r\nQ 1922 3584 2338 3584 \r\nQ 2397 3584 2469 3576 \r\nQ 2541 3569 2628 3553 \r\nL 2631 2963 \r\nz\r\n\" id=\"DejaVuSans-72\" transform=\"scale(0.015625)\"/>\r\n        <path d=\"M 2194 1759 \r\nQ 1497 1759 1228 1600 \r\nQ 959 1441 959 1056 \r\nQ 959 750 1161 570 \r\nQ 1363 391 1709 391 \r\nQ 2188 391 2477 730 \r\nQ 2766 1069 2766 1631 \r\nL 2766 1759 \r\nL 2194 1759 \r\nz\r\nM 3341 1997 \r\nL 3341 0 \r\nL 2766 0 \r\nL 2766 531 \r\nQ 2569 213 2275 61 \r\nQ 1981 -91 1556 -91 \r\nQ 1019 -91 701 211 \r\nQ 384 513 384 1019 \r\nQ 384 1609 779 1909 \r\nQ 1175 2209 1959 2209 \r\nL 2766 2209 \r\nL 2766 2266 \r\nQ 2766 2663 2505 2880 \r\nQ 2244 3097 1772 3097 \r\nQ 1472 3097 1187 3025 \r\nQ 903 2953 641 2809 \r\nL 641 3341 \r\nQ 956 3463 1253 3523 \r\nQ 1550 3584 1831 3584 \r\nQ 2591 3584 2966 3190 \r\nQ 3341 2797 3341 1997 \r\nz\r\n\" id=\"DejaVuSans-61\" transform=\"scale(0.015625)\"/>\r\n        <path d=\"M 603 4863 \r\nL 1178 4863 \r\nL 1178 0 \r\nL 603 0 \r\nL 603 4863 \r\nz\r\n\" id=\"DejaVuSans-6c\" transform=\"scale(0.015625)\"/>\r\n        <path d=\"M 2034 4250 \r\nQ 1547 4250 1301 3770 \r\nQ 1056 3291 1056 2328 \r\nQ 1056 1369 1301 889 \r\nQ 1547 409 2034 409 \r\nQ 2525 409 2770 889 \r\nQ 3016 1369 3016 2328 \r\nQ 3016 3291 2770 3770 \r\nQ 2525 4250 2034 4250 \r\nz\r\nM 2034 4750 \r\nQ 2819 4750 3233 4129 \r\nQ 3647 3509 3647 2328 \r\nQ 3647 1150 3233 529 \r\nQ 2819 -91 2034 -91 \r\nQ 1250 -91 836 529 \r\nQ 422 1150 422 2328 \r\nQ 422 3509 836 4129 \r\nQ 1250 4750 2034 4750 \r\nz\r\n\" id=\"DejaVuSans-30\" transform=\"scale(0.015625)\"/>\r\n       </defs>\r\n       <use xlink:href=\"#DejaVuSans-4e\"/>\r\n       <use x=\"74.804688\" xlink:href=\"#DejaVuSans-65\"/>\r\n       <use x=\"136.328125\" xlink:href=\"#DejaVuSans-75\"/>\r\n       <use x=\"199.707031\" xlink:href=\"#DejaVuSans-74\"/>\r\n       <use x=\"238.916016\" xlink:href=\"#DejaVuSans-72\"/>\r\n       <use x=\"280.029297\" xlink:href=\"#DejaVuSans-61\"/>\r\n       <use x=\"341.308594\" xlink:href=\"#DejaVuSans-6c\"/>\r\n       <use x=\"369.091797\" xlink:href=\"#DejaVuSans-28\"/>\r\n       <use x=\"408.105469\" xlink:href=\"#DejaVuSans-30\"/>\r\n       <use x=\"471.728516\" xlink:href=\"#DejaVuSans-29\"/>\r\n      </g>\r\n     </g>\r\n    </g>\r\n    <g id=\"xtick_4\">\r\n     <g id=\"line2d_4\">\r\n      <g>\r\n       <use style=\"stroke:#000000;stroke-width:0.8;\" x=\"639.228125\" xlink:href=\"#m9027535fc2\" y=\"348.478125\"/>\r\n      </g>\r\n     </g>\r\n     <g id=\"text_4\">\r\n      <!-- Negative(-1) -->\r\n      <g transform=\"translate(607.900781 363.076562)scale(0.1 -0.1)\">\r\n       <defs>\r\n        <path d=\"M 2906 1791 \r\nQ 2906 2416 2648 2759 \r\nQ 2391 3103 1925 3103 \r\nQ 1463 3103 1205 2759 \r\nQ 947 2416 947 1791 \r\nQ 947 1169 1205 825 \r\nQ 1463 481 1925 481 \r\nQ 2391 481 2648 825 \r\nQ 2906 1169 2906 1791 \r\nz\r\nM 3481 434 \r\nQ 3481 -459 3084 -895 \r\nQ 2688 -1331 1869 -1331 \r\nQ 1566 -1331 1297 -1286 \r\nQ 1028 -1241 775 -1147 \r\nL 775 -588 \r\nQ 1028 -725 1275 -790 \r\nQ 1522 -856 1778 -856 \r\nQ 2344 -856 2625 -561 \r\nQ 2906 -266 2906 331 \r\nL 2906 616 \r\nQ 2728 306 2450 153 \r\nQ 2172 0 1784 0 \r\nQ 1141 0 747 490 \r\nQ 353 981 353 1791 \r\nQ 353 2603 747 3093 \r\nQ 1141 3584 1784 3584 \r\nQ 2172 3584 2450 3431 \r\nQ 2728 3278 2906 2969 \r\nL 2906 3500 \r\nL 3481 3500 \r\nL 3481 434 \r\nz\r\n\" id=\"DejaVuSans-67\" transform=\"scale(0.015625)\"/>\r\n        <path d=\"M 313 2009 \r\nL 1997 2009 \r\nL 1997 1497 \r\nL 313 1497 \r\nL 313 2009 \r\nz\r\n\" id=\"DejaVuSans-2d\" transform=\"scale(0.015625)\"/>\r\n       </defs>\r\n       <use xlink:href=\"#DejaVuSans-4e\"/>\r\n       <use x=\"74.804688\" xlink:href=\"#DejaVuSans-65\"/>\r\n       <use x=\"136.328125\" xlink:href=\"#DejaVuSans-67\"/>\r\n       <use x=\"199.804688\" xlink:href=\"#DejaVuSans-61\"/>\r\n       <use x=\"261.083984\" xlink:href=\"#DejaVuSans-74\"/>\r\n       <use x=\"300.292969\" xlink:href=\"#DejaVuSans-69\"/>\r\n       <use x=\"328.076172\" xlink:href=\"#DejaVuSans-76\"/>\r\n       <use x=\"387.255859\" xlink:href=\"#DejaVuSans-65\"/>\r\n       <use x=\"448.779297\" xlink:href=\"#DejaVuSans-28\"/>\r\n       <use x=\"487.792969\" xlink:href=\"#DejaVuSans-2d\"/>\r\n       <use x=\"523.876953\" xlink:href=\"#DejaVuSans-31\"/>\r\n       <use x=\"587.5\" xlink:href=\"#DejaVuSans-29\"/>\r\n      </g>\r\n     </g>\r\n    </g>\r\n    <g id=\"text_5\">\r\n     <!-- class_label -->\r\n     <g transform=\"translate(361.123438 376.754687)scale(0.1 -0.1)\">\r\n      <defs>\r\n       <path d=\"M 3122 3366 \r\nL 3122 2828 \r\nQ 2878 2963 2633 3030 \r\nQ 2388 3097 2138 3097 \r\nQ 1578 3097 1268 2742 \r\nQ 959 2388 959 1747 \r\nQ 959 1106 1268 751 \r\nQ 1578 397 2138 397 \r\nQ 2388 397 2633 464 \r\nQ 2878 531 3122 666 \r\nL 3122 134 \r\nQ 2881 22 2623 -34 \r\nQ 2366 -91 2075 -91 \r\nQ 1284 -91 818 406 \r\nQ 353 903 353 1747 \r\nQ 353 2603 823 3093 \r\nQ 1294 3584 2113 3584 \r\nQ 2378 3584 2631 3529 \r\nQ 2884 3475 3122 3366 \r\nz\r\n\" id=\"DejaVuSans-63\" transform=\"scale(0.015625)\"/>\r\n       <path d=\"M 3263 -1063 \r\nL 3263 -1509 \r\nL -63 -1509 \r\nL -63 -1063 \r\nL 3263 -1063 \r\nz\r\n\" id=\"DejaVuSans-5f\" transform=\"scale(0.015625)\"/>\r\n       <path d=\"M 3116 1747 \r\nQ 3116 2381 2855 2742 \r\nQ 2594 3103 2138 3103 \r\nQ 1681 3103 1420 2742 \r\nQ 1159 2381 1159 1747 \r\nQ 1159 1113 1420 752 \r\nQ 1681 391 2138 391 \r\nQ 2594 391 2855 752 \r\nQ 3116 1113 3116 1747 \r\nz\r\nM 1159 2969 \r\nQ 1341 3281 1617 3432 \r\nQ 1894 3584 2278 3584 \r\nQ 2916 3584 3314 3078 \r\nQ 3713 2572 3713 1747 \r\nQ 3713 922 3314 415 \r\nQ 2916 -91 2278 -91 \r\nQ 1894 -91 1617 61 \r\nQ 1341 213 1159 525 \r\nL 1159 0 \r\nL 581 0 \r\nL 581 4863 \r\nL 1159 4863 \r\nL 1159 2969 \r\nz\r\n\" id=\"DejaVuSans-62\" transform=\"scale(0.015625)\"/>\r\n      </defs>\r\n      <use xlink:href=\"#DejaVuSans-63\"/>\r\n      <use x=\"54.980469\" xlink:href=\"#DejaVuSans-6c\"/>\r\n      <use x=\"82.763672\" xlink:href=\"#DejaVuSans-61\"/>\r\n      <use x=\"144.042969\" xlink:href=\"#DejaVuSans-73\"/>\r\n      <use x=\"196.142578\" xlink:href=\"#DejaVuSans-73\"/>\r\n      <use x=\"248.242188\" xlink:href=\"#DejaVuSans-5f\"/>\r\n      <use x=\"298.242188\" xlink:href=\"#DejaVuSans-6c\"/>\r\n      <use x=\"326.025391\" xlink:href=\"#DejaVuSans-61\"/>\r\n      <use x=\"387.304688\" xlink:href=\"#DejaVuSans-62\"/>\r\n      <use x=\"450.78125\" xlink:href=\"#DejaVuSans-65\"/>\r\n      <use x=\"512.304688\" xlink:href=\"#DejaVuSans-6c\"/>\r\n     </g>\r\n    </g>\r\n   </g>\r\n   <g id=\"matplotlib.axis_2\">\r\n    <g id=\"ytick_1\">\r\n     <g id=\"line2d_5\">\r\n      <defs>\r\n       <path d=\"M 0 0 \r\nL -3.5 0 \r\n\" id=\"m74497a66ab\" style=\"stroke:#000000;stroke-width:0.8;\"/>\r\n      </defs>\r\n      <g>\r\n       <use style=\"stroke:#000000;stroke-width:0.8;\" x=\"53.328125\" xlink:href=\"#m74497a66ab\" y=\"348.478125\"/>\r\n      </g>\r\n     </g>\r\n     <g id=\"text_6\">\r\n      <!-- 0 -->\r\n      <g transform=\"translate(39.965625 352.277344)scale(0.1 -0.1)\">\r\n       <use xlink:href=\"#DejaVuSans-30\"/>\r\n      </g>\r\n     </g>\r\n    </g>\r\n    <g id=\"ytick_2\">\r\n     <g id=\"line2d_6\">\r\n      <g>\r\n       <use style=\"stroke:#000000;stroke-width:0.8;\" x=\"53.328125\" xlink:href=\"#m74497a66ab\" y=\"312.062114\"/>\r\n      </g>\r\n     </g>\r\n     <g id=\"text_7\">\r\n      <!-- 1000 -->\r\n      <g transform=\"translate(20.878125 315.861333)scale(0.1 -0.1)\">\r\n       <use xlink:href=\"#DejaVuSans-31\"/>\r\n       <use x=\"63.623047\" xlink:href=\"#DejaVuSans-30\"/>\r\n       <use x=\"127.246094\" xlink:href=\"#DejaVuSans-30\"/>\r\n       <use x=\"190.869141\" xlink:href=\"#DejaVuSans-30\"/>\r\n      </g>\r\n     </g>\r\n    </g>\r\n    <g id=\"ytick_3\">\r\n     <g id=\"line2d_7\">\r\n      <g>\r\n       <use style=\"stroke:#000000;stroke-width:0.8;\" x=\"53.328125\" xlink:href=\"#m74497a66ab\" y=\"275.646104\"/>\r\n      </g>\r\n     </g>\r\n     <g id=\"text_8\">\r\n      <!-- 2000 -->\r\n      <g transform=\"translate(20.878125 279.445322)scale(0.1 -0.1)\">\r\n       <use xlink:href=\"#DejaVuSans-32\"/>\r\n       <use x=\"63.623047\" xlink:href=\"#DejaVuSans-30\"/>\r\n       <use x=\"127.246094\" xlink:href=\"#DejaVuSans-30\"/>\r\n       <use x=\"190.869141\" xlink:href=\"#DejaVuSans-30\"/>\r\n      </g>\r\n     </g>\r\n    </g>\r\n    <g id=\"ytick_4\">\r\n     <g id=\"line2d_8\">\r\n      <g>\r\n       <use style=\"stroke:#000000;stroke-width:0.8;\" x=\"53.328125\" xlink:href=\"#m74497a66ab\" y=\"239.230093\"/>\r\n      </g>\r\n     </g>\r\n     <g id=\"text_9\">\r\n      <!-- 3000 -->\r\n      <g transform=\"translate(20.878125 243.029312)scale(0.1 -0.1)\">\r\n       <defs>\r\n        <path d=\"M 2597 2516 \r\nQ 3050 2419 3304 2112 \r\nQ 3559 1806 3559 1356 \r\nQ 3559 666 3084 287 \r\nQ 2609 -91 1734 -91 \r\nQ 1441 -91 1130 -33 \r\nQ 819 25 488 141 \r\nL 488 750 \r\nQ 750 597 1062 519 \r\nQ 1375 441 1716 441 \r\nQ 2309 441 2620 675 \r\nQ 2931 909 2931 1356 \r\nQ 2931 1769 2642 2001 \r\nQ 2353 2234 1838 2234 \r\nL 1294 2234 \r\nL 1294 2753 \r\nL 1863 2753 \r\nQ 2328 2753 2575 2939 \r\nQ 2822 3125 2822 3475 \r\nQ 2822 3834 2567 4026 \r\nQ 2313 4219 1838 4219 \r\nQ 1578 4219 1281 4162 \r\nQ 984 4106 628 3988 \r\nL 628 4550 \r\nQ 988 4650 1302 4700 \r\nQ 1616 4750 1894 4750 \r\nQ 2613 4750 3031 4423 \r\nQ 3450 4097 3450 3541 \r\nQ 3450 3153 3228 2886 \r\nQ 3006 2619 2597 2516 \r\nz\r\n\" id=\"DejaVuSans-33\" transform=\"scale(0.015625)\"/>\r\n       </defs>\r\n       <use xlink:href=\"#DejaVuSans-33\"/>\r\n       <use x=\"63.623047\" xlink:href=\"#DejaVuSans-30\"/>\r\n       <use x=\"127.246094\" xlink:href=\"#DejaVuSans-30\"/>\r\n       <use x=\"190.869141\" xlink:href=\"#DejaVuSans-30\"/>\r\n      </g>\r\n     </g>\r\n    </g>\r\n    <g id=\"ytick_5\">\r\n     <g id=\"line2d_9\">\r\n      <g>\r\n       <use style=\"stroke:#000000;stroke-width:0.8;\" x=\"53.328125\" xlink:href=\"#m74497a66ab\" y=\"202.814082\"/>\r\n      </g>\r\n     </g>\r\n     <g id=\"text_10\">\r\n      <!-- 4000 -->\r\n      <g transform=\"translate(20.878125 206.613301)scale(0.1 -0.1)\">\r\n       <defs>\r\n        <path d=\"M 2419 4116 \r\nL 825 1625 \r\nL 2419 1625 \r\nL 2419 4116 \r\nz\r\nM 2253 4666 \r\nL 3047 4666 \r\nL 3047 1625 \r\nL 3713 1625 \r\nL 3713 1100 \r\nL 3047 1100 \r\nL 3047 0 \r\nL 2419 0 \r\nL 2419 1100 \r\nL 313 1100 \r\nL 313 1709 \r\nL 2253 4666 \r\nz\r\n\" id=\"DejaVuSans-34\" transform=\"scale(0.015625)\"/>\r\n       </defs>\r\n       <use xlink:href=\"#DejaVuSans-34\"/>\r\n       <use x=\"63.623047\" xlink:href=\"#DejaVuSans-30\"/>\r\n       <use x=\"127.246094\" xlink:href=\"#DejaVuSans-30\"/>\r\n       <use x=\"190.869141\" xlink:href=\"#DejaVuSans-30\"/>\r\n      </g>\r\n     </g>\r\n    </g>\r\n    <g id=\"ytick_6\">\r\n     <g id=\"line2d_10\">\r\n      <g>\r\n       <use style=\"stroke:#000000;stroke-width:0.8;\" x=\"53.328125\" xlink:href=\"#m74497a66ab\" y=\"166.398071\"/>\r\n      </g>\r\n     </g>\r\n     <g id=\"text_11\">\r\n      <!-- 5000 -->\r\n      <g transform=\"translate(20.878125 170.19729)scale(0.1 -0.1)\">\r\n       <defs>\r\n        <path d=\"M 691 4666 \r\nL 3169 4666 \r\nL 3169 4134 \r\nL 1269 4134 \r\nL 1269 2991 \r\nQ 1406 3038 1543 3061 \r\nQ 1681 3084 1819 3084 \r\nQ 2600 3084 3056 2656 \r\nQ 3513 2228 3513 1497 \r\nQ 3513 744 3044 326 \r\nQ 2575 -91 1722 -91 \r\nQ 1428 -91 1123 -41 \r\nQ 819 9 494 109 \r\nL 494 744 \r\nQ 775 591 1075 516 \r\nQ 1375 441 1709 441 \r\nQ 2250 441 2565 725 \r\nQ 2881 1009 2881 1497 \r\nQ 2881 1984 2565 2268 \r\nQ 2250 2553 1709 2553 \r\nQ 1456 2553 1204 2497 \r\nQ 953 2441 691 2322 \r\nL 691 4666 \r\nz\r\n\" id=\"DejaVuSans-35\" transform=\"scale(0.015625)\"/>\r\n       </defs>\r\n       <use xlink:href=\"#DejaVuSans-35\"/>\r\n       <use x=\"63.623047\" xlink:href=\"#DejaVuSans-30\"/>\r\n       <use x=\"127.246094\" xlink:href=\"#DejaVuSans-30\"/>\r\n       <use x=\"190.869141\" xlink:href=\"#DejaVuSans-30\"/>\r\n      </g>\r\n     </g>\r\n    </g>\r\n    <g id=\"ytick_7\">\r\n     <g id=\"line2d_11\">\r\n      <g>\r\n       <use style=\"stroke:#000000;stroke-width:0.8;\" x=\"53.328125\" xlink:href=\"#m74497a66ab\" y=\"129.982061\"/>\r\n      </g>\r\n     </g>\r\n     <g id=\"text_12\">\r\n      <!-- 6000 -->\r\n      <g transform=\"translate(20.878125 133.781279)scale(0.1 -0.1)\">\r\n       <defs>\r\n        <path d=\"M 2113 2584 \r\nQ 1688 2584 1439 2293 \r\nQ 1191 2003 1191 1497 \r\nQ 1191 994 1439 701 \r\nQ 1688 409 2113 409 \r\nQ 2538 409 2786 701 \r\nQ 3034 994 3034 1497 \r\nQ 3034 2003 2786 2293 \r\nQ 2538 2584 2113 2584 \r\nz\r\nM 3366 4563 \r\nL 3366 3988 \r\nQ 3128 4100 2886 4159 \r\nQ 2644 4219 2406 4219 \r\nQ 1781 4219 1451 3797 \r\nQ 1122 3375 1075 2522 \r\nQ 1259 2794 1537 2939 \r\nQ 1816 3084 2150 3084 \r\nQ 2853 3084 3261 2657 \r\nQ 3669 2231 3669 1497 \r\nQ 3669 778 3244 343 \r\nQ 2819 -91 2113 -91 \r\nQ 1303 -91 875 529 \r\nQ 447 1150 447 2328 \r\nQ 447 3434 972 4092 \r\nQ 1497 4750 2381 4750 \r\nQ 2619 4750 2861 4703 \r\nQ 3103 4656 3366 4563 \r\nz\r\n\" id=\"DejaVuSans-36\" transform=\"scale(0.015625)\"/>\r\n       </defs>\r\n       <use xlink:href=\"#DejaVuSans-36\"/>\r\n       <use x=\"63.623047\" xlink:href=\"#DejaVuSans-30\"/>\r\n       <use x=\"127.246094\" xlink:href=\"#DejaVuSans-30\"/>\r\n       <use x=\"190.869141\" xlink:href=\"#DejaVuSans-30\"/>\r\n      </g>\r\n     </g>\r\n    </g>\r\n    <g id=\"ytick_8\">\r\n     <g id=\"line2d_12\">\r\n      <g>\r\n       <use style=\"stroke:#000000;stroke-width:0.8;\" x=\"53.328125\" xlink:href=\"#m74497a66ab\" y=\"93.56605\"/>\r\n      </g>\r\n     </g>\r\n     <g id=\"text_13\">\r\n      <!-- 7000 -->\r\n      <g transform=\"translate(20.878125 97.365269)scale(0.1 -0.1)\">\r\n       <defs>\r\n        <path d=\"M 525 4666 \r\nL 3525 4666 \r\nL 3525 4397 \r\nL 1831 0 \r\nL 1172 0 \r\nL 2766 4134 \r\nL 525 4134 \r\nL 525 4666 \r\nz\r\n\" id=\"DejaVuSans-37\" transform=\"scale(0.015625)\"/>\r\n       </defs>\r\n       <use xlink:href=\"#DejaVuSans-37\"/>\r\n       <use x=\"63.623047\" xlink:href=\"#DejaVuSans-30\"/>\r\n       <use x=\"127.246094\" xlink:href=\"#DejaVuSans-30\"/>\r\n       <use x=\"190.869141\" xlink:href=\"#DejaVuSans-30\"/>\r\n      </g>\r\n     </g>\r\n    </g>\r\n    <g id=\"ytick_9\">\r\n     <g id=\"line2d_13\">\r\n      <g>\r\n       <use style=\"stroke:#000000;stroke-width:0.8;\" x=\"53.328125\" xlink:href=\"#m74497a66ab\" y=\"57.150039\"/>\r\n      </g>\r\n     </g>\r\n     <g id=\"text_14\">\r\n      <!-- 8000 -->\r\n      <g transform=\"translate(20.878125 60.949258)scale(0.1 -0.1)\">\r\n       <defs>\r\n        <path d=\"M 2034 2216 \r\nQ 1584 2216 1326 1975 \r\nQ 1069 1734 1069 1313 \r\nQ 1069 891 1326 650 \r\nQ 1584 409 2034 409 \r\nQ 2484 409 2743 651 \r\nQ 3003 894 3003 1313 \r\nQ 3003 1734 2745 1975 \r\nQ 2488 2216 2034 2216 \r\nz\r\nM 1403 2484 \r\nQ 997 2584 770 2862 \r\nQ 544 3141 544 3541 \r\nQ 544 4100 942 4425 \r\nQ 1341 4750 2034 4750 \r\nQ 2731 4750 3128 4425 \r\nQ 3525 4100 3525 3541 \r\nQ 3525 3141 3298 2862 \r\nQ 3072 2584 2669 2484 \r\nQ 3125 2378 3379 2068 \r\nQ 3634 1759 3634 1313 \r\nQ 3634 634 3220 271 \r\nQ 2806 -91 2034 -91 \r\nQ 1263 -91 848 271 \r\nQ 434 634 434 1313 \r\nQ 434 1759 690 2068 \r\nQ 947 2378 1403 2484 \r\nz\r\nM 1172 3481 \r\nQ 1172 3119 1398 2916 \r\nQ 1625 2713 2034 2713 \r\nQ 2441 2713 2670 2916 \r\nQ 2900 3119 2900 3481 \r\nQ 2900 3844 2670 4047 \r\nQ 2441 4250 2034 4250 \r\nQ 1625 4250 1398 4047 \r\nQ 1172 3844 1172 3481 \r\nz\r\n\" id=\"DejaVuSans-38\" transform=\"scale(0.015625)\"/>\r\n       </defs>\r\n       <use xlink:href=\"#DejaVuSans-38\"/>\r\n       <use x=\"63.623047\" xlink:href=\"#DejaVuSans-30\"/>\r\n       <use x=\"127.246094\" xlink:href=\"#DejaVuSans-30\"/>\r\n       <use x=\"190.869141\" xlink:href=\"#DejaVuSans-30\"/>\r\n      </g>\r\n     </g>\r\n    </g>\r\n    <g id=\"text_15\">\r\n     <!-- count -->\r\n     <g transform=\"translate(14.798438 199.504375)rotate(-90)scale(0.1 -0.1)\">\r\n      <defs>\r\n       <path d=\"M 3513 2113 \r\nL 3513 0 \r\nL 2938 0 \r\nL 2938 2094 \r\nQ 2938 2591 2744 2837 \r\nQ 2550 3084 2163 3084 \r\nQ 1697 3084 1428 2787 \r\nQ 1159 2491 1159 1978 \r\nL 1159 0 \r\nL 581 0 \r\nL 581 3500 \r\nL 1159 3500 \r\nL 1159 2956 \r\nQ 1366 3272 1645 3428 \r\nQ 1925 3584 2291 3584 \r\nQ 2894 3584 3203 3211 \r\nQ 3513 2838 3513 2113 \r\nz\r\n\" id=\"DejaVuSans-6e\" transform=\"scale(0.015625)\"/>\r\n      </defs>\r\n      <use xlink:href=\"#DejaVuSans-63\"/>\r\n      <use x=\"54.980469\" xlink:href=\"#DejaVuSans-6f\"/>\r\n      <use x=\"116.162109\" xlink:href=\"#DejaVuSans-75\"/>\r\n      <use x=\"179.541016\" xlink:href=\"#DejaVuSans-6e\"/>\r\n      <use x=\"242.919922\" xlink:href=\"#DejaVuSans-74\"/>\r\n     </g>\r\n    </g>\r\n   </g>\r\n   <g id=\"patch_7\">\r\n    <path d=\"M 53.328125 348.478125 \r\nL 53.328125 22.318125 \r\n\" style=\"fill:none;stroke:#000000;stroke-linecap:square;stroke-linejoin:miter;stroke-width:0.8;\"/>\r\n   </g>\r\n   <g id=\"patch_8\">\r\n    <path d=\"M 722.928125 348.478125 \r\nL 722.928125 22.318125 \r\n\" style=\"fill:none;stroke:#000000;stroke-linecap:square;stroke-linejoin:miter;stroke-width:0.8;\"/>\r\n   </g>\r\n   <g id=\"patch_9\">\r\n    <path d=\"M 53.328125 348.478125 \r\nL 722.928125 348.478125 \r\n\" style=\"fill:none;stroke:#000000;stroke-linecap:square;stroke-linejoin:miter;stroke-width:0.8;\"/>\r\n   </g>\r\n   <g id=\"patch_10\">\r\n    <path d=\"M 53.328125 22.318125 \r\nL 722.928125 22.318125 \r\n\" style=\"fill:none;stroke:#000000;stroke-linecap:square;stroke-linejoin:miter;stroke-width:0.8;\"/>\r\n   </g>\r\n   <g id=\"text_16\">\r\n    <!-- Count of Tweets per Sentiment -->\r\n    <g transform=\"translate(295.475 16.318125)scale(0.12 -0.12)\">\r\n     <defs>\r\n      <path d=\"M 4122 4306 \r\nL 4122 3641 \r\nQ 3803 3938 3442 4084 \r\nQ 3081 4231 2675 4231 \r\nQ 1875 4231 1450 3742 \r\nQ 1025 3253 1025 2328 \r\nQ 1025 1406 1450 917 \r\nQ 1875 428 2675 428 \r\nQ 3081 428 3442 575 \r\nQ 3803 722 4122 1019 \r\nL 4122 359 \r\nQ 3791 134 3420 21 \r\nQ 3050 -91 2638 -91 \r\nQ 1578 -91 968 557 \r\nQ 359 1206 359 2328 \r\nQ 359 3453 968 4101 \r\nQ 1578 4750 2638 4750 \r\nQ 3056 4750 3426 4639 \r\nQ 3797 4528 4122 4306 \r\nz\r\n\" id=\"DejaVuSans-43\" transform=\"scale(0.015625)\"/>\r\n      <path id=\"DejaVuSans-20\" transform=\"scale(0.015625)\"/>\r\n      <path d=\"M 2375 4863 \r\nL 2375 4384 \r\nL 1825 4384 \r\nQ 1516 4384 1395 4259 \r\nQ 1275 4134 1275 3809 \r\nL 1275 3500 \r\nL 2222 3500 \r\nL 2222 3053 \r\nL 1275 3053 \r\nL 1275 0 \r\nL 697 0 \r\nL 697 3053 \r\nL 147 3053 \r\nL 147 3500 \r\nL 697 3500 \r\nL 697 3744 \r\nQ 697 4328 969 4595 \r\nQ 1241 4863 1831 4863 \r\nL 2375 4863 \r\nz\r\n\" id=\"DejaVuSans-66\" transform=\"scale(0.015625)\"/>\r\n      <path d=\"M -19 4666 \r\nL 3928 4666 \r\nL 3928 4134 \r\nL 2272 4134 \r\nL 2272 0 \r\nL 1638 0 \r\nL 1638 4134 \r\nL -19 4134 \r\nL -19 4666 \r\nz\r\n\" id=\"DejaVuSans-54\" transform=\"scale(0.015625)\"/>\r\n      <path d=\"M 1159 525 \r\nL 1159 -1331 \r\nL 581 -1331 \r\nL 581 3500 \r\nL 1159 3500 \r\nL 1159 2969 \r\nQ 1341 3281 1617 3432 \r\nQ 1894 3584 2278 3584 \r\nQ 2916 3584 3314 3078 \r\nQ 3713 2572 3713 1747 \r\nQ 3713 922 3314 415 \r\nQ 2916 -91 2278 -91 \r\nQ 1894 -91 1617 61 \r\nQ 1341 213 1159 525 \r\nz\r\nM 3116 1747 \r\nQ 3116 2381 2855 2742 \r\nQ 2594 3103 2138 3103 \r\nQ 1681 3103 1420 2742 \r\nQ 1159 2381 1159 1747 \r\nQ 1159 1113 1420 752 \r\nQ 1681 391 2138 391 \r\nQ 2594 391 2855 752 \r\nQ 3116 1113 3116 1747 \r\nz\r\n\" id=\"DejaVuSans-70\" transform=\"scale(0.015625)\"/>\r\n      <path d=\"M 3425 4513 \r\nL 3425 3897 \r\nQ 3066 4069 2747 4153 \r\nQ 2428 4238 2131 4238 \r\nQ 1616 4238 1336 4038 \r\nQ 1056 3838 1056 3469 \r\nQ 1056 3159 1242 3001 \r\nQ 1428 2844 1947 2747 \r\nL 2328 2669 \r\nQ 3034 2534 3370 2195 \r\nQ 3706 1856 3706 1288 \r\nQ 3706 609 3251 259 \r\nQ 2797 -91 1919 -91 \r\nQ 1588 -91 1214 -16 \r\nQ 841 59 441 206 \r\nL 441 856 \r\nQ 825 641 1194 531 \r\nQ 1563 422 1919 422 \r\nQ 2459 422 2753 634 \r\nQ 3047 847 3047 1241 \r\nQ 3047 1584 2836 1778 \r\nQ 2625 1972 2144 2069 \r\nL 1759 2144 \r\nQ 1053 2284 737 2584 \r\nQ 422 2884 422 3419 \r\nQ 422 4038 858 4394 \r\nQ 1294 4750 2059 4750 \r\nQ 2388 4750 2728 4690 \r\nQ 3069 4631 3425 4513 \r\nz\r\n\" id=\"DejaVuSans-53\" transform=\"scale(0.015625)\"/>\r\n      <path d=\"M 3328 2828 \r\nQ 3544 3216 3844 3400 \r\nQ 4144 3584 4550 3584 \r\nQ 5097 3584 5394 3201 \r\nQ 5691 2819 5691 2113 \r\nL 5691 0 \r\nL 5113 0 \r\nL 5113 2094 \r\nQ 5113 2597 4934 2840 \r\nQ 4756 3084 4391 3084 \r\nQ 3944 3084 3684 2787 \r\nQ 3425 2491 3425 1978 \r\nL 3425 0 \r\nL 2847 0 \r\nL 2847 2094 \r\nQ 2847 2600 2669 2842 \r\nQ 2491 3084 2119 3084 \r\nQ 1678 3084 1418 2786 \r\nQ 1159 2488 1159 1978 \r\nL 1159 0 \r\nL 581 0 \r\nL 581 3500 \r\nL 1159 3500 \r\nL 1159 2956 \r\nQ 1356 3278 1631 3431 \r\nQ 1906 3584 2284 3584 \r\nQ 2666 3584 2933 3390 \r\nQ 3200 3197 3328 2828 \r\nz\r\n\" id=\"DejaVuSans-6d\" transform=\"scale(0.015625)\"/>\r\n     </defs>\r\n     <use xlink:href=\"#DejaVuSans-43\"/>\r\n     <use x=\"69.824219\" xlink:href=\"#DejaVuSans-6f\"/>\r\n     <use x=\"131.005859\" xlink:href=\"#DejaVuSans-75\"/>\r\n     <use x=\"194.384766\" xlink:href=\"#DejaVuSans-6e\"/>\r\n     <use x=\"257.763672\" xlink:href=\"#DejaVuSans-74\"/>\r\n     <use x=\"296.972656\" xlink:href=\"#DejaVuSans-20\"/>\r\n     <use x=\"328.759766\" xlink:href=\"#DejaVuSans-6f\"/>\r\n     <use x=\"389.941406\" xlink:href=\"#DejaVuSans-66\"/>\r\n     <use x=\"425.146484\" xlink:href=\"#DejaVuSans-20\"/>\r\n     <use x=\"456.933594\" xlink:href=\"#DejaVuSans-54\"/>\r\n     <use x=\"501.517578\" xlink:href=\"#DejaVuSans-77\"/>\r\n     <use x=\"583.304688\" xlink:href=\"#DejaVuSans-65\"/>\r\n     <use x=\"644.828125\" xlink:href=\"#DejaVuSans-65\"/>\r\n     <use x=\"706.351562\" xlink:href=\"#DejaVuSans-74\"/>\r\n     <use x=\"745.560547\" xlink:href=\"#DejaVuSans-73\"/>\r\n     <use x=\"797.660156\" xlink:href=\"#DejaVuSans-20\"/>\r\n     <use x=\"829.447266\" xlink:href=\"#DejaVuSans-70\"/>\r\n     <use x=\"892.923828\" xlink:href=\"#DejaVuSans-65\"/>\r\n     <use x=\"954.447266\" xlink:href=\"#DejaVuSans-72\"/>\r\n     <use x=\"995.560547\" xlink:href=\"#DejaVuSans-20\"/>\r\n     <use x=\"1027.347656\" xlink:href=\"#DejaVuSans-53\"/>\r\n     <use x=\"1090.824219\" xlink:href=\"#DejaVuSans-65\"/>\r\n     <use x=\"1152.347656\" xlink:href=\"#DejaVuSans-6e\"/>\r\n     <use x=\"1215.726562\" xlink:href=\"#DejaVuSans-74\"/>\r\n     <use x=\"1254.935547\" xlink:href=\"#DejaVuSans-69\"/>\r\n     <use x=\"1282.71875\" xlink:href=\"#DejaVuSans-6d\"/>\r\n     <use x=\"1380.130859\" xlink:href=\"#DejaVuSans-65\"/>\r\n     <use x=\"1441.654297\" xlink:href=\"#DejaVuSans-6e\"/>\r\n     <use x=\"1505.033203\" xlink:href=\"#DejaVuSans-74\"/>\r\n    </g>\r\n   </g>\r\n  </g>\r\n </g>\r\n <defs>\r\n  <clipPath id=\"p49c94a1bb5\">\r\n   <rect height=\"326.16\" width=\"669.6\" x=\"53.328125\" y=\"22.318125\"/>\r\n  </clipPath>\r\n </defs>\r\n</svg>\r\n",
      "image/png": "[encoded data removed]"
     },
     "metadata": {
      "needs_background": "light"
     }
    },
    {
     "output_type": "display_data",
     "data": {
      "text/plain": "<Figure size 432x288 with 0 Axes>"
     },
     "metadata": {}
    }
   ],
   "metadata": {
    "scrolled": true
   }
  },
  {
   "cell_type": "markdown",
   "source": [
    "## Relation between length of text and sentiment"
   ],
   "metadata": {}
  },
  {
   "cell_type": "code",
   "execution_count": 23,
   "source": [
    "# average length of words overall\n",
    "df['clean_message'].str.split().\\\n",
    "    apply(lambda x : [len(i) for i in x]).\\\n",
    "    map(lambda x : np.mean(x)).hist()\n",
    "plt.title('Avg number of words used per tweet')\n",
    "plt.xlabel('Number of words per tweet')\n",
    "plt.ylabel('Count of Tweets')\n",
    "plt.savefig('DistributionOfTweet.png', dpi=300, bbox_inches='tight')"
   ],
   "outputs": [
    {
     "output_type": "display_data",
     "data": {
      "text/plain": "<Figure size 432x288 with 1 Axes>",
      "image/svg+xml": "<?xml version=\"1.0\" encoding=\"utf-8\" standalone=\"no\"?>\r\n<!DOCTYPE svg PUBLIC \"-//W3C//DTD SVG 1.1//EN\"\r\n  \"http://www.w3.org/Graphics/SVG/1.1/DTD/svg11.dtd\">\r\n<svg height=\"277.314375pt\" version=\"1.1\" viewBox=\"0 0 395.328125 277.314375\" width=\"395.328125pt\" xmlns=\"http://www.w3.org/2000/svg\" xmlns:xlink=\"http://www.w3.org/1999/xlink\">\r\n <metadata>\r\n  <rdf:RDF xmlns:cc=\"http://creativecommons.org/ns#\" xmlns:dc=\"http://purl.org/dc/elements/1.1/\" xmlns:rdf=\"http://www.w3.org/1999/02/22-rdf-syntax-ns#\">\r\n   <cc:Work>\r\n    <dc:type rdf:resource=\"http://purl.org/dc/dcmitype/StillImage\"/>\r\n    <dc:date>2021-06-24T03:50:14.945476</dc:date>\r\n    <dc:format>image/svg+xml</dc:format>\r\n    <dc:creator>\r\n     <cc:Agent>\r\n      <dc:title>Matplotlib v3.4.2, https://matplotlib.org/</dc:title>\r\n     </cc:Agent>\r\n    </dc:creator>\r\n   </cc:Work>\r\n  </rdf:RDF>\r\n </metadata>\r\n <defs>\r\n  <style type=\"text/css\">*{stroke-linecap:butt;stroke-linejoin:round;}</style>\r\n </defs>\r\n <g id=\"figure_1\">\r\n  <g id=\"patch_1\">\r\n   <path d=\"M 0 277.314375 \r\nL 395.328125 277.314375 \r\nL 395.328125 0 \r\nL 0 0 \r\nz\r\n\" style=\"fill:none;\"/>\r\n  </g>\r\n  <g id=\"axes_1\">\r\n   <g id=\"patch_2\">\r\n    <path d=\"M 53.328125 239.758125 \r\nL 388.128125 239.758125 \r\nL 388.128125 22.318125 \r\nL 53.328125 22.318125 \r\nz\r\n\" style=\"fill:#ffffff;\"/>\r\n   </g>\r\n   <g id=\"patch_3\">\r\n    <path clip-path=\"url(#p1f08e42c8b)\" d=\"M 68.546307 239.758125 \r\nL 98.98267 239.758125 \r\nL 98.98267 229.13244 \r\nL 68.546307 229.13244 \r\nz\r\n\" style=\"fill:#1f77b4;\"/>\r\n   </g>\r\n   <g id=\"patch_4\">\r\n    <path clip-path=\"url(#p1f08e42c8b)\" d=\"M 98.98267 239.758125 \r\nL 129.419034 239.758125 \r\nL 129.419034 137.744972 \r\nL 98.98267 137.744972 \r\nz\r\n\" style=\"fill:#1f77b4;\"/>\r\n   </g>\r\n   <g id=\"patch_5\">\r\n    <path clip-path=\"url(#p1f08e42c8b)\" d=\"M 129.419034 239.758125 \r\nL 159.855398 239.758125 \r\nL 159.855398 32.672411 \r\nL 129.419034 32.672411 \r\nz\r\n\" style=\"fill:#1f77b4;\"/>\r\n   </g>\r\n   <g id=\"patch_6\">\r\n    <path clip-path=\"url(#p1f08e42c8b)\" d=\"M 159.855398 239.758125 \r\nL 190.291761 239.758125 \r\nL 190.291761 90.801157 \r\nL 159.855398 90.801157 \r\nz\r\n\" style=\"fill:#1f77b4;\"/>\r\n   </g>\r\n   <g id=\"patch_7\">\r\n    <path clip-path=\"url(#p1f08e42c8b)\" d=\"M 190.291761 239.758125 \r\nL 220.728125 239.758125 \r\nL 220.728125 199.130507 \r\nL 190.291761 199.130507 \r\nz\r\n\" style=\"fill:#1f77b4;\"/>\r\n   </g>\r\n   <g id=\"patch_8\">\r\n    <path clip-path=\"url(#p1f08e42c8b)\" d=\"M 220.728125 239.758125 \r\nL 251.164489 239.758125 \r\nL 251.164489 231.303633 \r\nL 220.728125 231.303633 \r\nz\r\n\" style=\"fill:#1f77b4;\"/>\r\n   </g>\r\n   <g id=\"patch_9\">\r\n    <path clip-path=\"url(#p1f08e42c8b)\" d=\"M 251.164489 239.758125 \r\nL 281.600852 239.758125 \r\nL 281.600852 237.586932 \r\nL 251.164489 237.586932 \r\nz\r\n\" style=\"fill:#1f77b4;\"/>\r\n   </g>\r\n   <g id=\"patch_10\">\r\n    <path clip-path=\"url(#p1f08e42c8b)\" d=\"M 281.600852 239.758125 \r\nL 312.037216 239.758125 \r\nL 312.037216 239.39626 \r\nL 281.600852 239.39626 \r\nz\r\n\" style=\"fill:#1f77b4;\"/>\r\n   </g>\r\n   <g id=\"patch_11\">\r\n    <path clip-path=\"url(#p1f08e42c8b)\" d=\"M 312.037216 239.758125 \r\nL 342.47358 239.758125 \r\nL 342.47358 239.725228 \r\nL 312.037216 239.725228 \r\nz\r\n\" style=\"fill:#1f77b4;\"/>\r\n   </g>\r\n   <g id=\"patch_12\">\r\n    <path clip-path=\"url(#p1f08e42c8b)\" d=\"M 342.47358 239.758125 \r\nL 372.909943 239.758125 \r\nL 372.909943 239.692331 \r\nL 342.47358 239.692331 \r\nz\r\n\" style=\"fill:#1f77b4;\"/>\r\n   </g>\r\n   <g id=\"matplotlib.axis_1\">\r\n    <g id=\"xtick_1\">\r\n     <g id=\"line2d_1\">\r\n      <path clip-path=\"url(#p1f08e42c8b)\" d=\"M 58.272429 239.758125 \r\nL 58.272429 22.318125 \r\n\" style=\"fill:none;stroke:#b0b0b0;stroke-linecap:square;stroke-width:0.8;\"/>\r\n     </g>\r\n     <g id=\"line2d_2\">\r\n      <defs>\r\n       <path d=\"M 0 0 \r\nL 0 3.5 \r\n\" id=\"m3508eca913\" style=\"stroke:#000000;stroke-width:0.8;\"/>\r\n      </defs>\r\n      <g>\r\n       <use style=\"stroke:#000000;stroke-width:0.8;\" x=\"58.272429\" xlink:href=\"#m3508eca913\" y=\"239.758125\"/>\r\n      </g>\r\n     </g>\r\n     <g id=\"text_1\">\r\n      <!-- 4 -->\r\n      <g transform=\"translate(55.091179 254.356562)scale(0.1 -0.1)\">\r\n       <defs>\r\n        <path d=\"M 2419 4116 \r\nL 825 1625 \r\nL 2419 1625 \r\nL 2419 4116 \r\nz\r\nM 2253 4666 \r\nL 3047 4666 \r\nL 3047 1625 \r\nL 3713 1625 \r\nL 3713 1100 \r\nL 3047 1100 \r\nL 3047 0 \r\nL 2419 0 \r\nL 2419 1100 \r\nL 313 1100 \r\nL 313 1709 \r\nL 2253 4666 \r\nz\r\n\" id=\"DejaVuSans-34\" transform=\"scale(0.015625)\"/>\r\n       </defs>\r\n       <use xlink:href=\"#DejaVuSans-34\"/>\r\n      </g>\r\n     </g>\r\n    </g>\r\n    <g id=\"xtick_2\">\r\n     <g id=\"line2d_3\">\r\n      <path clip-path=\"url(#p1f08e42c8b)\" d=\"M 130.189575 239.758125 \r\nL 130.189575 22.318125 \r\n\" style=\"fill:none;stroke:#b0b0b0;stroke-linecap:square;stroke-width:0.8;\"/>\r\n     </g>\r\n     <g id=\"line2d_4\">\r\n      <g>\r\n       <use style=\"stroke:#000000;stroke-width:0.8;\" x=\"130.189575\" xlink:href=\"#m3508eca913\" y=\"239.758125\"/>\r\n      </g>\r\n     </g>\r\n     <g id=\"text_2\">\r\n      <!-- 6 -->\r\n      <g transform=\"translate(127.008325 254.356562)scale(0.1 -0.1)\">\r\n       <defs>\r\n        <path d=\"M 2113 2584 \r\nQ 1688 2584 1439 2293 \r\nQ 1191 2003 1191 1497 \r\nQ 1191 994 1439 701 \r\nQ 1688 409 2113 409 \r\nQ 2538 409 2786 701 \r\nQ 3034 994 3034 1497 \r\nQ 3034 2003 2786 2293 \r\nQ 2538 2584 2113 2584 \r\nz\r\nM 3366 4563 \r\nL 3366 3988 \r\nQ 3128 4100 2886 4159 \r\nQ 2644 4219 2406 4219 \r\nQ 1781 4219 1451 3797 \r\nQ 1122 3375 1075 2522 \r\nQ 1259 2794 1537 2939 \r\nQ 1816 3084 2150 3084 \r\nQ 2853 3084 3261 2657 \r\nQ 3669 2231 3669 1497 \r\nQ 3669 778 3244 343 \r\nQ 2819 -91 2113 -91 \r\nQ 1303 -91 875 529 \r\nQ 447 1150 447 2328 \r\nQ 447 3434 972 4092 \r\nQ 1497 4750 2381 4750 \r\nQ 2619 4750 2861 4703 \r\nQ 3103 4656 3366 4563 \r\nz\r\n\" id=\"DejaVuSans-36\" transform=\"scale(0.015625)\"/>\r\n       </defs>\r\n       <use xlink:href=\"#DejaVuSans-36\"/>\r\n      </g>\r\n     </g>\r\n    </g>\r\n    <g id=\"xtick_3\">\r\n     <g id=\"line2d_5\">\r\n      <path clip-path=\"url(#p1f08e42c8b)\" d=\"M 202.106721 239.758125 \r\nL 202.106721 22.318125 \r\n\" style=\"fill:none;stroke:#b0b0b0;stroke-linecap:square;stroke-width:0.8;\"/>\r\n     </g>\r\n     <g id=\"line2d_6\">\r\n      <g>\r\n       <use style=\"stroke:#000000;stroke-width:0.8;\" x=\"202.106721\" xlink:href=\"#m3508eca913\" y=\"239.758125\"/>\r\n      </g>\r\n     </g>\r\n     <g id=\"text_3\">\r\n      <!-- 8 -->\r\n      <g transform=\"translate(198.925471 254.356562)scale(0.1 -0.1)\">\r\n       <defs>\r\n        <path d=\"M 2034 2216 \r\nQ 1584 2216 1326 1975 \r\nQ 1069 1734 1069 1313 \r\nQ 1069 891 1326 650 \r\nQ 1584 409 2034 409 \r\nQ 2484 409 2743 651 \r\nQ 3003 894 3003 1313 \r\nQ 3003 1734 2745 1975 \r\nQ 2488 2216 2034 2216 \r\nz\r\nM 1403 2484 \r\nQ 997 2584 770 2862 \r\nQ 544 3141 544 3541 \r\nQ 544 4100 942 4425 \r\nQ 1341 4750 2034 4750 \r\nQ 2731 4750 3128 4425 \r\nQ 3525 4100 3525 3541 \r\nQ 3525 3141 3298 2862 \r\nQ 3072 2584 2669 2484 \r\nQ 3125 2378 3379 2068 \r\nQ 3634 1759 3634 1313 \r\nQ 3634 634 3220 271 \r\nQ 2806 -91 2034 -91 \r\nQ 1263 -91 848 271 \r\nQ 434 634 434 1313 \r\nQ 434 1759 690 2068 \r\nQ 947 2378 1403 2484 \r\nz\r\nM 1172 3481 \r\nQ 1172 3119 1398 2916 \r\nQ 1625 2713 2034 2713 \r\nQ 2441 2713 2670 2916 \r\nQ 2900 3119 2900 3481 \r\nQ 2900 3844 2670 4047 \r\nQ 2441 4250 2034 4250 \r\nQ 1625 4250 1398 4047 \r\nQ 1172 3844 1172 3481 \r\nz\r\n\" id=\"DejaVuSans-38\" transform=\"scale(0.015625)\"/>\r\n       </defs>\r\n       <use xlink:href=\"#DejaVuSans-38\"/>\r\n      </g>\r\n     </g>\r\n    </g>\r\n    <g id=\"xtick_4\">\r\n     <g id=\"line2d_7\">\r\n      <path clip-path=\"url(#p1f08e42c8b)\" d=\"M 274.023867 239.758125 \r\nL 274.023867 22.318125 \r\n\" style=\"fill:none;stroke:#b0b0b0;stroke-linecap:square;stroke-width:0.8;\"/>\r\n     </g>\r\n     <g id=\"line2d_8\">\r\n      <g>\r\n       <use style=\"stroke:#000000;stroke-width:0.8;\" x=\"274.023867\" xlink:href=\"#m3508eca913\" y=\"239.758125\"/>\r\n      </g>\r\n     </g>\r\n     <g id=\"text_4\">\r\n      <!-- 10 -->\r\n      <g transform=\"translate(267.661367 254.356562)scale(0.1 -0.1)\">\r\n       <defs>\r\n        <path d=\"M 794 531 \r\nL 1825 531 \r\nL 1825 4091 \r\nL 703 3866 \r\nL 703 4441 \r\nL 1819 4666 \r\nL 2450 4666 \r\nL 2450 531 \r\nL 3481 531 \r\nL 3481 0 \r\nL 794 0 \r\nL 794 531 \r\nz\r\n\" id=\"DejaVuSans-31\" transform=\"scale(0.015625)\"/>\r\n        <path d=\"M 2034 4250 \r\nQ 1547 4250 1301 3770 \r\nQ 1056 3291 1056 2328 \r\nQ 1056 1369 1301 889 \r\nQ 1547 409 2034 409 \r\nQ 2525 409 2770 889 \r\nQ 3016 1369 3016 2328 \r\nQ 3016 3291 2770 3770 \r\nQ 2525 4250 2034 4250 \r\nz\r\nM 2034 4750 \r\nQ 2819 4750 3233 4129 \r\nQ 3647 3509 3647 2328 \r\nQ 3647 1150 3233 529 \r\nQ 2819 -91 2034 -91 \r\nQ 1250 -91 836 529 \r\nQ 422 1150 422 2328 \r\nQ 422 3509 836 4129 \r\nQ 1250 4750 2034 4750 \r\nz\r\n\" id=\"DejaVuSans-30\" transform=\"scale(0.015625)\"/>\r\n       </defs>\r\n       <use xlink:href=\"#DejaVuSans-31\"/>\r\n       <use x=\"63.623047\" xlink:href=\"#DejaVuSans-30\"/>\r\n      </g>\r\n     </g>\r\n    </g>\r\n    <g id=\"xtick_5\">\r\n     <g id=\"line2d_9\">\r\n      <path clip-path=\"url(#p1f08e42c8b)\" d=\"M 345.941013 239.758125 \r\nL 345.941013 22.318125 \r\n\" style=\"fill:none;stroke:#b0b0b0;stroke-linecap:square;stroke-width:0.8;\"/>\r\n     </g>\r\n     <g id=\"line2d_10\">\r\n      <g>\r\n       <use style=\"stroke:#000000;stroke-width:0.8;\" x=\"345.941013\" xlink:href=\"#m3508eca913\" y=\"239.758125\"/>\r\n      </g>\r\n     </g>\r\n     <g id=\"text_5\">\r\n      <!-- 12 -->\r\n      <g transform=\"translate(339.578513 254.356562)scale(0.1 -0.1)\">\r\n       <defs>\r\n        <path d=\"M 1228 531 \r\nL 3431 531 \r\nL 3431 0 \r\nL 469 0 \r\nL 469 531 \r\nQ 828 903 1448 1529 \r\nQ 2069 2156 2228 2338 \r\nQ 2531 2678 2651 2914 \r\nQ 2772 3150 2772 3378 \r\nQ 2772 3750 2511 3984 \r\nQ 2250 4219 1831 4219 \r\nQ 1534 4219 1204 4116 \r\nQ 875 4013 500 3803 \r\nL 500 4441 \r\nQ 881 4594 1212 4672 \r\nQ 1544 4750 1819 4750 \r\nQ 2544 4750 2975 4387 \r\nQ 3406 4025 3406 3419 \r\nQ 3406 3131 3298 2873 \r\nQ 3191 2616 2906 2266 \r\nQ 2828 2175 2409 1742 \r\nQ 1991 1309 1228 531 \r\nz\r\n\" id=\"DejaVuSans-32\" transform=\"scale(0.015625)\"/>\r\n       </defs>\r\n       <use xlink:href=\"#DejaVuSans-31\"/>\r\n       <use x=\"63.623047\" xlink:href=\"#DejaVuSans-32\"/>\r\n      </g>\r\n     </g>\r\n    </g>\r\n    <g id=\"text_6\">\r\n     <!-- Number of words per tweet -->\r\n     <g transform=\"translate(152.102344 268.034687)scale(0.1 -0.1)\">\r\n      <defs>\r\n       <path d=\"M 628 4666 \r\nL 1478 4666 \r\nL 3547 763 \r\nL 3547 4666 \r\nL 4159 4666 \r\nL 4159 0 \r\nL 3309 0 \r\nL 1241 3903 \r\nL 1241 0 \r\nL 628 0 \r\nL 628 4666 \r\nz\r\n\" id=\"DejaVuSans-4e\" transform=\"scale(0.015625)\"/>\r\n       <path d=\"M 544 1381 \r\nL 544 3500 \r\nL 1119 3500 \r\nL 1119 1403 \r\nQ 1119 906 1312 657 \r\nQ 1506 409 1894 409 \r\nQ 2359 409 2629 706 \r\nQ 2900 1003 2900 1516 \r\nL 2900 3500 \r\nL 3475 3500 \r\nL 3475 0 \r\nL 2900 0 \r\nL 2900 538 \r\nQ 2691 219 2414 64 \r\nQ 2138 -91 1772 -91 \r\nQ 1169 -91 856 284 \r\nQ 544 659 544 1381 \r\nz\r\nM 1991 3584 \r\nL 1991 3584 \r\nz\r\n\" id=\"DejaVuSans-75\" transform=\"scale(0.015625)\"/>\r\n       <path d=\"M 3328 2828 \r\nQ 3544 3216 3844 3400 \r\nQ 4144 3584 4550 3584 \r\nQ 5097 3584 5394 3201 \r\nQ 5691 2819 5691 2113 \r\nL 5691 0 \r\nL 5113 0 \r\nL 5113 2094 \r\nQ 5113 2597 4934 2840 \r\nQ 4756 3084 4391 3084 \r\nQ 3944 3084 3684 2787 \r\nQ 3425 2491 3425 1978 \r\nL 3425 0 \r\nL 2847 0 \r\nL 2847 2094 \r\nQ 2847 2600 2669 2842 \r\nQ 2491 3084 2119 3084 \r\nQ 1678 3084 1418 2786 \r\nQ 1159 2488 1159 1978 \r\nL 1159 0 \r\nL 581 0 \r\nL 581 3500 \r\nL 1159 3500 \r\nL 1159 2956 \r\nQ 1356 3278 1631 3431 \r\nQ 1906 3584 2284 3584 \r\nQ 2666 3584 2933 3390 \r\nQ 3200 3197 3328 2828 \r\nz\r\n\" id=\"DejaVuSans-6d\" transform=\"scale(0.015625)\"/>\r\n       <path d=\"M 3116 1747 \r\nQ 3116 2381 2855 2742 \r\nQ 2594 3103 2138 3103 \r\nQ 1681 3103 1420 2742 \r\nQ 1159 2381 1159 1747 \r\nQ 1159 1113 1420 752 \r\nQ 1681 391 2138 391 \r\nQ 2594 391 2855 752 \r\nQ 3116 1113 3116 1747 \r\nz\r\nM 1159 2969 \r\nQ 1341 3281 1617 3432 \r\nQ 1894 3584 2278 3584 \r\nQ 2916 3584 3314 3078 \r\nQ 3713 2572 3713 1747 \r\nQ 3713 922 3314 415 \r\nQ 2916 -91 2278 -91 \r\nQ 1894 -91 1617 61 \r\nQ 1341 213 1159 525 \r\nL 1159 0 \r\nL 581 0 \r\nL 581 4863 \r\nL 1159 4863 \r\nL 1159 2969 \r\nz\r\n\" id=\"DejaVuSans-62\" transform=\"scale(0.015625)\"/>\r\n       <path d=\"M 3597 1894 \r\nL 3597 1613 \r\nL 953 1613 \r\nQ 991 1019 1311 708 \r\nQ 1631 397 2203 397 \r\nQ 2534 397 2845 478 \r\nQ 3156 559 3463 722 \r\nL 3463 178 \r\nQ 3153 47 2828 -22 \r\nQ 2503 -91 2169 -91 \r\nQ 1331 -91 842 396 \r\nQ 353 884 353 1716 \r\nQ 353 2575 817 3079 \r\nQ 1281 3584 2069 3584 \r\nQ 2775 3584 3186 3129 \r\nQ 3597 2675 3597 1894 \r\nz\r\nM 3022 2063 \r\nQ 3016 2534 2758 2815 \r\nQ 2500 3097 2075 3097 \r\nQ 1594 3097 1305 2825 \r\nQ 1016 2553 972 2059 \r\nL 3022 2063 \r\nz\r\n\" id=\"DejaVuSans-65\" transform=\"scale(0.015625)\"/>\r\n       <path d=\"M 2631 2963 \r\nQ 2534 3019 2420 3045 \r\nQ 2306 3072 2169 3072 \r\nQ 1681 3072 1420 2755 \r\nQ 1159 2438 1159 1844 \r\nL 1159 0 \r\nL 581 0 \r\nL 581 3500 \r\nL 1159 3500 \r\nL 1159 2956 \r\nQ 1341 3275 1631 3429 \r\nQ 1922 3584 2338 3584 \r\nQ 2397 3584 2469 3576 \r\nQ 2541 3569 2628 3553 \r\nL 2631 2963 \r\nz\r\n\" id=\"DejaVuSans-72\" transform=\"scale(0.015625)\"/>\r\n       <path id=\"DejaVuSans-20\" transform=\"scale(0.015625)\"/>\r\n       <path d=\"M 1959 3097 \r\nQ 1497 3097 1228 2736 \r\nQ 959 2375 959 1747 \r\nQ 959 1119 1226 758 \r\nQ 1494 397 1959 397 \r\nQ 2419 397 2687 759 \r\nQ 2956 1122 2956 1747 \r\nQ 2956 2369 2687 2733 \r\nQ 2419 3097 1959 3097 \r\nz\r\nM 1959 3584 \r\nQ 2709 3584 3137 3096 \r\nQ 3566 2609 3566 1747 \r\nQ 3566 888 3137 398 \r\nQ 2709 -91 1959 -91 \r\nQ 1206 -91 779 398 \r\nQ 353 888 353 1747 \r\nQ 353 2609 779 3096 \r\nQ 1206 3584 1959 3584 \r\nz\r\n\" id=\"DejaVuSans-6f\" transform=\"scale(0.015625)\"/>\r\n       <path d=\"M 2375 4863 \r\nL 2375 4384 \r\nL 1825 4384 \r\nQ 1516 4384 1395 4259 \r\nQ 1275 4134 1275 3809 \r\nL 1275 3500 \r\nL 2222 3500 \r\nL 2222 3053 \r\nL 1275 3053 \r\nL 1275 0 \r\nL 697 0 \r\nL 697 3053 \r\nL 147 3053 \r\nL 147 3500 \r\nL 697 3500 \r\nL 697 3744 \r\nQ 697 4328 969 4595 \r\nQ 1241 4863 1831 4863 \r\nL 2375 4863 \r\nz\r\n\" id=\"DejaVuSans-66\" transform=\"scale(0.015625)\"/>\r\n       <path d=\"M 269 3500 \r\nL 844 3500 \r\nL 1563 769 \r\nL 2278 3500 \r\nL 2956 3500 \r\nL 3675 769 \r\nL 4391 3500 \r\nL 4966 3500 \r\nL 4050 0 \r\nL 3372 0 \r\nL 2619 2869 \r\nL 1863 0 \r\nL 1184 0 \r\nL 269 3500 \r\nz\r\n\" id=\"DejaVuSans-77\" transform=\"scale(0.015625)\"/>\r\n       <path d=\"M 2906 2969 \r\nL 2906 4863 \r\nL 3481 4863 \r\nL 3481 0 \r\nL 2906 0 \r\nL 2906 525 \r\nQ 2725 213 2448 61 \r\nQ 2172 -91 1784 -91 \r\nQ 1150 -91 751 415 \r\nQ 353 922 353 1747 \r\nQ 353 2572 751 3078 \r\nQ 1150 3584 1784 3584 \r\nQ 2172 3584 2448 3432 \r\nQ 2725 3281 2906 2969 \r\nz\r\nM 947 1747 \r\nQ 947 1113 1208 752 \r\nQ 1469 391 1925 391 \r\nQ 2381 391 2643 752 \r\nQ 2906 1113 2906 1747 \r\nQ 2906 2381 2643 2742 \r\nQ 2381 3103 1925 3103 \r\nQ 1469 3103 1208 2742 \r\nQ 947 2381 947 1747 \r\nz\r\n\" id=\"DejaVuSans-64\" transform=\"scale(0.015625)\"/>\r\n       <path d=\"M 2834 3397 \r\nL 2834 2853 \r\nQ 2591 2978 2328 3040 \r\nQ 2066 3103 1784 3103 \r\nQ 1356 3103 1142 2972 \r\nQ 928 2841 928 2578 \r\nQ 928 2378 1081 2264 \r\nQ 1234 2150 1697 2047 \r\nL 1894 2003 \r\nQ 2506 1872 2764 1633 \r\nQ 3022 1394 3022 966 \r\nQ 3022 478 2636 193 \r\nQ 2250 -91 1575 -91 \r\nQ 1294 -91 989 -36 \r\nQ 684 19 347 128 \r\nL 347 722 \r\nQ 666 556 975 473 \r\nQ 1284 391 1588 391 \r\nQ 1994 391 2212 530 \r\nQ 2431 669 2431 922 \r\nQ 2431 1156 2273 1281 \r\nQ 2116 1406 1581 1522 \r\nL 1381 1569 \r\nQ 847 1681 609 1914 \r\nQ 372 2147 372 2553 \r\nQ 372 3047 722 3315 \r\nQ 1072 3584 1716 3584 \r\nQ 2034 3584 2315 3537 \r\nQ 2597 3491 2834 3397 \r\nz\r\n\" id=\"DejaVuSans-73\" transform=\"scale(0.015625)\"/>\r\n       <path d=\"M 1159 525 \r\nL 1159 -1331 \r\nL 581 -1331 \r\nL 581 3500 \r\nL 1159 3500 \r\nL 1159 2969 \r\nQ 1341 3281 1617 3432 \r\nQ 1894 3584 2278 3584 \r\nQ 2916 3584 3314 3078 \r\nQ 3713 2572 3713 1747 \r\nQ 3713 922 3314 415 \r\nQ 2916 -91 2278 -91 \r\nQ 1894 -91 1617 61 \r\nQ 1341 213 1159 525 \r\nz\r\nM 3116 1747 \r\nQ 3116 2381 2855 2742 \r\nQ 2594 3103 2138 3103 \r\nQ 1681 3103 1420 2742 \r\nQ 1159 2381 1159 1747 \r\nQ 1159 1113 1420 752 \r\nQ 1681 391 2138 391 \r\nQ 2594 391 2855 752 \r\nQ 3116 1113 3116 1747 \r\nz\r\n\" id=\"DejaVuSans-70\" transform=\"scale(0.015625)\"/>\r\n       <path d=\"M 1172 4494 \r\nL 1172 3500 \r\nL 2356 3500 \r\nL 2356 3053 \r\nL 1172 3053 \r\nL 1172 1153 \r\nQ 1172 725 1289 603 \r\nQ 1406 481 1766 481 \r\nL 2356 481 \r\nL 2356 0 \r\nL 1766 0 \r\nQ 1100 0 847 248 \r\nQ 594 497 594 1153 \r\nL 594 3053 \r\nL 172 3053 \r\nL 172 3500 \r\nL 594 3500 \r\nL 594 4494 \r\nL 1172 4494 \r\nz\r\n\" id=\"DejaVuSans-74\" transform=\"scale(0.015625)\"/>\r\n      </defs>\r\n      <use xlink:href=\"#DejaVuSans-4e\"/>\r\n      <use x=\"74.804688\" xlink:href=\"#DejaVuSans-75\"/>\r\n      <use x=\"138.183594\" xlink:href=\"#DejaVuSans-6d\"/>\r\n      <use x=\"235.595703\" xlink:href=\"#DejaVuSans-62\"/>\r\n      <use x=\"299.072266\" xlink:href=\"#DejaVuSans-65\"/>\r\n      <use x=\"360.595703\" xlink:href=\"#DejaVuSans-72\"/>\r\n      <use x=\"401.708984\" xlink:href=\"#DejaVuSans-20\"/>\r\n      <use x=\"433.496094\" xlink:href=\"#DejaVuSans-6f\"/>\r\n      <use x=\"494.677734\" xlink:href=\"#DejaVuSans-66\"/>\r\n      <use x=\"529.882812\" xlink:href=\"#DejaVuSans-20\"/>\r\n      <use x=\"561.669922\" xlink:href=\"#DejaVuSans-77\"/>\r\n      <use x=\"643.457031\" xlink:href=\"#DejaVuSans-6f\"/>\r\n      <use x=\"704.638672\" xlink:href=\"#DejaVuSans-72\"/>\r\n      <use x=\"744.001953\" xlink:href=\"#DejaVuSans-64\"/>\r\n      <use x=\"807.478516\" xlink:href=\"#DejaVuSans-73\"/>\r\n      <use x=\"859.578125\" xlink:href=\"#DejaVuSans-20\"/>\r\n      <use x=\"891.365234\" xlink:href=\"#DejaVuSans-70\"/>\r\n      <use x=\"954.841797\" xlink:href=\"#DejaVuSans-65\"/>\r\n      <use x=\"1016.365234\" xlink:href=\"#DejaVuSans-72\"/>\r\n      <use x=\"1057.478516\" xlink:href=\"#DejaVuSans-20\"/>\r\n      <use x=\"1089.265625\" xlink:href=\"#DejaVuSans-74\"/>\r\n      <use x=\"1128.474609\" xlink:href=\"#DejaVuSans-77\"/>\r\n      <use x=\"1210.261719\" xlink:href=\"#DejaVuSans-65\"/>\r\n      <use x=\"1271.785156\" xlink:href=\"#DejaVuSans-65\"/>\r\n      <use x=\"1333.308594\" xlink:href=\"#DejaVuSans-74\"/>\r\n     </g>\r\n    </g>\r\n   </g>\r\n   <g id=\"matplotlib.axis_2\">\r\n    <g id=\"ytick_1\">\r\n     <g id=\"line2d_11\">\r\n      <path clip-path=\"url(#p1f08e42c8b)\" d=\"M 53.328125 239.758125 \r\nL 388.128125 239.758125 \r\n\" style=\"fill:none;stroke:#b0b0b0;stroke-linecap:square;stroke-width:0.8;\"/>\r\n     </g>\r\n     <g id=\"line2d_12\">\r\n      <defs>\r\n       <path d=\"M 0 0 \r\nL -3.5 0 \r\n\" id=\"m3515cb0d04\" style=\"stroke:#000000;stroke-width:0.8;\"/>\r\n      </defs>\r\n      <g>\r\n       <use style=\"stroke:#000000;stroke-width:0.8;\" x=\"53.328125\" xlink:href=\"#m3515cb0d04\" y=\"239.758125\"/>\r\n      </g>\r\n     </g>\r\n     <g id=\"text_7\">\r\n      <!-- 0 -->\r\n      <g transform=\"translate(39.965625 243.557344)scale(0.1 -0.1)\">\r\n       <use xlink:href=\"#DejaVuSans-30\"/>\r\n      </g>\r\n     </g>\r\n    </g>\r\n    <g id=\"ytick_2\">\r\n     <g id=\"line2d_13\">\r\n      <path clip-path=\"url(#p1f08e42c8b)\" d=\"M 53.328125 206.861268 \r\nL 388.128125 206.861268 \r\n\" style=\"fill:none;stroke:#b0b0b0;stroke-linecap:square;stroke-width:0.8;\"/>\r\n     </g>\r\n     <g id=\"line2d_14\">\r\n      <g>\r\n       <use style=\"stroke:#000000;stroke-width:0.8;\" x=\"53.328125\" xlink:href=\"#m3515cb0d04\" y=\"206.861268\"/>\r\n      </g>\r\n     </g>\r\n     <g id=\"text_8\">\r\n      <!-- 1000 -->\r\n      <g transform=\"translate(20.878125 210.660487)scale(0.1 -0.1)\">\r\n       <use xlink:href=\"#DejaVuSans-31\"/>\r\n       <use x=\"63.623047\" xlink:href=\"#DejaVuSans-30\"/>\r\n       <use x=\"127.246094\" xlink:href=\"#DejaVuSans-30\"/>\r\n       <use x=\"190.869141\" xlink:href=\"#DejaVuSans-30\"/>\r\n      </g>\r\n     </g>\r\n    </g>\r\n    <g id=\"ytick_3\">\r\n     <g id=\"line2d_15\">\r\n      <path clip-path=\"url(#p1f08e42c8b)\" d=\"M 53.328125 173.964411 \r\nL 388.128125 173.964411 \r\n\" style=\"fill:none;stroke:#b0b0b0;stroke-linecap:square;stroke-width:0.8;\"/>\r\n     </g>\r\n     <g id=\"line2d_16\">\r\n      <g>\r\n       <use style=\"stroke:#000000;stroke-width:0.8;\" x=\"53.328125\" xlink:href=\"#m3515cb0d04\" y=\"173.964411\"/>\r\n      </g>\r\n     </g>\r\n     <g id=\"text_9\">\r\n      <!-- 2000 -->\r\n      <g transform=\"translate(20.878125 177.76363)scale(0.1 -0.1)\">\r\n       <use xlink:href=\"#DejaVuSans-32\"/>\r\n       <use x=\"63.623047\" xlink:href=\"#DejaVuSans-30\"/>\r\n       <use x=\"127.246094\" xlink:href=\"#DejaVuSans-30\"/>\r\n       <use x=\"190.869141\" xlink:href=\"#DejaVuSans-30\"/>\r\n      </g>\r\n     </g>\r\n    </g>\r\n    <g id=\"ytick_4\">\r\n     <g id=\"line2d_17\">\r\n      <path clip-path=\"url(#p1f08e42c8b)\" d=\"M 53.328125 141.067554 \r\nL 388.128125 141.067554 \r\n\" style=\"fill:none;stroke:#b0b0b0;stroke-linecap:square;stroke-width:0.8;\"/>\r\n     </g>\r\n     <g id=\"line2d_18\">\r\n      <g>\r\n       <use style=\"stroke:#000000;stroke-width:0.8;\" x=\"53.328125\" xlink:href=\"#m3515cb0d04\" y=\"141.067554\"/>\r\n      </g>\r\n     </g>\r\n     <g id=\"text_10\">\r\n      <!-- 3000 -->\r\n      <g transform=\"translate(20.878125 144.866773)scale(0.1 -0.1)\">\r\n       <defs>\r\n        <path d=\"M 2597 2516 \r\nQ 3050 2419 3304 2112 \r\nQ 3559 1806 3559 1356 \r\nQ 3559 666 3084 287 \r\nQ 2609 -91 1734 -91 \r\nQ 1441 -91 1130 -33 \r\nQ 819 25 488 141 \r\nL 488 750 \r\nQ 750 597 1062 519 \r\nQ 1375 441 1716 441 \r\nQ 2309 441 2620 675 \r\nQ 2931 909 2931 1356 \r\nQ 2931 1769 2642 2001 \r\nQ 2353 2234 1838 2234 \r\nL 1294 2234 \r\nL 1294 2753 \r\nL 1863 2753 \r\nQ 2328 2753 2575 2939 \r\nQ 2822 3125 2822 3475 \r\nQ 2822 3834 2567 4026 \r\nQ 2313 4219 1838 4219 \r\nQ 1578 4219 1281 4162 \r\nQ 984 4106 628 3988 \r\nL 628 4550 \r\nQ 988 4650 1302 4700 \r\nQ 1616 4750 1894 4750 \r\nQ 2613 4750 3031 4423 \r\nQ 3450 4097 3450 3541 \r\nQ 3450 3153 3228 2886 \r\nQ 3006 2619 2597 2516 \r\nz\r\n\" id=\"DejaVuSans-33\" transform=\"scale(0.015625)\"/>\r\n       </defs>\r\n       <use xlink:href=\"#DejaVuSans-33\"/>\r\n       <use x=\"63.623047\" xlink:href=\"#DejaVuSans-30\"/>\r\n       <use x=\"127.246094\" xlink:href=\"#DejaVuSans-30\"/>\r\n       <use x=\"190.869141\" xlink:href=\"#DejaVuSans-30\"/>\r\n      </g>\r\n     </g>\r\n    </g>\r\n    <g id=\"ytick_5\">\r\n     <g id=\"line2d_19\">\r\n      <path clip-path=\"url(#p1f08e42c8b)\" d=\"M 53.328125 108.170697 \r\nL 388.128125 108.170697 \r\n\" style=\"fill:none;stroke:#b0b0b0;stroke-linecap:square;stroke-width:0.8;\"/>\r\n     </g>\r\n     <g id=\"line2d_20\">\r\n      <g>\r\n       <use style=\"stroke:#000000;stroke-width:0.8;\" x=\"53.328125\" xlink:href=\"#m3515cb0d04\" y=\"108.170697\"/>\r\n      </g>\r\n     </g>\r\n     <g id=\"text_11\">\r\n      <!-- 4000 -->\r\n      <g transform=\"translate(20.878125 111.969916)scale(0.1 -0.1)\">\r\n       <use xlink:href=\"#DejaVuSans-34\"/>\r\n       <use x=\"63.623047\" xlink:href=\"#DejaVuSans-30\"/>\r\n       <use x=\"127.246094\" xlink:href=\"#DejaVuSans-30\"/>\r\n       <use x=\"190.869141\" xlink:href=\"#DejaVuSans-30\"/>\r\n      </g>\r\n     </g>\r\n    </g>\r\n    <g id=\"ytick_6\">\r\n     <g id=\"line2d_21\">\r\n      <path clip-path=\"url(#p1f08e42c8b)\" d=\"M 53.328125 75.27384 \r\nL 388.128125 75.27384 \r\n\" style=\"fill:none;stroke:#b0b0b0;stroke-linecap:square;stroke-width:0.8;\"/>\r\n     </g>\r\n     <g id=\"line2d_22\">\r\n      <g>\r\n       <use style=\"stroke:#000000;stroke-width:0.8;\" x=\"53.328125\" xlink:href=\"#m3515cb0d04\" y=\"75.27384\"/>\r\n      </g>\r\n     </g>\r\n     <g id=\"text_12\">\r\n      <!-- 5000 -->\r\n      <g transform=\"translate(20.878125 79.073059)scale(0.1 -0.1)\">\r\n       <defs>\r\n        <path d=\"M 691 4666 \r\nL 3169 4666 \r\nL 3169 4134 \r\nL 1269 4134 \r\nL 1269 2991 \r\nQ 1406 3038 1543 3061 \r\nQ 1681 3084 1819 3084 \r\nQ 2600 3084 3056 2656 \r\nQ 3513 2228 3513 1497 \r\nQ 3513 744 3044 326 \r\nQ 2575 -91 1722 -91 \r\nQ 1428 -91 1123 -41 \r\nQ 819 9 494 109 \r\nL 494 744 \r\nQ 775 591 1075 516 \r\nQ 1375 441 1709 441 \r\nQ 2250 441 2565 725 \r\nQ 2881 1009 2881 1497 \r\nQ 2881 1984 2565 2268 \r\nQ 2250 2553 1709 2553 \r\nQ 1456 2553 1204 2497 \r\nQ 953 2441 691 2322 \r\nL 691 4666 \r\nz\r\n\" id=\"DejaVuSans-35\" transform=\"scale(0.015625)\"/>\r\n       </defs>\r\n       <use xlink:href=\"#DejaVuSans-35\"/>\r\n       <use x=\"63.623047\" xlink:href=\"#DejaVuSans-30\"/>\r\n       <use x=\"127.246094\" xlink:href=\"#DejaVuSans-30\"/>\r\n       <use x=\"190.869141\" xlink:href=\"#DejaVuSans-30\"/>\r\n      </g>\r\n     </g>\r\n    </g>\r\n    <g id=\"ytick_7\">\r\n     <g id=\"line2d_23\">\r\n      <path clip-path=\"url(#p1f08e42c8b)\" d=\"M 53.328125 42.376984 \r\nL 388.128125 42.376984 \r\n\" style=\"fill:none;stroke:#b0b0b0;stroke-linecap:square;stroke-width:0.8;\"/>\r\n     </g>\r\n     <g id=\"line2d_24\">\r\n      <g>\r\n       <use style=\"stroke:#000000;stroke-width:0.8;\" x=\"53.328125\" xlink:href=\"#m3515cb0d04\" y=\"42.376984\"/>\r\n      </g>\r\n     </g>\r\n     <g id=\"text_13\">\r\n      <!-- 6000 -->\r\n      <g transform=\"translate(20.878125 46.176202)scale(0.1 -0.1)\">\r\n       <use xlink:href=\"#DejaVuSans-36\"/>\r\n       <use x=\"63.623047\" xlink:href=\"#DejaVuSans-30\"/>\r\n       <use x=\"127.246094\" xlink:href=\"#DejaVuSans-30\"/>\r\n       <use x=\"190.869141\" xlink:href=\"#DejaVuSans-30\"/>\r\n      </g>\r\n     </g>\r\n    </g>\r\n    <g id=\"text_14\">\r\n     <!-- Count of Tweets -->\r\n     <g transform=\"translate(14.798438 170.920156)rotate(-90)scale(0.1 -0.1)\">\r\n      <defs>\r\n       <path d=\"M 4122 4306 \r\nL 4122 3641 \r\nQ 3803 3938 3442 4084 \r\nQ 3081 4231 2675 4231 \r\nQ 1875 4231 1450 3742 \r\nQ 1025 3253 1025 2328 \r\nQ 1025 1406 1450 917 \r\nQ 1875 428 2675 428 \r\nQ 3081 428 3442 575 \r\nQ 3803 722 4122 1019 \r\nL 4122 359 \r\nQ 3791 134 3420 21 \r\nQ 3050 -91 2638 -91 \r\nQ 1578 -91 968 557 \r\nQ 359 1206 359 2328 \r\nQ 359 3453 968 4101 \r\nQ 1578 4750 2638 4750 \r\nQ 3056 4750 3426 4639 \r\nQ 3797 4528 4122 4306 \r\nz\r\n\" id=\"DejaVuSans-43\" transform=\"scale(0.015625)\"/>\r\n       <path d=\"M 3513 2113 \r\nL 3513 0 \r\nL 2938 0 \r\nL 2938 2094 \r\nQ 2938 2591 2744 2837 \r\nQ 2550 3084 2163 3084 \r\nQ 1697 3084 1428 2787 \r\nQ 1159 2491 1159 1978 \r\nL 1159 0 \r\nL 581 0 \r\nL 581 3500 \r\nL 1159 3500 \r\nL 1159 2956 \r\nQ 1366 3272 1645 3428 \r\nQ 1925 3584 2291 3584 \r\nQ 2894 3584 3203 3211 \r\nQ 3513 2838 3513 2113 \r\nz\r\n\" id=\"DejaVuSans-6e\" transform=\"scale(0.015625)\"/>\r\n       <path d=\"M -19 4666 \r\nL 3928 4666 \r\nL 3928 4134 \r\nL 2272 4134 \r\nL 2272 0 \r\nL 1638 0 \r\nL 1638 4134 \r\nL -19 4134 \r\nL -19 4666 \r\nz\r\n\" id=\"DejaVuSans-54\" transform=\"scale(0.015625)\"/>\r\n      </defs>\r\n      <use xlink:href=\"#DejaVuSans-43\"/>\r\n      <use x=\"69.824219\" xlink:href=\"#DejaVuSans-6f\"/>\r\n      <use x=\"131.005859\" xlink:href=\"#DejaVuSans-75\"/>\r\n      <use x=\"194.384766\" xlink:href=\"#DejaVuSans-6e\"/>\r\n      <use x=\"257.763672\" xlink:href=\"#DejaVuSans-74\"/>\r\n      <use x=\"296.972656\" xlink:href=\"#DejaVuSans-20\"/>\r\n      <use x=\"328.759766\" xlink:href=\"#DejaVuSans-6f\"/>\r\n      <use x=\"389.941406\" xlink:href=\"#DejaVuSans-66\"/>\r\n      <use x=\"425.146484\" xlink:href=\"#DejaVuSans-20\"/>\r\n      <use x=\"456.933594\" xlink:href=\"#DejaVuSans-54\"/>\r\n      <use x=\"501.517578\" xlink:href=\"#DejaVuSans-77\"/>\r\n      <use x=\"583.304688\" xlink:href=\"#DejaVuSans-65\"/>\r\n      <use x=\"644.828125\" xlink:href=\"#DejaVuSans-65\"/>\r\n      <use x=\"706.351562\" xlink:href=\"#DejaVuSans-74\"/>\r\n      <use x=\"745.560547\" xlink:href=\"#DejaVuSans-73\"/>\r\n     </g>\r\n    </g>\r\n   </g>\r\n   <g id=\"patch_13\">\r\n    <path d=\"M 53.328125 239.758125 \r\nL 53.328125 22.318125 \r\n\" style=\"fill:none;stroke:#000000;stroke-linecap:square;stroke-linejoin:miter;stroke-width:0.8;\"/>\r\n   </g>\r\n   <g id=\"patch_14\">\r\n    <path d=\"M 388.128125 239.758125 \r\nL 388.128125 22.318125 \r\n\" style=\"fill:none;stroke:#000000;stroke-linecap:square;stroke-linejoin:miter;stroke-width:0.8;\"/>\r\n   </g>\r\n   <g id=\"patch_15\">\r\n    <path d=\"M 53.328125 239.758125 \r\nL 388.128125 239.758125 \r\n\" style=\"fill:none;stroke:#000000;stroke-linecap:square;stroke-linejoin:miter;stroke-width:0.8;\"/>\r\n   </g>\r\n   <g id=\"patch_16\">\r\n    <path d=\"M 53.328125 22.318125 \r\nL 388.128125 22.318125 \r\n\" style=\"fill:none;stroke:#000000;stroke-linecap:square;stroke-linejoin:miter;stroke-width:0.8;\"/>\r\n   </g>\r\n   <g id=\"text_15\">\r\n    <!-- Avg number of words used per tweet -->\r\n    <g transform=\"translate(109.708438 16.318125)scale(0.12 -0.12)\">\r\n     <defs>\r\n      <path d=\"M 2188 4044 \r\nL 1331 1722 \r\nL 3047 1722 \r\nL 2188 4044 \r\nz\r\nM 1831 4666 \r\nL 2547 4666 \r\nL 4325 0 \r\nL 3669 0 \r\nL 3244 1197 \r\nL 1141 1197 \r\nL 716 0 \r\nL 50 0 \r\nL 1831 4666 \r\nz\r\n\" id=\"DejaVuSans-41\" transform=\"scale(0.015625)\"/>\r\n      <path d=\"M 191 3500 \r\nL 800 3500 \r\nL 1894 563 \r\nL 2988 3500 \r\nL 3597 3500 \r\nL 2284 0 \r\nL 1503 0 \r\nL 191 3500 \r\nz\r\n\" id=\"DejaVuSans-76\" transform=\"scale(0.015625)\"/>\r\n      <path d=\"M 2906 1791 \r\nQ 2906 2416 2648 2759 \r\nQ 2391 3103 1925 3103 \r\nQ 1463 3103 1205 2759 \r\nQ 947 2416 947 1791 \r\nQ 947 1169 1205 825 \r\nQ 1463 481 1925 481 \r\nQ 2391 481 2648 825 \r\nQ 2906 1169 2906 1791 \r\nz\r\nM 3481 434 \r\nQ 3481 -459 3084 -895 \r\nQ 2688 -1331 1869 -1331 \r\nQ 1566 -1331 1297 -1286 \r\nQ 1028 -1241 775 -1147 \r\nL 775 -588 \r\nQ 1028 -725 1275 -790 \r\nQ 1522 -856 1778 -856 \r\nQ 2344 -856 2625 -561 \r\nQ 2906 -266 2906 331 \r\nL 2906 616 \r\nQ 2728 306 2450 153 \r\nQ 2172 0 1784 0 \r\nQ 1141 0 747 490 \r\nQ 353 981 353 1791 \r\nQ 353 2603 747 3093 \r\nQ 1141 3584 1784 3584 \r\nQ 2172 3584 2450 3431 \r\nQ 2728 3278 2906 2969 \r\nL 2906 3500 \r\nL 3481 3500 \r\nL 3481 434 \r\nz\r\n\" id=\"DejaVuSans-67\" transform=\"scale(0.015625)\"/>\r\n     </defs>\r\n     <use xlink:href=\"#DejaVuSans-41\"/>\r\n     <use x=\"62.533203\" xlink:href=\"#DejaVuSans-76\"/>\r\n     <use x=\"121.712891\" xlink:href=\"#DejaVuSans-67\"/>\r\n     <use x=\"185.189453\" xlink:href=\"#DejaVuSans-20\"/>\r\n     <use x=\"216.976562\" xlink:href=\"#DejaVuSans-6e\"/>\r\n     <use x=\"280.355469\" xlink:href=\"#DejaVuSans-75\"/>\r\n     <use x=\"343.734375\" xlink:href=\"#DejaVuSans-6d\"/>\r\n     <use x=\"441.146484\" xlink:href=\"#DejaVuSans-62\"/>\r\n     <use x=\"504.623047\" xlink:href=\"#DejaVuSans-65\"/>\r\n     <use x=\"566.146484\" xlink:href=\"#DejaVuSans-72\"/>\r\n     <use x=\"607.259766\" xlink:href=\"#DejaVuSans-20\"/>\r\n     <use x=\"639.046875\" xlink:href=\"#DejaVuSans-6f\"/>\r\n     <use x=\"700.228516\" xlink:href=\"#DejaVuSans-66\"/>\r\n     <use x=\"735.433594\" xlink:href=\"#DejaVuSans-20\"/>\r\n     <use x=\"767.220703\" xlink:href=\"#DejaVuSans-77\"/>\r\n     <use x=\"849.007812\" xlink:href=\"#DejaVuSans-6f\"/>\r\n     <use x=\"910.189453\" xlink:href=\"#DejaVuSans-72\"/>\r\n     <use x=\"949.552734\" xlink:href=\"#DejaVuSans-64\"/>\r\n     <use x=\"1013.029297\" xlink:href=\"#DejaVuSans-73\"/>\r\n     <use x=\"1065.128906\" xlink:href=\"#DejaVuSans-20\"/>\r\n     <use x=\"1096.916016\" xlink:href=\"#DejaVuSans-75\"/>\r\n     <use x=\"1160.294922\" xlink:href=\"#DejaVuSans-73\"/>\r\n     <use x=\"1212.394531\" xlink:href=\"#DejaVuSans-65\"/>\r\n     <use x=\"1273.917969\" xlink:href=\"#DejaVuSans-64\"/>\r\n     <use x=\"1337.394531\" xlink:href=\"#DejaVuSans-20\"/>\r\n     <use x=\"1369.181641\" xlink:href=\"#DejaVuSans-70\"/>\r\n     <use x=\"1432.658203\" xlink:href=\"#DejaVuSans-65\"/>\r\n     <use x=\"1494.181641\" xlink:href=\"#DejaVuSans-72\"/>\r\n     <use x=\"1535.294922\" xlink:href=\"#DejaVuSans-20\"/>\r\n     <use x=\"1567.082031\" xlink:href=\"#DejaVuSans-74\"/>\r\n     <use x=\"1606.291016\" xlink:href=\"#DejaVuSans-77\"/>\r\n     <use x=\"1688.078125\" xlink:href=\"#DejaVuSans-65\"/>\r\n     <use x=\"1749.601562\" xlink:href=\"#DejaVuSans-65\"/>\r\n     <use x=\"1811.125\" xlink:href=\"#DejaVuSans-74\"/>\r\n    </g>\r\n   </g>\r\n  </g>\r\n </g>\r\n <defs>\r\n  <clipPath id=\"p1f08e42c8b\">\r\n   <rect height=\"217.44\" width=\"334.8\" x=\"53.328125\" y=\"22.318125\"/>\r\n  </clipPath>\r\n </defs>\r\n</svg>\r\n",
      "image/png": "[encoded data removed]"
     },
     "metadata": {
      "needs_background": "light"
     }
    }
   ],
   "metadata": {}
  },
  {
   "cell_type": "markdown",
   "source": [
    "### Observations\n",
    "- The graph above shows that the words in the positive sentiment are higher compare to others, with 8000 words, were by the rest are below 4000"
   ],
   "metadata": {}
  },
  {
   "cell_type": "code",
   "execution_count": 29,
   "source": [
    "#Distribution of length of words per sentiment\n",
    "\n",
    "df['length_tweet'] = df['clean_message'].apply(len)\n",
    "h = sns.FacetGrid(df,col = 'class_label')\n",
    "h.map(plt.hist,'length_tweet')\n",
    "plt.show()"
   ],
   "outputs": [
    {
     "output_type": "display_data",
     "data": {
      "text/plain": "<Figure size 864x216 with 4 Axes>",
      "image/svg+xml": "<?xml version=\"1.0\" encoding=\"utf-8\" standalone=\"no\"?>\r\n<!DOCTYPE svg PUBLIC \"-//W3C//DTD SVG 1.1//EN\"\r\n  \"http://www.w3.org/Graphics/SVG/1.1/DTD/svg11.dtd\">\r\n<svg height=\"207.126562pt\" version=\"1.1\" viewBox=\"0 0 857 207.126562\" width=\"857pt\" xmlns=\"http://www.w3.org/2000/svg\" xmlns:xlink=\"http://www.w3.org/1999/xlink\">\r\n <metadata>\r\n  <rdf:RDF xmlns:cc=\"http://creativecommons.org/ns#\" xmlns:dc=\"http://purl.org/dc/elements/1.1/\" xmlns:rdf=\"http://www.w3.org/1999/02/22-rdf-syntax-ns#\">\r\n   <cc:Work>\r\n    <dc:type rdf:resource=\"http://purl.org/dc/dcmitype/StillImage\"/>\r\n    <dc:date>2021-06-24T03:26:38.825164</dc:date>\r\n    <dc:format>image/svg+xml</dc:format>\r\n    <dc:creator>\r\n     <cc:Agent>\r\n      <dc:title>Matplotlib v3.4.2, https://matplotlib.org/</dc:title>\r\n     </cc:Agent>\r\n    </dc:creator>\r\n   </cc:Work>\r\n  </rdf:RDF>\r\n </metadata>\r\n <defs>\r\n  <style type=\"text/css\">*{stroke-linecap:butt;stroke-linejoin:round;}</style>\r\n </defs>\r\n <g id=\"figure_1\">\r\n  <g id=\"patch_1\">\r\n   <path d=\"M -0 207.126562 \r\nL 857 207.126562 \r\nL 857 0 \r\nL -0 0 \r\nz\r\n\" style=\"fill:none;\"/>\r\n  </g>\r\n  <g id=\"axes_1\">\r\n   <g id=\"patch_2\">\r\n    <path d=\"M 39.65 169.292187 \r\nL 231.4625 169.292187 \r\nL 231.4625 20.798437 \r\nL 39.65 20.798437 \r\nz\r\n\" style=\"fill:#ffffff;\"/>\r\n   </g>\r\n   <g id=\"patch_3\">\r\n    <path clip-path=\"url(#p71096b19e9)\" d=\"M 48.36875 169.292187 \r\nL 64.672104 169.292187 \r\nL 64.672104 167.192176 \r\nL 48.36875 167.192176 \r\nz\r\n\" style=\"fill:#1f77b4;\"/>\r\n   </g>\r\n   <g id=\"patch_4\">\r\n    <path clip-path=\"url(#p71096b19e9)\" d=\"M 64.672104 169.292187 \r\nL 80.975457 169.292187 \r\nL 80.975457 162.467152 \r\nL 64.672104 162.467152 \r\nz\r\n\" style=\"fill:#1f77b4;\"/>\r\n   </g>\r\n   <g id=\"patch_5\">\r\n    <path clip-path=\"url(#p71096b19e9)\" d=\"M 80.975457 169.292187 \r\nL 97.278811 169.292187 \r\nL 97.278811 146.257691 \r\nL 80.975457 146.257691 \r\nz\r\n\" style=\"fill:#1f77b4;\"/>\r\n   </g>\r\n   <g id=\"patch_6\">\r\n    <path clip-path=\"url(#p71096b19e9)\" d=\"M 97.278811 169.292187 \r\nL 113.582165 169.292187 \r\nL 113.582165 132.870121 \r\nL 97.278811 132.870121 \r\nz\r\n\" style=\"fill:#1f77b4;\"/>\r\n   </g>\r\n   <g id=\"patch_7\">\r\n    <path clip-path=\"url(#p71096b19e9)\" d=\"M 113.582165 169.292187 \r\nL 129.885518 169.292187 \r\nL 129.885518 79.254214 \r\nL 113.582165 79.254214 \r\nz\r\n\" style=\"fill:#1f77b4;\"/>\r\n   </g>\r\n   <g id=\"patch_8\">\r\n    <path clip-path=\"url(#p71096b19e9)\" d=\"M 129.885518 169.292187 \r\nL 146.188872 169.292187 \r\nL 146.188872 65.472891 \r\nL 129.885518 65.472891 \r\nz\r\n\" style=\"fill:#1f77b4;\"/>\r\n   </g>\r\n   <g id=\"patch_9\">\r\n    <path clip-path=\"url(#p71096b19e9)\" d=\"M 146.188872 169.292187 \r\nL 162.492226 169.292187 \r\nL 162.492226 27.869568 \r\nL 146.188872 27.869568 \r\nz\r\n\" style=\"fill:#1f77b4;\"/>\r\n   </g>\r\n   <g id=\"patch_10\">\r\n    <path clip-path=\"url(#p71096b19e9)\" d=\"M 162.492226 169.292187 \r\nL 178.795579 169.292187 \r\nL 178.795579 68.819784 \r\nL 162.492226 68.819784 \r\nz\r\n\" style=\"fill:#1f77b4;\"/>\r\n   </g>\r\n   <g id=\"patch_11\">\r\n    <path clip-path=\"url(#p71096b19e9)\" d=\"M 178.795579 169.292187 \r\nL 195.098933 169.292187 \r\nL 195.098933 120.466931 \r\nL 178.795579 120.466931 \r\nz\r\n\" style=\"fill:#1f77b4;\"/>\r\n   </g>\r\n   <g id=\"patch_12\">\r\n    <path clip-path=\"url(#p71096b19e9)\" d=\"M 195.098933 169.292187 \r\nL 211.402287 169.292187 \r\nL 211.402287 162.467152 \r\nL 195.098933 162.467152 \r\nz\r\n\" style=\"fill:#1f77b4;\"/>\r\n   </g>\r\n   <g id=\"matplotlib.axis_1\">\r\n    <g id=\"xtick_1\">\r\n     <g id=\"line2d_1\">\r\n      <defs>\r\n       <path d=\"M 0 0 \r\nL 0 3.5 \r\n\" id=\"m3fda6a4656\" style=\"stroke:#000000;stroke-width:0.8;\"/>\r\n      </defs>\r\n      <g>\r\n       <use style=\"stroke:#000000;stroke-width:0.8;\" x=\"63.963262\" xlink:href=\"#m3fda6a4656\" y=\"169.292187\"/>\r\n      </g>\r\n     </g>\r\n     <g id=\"text_1\">\r\n      <!-- 25 -->\r\n      <g transform=\"translate(57.600762 183.890625)scale(0.1 -0.1)\">\r\n       <defs>\r\n        <path d=\"M 1228 531 \r\nL 3431 531 \r\nL 3431 0 \r\nL 469 0 \r\nL 469 531 \r\nQ 828 903 1448 1529 \r\nQ 2069 2156 2228 2338 \r\nQ 2531 2678 2651 2914 \r\nQ 2772 3150 2772 3378 \r\nQ 2772 3750 2511 3984 \r\nQ 2250 4219 1831 4219 \r\nQ 1534 4219 1204 4116 \r\nQ 875 4013 500 3803 \r\nL 500 4441 \r\nQ 881 4594 1212 4672 \r\nQ 1544 4750 1819 4750 \r\nQ 2544 4750 2975 4387 \r\nQ 3406 4025 3406 3419 \r\nQ 3406 3131 3298 2873 \r\nQ 3191 2616 2906 2266 \r\nQ 2828 2175 2409 1742 \r\nQ 1991 1309 1228 531 \r\nz\r\n\" id=\"DejaVuSans-32\" transform=\"scale(0.015625)\"/>\r\n        <path d=\"M 691 4666 \r\nL 3169 4666 \r\nL 3169 4134 \r\nL 1269 4134 \r\nL 1269 2991 \r\nQ 1406 3038 1543 3061 \r\nQ 1681 3084 1819 3084 \r\nQ 2600 3084 3056 2656 \r\nQ 3513 2228 3513 1497 \r\nQ 3513 744 3044 326 \r\nQ 2575 -91 1722 -91 \r\nQ 1428 -91 1123 -41 \r\nQ 819 9 494 109 \r\nL 494 744 \r\nQ 775 591 1075 516 \r\nQ 1375 441 1709 441 \r\nQ 2250 441 2565 725 \r\nQ 2881 1009 2881 1497 \r\nQ 2881 1984 2565 2268 \r\nQ 2250 2553 1709 2553 \r\nQ 1456 2553 1204 2497 \r\nQ 953 2441 691 2322 \r\nL 691 4666 \r\nz\r\n\" id=\"DejaVuSans-35\" transform=\"scale(0.015625)\"/>\r\n       </defs>\r\n       <use xlink:href=\"#DejaVuSans-32\"/>\r\n       <use x=\"63.623047\" xlink:href=\"#DejaVuSans-35\"/>\r\n      </g>\r\n     </g>\r\n    </g>\r\n    <g id=\"xtick_2\">\r\n     <g id=\"line2d_2\">\r\n      <g>\r\n       <use style=\"stroke:#000000;stroke-width:0.8;\" x=\"99.405335\" xlink:href=\"#m3fda6a4656\" y=\"169.292187\"/>\r\n      </g>\r\n     </g>\r\n     <g id=\"text_2\">\r\n      <!-- 50 -->\r\n      <g transform=\"translate(93.042835 183.890625)scale(0.1 -0.1)\">\r\n       <defs>\r\n        <path d=\"M 2034 4250 \r\nQ 1547 4250 1301 3770 \r\nQ 1056 3291 1056 2328 \r\nQ 1056 1369 1301 889 \r\nQ 1547 409 2034 409 \r\nQ 2525 409 2770 889 \r\nQ 3016 1369 3016 2328 \r\nQ 3016 3291 2770 3770 \r\nQ 2525 4250 2034 4250 \r\nz\r\nM 2034 4750 \r\nQ 2819 4750 3233 4129 \r\nQ 3647 3509 3647 2328 \r\nQ 3647 1150 3233 529 \r\nQ 2819 -91 2034 -91 \r\nQ 1250 -91 836 529 \r\nQ 422 1150 422 2328 \r\nQ 422 3509 836 4129 \r\nQ 1250 4750 2034 4750 \r\nz\r\n\" id=\"DejaVuSans-30\" transform=\"scale(0.015625)\"/>\r\n       </defs>\r\n       <use xlink:href=\"#DejaVuSans-35\"/>\r\n       <use x=\"63.623047\" xlink:href=\"#DejaVuSans-30\"/>\r\n      </g>\r\n     </g>\r\n    </g>\r\n    <g id=\"xtick_3\">\r\n     <g id=\"line2d_3\">\r\n      <g>\r\n       <use style=\"stroke:#000000;stroke-width:0.8;\" x=\"134.847409\" xlink:href=\"#m3fda6a4656\" y=\"169.292187\"/>\r\n      </g>\r\n     </g>\r\n     <g id=\"text_3\">\r\n      <!-- 75 -->\r\n      <g transform=\"translate(128.484909 183.890625)scale(0.1 -0.1)\">\r\n       <defs>\r\n        <path d=\"M 525 4666 \r\nL 3525 4666 \r\nL 3525 4397 \r\nL 1831 0 \r\nL 1172 0 \r\nL 2766 4134 \r\nL 525 4134 \r\nL 525 4666 \r\nz\r\n\" id=\"DejaVuSans-37\" transform=\"scale(0.015625)\"/>\r\n       </defs>\r\n       <use xlink:href=\"#DejaVuSans-37\"/>\r\n       <use x=\"63.623047\" xlink:href=\"#DejaVuSans-35\"/>\r\n      </g>\r\n     </g>\r\n    </g>\r\n    <g id=\"xtick_4\">\r\n     <g id=\"line2d_4\">\r\n      <g>\r\n       <use style=\"stroke:#000000;stroke-width:0.8;\" x=\"170.289482\" xlink:href=\"#m3fda6a4656\" y=\"169.292187\"/>\r\n      </g>\r\n     </g>\r\n     <g id=\"text_4\">\r\n      <!-- 100 -->\r\n      <g transform=\"translate(160.745732 183.890625)scale(0.1 -0.1)\">\r\n       <defs>\r\n        <path d=\"M 794 531 \r\nL 1825 531 \r\nL 1825 4091 \r\nL 703 3866 \r\nL 703 4441 \r\nL 1819 4666 \r\nL 2450 4666 \r\nL 2450 531 \r\nL 3481 531 \r\nL 3481 0 \r\nL 794 0 \r\nL 794 531 \r\nz\r\n\" id=\"DejaVuSans-31\" transform=\"scale(0.015625)\"/>\r\n       </defs>\r\n       <use xlink:href=\"#DejaVuSans-31\"/>\r\n       <use x=\"63.623047\" xlink:href=\"#DejaVuSans-30\"/>\r\n       <use x=\"127.246094\" xlink:href=\"#DejaVuSans-30\"/>\r\n      </g>\r\n     </g>\r\n    </g>\r\n    <g id=\"xtick_5\">\r\n     <g id=\"line2d_5\">\r\n      <g>\r\n       <use style=\"stroke:#000000;stroke-width:0.8;\" x=\"205.731555\" xlink:href=\"#m3fda6a4656\" y=\"169.292187\"/>\r\n      </g>\r\n     </g>\r\n     <g id=\"text_5\">\r\n      <!-- 125 -->\r\n      <g transform=\"translate(196.187805 183.890625)scale(0.1 -0.1)\">\r\n       <use xlink:href=\"#DejaVuSans-31\"/>\r\n       <use x=\"63.623047\" xlink:href=\"#DejaVuSans-32\"/>\r\n       <use x=\"127.246094\" xlink:href=\"#DejaVuSans-35\"/>\r\n      </g>\r\n     </g>\r\n    </g>\r\n    <g id=\"text_6\">\r\n     <!-- length_tweet -->\r\n     <g transform=\"translate(102.95625 197.56875)scale(0.1 -0.1)\">\r\n      <defs>\r\n       <path d=\"M 603 4863 \r\nL 1178 4863 \r\nL 1178 0 \r\nL 603 0 \r\nL 603 4863 \r\nz\r\n\" id=\"DejaVuSans-6c\" transform=\"scale(0.015625)\"/>\r\n       <path d=\"M 3597 1894 \r\nL 3597 1613 \r\nL 953 1613 \r\nQ 991 1019 1311 708 \r\nQ 1631 397 2203 397 \r\nQ 2534 397 2845 478 \r\nQ 3156 559 3463 722 \r\nL 3463 178 \r\nQ 3153 47 2828 -22 \r\nQ 2503 -91 2169 -91 \r\nQ 1331 -91 842 396 \r\nQ 353 884 353 1716 \r\nQ 353 2575 817 3079 \r\nQ 1281 3584 2069 3584 \r\nQ 2775 3584 3186 3129 \r\nQ 3597 2675 3597 1894 \r\nz\r\nM 3022 2063 \r\nQ 3016 2534 2758 2815 \r\nQ 2500 3097 2075 3097 \r\nQ 1594 3097 1305 2825 \r\nQ 1016 2553 972 2059 \r\nL 3022 2063 \r\nz\r\n\" id=\"DejaVuSans-65\" transform=\"scale(0.015625)\"/>\r\n       <path d=\"M 3513 2113 \r\nL 3513 0 \r\nL 2938 0 \r\nL 2938 2094 \r\nQ 2938 2591 2744 2837 \r\nQ 2550 3084 2163 3084 \r\nQ 1697 3084 1428 2787 \r\nQ 1159 2491 1159 1978 \r\nL 1159 0 \r\nL 581 0 \r\nL 581 3500 \r\nL 1159 3500 \r\nL 1159 2956 \r\nQ 1366 3272 1645 3428 \r\nQ 1925 3584 2291 3584 \r\nQ 2894 3584 3203 3211 \r\nQ 3513 2838 3513 2113 \r\nz\r\n\" id=\"DejaVuSans-6e\" transform=\"scale(0.015625)\"/>\r\n       <path d=\"M 2906 1791 \r\nQ 2906 2416 2648 2759 \r\nQ 2391 3103 1925 3103 \r\nQ 1463 3103 1205 2759 \r\nQ 947 2416 947 1791 \r\nQ 947 1169 1205 825 \r\nQ 1463 481 1925 481 \r\nQ 2391 481 2648 825 \r\nQ 2906 1169 2906 1791 \r\nz\r\nM 3481 434 \r\nQ 3481 -459 3084 -895 \r\nQ 2688 -1331 1869 -1331 \r\nQ 1566 -1331 1297 -1286 \r\nQ 1028 -1241 775 -1147 \r\nL 775 -588 \r\nQ 1028 -725 1275 -790 \r\nQ 1522 -856 1778 -856 \r\nQ 2344 -856 2625 -561 \r\nQ 2906 -266 2906 331 \r\nL 2906 616 \r\nQ 2728 306 2450 153 \r\nQ 2172 0 1784 0 \r\nQ 1141 0 747 490 \r\nQ 353 981 353 1791 \r\nQ 353 2603 747 3093 \r\nQ 1141 3584 1784 3584 \r\nQ 2172 3584 2450 3431 \r\nQ 2728 3278 2906 2969 \r\nL 2906 3500 \r\nL 3481 3500 \r\nL 3481 434 \r\nz\r\n\" id=\"DejaVuSans-67\" transform=\"scale(0.015625)\"/>\r\n       <path d=\"M 1172 4494 \r\nL 1172 3500 \r\nL 2356 3500 \r\nL 2356 3053 \r\nL 1172 3053 \r\nL 1172 1153 \r\nQ 1172 725 1289 603 \r\nQ 1406 481 1766 481 \r\nL 2356 481 \r\nL 2356 0 \r\nL 1766 0 \r\nQ 1100 0 847 248 \r\nQ 594 497 594 1153 \r\nL 594 3053 \r\nL 172 3053 \r\nL 172 3500 \r\nL 594 3500 \r\nL 594 4494 \r\nL 1172 4494 \r\nz\r\n\" id=\"DejaVuSans-74\" transform=\"scale(0.015625)\"/>\r\n       <path d=\"M 3513 2113 \r\nL 3513 0 \r\nL 2938 0 \r\nL 2938 2094 \r\nQ 2938 2591 2744 2837 \r\nQ 2550 3084 2163 3084 \r\nQ 1697 3084 1428 2787 \r\nQ 1159 2491 1159 1978 \r\nL 1159 0 \r\nL 581 0 \r\nL 581 4863 \r\nL 1159 4863 \r\nL 1159 2956 \r\nQ 1366 3272 1645 3428 \r\nQ 1925 3584 2291 3584 \r\nQ 2894 3584 3203 3211 \r\nQ 3513 2838 3513 2113 \r\nz\r\n\" id=\"DejaVuSans-68\" transform=\"scale(0.015625)\"/>\r\n       <path d=\"M 3263 -1063 \r\nL 3263 -1509 \r\nL -63 -1509 \r\nL -63 -1063 \r\nL 3263 -1063 \r\nz\r\n\" id=\"DejaVuSans-5f\" transform=\"scale(0.015625)\"/>\r\n       <path d=\"M 269 3500 \r\nL 844 3500 \r\nL 1563 769 \r\nL 2278 3500 \r\nL 2956 3500 \r\nL 3675 769 \r\nL 4391 3500 \r\nL 4966 3500 \r\nL 4050 0 \r\nL 3372 0 \r\nL 2619 2869 \r\nL 1863 0 \r\nL 1184 0 \r\nL 269 3500 \r\nz\r\n\" id=\"DejaVuSans-77\" transform=\"scale(0.015625)\"/>\r\n      </defs>\r\n      <use xlink:href=\"#DejaVuSans-6c\"/>\r\n      <use x=\"27.783203\" xlink:href=\"#DejaVuSans-65\"/>\r\n      <use x=\"89.306641\" xlink:href=\"#DejaVuSans-6e\"/>\r\n      <use x=\"152.685547\" xlink:href=\"#DejaVuSans-67\"/>\r\n      <use x=\"216.162109\" xlink:href=\"#DejaVuSans-74\"/>\r\n      <use x=\"255.371094\" xlink:href=\"#DejaVuSans-68\"/>\r\n      <use x=\"318.75\" xlink:href=\"#DejaVuSans-5f\"/>\r\n      <use x=\"368.75\" xlink:href=\"#DejaVuSans-74\"/>\r\n      <use x=\"407.958984\" xlink:href=\"#DejaVuSans-77\"/>\r\n      <use x=\"489.746094\" xlink:href=\"#DejaVuSans-65\"/>\r\n      <use x=\"551.269531\" xlink:href=\"#DejaVuSans-65\"/>\r\n      <use x=\"612.792969\" xlink:href=\"#DejaVuSans-74\"/>\r\n     </g>\r\n    </g>\r\n   </g>\r\n   <g id=\"matplotlib.axis_2\">\r\n    <g id=\"ytick_1\">\r\n     <g id=\"line2d_6\">\r\n      <defs>\r\n       <path d=\"M 0 0 \r\nL -3.5 0 \r\n\" id=\"me28be135aa\" style=\"stroke:#000000;stroke-width:0.8;\"/>\r\n      </defs>\r\n      <g>\r\n       <use style=\"stroke:#000000;stroke-width:0.8;\" x=\"39.65\" xlink:href=\"#me28be135aa\" y=\"169.292187\"/>\r\n      </g>\r\n     </g>\r\n     <g id=\"text_7\">\r\n      <!-- 0 -->\r\n      <g transform=\"translate(26.2875 173.091406)scale(0.1 -0.1)\">\r\n       <use xlink:href=\"#DejaVuSans-30\"/>\r\n      </g>\r\n     </g>\r\n    </g>\r\n    <g id=\"ytick_2\">\r\n     <g id=\"line2d_7\">\r\n      <g>\r\n       <use style=\"stroke:#000000;stroke-width:0.8;\" x=\"39.65\" xlink:href=\"#me28be135aa\" y=\"136.479515\"/>\r\n      </g>\r\n     </g>\r\n     <g id=\"text_8\">\r\n      <!-- 500 -->\r\n      <g transform=\"translate(13.5625 140.278734)scale(0.1 -0.1)\">\r\n       <use xlink:href=\"#DejaVuSans-35\"/>\r\n       <use x=\"63.623047\" xlink:href=\"#DejaVuSans-30\"/>\r\n       <use x=\"127.246094\" xlink:href=\"#DejaVuSans-30\"/>\r\n      </g>\r\n     </g>\r\n    </g>\r\n    <g id=\"ytick_3\">\r\n     <g id=\"line2d_8\">\r\n      <g>\r\n       <use style=\"stroke:#000000;stroke-width:0.8;\" x=\"39.65\" xlink:href=\"#me28be135aa\" y=\"103.666842\"/>\r\n      </g>\r\n     </g>\r\n     <g id=\"text_9\">\r\n      <!-- 1000 -->\r\n      <g transform=\"translate(7.2 107.466061)scale(0.1 -0.1)\">\r\n       <use xlink:href=\"#DejaVuSans-31\"/>\r\n       <use x=\"63.623047\" xlink:href=\"#DejaVuSans-30\"/>\r\n       <use x=\"127.246094\" xlink:href=\"#DejaVuSans-30\"/>\r\n       <use x=\"190.869141\" xlink:href=\"#DejaVuSans-30\"/>\r\n      </g>\r\n     </g>\r\n    </g>\r\n    <g id=\"ytick_4\">\r\n     <g id=\"line2d_9\">\r\n      <g>\r\n       <use style=\"stroke:#000000;stroke-width:0.8;\" x=\"39.65\" xlink:href=\"#me28be135aa\" y=\"70.85417\"/>\r\n      </g>\r\n     </g>\r\n     <g id=\"text_10\">\r\n      <!-- 1500 -->\r\n      <g transform=\"translate(7.2 74.653388)scale(0.1 -0.1)\">\r\n       <use xlink:href=\"#DejaVuSans-31\"/>\r\n       <use x=\"63.623047\" xlink:href=\"#DejaVuSans-35\"/>\r\n       <use x=\"127.246094\" xlink:href=\"#DejaVuSans-30\"/>\r\n       <use x=\"190.869141\" xlink:href=\"#DejaVuSans-30\"/>\r\n      </g>\r\n     </g>\r\n    </g>\r\n    <g id=\"ytick_5\">\r\n     <g id=\"line2d_10\">\r\n      <g>\r\n       <use style=\"stroke:#000000;stroke-width:0.8;\" x=\"39.65\" xlink:href=\"#me28be135aa\" y=\"38.041497\"/>\r\n      </g>\r\n     </g>\r\n     <g id=\"text_11\">\r\n      <!-- 2000 -->\r\n      <g transform=\"translate(7.2 41.840716)scale(0.1 -0.1)\">\r\n       <use xlink:href=\"#DejaVuSans-32\"/>\r\n       <use x=\"63.623047\" xlink:href=\"#DejaVuSans-30\"/>\r\n       <use x=\"127.246094\" xlink:href=\"#DejaVuSans-30\"/>\r\n       <use x=\"190.869141\" xlink:href=\"#DejaVuSans-30\"/>\r\n      </g>\r\n     </g>\r\n    </g>\r\n   </g>\r\n   <g id=\"patch_13\">\r\n    <path d=\"M 39.65 169.292187 \r\nL 39.65 20.798437 \r\n\" style=\"fill:none;stroke:#000000;stroke-linecap:square;stroke-linejoin:miter;stroke-width:0.8;\"/>\r\n   </g>\r\n   <g id=\"patch_14\">\r\n    <path d=\"M 39.65 169.292187 \r\nL 231.4625 169.292187 \r\n\" style=\"fill:none;stroke:#000000;stroke-linecap:square;stroke-linejoin:miter;stroke-width:0.8;\"/>\r\n   </g>\r\n   <g id=\"text_12\">\r\n    <!-- class_label = Positive(1) -->\r\n    <g transform=\"translate(74.828906 14.798437)scale(0.1 -0.1)\">\r\n     <defs>\r\n      <path d=\"M 3122 3366 \r\nL 3122 2828 \r\nQ 2878 2963 2633 3030 \r\nQ 2388 3097 2138 3097 \r\nQ 1578 3097 1268 2742 \r\nQ 959 2388 959 1747 \r\nQ 959 1106 1268 751 \r\nQ 1578 397 2138 397 \r\nQ 2388 397 2633 464 \r\nQ 2878 531 3122 666 \r\nL 3122 134 \r\nQ 2881 22 2623 -34 \r\nQ 2366 -91 2075 -91 \r\nQ 1284 -91 818 406 \r\nQ 353 903 353 1747 \r\nQ 353 2603 823 3093 \r\nQ 1294 3584 2113 3584 \r\nQ 2378 3584 2631 3529 \r\nQ 2884 3475 3122 3366 \r\nz\r\n\" id=\"DejaVuSans-63\" transform=\"scale(0.015625)\"/>\r\n      <path d=\"M 2194 1759 \r\nQ 1497 1759 1228 1600 \r\nQ 959 1441 959 1056 \r\nQ 959 750 1161 570 \r\nQ 1363 391 1709 391 \r\nQ 2188 391 2477 730 \r\nQ 2766 1069 2766 1631 \r\nL 2766 1759 \r\nL 2194 1759 \r\nz\r\nM 3341 1997 \r\nL 3341 0 \r\nL 2766 0 \r\nL 2766 531 \r\nQ 2569 213 2275 61 \r\nQ 1981 -91 1556 -91 \r\nQ 1019 -91 701 211 \r\nQ 384 513 384 1019 \r\nQ 384 1609 779 1909 \r\nQ 1175 2209 1959 2209 \r\nL 2766 2209 \r\nL 2766 2266 \r\nQ 2766 2663 2505 2880 \r\nQ 2244 3097 1772 3097 \r\nQ 1472 3097 1187 3025 \r\nQ 903 2953 641 2809 \r\nL 641 3341 \r\nQ 956 3463 1253 3523 \r\nQ 1550 3584 1831 3584 \r\nQ 2591 3584 2966 3190 \r\nQ 3341 2797 3341 1997 \r\nz\r\n\" id=\"DejaVuSans-61\" transform=\"scale(0.015625)\"/>\r\n      <path d=\"M 2834 3397 \r\nL 2834 2853 \r\nQ 2591 2978 2328 3040 \r\nQ 2066 3103 1784 3103 \r\nQ 1356 3103 1142 2972 \r\nQ 928 2841 928 2578 \r\nQ 928 2378 1081 2264 \r\nQ 1234 2150 1697 2047 \r\nL 1894 2003 \r\nQ 2506 1872 2764 1633 \r\nQ 3022 1394 3022 966 \r\nQ 3022 478 2636 193 \r\nQ 2250 -91 1575 -91 \r\nQ 1294 -91 989 -36 \r\nQ 684 19 347 128 \r\nL 347 722 \r\nQ 666 556 975 473 \r\nQ 1284 391 1588 391 \r\nQ 1994 391 2212 530 \r\nQ 2431 669 2431 922 \r\nQ 2431 1156 2273 1281 \r\nQ 2116 1406 1581 1522 \r\nL 1381 1569 \r\nQ 847 1681 609 1914 \r\nQ 372 2147 372 2553 \r\nQ 372 3047 722 3315 \r\nQ 1072 3584 1716 3584 \r\nQ 2034 3584 2315 3537 \r\nQ 2597 3491 2834 3397 \r\nz\r\n\" id=\"DejaVuSans-73\" transform=\"scale(0.015625)\"/>\r\n      <path d=\"M 3116 1747 \r\nQ 3116 2381 2855 2742 \r\nQ 2594 3103 2138 3103 \r\nQ 1681 3103 1420 2742 \r\nQ 1159 2381 1159 1747 \r\nQ 1159 1113 1420 752 \r\nQ 1681 391 2138 391 \r\nQ 2594 391 2855 752 \r\nQ 3116 1113 3116 1747 \r\nz\r\nM 1159 2969 \r\nQ 1341 3281 1617 3432 \r\nQ 1894 3584 2278 3584 \r\nQ 2916 3584 3314 3078 \r\nQ 3713 2572 3713 1747 \r\nQ 3713 922 3314 415 \r\nQ 2916 -91 2278 -91 \r\nQ 1894 -91 1617 61 \r\nQ 1341 213 1159 525 \r\nL 1159 0 \r\nL 581 0 \r\nL 581 4863 \r\nL 1159 4863 \r\nL 1159 2969 \r\nz\r\n\" id=\"DejaVuSans-62\" transform=\"scale(0.015625)\"/>\r\n      <path id=\"DejaVuSans-20\" transform=\"scale(0.015625)\"/>\r\n      <path d=\"M 678 2906 \r\nL 4684 2906 \r\nL 4684 2381 \r\nL 678 2381 \r\nL 678 2906 \r\nz\r\nM 678 1631 \r\nL 4684 1631 \r\nL 4684 1100 \r\nL 678 1100 \r\nL 678 1631 \r\nz\r\n\" id=\"DejaVuSans-3d\" transform=\"scale(0.015625)\"/>\r\n      <path d=\"M 1259 4147 \r\nL 1259 2394 \r\nL 2053 2394 \r\nQ 2494 2394 2734 2622 \r\nQ 2975 2850 2975 3272 \r\nQ 2975 3691 2734 3919 \r\nQ 2494 4147 2053 4147 \r\nL 1259 4147 \r\nz\r\nM 628 4666 \r\nL 2053 4666 \r\nQ 2838 4666 3239 4311 \r\nQ 3641 3956 3641 3272 \r\nQ 3641 2581 3239 2228 \r\nQ 2838 1875 2053 1875 \r\nL 1259 1875 \r\nL 1259 0 \r\nL 628 0 \r\nL 628 4666 \r\nz\r\n\" id=\"DejaVuSans-50\" transform=\"scale(0.015625)\"/>\r\n      <path d=\"M 1959 3097 \r\nQ 1497 3097 1228 2736 \r\nQ 959 2375 959 1747 \r\nQ 959 1119 1226 758 \r\nQ 1494 397 1959 397 \r\nQ 2419 397 2687 759 \r\nQ 2956 1122 2956 1747 \r\nQ 2956 2369 2687 2733 \r\nQ 2419 3097 1959 3097 \r\nz\r\nM 1959 3584 \r\nQ 2709 3584 3137 3096 \r\nQ 3566 2609 3566 1747 \r\nQ 3566 888 3137 398 \r\nQ 2709 -91 1959 -91 \r\nQ 1206 -91 779 398 \r\nQ 353 888 353 1747 \r\nQ 353 2609 779 3096 \r\nQ 1206 3584 1959 3584 \r\nz\r\n\" id=\"DejaVuSans-6f\" transform=\"scale(0.015625)\"/>\r\n      <path d=\"M 603 3500 \r\nL 1178 3500 \r\nL 1178 0 \r\nL 603 0 \r\nL 603 3500 \r\nz\r\nM 603 4863 \r\nL 1178 4863 \r\nL 1178 4134 \r\nL 603 4134 \r\nL 603 4863 \r\nz\r\n\" id=\"DejaVuSans-69\" transform=\"scale(0.015625)\"/>\r\n      <path d=\"M 191 3500 \r\nL 800 3500 \r\nL 1894 563 \r\nL 2988 3500 \r\nL 3597 3500 \r\nL 2284 0 \r\nL 1503 0 \r\nL 191 3500 \r\nz\r\n\" id=\"DejaVuSans-76\" transform=\"scale(0.015625)\"/>\r\n      <path d=\"M 1984 4856 \r\nQ 1566 4138 1362 3434 \r\nQ 1159 2731 1159 2009 \r\nQ 1159 1288 1364 580 \r\nQ 1569 -128 1984 -844 \r\nL 1484 -844 \r\nQ 1016 -109 783 600 \r\nQ 550 1309 550 2009 \r\nQ 550 2706 781 3412 \r\nQ 1013 4119 1484 4856 \r\nL 1984 4856 \r\nz\r\n\" id=\"DejaVuSans-28\" transform=\"scale(0.015625)\"/>\r\n      <path d=\"M 513 4856 \r\nL 1013 4856 \r\nQ 1481 4119 1714 3412 \r\nQ 1947 2706 1947 2009 \r\nQ 1947 1309 1714 600 \r\nQ 1481 -109 1013 -844 \r\nL 513 -844 \r\nQ 928 -128 1133 580 \r\nQ 1338 1288 1338 2009 \r\nQ 1338 2731 1133 3434 \r\nQ 928 4138 513 4856 \r\nz\r\n\" id=\"DejaVuSans-29\" transform=\"scale(0.015625)\"/>\r\n     </defs>\r\n     <use xlink:href=\"#DejaVuSans-63\"/>\r\n     <use x=\"54.980469\" xlink:href=\"#DejaVuSans-6c\"/>\r\n     <use x=\"82.763672\" xlink:href=\"#DejaVuSans-61\"/>\r\n     <use x=\"144.042969\" xlink:href=\"#DejaVuSans-73\"/>\r\n     <use x=\"196.142578\" xlink:href=\"#DejaVuSans-73\"/>\r\n     <use x=\"248.242188\" xlink:href=\"#DejaVuSans-5f\"/>\r\n     <use x=\"298.242188\" xlink:href=\"#DejaVuSans-6c\"/>\r\n     <use x=\"326.025391\" xlink:href=\"#DejaVuSans-61\"/>\r\n     <use x=\"387.304688\" xlink:href=\"#DejaVuSans-62\"/>\r\n     <use x=\"450.78125\" xlink:href=\"#DejaVuSans-65\"/>\r\n     <use x=\"512.304688\" xlink:href=\"#DejaVuSans-6c\"/>\r\n     <use x=\"540.087891\" xlink:href=\"#DejaVuSans-20\"/>\r\n     <use x=\"571.875\" xlink:href=\"#DejaVuSans-3d\"/>\r\n     <use x=\"655.664062\" xlink:href=\"#DejaVuSans-20\"/>\r\n     <use x=\"687.451172\" xlink:href=\"#DejaVuSans-50\"/>\r\n     <use x=\"744.128906\" xlink:href=\"#DejaVuSans-6f\"/>\r\n     <use x=\"805.310547\" xlink:href=\"#DejaVuSans-73\"/>\r\n     <use x=\"857.410156\" xlink:href=\"#DejaVuSans-69\"/>\r\n     <use x=\"885.193359\" xlink:href=\"#DejaVuSans-74\"/>\r\n     <use x=\"924.402344\" xlink:href=\"#DejaVuSans-69\"/>\r\n     <use x=\"952.185547\" xlink:href=\"#DejaVuSans-76\"/>\r\n     <use x=\"1011.365234\" xlink:href=\"#DejaVuSans-65\"/>\r\n     <use x=\"1072.888672\" xlink:href=\"#DejaVuSans-28\"/>\r\n     <use x=\"1111.902344\" xlink:href=\"#DejaVuSans-31\"/>\r\n     <use x=\"1175.525391\" xlink:href=\"#DejaVuSans-29\"/>\r\n    </g>\r\n   </g>\r\n  </g>\r\n  <g id=\"axes_2\">\r\n   <g id=\"patch_15\">\r\n    <path d=\"M 245.7625 169.292187 \r\nL 437.575 169.292187 \r\nL 437.575 20.798437 \r\nL 245.7625 20.798437 \r\nz\r\n\" style=\"fill:#ffffff;\"/>\r\n   </g>\r\n   <g id=\"patch_16\">\r\n    <path clip-path=\"url(#pf94dbe41ae)\" d=\"M 262.987348 169.292187 \r\nL 278.58186 169.292187 \r\nL 278.58186 168.373433 \r\nL 262.987348 168.373433 \r\nz\r\n\" style=\"fill:#1f77b4;\"/>\r\n   </g>\r\n   <g id=\"patch_17\">\r\n    <path clip-path=\"url(#pf94dbe41ae)\" d=\"M 278.58186 169.292187 \r\nL 294.176372 169.292187 \r\nL 294.176372 164.107785 \r\nL 278.58186 164.107785 \r\nz\r\n\" style=\"fill:#1f77b4;\"/>\r\n   </g>\r\n   <g id=\"patch_18\">\r\n    <path clip-path=\"url(#pf94dbe41ae)\" d=\"M 294.176372 169.292187 \r\nL 309.770884 169.292187 \r\nL 309.770884 146.192066 \r\nL 294.176372 146.192066 \r\nz\r\n\" style=\"fill:#1f77b4;\"/>\r\n   </g>\r\n   <g id=\"patch_19\">\r\n    <path clip-path=\"url(#pf94dbe41ae)\" d=\"M 309.770884 169.292187 \r\nL 325.365396 169.292187 \r\nL 325.365396 130.048231 \r\nL 309.770884 130.048231 \r\nz\r\n\" style=\"fill:#1f77b4;\"/>\r\n   </g>\r\n   <g id=\"patch_20\">\r\n    <path clip-path=\"url(#pf94dbe41ae)\" d=\"M 325.365396 169.292187 \r\nL 340.959909 169.292187 \r\nL 340.959909 116.791911 \r\nL 325.365396 116.791911 \r\nz\r\n\" style=\"fill:#1f77b4;\"/>\r\n   </g>\r\n   <g id=\"patch_21\">\r\n    <path clip-path=\"url(#pf94dbe41ae)\" d=\"M 340.959909 169.292187 \r\nL 356.554421 169.292187 \r\nL 356.554421 115.67628 \r\nL 340.959909 115.67628 \r\nz\r\n\" style=\"fill:#1f77b4;\"/>\r\n   </g>\r\n   <g id=\"patch_22\">\r\n    <path clip-path=\"url(#pf94dbe41ae)\" d=\"M 356.554421 169.292187 \r\nL 372.148933 169.292187 \r\nL 372.148933 131.820115 \r\nL 356.554421 131.820115 \r\nz\r\n\" style=\"fill:#1f77b4;\"/>\r\n   </g>\r\n   <g id=\"patch_23\">\r\n    <path clip-path=\"url(#pf94dbe41ae)\" d=\"M 372.148933 169.292187 \r\nL 387.743445 169.292187 \r\nL 387.743445 147.504573 \r\nL 372.148933 147.504573 \r\nz\r\n\" style=\"fill:#1f77b4;\"/>\r\n   </g>\r\n   <g id=\"patch_24\">\r\n    <path clip-path=\"url(#pf94dbe41ae)\" d=\"M 387.743445 169.292187 \r\nL 403.337957 169.292187 \r\nL 403.337957 164.632788 \r\nL 387.743445 164.632788 \r\nz\r\n\" style=\"fill:#1f77b4;\"/>\r\n   </g>\r\n   <g id=\"patch_25\">\r\n    <path clip-path=\"url(#pf94dbe41ae)\" d=\"M 403.337957 169.292187 \r\nL 418.93247 169.292187 \r\nL 418.93247 168.898435 \r\nL 403.337957 168.898435 \r\nz\r\n\" style=\"fill:#1f77b4;\"/>\r\n   </g>\r\n   <g id=\"matplotlib.axis_3\">\r\n    <g id=\"xtick_6\">\r\n     <g id=\"line2d_11\">\r\n      <g>\r\n       <use style=\"stroke:#000000;stroke-width:0.8;\" x=\"270.075762\" xlink:href=\"#m3fda6a4656\" y=\"169.292187\"/>\r\n      </g>\r\n     </g>\r\n     <g id=\"text_13\">\r\n      <!-- 25 -->\r\n      <g transform=\"translate(263.713262 183.890625)scale(0.1 -0.1)\">\r\n       <use xlink:href=\"#DejaVuSans-32\"/>\r\n       <use x=\"63.623047\" xlink:href=\"#DejaVuSans-35\"/>\r\n      </g>\r\n     </g>\r\n    </g>\r\n    <g id=\"xtick_7\">\r\n     <g id=\"line2d_12\">\r\n      <g>\r\n       <use style=\"stroke:#000000;stroke-width:0.8;\" x=\"305.517835\" xlink:href=\"#m3fda6a4656\" y=\"169.292187\"/>\r\n      </g>\r\n     </g>\r\n     <g id=\"text_14\">\r\n      <!-- 50 -->\r\n      <g transform=\"translate(299.155335 183.890625)scale(0.1 -0.1)\">\r\n       <use xlink:href=\"#DejaVuSans-35\"/>\r\n       <use x=\"63.623047\" xlink:href=\"#DejaVuSans-30\"/>\r\n      </g>\r\n     </g>\r\n    </g>\r\n    <g id=\"xtick_8\">\r\n     <g id=\"line2d_13\">\r\n      <g>\r\n       <use style=\"stroke:#000000;stroke-width:0.8;\" x=\"340.959909\" xlink:href=\"#m3fda6a4656\" y=\"169.292187\"/>\r\n      </g>\r\n     </g>\r\n     <g id=\"text_15\">\r\n      <!-- 75 -->\r\n      <g transform=\"translate(334.597409 183.890625)scale(0.1 -0.1)\">\r\n       <use xlink:href=\"#DejaVuSans-37\"/>\r\n       <use x=\"63.623047\" xlink:href=\"#DejaVuSans-35\"/>\r\n      </g>\r\n     </g>\r\n    </g>\r\n    <g id=\"xtick_9\">\r\n     <g id=\"line2d_14\">\r\n      <g>\r\n       <use style=\"stroke:#000000;stroke-width:0.8;\" x=\"376.401982\" xlink:href=\"#m3fda6a4656\" y=\"169.292187\"/>\r\n      </g>\r\n     </g>\r\n     <g id=\"text_16\">\r\n      <!-- 100 -->\r\n      <g transform=\"translate(366.858232 183.890625)scale(0.1 -0.1)\">\r\n       <use xlink:href=\"#DejaVuSans-31\"/>\r\n       <use x=\"63.623047\" xlink:href=\"#DejaVuSans-30\"/>\r\n       <use x=\"127.246094\" xlink:href=\"#DejaVuSans-30\"/>\r\n      </g>\r\n     </g>\r\n    </g>\r\n    <g id=\"xtick_10\">\r\n     <g id=\"line2d_15\">\r\n      <g>\r\n       <use style=\"stroke:#000000;stroke-width:0.8;\" x=\"411.844055\" xlink:href=\"#m3fda6a4656\" y=\"169.292187\"/>\r\n      </g>\r\n     </g>\r\n     <g id=\"text_17\">\r\n      <!-- 125 -->\r\n      <g transform=\"translate(402.300305 183.890625)scale(0.1 -0.1)\">\r\n       <use xlink:href=\"#DejaVuSans-31\"/>\r\n       <use x=\"63.623047\" xlink:href=\"#DejaVuSans-32\"/>\r\n       <use x=\"127.246094\" xlink:href=\"#DejaVuSans-35\"/>\r\n      </g>\r\n     </g>\r\n    </g>\r\n    <g id=\"text_18\">\r\n     <!-- length_tweet -->\r\n     <g transform=\"translate(309.06875 197.56875)scale(0.1 -0.1)\">\r\n      <use xlink:href=\"#DejaVuSans-6c\"/>\r\n      <use x=\"27.783203\" xlink:href=\"#DejaVuSans-65\"/>\r\n      <use x=\"89.306641\" xlink:href=\"#DejaVuSans-6e\"/>\r\n      <use x=\"152.685547\" xlink:href=\"#DejaVuSans-67\"/>\r\n      <use x=\"216.162109\" xlink:href=\"#DejaVuSans-74\"/>\r\n      <use x=\"255.371094\" xlink:href=\"#DejaVuSans-68\"/>\r\n      <use x=\"318.75\" xlink:href=\"#DejaVuSans-5f\"/>\r\n      <use x=\"368.75\" xlink:href=\"#DejaVuSans-74\"/>\r\n      <use x=\"407.958984\" xlink:href=\"#DejaVuSans-77\"/>\r\n      <use x=\"489.746094\" xlink:href=\"#DejaVuSans-65\"/>\r\n      <use x=\"551.269531\" xlink:href=\"#DejaVuSans-65\"/>\r\n      <use x=\"612.792969\" xlink:href=\"#DejaVuSans-74\"/>\r\n     </g>\r\n    </g>\r\n   </g>\r\n   <g id=\"matplotlib.axis_4\">\r\n    <g id=\"ytick_6\">\r\n     <g id=\"line2d_16\">\r\n      <g>\r\n       <use style=\"stroke:#000000;stroke-width:0.8;\" x=\"245.7625\" xlink:href=\"#me28be135aa\" y=\"169.292187\"/>\r\n      </g>\r\n     </g>\r\n    </g>\r\n    <g id=\"ytick_7\">\r\n     <g id=\"line2d_17\">\r\n      <g>\r\n       <use style=\"stroke:#000000;stroke-width:0.8;\" x=\"245.7625\" xlink:href=\"#me28be135aa\" y=\"136.479515\"/>\r\n      </g>\r\n     </g>\r\n    </g>\r\n    <g id=\"ytick_8\">\r\n     <g id=\"line2d_18\">\r\n      <g>\r\n       <use style=\"stroke:#000000;stroke-width:0.8;\" x=\"245.7625\" xlink:href=\"#me28be135aa\" y=\"103.666842\"/>\r\n      </g>\r\n     </g>\r\n    </g>\r\n    <g id=\"ytick_9\">\r\n     <g id=\"line2d_19\">\r\n      <g>\r\n       <use style=\"stroke:#000000;stroke-width:0.8;\" x=\"245.7625\" xlink:href=\"#me28be135aa\" y=\"70.85417\"/>\r\n      </g>\r\n     </g>\r\n    </g>\r\n    <g id=\"ytick_10\">\r\n     <g id=\"line2d_20\">\r\n      <g>\r\n       <use style=\"stroke:#000000;stroke-width:0.8;\" x=\"245.7625\" xlink:href=\"#me28be135aa\" y=\"38.041497\"/>\r\n      </g>\r\n     </g>\r\n    </g>\r\n   </g>\r\n   <g id=\"patch_26\">\r\n    <path d=\"M 245.7625 169.292187 \r\nL 245.7625 20.798437 \r\n\" style=\"fill:none;stroke:#000000;stroke-linecap:square;stroke-linejoin:miter;stroke-width:0.8;\"/>\r\n   </g>\r\n   <g id=\"patch_27\">\r\n    <path d=\"M 245.7625 169.292187 \r\nL 437.575 169.292187 \r\n\" style=\"fill:none;stroke:#000000;stroke-linecap:square;stroke-linejoin:miter;stroke-width:0.8;\"/>\r\n   </g>\r\n   <g id=\"text_19\">\r\n    <!-- class_label = News(2) -->\r\n    <g transform=\"translate(286.702344 14.798437)scale(0.1 -0.1)\">\r\n     <defs>\r\n      <path d=\"M 628 4666 \r\nL 1478 4666 \r\nL 3547 763 \r\nL 3547 4666 \r\nL 4159 4666 \r\nL 4159 0 \r\nL 3309 0 \r\nL 1241 3903 \r\nL 1241 0 \r\nL 628 0 \r\nL 628 4666 \r\nz\r\n\" id=\"DejaVuSans-4e\" transform=\"scale(0.015625)\"/>\r\n     </defs>\r\n     <use xlink:href=\"#DejaVuSans-63\"/>\r\n     <use x=\"54.980469\" xlink:href=\"#DejaVuSans-6c\"/>\r\n     <use x=\"82.763672\" xlink:href=\"#DejaVuSans-61\"/>\r\n     <use x=\"144.042969\" xlink:href=\"#DejaVuSans-73\"/>\r\n     <use x=\"196.142578\" xlink:href=\"#DejaVuSans-73\"/>\r\n     <use x=\"248.242188\" xlink:href=\"#DejaVuSans-5f\"/>\r\n     <use x=\"298.242188\" xlink:href=\"#DejaVuSans-6c\"/>\r\n     <use x=\"326.025391\" xlink:href=\"#DejaVuSans-61\"/>\r\n     <use x=\"387.304688\" xlink:href=\"#DejaVuSans-62\"/>\r\n     <use x=\"450.78125\" xlink:href=\"#DejaVuSans-65\"/>\r\n     <use x=\"512.304688\" xlink:href=\"#DejaVuSans-6c\"/>\r\n     <use x=\"540.087891\" xlink:href=\"#DejaVuSans-20\"/>\r\n     <use x=\"571.875\" xlink:href=\"#DejaVuSans-3d\"/>\r\n     <use x=\"655.664062\" xlink:href=\"#DejaVuSans-20\"/>\r\n     <use x=\"687.451172\" xlink:href=\"#DejaVuSans-4e\"/>\r\n     <use x=\"762.255859\" xlink:href=\"#DejaVuSans-65\"/>\r\n     <use x=\"823.779297\" xlink:href=\"#DejaVuSans-77\"/>\r\n     <use x=\"905.566406\" xlink:href=\"#DejaVuSans-73\"/>\r\n     <use x=\"957.666016\" xlink:href=\"#DejaVuSans-28\"/>\r\n     <use x=\"996.679688\" xlink:href=\"#DejaVuSans-32\"/>\r\n     <use x=\"1060.302734\" xlink:href=\"#DejaVuSans-29\"/>\r\n    </g>\r\n   </g>\r\n  </g>\r\n  <g id=\"axes_3\">\r\n   <g id=\"patch_28\">\r\n    <path d=\"M 451.875 169.292187 \r\nL 643.6875 169.292187 \r\nL 643.6875 20.798437 \r\nL 451.875 20.798437 \r\nz\r\n\" style=\"fill:#ffffff;\"/>\r\n   </g>\r\n   <g id=\"patch_29\">\r\n    <path clip-path=\"url(#pf2bc5040bb)\" d=\"M 460.59375 169.292187 \r\nL 478.03125 169.292187 \r\nL 478.03125 165.814044 \r\nL 460.59375 165.814044 \r\nz\r\n\" style=\"fill:#1f77b4;\"/>\r\n   </g>\r\n   <g id=\"patch_30\">\r\n    <path clip-path=\"url(#pf2bc5040bb)\" d=\"M 478.03125 169.292187 \r\nL 495.46875 169.292187 \r\nL 495.46875 157.348375 \r\nL 478.03125 157.348375 \r\nz\r\n\" style=\"fill:#1f77b4;\"/>\r\n   </g>\r\n   <g id=\"patch_31\">\r\n    <path clip-path=\"url(#pf2bc5040bb)\" d=\"M 495.46875 169.292187 \r\nL 512.90625 169.292187 \r\nL 512.90625 151.63897 \r\nL 495.46875 151.63897 \r\nz\r\n\" style=\"fill:#1f77b4;\"/>\r\n   </g>\r\n   <g id=\"patch_32\">\r\n    <path clip-path=\"url(#pf2bc5040bb)\" d=\"M 512.90625 169.292187 \r\nL 530.34375 169.292187 \r\nL 530.34375 144.879559 \r\nL 512.90625 144.879559 \r\nz\r\n\" style=\"fill:#1f77b4;\"/>\r\n   </g>\r\n   <g id=\"patch_33\">\r\n    <path clip-path=\"url(#pf2bc5040bb)\" d=\"M 530.34375 169.292187 \r\nL 547.78125 169.292187 \r\nL 547.78125 147.767074 \r\nL 530.34375 147.767074 \r\nz\r\n\" style=\"fill:#1f77b4;\"/>\r\n   </g>\r\n   <g id=\"patch_34\">\r\n    <path clip-path=\"url(#pf2bc5040bb)\" d=\"M 547.78125 169.292187 \r\nL 565.21875 169.292187 \r\nL 565.21875 140.745162 \r\nL 547.78125 140.745162 \r\nz\r\n\" style=\"fill:#1f77b4;\"/>\r\n   </g>\r\n   <g id=\"patch_35\">\r\n    <path clip-path=\"url(#pf2bc5040bb)\" d=\"M 565.21875 169.292187 \r\nL 582.65625 169.292187 \r\nL 582.65625 141.007664 \r\nL 565.21875 141.007664 \r\nz\r\n\" style=\"fill:#1f77b4;\"/>\r\n   </g>\r\n   <g id=\"patch_36\">\r\n    <path clip-path=\"url(#pf2bc5040bb)\" d=\"M 582.65625 169.292187 \r\nL 600.09375 169.292187 \r\nL 600.09375 154.985862 \r\nL 582.65625 154.985862 \r\nz\r\n\" style=\"fill:#1f77b4;\"/>\r\n   </g>\r\n   <g id=\"patch_37\">\r\n    <path clip-path=\"url(#pf2bc5040bb)\" d=\"M 600.09375 169.292187 \r\nL 617.53125 169.292187 \r\nL 617.53125 165.748419 \r\nL 600.09375 165.748419 \r\nz\r\n\" style=\"fill:#1f77b4;\"/>\r\n   </g>\r\n   <g id=\"patch_38\">\r\n    <path clip-path=\"url(#pf2bc5040bb)\" d=\"M 617.53125 169.292187 \r\nL 634.96875 169.292187 \r\nL 634.96875 168.570309 \r\nL 617.53125 168.570309 \r\nz\r\n\" style=\"fill:#1f77b4;\"/>\r\n   </g>\r\n   <g id=\"matplotlib.axis_5\">\r\n    <g id=\"xtick_11\">\r\n     <g id=\"line2d_21\">\r\n      <g>\r\n       <use style=\"stroke:#000000;stroke-width:0.8;\" x=\"476.188262\" xlink:href=\"#m3fda6a4656\" y=\"169.292187\"/>\r\n      </g>\r\n     </g>\r\n     <g id=\"text_20\">\r\n      <!-- 25 -->\r\n      <g transform=\"translate(469.825762 183.890625)scale(0.1 -0.1)\">\r\n       <use xlink:href=\"#DejaVuSans-32\"/>\r\n       <use x=\"63.623047\" xlink:href=\"#DejaVuSans-35\"/>\r\n      </g>\r\n     </g>\r\n    </g>\r\n    <g id=\"xtick_12\">\r\n     <g id=\"line2d_22\">\r\n      <g>\r\n       <use style=\"stroke:#000000;stroke-width:0.8;\" x=\"511.630335\" xlink:href=\"#m3fda6a4656\" y=\"169.292187\"/>\r\n      </g>\r\n     </g>\r\n     <g id=\"text_21\">\r\n      <!-- 50 -->\r\n      <g transform=\"translate(505.267835 183.890625)scale(0.1 -0.1)\">\r\n       <use xlink:href=\"#DejaVuSans-35\"/>\r\n       <use x=\"63.623047\" xlink:href=\"#DejaVuSans-30\"/>\r\n      </g>\r\n     </g>\r\n    </g>\r\n    <g id=\"xtick_13\">\r\n     <g id=\"line2d_23\">\r\n      <g>\r\n       <use style=\"stroke:#000000;stroke-width:0.8;\" x=\"547.072409\" xlink:href=\"#m3fda6a4656\" y=\"169.292187\"/>\r\n      </g>\r\n     </g>\r\n     <g id=\"text_22\">\r\n      <!-- 75 -->\r\n      <g transform=\"translate(540.709909 183.890625)scale(0.1 -0.1)\">\r\n       <use xlink:href=\"#DejaVuSans-37\"/>\r\n       <use x=\"63.623047\" xlink:href=\"#DejaVuSans-35\"/>\r\n      </g>\r\n     </g>\r\n    </g>\r\n    <g id=\"xtick_14\">\r\n     <g id=\"line2d_24\">\r\n      <g>\r\n       <use style=\"stroke:#000000;stroke-width:0.8;\" x=\"582.514482\" xlink:href=\"#m3fda6a4656\" y=\"169.292187\"/>\r\n      </g>\r\n     </g>\r\n     <g id=\"text_23\">\r\n      <!-- 100 -->\r\n      <g transform=\"translate(572.970732 183.890625)scale(0.1 -0.1)\">\r\n       <use xlink:href=\"#DejaVuSans-31\"/>\r\n       <use x=\"63.623047\" xlink:href=\"#DejaVuSans-30\"/>\r\n       <use x=\"127.246094\" xlink:href=\"#DejaVuSans-30\"/>\r\n      </g>\r\n     </g>\r\n    </g>\r\n    <g id=\"xtick_15\">\r\n     <g id=\"line2d_25\">\r\n      <g>\r\n       <use style=\"stroke:#000000;stroke-width:0.8;\" x=\"617.956555\" xlink:href=\"#m3fda6a4656\" y=\"169.292187\"/>\r\n      </g>\r\n     </g>\r\n     <g id=\"text_24\">\r\n      <!-- 125 -->\r\n      <g transform=\"translate(608.412805 183.890625)scale(0.1 -0.1)\">\r\n       <use xlink:href=\"#DejaVuSans-31\"/>\r\n       <use x=\"63.623047\" xlink:href=\"#DejaVuSans-32\"/>\r\n       <use x=\"127.246094\" xlink:href=\"#DejaVuSans-35\"/>\r\n      </g>\r\n     </g>\r\n    </g>\r\n    <g id=\"text_25\">\r\n     <!-- length_tweet -->\r\n     <g transform=\"translate(515.18125 197.56875)scale(0.1 -0.1)\">\r\n      <use xlink:href=\"#DejaVuSans-6c\"/>\r\n      <use x=\"27.783203\" xlink:href=\"#DejaVuSans-65\"/>\r\n      <use x=\"89.306641\" xlink:href=\"#DejaVuSans-6e\"/>\r\n      <use x=\"152.685547\" xlink:href=\"#DejaVuSans-67\"/>\r\n      <use x=\"216.162109\" xlink:href=\"#DejaVuSans-74\"/>\r\n      <use x=\"255.371094\" xlink:href=\"#DejaVuSans-68\"/>\r\n      <use x=\"318.75\" xlink:href=\"#DejaVuSans-5f\"/>\r\n      <use x=\"368.75\" xlink:href=\"#DejaVuSans-74\"/>\r\n      <use x=\"407.958984\" xlink:href=\"#DejaVuSans-77\"/>\r\n      <use x=\"489.746094\" xlink:href=\"#DejaVuSans-65\"/>\r\n      <use x=\"551.269531\" xlink:href=\"#DejaVuSans-65\"/>\r\n      <use x=\"612.792969\" xlink:href=\"#DejaVuSans-74\"/>\r\n     </g>\r\n    </g>\r\n   </g>\r\n   <g id=\"matplotlib.axis_6\">\r\n    <g id=\"ytick_11\">\r\n     <g id=\"line2d_26\">\r\n      <g>\r\n       <use style=\"stroke:#000000;stroke-width:0.8;\" x=\"451.875\" xlink:href=\"#me28be135aa\" y=\"169.292187\"/>\r\n      </g>\r\n     </g>\r\n    </g>\r\n    <g id=\"ytick_12\">\r\n     <g id=\"line2d_27\">\r\n      <g>\r\n       <use style=\"stroke:#000000;stroke-width:0.8;\" x=\"451.875\" xlink:href=\"#me28be135aa\" y=\"136.479515\"/>\r\n      </g>\r\n     </g>\r\n    </g>\r\n    <g id=\"ytick_13\">\r\n     <g id=\"line2d_28\">\r\n      <g>\r\n       <use style=\"stroke:#000000;stroke-width:0.8;\" x=\"451.875\" xlink:href=\"#me28be135aa\" y=\"103.666842\"/>\r\n      </g>\r\n     </g>\r\n    </g>\r\n    <g id=\"ytick_14\">\r\n     <g id=\"line2d_29\">\r\n      <g>\r\n       <use style=\"stroke:#000000;stroke-width:0.8;\" x=\"451.875\" xlink:href=\"#me28be135aa\" y=\"70.85417\"/>\r\n      </g>\r\n     </g>\r\n    </g>\r\n    <g id=\"ytick_15\">\r\n     <g id=\"line2d_30\">\r\n      <g>\r\n       <use style=\"stroke:#000000;stroke-width:0.8;\" x=\"451.875\" xlink:href=\"#me28be135aa\" y=\"38.041497\"/>\r\n      </g>\r\n     </g>\r\n    </g>\r\n   </g>\r\n   <g id=\"patch_39\">\r\n    <path d=\"M 451.875 169.292187 \r\nL 451.875 20.798437 \r\n\" style=\"fill:none;stroke:#000000;stroke-linecap:square;stroke-linejoin:miter;stroke-width:0.8;\"/>\r\n   </g>\r\n   <g id=\"patch_40\">\r\n    <path d=\"M 451.875 169.292187 \r\nL 643.6875 169.292187 \r\n\" style=\"fill:none;stroke:#000000;stroke-linecap:square;stroke-linejoin:miter;stroke-width:0.8;\"/>\r\n   </g>\r\n   <g id=\"text_26\">\r\n    <!-- class_label = Neutral(0) -->\r\n    <g transform=\"translate(487.871094 14.798437)scale(0.1 -0.1)\">\r\n     <defs>\r\n      <path d=\"M 544 1381 \r\nL 544 3500 \r\nL 1119 3500 \r\nL 1119 1403 \r\nQ 1119 906 1312 657 \r\nQ 1506 409 1894 409 \r\nQ 2359 409 2629 706 \r\nQ 2900 1003 2900 1516 \r\nL 2900 3500 \r\nL 3475 3500 \r\nL 3475 0 \r\nL 2900 0 \r\nL 2900 538 \r\nQ 2691 219 2414 64 \r\nQ 2138 -91 1772 -91 \r\nQ 1169 -91 856 284 \r\nQ 544 659 544 1381 \r\nz\r\nM 1991 3584 \r\nL 1991 3584 \r\nz\r\n\" id=\"DejaVuSans-75\" transform=\"scale(0.015625)\"/>\r\n      <path d=\"M 2631 2963 \r\nQ 2534 3019 2420 3045 \r\nQ 2306 3072 2169 3072 \r\nQ 1681 3072 1420 2755 \r\nQ 1159 2438 1159 1844 \r\nL 1159 0 \r\nL 581 0 \r\nL 581 3500 \r\nL 1159 3500 \r\nL 1159 2956 \r\nQ 1341 3275 1631 3429 \r\nQ 1922 3584 2338 3584 \r\nQ 2397 3584 2469 3576 \r\nQ 2541 3569 2628 3553 \r\nL 2631 2963 \r\nz\r\n\" id=\"DejaVuSans-72\" transform=\"scale(0.015625)\"/>\r\n     </defs>\r\n     <use xlink:href=\"#DejaVuSans-63\"/>\r\n     <use x=\"54.980469\" xlink:href=\"#DejaVuSans-6c\"/>\r\n     <use x=\"82.763672\" xlink:href=\"#DejaVuSans-61\"/>\r\n     <use x=\"144.042969\" xlink:href=\"#DejaVuSans-73\"/>\r\n     <use x=\"196.142578\" xlink:href=\"#DejaVuSans-73\"/>\r\n     <use x=\"248.242188\" xlink:href=\"#DejaVuSans-5f\"/>\r\n     <use x=\"298.242188\" xlink:href=\"#DejaVuSans-6c\"/>\r\n     <use x=\"326.025391\" xlink:href=\"#DejaVuSans-61\"/>\r\n     <use x=\"387.304688\" xlink:href=\"#DejaVuSans-62\"/>\r\n     <use x=\"450.78125\" xlink:href=\"#DejaVuSans-65\"/>\r\n     <use x=\"512.304688\" xlink:href=\"#DejaVuSans-6c\"/>\r\n     <use x=\"540.087891\" xlink:href=\"#DejaVuSans-20\"/>\r\n     <use x=\"571.875\" xlink:href=\"#DejaVuSans-3d\"/>\r\n     <use x=\"655.664062\" xlink:href=\"#DejaVuSans-20\"/>\r\n     <use x=\"687.451172\" xlink:href=\"#DejaVuSans-4e\"/>\r\n     <use x=\"762.255859\" xlink:href=\"#DejaVuSans-65\"/>\r\n     <use x=\"823.779297\" xlink:href=\"#DejaVuSans-75\"/>\r\n     <use x=\"887.158203\" xlink:href=\"#DejaVuSans-74\"/>\r\n     <use x=\"926.367188\" xlink:href=\"#DejaVuSans-72\"/>\r\n     <use x=\"967.480469\" xlink:href=\"#DejaVuSans-61\"/>\r\n     <use x=\"1028.759766\" xlink:href=\"#DejaVuSans-6c\"/>\r\n     <use x=\"1056.542969\" xlink:href=\"#DejaVuSans-28\"/>\r\n     <use x=\"1095.556641\" xlink:href=\"#DejaVuSans-30\"/>\r\n     <use x=\"1159.179688\" xlink:href=\"#DejaVuSans-29\"/>\r\n    </g>\r\n   </g>\r\n  </g>\r\n  <g id=\"axes_4\">\r\n   <g id=\"patch_41\">\r\n    <path d=\"M 657.9875 169.292187 \r\nL 849.8 169.292187 \r\nL 849.8 20.798437 \r\nL 657.9875 20.798437 \r\nz\r\n\" style=\"fill:#ffffff;\"/>\r\n   </g>\r\n   <g id=\"patch_42\">\r\n    <path clip-path=\"url(#p24649b48da)\" d=\"M 666.70625 169.292187 \r\nL 682.158994 169.292187 \r\nL 682.158994 168.83281 \r\nL 666.70625 168.83281 \r\nz\r\n\" style=\"fill:#1f77b4;\"/>\r\n   </g>\r\n   <g id=\"patch_43\">\r\n    <path clip-path=\"url(#p24649b48da)\" d=\"M 682.158994 169.292187 \r\nL 697.611738 169.292187 \r\nL 697.611738 167.585929 \r\nL 682.158994 167.585929 \r\nz\r\n\" style=\"fill:#1f77b4;\"/>\r\n   </g>\r\n   <g id=\"patch_44\">\r\n    <path clip-path=\"url(#p24649b48da)\" d=\"M 697.611738 169.292187 \r\nL 713.064482 169.292187 \r\nL 713.064482 165.092165 \r\nL 697.611738 165.092165 \r\nz\r\n\" style=\"fill:#1f77b4;\"/>\r\n   </g>\r\n   <g id=\"patch_45\">\r\n    <path clip-path=\"url(#p24649b48da)\" d=\"M 713.064482 169.292187 \r\nL 728.517226 169.292187 \r\nL 728.517226 163.05778 \r\nL 713.064482 163.05778 \r\nz\r\n\" style=\"fill:#1f77b4;\"/>\r\n   </g>\r\n   <g id=\"patch_46\">\r\n    <path clip-path=\"url(#p24649b48da)\" d=\"M 728.517226 169.292187 \r\nL 743.96997 169.292187 \r\nL 743.96997 160.301515 \r\nL 728.517226 160.301515 \r\nz\r\n\" style=\"fill:#1f77b4;\"/>\r\n   </g>\r\n   <g id=\"patch_47\">\r\n    <path clip-path=\"url(#p24649b48da)\" d=\"M 743.96997 169.292187 \r\nL 759.422713 169.292187 \r\nL 759.422713 156.167118 \r\nL 743.96997 156.167118 \r\nz\r\n\" style=\"fill:#1f77b4;\"/>\r\n   </g>\r\n   <g id=\"patch_48\">\r\n    <path clip-path=\"url(#p24649b48da)\" d=\"M 759.422713 169.292187 \r\nL 774.875457 169.292187 \r\nL 774.875457 149.735835 \r\nL 759.422713 149.735835 \r\nz\r\n\" style=\"fill:#1f77b4;\"/>\r\n   </g>\r\n   <g id=\"patch_49\">\r\n    <path clip-path=\"url(#p24649b48da)\" d=\"M 774.875457 169.292187 \r\nL 790.328201 169.292187 \r\nL 790.328201 148.882705 \r\nL 774.875457 148.882705 \r\nz\r\n\" style=\"fill:#1f77b4;\"/>\r\n   </g>\r\n   <g id=\"patch_50\">\r\n    <path clip-path=\"url(#p24649b48da)\" d=\"M 790.328201 169.292187 \r\nL 805.780945 169.292187 \r\nL 805.780945 160.301515 \r\nL 790.328201 160.301515 \r\nz\r\n\" style=\"fill:#1f77b4;\"/>\r\n   </g>\r\n   <g id=\"patch_51\">\r\n    <path clip-path=\"url(#p24649b48da)\" d=\"M 805.780945 169.292187 \r\nL 821.233689 169.292187 \r\nL 821.233689 167.914055 \r\nL 805.780945 167.914055 \r\nz\r\n\" style=\"fill:#1f77b4;\"/>\r\n   </g>\r\n   <g id=\"matplotlib.axis_7\">\r\n    <g id=\"xtick_16\">\r\n     <g id=\"line2d_31\">\r\n      <g>\r\n       <use style=\"stroke:#000000;stroke-width:0.8;\" x=\"682.300762\" xlink:href=\"#m3fda6a4656\" y=\"169.292187\"/>\r\n      </g>\r\n     </g>\r\n     <g id=\"text_27\">\r\n      <!-- 25 -->\r\n      <g transform=\"translate(675.938262 183.890625)scale(0.1 -0.1)\">\r\n       <use xlink:href=\"#DejaVuSans-32\"/>\r\n       <use x=\"63.623047\" xlink:href=\"#DejaVuSans-35\"/>\r\n      </g>\r\n     </g>\r\n    </g>\r\n    <g id=\"xtick_17\">\r\n     <g id=\"line2d_32\">\r\n      <g>\r\n       <use style=\"stroke:#000000;stroke-width:0.8;\" x=\"717.742835\" xlink:href=\"#m3fda6a4656\" y=\"169.292187\"/>\r\n      </g>\r\n     </g>\r\n     <g id=\"text_28\">\r\n      <!-- 50 -->\r\n      <g transform=\"translate(711.380335 183.890625)scale(0.1 -0.1)\">\r\n       <use xlink:href=\"#DejaVuSans-35\"/>\r\n       <use x=\"63.623047\" xlink:href=\"#DejaVuSans-30\"/>\r\n      </g>\r\n     </g>\r\n    </g>\r\n    <g id=\"xtick_18\">\r\n     <g id=\"line2d_33\">\r\n      <g>\r\n       <use style=\"stroke:#000000;stroke-width:0.8;\" x=\"753.184909\" xlink:href=\"#m3fda6a4656\" y=\"169.292187\"/>\r\n      </g>\r\n     </g>\r\n     <g id=\"text_29\">\r\n      <!-- 75 -->\r\n      <g transform=\"translate(746.822409 183.890625)scale(0.1 -0.1)\">\r\n       <use xlink:href=\"#DejaVuSans-37\"/>\r\n       <use x=\"63.623047\" xlink:href=\"#DejaVuSans-35\"/>\r\n      </g>\r\n     </g>\r\n    </g>\r\n    <g id=\"xtick_19\">\r\n     <g id=\"line2d_34\">\r\n      <g>\r\n       <use style=\"stroke:#000000;stroke-width:0.8;\" x=\"788.626982\" xlink:href=\"#m3fda6a4656\" y=\"169.292187\"/>\r\n      </g>\r\n     </g>\r\n     <g id=\"text_30\">\r\n      <!-- 100 -->\r\n      <g transform=\"translate(779.083232 183.890625)scale(0.1 -0.1)\">\r\n       <use xlink:href=\"#DejaVuSans-31\"/>\r\n       <use x=\"63.623047\" xlink:href=\"#DejaVuSans-30\"/>\r\n       <use x=\"127.246094\" xlink:href=\"#DejaVuSans-30\"/>\r\n      </g>\r\n     </g>\r\n    </g>\r\n    <g id=\"xtick_20\">\r\n     <g id=\"line2d_35\">\r\n      <g>\r\n       <use style=\"stroke:#000000;stroke-width:0.8;\" x=\"824.069055\" xlink:href=\"#m3fda6a4656\" y=\"169.292187\"/>\r\n      </g>\r\n     </g>\r\n     <g id=\"text_31\">\r\n      <!-- 125 -->\r\n      <g transform=\"translate(814.525305 183.890625)scale(0.1 -0.1)\">\r\n       <use xlink:href=\"#DejaVuSans-31\"/>\r\n       <use x=\"63.623047\" xlink:href=\"#DejaVuSans-32\"/>\r\n       <use x=\"127.246094\" xlink:href=\"#DejaVuSans-35\"/>\r\n      </g>\r\n     </g>\r\n    </g>\r\n    <g id=\"text_32\">\r\n     <!-- length_tweet -->\r\n     <g transform=\"translate(721.29375 197.56875)scale(0.1 -0.1)\">\r\n      <use xlink:href=\"#DejaVuSans-6c\"/>\r\n      <use x=\"27.783203\" xlink:href=\"#DejaVuSans-65\"/>\r\n      <use x=\"89.306641\" xlink:href=\"#DejaVuSans-6e\"/>\r\n      <use x=\"152.685547\" xlink:href=\"#DejaVuSans-67\"/>\r\n      <use x=\"216.162109\" xlink:href=\"#DejaVuSans-74\"/>\r\n      <use x=\"255.371094\" xlink:href=\"#DejaVuSans-68\"/>\r\n      <use x=\"318.75\" xlink:href=\"#DejaVuSans-5f\"/>\r\n      <use x=\"368.75\" xlink:href=\"#DejaVuSans-74\"/>\r\n      <use x=\"407.958984\" xlink:href=\"#DejaVuSans-77\"/>\r\n      <use x=\"489.746094\" xlink:href=\"#DejaVuSans-65\"/>\r\n      <use x=\"551.269531\" xlink:href=\"#DejaVuSans-65\"/>\r\n      <use x=\"612.792969\" xlink:href=\"#DejaVuSans-74\"/>\r\n     </g>\r\n    </g>\r\n   </g>\r\n   <g id=\"matplotlib.axis_8\">\r\n    <g id=\"ytick_16\">\r\n     <g id=\"line2d_36\">\r\n      <g>\r\n       <use style=\"stroke:#000000;stroke-width:0.8;\" x=\"657.9875\" xlink:href=\"#me28be135aa\" y=\"169.292187\"/>\r\n      </g>\r\n     </g>\r\n    </g>\r\n    <g id=\"ytick_17\">\r\n     <g id=\"line2d_37\">\r\n      <g>\r\n       <use style=\"stroke:#000000;stroke-width:0.8;\" x=\"657.9875\" xlink:href=\"#me28be135aa\" y=\"136.479515\"/>\r\n      </g>\r\n     </g>\r\n    </g>\r\n    <g id=\"ytick_18\">\r\n     <g id=\"line2d_38\">\r\n      <g>\r\n       <use style=\"stroke:#000000;stroke-width:0.8;\" x=\"657.9875\" xlink:href=\"#me28be135aa\" y=\"103.666842\"/>\r\n      </g>\r\n     </g>\r\n    </g>\r\n    <g id=\"ytick_19\">\r\n     <g id=\"line2d_39\">\r\n      <g>\r\n       <use style=\"stroke:#000000;stroke-width:0.8;\" x=\"657.9875\" xlink:href=\"#me28be135aa\" y=\"70.85417\"/>\r\n      </g>\r\n     </g>\r\n    </g>\r\n    <g id=\"ytick_20\">\r\n     <g id=\"line2d_40\">\r\n      <g>\r\n       <use style=\"stroke:#000000;stroke-width:0.8;\" x=\"657.9875\" xlink:href=\"#me28be135aa\" y=\"38.041497\"/>\r\n      </g>\r\n     </g>\r\n    </g>\r\n   </g>\r\n   <g id=\"patch_52\">\r\n    <path d=\"M 657.9875 169.292187 \r\nL 657.9875 20.798437 \r\n\" style=\"fill:none;stroke:#000000;stroke-linecap:square;stroke-linejoin:miter;stroke-width:0.8;\"/>\r\n   </g>\r\n   <g id=\"patch_53\">\r\n    <path d=\"M 657.9875 169.292187 \r\nL 849.8 169.292187 \r\n\" style=\"fill:none;stroke:#000000;stroke-linecap:square;stroke-linejoin:miter;stroke-width:0.8;\"/>\r\n   </g>\r\n   <g id=\"text_33\">\r\n    <!-- class_label = Negative(-1) -->\r\n    <g transform=\"translate(688.19375 14.798437)scale(0.1 -0.1)\">\r\n     <defs>\r\n      <path d=\"M 313 2009 \r\nL 1997 2009 \r\nL 1997 1497 \r\nL 313 1497 \r\nL 313 2009 \r\nz\r\n\" id=\"DejaVuSans-2d\" transform=\"scale(0.015625)\"/>\r\n     </defs>\r\n     <use xlink:href=\"#DejaVuSans-63\"/>\r\n     <use x=\"54.980469\" xlink:href=\"#DejaVuSans-6c\"/>\r\n     <use x=\"82.763672\" xlink:href=\"#DejaVuSans-61\"/>\r\n     <use x=\"144.042969\" xlink:href=\"#DejaVuSans-73\"/>\r\n     <use x=\"196.142578\" xlink:href=\"#DejaVuSans-73\"/>\r\n     <use x=\"248.242188\" xlink:href=\"#DejaVuSans-5f\"/>\r\n     <use x=\"298.242188\" xlink:href=\"#DejaVuSans-6c\"/>\r\n     <use x=\"326.025391\" xlink:href=\"#DejaVuSans-61\"/>\r\n     <use x=\"387.304688\" xlink:href=\"#DejaVuSans-62\"/>\r\n     <use x=\"450.78125\" xlink:href=\"#DejaVuSans-65\"/>\r\n     <use x=\"512.304688\" xlink:href=\"#DejaVuSans-6c\"/>\r\n     <use x=\"540.087891\" xlink:href=\"#DejaVuSans-20\"/>\r\n     <use x=\"571.875\" xlink:href=\"#DejaVuSans-3d\"/>\r\n     <use x=\"655.664062\" xlink:href=\"#DejaVuSans-20\"/>\r\n     <use x=\"687.451172\" xlink:href=\"#DejaVuSans-4e\"/>\r\n     <use x=\"762.255859\" xlink:href=\"#DejaVuSans-65\"/>\r\n     <use x=\"823.779297\" xlink:href=\"#DejaVuSans-67\"/>\r\n     <use x=\"887.255859\" xlink:href=\"#DejaVuSans-61\"/>\r\n     <use x=\"948.535156\" xlink:href=\"#DejaVuSans-74\"/>\r\n     <use x=\"987.744141\" xlink:href=\"#DejaVuSans-69\"/>\r\n     <use x=\"1015.527344\" xlink:href=\"#DejaVuSans-76\"/>\r\n     <use x=\"1074.707031\" xlink:href=\"#DejaVuSans-65\"/>\r\n     <use x=\"1136.230469\" xlink:href=\"#DejaVuSans-28\"/>\r\n     <use x=\"1175.244141\" xlink:href=\"#DejaVuSans-2d\"/>\r\n     <use x=\"1211.328125\" xlink:href=\"#DejaVuSans-31\"/>\r\n     <use x=\"1274.951172\" xlink:href=\"#DejaVuSans-29\"/>\r\n    </g>\r\n   </g>\r\n  </g>\r\n </g>\r\n <defs>\r\n  <clipPath id=\"p71096b19e9\">\r\n   <rect height=\"148.49375\" width=\"191.8125\" x=\"39.65\" y=\"20.798437\"/>\r\n  </clipPath>\r\n  <clipPath id=\"pf94dbe41ae\">\r\n   <rect height=\"148.49375\" width=\"191.8125\" x=\"245.7625\" y=\"20.798437\"/>\r\n  </clipPath>\r\n  <clipPath id=\"pf2bc5040bb\">\r\n   <rect height=\"148.49375\" width=\"191.8125\" x=\"451.875\" y=\"20.798437\"/>\r\n  </clipPath>\r\n  <clipPath id=\"p24649b48da\">\r\n   <rect height=\"148.49375\" width=\"191.8125\" x=\"657.9875\" y=\"20.798437\"/>\r\n  </clipPath>\r\n </defs>\r\n</svg>\r\n",
      "image/png": "[encoded data removed]"
     },
     "metadata": {
      "needs_background": "light"
     }
    }
   ],
   "metadata": {
    "scrolled": true
   }
  },
  {
   "cell_type": "code",
   "execution_count": 30,
   "source": [
    "#Box plot visual of distribution between length of tweet vs class label\n",
    "plt.figure(figsize=(10, 6))\n",
    "sns.boxplot(x=df['class_label'],\n",
    "            y=df.clean_message.str.split().apply(len),\n",
    "            data=df,\n",
    "            palette=\"Blues\")\n",
    "\n",
    "plt.title('No of Words per Tweet by Sentiment Class')\n",
    "plt.xlabel('Sentiment Class')\n",
    "plt.ylabel('Word Count per Tweet');\n",
    "\n"
   ],
   "outputs": [
    {
     "output_type": "display_data",
     "data": {
      "text/plain": "<Figure size 720x432 with 1 Axes>",
      "image/svg+xml": "<?xml version=\"1.0\" encoding=\"utf-8\" standalone=\"no\"?>\r\n<!DOCTYPE svg PUBLIC \"-//W3C//DTD SVG 1.1//EN\"\r\n  \"http://www.w3.org/Graphics/SVG/1.1/DTD/svg11.dtd\">\r\n<svg height=\"386.034375pt\" version=\"1.1\" viewBox=\"0 0 605.803125 386.034375\" width=\"605.803125pt\" xmlns=\"http://www.w3.org/2000/svg\" xmlns:xlink=\"http://www.w3.org/1999/xlink\">\r\n <metadata>\r\n  <rdf:RDF xmlns:cc=\"http://creativecommons.org/ns#\" xmlns:dc=\"http://purl.org/dc/elements/1.1/\" xmlns:rdf=\"http://www.w3.org/1999/02/22-rdf-syntax-ns#\">\r\n   <cc:Work>\r\n    <dc:type rdf:resource=\"http://purl.org/dc/dcmitype/StillImage\"/>\r\n    <dc:date>2021-06-24T03:27:08.769376</dc:date>\r\n    <dc:format>image/svg+xml</dc:format>\r\n    <dc:creator>\r\n     <cc:Agent>\r\n      <dc:title>Matplotlib v3.4.2, https://matplotlib.org/</dc:title>\r\n     </cc:Agent>\r\n    </dc:creator>\r\n   </cc:Work>\r\n  </rdf:RDF>\r\n </metadata>\r\n <defs>\r\n  <style type=\"text/css\">*{stroke-linecap:butt;stroke-linejoin:round;}</style>\r\n </defs>\r\n <g id=\"figure_1\">\r\n  <g id=\"patch_1\">\r\n   <path d=\"M 0 386.034375 \r\nL 605.803125 386.034375 \r\nL 605.803125 0 \r\nL 0 0 \r\nz\r\n\" style=\"fill:none;\"/>\r\n  </g>\r\n  <g id=\"axes_1\">\r\n   <g id=\"patch_2\">\r\n    <path d=\"M 40.603125 348.478125 \r\nL 598.603125 348.478125 \r\nL 598.603125 22.318125 \r\nL 40.603125 22.318125 \r\nz\r\n\" style=\"fill:#ffffff;\"/>\r\n   </g>\r\n   <g id=\"patch_3\">\r\n    <path clip-path=\"url(#p7fcd73162d)\" d=\"M 54.553125 234.816307 \r\nL 166.153125 234.816307 \r\nL 166.153125 178.338385 \r\nL 54.553125 178.338385 \r\nL 54.553125 234.816307 \r\nz\r\n\" style=\"fill:#d4e1ee;stroke:#3a3a3a;stroke-linejoin:miter;stroke-width:1.5;\"/>\r\n   </g>\r\n   <g id=\"patch_4\">\r\n    <path clip-path=\"url(#p7fcd73162d)\" d=\"M 194.053125 248.935787 \r\nL 305.653125 248.935787 \r\nL 305.653125 206.577346 \r\nL 194.053125 206.577346 \r\nL 194.053125 248.935787 \r\nz\r\n\" style=\"fill:#9dc2d5;stroke:#3a3a3a;stroke-linejoin:miter;stroke-width:1.5;\"/>\r\n   </g>\r\n   <g id=\"patch_5\">\r\n    <path clip-path=\"url(#p7fcd73162d)\" d=\"M 333.553125 263.055268 \r\nL 445.153125 263.055268 \r\nL 445.153125 192.457865 \r\nL 333.553125 192.457865 \r\nL 333.553125 263.055268 \r\nz\r\n\" style=\"fill:#5a94b9;stroke:#3a3a3a;stroke-linejoin:miter;stroke-width:1.5;\"/>\r\n   </g>\r\n   <g id=\"patch_6\">\r\n    <path clip-path=\"url(#p7fcd73162d)\" d=\"M 473.053125 234.816307 \r\nL 584.653125 234.816307 \r\nL 584.653125 178.338385 \r\nL 473.053125 178.338385 \r\nL 473.053125 234.816307 \r\nz\r\n\" style=\"fill:#296399;stroke:#3a3a3a;stroke-linejoin:miter;stroke-width:1.5;\"/>\r\n   </g>\r\n   <g id=\"matplotlib.axis_1\">\r\n    <g id=\"xtick_1\">\r\n     <g id=\"line2d_1\">\r\n      <defs>\r\n       <path d=\"M 0 0 \r\nL 0 3.5 \r\n\" id=\"mf34f4e3eaf\" style=\"stroke:#000000;stroke-width:0.8;\"/>\r\n      </defs>\r\n      <g>\r\n       <use style=\"stroke:#000000;stroke-width:0.8;\" x=\"110.353125\" xlink:href=\"#mf34f4e3eaf\" y=\"348.478125\"/>\r\n      </g>\r\n     </g>\r\n     <g id=\"text_1\">\r\n      <!-- Positive(1) -->\r\n      <g transform=\"translate(83.998438 363.076562)scale(0.1 -0.1)\">\r\n       <defs>\r\n        <path d=\"M 1259 4147 \r\nL 1259 2394 \r\nL 2053 2394 \r\nQ 2494 2394 2734 2622 \r\nQ 2975 2850 2975 3272 \r\nQ 2975 3691 2734 3919 \r\nQ 2494 4147 2053 4147 \r\nL 1259 4147 \r\nz\r\nM 628 4666 \r\nL 2053 4666 \r\nQ 2838 4666 3239 4311 \r\nQ 3641 3956 3641 3272 \r\nQ 3641 2581 3239 2228 \r\nQ 2838 1875 2053 1875 \r\nL 1259 1875 \r\nL 1259 0 \r\nL 628 0 \r\nL 628 4666 \r\nz\r\n\" id=\"DejaVuSans-50\" transform=\"scale(0.015625)\"/>\r\n        <path d=\"M 1959 3097 \r\nQ 1497 3097 1228 2736 \r\nQ 959 2375 959 1747 \r\nQ 959 1119 1226 758 \r\nQ 1494 397 1959 397 \r\nQ 2419 397 2687 759 \r\nQ 2956 1122 2956 1747 \r\nQ 2956 2369 2687 2733 \r\nQ 2419 3097 1959 3097 \r\nz\r\nM 1959 3584 \r\nQ 2709 3584 3137 3096 \r\nQ 3566 2609 3566 1747 \r\nQ 3566 888 3137 398 \r\nQ 2709 -91 1959 -91 \r\nQ 1206 -91 779 398 \r\nQ 353 888 353 1747 \r\nQ 353 2609 779 3096 \r\nQ 1206 3584 1959 3584 \r\nz\r\n\" id=\"DejaVuSans-6f\" transform=\"scale(0.015625)\"/>\r\n        <path d=\"M 2834 3397 \r\nL 2834 2853 \r\nQ 2591 2978 2328 3040 \r\nQ 2066 3103 1784 3103 \r\nQ 1356 3103 1142 2972 \r\nQ 928 2841 928 2578 \r\nQ 928 2378 1081 2264 \r\nQ 1234 2150 1697 2047 \r\nL 1894 2003 \r\nQ 2506 1872 2764 1633 \r\nQ 3022 1394 3022 966 \r\nQ 3022 478 2636 193 \r\nQ 2250 -91 1575 -91 \r\nQ 1294 -91 989 -36 \r\nQ 684 19 347 128 \r\nL 347 722 \r\nQ 666 556 975 473 \r\nQ 1284 391 1588 391 \r\nQ 1994 391 2212 530 \r\nQ 2431 669 2431 922 \r\nQ 2431 1156 2273 1281 \r\nQ 2116 1406 1581 1522 \r\nL 1381 1569 \r\nQ 847 1681 609 1914 \r\nQ 372 2147 372 2553 \r\nQ 372 3047 722 3315 \r\nQ 1072 3584 1716 3584 \r\nQ 2034 3584 2315 3537 \r\nQ 2597 3491 2834 3397 \r\nz\r\n\" id=\"DejaVuSans-73\" transform=\"scale(0.015625)\"/>\r\n        <path d=\"M 603 3500 \r\nL 1178 3500 \r\nL 1178 0 \r\nL 603 0 \r\nL 603 3500 \r\nz\r\nM 603 4863 \r\nL 1178 4863 \r\nL 1178 4134 \r\nL 603 4134 \r\nL 603 4863 \r\nz\r\n\" id=\"DejaVuSans-69\" transform=\"scale(0.015625)\"/>\r\n        <path d=\"M 1172 4494 \r\nL 1172 3500 \r\nL 2356 3500 \r\nL 2356 3053 \r\nL 1172 3053 \r\nL 1172 1153 \r\nQ 1172 725 1289 603 \r\nQ 1406 481 1766 481 \r\nL 2356 481 \r\nL 2356 0 \r\nL 1766 0 \r\nQ 1100 0 847 248 \r\nQ 594 497 594 1153 \r\nL 594 3053 \r\nL 172 3053 \r\nL 172 3500 \r\nL 594 3500 \r\nL 594 4494 \r\nL 1172 4494 \r\nz\r\n\" id=\"DejaVuSans-74\" transform=\"scale(0.015625)\"/>\r\n        <path d=\"M 191 3500 \r\nL 800 3500 \r\nL 1894 563 \r\nL 2988 3500 \r\nL 3597 3500 \r\nL 2284 0 \r\nL 1503 0 \r\nL 191 3500 \r\nz\r\n\" id=\"DejaVuSans-76\" transform=\"scale(0.015625)\"/>\r\n        <path d=\"M 3597 1894 \r\nL 3597 1613 \r\nL 953 1613 \r\nQ 991 1019 1311 708 \r\nQ 1631 397 2203 397 \r\nQ 2534 397 2845 478 \r\nQ 3156 559 3463 722 \r\nL 3463 178 \r\nQ 3153 47 2828 -22 \r\nQ 2503 -91 2169 -91 \r\nQ 1331 -91 842 396 \r\nQ 353 884 353 1716 \r\nQ 353 2575 817 3079 \r\nQ 1281 3584 2069 3584 \r\nQ 2775 3584 3186 3129 \r\nQ 3597 2675 3597 1894 \r\nz\r\nM 3022 2063 \r\nQ 3016 2534 2758 2815 \r\nQ 2500 3097 2075 3097 \r\nQ 1594 3097 1305 2825 \r\nQ 1016 2553 972 2059 \r\nL 3022 2063 \r\nz\r\n\" id=\"DejaVuSans-65\" transform=\"scale(0.015625)\"/>\r\n        <path d=\"M 1984 4856 \r\nQ 1566 4138 1362 3434 \r\nQ 1159 2731 1159 2009 \r\nQ 1159 1288 1364 580 \r\nQ 1569 -128 1984 -844 \r\nL 1484 -844 \r\nQ 1016 -109 783 600 \r\nQ 550 1309 550 2009 \r\nQ 550 2706 781 3412 \r\nQ 1013 4119 1484 4856 \r\nL 1984 4856 \r\nz\r\n\" id=\"DejaVuSans-28\" transform=\"scale(0.015625)\"/>\r\n        <path d=\"M 794 531 \r\nL 1825 531 \r\nL 1825 4091 \r\nL 703 3866 \r\nL 703 4441 \r\nL 1819 4666 \r\nL 2450 4666 \r\nL 2450 531 \r\nL 3481 531 \r\nL 3481 0 \r\nL 794 0 \r\nL 794 531 \r\nz\r\n\" id=\"DejaVuSans-31\" transform=\"scale(0.015625)\"/>\r\n        <path d=\"M 513 4856 \r\nL 1013 4856 \r\nQ 1481 4119 1714 3412 \r\nQ 1947 2706 1947 2009 \r\nQ 1947 1309 1714 600 \r\nQ 1481 -109 1013 -844 \r\nL 513 -844 \r\nQ 928 -128 1133 580 \r\nQ 1338 1288 1338 2009 \r\nQ 1338 2731 1133 3434 \r\nQ 928 4138 513 4856 \r\nz\r\n\" id=\"DejaVuSans-29\" transform=\"scale(0.015625)\"/>\r\n       </defs>\r\n       <use xlink:href=\"#DejaVuSans-50\"/>\r\n       <use x=\"56.677734\" xlink:href=\"#DejaVuSans-6f\"/>\r\n       <use x=\"117.859375\" xlink:href=\"#DejaVuSans-73\"/>\r\n       <use x=\"169.958984\" xlink:href=\"#DejaVuSans-69\"/>\r\n       <use x=\"197.742188\" xlink:href=\"#DejaVuSans-74\"/>\r\n       <use x=\"236.951172\" xlink:href=\"#DejaVuSans-69\"/>\r\n       <use x=\"264.734375\" xlink:href=\"#DejaVuSans-76\"/>\r\n       <use x=\"323.914062\" xlink:href=\"#DejaVuSans-65\"/>\r\n       <use x=\"385.4375\" xlink:href=\"#DejaVuSans-28\"/>\r\n       <use x=\"424.451172\" xlink:href=\"#DejaVuSans-31\"/>\r\n       <use x=\"488.074219\" xlink:href=\"#DejaVuSans-29\"/>\r\n      </g>\r\n     </g>\r\n    </g>\r\n    <g id=\"xtick_2\">\r\n     <g id=\"line2d_2\">\r\n      <g>\r\n       <use style=\"stroke:#000000;stroke-width:0.8;\" x=\"249.853125\" xlink:href=\"#mf34f4e3eaf\" y=\"348.478125\"/>\r\n      </g>\r\n     </g>\r\n     <g id=\"text_2\">\r\n      <!-- News(2) -->\r\n      <g transform=\"translate(229.259375 363.076562)scale(0.1 -0.1)\">\r\n       <defs>\r\n        <path d=\"M 628 4666 \r\nL 1478 4666 \r\nL 3547 763 \r\nL 3547 4666 \r\nL 4159 4666 \r\nL 4159 0 \r\nL 3309 0 \r\nL 1241 3903 \r\nL 1241 0 \r\nL 628 0 \r\nL 628 4666 \r\nz\r\n\" id=\"DejaVuSans-4e\" transform=\"scale(0.015625)\"/>\r\n        <path d=\"M 269 3500 \r\nL 844 3500 \r\nL 1563 769 \r\nL 2278 3500 \r\nL 2956 3500 \r\nL 3675 769 \r\nL 4391 3500 \r\nL 4966 3500 \r\nL 4050 0 \r\nL 3372 0 \r\nL 2619 2869 \r\nL 1863 0 \r\nL 1184 0 \r\nL 269 3500 \r\nz\r\n\" id=\"DejaVuSans-77\" transform=\"scale(0.015625)\"/>\r\n        <path d=\"M 1228 531 \r\nL 3431 531 \r\nL 3431 0 \r\nL 469 0 \r\nL 469 531 \r\nQ 828 903 1448 1529 \r\nQ 2069 2156 2228 2338 \r\nQ 2531 2678 2651 2914 \r\nQ 2772 3150 2772 3378 \r\nQ 2772 3750 2511 3984 \r\nQ 2250 4219 1831 4219 \r\nQ 1534 4219 1204 4116 \r\nQ 875 4013 500 3803 \r\nL 500 4441 \r\nQ 881 4594 1212 4672 \r\nQ 1544 4750 1819 4750 \r\nQ 2544 4750 2975 4387 \r\nQ 3406 4025 3406 3419 \r\nQ 3406 3131 3298 2873 \r\nQ 3191 2616 2906 2266 \r\nQ 2828 2175 2409 1742 \r\nQ 1991 1309 1228 531 \r\nz\r\n\" id=\"DejaVuSans-32\" transform=\"scale(0.015625)\"/>\r\n       </defs>\r\n       <use xlink:href=\"#DejaVuSans-4e\"/>\r\n       <use x=\"74.804688\" xlink:href=\"#DejaVuSans-65\"/>\r\n       <use x=\"136.328125\" xlink:href=\"#DejaVuSans-77\"/>\r\n       <use x=\"218.115234\" xlink:href=\"#DejaVuSans-73\"/>\r\n       <use x=\"270.214844\" xlink:href=\"#DejaVuSans-28\"/>\r\n       <use x=\"309.228516\" xlink:href=\"#DejaVuSans-32\"/>\r\n       <use x=\"372.851562\" xlink:href=\"#DejaVuSans-29\"/>\r\n      </g>\r\n     </g>\r\n    </g>\r\n    <g id=\"xtick_3\">\r\n     <g id=\"line2d_3\">\r\n      <g>\r\n       <use style=\"stroke:#000000;stroke-width:0.8;\" x=\"389.353125\" xlink:href=\"#mf34f4e3eaf\" y=\"348.478125\"/>\r\n      </g>\r\n     </g>\r\n     <g id=\"text_3\">\r\n      <!-- Neutral(0) -->\r\n      <g transform=\"translate(363.815625 363.076562)scale(0.1 -0.1)\">\r\n       <defs>\r\n        <path d=\"M 544 1381 \r\nL 544 3500 \r\nL 1119 3500 \r\nL 1119 1403 \r\nQ 1119 906 1312 657 \r\nQ 1506 409 1894 409 \r\nQ 2359 409 2629 706 \r\nQ 2900 1003 2900 1516 \r\nL 2900 3500 \r\nL 3475 3500 \r\nL 3475 0 \r\nL 2900 0 \r\nL 2900 538 \r\nQ 2691 219 2414 64 \r\nQ 2138 -91 1772 -91 \r\nQ 1169 -91 856 284 \r\nQ 544 659 544 1381 \r\nz\r\nM 1991 3584 \r\nL 1991 3584 \r\nz\r\n\" id=\"DejaVuSans-75\" transform=\"scale(0.015625)\"/>\r\n        <path d=\"M 2631 2963 \r\nQ 2534 3019 2420 3045 \r\nQ 2306 3072 2169 3072 \r\nQ 1681 3072 1420 2755 \r\nQ 1159 2438 1159 1844 \r\nL 1159 0 \r\nL 581 0 \r\nL 581 3500 \r\nL 1159 3500 \r\nL 1159 2956 \r\nQ 1341 3275 1631 3429 \r\nQ 1922 3584 2338 3584 \r\nQ 2397 3584 2469 3576 \r\nQ 2541 3569 2628 3553 \r\nL 2631 2963 \r\nz\r\n\" id=\"DejaVuSans-72\" transform=\"scale(0.015625)\"/>\r\n        <path d=\"M 2194 1759 \r\nQ 1497 1759 1228 1600 \r\nQ 959 1441 959 1056 \r\nQ 959 750 1161 570 \r\nQ 1363 391 1709 391 \r\nQ 2188 391 2477 730 \r\nQ 2766 1069 2766 1631 \r\nL 2766 1759 \r\nL 2194 1759 \r\nz\r\nM 3341 1997 \r\nL 3341 0 \r\nL 2766 0 \r\nL 2766 531 \r\nQ 2569 213 2275 61 \r\nQ 1981 -91 1556 -91 \r\nQ 1019 -91 701 211 \r\nQ 384 513 384 1019 \r\nQ 384 1609 779 1909 \r\nQ 1175 2209 1959 2209 \r\nL 2766 2209 \r\nL 2766 2266 \r\nQ 2766 2663 2505 2880 \r\nQ 2244 3097 1772 3097 \r\nQ 1472 3097 1187 3025 \r\nQ 903 2953 641 2809 \r\nL 641 3341 \r\nQ 956 3463 1253 3523 \r\nQ 1550 3584 1831 3584 \r\nQ 2591 3584 2966 3190 \r\nQ 3341 2797 3341 1997 \r\nz\r\n\" id=\"DejaVuSans-61\" transform=\"scale(0.015625)\"/>\r\n        <path d=\"M 603 4863 \r\nL 1178 4863 \r\nL 1178 0 \r\nL 603 0 \r\nL 603 4863 \r\nz\r\n\" id=\"DejaVuSans-6c\" transform=\"scale(0.015625)\"/>\r\n        <path d=\"M 2034 4250 \r\nQ 1547 4250 1301 3770 \r\nQ 1056 3291 1056 2328 \r\nQ 1056 1369 1301 889 \r\nQ 1547 409 2034 409 \r\nQ 2525 409 2770 889 \r\nQ 3016 1369 3016 2328 \r\nQ 3016 3291 2770 3770 \r\nQ 2525 4250 2034 4250 \r\nz\r\nM 2034 4750 \r\nQ 2819 4750 3233 4129 \r\nQ 3647 3509 3647 2328 \r\nQ 3647 1150 3233 529 \r\nQ 2819 -91 2034 -91 \r\nQ 1250 -91 836 529 \r\nQ 422 1150 422 2328 \r\nQ 422 3509 836 4129 \r\nQ 1250 4750 2034 4750 \r\nz\r\n\" id=\"DejaVuSans-30\" transform=\"scale(0.015625)\"/>\r\n       </defs>\r\n       <use xlink:href=\"#DejaVuSans-4e\"/>\r\n       <use x=\"74.804688\" xlink:href=\"#DejaVuSans-65\"/>\r\n       <use x=\"136.328125\" xlink:href=\"#DejaVuSans-75\"/>\r\n       <use x=\"199.707031\" xlink:href=\"#DejaVuSans-74\"/>\r\n       <use x=\"238.916016\" xlink:href=\"#DejaVuSans-72\"/>\r\n       <use x=\"280.029297\" xlink:href=\"#DejaVuSans-61\"/>\r\n       <use x=\"341.308594\" xlink:href=\"#DejaVuSans-6c\"/>\r\n       <use x=\"369.091797\" xlink:href=\"#DejaVuSans-28\"/>\r\n       <use x=\"408.105469\" xlink:href=\"#DejaVuSans-30\"/>\r\n       <use x=\"471.728516\" xlink:href=\"#DejaVuSans-29\"/>\r\n      </g>\r\n     </g>\r\n    </g>\r\n    <g id=\"xtick_4\">\r\n     <g id=\"line2d_4\">\r\n      <g>\r\n       <use style=\"stroke:#000000;stroke-width:0.8;\" x=\"528.853125\" xlink:href=\"#mf34f4e3eaf\" y=\"348.478125\"/>\r\n      </g>\r\n     </g>\r\n     <g id=\"text_4\">\r\n      <!-- Negative(-1) -->\r\n      <g transform=\"translate(497.525781 363.076562)scale(0.1 -0.1)\">\r\n       <defs>\r\n        <path d=\"M 2906 1791 \r\nQ 2906 2416 2648 2759 \r\nQ 2391 3103 1925 3103 \r\nQ 1463 3103 1205 2759 \r\nQ 947 2416 947 1791 \r\nQ 947 1169 1205 825 \r\nQ 1463 481 1925 481 \r\nQ 2391 481 2648 825 \r\nQ 2906 1169 2906 1791 \r\nz\r\nM 3481 434 \r\nQ 3481 -459 3084 -895 \r\nQ 2688 -1331 1869 -1331 \r\nQ 1566 -1331 1297 -1286 \r\nQ 1028 -1241 775 -1147 \r\nL 775 -588 \r\nQ 1028 -725 1275 -790 \r\nQ 1522 -856 1778 -856 \r\nQ 2344 -856 2625 -561 \r\nQ 2906 -266 2906 331 \r\nL 2906 616 \r\nQ 2728 306 2450 153 \r\nQ 2172 0 1784 0 \r\nQ 1141 0 747 490 \r\nQ 353 981 353 1791 \r\nQ 353 2603 747 3093 \r\nQ 1141 3584 1784 3584 \r\nQ 2172 3584 2450 3431 \r\nQ 2728 3278 2906 2969 \r\nL 2906 3500 \r\nL 3481 3500 \r\nL 3481 434 \r\nz\r\n\" id=\"DejaVuSans-67\" transform=\"scale(0.015625)\"/>\r\n        <path d=\"M 313 2009 \r\nL 1997 2009 \r\nL 1997 1497 \r\nL 313 1497 \r\nL 313 2009 \r\nz\r\n\" id=\"DejaVuSans-2d\" transform=\"scale(0.015625)\"/>\r\n       </defs>\r\n       <use xlink:href=\"#DejaVuSans-4e\"/>\r\n       <use x=\"74.804688\" xlink:href=\"#DejaVuSans-65\"/>\r\n       <use x=\"136.328125\" xlink:href=\"#DejaVuSans-67\"/>\r\n       <use x=\"199.804688\" xlink:href=\"#DejaVuSans-61\"/>\r\n       <use x=\"261.083984\" xlink:href=\"#DejaVuSans-74\"/>\r\n       <use x=\"300.292969\" xlink:href=\"#DejaVuSans-69\"/>\r\n       <use x=\"328.076172\" xlink:href=\"#DejaVuSans-76\"/>\r\n       <use x=\"387.255859\" xlink:href=\"#DejaVuSans-65\"/>\r\n       <use x=\"448.779297\" xlink:href=\"#DejaVuSans-28\"/>\r\n       <use x=\"487.792969\" xlink:href=\"#DejaVuSans-2d\"/>\r\n       <use x=\"523.876953\" xlink:href=\"#DejaVuSans-31\"/>\r\n       <use x=\"587.5\" xlink:href=\"#DejaVuSans-29\"/>\r\n      </g>\r\n     </g>\r\n    </g>\r\n    <g id=\"text_5\">\r\n     <!-- Sentiment Class -->\r\n     <g transform=\"translate(279.015625 376.754687)scale(0.1 -0.1)\">\r\n      <defs>\r\n       <path d=\"M 3425 4513 \r\nL 3425 3897 \r\nQ 3066 4069 2747 4153 \r\nQ 2428 4238 2131 4238 \r\nQ 1616 4238 1336 4038 \r\nQ 1056 3838 1056 3469 \r\nQ 1056 3159 1242 3001 \r\nQ 1428 2844 1947 2747 \r\nL 2328 2669 \r\nQ 3034 2534 3370 2195 \r\nQ 3706 1856 3706 1288 \r\nQ 3706 609 3251 259 \r\nQ 2797 -91 1919 -91 \r\nQ 1588 -91 1214 -16 \r\nQ 841 59 441 206 \r\nL 441 856 \r\nQ 825 641 1194 531 \r\nQ 1563 422 1919 422 \r\nQ 2459 422 2753 634 \r\nQ 3047 847 3047 1241 \r\nQ 3047 1584 2836 1778 \r\nQ 2625 1972 2144 2069 \r\nL 1759 2144 \r\nQ 1053 2284 737 2584 \r\nQ 422 2884 422 3419 \r\nQ 422 4038 858 4394 \r\nQ 1294 4750 2059 4750 \r\nQ 2388 4750 2728 4690 \r\nQ 3069 4631 3425 4513 \r\nz\r\n\" id=\"DejaVuSans-53\" transform=\"scale(0.015625)\"/>\r\n       <path d=\"M 3513 2113 \r\nL 3513 0 \r\nL 2938 0 \r\nL 2938 2094 \r\nQ 2938 2591 2744 2837 \r\nQ 2550 3084 2163 3084 \r\nQ 1697 3084 1428 2787 \r\nQ 1159 2491 1159 1978 \r\nL 1159 0 \r\nL 581 0 \r\nL 581 3500 \r\nL 1159 3500 \r\nL 1159 2956 \r\nQ 1366 3272 1645 3428 \r\nQ 1925 3584 2291 3584 \r\nQ 2894 3584 3203 3211 \r\nQ 3513 2838 3513 2113 \r\nz\r\n\" id=\"DejaVuSans-6e\" transform=\"scale(0.015625)\"/>\r\n       <path d=\"M 3328 2828 \r\nQ 3544 3216 3844 3400 \r\nQ 4144 3584 4550 3584 \r\nQ 5097 3584 5394 3201 \r\nQ 5691 2819 5691 2113 \r\nL 5691 0 \r\nL 5113 0 \r\nL 5113 2094 \r\nQ 5113 2597 4934 2840 \r\nQ 4756 3084 4391 3084 \r\nQ 3944 3084 3684 2787 \r\nQ 3425 2491 3425 1978 \r\nL 3425 0 \r\nL 2847 0 \r\nL 2847 2094 \r\nQ 2847 2600 2669 2842 \r\nQ 2491 3084 2119 3084 \r\nQ 1678 3084 1418 2786 \r\nQ 1159 2488 1159 1978 \r\nL 1159 0 \r\nL 581 0 \r\nL 581 3500 \r\nL 1159 3500 \r\nL 1159 2956 \r\nQ 1356 3278 1631 3431 \r\nQ 1906 3584 2284 3584 \r\nQ 2666 3584 2933 3390 \r\nQ 3200 3197 3328 2828 \r\nz\r\n\" id=\"DejaVuSans-6d\" transform=\"scale(0.015625)\"/>\r\n       <path id=\"DejaVuSans-20\" transform=\"scale(0.015625)\"/>\r\n       <path d=\"M 4122 4306 \r\nL 4122 3641 \r\nQ 3803 3938 3442 4084 \r\nQ 3081 4231 2675 4231 \r\nQ 1875 4231 1450 3742 \r\nQ 1025 3253 1025 2328 \r\nQ 1025 1406 1450 917 \r\nQ 1875 428 2675 428 \r\nQ 3081 428 3442 575 \r\nQ 3803 722 4122 1019 \r\nL 4122 359 \r\nQ 3791 134 3420 21 \r\nQ 3050 -91 2638 -91 \r\nQ 1578 -91 968 557 \r\nQ 359 1206 359 2328 \r\nQ 359 3453 968 4101 \r\nQ 1578 4750 2638 4750 \r\nQ 3056 4750 3426 4639 \r\nQ 3797 4528 4122 4306 \r\nz\r\n\" id=\"DejaVuSans-43\" transform=\"scale(0.015625)\"/>\r\n      </defs>\r\n      <use xlink:href=\"#DejaVuSans-53\"/>\r\n      <use x=\"63.476562\" xlink:href=\"#DejaVuSans-65\"/>\r\n      <use x=\"125\" xlink:href=\"#DejaVuSans-6e\"/>\r\n      <use x=\"188.378906\" xlink:href=\"#DejaVuSans-74\"/>\r\n      <use x=\"227.587891\" xlink:href=\"#DejaVuSans-69\"/>\r\n      <use x=\"255.371094\" xlink:href=\"#DejaVuSans-6d\"/>\r\n      <use x=\"352.783203\" xlink:href=\"#DejaVuSans-65\"/>\r\n      <use x=\"414.306641\" xlink:href=\"#DejaVuSans-6e\"/>\r\n      <use x=\"477.685547\" xlink:href=\"#DejaVuSans-74\"/>\r\n      <use x=\"516.894531\" xlink:href=\"#DejaVuSans-20\"/>\r\n      <use x=\"548.681641\" xlink:href=\"#DejaVuSans-43\"/>\r\n      <use x=\"618.505859\" xlink:href=\"#DejaVuSans-6c\"/>\r\n      <use x=\"646.289062\" xlink:href=\"#DejaVuSans-61\"/>\r\n      <use x=\"707.568359\" xlink:href=\"#DejaVuSans-73\"/>\r\n      <use x=\"759.667969\" xlink:href=\"#DejaVuSans-73\"/>\r\n     </g>\r\n    </g>\r\n   </g>\r\n   <g id=\"matplotlib.axis_2\">\r\n    <g id=\"ytick_1\">\r\n     <g id=\"line2d_5\">\r\n      <defs>\r\n       <path d=\"M 0 0 \r\nL -3.5 0 \r\n\" id=\"m0d81f78d0e\" style=\"stroke:#000000;stroke-width:0.8;\"/>\r\n      </defs>\r\n      <g>\r\n       <use style=\"stroke:#000000;stroke-width:0.8;\" x=\"40.603125\" xlink:href=\"#m0d81f78d0e\" y=\"291.294229\"/>\r\n      </g>\r\n     </g>\r\n     <g id=\"text_6\">\r\n      <!-- 5 -->\r\n      <g transform=\"translate(27.240625 295.093448)scale(0.1 -0.1)\">\r\n       <defs>\r\n        <path d=\"M 691 4666 \r\nL 3169 4666 \r\nL 3169 4134 \r\nL 1269 4134 \r\nL 1269 2991 \r\nQ 1406 3038 1543 3061 \r\nQ 1681 3084 1819 3084 \r\nQ 2600 3084 3056 2656 \r\nQ 3513 2228 3513 1497 \r\nQ 3513 744 3044 326 \r\nQ 2575 -91 1722 -91 \r\nQ 1428 -91 1123 -41 \r\nQ 819 9 494 109 \r\nL 494 744 \r\nQ 775 591 1075 516 \r\nQ 1375 441 1709 441 \r\nQ 2250 441 2565 725 \r\nQ 2881 1009 2881 1497 \r\nQ 2881 1984 2565 2268 \r\nQ 2250 2553 1709 2553 \r\nQ 1456 2553 1204 2497 \r\nQ 953 2441 691 2322 \r\nL 691 4666 \r\nz\r\n\" id=\"DejaVuSans-35\" transform=\"scale(0.015625)\"/>\r\n       </defs>\r\n       <use xlink:href=\"#DejaVuSans-35\"/>\r\n      </g>\r\n     </g>\r\n    </g>\r\n    <g id=\"ytick_2\">\r\n     <g id=\"line2d_6\">\r\n      <g>\r\n       <use style=\"stroke:#000000;stroke-width:0.8;\" x=\"40.603125\" xlink:href=\"#m0d81f78d0e\" y=\"220.696826\"/>\r\n      </g>\r\n     </g>\r\n     <g id=\"text_7\">\r\n      <!-- 10 -->\r\n      <g transform=\"translate(20.878125 224.496045)scale(0.1 -0.1)\">\r\n       <use xlink:href=\"#DejaVuSans-31\"/>\r\n       <use x=\"63.623047\" xlink:href=\"#DejaVuSans-30\"/>\r\n      </g>\r\n     </g>\r\n    </g>\r\n    <g id=\"ytick_3\">\r\n     <g id=\"line2d_7\">\r\n      <g>\r\n       <use style=\"stroke:#000000;stroke-width:0.8;\" x=\"40.603125\" xlink:href=\"#m0d81f78d0e\" y=\"150.099424\"/>\r\n      </g>\r\n     </g>\r\n     <g id=\"text_8\">\r\n      <!-- 15 -->\r\n      <g transform=\"translate(20.878125 153.898642)scale(0.1 -0.1)\">\r\n       <use xlink:href=\"#DejaVuSans-31\"/>\r\n       <use x=\"63.623047\" xlink:href=\"#DejaVuSans-35\"/>\r\n      </g>\r\n     </g>\r\n    </g>\r\n    <g id=\"ytick_4\">\r\n     <g id=\"line2d_8\">\r\n      <g>\r\n       <use style=\"stroke:#000000;stroke-width:0.8;\" x=\"40.603125\" xlink:href=\"#m0d81f78d0e\" y=\"79.502021\"/>\r\n      </g>\r\n     </g>\r\n     <g id=\"text_9\">\r\n      <!-- 20 -->\r\n      <g transform=\"translate(20.878125 83.30124)scale(0.1 -0.1)\">\r\n       <use xlink:href=\"#DejaVuSans-32\"/>\r\n       <use x=\"63.623047\" xlink:href=\"#DejaVuSans-30\"/>\r\n      </g>\r\n     </g>\r\n    </g>\r\n    <g id=\"text_10\">\r\n     <!-- Word Count per Tweet -->\r\n     <g transform=\"translate(14.798438 240.602812)rotate(-90)scale(0.1 -0.1)\">\r\n      <defs>\r\n       <path d=\"M 213 4666 \r\nL 850 4666 \r\nL 1831 722 \r\nL 2809 4666 \r\nL 3519 4666 \r\nL 4500 722 \r\nL 5478 4666 \r\nL 6119 4666 \r\nL 4947 0 \r\nL 4153 0 \r\nL 3169 4050 \r\nL 2175 0 \r\nL 1381 0 \r\nL 213 4666 \r\nz\r\n\" id=\"DejaVuSans-57\" transform=\"scale(0.015625)\"/>\r\n       <path d=\"M 2906 2969 \r\nL 2906 4863 \r\nL 3481 4863 \r\nL 3481 0 \r\nL 2906 0 \r\nL 2906 525 \r\nQ 2725 213 2448 61 \r\nQ 2172 -91 1784 -91 \r\nQ 1150 -91 751 415 \r\nQ 353 922 353 1747 \r\nQ 353 2572 751 3078 \r\nQ 1150 3584 1784 3584 \r\nQ 2172 3584 2448 3432 \r\nQ 2725 3281 2906 2969 \r\nz\r\nM 947 1747 \r\nQ 947 1113 1208 752 \r\nQ 1469 391 1925 391 \r\nQ 2381 391 2643 752 \r\nQ 2906 1113 2906 1747 \r\nQ 2906 2381 2643 2742 \r\nQ 2381 3103 1925 3103 \r\nQ 1469 3103 1208 2742 \r\nQ 947 2381 947 1747 \r\nz\r\n\" id=\"DejaVuSans-64\" transform=\"scale(0.015625)\"/>\r\n       <path d=\"M 1159 525 \r\nL 1159 -1331 \r\nL 581 -1331 \r\nL 581 3500 \r\nL 1159 3500 \r\nL 1159 2969 \r\nQ 1341 3281 1617 3432 \r\nQ 1894 3584 2278 3584 \r\nQ 2916 3584 3314 3078 \r\nQ 3713 2572 3713 1747 \r\nQ 3713 922 3314 415 \r\nQ 2916 -91 2278 -91 \r\nQ 1894 -91 1617 61 \r\nQ 1341 213 1159 525 \r\nz\r\nM 3116 1747 \r\nQ 3116 2381 2855 2742 \r\nQ 2594 3103 2138 3103 \r\nQ 1681 3103 1420 2742 \r\nQ 1159 2381 1159 1747 \r\nQ 1159 1113 1420 752 \r\nQ 1681 391 2138 391 \r\nQ 2594 391 2855 752 \r\nQ 3116 1113 3116 1747 \r\nz\r\n\" id=\"DejaVuSans-70\" transform=\"scale(0.015625)\"/>\r\n       <path d=\"M -19 4666 \r\nL 3928 4666 \r\nL 3928 4134 \r\nL 2272 4134 \r\nL 2272 0 \r\nL 1638 0 \r\nL 1638 4134 \r\nL -19 4134 \r\nL -19 4666 \r\nz\r\n\" id=\"DejaVuSans-54\" transform=\"scale(0.015625)\"/>\r\n      </defs>\r\n      <use xlink:href=\"#DejaVuSans-57\"/>\r\n      <use x=\"93.001953\" xlink:href=\"#DejaVuSans-6f\"/>\r\n      <use x=\"154.183594\" xlink:href=\"#DejaVuSans-72\"/>\r\n      <use x=\"193.546875\" xlink:href=\"#DejaVuSans-64\"/>\r\n      <use x=\"257.023438\" xlink:href=\"#DejaVuSans-20\"/>\r\n      <use x=\"288.810547\" xlink:href=\"#DejaVuSans-43\"/>\r\n      <use x=\"358.634766\" xlink:href=\"#DejaVuSans-6f\"/>\r\n      <use x=\"419.816406\" xlink:href=\"#DejaVuSans-75\"/>\r\n      <use x=\"483.195312\" xlink:href=\"#DejaVuSans-6e\"/>\r\n      <use x=\"546.574219\" xlink:href=\"#DejaVuSans-74\"/>\r\n      <use x=\"585.783203\" xlink:href=\"#DejaVuSans-20\"/>\r\n      <use x=\"617.570312\" xlink:href=\"#DejaVuSans-70\"/>\r\n      <use x=\"681.046875\" xlink:href=\"#DejaVuSans-65\"/>\r\n      <use x=\"742.570312\" xlink:href=\"#DejaVuSans-72\"/>\r\n      <use x=\"783.683594\" xlink:href=\"#DejaVuSans-20\"/>\r\n      <use x=\"815.470703\" xlink:href=\"#DejaVuSans-54\"/>\r\n      <use x=\"860.054688\" xlink:href=\"#DejaVuSans-77\"/>\r\n      <use x=\"941.841797\" xlink:href=\"#DejaVuSans-65\"/>\r\n      <use x=\"1003.365234\" xlink:href=\"#DejaVuSans-65\"/>\r\n      <use x=\"1064.888672\" xlink:href=\"#DejaVuSans-74\"/>\r\n     </g>\r\n    </g>\r\n   </g>\r\n   <g id=\"line2d_9\">\r\n    <path clip-path=\"url(#p7fcd73162d)\" d=\"M 110.353125 234.816307 \r\nL 110.353125 319.53319 \r\n\" style=\"fill:none;stroke:#3a3a3a;stroke-linecap:square;stroke-width:1.5;\"/>\r\n   </g>\r\n   <g id=\"line2d_10\">\r\n    <path clip-path=\"url(#p7fcd73162d)\" d=\"M 110.353125 178.338385 \r\nL 110.353125 93.621502 \r\n\" style=\"fill:none;stroke:#3a3a3a;stroke-linecap:square;stroke-width:1.5;\"/>\r\n   </g>\r\n   <g id=\"line2d_11\">\r\n    <path clip-path=\"url(#p7fcd73162d)\" d=\"M 82.453125 319.53319 \r\nL 138.253125 319.53319 \r\n\" style=\"fill:none;stroke:#3a3a3a;stroke-linecap:square;stroke-width:1.5;\"/>\r\n   </g>\r\n   <g id=\"line2d_12\">\r\n    <path clip-path=\"url(#p7fcd73162d)\" d=\"M 82.453125 93.621502 \r\nL 138.253125 93.621502 \r\n\" style=\"fill:none;stroke:#3a3a3a;stroke-linecap:square;stroke-width:1.5;\"/>\r\n   </g>\r\n   <g id=\"line2d_13\">\r\n    <defs>\r\n     <path d=\"M 0 3.535534 \r\nL 2.12132 0 \r\nL 0 -3.535534 \r\nL -2.12132 0 \r\nz\r\n\" id=\"mec757a6031\" style=\"stroke:#3a3a3a;stroke-linejoin:miter;\"/>\r\n    </defs>\r\n    <g clip-path=\"url(#p7fcd73162d)\">\r\n     <use style=\"fill:#3a3a3a;stroke:#3a3a3a;stroke-linejoin:miter;\" x=\"110.353125\" xlink:href=\"#mec757a6031\" y=\"333.65267\"/>\r\n     <use style=\"fill:#3a3a3a;stroke:#3a3a3a;stroke-linejoin:miter;\" x=\"110.353125\" xlink:href=\"#mec757a6031\" y=\"333.65267\"/>\r\n     <use style=\"fill:#3a3a3a;stroke:#3a3a3a;stroke-linejoin:miter;\" x=\"110.353125\" xlink:href=\"#mec757a6031\" y=\"333.65267\"/>\r\n     <use style=\"fill:#3a3a3a;stroke:#3a3a3a;stroke-linejoin:miter;\" x=\"110.353125\" xlink:href=\"#mec757a6031\" y=\"79.502021\"/>\r\n     <use style=\"fill:#3a3a3a;stroke:#3a3a3a;stroke-linejoin:miter;\" x=\"110.353125\" xlink:href=\"#mec757a6031\" y=\"79.502021\"/>\r\n     <use style=\"fill:#3a3a3a;stroke:#3a3a3a;stroke-linejoin:miter;\" x=\"110.353125\" xlink:href=\"#mec757a6031\" y=\"79.502021\"/>\r\n    </g>\r\n   </g>\r\n   <g id=\"line2d_14\">\r\n    <path clip-path=\"url(#p7fcd73162d)\" d=\"M 249.853125 248.935787 \r\nL 249.853125 305.413709 \r\n\" style=\"fill:none;stroke:#3a3a3a;stroke-linecap:square;stroke-width:1.5;\"/>\r\n   </g>\r\n   <g id=\"line2d_15\">\r\n    <path clip-path=\"url(#p7fcd73162d)\" d=\"M 249.853125 206.577346 \r\nL 249.853125 150.099424 \r\n\" style=\"fill:none;stroke:#3a3a3a;stroke-linecap:square;stroke-width:1.5;\"/>\r\n   </g>\r\n   <g id=\"line2d_16\">\r\n    <path clip-path=\"url(#p7fcd73162d)\" d=\"M 221.953125 305.413709 \r\nL 277.753125 305.413709 \r\n\" style=\"fill:none;stroke:#3a3a3a;stroke-linecap:square;stroke-width:1.5;\"/>\r\n   </g>\r\n   <g id=\"line2d_17\">\r\n    <path clip-path=\"url(#p7fcd73162d)\" d=\"M 221.953125 150.099424 \r\nL 277.753125 150.099424 \r\n\" style=\"fill:none;stroke:#3a3a3a;stroke-linecap:square;stroke-width:1.5;\"/>\r\n   </g>\r\n   <g id=\"line2d_18\">\r\n    <g clip-path=\"url(#p7fcd73162d)\">\r\n     <use style=\"fill:#3a3a3a;stroke:#3a3a3a;stroke-linejoin:miter;\" x=\"249.853125\" xlink:href=\"#mec757a6031\" y=\"319.53319\"/>\r\n     <use style=\"fill:#3a3a3a;stroke:#3a3a3a;stroke-linejoin:miter;\" x=\"249.853125\" xlink:href=\"#mec757a6031\" y=\"319.53319\"/>\r\n     <use style=\"fill:#3a3a3a;stroke:#3a3a3a;stroke-linejoin:miter;\" x=\"249.853125\" xlink:href=\"#mec757a6031\" y=\"135.979943\"/>\r\n     <use style=\"fill:#3a3a3a;stroke:#3a3a3a;stroke-linejoin:miter;\" x=\"249.853125\" xlink:href=\"#mec757a6031\" y=\"135.979943\"/>\r\n     <use style=\"fill:#3a3a3a;stroke:#3a3a3a;stroke-linejoin:miter;\" x=\"249.853125\" xlink:href=\"#mec757a6031\" y=\"135.979943\"/>\r\n     <use style=\"fill:#3a3a3a;stroke:#3a3a3a;stroke-linejoin:miter;\" x=\"249.853125\" xlink:href=\"#mec757a6031\" y=\"135.979943\"/>\r\n     <use style=\"fill:#3a3a3a;stroke:#3a3a3a;stroke-linejoin:miter;\" x=\"249.853125\" xlink:href=\"#mec757a6031\" y=\"135.979943\"/>\r\n     <use style=\"fill:#3a3a3a;stroke:#3a3a3a;stroke-linejoin:miter;\" x=\"249.853125\" xlink:href=\"#mec757a6031\" y=\"135.979943\"/>\r\n     <use style=\"fill:#3a3a3a;stroke:#3a3a3a;stroke-linejoin:miter;\" x=\"249.853125\" xlink:href=\"#mec757a6031\" y=\"135.979943\"/>\r\n     <use style=\"fill:#3a3a3a;stroke:#3a3a3a;stroke-linejoin:miter;\" x=\"249.853125\" xlink:href=\"#mec757a6031\" y=\"135.979943\"/>\r\n     <use style=\"fill:#3a3a3a;stroke:#3a3a3a;stroke-linejoin:miter;\" x=\"249.853125\" xlink:href=\"#mec757a6031\" y=\"135.979943\"/>\r\n     <use style=\"fill:#3a3a3a;stroke:#3a3a3a;stroke-linejoin:miter;\" x=\"249.853125\" xlink:href=\"#mec757a6031\" y=\"135.979943\"/>\r\n     <use style=\"fill:#3a3a3a;stroke:#3a3a3a;stroke-linejoin:miter;\" x=\"249.853125\" xlink:href=\"#mec757a6031\" y=\"135.979943\"/>\r\n     <use style=\"fill:#3a3a3a;stroke:#3a3a3a;stroke-linejoin:miter;\" x=\"249.853125\" xlink:href=\"#mec757a6031\" y=\"135.979943\"/>\r\n     <use style=\"fill:#3a3a3a;stroke:#3a3a3a;stroke-linejoin:miter;\" x=\"249.853125\" xlink:href=\"#mec757a6031\" y=\"135.979943\"/>\r\n     <use style=\"fill:#3a3a3a;stroke:#3a3a3a;stroke-linejoin:miter;\" x=\"249.853125\" xlink:href=\"#mec757a6031\" y=\"135.979943\"/>\r\n     <use style=\"fill:#3a3a3a;stroke:#3a3a3a;stroke-linejoin:miter;\" x=\"249.853125\" xlink:href=\"#mec757a6031\" y=\"107.740982\"/>\r\n     <use style=\"fill:#3a3a3a;stroke:#3a3a3a;stroke-linejoin:miter;\" x=\"249.853125\" xlink:href=\"#mec757a6031\" y=\"107.740982\"/>\r\n     <use style=\"fill:#3a3a3a;stroke:#3a3a3a;stroke-linejoin:miter;\" x=\"249.853125\" xlink:href=\"#mec757a6031\" y=\"135.979943\"/>\r\n     <use style=\"fill:#3a3a3a;stroke:#3a3a3a;stroke-linejoin:miter;\" x=\"249.853125\" xlink:href=\"#mec757a6031\" y=\"121.860463\"/>\r\n     <use style=\"fill:#3a3a3a;stroke:#3a3a3a;stroke-linejoin:miter;\" x=\"249.853125\" xlink:href=\"#mec757a6031\" y=\"135.979943\"/>\r\n     <use style=\"fill:#3a3a3a;stroke:#3a3a3a;stroke-linejoin:miter;\" x=\"249.853125\" xlink:href=\"#mec757a6031\" y=\"135.979943\"/>\r\n     <use style=\"fill:#3a3a3a;stroke:#3a3a3a;stroke-linejoin:miter;\" x=\"249.853125\" xlink:href=\"#mec757a6031\" y=\"135.979943\"/>\r\n     <use style=\"fill:#3a3a3a;stroke:#3a3a3a;stroke-linejoin:miter;\" x=\"249.853125\" xlink:href=\"#mec757a6031\" y=\"135.979943\"/>\r\n     <use style=\"fill:#3a3a3a;stroke:#3a3a3a;stroke-linejoin:miter;\" x=\"249.853125\" xlink:href=\"#mec757a6031\" y=\"135.979943\"/>\r\n     <use style=\"fill:#3a3a3a;stroke:#3a3a3a;stroke-linejoin:miter;\" x=\"249.853125\" xlink:href=\"#mec757a6031\" y=\"135.979943\"/>\r\n     <use style=\"fill:#3a3a3a;stroke:#3a3a3a;stroke-linejoin:miter;\" x=\"249.853125\" xlink:href=\"#mec757a6031\" y=\"121.860463\"/>\r\n     <use style=\"fill:#3a3a3a;stroke:#3a3a3a;stroke-linejoin:miter;\" x=\"249.853125\" xlink:href=\"#mec757a6031\" y=\"135.979943\"/>\r\n    </g>\r\n   </g>\r\n   <g id=\"line2d_19\">\r\n    <path clip-path=\"url(#p7fcd73162d)\" d=\"M 389.353125 263.055268 \r\nL 389.353125 333.65267 \r\n\" style=\"fill:none;stroke:#3a3a3a;stroke-linecap:square;stroke-width:1.5;\"/>\r\n   </g>\r\n   <g id=\"line2d_20\">\r\n    <path clip-path=\"url(#p7fcd73162d)\" d=\"M 389.353125 192.457865 \r\nL 389.353125 93.621502 \r\n\" style=\"fill:none;stroke:#3a3a3a;stroke-linecap:square;stroke-width:1.5;\"/>\r\n   </g>\r\n   <g id=\"line2d_21\">\r\n    <path clip-path=\"url(#p7fcd73162d)\" d=\"M 361.453125 333.65267 \r\nL 417.253125 333.65267 \r\n\" style=\"fill:none;stroke:#3a3a3a;stroke-linecap:square;stroke-width:1.5;\"/>\r\n   </g>\r\n   <g id=\"line2d_22\">\r\n    <path clip-path=\"url(#p7fcd73162d)\" d=\"M 361.453125 93.621502 \r\nL 417.253125 93.621502 \r\n\" style=\"fill:none;stroke:#3a3a3a;stroke-linecap:square;stroke-width:1.5;\"/>\r\n   </g>\r\n   <g id=\"line2d_23\">\r\n    <g clip-path=\"url(#p7fcd73162d)\">\r\n     <use style=\"fill:#3a3a3a;stroke:#3a3a3a;stroke-linejoin:miter;\" x=\"389.353125\" xlink:href=\"#mec757a6031\" y=\"65.382541\"/>\r\n     <use style=\"fill:#3a3a3a;stroke:#3a3a3a;stroke-linejoin:miter;\" x=\"389.353125\" xlink:href=\"#mec757a6031\" y=\"65.382541\"/>\r\n     <use style=\"fill:#3a3a3a;stroke:#3a3a3a;stroke-linejoin:miter;\" x=\"389.353125\" xlink:href=\"#mec757a6031\" y=\"37.14358\"/>\r\n    </g>\r\n   </g>\r\n   <g id=\"line2d_24\">\r\n    <path clip-path=\"url(#p7fcd73162d)\" d=\"M 528.853125 234.816307 \r\nL 528.853125 319.53319 \r\n\" style=\"fill:none;stroke:#3a3a3a;stroke-linecap:square;stroke-width:1.5;\"/>\r\n   </g>\r\n   <g id=\"line2d_25\">\r\n    <path clip-path=\"url(#p7fcd73162d)\" d=\"M 528.853125 178.338385 \r\nL 528.853125 93.621502 \r\n\" style=\"fill:none;stroke:#3a3a3a;stroke-linecap:square;stroke-width:1.5;\"/>\r\n   </g>\r\n   <g id=\"line2d_26\">\r\n    <path clip-path=\"url(#p7fcd73162d)\" d=\"M 500.953125 319.53319 \r\nL 556.753125 319.53319 \r\n\" style=\"fill:none;stroke:#3a3a3a;stroke-linecap:square;stroke-width:1.5;\"/>\r\n   </g>\r\n   <g id=\"line2d_27\">\r\n    <path clip-path=\"url(#p7fcd73162d)\" d=\"M 500.953125 93.621502 \r\nL 556.753125 93.621502 \r\n\" style=\"fill:none;stroke:#3a3a3a;stroke-linecap:square;stroke-width:1.5;\"/>\r\n   </g>\r\n   <g id=\"line2d_28\">\r\n    <g clip-path=\"url(#p7fcd73162d)\">\r\n     <use style=\"fill:#3a3a3a;stroke:#3a3a3a;stroke-linejoin:miter;\" x=\"528.853125\" xlink:href=\"#mec757a6031\" y=\"333.65267\"/>\r\n     <use style=\"fill:#3a3a3a;stroke:#3a3a3a;stroke-linejoin:miter;\" x=\"528.853125\" xlink:href=\"#mec757a6031\" y=\"79.502021\"/>\r\n    </g>\r\n   </g>\r\n   <g id=\"line2d_29\">\r\n    <path clip-path=\"url(#p7fcd73162d)\" d=\"M 54.553125 206.577346 \r\nL 166.153125 206.577346 \r\n\" style=\"fill:none;stroke:#3a3a3a;stroke-linecap:square;stroke-width:1.5;\"/>\r\n   </g>\r\n   <g id=\"line2d_30\">\r\n    <path clip-path=\"url(#p7fcd73162d)\" d=\"M 194.053125 220.696826 \r\nL 305.653125 220.696826 \r\n\" style=\"fill:none;stroke:#3a3a3a;stroke-linecap:square;stroke-width:1.5;\"/>\r\n   </g>\r\n   <g id=\"line2d_31\">\r\n    <path clip-path=\"url(#p7fcd73162d)\" d=\"M 333.553125 220.696826 \r\nL 445.153125 220.696826 \r\n\" style=\"fill:none;stroke:#3a3a3a;stroke-linecap:square;stroke-width:1.5;\"/>\r\n   </g>\r\n   <g id=\"line2d_32\">\r\n    <path clip-path=\"url(#p7fcd73162d)\" d=\"M 473.053125 206.577346 \r\nL 584.653125 206.577346 \r\n\" style=\"fill:none;stroke:#3a3a3a;stroke-linecap:square;stroke-width:1.5;\"/>\r\n   </g>\r\n   <g id=\"patch_7\">\r\n    <path d=\"M 40.603125 348.478125 \r\nL 40.603125 22.318125 \r\n\" style=\"fill:none;stroke:#000000;stroke-linecap:square;stroke-linejoin:miter;stroke-width:0.8;\"/>\r\n   </g>\r\n   <g id=\"patch_8\">\r\n    <path d=\"M 598.603125 348.478125 \r\nL 598.603125 22.318125 \r\n\" style=\"fill:none;stroke:#000000;stroke-linecap:square;stroke-linejoin:miter;stroke-width:0.8;\"/>\r\n   </g>\r\n   <g id=\"patch_9\">\r\n    <path d=\"M 40.603125 348.478125 \r\nL 598.603125 348.478125 \r\n\" style=\"fill:none;stroke:#000000;stroke-linecap:square;stroke-linejoin:miter;stroke-width:0.8;\"/>\r\n   </g>\r\n   <g id=\"patch_10\">\r\n    <path d=\"M 40.603125 22.318125 \r\nL 598.603125 22.318125 \r\n\" style=\"fill:none;stroke:#000000;stroke-linecap:square;stroke-linejoin:miter;stroke-width:0.8;\"/>\r\n   </g>\r\n   <g id=\"text_11\">\r\n    <!-- No of Words per Tweet by Sentiment Class -->\r\n    <g transform=\"translate(192.320625 16.318125)scale(0.12 -0.12)\">\r\n     <defs>\r\n      <path d=\"M 2375 4863 \r\nL 2375 4384 \r\nL 1825 4384 \r\nQ 1516 4384 1395 4259 \r\nQ 1275 4134 1275 3809 \r\nL 1275 3500 \r\nL 2222 3500 \r\nL 2222 3053 \r\nL 1275 3053 \r\nL 1275 0 \r\nL 697 0 \r\nL 697 3053 \r\nL 147 3053 \r\nL 147 3500 \r\nL 697 3500 \r\nL 697 3744 \r\nQ 697 4328 969 4595 \r\nQ 1241 4863 1831 4863 \r\nL 2375 4863 \r\nz\r\n\" id=\"DejaVuSans-66\" transform=\"scale(0.015625)\"/>\r\n      <path d=\"M 3116 1747 \r\nQ 3116 2381 2855 2742 \r\nQ 2594 3103 2138 3103 \r\nQ 1681 3103 1420 2742 \r\nQ 1159 2381 1159 1747 \r\nQ 1159 1113 1420 752 \r\nQ 1681 391 2138 391 \r\nQ 2594 391 2855 752 \r\nQ 3116 1113 3116 1747 \r\nz\r\nM 1159 2969 \r\nQ 1341 3281 1617 3432 \r\nQ 1894 3584 2278 3584 \r\nQ 2916 3584 3314 3078 \r\nQ 3713 2572 3713 1747 \r\nQ 3713 922 3314 415 \r\nQ 2916 -91 2278 -91 \r\nQ 1894 -91 1617 61 \r\nQ 1341 213 1159 525 \r\nL 1159 0 \r\nL 581 0 \r\nL 581 4863 \r\nL 1159 4863 \r\nL 1159 2969 \r\nz\r\n\" id=\"DejaVuSans-62\" transform=\"scale(0.015625)\"/>\r\n      <path d=\"M 2059 -325 \r\nQ 1816 -950 1584 -1140 \r\nQ 1353 -1331 966 -1331 \r\nL 506 -1331 \r\nL 506 -850 \r\nL 844 -850 \r\nQ 1081 -850 1212 -737 \r\nQ 1344 -625 1503 -206 \r\nL 1606 56 \r\nL 191 3500 \r\nL 800 3500 \r\nL 1894 763 \r\nL 2988 3500 \r\nL 3597 3500 \r\nL 2059 -325 \r\nz\r\n\" id=\"DejaVuSans-79\" transform=\"scale(0.015625)\"/>\r\n     </defs>\r\n     <use xlink:href=\"#DejaVuSans-4e\"/>\r\n     <use x=\"74.804688\" xlink:href=\"#DejaVuSans-6f\"/>\r\n     <use x=\"135.986328\" xlink:href=\"#DejaVuSans-20\"/>\r\n     <use x=\"167.773438\" xlink:href=\"#DejaVuSans-6f\"/>\r\n     <use x=\"228.955078\" xlink:href=\"#DejaVuSans-66\"/>\r\n     <use x=\"264.160156\" xlink:href=\"#DejaVuSans-20\"/>\r\n     <use x=\"295.947266\" xlink:href=\"#DejaVuSans-57\"/>\r\n     <use x=\"388.949219\" xlink:href=\"#DejaVuSans-6f\"/>\r\n     <use x=\"450.130859\" xlink:href=\"#DejaVuSans-72\"/>\r\n     <use x=\"489.494141\" xlink:href=\"#DejaVuSans-64\"/>\r\n     <use x=\"552.970703\" xlink:href=\"#DejaVuSans-73\"/>\r\n     <use x=\"605.070312\" xlink:href=\"#DejaVuSans-20\"/>\r\n     <use x=\"636.857422\" xlink:href=\"#DejaVuSans-70\"/>\r\n     <use x=\"700.333984\" xlink:href=\"#DejaVuSans-65\"/>\r\n     <use x=\"761.857422\" xlink:href=\"#DejaVuSans-72\"/>\r\n     <use x=\"802.970703\" xlink:href=\"#DejaVuSans-20\"/>\r\n     <use x=\"834.757812\" xlink:href=\"#DejaVuSans-54\"/>\r\n     <use x=\"879.341797\" xlink:href=\"#DejaVuSans-77\"/>\r\n     <use x=\"961.128906\" xlink:href=\"#DejaVuSans-65\"/>\r\n     <use x=\"1022.652344\" xlink:href=\"#DejaVuSans-65\"/>\r\n     <use x=\"1084.175781\" xlink:href=\"#DejaVuSans-74\"/>\r\n     <use x=\"1123.384766\" xlink:href=\"#DejaVuSans-20\"/>\r\n     <use x=\"1155.171875\" xlink:href=\"#DejaVuSans-62\"/>\r\n     <use x=\"1218.648438\" xlink:href=\"#DejaVuSans-79\"/>\r\n     <use x=\"1277.828125\" xlink:href=\"#DejaVuSans-20\"/>\r\n     <use x=\"1309.615234\" xlink:href=\"#DejaVuSans-53\"/>\r\n     <use x=\"1373.091797\" xlink:href=\"#DejaVuSans-65\"/>\r\n     <use x=\"1434.615234\" xlink:href=\"#DejaVuSans-6e\"/>\r\n     <use x=\"1497.994141\" xlink:href=\"#DejaVuSans-74\"/>\r\n     <use x=\"1537.203125\" xlink:href=\"#DejaVuSans-69\"/>\r\n     <use x=\"1564.986328\" xlink:href=\"#DejaVuSans-6d\"/>\r\n     <use x=\"1662.398438\" xlink:href=\"#DejaVuSans-65\"/>\r\n     <use x=\"1723.921875\" xlink:href=\"#DejaVuSans-6e\"/>\r\n     <use x=\"1787.300781\" xlink:href=\"#DejaVuSans-74\"/>\r\n     <use x=\"1826.509766\" xlink:href=\"#DejaVuSans-20\"/>\r\n     <use x=\"1858.296875\" xlink:href=\"#DejaVuSans-43\"/>\r\n     <use x=\"1928.121094\" xlink:href=\"#DejaVuSans-6c\"/>\r\n     <use x=\"1955.904297\" xlink:href=\"#DejaVuSans-61\"/>\r\n     <use x=\"2017.183594\" xlink:href=\"#DejaVuSans-73\"/>\r\n     <use x=\"2069.283203\" xlink:href=\"#DejaVuSans-73\"/>\r\n    </g>\r\n   </g>\r\n  </g>\r\n </g>\r\n <defs>\r\n  <clipPath id=\"p7fcd73162d\">\r\n   <rect height=\"326.16\" width=\"558\" x=\"40.603125\" y=\"22.318125\"/>\r\n  </clipPath>\r\n </defs>\r\n</svg>\r\n",
      "image/png": "[encoded data removed]"
     },
     "metadata": {
      "needs_background": "light"
     }
    }
   ],
   "metadata": {}
  },
  {
   "cell_type": "markdown",
   "source": [
    "## Funnel chart to get more insight from sentiments"
   ],
   "metadata": {
    "papermill": {
     "duration": 0.031158,
     "end_time": "2021-06-10T11:00:33.573439",
     "exception": false,
     "start_time": "2021-06-10T11:00:33.542281",
     "status": "completed"
    },
    "tags": []
   }
  },
  {
   "cell_type": "code",
   "execution_count": 31,
   "source": [
    "fig = go.Figure(go.Funnelarea(\n",
    "    text =dist.class_label,\n",
    "    values = dist.clean_message,\n",
    "    title = {\"position\": \"top center\", \"text\": \"Funnel-Chart of Sentiment Distribution\"}\n",
    "    ))\n",
    "fig.show()"
   ],
   "outputs": [
    {
     "output_type": "display_data",
     "data": {
      "application/vnd.plotly.v1+json": {
       "config": {
        "plotlyServerURL": "https://plot.ly"
       },
       "data": [
        {
         "text": [
          "Positive(1)",
          "News(2)",
          "Neutral(0)",
          "Negative(-1)"
         ],
         "title": {
          "position": "top center",
          "text": "Funnel-Chart of Sentiment Distribution"
         },
         "type": "funnelarea",
         "values": [
          8530,
          3640,
          2353,
          1296
         ]
        }
       ],
       "layout": {
        "template": {
         "data": {
          "bar": [
           {
            "error_x": {
             "color": "#2a3f5f"
            },
            "error_y": {
             "color": "#2a3f5f"
            },
            "marker": {
             "line": {
              "color": "#E5ECF6",
              "width": 0.5
             }
            },
            "type": "bar"
           }
          ],
          "barpolar": [
           {
            "marker": {
             "line": {
              "color": "#E5ECF6",
              "width": 0.5
             }
            },
            "type": "barpolar"
           }
          ],
          "carpet": [
           {
            "aaxis": {
             "endlinecolor": "#2a3f5f",
             "gridcolor": "white",
             "linecolor": "white",
             "minorgridcolor": "white",
             "startlinecolor": "#2a3f5f"
            },
            "baxis": {
             "endlinecolor": "#2a3f5f",
             "gridcolor": "white",
             "linecolor": "white",
             "minorgridcolor": "white",
             "startlinecolor": "#2a3f5f"
            },
            "type": "carpet"
           }
          ],
          "choropleth": [
           {
            "colorbar": {
             "outlinewidth": 0,
             "ticks": ""
            },
            "type": "choropleth"
           }
          ],
          "contour": [
           {
            "colorbar": {
             "outlinewidth": 0,
             "ticks": ""
            },
            "colorscale": [
             [
              0,
              "#0d0887"
             ],
             [
              0.1111111111111111,
              "#46039f"
             ],
             [
              0.2222222222222222,
              "#7201a8"
             ],
             [
              0.3333333333333333,
              "#9c179e"
             ],
             [
              0.4444444444444444,
              "#bd3786"
             ],
             [
              0.5555555555555556,
              "#d8576b"
             ],
             [
              0.6666666666666666,
              "#ed7953"
             ],
             [
              0.7777777777777778,
              "#fb9f3a"
             ],
             [
              0.8888888888888888,
              "#fdca26"
             ],
             [
              1,
              "#f0f921"
             ]
            ],
            "type": "contour"
           }
          ],
          "contourcarpet": [
           {
            "colorbar": {
             "outlinewidth": 0,
             "ticks": ""
            },
            "type": "contourcarpet"
           }
          ],
          "heatmap": [
           {
            "colorbar": {
             "outlinewidth": 0,
             "ticks": ""
            },
            "colorscale": [
             [
              0,
              "#0d0887"
             ],
             [
              0.1111111111111111,
              "#46039f"
             ],
             [
              0.2222222222222222,
              "#7201a8"
             ],
             [
              0.3333333333333333,
              "#9c179e"
             ],
             [
              0.4444444444444444,
              "#bd3786"
             ],
             [
              0.5555555555555556,
              "#d8576b"
             ],
             [
              0.6666666666666666,
              "#ed7953"
             ],
             [
              0.7777777777777778,
              "#fb9f3a"
             ],
             [
              0.8888888888888888,
              "#fdca26"
             ],
             [
              1,
              "#f0f921"
             ]
            ],
            "type": "heatmap"
           }
          ],
          "heatmapgl": [
           {
            "colorbar": {
             "outlinewidth": 0,
             "ticks": ""
            },
            "colorscale": [
             [
              0,
              "#0d0887"
             ],
             [
              0.1111111111111111,
              "#46039f"
             ],
             [
              0.2222222222222222,
              "#7201a8"
             ],
             [
              0.3333333333333333,
              "#9c179e"
             ],
             [
              0.4444444444444444,
              "#bd3786"
             ],
             [
              0.5555555555555556,
              "#d8576b"
             ],
             [
              0.6666666666666666,
              "#ed7953"
             ],
             [
              0.7777777777777778,
              "#fb9f3a"
             ],
             [
              0.8888888888888888,
              "#fdca26"
             ],
             [
              1,
              "#f0f921"
             ]
            ],
            "type": "heatmapgl"
           }
          ],
          "histogram": [
           {
            "marker": {
             "colorbar": {
              "outlinewidth": 0,
              "ticks": ""
             }
            },
            "type": "histogram"
           }
          ],
          "histogram2d": [
           {
            "colorbar": {
             "outlinewidth": 0,
             "ticks": ""
            },
            "colorscale": [
             [
              0,
              "#0d0887"
             ],
             [
              0.1111111111111111,
              "#46039f"
             ],
             [
              0.2222222222222222,
              "#7201a8"
             ],
             [
              0.3333333333333333,
              "#9c179e"
             ],
             [
              0.4444444444444444,
              "#bd3786"
             ],
             [
              0.5555555555555556,
              "#d8576b"
             ],
             [
              0.6666666666666666,
              "#ed7953"
             ],
             [
              0.7777777777777778,
              "#fb9f3a"
             ],
             [
              0.8888888888888888,
              "#fdca26"
             ],
             [
              1,
              "#f0f921"
             ]
            ],
            "type": "histogram2d"
           }
          ],
          "histogram2dcontour": [
           {
            "colorbar": {
             "outlinewidth": 0,
             "ticks": ""
            },
            "colorscale": [
             [
              0,
              "#0d0887"
             ],
             [
              0.1111111111111111,
              "#46039f"
             ],
             [
              0.2222222222222222,
              "#7201a8"
             ],
             [
              0.3333333333333333,
              "#9c179e"
             ],
             [
              0.4444444444444444,
              "#bd3786"
             ],
             [
              0.5555555555555556,
              "#d8576b"
             ],
             [
              0.6666666666666666,
              "#ed7953"
             ],
             [
              0.7777777777777778,
              "#fb9f3a"
             ],
             [
              0.8888888888888888,
              "#fdca26"
             ],
             [
              1,
              "#f0f921"
             ]
            ],
            "type": "histogram2dcontour"
           }
          ],
          "mesh3d": [
           {
            "colorbar": {
             "outlinewidth": 0,
             "ticks": ""
            },
            "type": "mesh3d"
           }
          ],
          "parcoords": [
           {
            "line": {
             "colorbar": {
              "outlinewidth": 0,
              "ticks": ""
             }
            },
            "type": "parcoords"
           }
          ],
          "pie": [
           {
            "automargin": true,
            "type": "pie"
           }
          ],
          "scatter": [
           {
            "marker": {
             "colorbar": {
              "outlinewidth": 0,
              "ticks": ""
             }
            },
            "type": "scatter"
           }
          ],
          "scatter3d": [
           {
            "line": {
             "colorbar": {
              "outlinewidth": 0,
              "ticks": ""
             }
            },
            "marker": {
             "colorbar": {
              "outlinewidth": 0,
              "ticks": ""
             }
            },
            "type": "scatter3d"
           }
          ],
          "scattercarpet": [
           {
            "marker": {
             "colorbar": {
              "outlinewidth": 0,
              "ticks": ""
             }
            },
            "type": "scattercarpet"
           }
          ],
          "scattergeo": [
           {
            "marker": {
             "colorbar": {
              "outlinewidth": 0,
              "ticks": ""
             }
            },
            "type": "scattergeo"
           }
          ],
          "scattergl": [
           {
            "marker": {
             "colorbar": {
              "outlinewidth": 0,
              "ticks": ""
             }
            },
            "type": "scattergl"
           }
          ],
          "scattermapbox": [
           {
            "marker": {
             "colorbar": {
              "outlinewidth": 0,
              "ticks": ""
             }
            },
            "type": "scattermapbox"
           }
          ],
          "scatterpolar": [
           {
            "marker": {
             "colorbar": {
              "outlinewidth": 0,
              "ticks": ""
             }
            },
            "type": "scatterpolar"
           }
          ],
          "scatterpolargl": [
           {
            "marker": {
             "colorbar": {
              "outlinewidth": 0,
              "ticks": ""
             }
            },
            "type": "scatterpolargl"
           }
          ],
          "scatterternary": [
           {
            "marker": {
             "colorbar": {
              "outlinewidth": 0,
              "ticks": ""
             }
            },
            "type": "scatterternary"
           }
          ],
          "surface": [
           {
            "colorbar": {
             "outlinewidth": 0,
             "ticks": ""
            },
            "colorscale": [
             [
              0,
              "#0d0887"
             ],
             [
              0.1111111111111111,
              "#46039f"
             ],
             [
              0.2222222222222222,
              "#7201a8"
             ],
             [
              0.3333333333333333,
              "#9c179e"
             ],
             [
              0.4444444444444444,
              "#bd3786"
             ],
             [
              0.5555555555555556,
              "#d8576b"
             ],
             [
              0.6666666666666666,
              "#ed7953"
             ],
             [
              0.7777777777777778,
              "#fb9f3a"
             ],
             [
              0.8888888888888888,
              "#fdca26"
             ],
             [
              1,
              "#f0f921"
             ]
            ],
            "type": "surface"
           }
          ],
          "table": [
           {
            "cells": {
             "fill": {
              "color": "#EBF0F8"
             },
             "line": {
              "color": "white"
             }
            },
            "header": {
             "fill": {
              "color": "#C8D4E3"
             },
             "line": {
              "color": "white"
             }
            },
            "type": "table"
           }
          ]
         },
         "layout": {
          "annotationdefaults": {
           "arrowcolor": "#2a3f5f",
           "arrowhead": 0,
           "arrowwidth": 1
          },
          "autotypenumbers": "strict",
          "coloraxis": {
           "colorbar": {
            "outlinewidth": 0,
            "ticks": ""
           }
          },
          "colorscale": {
           "diverging": [
            [
             0,
             "#8e0152"
            ],
            [
             0.1,
             "#c51b7d"
            ],
            [
             0.2,
             "#de77ae"
            ],
            [
             0.3,
             "#f1b6da"
            ],
            [
             0.4,
             "#fde0ef"
            ],
            [
             0.5,
             "#f7f7f7"
            ],
            [
             0.6,
             "#e6f5d0"
            ],
            [
             0.7,
             "#b8e186"
            ],
            [
             0.8,
             "#7fbc41"
            ],
            [
             0.9,
             "#4d9221"
            ],
            [
             1,
             "#276419"
            ]
           ],
           "sequential": [
            [
             0,
             "#0d0887"
            ],
            [
             0.1111111111111111,
             "#46039f"
            ],
            [
             0.2222222222222222,
             "#7201a8"
            ],
            [
             0.3333333333333333,
             "#9c179e"
            ],
            [
             0.4444444444444444,
             "#bd3786"
            ],
            [
             0.5555555555555556,
             "#d8576b"
            ],
            [
             0.6666666666666666,
             "#ed7953"
            ],
            [
             0.7777777777777778,
             "#fb9f3a"
            ],
            [
             0.8888888888888888,
             "#fdca26"
            ],
            [
             1,
             "#f0f921"
            ]
           ],
           "sequentialminus": [
            [
             0,
             "#0d0887"
            ],
            [
             0.1111111111111111,
             "#46039f"
            ],
            [
             0.2222222222222222,
             "#7201a8"
            ],
            [
             0.3333333333333333,
             "#9c179e"
            ],
            [
             0.4444444444444444,
             "#bd3786"
            ],
            [
             0.5555555555555556,
             "#d8576b"
            ],
            [
             0.6666666666666666,
             "#ed7953"
            ],
            [
             0.7777777777777778,
             "#fb9f3a"
            ],
            [
             0.8888888888888888,
             "#fdca26"
            ],
            [
             1,
             "#f0f921"
            ]
           ]
          },
          "colorway": [
           "#636efa",
           "#EF553B",
           "#00cc96",
           "#ab63fa",
           "#FFA15A",
           "#19d3f3",
           "#FF6692",
           "#B6E880",
           "#FF97FF",
           "#FECB52"
          ],
          "font": {
           "color": "#2a3f5f"
          },
          "geo": {
           "bgcolor": "white",
           "lakecolor": "white",
           "landcolor": "#E5ECF6",
           "showlakes": true,
           "showland": true,
           "subunitcolor": "white"
          },
          "hoverlabel": {
           "align": "left"
          },
          "hovermode": "closest",
          "mapbox": {
           "style": "light"
          },
          "paper_bgcolor": "white",
          "plot_bgcolor": "#E5ECF6",
          "polar": {
           "angularaxis": {
            "gridcolor": "white",
            "linecolor": "white",
            "ticks": ""
           },
           "bgcolor": "#E5ECF6",
           "radialaxis": {
            "gridcolor": "white",
            "linecolor": "white",
            "ticks": ""
           }
          },
          "scene": {
           "xaxis": {
            "backgroundcolor": "#E5ECF6",
            "gridcolor": "white",
            "gridwidth": 2,
            "linecolor": "white",
            "showbackground": true,
            "ticks": "",
            "zerolinecolor": "white"
           },
           "yaxis": {
            "backgroundcolor": "#E5ECF6",
            "gridcolor": "white",
            "gridwidth": 2,
            "linecolor": "white",
            "showbackground": true,
            "ticks": "",
            "zerolinecolor": "white"
           },
           "zaxis": {
            "backgroundcolor": "#E5ECF6",
            "gridcolor": "white",
            "gridwidth": 2,
            "linecolor": "white",
            "showbackground": true,
            "ticks": "",
            "zerolinecolor": "white"
           }
          },
          "shapedefaults": {
           "line": {
            "color": "#2a3f5f"
           }
          },
          "ternary": {
           "aaxis": {
            "gridcolor": "white",
            "linecolor": "white",
            "ticks": ""
           },
           "baxis": {
            "gridcolor": "white",
            "linecolor": "white",
            "ticks": ""
           },
           "bgcolor": "#E5ECF6",
           "caxis": {
            "gridcolor": "white",
            "linecolor": "white",
            "ticks": ""
           }
          },
          "title": {
           "x": 0.05
          },
          "xaxis": {
           "automargin": true,
           "gridcolor": "white",
           "linecolor": "white",
           "ticks": "",
           "title": {
            "standoff": 15
           },
           "zerolinecolor": "white",
           "zerolinewidth": 2
          },
          "yaxis": {
           "automargin": true,
           "gridcolor": "white",
           "linecolor": "white",
           "ticks": "",
           "title": {
            "standoff": 15
           },
           "zerolinecolor": "white",
           "zerolinewidth": 2
          }
         }
        }
       }
      }
     },
     "metadata": {}
    }
   ],
   "metadata": {
    "execution": {
     "iopub.execute_input": "2021-06-10T11:00:33.641584Z",
     "iopub.status.busy": "2021-06-10T11:00:33.640896Z",
     "iopub.status.idle": "2021-06-10T11:00:33.750759Z",
     "shell.execute_reply": "2021-06-10T11:00:33.750107Z",
     "shell.execute_reply.started": "2021-06-10T08:51:29.450713Z"
    },
    "papermill": {
     "duration": 0.146097,
     "end_time": "2021-06-10T11:00:33.750900",
     "exception": false,
     "start_time": "2021-06-10T11:00:33.604803",
     "status": "completed"
    },
    "tags": []
   }
  },
  {
   "cell_type": "markdown",
   "source": [
    "### Observation\n",
    "- Negative(-1) Sentiment shows the less of counted words with the percentage of 8.19\n",
    "- Neutral(0) shows 14.9 percents of counted words\n",
    "- News(2) shows 23 percents of counted words\n",
    "- And Positive comments shows the highest percentage of 53.9 of counted words"
   ],
   "metadata": {}
  },
  {
   "cell_type": "markdown",
   "source": [
    "## checking average length of each sentiment catergory"
   ],
   "metadata": {
    "papermill": {
     "duration": 0.033422,
     "end_time": "2021-06-10T11:00:33.817700",
     "exception": false,
     "start_time": "2021-06-10T11:00:33.784278",
     "status": "completed"
    },
    "tags": []
   }
  },
  {
   "cell_type": "code",
   "execution_count": 32,
   "source": [
    "# avarage length of words per sentiment category\n",
    "plt.figure(figsize=(12,6))\n",
    "sns.barplot(x='class_label', y=df['clean_message'].apply(len) ,data = df, palette='Blues_d')\n",
    "plt.ylabel('avg_Length')\n",
    "plt.xlabel('Sentiment')\n",
    "plt.title('Average Length of Cleaned_Message by Sentiment')\n",
    "plt.show()"
   ],
   "outputs": [
    {
     "output_type": "display_data",
     "data": {
      "text/plain": "<Figure size 864x432 with 1 Axes>",
      "image/svg+xml": "<?xml version=\"1.0\" encoding=\"utf-8\" standalone=\"no\"?>\r\n<!DOCTYPE svg PUBLIC \"-//W3C//DTD SVG 1.1//EN\"\r\n  \"http://www.w3.org/Graphics/SVG/1.1/DTD/svg11.dtd\">\r\n<svg height=\"386.034375pt\" version=\"1.1\" viewBox=\"0 0 717.68125 386.034375\" width=\"717.68125pt\" xmlns=\"http://www.w3.org/2000/svg\" xmlns:xlink=\"http://www.w3.org/1999/xlink\">\r\n <metadata>\r\n  <rdf:RDF xmlns:cc=\"http://creativecommons.org/ns#\" xmlns:dc=\"http://purl.org/dc/elements/1.1/\" xmlns:rdf=\"http://www.w3.org/1999/02/22-rdf-syntax-ns#\">\r\n   <cc:Work>\r\n    <dc:type rdf:resource=\"http://purl.org/dc/dcmitype/StillImage\"/>\r\n    <dc:date>2021-06-24T03:27:56.220905</dc:date>\r\n    <dc:format>image/svg+xml</dc:format>\r\n    <dc:creator>\r\n     <cc:Agent>\r\n      <dc:title>Matplotlib v3.4.2, https://matplotlib.org/</dc:title>\r\n     </cc:Agent>\r\n    </dc:creator>\r\n   </cc:Work>\r\n  </rdf:RDF>\r\n </metadata>\r\n <defs>\r\n  <style type=\"text/css\">*{stroke-linecap:butt;stroke-linejoin:round;}</style>\r\n </defs>\r\n <g id=\"figure_1\">\r\n  <g id=\"patch_1\">\r\n   <path d=\"M 0 386.034375 \r\nL 717.68125 386.034375 \r\nL 717.68125 0 \r\nL 0 0 \r\nz\r\n\" style=\"fill:none;\"/>\r\n  </g>\r\n  <g id=\"axes_1\">\r\n   <g id=\"patch_2\">\r\n    <path d=\"M 40.88125 348.478125 \r\nL 710.48125 348.478125 \r\nL 710.48125 22.318125 \r\nL 40.88125 22.318125 \r\nz\r\n\" style=\"fill:#ffffff;\"/>\r\n   </g>\r\n   <g id=\"patch_3\">\r\n    <path clip-path=\"url(#pf768dbdf68)\" d=\"M 57.62125 348.478125 \r\nL 191.54125 348.478125 \r\nL 191.54125 39.451274 \r\nL 57.62125 39.451274 \r\nz\r\n\" style=\"fill:#88b0cb;\"/>\r\n   </g>\r\n   <g id=\"patch_4\">\r\n    <path clip-path=\"url(#pf768dbdf68)\" d=\"M 225.02125 348.478125 \r\nL 358.94125 348.478125 \r\nL 358.94125 69.575246 \r\nL 225.02125 69.575246 \r\nz\r\n\" style=\"fill:#5d93b9;\"/>\r\n   </g>\r\n   <g id=\"patch_5\">\r\n    <path clip-path=\"url(#pf768dbdf68)\" d=\"M 392.42125 348.478125 \r\nL 526.34125 348.478125 \r\nL 526.34125 76.033542 \r\nL 392.42125 76.033542 \r\nz\r\n\" style=\"fill:#447496;\"/>\r\n   </g>\r\n   <g id=\"patch_6\">\r\n    <path clip-path=\"url(#pf768dbdf68)\" d=\"M 559.82125 348.478125 \r\nL 693.74125 348.478125 \r\nL 693.74125 45.221975 \r\nL 559.82125 45.221975 \r\nz\r\n\" style=\"fill:#3b5365;\"/>\r\n   </g>\r\n   <g id=\"matplotlib.axis_1\">\r\n    <g id=\"xtick_1\">\r\n     <g id=\"line2d_1\">\r\n      <defs>\r\n       <path d=\"M 0 0 \r\nL 0 3.5 \r\n\" id=\"md5129bdcf2\" style=\"stroke:#000000;stroke-width:0.8;\"/>\r\n      </defs>\r\n      <g>\r\n       <use style=\"stroke:#000000;stroke-width:0.8;\" x=\"124.58125\" xlink:href=\"#md5129bdcf2\" y=\"348.478125\"/>\r\n      </g>\r\n     </g>\r\n     <g id=\"text_1\">\r\n      <!-- Positive(1) -->\r\n      <g transform=\"translate(98.226562 363.076562)scale(0.1 -0.1)\">\r\n       <defs>\r\n        <path d=\"M 1259 4147 \r\nL 1259 2394 \r\nL 2053 2394 \r\nQ 2494 2394 2734 2622 \r\nQ 2975 2850 2975 3272 \r\nQ 2975 3691 2734 3919 \r\nQ 2494 4147 2053 4147 \r\nL 1259 4147 \r\nz\r\nM 628 4666 \r\nL 2053 4666 \r\nQ 2838 4666 3239 4311 \r\nQ 3641 3956 3641 3272 \r\nQ 3641 2581 3239 2228 \r\nQ 2838 1875 2053 1875 \r\nL 1259 1875 \r\nL 1259 0 \r\nL 628 0 \r\nL 628 4666 \r\nz\r\n\" id=\"DejaVuSans-50\" transform=\"scale(0.015625)\"/>\r\n        <path d=\"M 1959 3097 \r\nQ 1497 3097 1228 2736 \r\nQ 959 2375 959 1747 \r\nQ 959 1119 1226 758 \r\nQ 1494 397 1959 397 \r\nQ 2419 397 2687 759 \r\nQ 2956 1122 2956 1747 \r\nQ 2956 2369 2687 2733 \r\nQ 2419 3097 1959 3097 \r\nz\r\nM 1959 3584 \r\nQ 2709 3584 3137 3096 \r\nQ 3566 2609 3566 1747 \r\nQ 3566 888 3137 398 \r\nQ 2709 -91 1959 -91 \r\nQ 1206 -91 779 398 \r\nQ 353 888 353 1747 \r\nQ 353 2609 779 3096 \r\nQ 1206 3584 1959 3584 \r\nz\r\n\" id=\"DejaVuSans-6f\" transform=\"scale(0.015625)\"/>\r\n        <path d=\"M 2834 3397 \r\nL 2834 2853 \r\nQ 2591 2978 2328 3040 \r\nQ 2066 3103 1784 3103 \r\nQ 1356 3103 1142 2972 \r\nQ 928 2841 928 2578 \r\nQ 928 2378 1081 2264 \r\nQ 1234 2150 1697 2047 \r\nL 1894 2003 \r\nQ 2506 1872 2764 1633 \r\nQ 3022 1394 3022 966 \r\nQ 3022 478 2636 193 \r\nQ 2250 -91 1575 -91 \r\nQ 1294 -91 989 -36 \r\nQ 684 19 347 128 \r\nL 347 722 \r\nQ 666 556 975 473 \r\nQ 1284 391 1588 391 \r\nQ 1994 391 2212 530 \r\nQ 2431 669 2431 922 \r\nQ 2431 1156 2273 1281 \r\nQ 2116 1406 1581 1522 \r\nL 1381 1569 \r\nQ 847 1681 609 1914 \r\nQ 372 2147 372 2553 \r\nQ 372 3047 722 3315 \r\nQ 1072 3584 1716 3584 \r\nQ 2034 3584 2315 3537 \r\nQ 2597 3491 2834 3397 \r\nz\r\n\" id=\"DejaVuSans-73\" transform=\"scale(0.015625)\"/>\r\n        <path d=\"M 603 3500 \r\nL 1178 3500 \r\nL 1178 0 \r\nL 603 0 \r\nL 603 3500 \r\nz\r\nM 603 4863 \r\nL 1178 4863 \r\nL 1178 4134 \r\nL 603 4134 \r\nL 603 4863 \r\nz\r\n\" id=\"DejaVuSans-69\" transform=\"scale(0.015625)\"/>\r\n        <path d=\"M 1172 4494 \r\nL 1172 3500 \r\nL 2356 3500 \r\nL 2356 3053 \r\nL 1172 3053 \r\nL 1172 1153 \r\nQ 1172 725 1289 603 \r\nQ 1406 481 1766 481 \r\nL 2356 481 \r\nL 2356 0 \r\nL 1766 0 \r\nQ 1100 0 847 248 \r\nQ 594 497 594 1153 \r\nL 594 3053 \r\nL 172 3053 \r\nL 172 3500 \r\nL 594 3500 \r\nL 594 4494 \r\nL 1172 4494 \r\nz\r\n\" id=\"DejaVuSans-74\" transform=\"scale(0.015625)\"/>\r\n        <path d=\"M 191 3500 \r\nL 800 3500 \r\nL 1894 563 \r\nL 2988 3500 \r\nL 3597 3500 \r\nL 2284 0 \r\nL 1503 0 \r\nL 191 3500 \r\nz\r\n\" id=\"DejaVuSans-76\" transform=\"scale(0.015625)\"/>\r\n        <path d=\"M 3597 1894 \r\nL 3597 1613 \r\nL 953 1613 \r\nQ 991 1019 1311 708 \r\nQ 1631 397 2203 397 \r\nQ 2534 397 2845 478 \r\nQ 3156 559 3463 722 \r\nL 3463 178 \r\nQ 3153 47 2828 -22 \r\nQ 2503 -91 2169 -91 \r\nQ 1331 -91 842 396 \r\nQ 353 884 353 1716 \r\nQ 353 2575 817 3079 \r\nQ 1281 3584 2069 3584 \r\nQ 2775 3584 3186 3129 \r\nQ 3597 2675 3597 1894 \r\nz\r\nM 3022 2063 \r\nQ 3016 2534 2758 2815 \r\nQ 2500 3097 2075 3097 \r\nQ 1594 3097 1305 2825 \r\nQ 1016 2553 972 2059 \r\nL 3022 2063 \r\nz\r\n\" id=\"DejaVuSans-65\" transform=\"scale(0.015625)\"/>\r\n        <path d=\"M 1984 4856 \r\nQ 1566 4138 1362 3434 \r\nQ 1159 2731 1159 2009 \r\nQ 1159 1288 1364 580 \r\nQ 1569 -128 1984 -844 \r\nL 1484 -844 \r\nQ 1016 -109 783 600 \r\nQ 550 1309 550 2009 \r\nQ 550 2706 781 3412 \r\nQ 1013 4119 1484 4856 \r\nL 1984 4856 \r\nz\r\n\" id=\"DejaVuSans-28\" transform=\"scale(0.015625)\"/>\r\n        <path d=\"M 794 531 \r\nL 1825 531 \r\nL 1825 4091 \r\nL 703 3866 \r\nL 703 4441 \r\nL 1819 4666 \r\nL 2450 4666 \r\nL 2450 531 \r\nL 3481 531 \r\nL 3481 0 \r\nL 794 0 \r\nL 794 531 \r\nz\r\n\" id=\"DejaVuSans-31\" transform=\"scale(0.015625)\"/>\r\n        <path d=\"M 513 4856 \r\nL 1013 4856 \r\nQ 1481 4119 1714 3412 \r\nQ 1947 2706 1947 2009 \r\nQ 1947 1309 1714 600 \r\nQ 1481 -109 1013 -844 \r\nL 513 -844 \r\nQ 928 -128 1133 580 \r\nQ 1338 1288 1338 2009 \r\nQ 1338 2731 1133 3434 \r\nQ 928 4138 513 4856 \r\nz\r\n\" id=\"DejaVuSans-29\" transform=\"scale(0.015625)\"/>\r\n       </defs>\r\n       <use xlink:href=\"#DejaVuSans-50\"/>\r\n       <use x=\"56.677734\" xlink:href=\"#DejaVuSans-6f\"/>\r\n       <use x=\"117.859375\" xlink:href=\"#DejaVuSans-73\"/>\r\n       <use x=\"169.958984\" xlink:href=\"#DejaVuSans-69\"/>\r\n       <use x=\"197.742188\" xlink:href=\"#DejaVuSans-74\"/>\r\n       <use x=\"236.951172\" xlink:href=\"#DejaVuSans-69\"/>\r\n       <use x=\"264.734375\" xlink:href=\"#DejaVuSans-76\"/>\r\n       <use x=\"323.914062\" xlink:href=\"#DejaVuSans-65\"/>\r\n       <use x=\"385.4375\" xlink:href=\"#DejaVuSans-28\"/>\r\n       <use x=\"424.451172\" xlink:href=\"#DejaVuSans-31\"/>\r\n       <use x=\"488.074219\" xlink:href=\"#DejaVuSans-29\"/>\r\n      </g>\r\n     </g>\r\n    </g>\r\n    <g id=\"xtick_2\">\r\n     <g id=\"line2d_2\">\r\n      <g>\r\n       <use style=\"stroke:#000000;stroke-width:0.8;\" x=\"291.98125\" xlink:href=\"#md5129bdcf2\" y=\"348.478125\"/>\r\n      </g>\r\n     </g>\r\n     <g id=\"text_2\">\r\n      <!-- News(2) -->\r\n      <g transform=\"translate(271.3875 363.076562)scale(0.1 -0.1)\">\r\n       <defs>\r\n        <path d=\"M 628 4666 \r\nL 1478 4666 \r\nL 3547 763 \r\nL 3547 4666 \r\nL 4159 4666 \r\nL 4159 0 \r\nL 3309 0 \r\nL 1241 3903 \r\nL 1241 0 \r\nL 628 0 \r\nL 628 4666 \r\nz\r\n\" id=\"DejaVuSans-4e\" transform=\"scale(0.015625)\"/>\r\n        <path d=\"M 269 3500 \r\nL 844 3500 \r\nL 1563 769 \r\nL 2278 3500 \r\nL 2956 3500 \r\nL 3675 769 \r\nL 4391 3500 \r\nL 4966 3500 \r\nL 4050 0 \r\nL 3372 0 \r\nL 2619 2869 \r\nL 1863 0 \r\nL 1184 0 \r\nL 269 3500 \r\nz\r\n\" id=\"DejaVuSans-77\" transform=\"scale(0.015625)\"/>\r\n        <path d=\"M 1228 531 \r\nL 3431 531 \r\nL 3431 0 \r\nL 469 0 \r\nL 469 531 \r\nQ 828 903 1448 1529 \r\nQ 2069 2156 2228 2338 \r\nQ 2531 2678 2651 2914 \r\nQ 2772 3150 2772 3378 \r\nQ 2772 3750 2511 3984 \r\nQ 2250 4219 1831 4219 \r\nQ 1534 4219 1204 4116 \r\nQ 875 4013 500 3803 \r\nL 500 4441 \r\nQ 881 4594 1212 4672 \r\nQ 1544 4750 1819 4750 \r\nQ 2544 4750 2975 4387 \r\nQ 3406 4025 3406 3419 \r\nQ 3406 3131 3298 2873 \r\nQ 3191 2616 2906 2266 \r\nQ 2828 2175 2409 1742 \r\nQ 1991 1309 1228 531 \r\nz\r\n\" id=\"DejaVuSans-32\" transform=\"scale(0.015625)\"/>\r\n       </defs>\r\n       <use xlink:href=\"#DejaVuSans-4e\"/>\r\n       <use x=\"74.804688\" xlink:href=\"#DejaVuSans-65\"/>\r\n       <use x=\"136.328125\" xlink:href=\"#DejaVuSans-77\"/>\r\n       <use x=\"218.115234\" xlink:href=\"#DejaVuSans-73\"/>\r\n       <use x=\"270.214844\" xlink:href=\"#DejaVuSans-28\"/>\r\n       <use x=\"309.228516\" xlink:href=\"#DejaVuSans-32\"/>\r\n       <use x=\"372.851562\" xlink:href=\"#DejaVuSans-29\"/>\r\n      </g>\r\n     </g>\r\n    </g>\r\n    <g id=\"xtick_3\">\r\n     <g id=\"line2d_3\">\r\n      <g>\r\n       <use style=\"stroke:#000000;stroke-width:0.8;\" x=\"459.38125\" xlink:href=\"#md5129bdcf2\" y=\"348.478125\"/>\r\n      </g>\r\n     </g>\r\n     <g id=\"text_3\">\r\n      <!-- Neutral(0) -->\r\n      <g transform=\"translate(433.84375 363.076562)scale(0.1 -0.1)\">\r\n       <defs>\r\n        <path d=\"M 544 1381 \r\nL 544 3500 \r\nL 1119 3500 \r\nL 1119 1403 \r\nQ 1119 906 1312 657 \r\nQ 1506 409 1894 409 \r\nQ 2359 409 2629 706 \r\nQ 2900 1003 2900 1516 \r\nL 2900 3500 \r\nL 3475 3500 \r\nL 3475 0 \r\nL 2900 0 \r\nL 2900 538 \r\nQ 2691 219 2414 64 \r\nQ 2138 -91 1772 -91 \r\nQ 1169 -91 856 284 \r\nQ 544 659 544 1381 \r\nz\r\nM 1991 3584 \r\nL 1991 3584 \r\nz\r\n\" id=\"DejaVuSans-75\" transform=\"scale(0.015625)\"/>\r\n        <path d=\"M 2631 2963 \r\nQ 2534 3019 2420 3045 \r\nQ 2306 3072 2169 3072 \r\nQ 1681 3072 1420 2755 \r\nQ 1159 2438 1159 1844 \r\nL 1159 0 \r\nL 581 0 \r\nL 581 3500 \r\nL 1159 3500 \r\nL 1159 2956 \r\nQ 1341 3275 1631 3429 \r\nQ 1922 3584 2338 3584 \r\nQ 2397 3584 2469 3576 \r\nQ 2541 3569 2628 3553 \r\nL 2631 2963 \r\nz\r\n\" id=\"DejaVuSans-72\" transform=\"scale(0.015625)\"/>\r\n        <path d=\"M 2194 1759 \r\nQ 1497 1759 1228 1600 \r\nQ 959 1441 959 1056 \r\nQ 959 750 1161 570 \r\nQ 1363 391 1709 391 \r\nQ 2188 391 2477 730 \r\nQ 2766 1069 2766 1631 \r\nL 2766 1759 \r\nL 2194 1759 \r\nz\r\nM 3341 1997 \r\nL 3341 0 \r\nL 2766 0 \r\nL 2766 531 \r\nQ 2569 213 2275 61 \r\nQ 1981 -91 1556 -91 \r\nQ 1019 -91 701 211 \r\nQ 384 513 384 1019 \r\nQ 384 1609 779 1909 \r\nQ 1175 2209 1959 2209 \r\nL 2766 2209 \r\nL 2766 2266 \r\nQ 2766 2663 2505 2880 \r\nQ 2244 3097 1772 3097 \r\nQ 1472 3097 1187 3025 \r\nQ 903 2953 641 2809 \r\nL 641 3341 \r\nQ 956 3463 1253 3523 \r\nQ 1550 3584 1831 3584 \r\nQ 2591 3584 2966 3190 \r\nQ 3341 2797 3341 1997 \r\nz\r\n\" id=\"DejaVuSans-61\" transform=\"scale(0.015625)\"/>\r\n        <path d=\"M 603 4863 \r\nL 1178 4863 \r\nL 1178 0 \r\nL 603 0 \r\nL 603 4863 \r\nz\r\n\" id=\"DejaVuSans-6c\" transform=\"scale(0.015625)\"/>\r\n        <path d=\"M 2034 4250 \r\nQ 1547 4250 1301 3770 \r\nQ 1056 3291 1056 2328 \r\nQ 1056 1369 1301 889 \r\nQ 1547 409 2034 409 \r\nQ 2525 409 2770 889 \r\nQ 3016 1369 3016 2328 \r\nQ 3016 3291 2770 3770 \r\nQ 2525 4250 2034 4250 \r\nz\r\nM 2034 4750 \r\nQ 2819 4750 3233 4129 \r\nQ 3647 3509 3647 2328 \r\nQ 3647 1150 3233 529 \r\nQ 2819 -91 2034 -91 \r\nQ 1250 -91 836 529 \r\nQ 422 1150 422 2328 \r\nQ 422 3509 836 4129 \r\nQ 1250 4750 2034 4750 \r\nz\r\n\" id=\"DejaVuSans-30\" transform=\"scale(0.015625)\"/>\r\n       </defs>\r\n       <use xlink:href=\"#DejaVuSans-4e\"/>\r\n       <use x=\"74.804688\" xlink:href=\"#DejaVuSans-65\"/>\r\n       <use x=\"136.328125\" xlink:href=\"#DejaVuSans-75\"/>\r\n       <use x=\"199.707031\" xlink:href=\"#DejaVuSans-74\"/>\r\n       <use x=\"238.916016\" xlink:href=\"#DejaVuSans-72\"/>\r\n       <use x=\"280.029297\" xlink:href=\"#DejaVuSans-61\"/>\r\n       <use x=\"341.308594\" xlink:href=\"#DejaVuSans-6c\"/>\r\n       <use x=\"369.091797\" xlink:href=\"#DejaVuSans-28\"/>\r\n       <use x=\"408.105469\" xlink:href=\"#DejaVuSans-30\"/>\r\n       <use x=\"471.728516\" xlink:href=\"#DejaVuSans-29\"/>\r\n      </g>\r\n     </g>\r\n    </g>\r\n    <g id=\"xtick_4\">\r\n     <g id=\"line2d_4\">\r\n      <g>\r\n       <use style=\"stroke:#000000;stroke-width:0.8;\" x=\"626.78125\" xlink:href=\"#md5129bdcf2\" y=\"348.478125\"/>\r\n      </g>\r\n     </g>\r\n     <g id=\"text_4\">\r\n      <!-- Negative(-1) -->\r\n      <g transform=\"translate(595.453906 363.076562)scale(0.1 -0.1)\">\r\n       <defs>\r\n        <path d=\"M 2906 1791 \r\nQ 2906 2416 2648 2759 \r\nQ 2391 3103 1925 3103 \r\nQ 1463 3103 1205 2759 \r\nQ 947 2416 947 1791 \r\nQ 947 1169 1205 825 \r\nQ 1463 481 1925 481 \r\nQ 2391 481 2648 825 \r\nQ 2906 1169 2906 1791 \r\nz\r\nM 3481 434 \r\nQ 3481 -459 3084 -895 \r\nQ 2688 -1331 1869 -1331 \r\nQ 1566 -1331 1297 -1286 \r\nQ 1028 -1241 775 -1147 \r\nL 775 -588 \r\nQ 1028 -725 1275 -790 \r\nQ 1522 -856 1778 -856 \r\nQ 2344 -856 2625 -561 \r\nQ 2906 -266 2906 331 \r\nL 2906 616 \r\nQ 2728 306 2450 153 \r\nQ 2172 0 1784 0 \r\nQ 1141 0 747 490 \r\nQ 353 981 353 1791 \r\nQ 353 2603 747 3093 \r\nQ 1141 3584 1784 3584 \r\nQ 2172 3584 2450 3431 \r\nQ 2728 3278 2906 2969 \r\nL 2906 3500 \r\nL 3481 3500 \r\nL 3481 434 \r\nz\r\n\" id=\"DejaVuSans-67\" transform=\"scale(0.015625)\"/>\r\n        <path d=\"M 313 2009 \r\nL 1997 2009 \r\nL 1997 1497 \r\nL 313 1497 \r\nL 313 2009 \r\nz\r\n\" id=\"DejaVuSans-2d\" transform=\"scale(0.015625)\"/>\r\n       </defs>\r\n       <use xlink:href=\"#DejaVuSans-4e\"/>\r\n       <use x=\"74.804688\" xlink:href=\"#DejaVuSans-65\"/>\r\n       <use x=\"136.328125\" xlink:href=\"#DejaVuSans-67\"/>\r\n       <use x=\"199.804688\" xlink:href=\"#DejaVuSans-61\"/>\r\n       <use x=\"261.083984\" xlink:href=\"#DejaVuSans-74\"/>\r\n       <use x=\"300.292969\" xlink:href=\"#DejaVuSans-69\"/>\r\n       <use x=\"328.076172\" xlink:href=\"#DejaVuSans-76\"/>\r\n       <use x=\"387.255859\" xlink:href=\"#DejaVuSans-65\"/>\r\n       <use x=\"448.779297\" xlink:href=\"#DejaVuSans-28\"/>\r\n       <use x=\"487.792969\" xlink:href=\"#DejaVuSans-2d\"/>\r\n       <use x=\"523.876953\" xlink:href=\"#DejaVuSans-31\"/>\r\n       <use x=\"587.5\" xlink:href=\"#DejaVuSans-29\"/>\r\n      </g>\r\n     </g>\r\n    </g>\r\n    <g id=\"text_5\">\r\n     <!-- Sentiment -->\r\n     <g transform=\"translate(349.836719 376.754687)scale(0.1 -0.1)\">\r\n      <defs>\r\n       <path d=\"M 3425 4513 \r\nL 3425 3897 \r\nQ 3066 4069 2747 4153 \r\nQ 2428 4238 2131 4238 \r\nQ 1616 4238 1336 4038 \r\nQ 1056 3838 1056 3469 \r\nQ 1056 3159 1242 3001 \r\nQ 1428 2844 1947 2747 \r\nL 2328 2669 \r\nQ 3034 2534 3370 2195 \r\nQ 3706 1856 3706 1288 \r\nQ 3706 609 3251 259 \r\nQ 2797 -91 1919 -91 \r\nQ 1588 -91 1214 -16 \r\nQ 841 59 441 206 \r\nL 441 856 \r\nQ 825 641 1194 531 \r\nQ 1563 422 1919 422 \r\nQ 2459 422 2753 634 \r\nQ 3047 847 3047 1241 \r\nQ 3047 1584 2836 1778 \r\nQ 2625 1972 2144 2069 \r\nL 1759 2144 \r\nQ 1053 2284 737 2584 \r\nQ 422 2884 422 3419 \r\nQ 422 4038 858 4394 \r\nQ 1294 4750 2059 4750 \r\nQ 2388 4750 2728 4690 \r\nQ 3069 4631 3425 4513 \r\nz\r\n\" id=\"DejaVuSans-53\" transform=\"scale(0.015625)\"/>\r\n       <path d=\"M 3513 2113 \r\nL 3513 0 \r\nL 2938 0 \r\nL 2938 2094 \r\nQ 2938 2591 2744 2837 \r\nQ 2550 3084 2163 3084 \r\nQ 1697 3084 1428 2787 \r\nQ 1159 2491 1159 1978 \r\nL 1159 0 \r\nL 581 0 \r\nL 581 3500 \r\nL 1159 3500 \r\nL 1159 2956 \r\nQ 1366 3272 1645 3428 \r\nQ 1925 3584 2291 3584 \r\nQ 2894 3584 3203 3211 \r\nQ 3513 2838 3513 2113 \r\nz\r\n\" id=\"DejaVuSans-6e\" transform=\"scale(0.015625)\"/>\r\n       <path d=\"M 3328 2828 \r\nQ 3544 3216 3844 3400 \r\nQ 4144 3584 4550 3584 \r\nQ 5097 3584 5394 3201 \r\nQ 5691 2819 5691 2113 \r\nL 5691 0 \r\nL 5113 0 \r\nL 5113 2094 \r\nQ 5113 2597 4934 2840 \r\nQ 4756 3084 4391 3084 \r\nQ 3944 3084 3684 2787 \r\nQ 3425 2491 3425 1978 \r\nL 3425 0 \r\nL 2847 0 \r\nL 2847 2094 \r\nQ 2847 2600 2669 2842 \r\nQ 2491 3084 2119 3084 \r\nQ 1678 3084 1418 2786 \r\nQ 1159 2488 1159 1978 \r\nL 1159 0 \r\nL 581 0 \r\nL 581 3500 \r\nL 1159 3500 \r\nL 1159 2956 \r\nQ 1356 3278 1631 3431 \r\nQ 1906 3584 2284 3584 \r\nQ 2666 3584 2933 3390 \r\nQ 3200 3197 3328 2828 \r\nz\r\n\" id=\"DejaVuSans-6d\" transform=\"scale(0.015625)\"/>\r\n      </defs>\r\n      <use xlink:href=\"#DejaVuSans-53\"/>\r\n      <use x=\"63.476562\" xlink:href=\"#DejaVuSans-65\"/>\r\n      <use x=\"125\" xlink:href=\"#DejaVuSans-6e\"/>\r\n      <use x=\"188.378906\" xlink:href=\"#DejaVuSans-74\"/>\r\n      <use x=\"227.587891\" xlink:href=\"#DejaVuSans-69\"/>\r\n      <use x=\"255.371094\" xlink:href=\"#DejaVuSans-6d\"/>\r\n      <use x=\"352.783203\" xlink:href=\"#DejaVuSans-65\"/>\r\n      <use x=\"414.306641\" xlink:href=\"#DejaVuSans-6e\"/>\r\n      <use x=\"477.685547\" xlink:href=\"#DejaVuSans-74\"/>\r\n     </g>\r\n    </g>\r\n   </g>\r\n   <g id=\"matplotlib.axis_2\">\r\n    <g id=\"ytick_1\">\r\n     <g id=\"line2d_5\">\r\n      <defs>\r\n       <path d=\"M 0 0 \r\nL -3.5 0 \r\n\" id=\"mdcb64ef8ba\" style=\"stroke:#000000;stroke-width:0.8;\"/>\r\n      </defs>\r\n      <g>\r\n       <use style=\"stroke:#000000;stroke-width:0.8;\" x=\"40.88125\" xlink:href=\"#mdcb64ef8ba\" y=\"348.478125\"/>\r\n      </g>\r\n     </g>\r\n     <g id=\"text_6\">\r\n      <!-- 0 -->\r\n      <g transform=\"translate(27.51875 352.277344)scale(0.1 -0.1)\">\r\n       <use xlink:href=\"#DejaVuSans-30\"/>\r\n      </g>\r\n     </g>\r\n    </g>\r\n    <g id=\"ytick_2\">\r\n     <g id=\"line2d_6\">\r\n      <g>\r\n       <use style=\"stroke:#000000;stroke-width:0.8;\" x=\"40.88125\" xlink:href=\"#mdcb64ef8ba\" y=\"310.809803\"/>\r\n      </g>\r\n     </g>\r\n     <g id=\"text_7\">\r\n      <!-- 10 -->\r\n      <g transform=\"translate(21.15625 314.609022)scale(0.1 -0.1)\">\r\n       <use xlink:href=\"#DejaVuSans-31\"/>\r\n       <use x=\"63.623047\" xlink:href=\"#DejaVuSans-30\"/>\r\n      </g>\r\n     </g>\r\n    </g>\r\n    <g id=\"ytick_3\">\r\n     <g id=\"line2d_7\">\r\n      <g>\r\n       <use style=\"stroke:#000000;stroke-width:0.8;\" x=\"40.88125\" xlink:href=\"#mdcb64ef8ba\" y=\"273.141481\"/>\r\n      </g>\r\n     </g>\r\n     <g id=\"text_8\">\r\n      <!-- 20 -->\r\n      <g transform=\"translate(21.15625 276.9407)scale(0.1 -0.1)\">\r\n       <use xlink:href=\"#DejaVuSans-32\"/>\r\n       <use x=\"63.623047\" xlink:href=\"#DejaVuSans-30\"/>\r\n      </g>\r\n     </g>\r\n    </g>\r\n    <g id=\"ytick_4\">\r\n     <g id=\"line2d_8\">\r\n      <g>\r\n       <use style=\"stroke:#000000;stroke-width:0.8;\" x=\"40.88125\" xlink:href=\"#mdcb64ef8ba\" y=\"235.473159\"/>\r\n      </g>\r\n     </g>\r\n     <g id=\"text_9\">\r\n      <!-- 30 -->\r\n      <g transform=\"translate(21.15625 239.272378)scale(0.1 -0.1)\">\r\n       <defs>\r\n        <path d=\"M 2597 2516 \r\nQ 3050 2419 3304 2112 \r\nQ 3559 1806 3559 1356 \r\nQ 3559 666 3084 287 \r\nQ 2609 -91 1734 -91 \r\nQ 1441 -91 1130 -33 \r\nQ 819 25 488 141 \r\nL 488 750 \r\nQ 750 597 1062 519 \r\nQ 1375 441 1716 441 \r\nQ 2309 441 2620 675 \r\nQ 2931 909 2931 1356 \r\nQ 2931 1769 2642 2001 \r\nQ 2353 2234 1838 2234 \r\nL 1294 2234 \r\nL 1294 2753 \r\nL 1863 2753 \r\nQ 2328 2753 2575 2939 \r\nQ 2822 3125 2822 3475 \r\nQ 2822 3834 2567 4026 \r\nQ 2313 4219 1838 4219 \r\nQ 1578 4219 1281 4162 \r\nQ 984 4106 628 3988 \r\nL 628 4550 \r\nQ 988 4650 1302 4700 \r\nQ 1616 4750 1894 4750 \r\nQ 2613 4750 3031 4423 \r\nQ 3450 4097 3450 3541 \r\nQ 3450 3153 3228 2886 \r\nQ 3006 2619 2597 2516 \r\nz\r\n\" id=\"DejaVuSans-33\" transform=\"scale(0.015625)\"/>\r\n       </defs>\r\n       <use xlink:href=\"#DejaVuSans-33\"/>\r\n       <use x=\"63.623047\" xlink:href=\"#DejaVuSans-30\"/>\r\n      </g>\r\n     </g>\r\n    </g>\r\n    <g id=\"ytick_5\">\r\n     <g id=\"line2d_9\">\r\n      <g>\r\n       <use style=\"stroke:#000000;stroke-width:0.8;\" x=\"40.88125\" xlink:href=\"#mdcb64ef8ba\" y=\"197.804837\"/>\r\n      </g>\r\n     </g>\r\n     <g id=\"text_10\">\r\n      <!-- 40 -->\r\n      <g transform=\"translate(21.15625 201.604056)scale(0.1 -0.1)\">\r\n       <defs>\r\n        <path d=\"M 2419 4116 \r\nL 825 1625 \r\nL 2419 1625 \r\nL 2419 4116 \r\nz\r\nM 2253 4666 \r\nL 3047 4666 \r\nL 3047 1625 \r\nL 3713 1625 \r\nL 3713 1100 \r\nL 3047 1100 \r\nL 3047 0 \r\nL 2419 0 \r\nL 2419 1100 \r\nL 313 1100 \r\nL 313 1709 \r\nL 2253 4666 \r\nz\r\n\" id=\"DejaVuSans-34\" transform=\"scale(0.015625)\"/>\r\n       </defs>\r\n       <use xlink:href=\"#DejaVuSans-34\"/>\r\n       <use x=\"63.623047\" xlink:href=\"#DejaVuSans-30\"/>\r\n      </g>\r\n     </g>\r\n    </g>\r\n    <g id=\"ytick_6\">\r\n     <g id=\"line2d_10\">\r\n      <g>\r\n       <use style=\"stroke:#000000;stroke-width:0.8;\" x=\"40.88125\" xlink:href=\"#mdcb64ef8ba\" y=\"160.136515\"/>\r\n      </g>\r\n     </g>\r\n     <g id=\"text_11\">\r\n      <!-- 50 -->\r\n      <g transform=\"translate(21.15625 163.935734)scale(0.1 -0.1)\">\r\n       <defs>\r\n        <path d=\"M 691 4666 \r\nL 3169 4666 \r\nL 3169 4134 \r\nL 1269 4134 \r\nL 1269 2991 \r\nQ 1406 3038 1543 3061 \r\nQ 1681 3084 1819 3084 \r\nQ 2600 3084 3056 2656 \r\nQ 3513 2228 3513 1497 \r\nQ 3513 744 3044 326 \r\nQ 2575 -91 1722 -91 \r\nQ 1428 -91 1123 -41 \r\nQ 819 9 494 109 \r\nL 494 744 \r\nQ 775 591 1075 516 \r\nQ 1375 441 1709 441 \r\nQ 2250 441 2565 725 \r\nQ 2881 1009 2881 1497 \r\nQ 2881 1984 2565 2268 \r\nQ 2250 2553 1709 2553 \r\nQ 1456 2553 1204 2497 \r\nQ 953 2441 691 2322 \r\nL 691 4666 \r\nz\r\n\" id=\"DejaVuSans-35\" transform=\"scale(0.015625)\"/>\r\n       </defs>\r\n       <use xlink:href=\"#DejaVuSans-35\"/>\r\n       <use x=\"63.623047\" xlink:href=\"#DejaVuSans-30\"/>\r\n      </g>\r\n     </g>\r\n    </g>\r\n    <g id=\"ytick_7\">\r\n     <g id=\"line2d_11\">\r\n      <g>\r\n       <use style=\"stroke:#000000;stroke-width:0.8;\" x=\"40.88125\" xlink:href=\"#mdcb64ef8ba\" y=\"122.468193\"/>\r\n      </g>\r\n     </g>\r\n     <g id=\"text_12\">\r\n      <!-- 60 -->\r\n      <g transform=\"translate(21.15625 126.267412)scale(0.1 -0.1)\">\r\n       <defs>\r\n        <path d=\"M 2113 2584 \r\nQ 1688 2584 1439 2293 \r\nQ 1191 2003 1191 1497 \r\nQ 1191 994 1439 701 \r\nQ 1688 409 2113 409 \r\nQ 2538 409 2786 701 \r\nQ 3034 994 3034 1497 \r\nQ 3034 2003 2786 2293 \r\nQ 2538 2584 2113 2584 \r\nz\r\nM 3366 4563 \r\nL 3366 3988 \r\nQ 3128 4100 2886 4159 \r\nQ 2644 4219 2406 4219 \r\nQ 1781 4219 1451 3797 \r\nQ 1122 3375 1075 2522 \r\nQ 1259 2794 1537 2939 \r\nQ 1816 3084 2150 3084 \r\nQ 2853 3084 3261 2657 \r\nQ 3669 2231 3669 1497 \r\nQ 3669 778 3244 343 \r\nQ 2819 -91 2113 -91 \r\nQ 1303 -91 875 529 \r\nQ 447 1150 447 2328 \r\nQ 447 3434 972 4092 \r\nQ 1497 4750 2381 4750 \r\nQ 2619 4750 2861 4703 \r\nQ 3103 4656 3366 4563 \r\nz\r\n\" id=\"DejaVuSans-36\" transform=\"scale(0.015625)\"/>\r\n       </defs>\r\n       <use xlink:href=\"#DejaVuSans-36\"/>\r\n       <use x=\"63.623047\" xlink:href=\"#DejaVuSans-30\"/>\r\n      </g>\r\n     </g>\r\n    </g>\r\n    <g id=\"ytick_8\">\r\n     <g id=\"line2d_12\">\r\n      <g>\r\n       <use style=\"stroke:#000000;stroke-width:0.8;\" x=\"40.88125\" xlink:href=\"#mdcb64ef8ba\" y=\"84.799871\"/>\r\n      </g>\r\n     </g>\r\n     <g id=\"text_13\">\r\n      <!-- 70 -->\r\n      <g transform=\"translate(21.15625 88.59909)scale(0.1 -0.1)\">\r\n       <defs>\r\n        <path d=\"M 525 4666 \r\nL 3525 4666 \r\nL 3525 4397 \r\nL 1831 0 \r\nL 1172 0 \r\nL 2766 4134 \r\nL 525 4134 \r\nL 525 4666 \r\nz\r\n\" id=\"DejaVuSans-37\" transform=\"scale(0.015625)\"/>\r\n       </defs>\r\n       <use xlink:href=\"#DejaVuSans-37\"/>\r\n       <use x=\"63.623047\" xlink:href=\"#DejaVuSans-30\"/>\r\n      </g>\r\n     </g>\r\n    </g>\r\n    <g id=\"ytick_9\">\r\n     <g id=\"line2d_13\">\r\n      <g>\r\n       <use style=\"stroke:#000000;stroke-width:0.8;\" x=\"40.88125\" xlink:href=\"#mdcb64ef8ba\" y=\"47.131549\"/>\r\n      </g>\r\n     </g>\r\n     <g id=\"text_14\">\r\n      <!-- 80 -->\r\n      <g transform=\"translate(21.15625 50.930768)scale(0.1 -0.1)\">\r\n       <defs>\r\n        <path d=\"M 2034 2216 \r\nQ 1584 2216 1326 1975 \r\nQ 1069 1734 1069 1313 \r\nQ 1069 891 1326 650 \r\nQ 1584 409 2034 409 \r\nQ 2484 409 2743 651 \r\nQ 3003 894 3003 1313 \r\nQ 3003 1734 2745 1975 \r\nQ 2488 2216 2034 2216 \r\nz\r\nM 1403 2484 \r\nQ 997 2584 770 2862 \r\nQ 544 3141 544 3541 \r\nQ 544 4100 942 4425 \r\nQ 1341 4750 2034 4750 \r\nQ 2731 4750 3128 4425 \r\nQ 3525 4100 3525 3541 \r\nQ 3525 3141 3298 2862 \r\nQ 3072 2584 2669 2484 \r\nQ 3125 2378 3379 2068 \r\nQ 3634 1759 3634 1313 \r\nQ 3634 634 3220 271 \r\nQ 2806 -91 2034 -91 \r\nQ 1263 -91 848 271 \r\nQ 434 634 434 1313 \r\nQ 434 1759 690 2068 \r\nQ 947 2378 1403 2484 \r\nz\r\nM 1172 3481 \r\nQ 1172 3119 1398 2916 \r\nQ 1625 2713 2034 2713 \r\nQ 2441 2713 2670 2916 \r\nQ 2900 3119 2900 3481 \r\nQ 2900 3844 2670 4047 \r\nQ 2441 4250 2034 4250 \r\nQ 1625 4250 1398 4047 \r\nQ 1172 3844 1172 3481 \r\nz\r\n\" id=\"DejaVuSans-38\" transform=\"scale(0.015625)\"/>\r\n       </defs>\r\n       <use xlink:href=\"#DejaVuSans-38\"/>\r\n       <use x=\"63.623047\" xlink:href=\"#DejaVuSans-30\"/>\r\n      </g>\r\n     </g>\r\n    </g>\r\n    <g id=\"text_15\">\r\n     <!-- avg_Length -->\r\n     <g transform=\"translate(14.798437 214.342656)rotate(-90)scale(0.1 -0.1)\">\r\n      <defs>\r\n       <path d=\"M 3263 -1063 \r\nL 3263 -1509 \r\nL -63 -1509 \r\nL -63 -1063 \r\nL 3263 -1063 \r\nz\r\n\" id=\"DejaVuSans-5f\" transform=\"scale(0.015625)\"/>\r\n       <path d=\"M 628 4666 \r\nL 1259 4666 \r\nL 1259 531 \r\nL 3531 531 \r\nL 3531 0 \r\nL 628 0 \r\nL 628 4666 \r\nz\r\n\" id=\"DejaVuSans-4c\" transform=\"scale(0.015625)\"/>\r\n       <path d=\"M 3513 2113 \r\nL 3513 0 \r\nL 2938 0 \r\nL 2938 2094 \r\nQ 2938 2591 2744 2837 \r\nQ 2550 3084 2163 3084 \r\nQ 1697 3084 1428 2787 \r\nQ 1159 2491 1159 1978 \r\nL 1159 0 \r\nL 581 0 \r\nL 581 4863 \r\nL 1159 4863 \r\nL 1159 2956 \r\nQ 1366 3272 1645 3428 \r\nQ 1925 3584 2291 3584 \r\nQ 2894 3584 3203 3211 \r\nQ 3513 2838 3513 2113 \r\nz\r\n\" id=\"DejaVuSans-68\" transform=\"scale(0.015625)\"/>\r\n      </defs>\r\n      <use xlink:href=\"#DejaVuSans-61\"/>\r\n      <use x=\"61.279297\" xlink:href=\"#DejaVuSans-76\"/>\r\n      <use x=\"120.458984\" xlink:href=\"#DejaVuSans-67\"/>\r\n      <use x=\"183.935547\" xlink:href=\"#DejaVuSans-5f\"/>\r\n      <use x=\"233.935547\" xlink:href=\"#DejaVuSans-4c\"/>\r\n      <use x=\"287.898438\" xlink:href=\"#DejaVuSans-65\"/>\r\n      <use x=\"349.421875\" xlink:href=\"#DejaVuSans-6e\"/>\r\n      <use x=\"412.800781\" xlink:href=\"#DejaVuSans-67\"/>\r\n      <use x=\"476.277344\" xlink:href=\"#DejaVuSans-74\"/>\r\n      <use x=\"515.486328\" xlink:href=\"#DejaVuSans-68\"/>\r\n     </g>\r\n    </g>\r\n   </g>\r\n   <g id=\"line2d_14\">\r\n    <path clip-path=\"url(#pf768dbdf68)\" d=\"M 124.58125 41.15528 \r\nL 124.58125 37.849554 \r\n\" style=\"fill:none;stroke:#424242;stroke-linecap:square;stroke-width:2.7;\"/>\r\n   </g>\r\n   <g id=\"line2d_15\">\r\n    <path clip-path=\"url(#pf768dbdf68)\" d=\"M 291.98125 71.618235 \r\nL 291.98125 67.466001 \r\n\" style=\"fill:none;stroke:#424242;stroke-linecap:square;stroke-width:2.7;\"/>\r\n   </g>\r\n   <g id=\"line2d_16\">\r\n    <path clip-path=\"url(#pf768dbdf68)\" d=\"M 459.38125 79.370382 \r\nL 459.38125 72.245418 \r\n\" style=\"fill:none;stroke:#424242;stroke-linecap:square;stroke-width:2.7;\"/>\r\n   </g>\r\n   <g id=\"line2d_17\">\r\n    <path clip-path=\"url(#pf768dbdf68)\" d=\"M 626.78125 49.098527 \r\nL 626.78125 41.198498 \r\n\" style=\"fill:none;stroke:#424242;stroke-linecap:square;stroke-width:2.7;\"/>\r\n   </g>\r\n   <g id=\"patch_7\">\r\n    <path d=\"M 40.88125 348.478125 \r\nL 40.88125 22.318125 \r\n\" style=\"fill:none;stroke:#000000;stroke-linecap:square;stroke-linejoin:miter;stroke-width:0.8;\"/>\r\n   </g>\r\n   <g id=\"patch_8\">\r\n    <path d=\"M 710.48125 348.478125 \r\nL 710.48125 22.318125 \r\n\" style=\"fill:none;stroke:#000000;stroke-linecap:square;stroke-linejoin:miter;stroke-width:0.8;\"/>\r\n   </g>\r\n   <g id=\"patch_9\">\r\n    <path d=\"M 40.88125 348.478125 \r\nL 710.48125 348.478125 \r\n\" style=\"fill:none;stroke:#000000;stroke-linecap:square;stroke-linejoin:miter;stroke-width:0.8;\"/>\r\n   </g>\r\n   <g id=\"patch_10\">\r\n    <path d=\"M 40.88125 22.318125 \r\nL 710.48125 22.318125 \r\n\" style=\"fill:none;stroke:#000000;stroke-linecap:square;stroke-linejoin:miter;stroke-width:0.8;\"/>\r\n   </g>\r\n   <g id=\"text_16\">\r\n    <!-- Average Length of Cleaned_Message by Sentiment -->\r\n    <g transform=\"translate(222.8275 16.318125)scale(0.12 -0.12)\">\r\n     <defs>\r\n      <path d=\"M 2188 4044 \r\nL 1331 1722 \r\nL 3047 1722 \r\nL 2188 4044 \r\nz\r\nM 1831 4666 \r\nL 2547 4666 \r\nL 4325 0 \r\nL 3669 0 \r\nL 3244 1197 \r\nL 1141 1197 \r\nL 716 0 \r\nL 50 0 \r\nL 1831 4666 \r\nz\r\n\" id=\"DejaVuSans-41\" transform=\"scale(0.015625)\"/>\r\n      <path id=\"DejaVuSans-20\" transform=\"scale(0.015625)\"/>\r\n      <path d=\"M 2375 4863 \r\nL 2375 4384 \r\nL 1825 4384 \r\nQ 1516 4384 1395 4259 \r\nQ 1275 4134 1275 3809 \r\nL 1275 3500 \r\nL 2222 3500 \r\nL 2222 3053 \r\nL 1275 3053 \r\nL 1275 0 \r\nL 697 0 \r\nL 697 3053 \r\nL 147 3053 \r\nL 147 3500 \r\nL 697 3500 \r\nL 697 3744 \r\nQ 697 4328 969 4595 \r\nQ 1241 4863 1831 4863 \r\nL 2375 4863 \r\nz\r\n\" id=\"DejaVuSans-66\" transform=\"scale(0.015625)\"/>\r\n      <path d=\"M 4122 4306 \r\nL 4122 3641 \r\nQ 3803 3938 3442 4084 \r\nQ 3081 4231 2675 4231 \r\nQ 1875 4231 1450 3742 \r\nQ 1025 3253 1025 2328 \r\nQ 1025 1406 1450 917 \r\nQ 1875 428 2675 428 \r\nQ 3081 428 3442 575 \r\nQ 3803 722 4122 1019 \r\nL 4122 359 \r\nQ 3791 134 3420 21 \r\nQ 3050 -91 2638 -91 \r\nQ 1578 -91 968 557 \r\nQ 359 1206 359 2328 \r\nQ 359 3453 968 4101 \r\nQ 1578 4750 2638 4750 \r\nQ 3056 4750 3426 4639 \r\nQ 3797 4528 4122 4306 \r\nz\r\n\" id=\"DejaVuSans-43\" transform=\"scale(0.015625)\"/>\r\n      <path d=\"M 2906 2969 \r\nL 2906 4863 \r\nL 3481 4863 \r\nL 3481 0 \r\nL 2906 0 \r\nL 2906 525 \r\nQ 2725 213 2448 61 \r\nQ 2172 -91 1784 -91 \r\nQ 1150 -91 751 415 \r\nQ 353 922 353 1747 \r\nQ 353 2572 751 3078 \r\nQ 1150 3584 1784 3584 \r\nQ 2172 3584 2448 3432 \r\nQ 2725 3281 2906 2969 \r\nz\r\nM 947 1747 \r\nQ 947 1113 1208 752 \r\nQ 1469 391 1925 391 \r\nQ 2381 391 2643 752 \r\nQ 2906 1113 2906 1747 \r\nQ 2906 2381 2643 2742 \r\nQ 2381 3103 1925 3103 \r\nQ 1469 3103 1208 2742 \r\nQ 947 2381 947 1747 \r\nz\r\n\" id=\"DejaVuSans-64\" transform=\"scale(0.015625)\"/>\r\n      <path d=\"M 628 4666 \r\nL 1569 4666 \r\nL 2759 1491 \r\nL 3956 4666 \r\nL 4897 4666 \r\nL 4897 0 \r\nL 4281 0 \r\nL 4281 4097 \r\nL 3078 897 \r\nL 2444 897 \r\nL 1241 4097 \r\nL 1241 0 \r\nL 628 0 \r\nL 628 4666 \r\nz\r\n\" id=\"DejaVuSans-4d\" transform=\"scale(0.015625)\"/>\r\n      <path d=\"M 3116 1747 \r\nQ 3116 2381 2855 2742 \r\nQ 2594 3103 2138 3103 \r\nQ 1681 3103 1420 2742 \r\nQ 1159 2381 1159 1747 \r\nQ 1159 1113 1420 752 \r\nQ 1681 391 2138 391 \r\nQ 2594 391 2855 752 \r\nQ 3116 1113 3116 1747 \r\nz\r\nM 1159 2969 \r\nQ 1341 3281 1617 3432 \r\nQ 1894 3584 2278 3584 \r\nQ 2916 3584 3314 3078 \r\nQ 3713 2572 3713 1747 \r\nQ 3713 922 3314 415 \r\nQ 2916 -91 2278 -91 \r\nQ 1894 -91 1617 61 \r\nQ 1341 213 1159 525 \r\nL 1159 0 \r\nL 581 0 \r\nL 581 4863 \r\nL 1159 4863 \r\nL 1159 2969 \r\nz\r\n\" id=\"DejaVuSans-62\" transform=\"scale(0.015625)\"/>\r\n      <path d=\"M 2059 -325 \r\nQ 1816 -950 1584 -1140 \r\nQ 1353 -1331 966 -1331 \r\nL 506 -1331 \r\nL 506 -850 \r\nL 844 -850 \r\nQ 1081 -850 1212 -737 \r\nQ 1344 -625 1503 -206 \r\nL 1606 56 \r\nL 191 3500 \r\nL 800 3500 \r\nL 1894 763 \r\nL 2988 3500 \r\nL 3597 3500 \r\nL 2059 -325 \r\nz\r\n\" id=\"DejaVuSans-79\" transform=\"scale(0.015625)\"/>\r\n     </defs>\r\n     <use xlink:href=\"#DejaVuSans-41\"/>\r\n     <use x=\"62.533203\" xlink:href=\"#DejaVuSans-76\"/>\r\n     <use x=\"121.712891\" xlink:href=\"#DejaVuSans-65\"/>\r\n     <use x=\"183.236328\" xlink:href=\"#DejaVuSans-72\"/>\r\n     <use x=\"224.349609\" xlink:href=\"#DejaVuSans-61\"/>\r\n     <use x=\"285.628906\" xlink:href=\"#DejaVuSans-67\"/>\r\n     <use x=\"349.105469\" xlink:href=\"#DejaVuSans-65\"/>\r\n     <use x=\"410.628906\" xlink:href=\"#DejaVuSans-20\"/>\r\n     <use x=\"442.416016\" xlink:href=\"#DejaVuSans-4c\"/>\r\n     <use x=\"496.378906\" xlink:href=\"#DejaVuSans-65\"/>\r\n     <use x=\"557.902344\" xlink:href=\"#DejaVuSans-6e\"/>\r\n     <use x=\"621.28125\" xlink:href=\"#DejaVuSans-67\"/>\r\n     <use x=\"684.757812\" xlink:href=\"#DejaVuSans-74\"/>\r\n     <use x=\"723.966797\" xlink:href=\"#DejaVuSans-68\"/>\r\n     <use x=\"787.345703\" xlink:href=\"#DejaVuSans-20\"/>\r\n     <use x=\"819.132812\" xlink:href=\"#DejaVuSans-6f\"/>\r\n     <use x=\"880.314453\" xlink:href=\"#DejaVuSans-66\"/>\r\n     <use x=\"915.519531\" xlink:href=\"#DejaVuSans-20\"/>\r\n     <use x=\"947.306641\" xlink:href=\"#DejaVuSans-43\"/>\r\n     <use x=\"1017.130859\" xlink:href=\"#DejaVuSans-6c\"/>\r\n     <use x=\"1044.914062\" xlink:href=\"#DejaVuSans-65\"/>\r\n     <use x=\"1106.4375\" xlink:href=\"#DejaVuSans-61\"/>\r\n     <use x=\"1167.716797\" xlink:href=\"#DejaVuSans-6e\"/>\r\n     <use x=\"1231.095703\" xlink:href=\"#DejaVuSans-65\"/>\r\n     <use x=\"1292.619141\" xlink:href=\"#DejaVuSans-64\"/>\r\n     <use x=\"1356.095703\" xlink:href=\"#DejaVuSans-5f\"/>\r\n     <use x=\"1406.095703\" xlink:href=\"#DejaVuSans-4d\"/>\r\n     <use x=\"1492.375\" xlink:href=\"#DejaVuSans-65\"/>\r\n     <use x=\"1553.898438\" xlink:href=\"#DejaVuSans-73\"/>\r\n     <use x=\"1605.998047\" xlink:href=\"#DejaVuSans-73\"/>\r\n     <use x=\"1658.097656\" xlink:href=\"#DejaVuSans-61\"/>\r\n     <use x=\"1719.376953\" xlink:href=\"#DejaVuSans-67\"/>\r\n     <use x=\"1782.853516\" xlink:href=\"#DejaVuSans-65\"/>\r\n     <use x=\"1844.376953\" xlink:href=\"#DejaVuSans-20\"/>\r\n     <use x=\"1876.164062\" xlink:href=\"#DejaVuSans-62\"/>\r\n     <use x=\"1939.640625\" xlink:href=\"#DejaVuSans-79\"/>\r\n     <use x=\"1998.820312\" xlink:href=\"#DejaVuSans-20\"/>\r\n     <use x=\"2030.607422\" xlink:href=\"#DejaVuSans-53\"/>\r\n     <use x=\"2094.083984\" xlink:href=\"#DejaVuSans-65\"/>\r\n     <use x=\"2155.607422\" xlink:href=\"#DejaVuSans-6e\"/>\r\n     <use x=\"2218.986328\" xlink:href=\"#DejaVuSans-74\"/>\r\n     <use x=\"2258.195312\" xlink:href=\"#DejaVuSans-69\"/>\r\n     <use x=\"2285.978516\" xlink:href=\"#DejaVuSans-6d\"/>\r\n     <use x=\"2383.390625\" xlink:href=\"#DejaVuSans-65\"/>\r\n     <use x=\"2444.914062\" xlink:href=\"#DejaVuSans-6e\"/>\r\n     <use x=\"2508.292969\" xlink:href=\"#DejaVuSans-74\"/>\r\n    </g>\r\n   </g>\r\n  </g>\r\n </g>\r\n <defs>\r\n  <clipPath id=\"pf768dbdf68\">\r\n   <rect height=\"326.16\" width=\"669.6\" x=\"40.88125\" y=\"22.318125\"/>\r\n  </clipPath>\r\n </defs>\r\n</svg>\r\n",
      "image/png": "[encoded data removed]"
     },
     "metadata": {
      "needs_background": "light"
     }
    }
   ],
   "metadata": {
    "execution": {
     "iopub.execute_input": "2021-06-10T11:00:33.907815Z",
     "iopub.status.busy": "2021-06-10T11:00:33.907160Z",
     "iopub.status.idle": "2021-06-10T11:00:34.330572Z",
     "shell.execute_reply": "2021-06-10T11:00:34.331114Z",
     "shell.execute_reply.started": "2021-06-10T09:31:16.088029Z"
    },
    "papermill": {
     "duration": 0.480759,
     "end_time": "2021-06-10T11:00:34.331303",
     "exception": false,
     "start_time": "2021-06-10T11:00:33.850544",
     "status": "completed"
    },
    "tags": []
   }
  },
  {
   "cell_type": "code",
   "execution_count": null,
   "source": [
    "#View of average length of tweet\n",
    "\n",
    "rel = df.groupby('sentiment').mean()\n",
    "round(rel,2)"
   ],
   "outputs": [],
   "metadata": {}
  },
  {
   "cell_type": "markdown",
   "source": [
    "### Observations:\n",
    " - On avarage tweet length is between 70 - 80 words for each sentiment category"
   ],
   "metadata": {}
  },
  {
   "cell_type": "markdown",
   "source": [
    "## Most Common words in our Target-Selected Message"
   ],
   "metadata": {}
  },
  {
   "cell_type": "code",
   "execution_count": 28,
   "source": [
    "\n",
    "df['new_lis'] = df['clean_message'].apply(lambda x:str(x).split())\n",
    "words = Counter([item for sublist in df['new_lis'] for item in sublist])\n",
    "new = pd.DataFrame(words.most_common(20))\n",
    "new.columns = ['Common_words','count']\n",
    "new.style.background_gradient(cmap='Blues')"
   ],
   "outputs": [
    {
     "output_type": "execute_result",
     "data": {
      "text/plain": [
       "<pandas.io.formats.style.Styler at 0x1c3e51c5970>"
      ],
      "text/html": "<style  type=\"text/css\" >\n#T_543f4_row0_col1{\n            background-color:  #08306b;\n            color:  #f1f1f1;\n        }#T_543f4_row1_col1{\n            background-color:  #083776;\n            color:  #f1f1f1;\n        }#T_543f4_row2_col1{\n            background-color:  #c1d9ed;\n            color:  #000000;\n        }#T_543f4_row3_col1{\n            background-color:  #c7dbef;\n            color:  #000000;\n        }#T_543f4_row4_col1{\n            background-color:  #d9e7f5;\n            color:  #000000;\n        }#T_543f4_row5_col1{\n            background-color:  #ecf4fb;\n            color:  #000000;\n        }#T_543f4_row6_col1{\n            background-color:  #eff6fc;\n            color:  #000000;\n        }#T_543f4_row7_col1,#T_543f4_row8_col1{\n            background-color:  #f2f8fd;\n            color:  #000000;\n        }#T_543f4_row9_col1{\n            background-color:  #f3f8fe;\n            color:  #000000;\n        }#T_543f4_row10_col1{\n            background-color:  #f4f9fe;\n            color:  #000000;\n        }#T_543f4_row11_col1{\n            background-color:  #f5f9fe;\n            color:  #000000;\n        }#T_543f4_row12_col1,#T_543f4_row13_col1,#T_543f4_row14_col1{\n            background-color:  #f5fafe;\n            color:  #000000;\n        }#T_543f4_row15_col1,#T_543f4_row16_col1,#T_543f4_row17_col1{\n            background-color:  #f6faff;\n            color:  #000000;\n        }#T_543f4_row18_col1,#T_543f4_row19_col1{\n            background-color:  #f7fbff;\n            color:  #000000;\n        }</style><table id=\"T_543f4_\" ><thead>    <tr>        <th class=\"blank level0\" ></th>        <th class=\"col_heading level0 col0\" >Common_words</th>        <th class=\"col_heading level0 col1\" >count</th>    </tr></thead><tbody>\n                <tr>\n                        <th id=\"T_543f4_level0_row0\" class=\"row_heading level0 row0\" >0</th>\n                        <td id=\"T_543f4_row0_col0\" class=\"data row0 col0\" >climate</td>\n                        <td id=\"T_543f4_row0_col1\" class=\"data row0 col1\" >13019</td>\n            </tr>\n            <tr>\n                        <th id=\"T_543f4_level0_row1\" class=\"row_heading level0 row1\" >1</th>\n                        <td id=\"T_543f4_row1_col0\" class=\"data row1 col0\" >change</td>\n                        <td id=\"T_543f4_row1_col1\" class=\"data row1 col1\" >12645</td>\n            </tr>\n            <tr>\n                        <th id=\"T_543f4_level0_row2\" class=\"row_heading level0 row2\" >2</th>\n                        <td id=\"T_543f4_row2_col0\" class=\"data row2 col0\" >global</td>\n                        <td id=\"T_543f4_row2_col1\" class=\"data row2 col1\" >3796</td>\n            </tr>\n            <tr>\n                        <th id=\"T_543f4_level0_row3\" class=\"row_heading level0 row3\" >3</th>\n                        <td id=\"T_543f4_row3_col0\" class=\"data row3 col0\" >warming</td>\n                        <td id=\"T_543f4_row3_col1\" class=\"data row3 col1\" >3534</td>\n            </tr>\n            <tr>\n                        <th id=\"T_543f4_level0_row4\" class=\"row_heading level0 row4\" >4</th>\n                        <td id=\"T_543f4_row4_col0\" class=\"data row4 col0\" >trump</td>\n                        <td id=\"T_543f4_row4_col1\" class=\"data row4 col1\" >2387</td>\n            </tr>\n            <tr>\n                        <th id=\"T_543f4_level0_row5\" class=\"row_heading level0 row5\" >5</th>\n                        <td id=\"T_543f4_row5_col0\" class=\"data row5 col0\" >believe</td>\n                        <td id=\"T_543f4_row5_col1\" class=\"data row5 col1\" >1158</td>\n            </tr>\n            <tr>\n                        <th id=\"T_543f4_level0_row6\" class=\"row_heading level0 row6\" >6</th>\n                        <td id=\"T_543f4_row6_col0\" class=\"data row6 col0\" >amp</td>\n                        <td id=\"T_543f4_row6_col1\" class=\"data row6 col1\" >940</td>\n            </tr>\n            <tr>\n                        <th id=\"T_543f4_level0_row7\" class=\"row_heading level0 row7\" >7</th>\n                        <td id=\"T_543f4_row7_col0\" class=\"data row7 col0\" >world</td>\n                        <td id=\"T_543f4_row7_col1\" class=\"data row7 col1\" >732</td>\n            </tr>\n            <tr>\n                        <th id=\"T_543f4_level0_row8\" class=\"row_heading level0 row8\" >8</th>\n                        <td id=\"T_543f4_row8_col0\" class=\"data row8 col0\" >real</td>\n                        <td id=\"T_543f4_row8_col1\" class=\"data row8 col1\" >720</td>\n            </tr>\n            <tr>\n                        <th id=\"T_543f4_level0_row9\" class=\"row_heading level0 row9\" >9</th>\n                        <td id=\"T_543f4_row9_col0\" class=\"data row9 col0\" >going</td>\n                        <td id=\"T_543f4_row9_col1\" class=\"data row9 col1\" >670</td>\n            </tr>\n            <tr>\n                        <th id=\"T_543f4_level0_row10\" class=\"row_heading level0 row10\" >10</th>\n                        <td id=\"T_543f4_row10_col0\" class=\"data row10 col0\" >people</td>\n                        <td id=\"T_543f4_row10_col1\" class=\"data row10 col1\" >618</td>\n            </tr>\n            <tr>\n                        <th id=\"T_543f4_level0_row11\" class=\"row_heading level0 row11\" >11</th>\n                        <td id=\"T_543f4_row11_col0\" class=\"data row11 col0\" >epa</td>\n                        <td id=\"T_543f4_row11_col1\" class=\"data row11 col1\" >600</td>\n            </tr>\n            <tr>\n                        <th id=\"T_543f4_level0_row12\" class=\"row_heading level0 row12\" >12</th>\n                        <td id=\"T_543f4_row12_col0\" class=\"data row12 col0\" >president</td>\n                        <td id=\"T_543f4_row12_col1\" class=\"data row12 col1\" >567</td>\n            </tr>\n            <tr>\n                        <th id=\"T_543f4_level0_row13\" class=\"row_heading level0 row13\" >13</th>\n                        <td id=\"T_543f4_row13_col0\" class=\"data row13 col0\" >new</td>\n                        <td id=\"T_543f4_row13_col1\" class=\"data row13 col1\" >542</td>\n            </tr>\n            <tr>\n                        <th id=\"T_543f4_level0_row14\" class=\"row_heading level0 row14\" >14</th>\n                        <td id=\"T_543f4_row14_col0\" class=\"data row14 col0\" >via</td>\n                        <td id=\"T_543f4_row14_col1\" class=\"data row14 col1\" >540</td>\n            </tr>\n            <tr>\n                        <th id=\"T_543f4_level0_row15\" class=\"row_heading level0 row15\" >15</th>\n                        <td id=\"T_543f4_row15_col0\" class=\"data row15 col0\" >science</td>\n                        <td id=\"T_543f4_row15_col1\" class=\"data row15 col1\" >481</td>\n            </tr>\n            <tr>\n                        <th id=\"T_543f4_level0_row16\" class=\"row_heading level0 row16\" >16</th>\n                        <td id=\"T_543f4_row16_col0\" class=\"data row16 col0\" >fight</td>\n                        <td id=\"T_543f4_row16_col1\" class=\"data row16 col1\" >474</td>\n            </tr>\n            <tr>\n                        <th id=\"T_543f4_level0_row17\" class=\"row_heading level0 row17\" >17</th>\n                        <td id=\"T_543f4_row17_col0\" class=\"data row17 col0\" >like</td>\n                        <td id=\"T_543f4_row17_col1\" class=\"data row17 col1\" >473</td>\n            </tr>\n            <tr>\n                        <th id=\"T_543f4_level0_row18\" class=\"row_heading level0 row18\" >18</th>\n                        <td id=\"T_543f4_row18_col0\" class=\"data row18 col0\" >says</td>\n                        <td id=\"T_543f4_row18_col1\" class=\"data row18 col1\" >430</td>\n            </tr>\n            <tr>\n                        <th id=\"T_543f4_level0_row19\" class=\"row_heading level0 row19\" >19</th>\n                        <td id=\"T_543f4_row19_col0\" class=\"data row19 col0\" >die</td>\n                        <td id=\"T_543f4_row19_col1\" class=\"data row19 col1\" >421</td>\n            </tr>\n    </tbody></table>"
     },
     "metadata": {},
     "execution_count": 28
    }
   ],
   "metadata": {}
  },
  {
   "cell_type": "code",
   "execution_count": 29,
   "source": [
    "import plotly.express as px\n",
    "fig = px.bar(new, x=\"count\", y=\"Common_words\", color_discrete_sequence =['blue']*len(df), title='Commmon Words in tweet messages', orientation='h', \n",
    "             width=600, height=600)\n",
    "fig.show()"
   ],
   "outputs": [
    {
     "output_type": "display_data",
     "data": {
      "application/vnd.plotly.v1+json": {
       "config": {
        "plotlyServerURL": "https://plot.ly"
       },
       "data": [
        {
         "alignmentgroup": "True",
         "hovertemplate": "count=%{x}<br>Common_words=%{y}<extra></extra>",
         "legendgroup": "",
         "marker": {
          "color": "blue"
         },
         "name": "",
         "offsetgroup": "",
         "orientation": "h",
         "showlegend": false,
         "textposition": "auto",
         "type": "bar",
         "x": [
          13019,
          12645,
          3796,
          3534,
          2387,
          1158,
          940,
          732,
          720,
          670,
          618,
          600,
          567,
          542,
          540,
          481,
          474,
          473,
          430,
          421
         ],
         "xaxis": "x",
         "y": [
          "climate",
          "change",
          "global",
          "warming",
          "trump",
          "believe",
          "amp",
          "world",
          "real",
          "going",
          "people",
          "epa",
          "president",
          "new",
          "via",
          "science",
          "fight",
          "like",
          "says",
          "die"
         ],
         "yaxis": "y"
        }
       ],
       "layout": {
        "barmode": "relative",
        "height": 600,
        "legend": {
         "tracegroupgap": 0
        },
        "template": {
         "data": {
          "bar": [
           {
            "error_x": {
             "color": "#2a3f5f"
            },
            "error_y": {
             "color": "#2a3f5f"
            },
            "marker": {
             "line": {
              "color": "#E5ECF6",
              "width": 0.5
             }
            },
            "type": "bar"
           }
          ],
          "barpolar": [
           {
            "marker": {
             "line": {
              "color": "#E5ECF6",
              "width": 0.5
             }
            },
            "type": "barpolar"
           }
          ],
          "carpet": [
           {
            "aaxis": {
             "endlinecolor": "#2a3f5f",
             "gridcolor": "white",
             "linecolor": "white",
             "minorgridcolor": "white",
             "startlinecolor": "#2a3f5f"
            },
            "baxis": {
             "endlinecolor": "#2a3f5f",
             "gridcolor": "white",
             "linecolor": "white",
             "minorgridcolor": "white",
             "startlinecolor": "#2a3f5f"
            },
            "type": "carpet"
           }
          ],
          "choropleth": [
           {
            "colorbar": {
             "outlinewidth": 0,
             "ticks": ""
            },
            "type": "choropleth"
           }
          ],
          "contour": [
           {
            "colorbar": {
             "outlinewidth": 0,
             "ticks": ""
            },
            "colorscale": [
             [
              0,
              "#0d0887"
             ],
             [
              0.1111111111111111,
              "#46039f"
             ],
             [
              0.2222222222222222,
              "#7201a8"
             ],
             [
              0.3333333333333333,
              "#9c179e"
             ],
             [
              0.4444444444444444,
              "#bd3786"
             ],
             [
              0.5555555555555556,
              "#d8576b"
             ],
             [
              0.6666666666666666,
              "#ed7953"
             ],
             [
              0.7777777777777778,
              "#fb9f3a"
             ],
             [
              0.8888888888888888,
              "#fdca26"
             ],
             [
              1,
              "#f0f921"
             ]
            ],
            "type": "contour"
           }
          ],
          "contourcarpet": [
           {
            "colorbar": {
             "outlinewidth": 0,
             "ticks": ""
            },
            "type": "contourcarpet"
           }
          ],
          "heatmap": [
           {
            "colorbar": {
             "outlinewidth": 0,
             "ticks": ""
            },
            "colorscale": [
             [
              0,
              "#0d0887"
             ],
             [
              0.1111111111111111,
              "#46039f"
             ],
             [
              0.2222222222222222,
              "#7201a8"
             ],
             [
              0.3333333333333333,
              "#9c179e"
             ],
             [
              0.4444444444444444,
              "#bd3786"
             ],
             [
              0.5555555555555556,
              "#d8576b"
             ],
             [
              0.6666666666666666,
              "#ed7953"
             ],
             [
              0.7777777777777778,
              "#fb9f3a"
             ],
             [
              0.8888888888888888,
              "#fdca26"
             ],
             [
              1,
              "#f0f921"
             ]
            ],
            "type": "heatmap"
           }
          ],
          "heatmapgl": [
           {
            "colorbar": {
             "outlinewidth": 0,
             "ticks": ""
            },
            "colorscale": [
             [
              0,
              "#0d0887"
             ],
             [
              0.1111111111111111,
              "#46039f"
             ],
             [
              0.2222222222222222,
              "#7201a8"
             ],
             [
              0.3333333333333333,
              "#9c179e"
             ],
             [
              0.4444444444444444,
              "#bd3786"
             ],
             [
              0.5555555555555556,
              "#d8576b"
             ],
             [
              0.6666666666666666,
              "#ed7953"
             ],
             [
              0.7777777777777778,
              "#fb9f3a"
             ],
             [
              0.8888888888888888,
              "#fdca26"
             ],
             [
              1,
              "#f0f921"
             ]
            ],
            "type": "heatmapgl"
           }
          ],
          "histogram": [
           {
            "marker": {
             "colorbar": {
              "outlinewidth": 0,
              "ticks": ""
             }
            },
            "type": "histogram"
           }
          ],
          "histogram2d": [
           {
            "colorbar": {
             "outlinewidth": 0,
             "ticks": ""
            },
            "colorscale": [
             [
              0,
              "#0d0887"
             ],
             [
              0.1111111111111111,
              "#46039f"
             ],
             [
              0.2222222222222222,
              "#7201a8"
             ],
             [
              0.3333333333333333,
              "#9c179e"
             ],
             [
              0.4444444444444444,
              "#bd3786"
             ],
             [
              0.5555555555555556,
              "#d8576b"
             ],
             [
              0.6666666666666666,
              "#ed7953"
             ],
             [
              0.7777777777777778,
              "#fb9f3a"
             ],
             [
              0.8888888888888888,
              "#fdca26"
             ],
             [
              1,
              "#f0f921"
             ]
            ],
            "type": "histogram2d"
           }
          ],
          "histogram2dcontour": [
           {
            "colorbar": {
             "outlinewidth": 0,
             "ticks": ""
            },
            "colorscale": [
             [
              0,
              "#0d0887"
             ],
             [
              0.1111111111111111,
              "#46039f"
             ],
             [
              0.2222222222222222,
              "#7201a8"
             ],
             [
              0.3333333333333333,
              "#9c179e"
             ],
             [
              0.4444444444444444,
              "#bd3786"
             ],
             [
              0.5555555555555556,
              "#d8576b"
             ],
             [
              0.6666666666666666,
              "#ed7953"
             ],
             [
              0.7777777777777778,
              "#fb9f3a"
             ],
             [
              0.8888888888888888,
              "#fdca26"
             ],
             [
              1,
              "#f0f921"
             ]
            ],
            "type": "histogram2dcontour"
           }
          ],
          "mesh3d": [
           {
            "colorbar": {
             "outlinewidth": 0,
             "ticks": ""
            },
            "type": "mesh3d"
           }
          ],
          "parcoords": [
           {
            "line": {
             "colorbar": {
              "outlinewidth": 0,
              "ticks": ""
             }
            },
            "type": "parcoords"
           }
          ],
          "pie": [
           {
            "automargin": true,
            "type": "pie"
           }
          ],
          "scatter": [
           {
            "marker": {
             "colorbar": {
              "outlinewidth": 0,
              "ticks": ""
             }
            },
            "type": "scatter"
           }
          ],
          "scatter3d": [
           {
            "line": {
             "colorbar": {
              "outlinewidth": 0,
              "ticks": ""
             }
            },
            "marker": {
             "colorbar": {
              "outlinewidth": 0,
              "ticks": ""
             }
            },
            "type": "scatter3d"
           }
          ],
          "scattercarpet": [
           {
            "marker": {
             "colorbar": {
              "outlinewidth": 0,
              "ticks": ""
             }
            },
            "type": "scattercarpet"
           }
          ],
          "scattergeo": [
           {
            "marker": {
             "colorbar": {
              "outlinewidth": 0,
              "ticks": ""
             }
            },
            "type": "scattergeo"
           }
          ],
          "scattergl": [
           {
            "marker": {
             "colorbar": {
              "outlinewidth": 0,
              "ticks": ""
             }
            },
            "type": "scattergl"
           }
          ],
          "scattermapbox": [
           {
            "marker": {
             "colorbar": {
              "outlinewidth": 0,
              "ticks": ""
             }
            },
            "type": "scattermapbox"
           }
          ],
          "scatterpolar": [
           {
            "marker": {
             "colorbar": {
              "outlinewidth": 0,
              "ticks": ""
             }
            },
            "type": "scatterpolar"
           }
          ],
          "scatterpolargl": [
           {
            "marker": {
             "colorbar": {
              "outlinewidth": 0,
              "ticks": ""
             }
            },
            "type": "scatterpolargl"
           }
          ],
          "scatterternary": [
           {
            "marker": {
             "colorbar": {
              "outlinewidth": 0,
              "ticks": ""
             }
            },
            "type": "scatterternary"
           }
          ],
          "surface": [
           {
            "colorbar": {
             "outlinewidth": 0,
             "ticks": ""
            },
            "colorscale": [
             [
              0,
              "#0d0887"
             ],
             [
              0.1111111111111111,
              "#46039f"
             ],
             [
              0.2222222222222222,
              "#7201a8"
             ],
             [
              0.3333333333333333,
              "#9c179e"
             ],
             [
              0.4444444444444444,
              "#bd3786"
             ],
             [
              0.5555555555555556,
              "#d8576b"
             ],
             [
              0.6666666666666666,
              "#ed7953"
             ],
             [
              0.7777777777777778,
              "#fb9f3a"
             ],
             [
              0.8888888888888888,
              "#fdca26"
             ],
             [
              1,
              "#f0f921"
             ]
            ],
            "type": "surface"
           }
          ],
          "table": [
           {
            "cells": {
             "fill": {
              "color": "#EBF0F8"
             },
             "line": {
              "color": "white"
             }
            },
            "header": {
             "fill": {
              "color": "#C8D4E3"
             },
             "line": {
              "color": "white"
             }
            },
            "type": "table"
           }
          ]
         },
         "layout": {
          "annotationdefaults": {
           "arrowcolor": "#2a3f5f",
           "arrowhead": 0,
           "arrowwidth": 1
          },
          "autotypenumbers": "strict",
          "coloraxis": {
           "colorbar": {
            "outlinewidth": 0,
            "ticks": ""
           }
          },
          "colorscale": {
           "diverging": [
            [
             0,
             "#8e0152"
            ],
            [
             0.1,
             "#c51b7d"
            ],
            [
             0.2,
             "#de77ae"
            ],
            [
             0.3,
             "#f1b6da"
            ],
            [
             0.4,
             "#fde0ef"
            ],
            [
             0.5,
             "#f7f7f7"
            ],
            [
             0.6,
             "#e6f5d0"
            ],
            [
             0.7,
             "#b8e186"
            ],
            [
             0.8,
             "#7fbc41"
            ],
            [
             0.9,
             "#4d9221"
            ],
            [
             1,
             "#276419"
            ]
           ],
           "sequential": [
            [
             0,
             "#0d0887"
            ],
            [
             0.1111111111111111,
             "#46039f"
            ],
            [
             0.2222222222222222,
             "#7201a8"
            ],
            [
             0.3333333333333333,
             "#9c179e"
            ],
            [
             0.4444444444444444,
             "#bd3786"
            ],
            [
             0.5555555555555556,
             "#d8576b"
            ],
            [
             0.6666666666666666,
             "#ed7953"
            ],
            [
             0.7777777777777778,
             "#fb9f3a"
            ],
            [
             0.8888888888888888,
             "#fdca26"
            ],
            [
             1,
             "#f0f921"
            ]
           ],
           "sequentialminus": [
            [
             0,
             "#0d0887"
            ],
            [
             0.1111111111111111,
             "#46039f"
            ],
            [
             0.2222222222222222,
             "#7201a8"
            ],
            [
             0.3333333333333333,
             "#9c179e"
            ],
            [
             0.4444444444444444,
             "#bd3786"
            ],
            [
             0.5555555555555556,
             "#d8576b"
            ],
            [
             0.6666666666666666,
             "#ed7953"
            ],
            [
             0.7777777777777778,
             "#fb9f3a"
            ],
            [
             0.8888888888888888,
             "#fdca26"
            ],
            [
             1,
             "#f0f921"
            ]
           ]
          },
          "colorway": [
           "#636efa",
           "#EF553B",
           "#00cc96",
           "#ab63fa",
           "#FFA15A",
           "#19d3f3",
           "#FF6692",
           "#B6E880",
           "#FF97FF",
           "#FECB52"
          ],
          "font": {
           "color": "#2a3f5f"
          },
          "geo": {
           "bgcolor": "white",
           "lakecolor": "white",
           "landcolor": "#E5ECF6",
           "showlakes": true,
           "showland": true,
           "subunitcolor": "white"
          },
          "hoverlabel": {
           "align": "left"
          },
          "hovermode": "closest",
          "mapbox": {
           "style": "light"
          },
          "paper_bgcolor": "white",
          "plot_bgcolor": "#E5ECF6",
          "polar": {
           "angularaxis": {
            "gridcolor": "white",
            "linecolor": "white",
            "ticks": ""
           },
           "bgcolor": "#E5ECF6",
           "radialaxis": {
            "gridcolor": "white",
            "linecolor": "white",
            "ticks": ""
           }
          },
          "scene": {
           "xaxis": {
            "backgroundcolor": "#E5ECF6",
            "gridcolor": "white",
            "gridwidth": 2,
            "linecolor": "white",
            "showbackground": true,
            "ticks": "",
            "zerolinecolor": "white"
           },
           "yaxis": {
            "backgroundcolor": "#E5ECF6",
            "gridcolor": "white",
            "gridwidth": 2,
            "linecolor": "white",
            "showbackground": true,
            "ticks": "",
            "zerolinecolor": "white"
           },
           "zaxis": {
            "backgroundcolor": "#E5ECF6",
            "gridcolor": "white",
            "gridwidth": 2,
            "linecolor": "white",
            "showbackground": true,
            "ticks": "",
            "zerolinecolor": "white"
           }
          },
          "shapedefaults": {
           "line": {
            "color": "#2a3f5f"
           }
          },
          "ternary": {
           "aaxis": {
            "gridcolor": "white",
            "linecolor": "white",
            "ticks": ""
           },
           "baxis": {
            "gridcolor": "white",
            "linecolor": "white",
            "ticks": ""
           },
           "bgcolor": "#E5ECF6",
           "caxis": {
            "gridcolor": "white",
            "linecolor": "white",
            "ticks": ""
           }
          },
          "title": {
           "x": 0.05
          },
          "xaxis": {
           "automargin": true,
           "gridcolor": "white",
           "linecolor": "white",
           "ticks": "",
           "title": {
            "standoff": 15
           },
           "zerolinecolor": "white",
           "zerolinewidth": 2
          },
          "yaxis": {
           "automargin": true,
           "gridcolor": "white",
           "linecolor": "white",
           "ticks": "",
           "title": {
            "standoff": 15
           },
           "zerolinecolor": "white",
           "zerolinewidth": 2
          }
         }
        },
        "title": {
         "text": "Commmon Words in tweet messages"
        },
        "width": 600,
        "xaxis": {
         "anchor": "y",
         "domain": [
          0,
          1
         ],
         "title": {
          "text": "count"
         }
        },
        "yaxis": {
         "anchor": "x",
         "domain": [
          0,
          1
         ],
         "title": {
          "text": "Common_words"
         }
        }
       }
      }
     },
     "metadata": {}
    }
   ],
   "metadata": {}
  },
  {
   "cell_type": "markdown",
   "source": [
    "### Observations:\n",
    " -"
   ],
   "metadata": {}
  },
  {
   "cell_type": "markdown",
   "source": [
    "## Most common words Sentiments Wise"
   ],
   "metadata": {}
  },
  {
   "cell_type": "code",
   "execution_count": 30,
   "source": [
    "Positive = df[df['sentiment']==1]\n",
    "Negative = df[df['sentiment']==-1]\n",
    "Neutral = df[train_df['sentiment']==0]\n",
    "News = df[df['sentiment']==2]\n"
   ],
   "outputs": [],
   "metadata": {}
  },
  {
   "cell_type": "markdown",
   "source": [
    "### Most common positive(1) words"
   ],
   "metadata": {}
  },
  {
   "cell_type": "code",
   "execution_count": 31,
   "source": [
    "#MosT common positive words\n",
    "top = Counter([item for sublist in Positive['new_lis'] for item in sublist])\n",
    "positive_w = pd.DataFrame(top.most_common(20))\n",
    "positive_w.columns = ['Common_words','count']\n",
    "positive_w.style.background_gradient(cmap='Greens')"
   ],
   "outputs": [
    {
     "output_type": "execute_result",
     "data": {
      "text/plain": [
       "<pandas.io.formats.style.Styler at 0x1c3e5fb5b80>"
      ],
      "text/html": "<style  type=\"text/css\" >\n#T_80d80_row0_col1{\n            background-color:  #00441b;\n            color:  #f1f1f1;\n        }#T_80d80_row1_col1{\n            background-color:  #004c1e;\n            color:  #f1f1f1;\n        }#T_80d80_row2_col1{\n            background-color:  #d7efd1;\n            color:  #000000;\n        }#T_80d80_row3_col1{\n            background-color:  #dbf1d6;\n            color:  #000000;\n        }#T_80d80_row4_col1{\n            background-color:  #e7f6e3;\n            color:  #000000;\n        }#T_80d80_row5_col1{\n            background-color:  #e9f7e5;\n            color:  #000000;\n        }#T_80d80_row6_col1{\n            background-color:  #eff9ec;\n            color:  #000000;\n        }#T_80d80_row7_col1{\n            background-color:  #f1faee;\n            color:  #000000;\n        }#T_80d80_row8_col1{\n            background-color:  #f2faf0;\n            color:  #000000;\n        }#T_80d80_row9_col1{\n            background-color:  #f3faf0;\n            color:  #000000;\n        }#T_80d80_row10_col1{\n            background-color:  #f4fbf1;\n            color:  #000000;\n        }#T_80d80_row11_col1{\n            background-color:  #f5fbf2;\n            color:  #000000;\n        }#T_80d80_row12_col1{\n            background-color:  #f5fbf3;\n            color:  #000000;\n        }#T_80d80_row13_col1,#T_80d80_row14_col1,#T_80d80_row15_col1{\n            background-color:  #f6fcf4;\n            color:  #000000;\n        }#T_80d80_row16_col1,#T_80d80_row17_col1,#T_80d80_row18_col1,#T_80d80_row19_col1{\n            background-color:  #f7fcf5;\n            color:  #000000;\n        }</style><table id=\"T_80d80_\" ><thead>    <tr>        <th class=\"blank level0\" ></th>        <th class=\"col_heading level0 col0\" >Common_words</th>        <th class=\"col_heading level0 col1\" >count</th>    </tr></thead><tbody>\n                <tr>\n                        <th id=\"T_80d80_level0_row0\" class=\"row_heading level0 row0\" >0</th>\n                        <td id=\"T_80d80_row0_col0\" class=\"data row0 col0\" >climate</td>\n                        <td id=\"T_80d80_row0_col1\" class=\"data row0 col1\" >7400</td>\n            </tr>\n            <tr>\n                        <th id=\"T_80d80_level0_row1\" class=\"row_heading level0 row1\" >1</th>\n                        <td id=\"T_80d80_row1_col0\" class=\"data row1 col0\" >change</td>\n                        <td id=\"T_80d80_row1_col1\" class=\"data row1 col1\" >7215</td>\n            </tr>\n            <tr>\n                        <th id=\"T_80d80_level0_row2\" class=\"row_heading level0 row2\" >2</th>\n                        <td id=\"T_80d80_row2_col0\" class=\"data row2 col0\" >global</td>\n                        <td id=\"T_80d80_row2_col1\" class=\"data row2 col1\" >1605</td>\n            </tr>\n            <tr>\n                        <th id=\"T_80d80_level0_row3\" class=\"row_heading level0 row3\" >3</th>\n                        <td id=\"T_80d80_row3_col0\" class=\"data row3 col0\" >warming</td>\n                        <td id=\"T_80d80_row3_col1\" class=\"data row3 col1\" >1462</td>\n            </tr>\n            <tr>\n                        <th id=\"T_80d80_level0_row4\" class=\"row_heading level0 row4\" >4</th>\n                        <td id=\"T_80d80_row4_col0\" class=\"data row4 col0\" >trump</td>\n                        <td id=\"T_80d80_row4_col1\" class=\"data row4 col1\" >1088</td>\n            </tr>\n            <tr>\n                        <th id=\"T_80d80_level0_row5\" class=\"row_heading level0 row5\" >5</th>\n                        <td id=\"T_80d80_row5_col0\" class=\"data row5 col0\" >believe</td>\n                        <td id=\"T_80d80_row5_col1\" class=\"data row5 col1\" >1003</td>\n            </tr>\n            <tr>\n                        <th id=\"T_80d80_level0_row6\" class=\"row_heading level0 row6\" >6</th>\n                        <td id=\"T_80d80_row6_col0\" class=\"data row6 col0\" >amp</td>\n                        <td id=\"T_80d80_row6_col1\" class=\"data row6 col1\" >695</td>\n            </tr>\n            <tr>\n                        <th id=\"T_80d80_level0_row7\" class=\"row_heading level0 row7\" >7</th>\n                        <td id=\"T_80d80_row7_col0\" class=\"data row7 col0\" >going</td>\n                        <td id=\"T_80d80_row7_col1\" class=\"data row7 col1\" >590</td>\n            </tr>\n            <tr>\n                        <th id=\"T_80d80_level0_row8\" class=\"row_heading level0 row8\" >8</th>\n                        <td id=\"T_80d80_row8_col0\" class=\"data row8 col0\" >real</td>\n                        <td id=\"T_80d80_row8_col1\" class=\"data row8 col1\" >518</td>\n            </tr>\n            <tr>\n                        <th id=\"T_80d80_level0_row9\" class=\"row_heading level0 row9\" >9</th>\n                        <td id=\"T_80d80_row9_col0\" class=\"data row9 col0\" >world</td>\n                        <td id=\"T_80d80_row9_col1\" class=\"data row9 col1\" >491</td>\n            </tr>\n            <tr>\n                        <th id=\"T_80d80_level0_row10\" class=\"row_heading level0 row10\" >10</th>\n                        <td id=\"T_80d80_row10_col0\" class=\"data row10 col0\" >people</td>\n                        <td id=\"T_80d80_row10_col1\" class=\"data row10 col1\" >464</td>\n            </tr>\n            <tr>\n                        <th id=\"T_80d80_level0_row11\" class=\"row_heading level0 row11\" >11</th>\n                        <td id=\"T_80d80_row11_col0\" class=\"data row11 col0\" >president</td>\n                        <td id=\"T_80d80_row11_col1\" class=\"data row11 col1\" >410</td>\n            </tr>\n            <tr>\n                        <th id=\"T_80d80_level0_row12\" class=\"row_heading level0 row12\" >12</th>\n                        <td id=\"T_80d80_row12_col0\" class=\"data row12 col0\" >die</td>\n                        <td id=\"T_80d80_row12_col1\" class=\"data row12 col1\" >395</td>\n            </tr>\n            <tr>\n                        <th id=\"T_80d80_level0_row13\" class=\"row_heading level0 row13\" >13</th>\n                        <td id=\"T_80d80_row13_col0\" class=\"data row13 col0\" >thinking</td>\n                        <td id=\"T_80d80_row13_col1\" class=\"data row13 col1\" >339</td>\n            </tr>\n            <tr>\n                        <th id=\"T_80d80_level0_row14\" class=\"row_heading level0 row14\" >14</th>\n                        <td id=\"T_80d80_row14_col0\" class=\"data row14 col0\" >like</td>\n                        <td id=\"T_80d80_row14_col1\" class=\"data row14 col1\" >316</td>\n            </tr>\n            <tr>\n                        <th id=\"T_80d80_level0_row15\" class=\"row_heading level0 row15\" >15</th>\n                        <td id=\"T_80d80_row15_col0\" class=\"data row15 col0\" >husband</td>\n                        <td id=\"T_80d80_row15_col1\" class=\"data row15 col1\" >312</td>\n            </tr>\n            <tr>\n                        <th id=\"T_80d80_level0_row16\" class=\"row_heading level0 row16\" >16</th>\n                        <td id=\"T_80d80_row16_col0\" class=\"data row16 col0\" >stephenschlegel</td>\n                        <td id=\"T_80d80_row16_col1\" class=\"data row16 col1\" >307</td>\n            </tr>\n            <tr>\n                        <th id=\"T_80d80_level0_row17\" class=\"row_heading level0 row17\" >17</th>\n                        <td id=\"T_80d80_row17_col0\" class=\"data row17 col0\" >epa</td>\n                        <td id=\"T_80d80_row17_col1\" class=\"data row17 col1\" >291</td>\n            </tr>\n            <tr>\n                        <th id=\"T_80d80_level0_row18\" class=\"row_heading level0 row18\" >18</th>\n                        <td id=\"T_80d80_row18_col0\" class=\"data row18 col0\" >fight</td>\n                        <td id=\"T_80d80_row18_col1\" class=\"data row18 col1\" >288</td>\n            </tr>\n            <tr>\n                        <th id=\"T_80d80_level0_row19\" class=\"row_heading level0 row19\" >19</th>\n                        <td id=\"T_80d80_row19_col0\" class=\"data row19 col0\" >new</td>\n                        <td id=\"T_80d80_row19_col1\" class=\"data row19 col1\" >284</td>\n            </tr>\n    </tbody></table>"
     },
     "metadata": {},
     "execution_count": 31
    }
   ],
   "metadata": {}
  },
  {
   "cell_type": "code",
   "execution_count": 37,
   "source": [
    "fig = px.bar(positive_w, x=\"count\", y=\"Common_words\", title='Most Commmon Positive(1) Words', orientation='h', \n",
    "             width=600, height=600)\n",
    "fig.show()"
   ],
   "outputs": [
    {
     "output_type": "display_data",
     "data": {
      "application/vnd.plotly.v1+json": {
       "config": {
        "plotlyServerURL": "https://plot.ly"
       },
       "data": [
        {
         "alignmentgroup": "True",
         "hovertemplate": "count=%{x}<br>Common_words=%{y}<extra></extra>",
         "legendgroup": "",
         "marker": {
          "color": "#636efa"
         },
         "name": "",
         "offsetgroup": "",
         "orientation": "h",
         "showlegend": false,
         "textposition": "auto",
         "type": "bar",
         "x": [
          7400,
          7215,
          1605,
          1462,
          1088,
          1003,
          695,
          590,
          518,
          491,
          464,
          410,
          395,
          339,
          316,
          312,
          307,
          291,
          288,
          284
         ],
         "xaxis": "x",
         "y": [
          "climate",
          "change",
          "global",
          "warming",
          "trump",
          "believe",
          "amp",
          "going",
          "real",
          "world",
          "people",
          "president",
          "die",
          "thinking",
          "like",
          "husband",
          "stephenschlegel",
          "epa",
          "fight",
          "new"
         ],
         "yaxis": "y"
        }
       ],
       "layout": {
        "barmode": "relative",
        "height": 600,
        "legend": {
         "tracegroupgap": 0
        },
        "template": {
         "data": {
          "bar": [
           {
            "error_x": {
             "color": "#2a3f5f"
            },
            "error_y": {
             "color": "#2a3f5f"
            },
            "marker": {
             "line": {
              "color": "#E5ECF6",
              "width": 0.5
             }
            },
            "type": "bar"
           }
          ],
          "barpolar": [
           {
            "marker": {
             "line": {
              "color": "#E5ECF6",
              "width": 0.5
             }
            },
            "type": "barpolar"
           }
          ],
          "carpet": [
           {
            "aaxis": {
             "endlinecolor": "#2a3f5f",
             "gridcolor": "white",
             "linecolor": "white",
             "minorgridcolor": "white",
             "startlinecolor": "#2a3f5f"
            },
            "baxis": {
             "endlinecolor": "#2a3f5f",
             "gridcolor": "white",
             "linecolor": "white",
             "minorgridcolor": "white",
             "startlinecolor": "#2a3f5f"
            },
            "type": "carpet"
           }
          ],
          "choropleth": [
           {
            "colorbar": {
             "outlinewidth": 0,
             "ticks": ""
            },
            "type": "choropleth"
           }
          ],
          "contour": [
           {
            "colorbar": {
             "outlinewidth": 0,
             "ticks": ""
            },
            "colorscale": [
             [
              0,
              "#0d0887"
             ],
             [
              0.1111111111111111,
              "#46039f"
             ],
             [
              0.2222222222222222,
              "#7201a8"
             ],
             [
              0.3333333333333333,
              "#9c179e"
             ],
             [
              0.4444444444444444,
              "#bd3786"
             ],
             [
              0.5555555555555556,
              "#d8576b"
             ],
             [
              0.6666666666666666,
              "#ed7953"
             ],
             [
              0.7777777777777778,
              "#fb9f3a"
             ],
             [
              0.8888888888888888,
              "#fdca26"
             ],
             [
              1,
              "#f0f921"
             ]
            ],
            "type": "contour"
           }
          ],
          "contourcarpet": [
           {
            "colorbar": {
             "outlinewidth": 0,
             "ticks": ""
            },
            "type": "contourcarpet"
           }
          ],
          "heatmap": [
           {
            "colorbar": {
             "outlinewidth": 0,
             "ticks": ""
            },
            "colorscale": [
             [
              0,
              "#0d0887"
             ],
             [
              0.1111111111111111,
              "#46039f"
             ],
             [
              0.2222222222222222,
              "#7201a8"
             ],
             [
              0.3333333333333333,
              "#9c179e"
             ],
             [
              0.4444444444444444,
              "#bd3786"
             ],
             [
              0.5555555555555556,
              "#d8576b"
             ],
             [
              0.6666666666666666,
              "#ed7953"
             ],
             [
              0.7777777777777778,
              "#fb9f3a"
             ],
             [
              0.8888888888888888,
              "#fdca26"
             ],
             [
              1,
              "#f0f921"
             ]
            ],
            "type": "heatmap"
           }
          ],
          "heatmapgl": [
           {
            "colorbar": {
             "outlinewidth": 0,
             "ticks": ""
            },
            "colorscale": [
             [
              0,
              "#0d0887"
             ],
             [
              0.1111111111111111,
              "#46039f"
             ],
             [
              0.2222222222222222,
              "#7201a8"
             ],
             [
              0.3333333333333333,
              "#9c179e"
             ],
             [
              0.4444444444444444,
              "#bd3786"
             ],
             [
              0.5555555555555556,
              "#d8576b"
             ],
             [
              0.6666666666666666,
              "#ed7953"
             ],
             [
              0.7777777777777778,
              "#fb9f3a"
             ],
             [
              0.8888888888888888,
              "#fdca26"
             ],
             [
              1,
              "#f0f921"
             ]
            ],
            "type": "heatmapgl"
           }
          ],
          "histogram": [
           {
            "marker": {
             "colorbar": {
              "outlinewidth": 0,
              "ticks": ""
             }
            },
            "type": "histogram"
           }
          ],
          "histogram2d": [
           {
            "colorbar": {
             "outlinewidth": 0,
             "ticks": ""
            },
            "colorscale": [
             [
              0,
              "#0d0887"
             ],
             [
              0.1111111111111111,
              "#46039f"
             ],
             [
              0.2222222222222222,
              "#7201a8"
             ],
             [
              0.3333333333333333,
              "#9c179e"
             ],
             [
              0.4444444444444444,
              "#bd3786"
             ],
             [
              0.5555555555555556,
              "#d8576b"
             ],
             [
              0.6666666666666666,
              "#ed7953"
             ],
             [
              0.7777777777777778,
              "#fb9f3a"
             ],
             [
              0.8888888888888888,
              "#fdca26"
             ],
             [
              1,
              "#f0f921"
             ]
            ],
            "type": "histogram2d"
           }
          ],
          "histogram2dcontour": [
           {
            "colorbar": {
             "outlinewidth": 0,
             "ticks": ""
            },
            "colorscale": [
             [
              0,
              "#0d0887"
             ],
             [
              0.1111111111111111,
              "#46039f"
             ],
             [
              0.2222222222222222,
              "#7201a8"
             ],
             [
              0.3333333333333333,
              "#9c179e"
             ],
             [
              0.4444444444444444,
              "#bd3786"
             ],
             [
              0.5555555555555556,
              "#d8576b"
             ],
             [
              0.6666666666666666,
              "#ed7953"
             ],
             [
              0.7777777777777778,
              "#fb9f3a"
             ],
             [
              0.8888888888888888,
              "#fdca26"
             ],
             [
              1,
              "#f0f921"
             ]
            ],
            "type": "histogram2dcontour"
           }
          ],
          "mesh3d": [
           {
            "colorbar": {
             "outlinewidth": 0,
             "ticks": ""
            },
            "type": "mesh3d"
           }
          ],
          "parcoords": [
           {
            "line": {
             "colorbar": {
              "outlinewidth": 0,
              "ticks": ""
             }
            },
            "type": "parcoords"
           }
          ],
          "pie": [
           {
            "automargin": true,
            "type": "pie"
           }
          ],
          "scatter": [
           {
            "marker": {
             "colorbar": {
              "outlinewidth": 0,
              "ticks": ""
             }
            },
            "type": "scatter"
           }
          ],
          "scatter3d": [
           {
            "line": {
             "colorbar": {
              "outlinewidth": 0,
              "ticks": ""
             }
            },
            "marker": {
             "colorbar": {
              "outlinewidth": 0,
              "ticks": ""
             }
            },
            "type": "scatter3d"
           }
          ],
          "scattercarpet": [
           {
            "marker": {
             "colorbar": {
              "outlinewidth": 0,
              "ticks": ""
             }
            },
            "type": "scattercarpet"
           }
          ],
          "scattergeo": [
           {
            "marker": {
             "colorbar": {
              "outlinewidth": 0,
              "ticks": ""
             }
            },
            "type": "scattergeo"
           }
          ],
          "scattergl": [
           {
            "marker": {
             "colorbar": {
              "outlinewidth": 0,
              "ticks": ""
             }
            },
            "type": "scattergl"
           }
          ],
          "scattermapbox": [
           {
            "marker": {
             "colorbar": {
              "outlinewidth": 0,
              "ticks": ""
             }
            },
            "type": "scattermapbox"
           }
          ],
          "scatterpolar": [
           {
            "marker": {
             "colorbar": {
              "outlinewidth": 0,
              "ticks": ""
             }
            },
            "type": "scatterpolar"
           }
          ],
          "scatterpolargl": [
           {
            "marker": {
             "colorbar": {
              "outlinewidth": 0,
              "ticks": ""
             }
            },
            "type": "scatterpolargl"
           }
          ],
          "scatterternary": [
           {
            "marker": {
             "colorbar": {
              "outlinewidth": 0,
              "ticks": ""
             }
            },
            "type": "scatterternary"
           }
          ],
          "surface": [
           {
            "colorbar": {
             "outlinewidth": 0,
             "ticks": ""
            },
            "colorscale": [
             [
              0,
              "#0d0887"
             ],
             [
              0.1111111111111111,
              "#46039f"
             ],
             [
              0.2222222222222222,
              "#7201a8"
             ],
             [
              0.3333333333333333,
              "#9c179e"
             ],
             [
              0.4444444444444444,
              "#bd3786"
             ],
             [
              0.5555555555555556,
              "#d8576b"
             ],
             [
              0.6666666666666666,
              "#ed7953"
             ],
             [
              0.7777777777777778,
              "#fb9f3a"
             ],
             [
              0.8888888888888888,
              "#fdca26"
             ],
             [
              1,
              "#f0f921"
             ]
            ],
            "type": "surface"
           }
          ],
          "table": [
           {
            "cells": {
             "fill": {
              "color": "#EBF0F8"
             },
             "line": {
              "color": "white"
             }
            },
            "header": {
             "fill": {
              "color": "#C8D4E3"
             },
             "line": {
              "color": "white"
             }
            },
            "type": "table"
           }
          ]
         },
         "layout": {
          "annotationdefaults": {
           "arrowcolor": "#2a3f5f",
           "arrowhead": 0,
           "arrowwidth": 1
          },
          "autotypenumbers": "strict",
          "coloraxis": {
           "colorbar": {
            "outlinewidth": 0,
            "ticks": ""
           }
          },
          "colorscale": {
           "diverging": [
            [
             0,
             "#8e0152"
            ],
            [
             0.1,
             "#c51b7d"
            ],
            [
             0.2,
             "#de77ae"
            ],
            [
             0.3,
             "#f1b6da"
            ],
            [
             0.4,
             "#fde0ef"
            ],
            [
             0.5,
             "#f7f7f7"
            ],
            [
             0.6,
             "#e6f5d0"
            ],
            [
             0.7,
             "#b8e186"
            ],
            [
             0.8,
             "#7fbc41"
            ],
            [
             0.9,
             "#4d9221"
            ],
            [
             1,
             "#276419"
            ]
           ],
           "sequential": [
            [
             0,
             "#0d0887"
            ],
            [
             0.1111111111111111,
             "#46039f"
            ],
            [
             0.2222222222222222,
             "#7201a8"
            ],
            [
             0.3333333333333333,
             "#9c179e"
            ],
            [
             0.4444444444444444,
             "#bd3786"
            ],
            [
             0.5555555555555556,
             "#d8576b"
            ],
            [
             0.6666666666666666,
             "#ed7953"
            ],
            [
             0.7777777777777778,
             "#fb9f3a"
            ],
            [
             0.8888888888888888,
             "#fdca26"
            ],
            [
             1,
             "#f0f921"
            ]
           ],
           "sequentialminus": [
            [
             0,
             "#0d0887"
            ],
            [
             0.1111111111111111,
             "#46039f"
            ],
            [
             0.2222222222222222,
             "#7201a8"
            ],
            [
             0.3333333333333333,
             "#9c179e"
            ],
            [
             0.4444444444444444,
             "#bd3786"
            ],
            [
             0.5555555555555556,
             "#d8576b"
            ],
            [
             0.6666666666666666,
             "#ed7953"
            ],
            [
             0.7777777777777778,
             "#fb9f3a"
            ],
            [
             0.8888888888888888,
             "#fdca26"
            ],
            [
             1,
             "#f0f921"
            ]
           ]
          },
          "colorway": [
           "#636efa",
           "#EF553B",
           "#00cc96",
           "#ab63fa",
           "#FFA15A",
           "#19d3f3",
           "#FF6692",
           "#B6E880",
           "#FF97FF",
           "#FECB52"
          ],
          "font": {
           "color": "#2a3f5f"
          },
          "geo": {
           "bgcolor": "white",
           "lakecolor": "white",
           "landcolor": "#E5ECF6",
           "showlakes": true,
           "showland": true,
           "subunitcolor": "white"
          },
          "hoverlabel": {
           "align": "left"
          },
          "hovermode": "closest",
          "mapbox": {
           "style": "light"
          },
          "paper_bgcolor": "white",
          "plot_bgcolor": "#E5ECF6",
          "polar": {
           "angularaxis": {
            "gridcolor": "white",
            "linecolor": "white",
            "ticks": ""
           },
           "bgcolor": "#E5ECF6",
           "radialaxis": {
            "gridcolor": "white",
            "linecolor": "white",
            "ticks": ""
           }
          },
          "scene": {
           "xaxis": {
            "backgroundcolor": "#E5ECF6",
            "gridcolor": "white",
            "gridwidth": 2,
            "linecolor": "white",
            "showbackground": true,
            "ticks": "",
            "zerolinecolor": "white"
           },
           "yaxis": {
            "backgroundcolor": "#E5ECF6",
            "gridcolor": "white",
            "gridwidth": 2,
            "linecolor": "white",
            "showbackground": true,
            "ticks": "",
            "zerolinecolor": "white"
           },
           "zaxis": {
            "backgroundcolor": "#E5ECF6",
            "gridcolor": "white",
            "gridwidth": 2,
            "linecolor": "white",
            "showbackground": true,
            "ticks": "",
            "zerolinecolor": "white"
           }
          },
          "shapedefaults": {
           "line": {
            "color": "#2a3f5f"
           }
          },
          "ternary": {
           "aaxis": {
            "gridcolor": "white",
            "linecolor": "white",
            "ticks": ""
           },
           "baxis": {
            "gridcolor": "white",
            "linecolor": "white",
            "ticks": ""
           },
           "bgcolor": "#E5ECF6",
           "caxis": {
            "gridcolor": "white",
            "linecolor": "white",
            "ticks": ""
           }
          },
          "title": {
           "x": 0.05
          },
          "xaxis": {
           "automargin": true,
           "gridcolor": "white",
           "linecolor": "white",
           "ticks": "",
           "title": {
            "standoff": 15
           },
           "zerolinecolor": "white",
           "zerolinewidth": 2
          },
          "yaxis": {
           "automargin": true,
           "gridcolor": "white",
           "linecolor": "white",
           "ticks": "",
           "title": {
            "standoff": 15
           },
           "zerolinecolor": "white",
           "zerolinewidth": 2
          }
         }
        },
        "title": {
         "text": "Most Commmon Positive(1) Words"
        },
        "width": 600,
        "xaxis": {
         "anchor": "y",
         "domain": [
          0,
          1
         ],
         "title": {
          "text": "count"
         }
        },
        "yaxis": {
         "anchor": "x",
         "domain": [
          0,
          1
         ],
         "title": {
          "text": "Common_words"
         }
        }
       }
      }
     },
     "metadata": {}
    }
   ],
   "metadata": {}
  },
  {
   "cell_type": "markdown",
   "source": [
    "### Observations:\n",
    " -"
   ],
   "metadata": {}
  },
  {
   "cell_type": "markdown",
   "source": [
    "### Most common negative words"
   ],
   "metadata": {}
  },
  {
   "cell_type": "code",
   "execution_count": 32,
   "source": [
    "\n",
    "top = Counter([item for sublist in Negative['new_lis'] for item in sublist])\n",
    "negative = pd.DataFrame(top.most_common(20))\n",
    "negative = negative.iloc[1:,:]\n",
    "negative.columns = ['Common_words','count']\n",
    "negative.style.background_gradient(cmap='Reds')"
   ],
   "outputs": [
    {
     "output_type": "execute_result",
     "data": {
      "text/plain": [
       "<pandas.io.formats.style.Styler at 0x1c3e7002b80>"
      ],
      "text/html": "<style  type=\"text/css\" >\n#T_ecea9_row0_col1{\n            background-color:  #67000d;\n            color:  #f1f1f1;\n        }#T_ecea9_row1_col1{\n            background-color:  #b31218;\n            color:  #f1f1f1;\n        }#T_ecea9_row2_col1{\n            background-color:  #bc141a;\n            color:  #f1f1f1;\n        }#T_ecea9_row3_col1{\n            background-color:  #fee9df;\n            color:  #000000;\n        }#T_ecea9_row4_col1,#T_ecea9_row5_col1{\n            background-color:  #feeae1;\n            color:  #000000;\n        }#T_ecea9_row6_col1{\n            background-color:  #ffece3;\n            color:  #000000;\n        }#T_ecea9_row7_col1{\n            background-color:  #ffefe8;\n            color:  #000000;\n        }#T_ecea9_row8_col1{\n            background-color:  #fff0e8;\n            color:  #000000;\n        }#T_ecea9_row9_col1{\n            background-color:  #fff0e9;\n            color:  #000000;\n        }#T_ecea9_row10_col1{\n            background-color:  #fff2ec;\n            color:  #000000;\n        }#T_ecea9_row11_col1,#T_ecea9_row12_col1,#T_ecea9_row13_col1,#T_ecea9_row14_col1{\n            background-color:  #fff4ee;\n            color:  #000000;\n        }#T_ecea9_row15_col1,#T_ecea9_row16_col1,#T_ecea9_row17_col1,#T_ecea9_row18_col1{\n            background-color:  #fff5f0;\n            color:  #000000;\n        }</style><table id=\"T_ecea9_\" ><thead>    <tr>        <th class=\"blank level0\" ></th>        <th class=\"col_heading level0 col0\" >Common_words</th>        <th class=\"col_heading level0 col1\" >count</th>    </tr></thead><tbody>\n                <tr>\n                        <th id=\"T_ecea9_level0_row0\" class=\"row_heading level0 row0\" >1</th>\n                        <td id=\"T_ecea9_row0_col0\" class=\"data row0 col0\" >change</td>\n                        <td id=\"T_ecea9_row0_col1\" class=\"data row0 col1\" >764</td>\n            </tr>\n            <tr>\n                        <th id=\"T_ecea9_level0_row1\" class=\"row_heading level0 row1\" >2</th>\n                        <td id=\"T_ecea9_row1_col0\" class=\"data row1 col0\" >global</td>\n                        <td id=\"T_ecea9_row1_col1\" class=\"data row1 col1\" >639</td>\n            </tr>\n            <tr>\n                        <th id=\"T_ecea9_level0_row2\" class=\"row_heading level0 row2\" >3</th>\n                        <td id=\"T_ecea9_row2_col0\" class=\"data row2 col0\" >warming</td>\n                        <td id=\"T_ecea9_row2_col1\" class=\"data row2 col1\" >618</td>\n            </tr>\n            <tr>\n                        <th id=\"T_ecea9_level0_row3\" class=\"row_heading level0 row3\" >4</th>\n                        <td id=\"T_ecea9_row3_col0\" class=\"data row3 col0\" >man</td>\n                        <td id=\"T_ecea9_row3_col1\" class=\"data row3 col1\" >95</td>\n            </tr>\n            <tr>\n                        <th id=\"T_ecea9_level0_row4\" class=\"row_heading level0 row4\" >5</th>\n                        <td id=\"T_ecea9_row4_col0\" class=\"data row4 col0\" >made</td>\n                        <td id=\"T_ecea9_row4_col1\" class=\"data row4 col1\" >91</td>\n            </tr>\n            <tr>\n                        <th id=\"T_ecea9_level0_row5\" class=\"row_heading level0 row5\" >6</th>\n                        <td id=\"T_ecea9_row5_col0\" class=\"data row5 col0\" >amp</td>\n                        <td id=\"T_ecea9_row5_col1\" class=\"data row5 col1\" >91</td>\n            </tr>\n            <tr>\n                        <th id=\"T_ecea9_level0_row6\" class=\"row_heading level0 row6\" >7</th>\n                        <td id=\"T_ecea9_row6_col0\" class=\"data row6 col0\" >science</td>\n                        <td id=\"T_ecea9_row6_col1\" class=\"data row6 col1\" >84</td>\n            </tr>\n            <tr>\n                        <th id=\"T_ecea9_level0_row7\" class=\"row_heading level0 row7\" >8</th>\n                        <td id=\"T_ecea9_row7_col0\" class=\"data row7 col0\" >realdonaldtrump</td>\n                        <td id=\"T_ecea9_row7_col1\" class=\"data row7 col1\" >71</td>\n            </tr>\n            <tr>\n                        <th id=\"T_ecea9_level0_row8\" class=\"row_heading level0 row8\" >9</th>\n                        <td id=\"T_ecea9_row8_col0\" class=\"data row8 col0\" >trump</td>\n                        <td id=\"T_ecea9_row8_col1\" class=\"data row8 col1\" >67</td>\n            </tr>\n            <tr>\n                        <th id=\"T_ecea9_level0_row9\" class=\"row_heading level0 row9\" >10</th>\n                        <td id=\"T_ecea9_row9_col0\" class=\"data row9 col0\" >real</td>\n                        <td id=\"T_ecea9_row9_col1\" class=\"data row9 col1\" >65</td>\n            </tr>\n            <tr>\n                        <th id=\"T_ecea9_level0_row10\" class=\"row_heading level0 row10\" >11</th>\n                        <td id=\"T_ecea9_row10_col0\" class=\"data row10 col0\" >people</td>\n                        <td id=\"T_ecea9_row10_col1\" class=\"data row10 col1\" >58</td>\n            </tr>\n            <tr>\n                        <th id=\"T_ecea9_level0_row11\" class=\"row_heading level0 row11\" >12</th>\n                        <td id=\"T_ecea9_row11_col0\" class=\"data row11 col0\" >hoax</td>\n                        <td id=\"T_ecea9_row11_col1\" class=\"data row11 col1\" >52</td>\n            </tr>\n            <tr>\n                        <th id=\"T_ecea9_level0_row12\" class=\"row_heading level0 row12\" >13</th>\n                        <td id=\"T_ecea9_row12_col0\" class=\"data row12 col0\" >scam</td>\n                        <td id=\"T_ecea9_row12_col1\" class=\"data row12 col1\" >51</td>\n            </tr>\n            <tr>\n                        <th id=\"T_ecea9_level0_row13\" class=\"row_heading level0 row13\" >14</th>\n                        <td id=\"T_ecea9_row13_col0\" class=\"data row13 col0\" >would</td>\n                        <td id=\"T_ecea9_row13_col1\" class=\"data row13 col1\" >50</td>\n            </tr>\n            <tr>\n                        <th id=\"T_ecea9_level0_row14\" class=\"row_heading level0 row14\" >15</th>\n                        <td id=\"T_ecea9_row14_col0\" class=\"data row14 col0\" >data</td>\n                        <td id=\"T_ecea9_row14_col1\" class=\"data row14 col1\" >50</td>\n            </tr>\n            <tr>\n                        <th id=\"T_ecea9_level0_row15\" class=\"row_heading level0 row15\" >16</th>\n                        <td id=\"T_ecea9_row15_col0\" class=\"data row15 col0\" >believe</td>\n                        <td id=\"T_ecea9_row15_col1\" class=\"data row15 col1\" >46</td>\n            </tr>\n            <tr>\n                        <th id=\"T_ecea9_level0_row16\" class=\"row_heading level0 row16\" >17</th>\n                        <td id=\"T_ecea9_row16_col0\" class=\"data row16 col0\" >obama</td>\n                        <td id=\"T_ecea9_row16_col1\" class=\"data row16 col1\" >45</td>\n            </tr>\n            <tr>\n                        <th id=\"T_ecea9_level0_row17\" class=\"row_heading level0 row17\" >18</th>\n                        <td id=\"T_ecea9_row17_col0\" class=\"data row17 col0\" >years</td>\n                        <td id=\"T_ecea9_row17_col1\" class=\"data row17 col1\" >45</td>\n            </tr>\n            <tr>\n                        <th id=\"T_ecea9_level0_row18\" class=\"row_heading level0 row18\" >19</th>\n                        <td id=\"T_ecea9_row18_col0\" class=\"data row18 col0\" >stevesgoddard</td>\n                        <td id=\"T_ecea9_row18_col1\" class=\"data row18 col1\" >44</td>\n            </tr>\n    </tbody></table>"
     },
     "metadata": {},
     "execution_count": 32
    }
   ],
   "metadata": {}
  },
  {
   "cell_type": "code",
   "execution_count": 39,
   "source": [
    "fig = px.bar(negative, x=\"count\", y=\"Common_words\", title='Most Commmon Negative(-1) Words', orientation='h', \n",
    "             width=600, height=600)\n",
    "fig.show()"
   ],
   "outputs": [
    {
     "output_type": "display_data",
     "data": {
      "application/vnd.plotly.v1+json": {
       "config": {
        "plotlyServerURL": "https://plot.ly"
       },
       "data": [
        {
         "alignmentgroup": "True",
         "hovertemplate": "count=%{x}<br>Common_words=%{y}<extra></extra>",
         "legendgroup": "",
         "marker": {
          "color": "#636efa"
         },
         "name": "",
         "offsetgroup": "",
         "orientation": "h",
         "showlegend": false,
         "textposition": "auto",
         "type": "bar",
         "x": [
          764,
          639,
          618,
          95,
          91,
          91,
          84,
          71,
          67,
          65,
          58,
          52,
          51,
          50,
          50,
          46,
          45,
          45,
          44
         ],
         "xaxis": "x",
         "y": [
          "change",
          "global",
          "warming",
          "man",
          "made",
          "amp",
          "science",
          "realdonaldtrump",
          "trump",
          "real",
          "people",
          "hoax",
          "scam",
          "would",
          "data",
          "believe",
          "obama",
          "years",
          "stevesgoddard"
         ],
         "yaxis": "y"
        }
       ],
       "layout": {
        "barmode": "relative",
        "height": 600,
        "legend": {
         "tracegroupgap": 0
        },
        "template": {
         "data": {
          "bar": [
           {
            "error_x": {
             "color": "#2a3f5f"
            },
            "error_y": {
             "color": "#2a3f5f"
            },
            "marker": {
             "line": {
              "color": "#E5ECF6",
              "width": 0.5
             }
            },
            "type": "bar"
           }
          ],
          "barpolar": [
           {
            "marker": {
             "line": {
              "color": "#E5ECF6",
              "width": 0.5
             }
            },
            "type": "barpolar"
           }
          ],
          "carpet": [
           {
            "aaxis": {
             "endlinecolor": "#2a3f5f",
             "gridcolor": "white",
             "linecolor": "white",
             "minorgridcolor": "white",
             "startlinecolor": "#2a3f5f"
            },
            "baxis": {
             "endlinecolor": "#2a3f5f",
             "gridcolor": "white",
             "linecolor": "white",
             "minorgridcolor": "white",
             "startlinecolor": "#2a3f5f"
            },
            "type": "carpet"
           }
          ],
          "choropleth": [
           {
            "colorbar": {
             "outlinewidth": 0,
             "ticks": ""
            },
            "type": "choropleth"
           }
          ],
          "contour": [
           {
            "colorbar": {
             "outlinewidth": 0,
             "ticks": ""
            },
            "colorscale": [
             [
              0,
              "#0d0887"
             ],
             [
              0.1111111111111111,
              "#46039f"
             ],
             [
              0.2222222222222222,
              "#7201a8"
             ],
             [
              0.3333333333333333,
              "#9c179e"
             ],
             [
              0.4444444444444444,
              "#bd3786"
             ],
             [
              0.5555555555555556,
              "#d8576b"
             ],
             [
              0.6666666666666666,
              "#ed7953"
             ],
             [
              0.7777777777777778,
              "#fb9f3a"
             ],
             [
              0.8888888888888888,
              "#fdca26"
             ],
             [
              1,
              "#f0f921"
             ]
            ],
            "type": "contour"
           }
          ],
          "contourcarpet": [
           {
            "colorbar": {
             "outlinewidth": 0,
             "ticks": ""
            },
            "type": "contourcarpet"
           }
          ],
          "heatmap": [
           {
            "colorbar": {
             "outlinewidth": 0,
             "ticks": ""
            },
            "colorscale": [
             [
              0,
              "#0d0887"
             ],
             [
              0.1111111111111111,
              "#46039f"
             ],
             [
              0.2222222222222222,
              "#7201a8"
             ],
             [
              0.3333333333333333,
              "#9c179e"
             ],
             [
              0.4444444444444444,
              "#bd3786"
             ],
             [
              0.5555555555555556,
              "#d8576b"
             ],
             [
              0.6666666666666666,
              "#ed7953"
             ],
             [
              0.7777777777777778,
              "#fb9f3a"
             ],
             [
              0.8888888888888888,
              "#fdca26"
             ],
             [
              1,
              "#f0f921"
             ]
            ],
            "type": "heatmap"
           }
          ],
          "heatmapgl": [
           {
            "colorbar": {
             "outlinewidth": 0,
             "ticks": ""
            },
            "colorscale": [
             [
              0,
              "#0d0887"
             ],
             [
              0.1111111111111111,
              "#46039f"
             ],
             [
              0.2222222222222222,
              "#7201a8"
             ],
             [
              0.3333333333333333,
              "#9c179e"
             ],
             [
              0.4444444444444444,
              "#bd3786"
             ],
             [
              0.5555555555555556,
              "#d8576b"
             ],
             [
              0.6666666666666666,
              "#ed7953"
             ],
             [
              0.7777777777777778,
              "#fb9f3a"
             ],
             [
              0.8888888888888888,
              "#fdca26"
             ],
             [
              1,
              "#f0f921"
             ]
            ],
            "type": "heatmapgl"
           }
          ],
          "histogram": [
           {
            "marker": {
             "colorbar": {
              "outlinewidth": 0,
              "ticks": ""
             }
            },
            "type": "histogram"
           }
          ],
          "histogram2d": [
           {
            "colorbar": {
             "outlinewidth": 0,
             "ticks": ""
            },
            "colorscale": [
             [
              0,
              "#0d0887"
             ],
             [
              0.1111111111111111,
              "#46039f"
             ],
             [
              0.2222222222222222,
              "#7201a8"
             ],
             [
              0.3333333333333333,
              "#9c179e"
             ],
             [
              0.4444444444444444,
              "#bd3786"
             ],
             [
              0.5555555555555556,
              "#d8576b"
             ],
             [
              0.6666666666666666,
              "#ed7953"
             ],
             [
              0.7777777777777778,
              "#fb9f3a"
             ],
             [
              0.8888888888888888,
              "#fdca26"
             ],
             [
              1,
              "#f0f921"
             ]
            ],
            "type": "histogram2d"
           }
          ],
          "histogram2dcontour": [
           {
            "colorbar": {
             "outlinewidth": 0,
             "ticks": ""
            },
            "colorscale": [
             [
              0,
              "#0d0887"
             ],
             [
              0.1111111111111111,
              "#46039f"
             ],
             [
              0.2222222222222222,
              "#7201a8"
             ],
             [
              0.3333333333333333,
              "#9c179e"
             ],
             [
              0.4444444444444444,
              "#bd3786"
             ],
             [
              0.5555555555555556,
              "#d8576b"
             ],
             [
              0.6666666666666666,
              "#ed7953"
             ],
             [
              0.7777777777777778,
              "#fb9f3a"
             ],
             [
              0.8888888888888888,
              "#fdca26"
             ],
             [
              1,
              "#f0f921"
             ]
            ],
            "type": "histogram2dcontour"
           }
          ],
          "mesh3d": [
           {
            "colorbar": {
             "outlinewidth": 0,
             "ticks": ""
            },
            "type": "mesh3d"
           }
          ],
          "parcoords": [
           {
            "line": {
             "colorbar": {
              "outlinewidth": 0,
              "ticks": ""
             }
            },
            "type": "parcoords"
           }
          ],
          "pie": [
           {
            "automargin": true,
            "type": "pie"
           }
          ],
          "scatter": [
           {
            "marker": {
             "colorbar": {
              "outlinewidth": 0,
              "ticks": ""
             }
            },
            "type": "scatter"
           }
          ],
          "scatter3d": [
           {
            "line": {
             "colorbar": {
              "outlinewidth": 0,
              "ticks": ""
             }
            },
            "marker": {
             "colorbar": {
              "outlinewidth": 0,
              "ticks": ""
             }
            },
            "type": "scatter3d"
           }
          ],
          "scattercarpet": [
           {
            "marker": {
             "colorbar": {
              "outlinewidth": 0,
              "ticks": ""
             }
            },
            "type": "scattercarpet"
           }
          ],
          "scattergeo": [
           {
            "marker": {
             "colorbar": {
              "outlinewidth": 0,
              "ticks": ""
             }
            },
            "type": "scattergeo"
           }
          ],
          "scattergl": [
           {
            "marker": {
             "colorbar": {
              "outlinewidth": 0,
              "ticks": ""
             }
            },
            "type": "scattergl"
           }
          ],
          "scattermapbox": [
           {
            "marker": {
             "colorbar": {
              "outlinewidth": 0,
              "ticks": ""
             }
            },
            "type": "scattermapbox"
           }
          ],
          "scatterpolar": [
           {
            "marker": {
             "colorbar": {
              "outlinewidth": 0,
              "ticks": ""
             }
            },
            "type": "scatterpolar"
           }
          ],
          "scatterpolargl": [
           {
            "marker": {
             "colorbar": {
              "outlinewidth": 0,
              "ticks": ""
             }
            },
            "type": "scatterpolargl"
           }
          ],
          "scatterternary": [
           {
            "marker": {
             "colorbar": {
              "outlinewidth": 0,
              "ticks": ""
             }
            },
            "type": "scatterternary"
           }
          ],
          "surface": [
           {
            "colorbar": {
             "outlinewidth": 0,
             "ticks": ""
            },
            "colorscale": [
             [
              0,
              "#0d0887"
             ],
             [
              0.1111111111111111,
              "#46039f"
             ],
             [
              0.2222222222222222,
              "#7201a8"
             ],
             [
              0.3333333333333333,
              "#9c179e"
             ],
             [
              0.4444444444444444,
              "#bd3786"
             ],
             [
              0.5555555555555556,
              "#d8576b"
             ],
             [
              0.6666666666666666,
              "#ed7953"
             ],
             [
              0.7777777777777778,
              "#fb9f3a"
             ],
             [
              0.8888888888888888,
              "#fdca26"
             ],
             [
              1,
              "#f0f921"
             ]
            ],
            "type": "surface"
           }
          ],
          "table": [
           {
            "cells": {
             "fill": {
              "color": "#EBF0F8"
             },
             "line": {
              "color": "white"
             }
            },
            "header": {
             "fill": {
              "color": "#C8D4E3"
             },
             "line": {
              "color": "white"
             }
            },
            "type": "table"
           }
          ]
         },
         "layout": {
          "annotationdefaults": {
           "arrowcolor": "#2a3f5f",
           "arrowhead": 0,
           "arrowwidth": 1
          },
          "autotypenumbers": "strict",
          "coloraxis": {
           "colorbar": {
            "outlinewidth": 0,
            "ticks": ""
           }
          },
          "colorscale": {
           "diverging": [
            [
             0,
             "#8e0152"
            ],
            [
             0.1,
             "#c51b7d"
            ],
            [
             0.2,
             "#de77ae"
            ],
            [
             0.3,
             "#f1b6da"
            ],
            [
             0.4,
             "#fde0ef"
            ],
            [
             0.5,
             "#f7f7f7"
            ],
            [
             0.6,
             "#e6f5d0"
            ],
            [
             0.7,
             "#b8e186"
            ],
            [
             0.8,
             "#7fbc41"
            ],
            [
             0.9,
             "#4d9221"
            ],
            [
             1,
             "#276419"
            ]
           ],
           "sequential": [
            [
             0,
             "#0d0887"
            ],
            [
             0.1111111111111111,
             "#46039f"
            ],
            [
             0.2222222222222222,
             "#7201a8"
            ],
            [
             0.3333333333333333,
             "#9c179e"
            ],
            [
             0.4444444444444444,
             "#bd3786"
            ],
            [
             0.5555555555555556,
             "#d8576b"
            ],
            [
             0.6666666666666666,
             "#ed7953"
            ],
            [
             0.7777777777777778,
             "#fb9f3a"
            ],
            [
             0.8888888888888888,
             "#fdca26"
            ],
            [
             1,
             "#f0f921"
            ]
           ],
           "sequentialminus": [
            [
             0,
             "#0d0887"
            ],
            [
             0.1111111111111111,
             "#46039f"
            ],
            [
             0.2222222222222222,
             "#7201a8"
            ],
            [
             0.3333333333333333,
             "#9c179e"
            ],
            [
             0.4444444444444444,
             "#bd3786"
            ],
            [
             0.5555555555555556,
             "#d8576b"
            ],
            [
             0.6666666666666666,
             "#ed7953"
            ],
            [
             0.7777777777777778,
             "#fb9f3a"
            ],
            [
             0.8888888888888888,
             "#fdca26"
            ],
            [
             1,
             "#f0f921"
            ]
           ]
          },
          "colorway": [
           "#636efa",
           "#EF553B",
           "#00cc96",
           "#ab63fa",
           "#FFA15A",
           "#19d3f3",
           "#FF6692",
           "#B6E880",
           "#FF97FF",
           "#FECB52"
          ],
          "font": {
           "color": "#2a3f5f"
          },
          "geo": {
           "bgcolor": "white",
           "lakecolor": "white",
           "landcolor": "#E5ECF6",
           "showlakes": true,
           "showland": true,
           "subunitcolor": "white"
          },
          "hoverlabel": {
           "align": "left"
          },
          "hovermode": "closest",
          "mapbox": {
           "style": "light"
          },
          "paper_bgcolor": "white",
          "plot_bgcolor": "#E5ECF6",
          "polar": {
           "angularaxis": {
            "gridcolor": "white",
            "linecolor": "white",
            "ticks": ""
           },
           "bgcolor": "#E5ECF6",
           "radialaxis": {
            "gridcolor": "white",
            "linecolor": "white",
            "ticks": ""
           }
          },
          "scene": {
           "xaxis": {
            "backgroundcolor": "#E5ECF6",
            "gridcolor": "white",
            "gridwidth": 2,
            "linecolor": "white",
            "showbackground": true,
            "ticks": "",
            "zerolinecolor": "white"
           },
           "yaxis": {
            "backgroundcolor": "#E5ECF6",
            "gridcolor": "white",
            "gridwidth": 2,
            "linecolor": "white",
            "showbackground": true,
            "ticks": "",
            "zerolinecolor": "white"
           },
           "zaxis": {
            "backgroundcolor": "#E5ECF6",
            "gridcolor": "white",
            "gridwidth": 2,
            "linecolor": "white",
            "showbackground": true,
            "ticks": "",
            "zerolinecolor": "white"
           }
          },
          "shapedefaults": {
           "line": {
            "color": "#2a3f5f"
           }
          },
          "ternary": {
           "aaxis": {
            "gridcolor": "white",
            "linecolor": "white",
            "ticks": ""
           },
           "baxis": {
            "gridcolor": "white",
            "linecolor": "white",
            "ticks": ""
           },
           "bgcolor": "#E5ECF6",
           "caxis": {
            "gridcolor": "white",
            "linecolor": "white",
            "ticks": ""
           }
          },
          "title": {
           "x": 0.05
          },
          "xaxis": {
           "automargin": true,
           "gridcolor": "white",
           "linecolor": "white",
           "ticks": "",
           "title": {
            "standoff": 15
           },
           "zerolinecolor": "white",
           "zerolinewidth": 2
          },
          "yaxis": {
           "automargin": true,
           "gridcolor": "white",
           "linecolor": "white",
           "ticks": "",
           "title": {
            "standoff": 15
           },
           "zerolinecolor": "white",
           "zerolinewidth": 2
          }
         }
        },
        "title": {
         "text": "Most Commmon Negative(-1) Words"
        },
        "width": 600,
        "xaxis": {
         "anchor": "y",
         "domain": [
          0,
          1
         ],
         "title": {
          "text": "count"
         }
        },
        "yaxis": {
         "anchor": "x",
         "domain": [
          0,
          1
         ],
         "title": {
          "text": "Common_words"
         }
        }
       }
      }
     },
     "metadata": {}
    }
   ],
   "metadata": {}
  },
  {
   "cell_type": "markdown",
   "source": [
    "### Observation:\n",
    " -"
   ],
   "metadata": {}
  },
  {
   "cell_type": "markdown",
   "source": [
    "### Most common neutral(0) words"
   ],
   "metadata": {}
  },
  {
   "cell_type": "code",
   "execution_count": 33,
   "source": [
    "top = Counter([item for sublist in Neutral['new_lis'] for item in sublist])\n",
    "neutral = pd.DataFrame(top.most_common(20))\n",
    "neutral = neutral.iloc[1:,:]\n",
    "neutral.columns = ['Common_words','count']\n",
    "neutral.style.background_gradient(cmap='Blues')"
   ],
   "outputs": [
    {
     "output_type": "execute_result",
     "data": {
      "text/plain": [
       "<pandas.io.formats.style.Styler at 0x1c3e4f0feb0>"
      ],
      "text/html": "<style  type=\"text/css\" >\n#T_289a8_row0_col1{\n            background-color:  #08306b;\n            color:  #f1f1f1;\n        }#T_289a8_row1_col1{\n            background-color:  #2676b8;\n            color:  #000000;\n        }#T_289a8_row2_col1{\n            background-color:  #2c7cba;\n            color:  #000000;\n        }#T_289a8_row3_col1{\n            background-color:  #e4eff9;\n            color:  #000000;\n        }#T_289a8_row4_col1{\n            background-color:  #eef5fc;\n            color:  #000000;\n        }#T_289a8_row5_col1{\n            background-color:  #eff6fc;\n            color:  #000000;\n        }#T_289a8_row6_col1{\n            background-color:  #f0f6fd;\n            color:  #000000;\n        }#T_289a8_row7_col1{\n            background-color:  #f1f7fd;\n            color:  #000000;\n        }#T_289a8_row8_col1,#T_289a8_row9_col1{\n            background-color:  #f2f7fd;\n            color:  #000000;\n        }#T_289a8_row10_col1{\n            background-color:  #f4f9fe;\n            color:  #000000;\n        }#T_289a8_row11_col1{\n            background-color:  #f5fafe;\n            color:  #000000;\n        }#T_289a8_row12_col1,#T_289a8_row13_col1,#T_289a8_row14_col1{\n            background-color:  #f6faff;\n            color:  #000000;\n        }#T_289a8_row15_col1,#T_289a8_row16_col1,#T_289a8_row17_col1,#T_289a8_row18_col1{\n            background-color:  #f7fbff;\n            color:  #000000;\n        }</style><table id=\"T_289a8_\" ><thead>    <tr>        <th class=\"blank level0\" ></th>        <th class=\"col_heading level0 col0\" >Common_words</th>        <th class=\"col_heading level0 col1\" >count</th>    </tr></thead><tbody>\n                <tr>\n                        <th id=\"T_289a8_level0_row0\" class=\"row_heading level0 row0\" >1</th>\n                        <td id=\"T_289a8_row0_col0\" class=\"data row0 col0\" >change</td>\n                        <td id=\"T_289a8_row0_col1\" class=\"data row0 col1\" >1412</td>\n            </tr>\n            <tr>\n                        <th id=\"T_289a8_level0_row1\" class=\"row_heading level0 row1\" >2</th>\n                        <td id=\"T_289a8_row1_col0\" class=\"data row1 col0\" >global</td>\n                        <td id=\"T_289a8_row1_col1\" class=\"data row1 col1\" >1040</td>\n            </tr>\n            <tr>\n                        <th id=\"T_289a8_level0_row2\" class=\"row_heading level0 row2\" >3</th>\n                        <td id=\"T_289a8_row2_col0\" class=\"data row2 col0\" >warming</td>\n                        <td id=\"T_289a8_row2_col1\" class=\"data row2 col1\" >1015</td>\n            </tr>\n            <tr>\n                        <th id=\"T_289a8_level0_row3\" class=\"row_heading level0 row3\" >4</th>\n                        <td id=\"T_289a8_row3_col0\" class=\"data row3 col0\" >trump</td>\n                        <td id=\"T_289a8_row3_col1\" class=\"data row3 col1\" >174</td>\n            </tr>\n            <tr>\n                        <th id=\"T_289a8_level0_row4\" class=\"row_heading level0 row4\" >5</th>\n                        <td id=\"T_289a8_row4_col0\" class=\"data row4 col0\" >amp</td>\n                        <td id=\"T_289a8_row4_col1\" class=\"data row4 col1\" >112</td>\n            </tr>\n            <tr>\n                        <th id=\"T_289a8_level0_row5\" class=\"row_heading level0 row5\" >6</th>\n                        <td id=\"T_289a8_row5_col0\" class=\"data row5 col0\" >real</td>\n                        <td id=\"T_289a8_row5_col1\" class=\"data row5 col1\" >99</td>\n            </tr>\n            <tr>\n                        <th id=\"T_289a8_level0_row6\" class=\"row_heading level0 row6\" >7</th>\n                        <td id=\"T_289a8_row6_col0\" class=\"data row6 col0\" >like</td>\n                        <td id=\"T_289a8_row6_col1\" class=\"data row6 col1\" >97</td>\n            </tr>\n            <tr>\n                        <th id=\"T_289a8_level0_row7\" class=\"row_heading level0 row7\" >8</th>\n                        <td id=\"T_289a8_row7_col0\" class=\"data row7 col0\" >believe</td>\n                        <td id=\"T_289a8_row7_col1\" class=\"data row7 col1\" >88</td>\n            </tr>\n            <tr>\n                        <th id=\"T_289a8_level0_row8\" class=\"row_heading level0 row8\" >9</th>\n                        <td id=\"T_289a8_row8_col0\" class=\"data row8 col0\" >penguin</td>\n                        <td id=\"T_289a8_row8_col1\" class=\"data row8 col1\" >84</td>\n            </tr>\n            <tr>\n                        <th id=\"T_289a8_level0_row9\" class=\"row_heading level0 row9\" >10</th>\n                        <td id=\"T_289a8_row9_col0\" class=\"data row9 col0\" >think</td>\n                        <td id=\"T_289a8_row9_col1\" class=\"data row9 col1\" >82</td>\n            </tr>\n            <tr>\n                        <th id=\"T_289a8_level0_row10\" class=\"row_heading level0 row10\" >11</th>\n                        <td id=\"T_289a8_row10_col0\" class=\"data row10 col0\" >people</td>\n                        <td id=\"T_289a8_row10_col1\" class=\"data row10 col1\" >68</td>\n            </tr>\n            <tr>\n                        <th id=\"T_289a8_level0_row11\" class=\"row_heading level0 row11\" >12</th>\n                        <td id=\"T_289a8_row11_col0\" class=\"data row11 col0\" >cause</td>\n                        <td id=\"T_289a8_row11_col1\" class=\"data row11 col1\" >56</td>\n            </tr>\n            <tr>\n                        <th id=\"T_289a8_level0_row12\" class=\"row_heading level0 row12\" >13</th>\n                        <td id=\"T_289a8_row12_col0\" class=\"data row12 col0\" >hot</td>\n                        <td id=\"T_289a8_row12_col1\" class=\"data row12 col1\" >52</td>\n            </tr>\n            <tr>\n                        <th id=\"T_289a8_level0_row13\" class=\"row_heading level0 row13\" >14</th>\n                        <td id=\"T_289a8_row13_col0\" class=\"data row13 col0\" >know</td>\n                        <td id=\"T_289a8_row13_col1\" class=\"data row13 col1\" >52</td>\n            </tr>\n            <tr>\n                        <th id=\"T_289a8_level0_row14\" class=\"row_heading level0 row14\" >15</th>\n                        <td id=\"T_289a8_row14_col0\" class=\"data row14 col0\" >one</td>\n                        <td id=\"T_289a8_row14_col1\" class=\"data row14 col1\" >50</td>\n            </tr>\n            <tr>\n                        <th id=\"T_289a8_level0_row15\" class=\"row_heading level0 row15\" >16</th>\n                        <td id=\"T_289a8_row15_col0\" class=\"data row15 col0\" >get</td>\n                        <td id=\"T_289a8_row15_col1\" class=\"data row15 col1\" >46</td>\n            </tr>\n            <tr>\n                        <th id=\"T_289a8_level0_row16\" class=\"row_heading level0 row16\" >17</th>\n                        <td id=\"T_289a8_row16_col0\" class=\"data row16 col0\" >says</td>\n                        <td id=\"T_289a8_row16_col1\" class=\"data row16 col1\" >45</td>\n            </tr>\n            <tr>\n                        <th id=\"T_289a8_level0_row17\" class=\"row_heading level0 row17\" >18</th>\n                        <td id=\"T_289a8_row17_col0\" class=\"data row17 col0\" >said</td>\n                        <td id=\"T_289a8_row17_col1\" class=\"data row17 col1\" >45</td>\n            </tr>\n            <tr>\n                        <th id=\"T_289a8_level0_row18\" class=\"row_heading level0 row18\" >19</th>\n                        <td id=\"T_289a8_row18_col0\" class=\"data row18 col0\" >club</td>\n                        <td id=\"T_289a8_row18_col1\" class=\"data row18 col1\" >44</td>\n            </tr>\n    </tbody></table>"
     },
     "metadata": {},
     "execution_count": 33
    }
   ],
   "metadata": {}
  },
  {
   "cell_type": "code",
   "execution_count": 41,
   "source": [
    "fig = px.bar(neutral, x=\"count\", y=\"Common_words\", title='Most Commmon Neutral(0) Words', orientation='h', \n",
    "             width=600, height=600)\n",
    "fig.show()"
   ],
   "outputs": [
    {
     "output_type": "display_data",
     "data": {
      "application/vnd.plotly.v1+json": {
       "config": {
        "plotlyServerURL": "https://plot.ly"
       },
       "data": [
        {
         "alignmentgroup": "True",
         "hovertemplate": "count=%{x}<br>Common_words=%{y}<extra></extra>",
         "legendgroup": "",
         "marker": {
          "color": "#636efa"
         },
         "name": "",
         "offsetgroup": "",
         "orientation": "h",
         "showlegend": false,
         "textposition": "auto",
         "type": "bar",
         "x": [
          1412,
          1040,
          1015,
          174,
          112,
          99,
          97,
          88,
          84,
          82,
          68,
          56,
          52,
          52,
          50,
          46,
          45,
          45,
          44
         ],
         "xaxis": "x",
         "y": [
          "change",
          "global",
          "warming",
          "trump",
          "amp",
          "real",
          "like",
          "believe",
          "penguin",
          "think",
          "people",
          "cause",
          "hot",
          "know",
          "one",
          "get",
          "says",
          "said",
          "club"
         ],
         "yaxis": "y"
        }
       ],
       "layout": {
        "barmode": "relative",
        "height": 600,
        "legend": {
         "tracegroupgap": 0
        },
        "template": {
         "data": {
          "bar": [
           {
            "error_x": {
             "color": "#2a3f5f"
            },
            "error_y": {
             "color": "#2a3f5f"
            },
            "marker": {
             "line": {
              "color": "#E5ECF6",
              "width": 0.5
             }
            },
            "type": "bar"
           }
          ],
          "barpolar": [
           {
            "marker": {
             "line": {
              "color": "#E5ECF6",
              "width": 0.5
             }
            },
            "type": "barpolar"
           }
          ],
          "carpet": [
           {
            "aaxis": {
             "endlinecolor": "#2a3f5f",
             "gridcolor": "white",
             "linecolor": "white",
             "minorgridcolor": "white",
             "startlinecolor": "#2a3f5f"
            },
            "baxis": {
             "endlinecolor": "#2a3f5f",
             "gridcolor": "white",
             "linecolor": "white",
             "minorgridcolor": "white",
             "startlinecolor": "#2a3f5f"
            },
            "type": "carpet"
           }
          ],
          "choropleth": [
           {
            "colorbar": {
             "outlinewidth": 0,
             "ticks": ""
            },
            "type": "choropleth"
           }
          ],
          "contour": [
           {
            "colorbar": {
             "outlinewidth": 0,
             "ticks": ""
            },
            "colorscale": [
             [
              0,
              "#0d0887"
             ],
             [
              0.1111111111111111,
              "#46039f"
             ],
             [
              0.2222222222222222,
              "#7201a8"
             ],
             [
              0.3333333333333333,
              "#9c179e"
             ],
             [
              0.4444444444444444,
              "#bd3786"
             ],
             [
              0.5555555555555556,
              "#d8576b"
             ],
             [
              0.6666666666666666,
              "#ed7953"
             ],
             [
              0.7777777777777778,
              "#fb9f3a"
             ],
             [
              0.8888888888888888,
              "#fdca26"
             ],
             [
              1,
              "#f0f921"
             ]
            ],
            "type": "contour"
           }
          ],
          "contourcarpet": [
           {
            "colorbar": {
             "outlinewidth": 0,
             "ticks": ""
            },
            "type": "contourcarpet"
           }
          ],
          "heatmap": [
           {
            "colorbar": {
             "outlinewidth": 0,
             "ticks": ""
            },
            "colorscale": [
             [
              0,
              "#0d0887"
             ],
             [
              0.1111111111111111,
              "#46039f"
             ],
             [
              0.2222222222222222,
              "#7201a8"
             ],
             [
              0.3333333333333333,
              "#9c179e"
             ],
             [
              0.4444444444444444,
              "#bd3786"
             ],
             [
              0.5555555555555556,
              "#d8576b"
             ],
             [
              0.6666666666666666,
              "#ed7953"
             ],
             [
              0.7777777777777778,
              "#fb9f3a"
             ],
             [
              0.8888888888888888,
              "#fdca26"
             ],
             [
              1,
              "#f0f921"
             ]
            ],
            "type": "heatmap"
           }
          ],
          "heatmapgl": [
           {
            "colorbar": {
             "outlinewidth": 0,
             "ticks": ""
            },
            "colorscale": [
             [
              0,
              "#0d0887"
             ],
             [
              0.1111111111111111,
              "#46039f"
             ],
             [
              0.2222222222222222,
              "#7201a8"
             ],
             [
              0.3333333333333333,
              "#9c179e"
             ],
             [
              0.4444444444444444,
              "#bd3786"
             ],
             [
              0.5555555555555556,
              "#d8576b"
             ],
             [
              0.6666666666666666,
              "#ed7953"
             ],
             [
              0.7777777777777778,
              "#fb9f3a"
             ],
             [
              0.8888888888888888,
              "#fdca26"
             ],
             [
              1,
              "#f0f921"
             ]
            ],
            "type": "heatmapgl"
           }
          ],
          "histogram": [
           {
            "marker": {
             "colorbar": {
              "outlinewidth": 0,
              "ticks": ""
             }
            },
            "type": "histogram"
           }
          ],
          "histogram2d": [
           {
            "colorbar": {
             "outlinewidth": 0,
             "ticks": ""
            },
            "colorscale": [
             [
              0,
              "#0d0887"
             ],
             [
              0.1111111111111111,
              "#46039f"
             ],
             [
              0.2222222222222222,
              "#7201a8"
             ],
             [
              0.3333333333333333,
              "#9c179e"
             ],
             [
              0.4444444444444444,
              "#bd3786"
             ],
             [
              0.5555555555555556,
              "#d8576b"
             ],
             [
              0.6666666666666666,
              "#ed7953"
             ],
             [
              0.7777777777777778,
              "#fb9f3a"
             ],
             [
              0.8888888888888888,
              "#fdca26"
             ],
             [
              1,
              "#f0f921"
             ]
            ],
            "type": "histogram2d"
           }
          ],
          "histogram2dcontour": [
           {
            "colorbar": {
             "outlinewidth": 0,
             "ticks": ""
            },
            "colorscale": [
             [
              0,
              "#0d0887"
             ],
             [
              0.1111111111111111,
              "#46039f"
             ],
             [
              0.2222222222222222,
              "#7201a8"
             ],
             [
              0.3333333333333333,
              "#9c179e"
             ],
             [
              0.4444444444444444,
              "#bd3786"
             ],
             [
              0.5555555555555556,
              "#d8576b"
             ],
             [
              0.6666666666666666,
              "#ed7953"
             ],
             [
              0.7777777777777778,
              "#fb9f3a"
             ],
             [
              0.8888888888888888,
              "#fdca26"
             ],
             [
              1,
              "#f0f921"
             ]
            ],
            "type": "histogram2dcontour"
           }
          ],
          "mesh3d": [
           {
            "colorbar": {
             "outlinewidth": 0,
             "ticks": ""
            },
            "type": "mesh3d"
           }
          ],
          "parcoords": [
           {
            "line": {
             "colorbar": {
              "outlinewidth": 0,
              "ticks": ""
             }
            },
            "type": "parcoords"
           }
          ],
          "pie": [
           {
            "automargin": true,
            "type": "pie"
           }
          ],
          "scatter": [
           {
            "marker": {
             "colorbar": {
              "outlinewidth": 0,
              "ticks": ""
             }
            },
            "type": "scatter"
           }
          ],
          "scatter3d": [
           {
            "line": {
             "colorbar": {
              "outlinewidth": 0,
              "ticks": ""
             }
            },
            "marker": {
             "colorbar": {
              "outlinewidth": 0,
              "ticks": ""
             }
            },
            "type": "scatter3d"
           }
          ],
          "scattercarpet": [
           {
            "marker": {
             "colorbar": {
              "outlinewidth": 0,
              "ticks": ""
             }
            },
            "type": "scattercarpet"
           }
          ],
          "scattergeo": [
           {
            "marker": {
             "colorbar": {
              "outlinewidth": 0,
              "ticks": ""
             }
            },
            "type": "scattergeo"
           }
          ],
          "scattergl": [
           {
            "marker": {
             "colorbar": {
              "outlinewidth": 0,
              "ticks": ""
             }
            },
            "type": "scattergl"
           }
          ],
          "scattermapbox": [
           {
            "marker": {
             "colorbar": {
              "outlinewidth": 0,
              "ticks": ""
             }
            },
            "type": "scattermapbox"
           }
          ],
          "scatterpolar": [
           {
            "marker": {
             "colorbar": {
              "outlinewidth": 0,
              "ticks": ""
             }
            },
            "type": "scatterpolar"
           }
          ],
          "scatterpolargl": [
           {
            "marker": {
             "colorbar": {
              "outlinewidth": 0,
              "ticks": ""
             }
            },
            "type": "scatterpolargl"
           }
          ],
          "scatterternary": [
           {
            "marker": {
             "colorbar": {
              "outlinewidth": 0,
              "ticks": ""
             }
            },
            "type": "scatterternary"
           }
          ],
          "surface": [
           {
            "colorbar": {
             "outlinewidth": 0,
             "ticks": ""
            },
            "colorscale": [
             [
              0,
              "#0d0887"
             ],
             [
              0.1111111111111111,
              "#46039f"
             ],
             [
              0.2222222222222222,
              "#7201a8"
             ],
             [
              0.3333333333333333,
              "#9c179e"
             ],
             [
              0.4444444444444444,
              "#bd3786"
             ],
             [
              0.5555555555555556,
              "#d8576b"
             ],
             [
              0.6666666666666666,
              "#ed7953"
             ],
             [
              0.7777777777777778,
              "#fb9f3a"
             ],
             [
              0.8888888888888888,
              "#fdca26"
             ],
             [
              1,
              "#f0f921"
             ]
            ],
            "type": "surface"
           }
          ],
          "table": [
           {
            "cells": {
             "fill": {
              "color": "#EBF0F8"
             },
             "line": {
              "color": "white"
             }
            },
            "header": {
             "fill": {
              "color": "#C8D4E3"
             },
             "line": {
              "color": "white"
             }
            },
            "type": "table"
           }
          ]
         },
         "layout": {
          "annotationdefaults": {
           "arrowcolor": "#2a3f5f",
           "arrowhead": 0,
           "arrowwidth": 1
          },
          "autotypenumbers": "strict",
          "coloraxis": {
           "colorbar": {
            "outlinewidth": 0,
            "ticks": ""
           }
          },
          "colorscale": {
           "diverging": [
            [
             0,
             "#8e0152"
            ],
            [
             0.1,
             "#c51b7d"
            ],
            [
             0.2,
             "#de77ae"
            ],
            [
             0.3,
             "#f1b6da"
            ],
            [
             0.4,
             "#fde0ef"
            ],
            [
             0.5,
             "#f7f7f7"
            ],
            [
             0.6,
             "#e6f5d0"
            ],
            [
             0.7,
             "#b8e186"
            ],
            [
             0.8,
             "#7fbc41"
            ],
            [
             0.9,
             "#4d9221"
            ],
            [
             1,
             "#276419"
            ]
           ],
           "sequential": [
            [
             0,
             "#0d0887"
            ],
            [
             0.1111111111111111,
             "#46039f"
            ],
            [
             0.2222222222222222,
             "#7201a8"
            ],
            [
             0.3333333333333333,
             "#9c179e"
            ],
            [
             0.4444444444444444,
             "#bd3786"
            ],
            [
             0.5555555555555556,
             "#d8576b"
            ],
            [
             0.6666666666666666,
             "#ed7953"
            ],
            [
             0.7777777777777778,
             "#fb9f3a"
            ],
            [
             0.8888888888888888,
             "#fdca26"
            ],
            [
             1,
             "#f0f921"
            ]
           ],
           "sequentialminus": [
            [
             0,
             "#0d0887"
            ],
            [
             0.1111111111111111,
             "#46039f"
            ],
            [
             0.2222222222222222,
             "#7201a8"
            ],
            [
             0.3333333333333333,
             "#9c179e"
            ],
            [
             0.4444444444444444,
             "#bd3786"
            ],
            [
             0.5555555555555556,
             "#d8576b"
            ],
            [
             0.6666666666666666,
             "#ed7953"
            ],
            [
             0.7777777777777778,
             "#fb9f3a"
            ],
            [
             0.8888888888888888,
             "#fdca26"
            ],
            [
             1,
             "#f0f921"
            ]
           ]
          },
          "colorway": [
           "#636efa",
           "#EF553B",
           "#00cc96",
           "#ab63fa",
           "#FFA15A",
           "#19d3f3",
           "#FF6692",
           "#B6E880",
           "#FF97FF",
           "#FECB52"
          ],
          "font": {
           "color": "#2a3f5f"
          },
          "geo": {
           "bgcolor": "white",
           "lakecolor": "white",
           "landcolor": "#E5ECF6",
           "showlakes": true,
           "showland": true,
           "subunitcolor": "white"
          },
          "hoverlabel": {
           "align": "left"
          },
          "hovermode": "closest",
          "mapbox": {
           "style": "light"
          },
          "paper_bgcolor": "white",
          "plot_bgcolor": "#E5ECF6",
          "polar": {
           "angularaxis": {
            "gridcolor": "white",
            "linecolor": "white",
            "ticks": ""
           },
           "bgcolor": "#E5ECF6",
           "radialaxis": {
            "gridcolor": "white",
            "linecolor": "white",
            "ticks": ""
           }
          },
          "scene": {
           "xaxis": {
            "backgroundcolor": "#E5ECF6",
            "gridcolor": "white",
            "gridwidth": 2,
            "linecolor": "white",
            "showbackground": true,
            "ticks": "",
            "zerolinecolor": "white"
           },
           "yaxis": {
            "backgroundcolor": "#E5ECF6",
            "gridcolor": "white",
            "gridwidth": 2,
            "linecolor": "white",
            "showbackground": true,
            "ticks": "",
            "zerolinecolor": "white"
           },
           "zaxis": {
            "backgroundcolor": "#E5ECF6",
            "gridcolor": "white",
            "gridwidth": 2,
            "linecolor": "white",
            "showbackground": true,
            "ticks": "",
            "zerolinecolor": "white"
           }
          },
          "shapedefaults": {
           "line": {
            "color": "#2a3f5f"
           }
          },
          "ternary": {
           "aaxis": {
            "gridcolor": "white",
            "linecolor": "white",
            "ticks": ""
           },
           "baxis": {
            "gridcolor": "white",
            "linecolor": "white",
            "ticks": ""
           },
           "bgcolor": "#E5ECF6",
           "caxis": {
            "gridcolor": "white",
            "linecolor": "white",
            "ticks": ""
           }
          },
          "title": {
           "x": 0.05
          },
          "xaxis": {
           "automargin": true,
           "gridcolor": "white",
           "linecolor": "white",
           "ticks": "",
           "title": {
            "standoff": 15
           },
           "zerolinecolor": "white",
           "zerolinewidth": 2
          },
          "yaxis": {
           "automargin": true,
           "gridcolor": "white",
           "linecolor": "white",
           "ticks": "",
           "title": {
            "standoff": 15
           },
           "zerolinecolor": "white",
           "zerolinewidth": 2
          }
         }
        },
        "title": {
         "text": "Most Commmon Neutral(0) Words"
        },
        "width": 600,
        "xaxis": {
         "anchor": "y",
         "domain": [
          0,
          1
         ],
         "title": {
          "text": "count"
         }
        },
        "yaxis": {
         "anchor": "x",
         "domain": [
          0,
          1
         ],
         "title": {
          "text": "Common_words"
         }
        }
       }
      }
     },
     "metadata": {}
    }
   ],
   "metadata": {}
  },
  {
   "cell_type": "markdown",
   "source": [
    "### Observation:\n",
    " -"
   ],
   "metadata": {}
  },
  {
   "cell_type": "markdown",
   "source": [
    "### Most common news(2) words"
   ],
   "metadata": {}
  },
  {
   "cell_type": "code",
   "execution_count": 34,
   "source": [
    "top = Counter([item for sublist in News['new_lis'] for item in sublist])\n",
    "news = pd.DataFrame(top.most_common(20))\n",
    "news = news.iloc[1:,:]\n",
    "news.columns = ['Common_words','count']\n",
    "news.style.background_gradient(cmap='Reds')"
   ],
   "outputs": [
    {
     "output_type": "execute_result",
     "data": {
      "text/plain": [
       "<pandas.io.formats.style.Styler at 0x1c3e5fabdc0>"
      ],
      "text/html": "<style  type=\"text/css\" >\n#T_73e51_row0_col1{\n            background-color:  #67000d;\n            color:  #f1f1f1;\n        }#T_73e51_row1_col1{\n            background-color:  #fcaa8d;\n            color:  #000000;\n        }#T_73e51_row2_col1{\n            background-color:  #fee0d2;\n            color:  #000000;\n        }#T_73e51_row3_col1{\n            background-color:  #fee4d8;\n            color:  #000000;\n        }#T_73e51_row4_col1{\n            background-color:  #ffebe2;\n            color:  #000000;\n        }#T_73e51_row5_col1{\n            background-color:  #ffede5;\n            color:  #000000;\n        }#T_73e51_row6_col1{\n            background-color:  #ffeee7;\n            color:  #000000;\n        }#T_73e51_row7_col1{\n            background-color:  #fff1ea;\n            color:  #000000;\n        }#T_73e51_row8_col1{\n            background-color:  #fff2eb;\n            color:  #000000;\n        }#T_73e51_row9_col1,#T_73e51_row10_col1{\n            background-color:  #fff2ec;\n            color:  #000000;\n        }#T_73e51_row11_col1,#T_73e51_row12_col1{\n            background-color:  #fff3ed;\n            color:  #000000;\n        }#T_73e51_row13_col1,#T_73e51_row14_col1,#T_73e51_row15_col1{\n            background-color:  #fff4ef;\n            color:  #000000;\n        }#T_73e51_row16_col1,#T_73e51_row17_col1,#T_73e51_row18_col1{\n            background-color:  #fff5f0;\n            color:  #000000;\n        }</style><table id=\"T_73e51_\" ><thead>    <tr>        <th class=\"blank level0\" ></th>        <th class=\"col_heading level0 col0\" >Common_words</th>        <th class=\"col_heading level0 col1\" >count</th>    </tr></thead><tbody>\n                <tr>\n                        <th id=\"T_73e51_level0_row0\" class=\"row_heading level0 row0\" >1</th>\n                        <td id=\"T_73e51_row0_col0\" class=\"data row0 col0\" >change</td>\n                        <td id=\"T_73e51_row0_col1\" class=\"data row0 col1\" >3254</td>\n            </tr>\n            <tr>\n                        <th id=\"T_73e51_level0_row1\" class=\"row_heading level0 row1\" >2</th>\n                        <td id=\"T_73e51_row1_col0\" class=\"data row1 col0\" >trump</td>\n                        <td id=\"T_73e51_row1_col1\" class=\"data row1 col1\" >1058</td>\n            </tr>\n            <tr>\n                        <th id=\"T_73e51_level0_row2\" class=\"row_heading level0 row2\" >3</th>\n                        <td id=\"T_73e51_row2_col0\" class=\"data row2 col0\" >global</td>\n                        <td id=\"T_73e51_row2_col1\" class=\"data row2 col1\" >512</td>\n            </tr>\n            <tr>\n                        <th id=\"T_73e51_level0_row3\" class=\"row_heading level0 row3\" >4</th>\n                        <td id=\"T_73e51_row3_col0\" class=\"data row3 col0\" >warming</td>\n                        <td id=\"T_73e51_row3_col1\" class=\"data row3 col1\" >439</td>\n            </tr>\n            <tr>\n                        <th id=\"T_73e51_level0_row4\" class=\"row_heading level0 row4\" >5</th>\n                        <td id=\"T_73e51_row4_col0\" class=\"data row4 col0\" >via</td>\n                        <td id=\"T_73e51_row4_col1\" class=\"data row4 col1\" >298</td>\n            </tr>\n            <tr>\n                        <th id=\"T_73e51_level0_row5\" class=\"row_heading level0 row5\" >6</th>\n                        <td id=\"T_73e51_row5_col0\" class=\"data row5 col0\" >epa</td>\n                        <td id=\"T_73e51_row5_col1\" class=\"data row5 col1\" >262</td>\n            </tr>\n            <tr>\n                        <th id=\"T_73e51_level0_row6\" class=\"row_heading level0 row6\" >7</th>\n                        <td id=\"T_73e51_row6_col0\" class=\"data row6 col0\" >says</td>\n                        <td id=\"T_73e51_row6_col1\" class=\"data row6 col1\" >241</td>\n            </tr>\n            <tr>\n                        <th id=\"T_73e51_level0_row7\" class=\"row_heading level0 row7\" >8</th>\n                        <td id=\"T_73e51_row7_col0\" class=\"data row7 col0\" >new</td>\n                        <td id=\"T_73e51_row7_col1\" class=\"data row7 col1\" >191</td>\n            </tr>\n            <tr>\n                        <th id=\"T_73e51_level0_row8\" class=\"row_heading level0 row8\" >9</th>\n                        <td id=\"T_73e51_row8_col0\" class=\"data row8 col0\" >scientists</td>\n                        <td id=\"T_73e51_row8_col1\" class=\"data row8 col1\" >180</td>\n            </tr>\n            <tr>\n                        <th id=\"T_73e51_level0_row9\" class=\"row_heading level0 row9\" >10</th>\n                        <td id=\"T_73e51_row9_col0\" class=\"data row9 col0\" >donald</td>\n                        <td id=\"T_73e51_row9_col1\" class=\"data row9 col1\" >166</td>\n            </tr>\n            <tr>\n                        <th id=\"T_73e51_level0_row10\" class=\"row_heading level0 row10\" >11</th>\n                        <td id=\"T_73e51_row10_col0\" class=\"data row10 col0\" >china</td>\n                        <td id=\"T_73e51_row10_col1\" class=\"data row10 col1\" >163</td>\n            </tr>\n            <tr>\n                        <th id=\"T_73e51_level0_row11\" class=\"row_heading level0 row11\" >12</th>\n                        <td id=\"T_73e51_row11_col0\" class=\"data row11 col0\" >fight</td>\n                        <td id=\"T_73e51_row11_col1\" class=\"data row11 col1\" >159</td>\n            </tr>\n            <tr>\n                        <th id=\"T_73e51_level0_row12\" class=\"row_heading level0 row12\" >13</th>\n                        <td id=\"T_73e51_row12_col0\" class=\"data row12 col0\" >world</td>\n                        <td id=\"T_73e51_row12_col1\" class=\"data row12 col1\" >156</td>\n            </tr>\n            <tr>\n                        <th id=\"T_73e51_level0_row13\" class=\"row_heading level0 row13\" >14</th>\n                        <td id=\"T_73e51_row13_col0\" class=\"data row13 col0\" >could</td>\n                        <td id=\"T_73e51_row13_col1\" class=\"data row13 col1\" >133</td>\n            </tr>\n            <tr>\n                        <th id=\"T_73e51_level0_row14\" class=\"row_heading level0 row14\" >15</th>\n                        <td id=\"T_73e51_row14_col0\" class=\"data row14 col0\" >obama</td>\n                        <td id=\"T_73e51_row14_col1\" class=\"data row14 col1\" >130</td>\n            </tr>\n            <tr>\n                        <th id=\"T_73e51_level0_row15\" class=\"row_heading level0 row15\" >16</th>\n                        <td id=\"T_73e51_row15_col0\" class=\"data row15 col0\" >news</td>\n                        <td id=\"T_73e51_row15_col1\" class=\"data row15 col1\" >129</td>\n            </tr>\n            <tr>\n                        <th id=\"T_73e51_level0_row16\" class=\"row_heading level0 row16\" >17</th>\n                        <td id=\"T_73e51_row16_col0\" class=\"data row16 col0\" >pruitt</td>\n                        <td id=\"T_73e51_row16_col1\" class=\"data row16 col1\" >121</td>\n            </tr>\n            <tr>\n                        <th id=\"T_73e51_level0_row17\" class=\"row_heading level0 row17\" >18</th>\n                        <td id=\"T_73e51_row17_col0\" class=\"data row17 col0\" >president</td>\n                        <td id=\"T_73e51_row17_col1\" class=\"data row17 col1\" >120</td>\n            </tr>\n            <tr>\n                        <th id=\"T_73e51_level0_row18\" class=\"row_heading level0 row18\" >19</th>\n                        <td id=\"T_73e51_row18_col0\" class=\"data row18 col0\" >scott</td>\n                        <td id=\"T_73e51_row18_col1\" class=\"data row18 col1\" >113</td>\n            </tr>\n    </tbody></table>"
     },
     "metadata": {},
     "execution_count": 34
    }
   ],
   "metadata": {}
  },
  {
   "cell_type": "code",
   "execution_count": 35,
   "metadata": {},
   "outputs": [
    {
     "output_type": "display_data",
     "data": {
      "application/vnd.plotly.v1+json": {
       "config": {
        "plotlyServerURL": "https://plot.ly"
       },
       "data": [
        {
         "alignmentgroup": "True",
         "hovertemplate": "count=%{x}<br>Common_words=%{y}<extra></extra>",
         "legendgroup": "",
         "marker": {
          "color": "#636efa"
         },
         "name": "",
         "offsetgroup": "",
         "orientation": "h",
         "showlegend": false,
         "textposition": "auto",
         "type": "bar",
         "x": [
          3254,
          1058,
          512,
          439,
          298,
          262,
          241,
          191,
          180,
          166,
          163,
          159,
          156,
          133,
          130,
          129,
          121,
          120,
          113
         ],
         "xaxis": "x",
         "y": [
          "change",
          "trump",
          "global",
          "warming",
          "via",
          "epa",
          "says",
          "new",
          "scientists",
          "donald",
          "china",
          "fight",
          "world",
          "could",
          "obama",
          "news",
          "pruitt",
          "president",
          "scott"
         ],
         "yaxis": "y"
        }
       ],
       "layout": {
        "barmode": "relative",
        "height": 600,
        "legend": {
         "tracegroupgap": 0
        },
        "template": {
         "data": {
          "bar": [
           {
            "error_x": {
             "color": "#2a3f5f"
            },
            "error_y": {
             "color": "#2a3f5f"
            },
            "marker": {
             "line": {
              "color": "#E5ECF6",
              "width": 0.5
             }
            },
            "type": "bar"
           }
          ],
          "barpolar": [
           {
            "marker": {
             "line": {
              "color": "#E5ECF6",
              "width": 0.5
             }
            },
            "type": "barpolar"
           }
          ],
          "carpet": [
           {
            "aaxis": {
             "endlinecolor": "#2a3f5f",
             "gridcolor": "white",
             "linecolor": "white",
             "minorgridcolor": "white",
             "startlinecolor": "#2a3f5f"
            },
            "baxis": {
             "endlinecolor": "#2a3f5f",
             "gridcolor": "white",
             "linecolor": "white",
             "minorgridcolor": "white",
             "startlinecolor": "#2a3f5f"
            },
            "type": "carpet"
           }
          ],
          "choropleth": [
           {
            "colorbar": {
             "outlinewidth": 0,
             "ticks": ""
            },
            "type": "choropleth"
           }
          ],
          "contour": [
           {
            "colorbar": {
             "outlinewidth": 0,
             "ticks": ""
            },
            "colorscale": [
             [
              0,
              "#0d0887"
             ],
             [
              0.1111111111111111,
              "#46039f"
             ],
             [
              0.2222222222222222,
              "#7201a8"
             ],
             [
              0.3333333333333333,
              "#9c179e"
             ],
             [
              0.4444444444444444,
              "#bd3786"
             ],
             [
              0.5555555555555556,
              "#d8576b"
             ],
             [
              0.6666666666666666,
              "#ed7953"
             ],
             [
              0.7777777777777778,
              "#fb9f3a"
             ],
             [
              0.8888888888888888,
              "#fdca26"
             ],
             [
              1,
              "#f0f921"
             ]
            ],
            "type": "contour"
           }
          ],
          "contourcarpet": [
           {
            "colorbar": {
             "outlinewidth": 0,
             "ticks": ""
            },
            "type": "contourcarpet"
           }
          ],
          "heatmap": [
           {
            "colorbar": {
             "outlinewidth": 0,
             "ticks": ""
            },
            "colorscale": [
             [
              0,
              "#0d0887"
             ],
             [
              0.1111111111111111,
              "#46039f"
             ],
             [
              0.2222222222222222,
              "#7201a8"
             ],
             [
              0.3333333333333333,
              "#9c179e"
             ],
             [
              0.4444444444444444,
              "#bd3786"
             ],
             [
              0.5555555555555556,
              "#d8576b"
             ],
             [
              0.6666666666666666,
              "#ed7953"
             ],
             [
              0.7777777777777778,
              "#fb9f3a"
             ],
             [
              0.8888888888888888,
              "#fdca26"
             ],
             [
              1,
              "#f0f921"
             ]
            ],
            "type": "heatmap"
           }
          ],
          "heatmapgl": [
           {
            "colorbar": {
             "outlinewidth": 0,
             "ticks": ""
            },
            "colorscale": [
             [
              0,
              "#0d0887"
             ],
             [
              0.1111111111111111,
              "#46039f"
             ],
             [
              0.2222222222222222,
              "#7201a8"
             ],
             [
              0.3333333333333333,
              "#9c179e"
             ],
             [
              0.4444444444444444,
              "#bd3786"
             ],
             [
              0.5555555555555556,
              "#d8576b"
             ],
             [
              0.6666666666666666,
              "#ed7953"
             ],
             [
              0.7777777777777778,
              "#fb9f3a"
             ],
             [
              0.8888888888888888,
              "#fdca26"
             ],
             [
              1,
              "#f0f921"
             ]
            ],
            "type": "heatmapgl"
           }
          ],
          "histogram": [
           {
            "marker": {
             "colorbar": {
              "outlinewidth": 0,
              "ticks": ""
             }
            },
            "type": "histogram"
           }
          ],
          "histogram2d": [
           {
            "colorbar": {
             "outlinewidth": 0,
             "ticks": ""
            },
            "colorscale": [
             [
              0,
              "#0d0887"
             ],
             [
              0.1111111111111111,
              "#46039f"
             ],
             [
              0.2222222222222222,
              "#7201a8"
             ],
             [
              0.3333333333333333,
              "#9c179e"
             ],
             [
              0.4444444444444444,
              "#bd3786"
             ],
             [
              0.5555555555555556,
              "#d8576b"
             ],
             [
              0.6666666666666666,
              "#ed7953"
             ],
             [
              0.7777777777777778,
              "#fb9f3a"
             ],
             [
              0.8888888888888888,
              "#fdca26"
             ],
             [
              1,
              "#f0f921"
             ]
            ],
            "type": "histogram2d"
           }
          ],
          "histogram2dcontour": [
           {
            "colorbar": {
             "outlinewidth": 0,
             "ticks": ""
            },
            "colorscale": [
             [
              0,
              "#0d0887"
             ],
             [
              0.1111111111111111,
              "#46039f"
             ],
             [
              0.2222222222222222,
              "#7201a8"
             ],
             [
              0.3333333333333333,
              "#9c179e"
             ],
             [
              0.4444444444444444,
              "#bd3786"
             ],
             [
              0.5555555555555556,
              "#d8576b"
             ],
             [
              0.6666666666666666,
              "#ed7953"
             ],
             [
              0.7777777777777778,
              "#fb9f3a"
             ],
             [
              0.8888888888888888,
              "#fdca26"
             ],
             [
              1,
              "#f0f921"
             ]
            ],
            "type": "histogram2dcontour"
           }
          ],
          "mesh3d": [
           {
            "colorbar": {
             "outlinewidth": 0,
             "ticks": ""
            },
            "type": "mesh3d"
           }
          ],
          "parcoords": [
           {
            "line": {
             "colorbar": {
              "outlinewidth": 0,
              "ticks": ""
             }
            },
            "type": "parcoords"
           }
          ],
          "pie": [
           {
            "automargin": true,
            "type": "pie"
           }
          ],
          "scatter": [
           {
            "marker": {
             "colorbar": {
              "outlinewidth": 0,
              "ticks": ""
             }
            },
            "type": "scatter"
           }
          ],
          "scatter3d": [
           {
            "line": {
             "colorbar": {
              "outlinewidth": 0,
              "ticks": ""
             }
            },
            "marker": {
             "colorbar": {
              "outlinewidth": 0,
              "ticks": ""
             }
            },
            "type": "scatter3d"
           }
          ],
          "scattercarpet": [
           {
            "marker": {
             "colorbar": {
              "outlinewidth": 0,
              "ticks": ""
             }
            },
            "type": "scattercarpet"
           }
          ],
          "scattergeo": [
           {
            "marker": {
             "colorbar": {
              "outlinewidth": 0,
              "ticks": ""
             }
            },
            "type": "scattergeo"
           }
          ],
          "scattergl": [
           {
            "marker": {
             "colorbar": {
              "outlinewidth": 0,
              "ticks": ""
             }
            },
            "type": "scattergl"
           }
          ],
          "scattermapbox": [
           {
            "marker": {
             "colorbar": {
              "outlinewidth": 0,
              "ticks": ""
             }
            },
            "type": "scattermapbox"
           }
          ],
          "scatterpolar": [
           {
            "marker": {
             "colorbar": {
              "outlinewidth": 0,
              "ticks": ""
             }
            },
            "type": "scatterpolar"
           }
          ],
          "scatterpolargl": [
           {
            "marker": {
             "colorbar": {
              "outlinewidth": 0,
              "ticks": ""
             }
            },
            "type": "scatterpolargl"
           }
          ],
          "scatterternary": [
           {
            "marker": {
             "colorbar": {
              "outlinewidth": 0,
              "ticks": ""
             }
            },
            "type": "scatterternary"
           }
          ],
          "surface": [
           {
            "colorbar": {
             "outlinewidth": 0,
             "ticks": ""
            },
            "colorscale": [
             [
              0,
              "#0d0887"
             ],
             [
              0.1111111111111111,
              "#46039f"
             ],
             [
              0.2222222222222222,
              "#7201a8"
             ],
             [
              0.3333333333333333,
              "#9c179e"
             ],
             [
              0.4444444444444444,
              "#bd3786"
             ],
             [
              0.5555555555555556,
              "#d8576b"
             ],
             [
              0.6666666666666666,
              "#ed7953"
             ],
             [
              0.7777777777777778,
              "#fb9f3a"
             ],
             [
              0.8888888888888888,
              "#fdca26"
             ],
             [
              1,
              "#f0f921"
             ]
            ],
            "type": "surface"
           }
          ],
          "table": [
           {
            "cells": {
             "fill": {
              "color": "#EBF0F8"
             },
             "line": {
              "color": "white"
             }
            },
            "header": {
             "fill": {
              "color": "#C8D4E3"
             },
             "line": {
              "color": "white"
             }
            },
            "type": "table"
           }
          ]
         },
         "layout": {
          "annotationdefaults": {
           "arrowcolor": "#2a3f5f",
           "arrowhead": 0,
           "arrowwidth": 1
          },
          "autotypenumbers": "strict",
          "coloraxis": {
           "colorbar": {
            "outlinewidth": 0,
            "ticks": ""
           }
          },
          "colorscale": {
           "diverging": [
            [
             0,
             "#8e0152"
            ],
            [
             0.1,
             "#c51b7d"
            ],
            [
             0.2,
             "#de77ae"
            ],
            [
             0.3,
             "#f1b6da"
            ],
            [
             0.4,
             "#fde0ef"
            ],
            [
             0.5,
             "#f7f7f7"
            ],
            [
             0.6,
             "#e6f5d0"
            ],
            [
             0.7,
             "#b8e186"
            ],
            [
             0.8,
             "#7fbc41"
            ],
            [
             0.9,
             "#4d9221"
            ],
            [
             1,
             "#276419"
            ]
           ],
           "sequential": [
            [
             0,
             "#0d0887"
            ],
            [
             0.1111111111111111,
             "#46039f"
            ],
            [
             0.2222222222222222,
             "#7201a8"
            ],
            [
             0.3333333333333333,
             "#9c179e"
            ],
            [
             0.4444444444444444,
             "#bd3786"
            ],
            [
             0.5555555555555556,
             "#d8576b"
            ],
            [
             0.6666666666666666,
             "#ed7953"
            ],
            [
             0.7777777777777778,
             "#fb9f3a"
            ],
            [
             0.8888888888888888,
             "#fdca26"
            ],
            [
             1,
             "#f0f921"
            ]
           ],
           "sequentialminus": [
            [
             0,
             "#0d0887"
            ],
            [
             0.1111111111111111,
             "#46039f"
            ],
            [
             0.2222222222222222,
             "#7201a8"
            ],
            [
             0.3333333333333333,
             "#9c179e"
            ],
            [
             0.4444444444444444,
             "#bd3786"
            ],
            [
             0.5555555555555556,
             "#d8576b"
            ],
            [
             0.6666666666666666,
             "#ed7953"
            ],
            [
             0.7777777777777778,
             "#fb9f3a"
            ],
            [
             0.8888888888888888,
             "#fdca26"
            ],
            [
             1,
             "#f0f921"
            ]
           ]
          },
          "colorway": [
           "#636efa",
           "#EF553B",
           "#00cc96",
           "#ab63fa",
           "#FFA15A",
           "#19d3f3",
           "#FF6692",
           "#B6E880",
           "#FF97FF",
           "#FECB52"
          ],
          "font": {
           "color": "#2a3f5f"
          },
          "geo": {
           "bgcolor": "white",
           "lakecolor": "white",
           "landcolor": "#E5ECF6",
           "showlakes": true,
           "showland": true,
           "subunitcolor": "white"
          },
          "hoverlabel": {
           "align": "left"
          },
          "hovermode": "closest",
          "mapbox": {
           "style": "light"
          },
          "paper_bgcolor": "white",
          "plot_bgcolor": "#E5ECF6",
          "polar": {
           "angularaxis": {
            "gridcolor": "white",
            "linecolor": "white",
            "ticks": ""
           },
           "bgcolor": "#E5ECF6",
           "radialaxis": {
            "gridcolor": "white",
            "linecolor": "white",
            "ticks": ""
           }
          },
          "scene": {
           "xaxis": {
            "backgroundcolor": "#E5ECF6",
            "gridcolor": "white",
            "gridwidth": 2,
            "linecolor": "white",
            "showbackground": true,
            "ticks": "",
            "zerolinecolor": "white"
           },
           "yaxis": {
            "backgroundcolor": "#E5ECF6",
            "gridcolor": "white",
            "gridwidth": 2,
            "linecolor": "white",
            "showbackground": true,
            "ticks": "",
            "zerolinecolor": "white"
           },
           "zaxis": {
            "backgroundcolor": "#E5ECF6",
            "gridcolor": "white",
            "gridwidth": 2,
            "linecolor": "white",
            "showbackground": true,
            "ticks": "",
            "zerolinecolor": "white"
           }
          },
          "shapedefaults": {
           "line": {
            "color": "#2a3f5f"
           }
          },
          "ternary": {
           "aaxis": {
            "gridcolor": "white",
            "linecolor": "white",
            "ticks": ""
           },
           "baxis": {
            "gridcolor": "white",
            "linecolor": "white",
            "ticks": ""
           },
           "bgcolor": "#E5ECF6",
           "caxis": {
            "gridcolor": "white",
            "linecolor": "white",
            "ticks": ""
           }
          },
          "title": {
           "x": 0.05
          },
          "xaxis": {
           "automargin": true,
           "gridcolor": "white",
           "linecolor": "white",
           "ticks": "",
           "title": {
            "standoff": 15
           },
           "zerolinecolor": "white",
           "zerolinewidth": 2
          },
          "yaxis": {
           "automargin": true,
           "gridcolor": "white",
           "linecolor": "white",
           "ticks": "",
           "title": {
            "standoff": 15
           },
           "zerolinecolor": "white",
           "zerolinewidth": 2
          }
         }
        },
        "title": {
         "text": "Most Commmon News(2) Words"
        },
        "width": 600,
        "xaxis": {
         "anchor": "y",
         "domain": [
          0,
          1
         ],
         "title": {
          "text": "count"
         }
        },
        "yaxis": {
         "anchor": "x",
         "domain": [
          0,
          1
         ],
         "title": {
          "text": "Common_words"
         }
        }
       }
      }
     },
     "metadata": {}
    }
   ],
   "source": [
    "fig = px.bar(news, x=\"count\", y=\"Common_words\", title='Most Commmon News(2) Words', orientation='h', \n",
    "             width=600, height=600)\n",
    "fig.show()"
   ]
  },
  {
   "cell_type": "markdown",
   "source": [
    "### Observation:\n",
    " -"
   ],
   "metadata": {}
  },
  {
   "cell_type": "markdown",
   "source": [
    "### Counting number of Emojis used in the texts"
   ],
   "metadata": {}
  },
  {
   "cell_type": "code",
   "execution_count": null,
   "source": [
    "import emoji\n",
    "emojis_df=[]\n",
    "for string in df['message']:\n",
    "    my_str = str(string)\n",
    "    for each in my_str:\n",
    "        if each in emoji.UNICODE_EMOJI['en'].keys():\n",
    "            emojis_df.append(each)\n",
    "freq = (Counter(i for sub in emojis_df for i in set(sub))) \n",
    "sort_orders = sorted(freq.items(), key=lambda x: x[1], reverse=True)"
   ],
   "outputs": [],
   "metadata": {}
  },
  {
   "cell_type": "code",
   "execution_count": null,
   "source": [
    "print(sort_orders)"
   ],
   "outputs": [],
   "metadata": {}
  },
  {
   "cell_type": "code",
   "execution_count": null,
   "source": [
    "#function for emoji extraction\n",
    "def ext_emoji(s):\n",
    "    return ''.join(c for c in s if c in emoji.UNICODE_EMOJI['en'].keys())"
   ],
   "outputs": [],
   "metadata": {}
  },
  {
   "cell_type": "code",
   "execution_count": null,
   "source": [
    "#extracting emojis from train data\n",
    "\n",
    "df['emoji'] = df['message'].apply(ext_emoji)\n",
    "df[df['emoji']!='']['emoji']"
   ],
   "outputs": [],
   "metadata": {}
  },
  {
   "cell_type": "markdown",
   "source": [
    "### Observation:\n",
    "- The most common emoji is the 'face with tears of joy' is an emoji featuring a jovial face laughing, while also crying out tears\n",
    "- We have other emjis that illustrate the impacts of global warmaing on weather and climate change, e.g 'earth,fire,flowers and snowflake'"
   ],
   "metadata": {}
  },
  {
   "cell_type": "code",
   "execution_count": null,
   "source": [],
   "outputs": [],
   "metadata": {}
  },
  {
   "cell_type": "markdown",
   "source": [
    "### WordCloud of most common positive words used.\n"
   ],
   "metadata": {}
  },
  {
   "cell_type": "code",
   "execution_count": null,
   "source": [
    "wordcloud = WordCloud(max_font_size=250,background_color='white', width=1500, height=700).generate(' '.join(Positive[Positive['sentiment'] == 1]\n",
    "                                          ['clean_message']))\n",
    "plt.figure( figsize=(16,10))\n",
    "plt.imshow(wordcloud)\n",
    "plt.title('Positive Tweets')\n",
    "plt.axis(\"off\")\n",
    "plt.show()"
   ],
   "outputs": [],
   "metadata": {}
  },
  {
   "cell_type": "markdown",
   "source": [
    "### Observations:\n",
    " -"
   ],
   "metadata": {}
  },
  {
   "cell_type": "markdown",
   "source": [
    "### WordCloud of most common negative words used"
   ],
   "metadata": {}
  },
  {
   "cell_type": "code",
   "execution_count": null,
   "source": [
    "wordcloud = WordCloud(max_font_size=250,background_color='white', width=1500, height=700).generate(' '.join(Negative[Negative['sentiment'] == -1]\n",
    "                                          ['clean_message']))\n",
    "plt.figure( figsize=(16,10))\n",
    "plt.imshow(wordcloud)\n",
    "plt.title('Negative Tweets')\n",
    "plt.axis(\"off\")\n",
    "plt.show()"
   ],
   "outputs": [],
   "metadata": {}
  },
  {
   "cell_type": "markdown",
   "source": [
    "### Observations:\n",
    " -"
   ],
   "metadata": {}
  },
  {
   "cell_type": "code",
   "execution_count": null,
   "source": [],
   "outputs": [],
   "metadata": {}
  },
  {
   "cell_type": "markdown",
   "source": [
    "### WordCloud of most common neutral words used"
   ],
   "metadata": {}
  },
  {
   "cell_type": "code",
   "execution_count": null,
   "source": [
    "wordcloud = WordCloud(max_font_size=250,background_color='white', width=1500, height=700).generate(' '.join(Neutral[Neutral['sentiment'] == 0]\n",
    "                                          ['clean_message']))\n",
    "plt.figure( figsize=(16,10))\n",
    "plt.imshow(wordcloud)\n",
    "plt.title('Neutral Tweets')\n",
    "plt.axis(\"off\")\n",
    "plt.show()"
   ],
   "outputs": [],
   "metadata": {}
  },
  {
   "cell_type": "markdown",
   "source": [
    "### Observations:\n",
    " -"
   ],
   "metadata": {}
  },
  {
   "cell_type": "code",
   "execution_count": null,
   "source": [],
   "outputs": [],
   "metadata": {}
  },
  {
   "cell_type": "markdown",
   "source": [
    "### WordCloud of most common neutral words used"
   ],
   "metadata": {}
  },
  {
   "cell_type": "code",
   "execution_count": null,
   "source": [
    "wordcloud = WordCloud(max_font_size=250,background_color='white', width=1500, height=700).generate(' '.join(News[News['sentiment'] == 2]\n",
    "                                          ['clean_message']))\n",
    "plt.figure( figsize=(16,10))\n",
    "plt.imshow(wordcloud)\n",
    "plt.title('News Tweets')\n",
    "plt.axis(\"off\")\n",
    "plt.show()"
   ],
   "outputs": [],
   "metadata": {}
  },
  {
   "cell_type": "markdown",
   "source": [
    "### WordCloud of most common words used 'Overall'\n",
    "- Wordcloud is a data visualization technique used for representing text data in which the size of each word indicates its frequency or importance"
   ],
   "metadata": {}
  },
  {
   "cell_type": "code",
   "execution_count": null,
   "source": [
    "train_msg = \" \".join(tweet for tweet in df.clean_message)\n",
    "train_wordcloud = WordCloud(max_font_size=250,\n",
    "                            background_color=\"White\",\n",
    "                            width=1500,\n",
    "                            height=700,\n",
    "                            collocations=False,\n",
    "                            colormap='Paired').generate(train_msg)\n",
    "plt.figure(figsize=(16, 10))\n",
    "plt.imshow(train_wordcloud)\n",
    "plt.axis(\"off\")\n",
    "plt.tight_layout(pad=0)\n",
    "plt.show()"
   ],
   "outputs": [],
   "metadata": {}
  },
  {
   "cell_type": "markdown",
   "source": [
    "### Observation:\n",
    " - "
   ],
   "metadata": {}
  },
  {
   "cell_type": "markdown",
   "source": [
    "## Balancing Data"
   ],
   "metadata": {}
  },
  {
   "cell_type": "code",
   "execution_count": null,
   "source": [
    "\n",
    "# Separate minority and majority classes\n",
    "majority_sentiment = df[df['sentiment']== 1]\n",
    "minority_sentiment_0 = df[df['sentiment']== 0]\n",
    "minority_sentiment_2 = df[df['sentiment']== 2]\n",
    "minority_sentiment_neg1 = df[df['sentiment'] == -1]"
   ],
   "outputs": [],
   "metadata": {}
  },
  {
   "cell_type": "markdown",
   "source": [
    "# Upsample minority"
   ],
   "metadata": {}
  },
  {
   "cell_type": "code",
   "execution_count": null,
   "source": [
    "minority_sentiment_0_minority = resample(minority_sentiment_0,\n",
    "                          replace=True, # sample with replacement (we need to duplicate observations)\n",
    "                          n_samples=len(majority_sentiment), # match number in minority class\n",
    "                          random_state=42) # reproducible results\n",
    "\n",
    "minority_sentiment_2_minority = resample(minority_sentiment_2,\n",
    "                                         replace = True,\n",
    "                                         n_samples=len(majority_sentiment),\n",
    "                                         random_state=42)\n",
    "\n",
    "minority_sentiment_neg1_minority = resample(minority_sentiment_neg1,\n",
    "                                   replace=True,\n",
    "                                   n_samples=len(majority_sentiment),\n",
    "                                   random_state=42)\n",
    "\n",
    "# Combine upsampled minority class with majority class\n",
    "df2 = pd.concat([majority_sentiment, minority_sentiment_0_minority,minority_sentiment_2_minority,minority_sentiment_neg1_minority])\n",
    "\n",
    "# Check new class counts\n",
    "df2['sentiment'].value_counts()"
   ],
   "outputs": [],
   "metadata": {}
  },
  {
   "cell_type": "markdown",
   "source": [
    "## downsample "
   ],
   "metadata": {}
  },
  {
   "cell_type": "code",
   "execution_count": null,
   "source": [
    "# Separate minority and majority classes\n",
    "majority_sentiment = df[df['sentiment']== 1]\n",
    "minority_sentiment_0 = df[df['sentiment']== 0]\n",
    "minority_sentiment_2 = df[df['sentiment']== 2]\n",
    "minority_sentiment_neg1 = df[df['sentiment'] == -1]\n",
    "\n",
    "\n",
    "Pro = resample(majority_sentiment,##PRO,\n",
    "                          replace=False, # sample with replacement (we need to duplicate observations)\n",
    "                          n_samples=len(minority_sentiment_neg1), # match number in minority class\n",
    "                          random_state=42) # reproducible results\n",
    "\n",
    "Neutral = resample(minority_sentiment_0,##NEUTRAL,\n",
    "                                         replace = False,\n",
    "                                         n_samples=len(minority_sentiment_neg1),\n",
    "                                         random_state=42)\n",
    "\n",
    "news = resample(minority_sentiment_2,##NEWS,\n",
    "                                   replace=False,\n",
    "                                   n_samples=len(minority_sentiment_neg1),\n",
    "                                   random_state=42)\n",
    "\n",
    "# Combine upsampled minority class with majority class\n",
    "df_down = pd.concat([Pro,Neutral,news,minority_sentiment_neg1])\n",
    "\n",
    "# Check new class counts\n",
    "df_down['sentiment'].value_counts()"
   ],
   "outputs": [],
   "metadata": {}
  },
  {
   "cell_type": "code",
   "execution_count": null,
   "source": [
    "#n_samples=len(Anti)"
   ],
   "outputs": [],
   "metadata": {}
  },
  {
   "cell_type": "code",
   "execution_count": null,
   "source": [
    "# Show the table of balanced data in clean_text from each language Id\n",
    "dist = df2.groupby('sentiment').count()['clean_message'].reset_index().sort_values(by='clean_message',ascending=True)"
   ],
   "outputs": [],
   "metadata": {}
  },
  {
   "cell_type": "code",
   "execution_count": null,
   "source": [
    "dist"
   ],
   "outputs": [],
   "metadata": {}
  },
  {
   "cell_type": "markdown",
   "source": [
    "# UP AND DOWN"
   ],
   "metadata": {}
  },
  {
   "cell_type": "code",
   "execution_count": null,
   "source": [
    "# Separate minority and majority classes\n",
    "majority_sentiment = df[df['sentiment']== 1]\n",
    "minority_sentiment_0 = df[df['sentiment']== 0]\n",
    "minority_sentiment_2 = df[df['sentiment']== 2]\n",
    "minority_sentiment_neg1 = df[df['sentiment'] == -1]\n",
    "\n",
    "# Downsample majority\n",
    "class_size=round(len(majority_sentiment)/2)\n",
    "Pro_downsampled2 = resample(majority_sentiment,\n",
    "                          replace=False, # sample without replacement (no need to duplicate observations)\n",
    "                          n_samples=class_size, # match number in class size\n",
    "                          random_state=30) # reproducible results\n",
    "\n",
    "# Combine downsampled majority class with minority class\n",
    "#downsampled = pd.concat([not_spam_downsampled, spam])\n",
    "\n",
    "# Upsample minority\n",
    "News_upsampled = resample(minority_sentiment_2,\n",
    "                          replace=True, # sample with replacement (we need to duplicate observations)\n",
    "                          n_samples=class_size, # match number in  class size\n",
    "                          random_state=31) # reproducible results\n",
    "\n",
    "Neutral_upsampled = resample(minority_sentiment_0,\n",
    "                          replace=True, # sample with replacement (we need to duplicate observations)\n",
    "                          n_samples=class_size, # match number in  class size\n",
    "                          random_state=32) # reproducible results\n",
    "\n",
    "Anti_upsampled = resample(minority_sentiment_neg1,\n",
    "                          replace=True, # sample with replacement (we need to duplicate observations)\n",
    "                          n_samples=class_size, # match number in  class size\n",
    "                          random_state=33) # reproducible results\n",
    "\n",
    "\n",
    "\n",
    "# Combine upsampled minority class with majority class\n",
    "upsampled_downsampled = pd.concat([News_upsampled,Neutral_upsampled,Anti_upsampled, Pro_downsampled2])\n",
    "# Check new class counts\n",
    "upsampled_downsampled['sentiment'].value_counts()"
   ],
   "outputs": [],
   "metadata": {}
  },
  {
   "cell_type": "code",
   "execution_count": null,
   "source": [
    "upsampled_downsampled.head(2)"
   ],
   "outputs": [],
   "metadata": {}
  },
  {
   "cell_type": "markdown",
   "source": [
    "## Data Preprosessing"
   ],
   "metadata": {}
  },
  {
   "cell_type": "markdown",
   "source": [
    "### Train (Validation) Test Split"
   ],
   "metadata": {}
  },
  {
   "cell_type": "code",
   "execution_count": null,
   "source": [
    "df['stemm']#Unbalanced"
   ],
   "outputs": [],
   "metadata": {}
  },
  {
   "cell_type": "code",
   "execution_count": null,
   "source": [
    "df2.head()# Upsampled balanced"
   ],
   "outputs": [],
   "metadata": {}
  },
  {
   "cell_type": "code",
   "execution_count": null,
   "source": [
    "X = df2['clean_message']\n",
    "y = df2['sentiment']"
   ],
   "outputs": [],
   "metadata": {}
  },
  {
   "cell_type": "markdown",
   "source": [
    "### Upsampling_Downsampling our data makes model performance worse"
   ],
   "metadata": {}
  },
  {
   "cell_type": "markdown",
   "source": [
    "X = upsampled_downsampled['clean_message']\n",
    "y = upsampled_downsampled['sentiment']"
   ],
   "metadata": {}
  },
  {
   "cell_type": "markdown",
   "source": [
    "### Down sampling our data makes model performance worst\n",
    "\n",
    "we have very little training data here"
   ],
   "metadata": {}
  },
  {
   "cell_type": "markdown",
   "source": [
    "X = df_down['clean_message']\n",
    "y = df_down['sentiment']"
   ],
   "metadata": {}
  },
  {
   "cell_type": "code",
   "execution_count": null,
   "source": [
    "df2.shape"
   ],
   "outputs": [],
   "metadata": {}
  },
  {
   "cell_type": "markdown",
   "source": [
    "# Train_Test Split "
   ],
   "metadata": {}
  },
  {
   "cell_type": "code",
   "execution_count": null,
   "source": [
    "ts = .1\n",
    "rs = 42\n",
    "\n",
    "X_train, X_val, y_train, y_val = train_test_split(X, y, test_size=ts, random_state=rs)\n",
    "\n",
    "experiment.log_parameters({\"test size\": ts, \"random state\": rs})"
   ],
   "outputs": [],
   "metadata": {}
  },
  {
   "cell_type": "markdown",
   "source": [
    "# Classification Models \n",
    "[Back to Table of Contents](#toc)"
   ],
   "metadata": {}
  },
  {
   "cell_type": "code",
   "execution_count": null,
   "source": [
    "from sklearn.naive_bayes import MultinomialNB, ComplementNB\n",
    "clf_dict = [LinearSVC(random_state=42), KNeighborsClassifier(n_neighbors=5),DecisionTreeClassifier(max_depth=5),\n",
    "                        RandomForestClassifier(max_depth=5, n_estimators=10,\n",
    "                        max_features=1), ComplementNB(), MultinomialNB(), AdaBoostClassifier()\n",
    "                         ]"
   ],
   "outputs": [],
   "metadata": {}
  },
  {
   "cell_type": "code",
   "execution_count": null,
   "source": [
    "def modeling(clf_dict, X_train, y_train, X_val, y_val):\n",
    "\n",
    "    models = {}\n",
    "    for clf in clf_dict:\n",
    "        clf_text = Pipeline([('tfidf', TfidfVectorizer(min_df=1, max_df=0.1, ngram_range=(1, 2))),('clf', clf)])\n",
    "        \n",
    "        clf_text.fit(X_train, y_train)\n",
    "        predictions = clf_text.predict(X_val)\n",
    "\n",
    "        # Output for each model\n",
    "        models[clf.__class__.__name__] = {\n",
    "            'F1-Macro': metrics.f1_score(y_val,predictions,average='macro'),\n",
    "            'F1-Mccuracy': metrics.f1_score(y_val, predictions,average='micro'),\n",
    "            'F1-Weighted': metrics.f1_score(y_val,predictions,average='weighted')}\n",
    "\n",
    "    return pd.DataFrame.from_dict(models, orient='index')"
   ],
   "outputs": [],
   "metadata": {}
  },
  {
   "cell_type": "code",
   "execution_count": null,
   "source": [
    "# Displaying all the models\n",
    "classi = modeling(clf_dict, X_train, y_train, X_val, y_val)\n",
    "display_df = classi.sort_values('F1-Macro', ascending=False)\n",
    "display_df"
   ],
   "outputs": [],
   "metadata": {}
  },
  {
   "cell_type": "markdown",
   "source": [
    "## Performance Visuals"
   ],
   "metadata": {}
  },
  {
   "cell_type": "code",
   "execution_count": null,
   "source": [
    "#Compare Performance between models visually\n",
    "\n",
    "#fig,axis = plt.subplots(figsize=(10,5))\n",
    "#rmse_x = ['LinearSVC', 'KNeighborsClassifier','DecisionTreeClassifier','RandomForestClassifier', 'ComplementNB', 'MultinomialNB', 'AdaBoostClassifier']\n",
    "#rmse_y = clf_dict\n",
    "#ax = sns.barplot(x=rmse_x, y=rmse_y, palette=('Blues_d'))\n",
    "#plt.title('Weighted F1-Score per Model', fontsize=14)\n",
    "#plt.xticks(rotation=90)\n",
    "#plt.ylabel('Weighted F1-Score')\n",
    "#for p in ax.patches:\n",
    "#    ax.text(p.get_x() + p.get_width()/2, p.get_height(), round(p.get_height(), 2), fontsize=12, ha='center', va='bottom')\n",
    "    \n",
    "#plt.show()"
   ],
   "outputs": [],
   "metadata": {}
  },
  {
   "cell_type": "code",
   "execution_count": null,
   "source": [
    "from sklearn.feature_extraction.text import CountVectorizer\n",
    "vectorizer = CountVectorizer()"
   ],
   "outputs": [],
   "metadata": {}
  },
  {
   "cell_type": "markdown",
   "source": [
    "### Running a Single model"
   ],
   "metadata": {}
  },
  {
   "cell_type": "code",
   "execution_count": null,
   "source": [
    "from sklearn.pipeline import Pipeline\n",
    "param_grid = {'alpha': [0.1, 1, 5, 11]}  # parameter grid\n",
    "\n",
    "pipeline = Pipeline([('tfidf', TfidfVectorizer(min_df=2, max_df=0.9, ngram_range=(1, 3))), ('mnb', GridSearchCV(MultinomialNB(),  param_grid=param_grid, cv=5, n_jobs=-1, scoring='f1_weighted'))])\n"
   ],
   "outputs": [],
   "metadata": {}
  },
  {
   "cell_type": "code",
   "execution_count": null,
   "source": [
    "pipeline.fit(X_train,y_train)"
   ],
   "outputs": [],
   "metadata": {}
  },
  {
   "cell_type": "code",
   "execution_count": null,
   "source": [
    "predictions = pipeline.predict(X_val)"
   ],
   "outputs": [],
   "metadata": {}
  },
  {
   "cell_type": "code",
   "execution_count": null,
   "source": [
    "print(classification_report(predictions,y_val))"
   ],
   "outputs": [],
   "metadata": {}
  },
  {
   "cell_type": "code",
   "execution_count": null,
   "source": [
    "from sklearn.feature_extraction.text import CountVectorizer\n",
    "vectorizer = CountVectorizer()"
   ],
   "outputs": [],
   "metadata": {}
  },
  {
   "cell_type": "code",
   "execution_count": null,
   "source": [
    "f1_Macro = metrics.f1_score(y_val,predictions,average='macro')\n",
    "f1_Mccuracy = metrics.f1_score(y_val, predictions,average='micro'),\n",
    "f1_Weighted =  metrics.f1_score(y_val,predictions,average='weighted')"
   ],
   "outputs": [],
   "metadata": {}
  },
  {
   "cell_type": "code",
   "execution_count": null,
   "source": [
    "experiment.log_metric(\"f1-Macro\", f1_Macro)\n",
    "experiment.log_metric(\"f1-Mccuracy\", f1_Mccuracy)\n",
    "experiment.log_metric(\"f1-Weighted\", f1_Weighted)"
   ],
   "outputs": [],
   "metadata": {}
  },
  {
   "cell_type": "markdown",
   "source": [
    "## Prediction Submission csv"
   ],
   "metadata": {}
  },
  {
   "cell_type": "code",
   "execution_count": null,
   "source": [
    "LSVC = pd.DataFrame(data={'tweetid': test_df['tweetid'],'sentiment': predictions})"
   ],
   "outputs": [],
   "metadata": {}
  },
  {
   "cell_type": "code",
   "execution_count": null,
   "source": [
    "LSVC.to_csv(\"GridSearch_MultNB_Clean_message.csv\", index=False)\n",
    "#OUR MODEL IMPROVED BY USING STEMMA BETTER THAN LEMMA AND WE USED UPSAMPLED DATA WITH TRAINING DATA OF 90%"
   ],
   "outputs": [],
   "metadata": {}
  },
  {
   "cell_type": "code",
   "execution_count": null,
   "source": [
    "experiment.end()"
   ],
   "outputs": [],
   "metadata": {}
  },
  {
   "cell_type": "markdown",
   "source": [
    "## References\n",
    "- Websites used for insipiration"
   ],
   "metadata": {
    "papermill": {
     "duration": 0.037324,
     "end_time": "2021-06-10T11:02:46.044445",
     "exception": false,
     "start_time": "2021-06-10T11:02:46.007121",
     "status": "completed"
    },
    "tags": []
   }
  },
  {
   "cell_type": "markdown",
   "source": [
    "- analyticsvidhya: https://www.analyticsvidhya.com/blog/2018/07/hands-on-sentiment-analysis-dataset-python/\n",
    "- towardsdatascience: https://towardsdatascience.com/how-to-efficiently-remove-punctuations-from-a-string-899ad4a059fb\n",
    "- codegrepper:  https://www.codegrepper.com/code-examples/python/pandas+series+remove+punctuation\n",
    "- https://stackoverflow.com/questions/54396405/how-can-i-preprocess-nlp-text-lowercase-remove-special-characters-remove-numb\n"
   ],
   "metadata": {
    "papermill": {
     "duration": 0.037772,
     "end_time": "2021-06-10T11:02:46.119164",
     "exception": false,
     "start_time": "2021-06-10T11:02:46.081392",
     "status": "completed"
    },
    "tags": []
   }
  },
  {
   "cell_type": "code",
   "execution_count": null,
   "source": [],
   "outputs": [],
   "metadata": {
    "papermill": {
     "duration": 0.0364,
     "end_time": "2021-06-10T11:02:46.193094",
     "exception": false,
     "start_time": "2021-06-10T11:02:46.156694",
     "status": "completed"
    },
    "tags": []
   }
  }
 ],
 "metadata": {
  "interpreter": {
   "hash": "c7d23fb0837a4a0a91752f770154e9c12a4b06fcadfa60e9b64621a47348d0b2"
  },
  "kernelspec": {
   "name": "python3",
   "display_name": "Python 3.8.10 64-bit"
  },
  "language_info": {
   "codemirror_mode": {
    "name": "ipython",
    "version": 3
   },
   "file_extension": ".py",
   "mimetype": "text/x-python",
   "name": "python",
   "nbconvert_exporter": "python",
   "pygments_lexer": "ipython3",
   "version": "3.8.10"
  },
  "papermill": {
   "default_parameters": {},
   "duration": 145.811705,
   "end_time": "2021-06-10T11:02:47.040917",
   "environment_variables": {},
   "exception": null,
   "input_path": "__notebook__.ipynb",
   "output_path": "__notebook__.ipynb",
   "parameters": {},
   "start_time": "2021-06-10T11:00:21.229212",
   "version": "2.3.3"
  }
 },
 "nbformat": 4,
 "nbformat_minor": 5
}