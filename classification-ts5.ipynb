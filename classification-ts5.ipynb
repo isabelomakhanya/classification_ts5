{
 "cells": [
  {
   "cell_type": "markdown",
   "id": "thousand-element",
   "metadata": {
    "papermill": {
     "duration": 0.029354,
     "end_time": "2021-06-13T11:56:19.846671",
     "exception": false,
     "start_time": "2021-06-13T11:56:19.817317",
     "status": "completed"
    },
    "tags": []
   },
   "source": [
    "<div align=\"center\" style=\"width: 1000px; font-size: 80%; text-align: center; margin: 0 auto\">\n",
    "<img src=\"https://raw.githubusercontent.com/CPNMorgan/Team_TS5_JHB_Classification/main/climat change.jpg\"\n",
    "     alt=\"Titanic\"\n",
    "     style=\"float: center; padding-bottom=0.5em\"\n",
    "     width=1000px/>\n",
    "\n",
    "</div>"
   ]
  },
  {
   "cell_type": "markdown",
   "id": "small-chinese",
   "metadata": {
    "papermill": {
     "duration": 0.027059,
     "end_time": "2021-06-13T11:56:19.901909",
     "exception": false,
     "start_time": "2021-06-13T11:56:19.874850",
     "status": "completed"
    },
    "tags": []
   },
   "source": [
    "# Challange Description"
   ]
  },
  {
   "cell_type": "markdown",
   "id": "occupational-dream",
   "metadata": {
    "papermill": {
     "duration": 0.027395,
     "end_time": "2021-06-13T11:56:19.956650",
     "exception": false,
     "start_time": "2021-06-13T11:56:19.929255",
     "status": "completed"
    },
    "tags": []
   },
   "source": [
    "Many companies are built around lessening one’s environmental impact or carbon footprint. They offer products and services that are environmentally friendly and sustainable, in line with their values and ideals. They would like to determine how people perceive climate change and whether or not they believe it is a real threat. This would add to their market research efforts in gauging how their product/service may be received.\n",
    "\n",
    "With this context, EDSA is challenging you during the Classification Sprint with the task of creating a Machine Learning model that is able to classify whether or not a person believes in climate change, based on their novel tweet data.\n",
    "\n",
    "Providing an accurate and robust solution to this task gives companies access to a broad base of consumer sentiment, spanning multiple demographic and geographic categories - thus increasing their insights and informing future marketing strategies."
   ]
  },
  {
   "cell_type": "markdown",
   "id": "relevant-maine",
   "metadata": {
    "papermill": {
     "duration": 0.027115,
     "end_time": "2021-06-13T11:56:20.011395",
     "exception": false,
     "start_time": "2021-06-13T11:56:19.984280",
     "status": "completed"
    },
    "tags": []
   },
   "source": [
    "# Introduction"
   ]
  },
  {
   "cell_type": "code",
   "execution_count": null,
   "id": "three-grove",
   "metadata": {
    "papermill": {
     "duration": 0.027423,
     "end_time": "2021-06-13T11:56:20.067025",
     "exception": false,
     "start_time": "2021-06-13T11:56:20.039602",
     "status": "completed"
    },
    "tags": []
   },
   "outputs": [],
   "source": []
  },
  {
   "cell_type": "markdown",
   "id": "loose-clothing",
   "metadata": {
    "papermill": {
     "duration": 0.026635,
     "end_time": "2021-06-13T11:56:20.121589",
     "exception": false,
     "start_time": "2021-06-13T11:56:20.094954",
     "status": "completed"
    },
    "tags": []
   },
   "source": [
    "# Importing Packages"
   ]
  },
  {
   "cell_type": "code",
   "execution_count": 1,
   "id": "imported-romantic",
   "metadata": {
    "execution": {
     "iopub.execute_input": "2021-06-13T11:56:20.180986Z",
     "iopub.status.busy": "2021-06-13T11:56:20.179841Z",
     "iopub.status.idle": "2021-06-13T11:56:22.031959Z",
     "shell.execute_reply": "2021-06-13T11:56:22.031134Z",
     "shell.execute_reply.started": "2021-06-12T11:55:32.399169Z"
    },
    "papermill": {
     "duration": 1.883007,
     "end_time": "2021-06-13T11:56:22.032154",
     "exception": false,
     "start_time": "2021-06-13T11:56:20.149147",
     "status": "completed"
    },
    "tags": []
   },
   "outputs": [
    {
     "name": "stdout",
     "output_type": "stream",
     "text": [
      "/kaggle/input/edsa-climate-change-belief-analysis-2021/sample_submission.csv\n",
      "/kaggle/input/edsa-climate-change-belief-analysis-2021/train.csv\n",
      "/kaggle/input/edsa-climate-change-belief-analysis-2021/test.csv\n"
     ]
    }
   ],
   "source": [
    "import numpy as np # linear algebra\n",
    "import pandas as pd # data processing, CSV file I/O (e.g. pd.read_csv)\n",
    "import matplotlib.pyplot as plt\n",
    "from plotly import graph_objs as go\n",
    "import seaborn as sns\n",
    "\n",
    "#nlp\n",
    "import string\n",
    "import re    #for regex\n",
    "import nltk\n",
    "from nltk.stem.porter import *\n",
    "from nltk.corpus import stopwords\n",
    "#import spacy\n",
    "from nltk import pos_tag\n",
    "from nltk.stem.wordnet import WordNetLemmatizer \n",
    "from nltk.tokenize import word_tokenize\n",
    "from PIL import Image\n",
    "from sklearn.feature_extraction.text import CountVectorizer\n",
    "from wordcloud import WordCloud, STOPWORDS, ImageColorGenerator\n",
    "\n",
    "from nltk.tokenize import TweetTokenizer   \n",
    "from sklearn.feature_extraction.text import TfidfVectorizer\n",
    "from sklearn.model_selection import cross_val_score\n",
    "from sklearn.pipeline import make_union\n",
    "\n",
    "#models\n",
    "from sklearn.linear_model import LogisticRegression\n",
    "from sklearn.svm import SVC\n",
    "from sklearn.naive_bayes import MultinomialNB\n",
    "from sklearn.neighbors import KNeighborsClassifier\n",
    "from sklearn.tree import DecisionTreeClassifier\n",
    "from sklearn.ensemble import RandomForestClassifier\n",
    "from sklearn.pipeline import Pipeline\n",
    "from sklearn.decomposition import LatentDirichletAllocation as LDA\n",
    "from sklearn.model_selection import GridSearchCV\n",
    "from sklearn import metrics\n",
    "\n",
    "import os\n",
    "for dirname, _, filenames in os.walk('/kaggle/input'):\n",
    "    for filename in filenames:\n",
    "        print(os.path.join(dirname, filename))\n"
   ]
  },
  {
   "cell_type": "code",
   "execution_count": 2,
   "id": "serious-table",
   "metadata": {
    "execution": {
     "iopub.execute_input": "2021-06-13T11:56:22.100839Z",
     "iopub.status.busy": "2021-06-13T11:56:22.100193Z",
     "iopub.status.idle": "2021-06-13T11:56:22.999914Z",
     "shell.execute_reply": "2021-06-13T11:56:23.000430Z",
     "shell.execute_reply.started": "2021-06-12T11:55:34.366738Z"
    },
    "papermill": {
     "duration": 0.940225,
     "end_time": "2021-06-13T11:56:23.000635",
     "exception": false,
     "start_time": "2021-06-13T11:56:22.060410",
     "status": "completed"
    },
    "tags": []
   },
   "outputs": [],
   "source": [
    "train_df = pd.read_csv(r'https://raw.githubusercontent.com/CPNMorgan/Team_TS5_JHB_Classification/main/train.csv')\n",
    "test_df = pd.read_csv(r'https://raw.githubusercontent.com/CPNMorgan/Team_TS5_JHB_Classification/main/test_with_no_labels.csv')"
   ]
  },
  {
   "cell_type": "code",
   "execution_count": 3,
   "id": "geographic-heritage",
   "metadata": {
    "execution": {
     "iopub.execute_input": "2021-06-13T11:56:23.067470Z",
     "iopub.status.busy": "2021-06-13T11:56:23.066451Z",
     "iopub.status.idle": "2021-06-13T11:56:23.085267Z",
     "shell.execute_reply": "2021-06-13T11:56:23.084697Z",
     "shell.execute_reply.started": "2021-06-12T11:55:35.229983Z"
    },
    "papermill": {
     "duration": 0.057128,
     "end_time": "2021-06-13T11:56:23.085423",
     "exception": false,
     "start_time": "2021-06-13T11:56:23.028295",
     "status": "completed"
    },
    "tags": []
   },
   "outputs": [
    {
     "data": {
      "text/html": [
       "<div>\n",
       "<style scoped>\n",
       "    .dataframe tbody tr th:only-of-type {\n",
       "        vertical-align: middle;\n",
       "    }\n",
       "\n",
       "    .dataframe tbody tr th {\n",
       "        vertical-align: top;\n",
       "    }\n",
       "\n",
       "    .dataframe thead th {\n",
       "        text-align: right;\n",
       "    }\n",
       "</style>\n",
       "<table border=\"1\" class=\"dataframe\">\n",
       "  <thead>\n",
       "    <tr style=\"text-align: right;\">\n",
       "      <th></th>\n",
       "      <th>sentiment</th>\n",
       "      <th>message</th>\n",
       "      <th>tweetid</th>\n",
       "    </tr>\n",
       "  </thead>\n",
       "  <tbody>\n",
       "    <tr>\n",
       "      <th>0</th>\n",
       "      <td>1</td>\n",
       "      <td>PolySciMajor EPA chief doesn't think carbon di...</td>\n",
       "      <td>625221</td>\n",
       "    </tr>\n",
       "    <tr>\n",
       "      <th>1</th>\n",
       "      <td>1</td>\n",
       "      <td>It's not like we lack evidence of anthropogeni...</td>\n",
       "      <td>126103</td>\n",
       "    </tr>\n",
       "    <tr>\n",
       "      <th>2</th>\n",
       "      <td>2</td>\n",
       "      <td>RT @RawStory: Researchers say we have three ye...</td>\n",
       "      <td>698562</td>\n",
       "    </tr>\n",
       "    <tr>\n",
       "      <th>3</th>\n",
       "      <td>1</td>\n",
       "      <td>#TodayinMaker# WIRED : 2016 was a pivotal year...</td>\n",
       "      <td>573736</td>\n",
       "    </tr>\n",
       "    <tr>\n",
       "      <th>4</th>\n",
       "      <td>1</td>\n",
       "      <td>RT @SoyNovioDeTodas: It's 2016, and a racist, ...</td>\n",
       "      <td>466954</td>\n",
       "    </tr>\n",
       "    <tr>\n",
       "      <th>5</th>\n",
       "      <td>1</td>\n",
       "      <td>Worth a read whether you do or don't believe i...</td>\n",
       "      <td>425577</td>\n",
       "    </tr>\n",
       "    <tr>\n",
       "      <th>6</th>\n",
       "      <td>1</td>\n",
       "      <td>RT @thenation: Mike Pence doesn’t believe in g...</td>\n",
       "      <td>294933</td>\n",
       "    </tr>\n",
       "    <tr>\n",
       "      <th>7</th>\n",
       "      <td>1</td>\n",
       "      <td>RT @makeandmendlife: Six big things we can ALL...</td>\n",
       "      <td>992717</td>\n",
       "    </tr>\n",
       "    <tr>\n",
       "      <th>8</th>\n",
       "      <td>1</td>\n",
       "      <td>@AceofSpadesHQ My 8yo nephew is inconsolable. ...</td>\n",
       "      <td>664510</td>\n",
       "    </tr>\n",
       "    <tr>\n",
       "      <th>9</th>\n",
       "      <td>1</td>\n",
       "      <td>RT @paigetweedy: no offense… but like… how do ...</td>\n",
       "      <td>260471</td>\n",
       "    </tr>\n",
       "  </tbody>\n",
       "</table>\n",
       "</div>"
      ],
      "text/plain": [
       "   sentiment                                            message  tweetid\n",
       "0          1  PolySciMajor EPA chief doesn't think carbon di...   625221\n",
       "1          1  It's not like we lack evidence of anthropogeni...   126103\n",
       "2          2  RT @RawStory: Researchers say we have three ye...   698562\n",
       "3          1  #TodayinMaker# WIRED : 2016 was a pivotal year...   573736\n",
       "4          1  RT @SoyNovioDeTodas: It's 2016, and a racist, ...   466954\n",
       "5          1  Worth a read whether you do or don't believe i...   425577\n",
       "6          1  RT @thenation: Mike Pence doesn’t believe in g...   294933\n",
       "7          1  RT @makeandmendlife: Six big things we can ALL...   992717\n",
       "8          1  @AceofSpadesHQ My 8yo nephew is inconsolable. ...   664510\n",
       "9          1  RT @paigetweedy: no offense… but like… how do ...   260471"
      ]
     },
     "execution_count": 3,
     "metadata": {},
     "output_type": "execute_result"
    }
   ],
   "source": [
    "train_df.head(10)"
   ]
  },
  {
   "cell_type": "code",
   "execution_count": 4,
   "id": "classified-scottish",
   "metadata": {
    "execution": {
     "iopub.execute_input": "2021-06-13T11:56:23.146711Z",
     "iopub.status.busy": "2021-06-13T11:56:23.145844Z",
     "iopub.status.idle": "2021-06-13T11:56:23.150102Z",
     "shell.execute_reply": "2021-06-13T11:56:23.149556Z",
     "shell.execute_reply.started": "2021-06-12T11:55:35.259665Z"
    },
    "papermill": {
     "duration": 0.036905,
     "end_time": "2021-06-13T11:56:23.150256",
     "exception": false,
     "start_time": "2021-06-13T11:56:23.113351",
     "status": "completed"
    },
    "tags": []
   },
   "outputs": [
    {
     "data": {
      "text/plain": [
       "((15819, 3), (10546, 2))"
      ]
     },
     "execution_count": 4,
     "metadata": {},
     "output_type": "execute_result"
    }
   ],
   "source": [
    "#check the shape of the data\n",
    "train_df.shape, test_df.shape"
   ]
  },
  {
   "cell_type": "code",
   "execution_count": 5,
   "id": "center-madness",
   "metadata": {
    "execution": {
     "iopub.execute_input": "2021-06-13T11:56:23.214198Z",
     "iopub.status.busy": "2021-06-13T11:56:23.213579Z",
     "iopub.status.idle": "2021-06-13T11:56:23.221134Z",
     "shell.execute_reply": "2021-06-13T11:56:23.220498Z",
     "shell.execute_reply.started": "2021-06-12T11:55:35.266912Z"
    },
    "papermill": {
     "duration": 0.042296,
     "end_time": "2021-06-13T11:56:23.221291",
     "exception": false,
     "start_time": "2021-06-13T11:56:23.178995",
     "status": "completed"
    },
    "tags": []
   },
   "outputs": [
    {
     "data": {
      "text/plain": [
       "array([ 1,  2,  0, -1])"
      ]
     },
     "execution_count": 5,
     "metadata": {},
     "output_type": "execute_result"
    }
   ],
   "source": [
    "#unique sentiments\n",
    "train_df['sentiment'].unique()"
   ]
  },
  {
   "cell_type": "code",
   "execution_count": 6,
   "id": "conventional-southeast",
   "metadata": {
    "execution": {
     "iopub.execute_input": "2021-06-13T11:56:23.291783Z",
     "iopub.status.busy": "2021-06-13T11:56:23.290912Z",
     "iopub.status.idle": "2021-06-13T11:56:23.295137Z",
     "shell.execute_reply": "2021-06-13T11:56:23.294625Z",
     "shell.execute_reply.started": "2021-06-12T11:55:35.284206Z"
    },
    "papermill": {
     "duration": 0.044842,
     "end_time": "2021-06-13T11:56:23.295270",
     "exception": false,
     "start_time": "2021-06-13T11:56:23.250428",
     "status": "completed"
    },
    "tags": []
   },
   "outputs": [
    {
     "data": {
      "text/plain": [
       "(sentiment    0\n",
       " message      0\n",
       " tweetid      0\n",
       " dtype: int64,\n",
       " message    0\n",
       " tweetid    0\n",
       " dtype: int64)"
      ]
     },
     "execution_count": 6,
     "metadata": {},
     "output_type": "execute_result"
    }
   ],
   "source": [
    "#check for nulls\n",
    "train_df.isnull().sum(), test_df.isnull().sum()"
   ]
  },
  {
   "cell_type": "code",
   "execution_count": 7,
   "id": "banner-sarah",
   "metadata": {
    "execution": {
     "iopub.execute_input": "2021-06-13T11:56:23.361299Z",
     "iopub.status.busy": "2021-06-13T11:56:23.357804Z",
     "iopub.status.idle": "2021-06-13T11:56:23.380907Z",
     "shell.execute_reply": "2021-06-13T11:56:23.380278Z",
     "shell.execute_reply.started": "2021-06-12T11:55:35.300255Z"
    },
    "papermill": {
     "duration": 0.056328,
     "end_time": "2021-06-13T11:56:23.381040",
     "exception": false,
     "start_time": "2021-06-13T11:56:23.324712",
     "status": "completed"
    },
    "tags": []
   },
   "outputs": [
    {
     "data": {
      "text/html": [
       "<div>\n",
       "<style scoped>\n",
       "    .dataframe tbody tr th:only-of-type {\n",
       "        vertical-align: middle;\n",
       "    }\n",
       "\n",
       "    .dataframe tbody tr th {\n",
       "        vertical-align: top;\n",
       "    }\n",
       "\n",
       "    .dataframe thead th {\n",
       "        text-align: right;\n",
       "    }\n",
       "</style>\n",
       "<table border=\"1\" class=\"dataframe\">\n",
       "  <thead>\n",
       "    <tr style=\"text-align: right;\">\n",
       "      <th></th>\n",
       "      <th>sentiment</th>\n",
       "      <th>tweetid</th>\n",
       "    </tr>\n",
       "  </thead>\n",
       "  <tbody>\n",
       "    <tr>\n",
       "      <th>count</th>\n",
       "      <td>15819.000000</td>\n",
       "      <td>15819.000000</td>\n",
       "    </tr>\n",
       "    <tr>\n",
       "      <th>mean</th>\n",
       "      <td>0.917504</td>\n",
       "      <td>501719.433656</td>\n",
       "    </tr>\n",
       "    <tr>\n",
       "      <th>std</th>\n",
       "      <td>0.836537</td>\n",
       "      <td>289045.983132</td>\n",
       "    </tr>\n",
       "    <tr>\n",
       "      <th>min</th>\n",
       "      <td>-1.000000</td>\n",
       "      <td>6.000000</td>\n",
       "    </tr>\n",
       "    <tr>\n",
       "      <th>25%</th>\n",
       "      <td>1.000000</td>\n",
       "      <td>253207.500000</td>\n",
       "    </tr>\n",
       "    <tr>\n",
       "      <th>50%</th>\n",
       "      <td>1.000000</td>\n",
       "      <td>502291.000000</td>\n",
       "    </tr>\n",
       "    <tr>\n",
       "      <th>75%</th>\n",
       "      <td>1.000000</td>\n",
       "      <td>753769.000000</td>\n",
       "    </tr>\n",
       "    <tr>\n",
       "      <th>max</th>\n",
       "      <td>2.000000</td>\n",
       "      <td>999888.000000</td>\n",
       "    </tr>\n",
       "  </tbody>\n",
       "</table>\n",
       "</div>"
      ],
      "text/plain": [
       "          sentiment        tweetid\n",
       "count  15819.000000   15819.000000\n",
       "mean       0.917504  501719.433656\n",
       "std        0.836537  289045.983132\n",
       "min       -1.000000       6.000000\n",
       "25%        1.000000  253207.500000\n",
       "50%        1.000000  502291.000000\n",
       "75%        1.000000  753769.000000\n",
       "max        2.000000  999888.000000"
      ]
     },
     "execution_count": 7,
     "metadata": {},
     "output_type": "execute_result"
    }
   ],
   "source": [
    "#describe the data\n",
    "train_df.describe()"
   ]
  },
  {
   "cell_type": "markdown",
   "id": "characteristic-missile",
   "metadata": {
    "papermill": {
     "duration": 0.029439,
     "end_time": "2021-06-13T11:56:23.440183",
     "exception": false,
     "start_time": "2021-06-13T11:56:23.410744",
     "status": "completed"
    },
    "tags": []
   },
   "source": [
    "## EDA"
   ]
  },
  {
   "cell_type": "code",
   "execution_count": 8,
   "id": "entertaining-cleaners",
   "metadata": {
    "execution": {
     "iopub.execute_input": "2021-06-13T11:56:23.504648Z",
     "iopub.status.busy": "2021-06-13T11:56:23.504007Z",
     "iopub.status.idle": "2021-06-13T11:56:23.512946Z",
     "shell.execute_reply": "2021-06-13T11:56:23.513374Z",
     "shell.execute_reply.started": "2021-06-12T11:55:35.331678Z"
    },
    "papermill": {
     "duration": 0.043619,
     "end_time": "2021-06-13T11:56:23.513553",
     "exception": false,
     "start_time": "2021-06-13T11:56:23.469934",
     "status": "completed"
    },
    "tags": []
   },
   "outputs": [],
   "source": [
    "copy_df = train_df.copy()\n",
    "# Labeling the target\n",
    "copy_df['sentiment'] = [['Negative', 'Neutral', 'Positive', 'News'][x+1] for x in copy_df['sentiment']]"
   ]
  },
  {
   "cell_type": "code",
   "execution_count": 9,
   "id": "modern-diversity",
   "metadata": {
    "execution": {
     "iopub.execute_input": "2021-06-13T11:56:23.580434Z",
     "iopub.status.busy": "2021-06-13T11:56:23.579801Z",
     "iopub.status.idle": "2021-06-13T11:56:23.628766Z",
     "shell.execute_reply": "2021-06-13T11:56:23.628219Z",
     "shell.execute_reply.started": "2021-06-12T11:55:35.348046Z"
    },
    "papermill": {
     "duration": 0.085514,
     "end_time": "2021-06-13T11:56:23.628903",
     "exception": false,
     "start_time": "2021-06-13T11:56:23.543389",
     "status": "completed"
    },
    "tags": []
   },
   "outputs": [
    {
     "data": {
      "text/html": [
       "<style  type=\"text/css\" >\n",
       "#T_4c74d_row0_col1{\n",
       "            background-color:  #00441b;\n",
       "            color:  #f1f1f1;\n",
       "        }#T_4c74d_row1_col1{\n",
       "            background-color:  #b1e0ab;\n",
       "            color:  #000000;\n",
       "        }#T_4c74d_row2_col1{\n",
       "            background-color:  #e0f3db;\n",
       "            color:  #000000;\n",
       "        }#T_4c74d_row3_col1{\n",
       "            background-color:  #f7fcf5;\n",
       "            color:  #000000;\n",
       "        }</style><table id=\"T_4c74d_\" ><thead>    <tr>        <th class=\"blank level0\" ></th>        <th class=\"col_heading level0 col0\" >sentiment</th>        <th class=\"col_heading level0 col1\" >message</th>    </tr></thead><tbody>\n",
       "                <tr>\n",
       "                        <th id=\"T_4c74d_level0_row0\" class=\"row_heading level0 row0\" >3</th>\n",
       "                        <td id=\"T_4c74d_row0_col0\" class=\"data row0 col0\" >Positive</td>\n",
       "                        <td id=\"T_4c74d_row0_col1\" class=\"data row0 col1\" >8530</td>\n",
       "            </tr>\n",
       "            <tr>\n",
       "                        <th id=\"T_4c74d_level0_row1\" class=\"row_heading level0 row1\" >2</th>\n",
       "                        <td id=\"T_4c74d_row1_col0\" class=\"data row1 col0\" >News</td>\n",
       "                        <td id=\"T_4c74d_row1_col1\" class=\"data row1 col1\" >3640</td>\n",
       "            </tr>\n",
       "            <tr>\n",
       "                        <th id=\"T_4c74d_level0_row2\" class=\"row_heading level0 row2\" >1</th>\n",
       "                        <td id=\"T_4c74d_row2_col0\" class=\"data row2 col0\" >Neutral</td>\n",
       "                        <td id=\"T_4c74d_row2_col1\" class=\"data row2 col1\" >2353</td>\n",
       "            </tr>\n",
       "            <tr>\n",
       "                        <th id=\"T_4c74d_level0_row3\" class=\"row_heading level0 row3\" >0</th>\n",
       "                        <td id=\"T_4c74d_row3_col0\" class=\"data row3 col0\" >Negative</td>\n",
       "                        <td id=\"T_4c74d_row3_col1\" class=\"data row3 col1\" >1296</td>\n",
       "            </tr>\n",
       "    </tbody></table>"
      ],
      "text/plain": [
       "<pandas.io.formats.style.Styler at 0x7f562be7af50>"
      ]
     },
     "execution_count": 9,
     "metadata": {},
     "output_type": "execute_result"
    }
   ],
   "source": [
    "dist = copy_df.groupby('sentiment').count()['message'].reset_index().sort_values(by='message',ascending=False)\n",
    "dist.style.background_gradient(cmap='Greens')"
   ]
  },
  {
   "cell_type": "code",
   "execution_count": 10,
   "id": "organizational-davis",
   "metadata": {
    "execution": {
     "iopub.execute_input": "2021-06-13T11:56:23.707129Z",
     "iopub.status.busy": "2021-06-13T11:56:23.706493Z",
     "iopub.status.idle": "2021-06-13T11:56:23.886706Z",
     "shell.execute_reply": "2021-06-13T11:56:23.886123Z",
     "shell.execute_reply.started": "2021-06-12T11:55:35.404025Z"
    },
    "papermill": {
     "duration": 0.225995,
     "end_time": "2021-06-13T11:56:23.886848",
     "exception": false,
     "start_time": "2021-06-13T11:56:23.660853",
     "status": "completed"
    },
    "tags": []
   },
   "outputs": [
    {
     "data": {
      "text/plain": [
       "<AxesSubplot:xlabel='sentiment', ylabel='count'>"
      ]
     },
     "execution_count": 10,
     "metadata": {},
     "output_type": "execute_result"
    },
    {
     "data": {
      "image/png": "[encoded data removed]",
      "text/plain": [
       "<Figure size 864x432 with 1 Axes>"
      ]
     },
     "metadata": {
      "needs_background": "light"
     },
     "output_type": "display_data"
    }
   ],
   "source": [
    "labels = []\n",
    "plt.figure(figsize=(12,6))\n",
    "sns.countplot(x='sentiment',data=copy_df)"
   ]
  },
  {
   "cell_type": "code",
   "execution_count": 11,
   "id": "persistent-network",
   "metadata": {
    "execution": {
     "iopub.execute_input": "2021-06-13T11:56:23.954298Z",
     "iopub.status.busy": "2021-06-13T11:56:23.953675Z",
     "iopub.status.idle": "2021-06-13T11:56:24.066754Z",
     "shell.execute_reply": "2021-06-13T11:56:24.066174Z",
     "shell.execute_reply.started": "2021-06-12T11:55:35.615481Z"
    },
    "papermill": {
     "duration": 0.148806,
     "end_time": "2021-06-13T11:56:24.066938",
     "exception": false,
     "start_time": "2021-06-13T11:56:23.918132",
     "status": "completed"
    },
    "tags": []
   },
   "outputs": [
    {
     "data": {
      "text/html": [
       "        <script type=\"text/javascript\">\n",
       "        window.PlotlyConfig = {MathJaxConfig: 'local'};\n",
       "        if (window.MathJax) {MathJax.Hub.Config({SVG: {font: \"STIX-Web\"}});}\n",
       "        if (typeof require !== 'undefined') {\n",
       "        require.undef(\"plotly\");\n",
       "        requirejs.config({\n",
       "            paths: {\n",
       "                'plotly': ['https://cdn.plot.ly/plotly-latest.min']\n",
       "            }\n",
       "        });\n",
       "        require(['plotly'], function(Plotly) {\n",
       "            window._Plotly = Plotly;\n",
       "        });\n",
       "        }\n",
       "        </script>\n",
       "        "
      ]
     },
     "metadata": {},
     "output_type": "display_data"
    },
    {
     "data": {
      "text/html": [
       "<div>                            <div id=\"1bb83741-bbe9-4fcf-904c-b5d32b9fde30\" class=\"plotly-graph-div\" style=\"height:525px; width:100%;\"></div>            <script type=\"text/javascript\">                require([\"plotly\"], function(Plotly) {                    window.PLOTLYENV=window.PLOTLYENV || {};                                    if (document.getElementById(\"1bb83741-bbe9-4fcf-904c-b5d32b9fde30\")) {                    Plotly.newPlot(                        \"1bb83741-bbe9-4fcf-904c-b5d32b9fde30\",                        [{\"text\": [\"Positive\", \"News\", \"Neutral\", \"Negative\"], \"title\": {\"position\": \"top center\", \"text\": \"Funnel-Chart of Sentiment Distribution\"}, \"type\": \"funnelarea\", \"values\": [8530, 3640, 2353, 1296]}],                        {\"template\": {\"data\": {\"bar\": [{\"error_x\": {\"color\": \"#2a3f5f\"}, \"error_y\": {\"color\": \"#2a3f5f\"}, \"marker\": {\"line\": {\"color\": \"#E5ECF6\", \"width\": 0.5}}, \"type\": \"bar\"}], \"barpolar\": [{\"marker\": {\"line\": {\"color\": \"#E5ECF6\", \"width\": 0.5}}, \"type\": \"barpolar\"}], \"carpet\": [{\"aaxis\": {\"endlinecolor\": \"#2a3f5f\", \"gridcolor\": \"white\", \"linecolor\": \"white\", \"minorgridcolor\": \"white\", \"startlinecolor\": \"#2a3f5f\"}, \"baxis\": {\"endlinecolor\": \"#2a3f5f\", \"gridcolor\": \"white\", \"linecolor\": \"white\", \"minorgridcolor\": \"white\", \"startlinecolor\": \"#2a3f5f\"}, \"type\": \"carpet\"}], \"choropleth\": [{\"colorbar\": {\"outlinewidth\": 0, \"ticks\": \"\"}, \"type\": \"choropleth\"}], \"contour\": [{\"colorbar\": {\"outlinewidth\": 0, \"ticks\": \"\"}, \"colorscale\": [[0.0, \"#0d0887\"], [0.1111111111111111, \"#46039f\"], [0.2222222222222222, \"#7201a8\"], [0.3333333333333333, \"#9c179e\"], [0.4444444444444444, \"#bd3786\"], [0.5555555555555556, \"#d8576b\"], [0.6666666666666666, \"#ed7953\"], [0.7777777777777778, \"#fb9f3a\"], [0.8888888888888888, \"#fdca26\"], [1.0, \"#f0f921\"]], \"type\": \"contour\"}], \"contourcarpet\": [{\"colorbar\": {\"outlinewidth\": 0, \"ticks\": \"\"}, \"type\": \"contourcarpet\"}], \"heatmap\": [{\"colorbar\": {\"outlinewidth\": 0, \"ticks\": \"\"}, \"colorscale\": [[0.0, \"#0d0887\"], [0.1111111111111111, \"#46039f\"], [0.2222222222222222, \"#7201a8\"], [0.3333333333333333, \"#9c179e\"], [0.4444444444444444, \"#bd3786\"], [0.5555555555555556, \"#d8576b\"], [0.6666666666666666, \"#ed7953\"], [0.7777777777777778, \"#fb9f3a\"], [0.8888888888888888, \"#fdca26\"], [1.0, \"#f0f921\"]], \"type\": \"heatmap\"}], \"heatmapgl\": [{\"colorbar\": {\"outlinewidth\": 0, \"ticks\": \"\"}, \"colorscale\": [[0.0, \"#0d0887\"], [0.1111111111111111, \"#46039f\"], [0.2222222222222222, \"#7201a8\"], [0.3333333333333333, \"#9c179e\"], [0.4444444444444444, \"#bd3786\"], [0.5555555555555556, \"#d8576b\"], [0.6666666666666666, \"#ed7953\"], [0.7777777777777778, \"#fb9f3a\"], [0.8888888888888888, \"#fdca26\"], [1.0, \"#f0f921\"]], \"type\": \"heatmapgl\"}], \"histogram\": [{\"marker\": {\"colorbar\": {\"outlinewidth\": 0, \"ticks\": \"\"}}, \"type\": \"histogram\"}], \"histogram2d\": [{\"colorbar\": {\"outlinewidth\": 0, \"ticks\": \"\"}, \"colorscale\": [[0.0, \"#0d0887\"], [0.1111111111111111, \"#46039f\"], [0.2222222222222222, \"#7201a8\"], [0.3333333333333333, \"#9c179e\"], [0.4444444444444444, \"#bd3786\"], [0.5555555555555556, \"#d8576b\"], [0.6666666666666666, \"#ed7953\"], [0.7777777777777778, \"#fb9f3a\"], [0.8888888888888888, \"#fdca26\"], [1.0, \"#f0f921\"]], \"type\": \"histogram2d\"}], \"histogram2dcontour\": [{\"colorbar\": {\"outlinewidth\": 0, \"ticks\": \"\"}, \"colorscale\": [[0.0, \"#0d0887\"], [0.1111111111111111, \"#46039f\"], [0.2222222222222222, \"#7201a8\"], [0.3333333333333333, \"#9c179e\"], [0.4444444444444444, \"#bd3786\"], [0.5555555555555556, \"#d8576b\"], [0.6666666666666666, \"#ed7953\"], [0.7777777777777778, \"#fb9f3a\"], [0.8888888888888888, \"#fdca26\"], [1.0, \"#f0f921\"]], \"type\": \"histogram2dcontour\"}], \"mesh3d\": [{\"colorbar\": {\"outlinewidth\": 0, \"ticks\": \"\"}, \"type\": \"mesh3d\"}], \"parcoords\": [{\"line\": {\"colorbar\": {\"outlinewidth\": 0, \"ticks\": \"\"}}, \"type\": \"parcoords\"}], \"pie\": [{\"automargin\": true, \"type\": \"pie\"}], \"scatter\": [{\"marker\": {\"colorbar\": {\"outlinewidth\": 0, \"ticks\": \"\"}}, \"type\": \"scatter\"}], \"scatter3d\": [{\"line\": {\"colorbar\": {\"outlinewidth\": 0, \"ticks\": \"\"}}, \"marker\": {\"colorbar\": {\"outlinewidth\": 0, \"ticks\": \"\"}}, \"type\": \"scatter3d\"}], \"scattercarpet\": [{\"marker\": {\"colorbar\": {\"outlinewidth\": 0, \"ticks\": \"\"}}, \"type\": \"scattercarpet\"}], \"scattergeo\": [{\"marker\": {\"colorbar\": {\"outlinewidth\": 0, \"ticks\": \"\"}}, \"type\": \"scattergeo\"}], \"scattergl\": [{\"marker\": {\"colorbar\": {\"outlinewidth\": 0, \"ticks\": \"\"}}, \"type\": \"scattergl\"}], \"scattermapbox\": [{\"marker\": {\"colorbar\": {\"outlinewidth\": 0, \"ticks\": \"\"}}, \"type\": \"scattermapbox\"}], \"scatterpolar\": [{\"marker\": {\"colorbar\": {\"outlinewidth\": 0, \"ticks\": \"\"}}, \"type\": \"scatterpolar\"}], \"scatterpolargl\": [{\"marker\": {\"colorbar\": {\"outlinewidth\": 0, \"ticks\": \"\"}}, \"type\": \"scatterpolargl\"}], \"scatterternary\": [{\"marker\": {\"colorbar\": {\"outlinewidth\": 0, \"ticks\": \"\"}}, \"type\": \"scatterternary\"}], \"surface\": [{\"colorbar\": {\"outlinewidth\": 0, \"ticks\": \"\"}, \"colorscale\": [[0.0, \"#0d0887\"], [0.1111111111111111, \"#46039f\"], [0.2222222222222222, \"#7201a8\"], [0.3333333333333333, \"#9c179e\"], [0.4444444444444444, \"#bd3786\"], [0.5555555555555556, \"#d8576b\"], [0.6666666666666666, \"#ed7953\"], [0.7777777777777778, \"#fb9f3a\"], [0.8888888888888888, \"#fdca26\"], [1.0, \"#f0f921\"]], \"type\": \"surface\"}], \"table\": [{\"cells\": {\"fill\": {\"color\": \"#EBF0F8\"}, \"line\": {\"color\": \"white\"}}, \"header\": {\"fill\": {\"color\": \"#C8D4E3\"}, \"line\": {\"color\": \"white\"}}, \"type\": \"table\"}]}, \"layout\": {\"annotationdefaults\": {\"arrowcolor\": \"#2a3f5f\", \"arrowhead\": 0, \"arrowwidth\": 1}, \"autotypenumbers\": \"strict\", \"coloraxis\": {\"colorbar\": {\"outlinewidth\": 0, \"ticks\": \"\"}}, \"colorscale\": {\"diverging\": [[0, \"#8e0152\"], [0.1, \"#c51b7d\"], [0.2, \"#de77ae\"], [0.3, \"#f1b6da\"], [0.4, \"#fde0ef\"], [0.5, \"#f7f7f7\"], [0.6, \"#e6f5d0\"], [0.7, \"#b8e186\"], [0.8, \"#7fbc41\"], [0.9, \"#4d9221\"], [1, \"#276419\"]], \"sequential\": [[0.0, \"#0d0887\"], [0.1111111111111111, \"#46039f\"], [0.2222222222222222, \"#7201a8\"], [0.3333333333333333, \"#9c179e\"], [0.4444444444444444, \"#bd3786\"], [0.5555555555555556, \"#d8576b\"], [0.6666666666666666, \"#ed7953\"], [0.7777777777777778, \"#fb9f3a\"], [0.8888888888888888, \"#fdca26\"], [1.0, \"#f0f921\"]], \"sequentialminus\": [[0.0, \"#0d0887\"], [0.1111111111111111, \"#46039f\"], [0.2222222222222222, \"#7201a8\"], [0.3333333333333333, \"#9c179e\"], [0.4444444444444444, \"#bd3786\"], [0.5555555555555556, \"#d8576b\"], [0.6666666666666666, \"#ed7953\"], [0.7777777777777778, \"#fb9f3a\"], [0.8888888888888888, \"#fdca26\"], [1.0, \"#f0f921\"]]}, \"colorway\": [\"#636efa\", \"#EF553B\", \"#00cc96\", \"#ab63fa\", \"#FFA15A\", \"#19d3f3\", \"#FF6692\", \"#B6E880\", \"#FF97FF\", \"#FECB52\"], \"font\": {\"color\": \"#2a3f5f\"}, \"geo\": {\"bgcolor\": \"white\", \"lakecolor\": \"white\", \"landcolor\": \"#E5ECF6\", \"showlakes\": true, \"showland\": true, \"subunitcolor\": \"white\"}, \"hoverlabel\": {\"align\": \"left\"}, \"hovermode\": \"closest\", \"mapbox\": {\"style\": \"light\"}, \"paper_bgcolor\": \"white\", \"plot_bgcolor\": \"#E5ECF6\", \"polar\": {\"angularaxis\": {\"gridcolor\": \"white\", \"linecolor\": \"white\", \"ticks\": \"\"}, \"bgcolor\": \"#E5ECF6\", \"radialaxis\": {\"gridcolor\": \"white\", \"linecolor\": \"white\", \"ticks\": \"\"}}, \"scene\": {\"xaxis\": {\"backgroundcolor\": \"#E5ECF6\", \"gridcolor\": \"white\", \"gridwidth\": 2, \"linecolor\": \"white\", \"showbackground\": true, \"ticks\": \"\", \"zerolinecolor\": \"white\"}, \"yaxis\": {\"backgroundcolor\": \"#E5ECF6\", \"gridcolor\": \"white\", \"gridwidth\": 2, \"linecolor\": \"white\", \"showbackground\": true, \"ticks\": \"\", \"zerolinecolor\": \"white\"}, \"zaxis\": {\"backgroundcolor\": \"#E5ECF6\", \"gridcolor\": \"white\", \"gridwidth\": 2, \"linecolor\": \"white\", \"showbackground\": true, \"ticks\": \"\", \"zerolinecolor\": \"white\"}}, \"shapedefaults\": {\"line\": {\"color\": \"#2a3f5f\"}}, \"ternary\": {\"aaxis\": {\"gridcolor\": \"white\", \"linecolor\": \"white\", \"ticks\": \"\"}, \"baxis\": {\"gridcolor\": \"white\", \"linecolor\": \"white\", \"ticks\": \"\"}, \"bgcolor\": \"#E5ECF6\", \"caxis\": {\"gridcolor\": \"white\", \"linecolor\": \"white\", \"ticks\": \"\"}}, \"title\": {\"x\": 0.05}, \"xaxis\": {\"automargin\": true, \"gridcolor\": \"white\", \"linecolor\": \"white\", \"ticks\": \"\", \"title\": {\"standoff\": 15}, \"zerolinecolor\": \"white\", \"zerolinewidth\": 2}, \"yaxis\": {\"automargin\": true, \"gridcolor\": \"white\", \"linecolor\": \"white\", \"ticks\": \"\", \"title\": {\"standoff\": 15}, \"zerolinecolor\": \"white\", \"zerolinewidth\": 2}}}},                        {\"responsive\": true}                    ).then(function(){\n",
       "                            \n",
       "var gd = document.getElementById('1bb83741-bbe9-4fcf-904c-b5d32b9fde30');\n",
       "var x = new MutationObserver(function (mutations, observer) {{\n",
       "        var display = window.getComputedStyle(gd).display;\n",
       "        if (!display || display === 'none') {{\n",
       "            console.log([gd, 'removed!']);\n",
       "            Plotly.purge(gd);\n",
       "            observer.disconnect();\n",
       "        }}\n",
       "}});\n",
       "\n",
       "// Listen for the removal of the full notebook cells\n",
       "var notebookContainer = gd.closest('#notebook-container');\n",
       "if (notebookContainer) {{\n",
       "    x.observe(notebookContainer, {childList: true});\n",
       "}}\n",
       "\n",
       "// Listen for the clearing of the current output cell\n",
       "var outputEl = gd.closest('.output');\n",
       "if (outputEl) {{\n",
       "    x.observe(outputEl, {childList: true});\n",
       "}}\n",
       "\n",
       "                        })                };                });            </script>        </div>"
      ]
     },
     "metadata": {},
     "output_type": "display_data"
    }
   ],
   "source": [
    "fig = go.Figure(go.Funnelarea(\n",
    "    text =dist.sentiment,\n",
    "    values = dist.message,\n",
    "    title = {\"position\": \"top center\", \"text\": \"Funnel-Chart of Sentiment Distribution\"}\n",
    "    ))\n",
    "fig.show()"
   ]
  },
  {
   "cell_type": "code",
   "execution_count": 12,
   "id": "mature-october",
   "metadata": {
    "execution": {
     "iopub.execute_input": "2021-06-13T11:56:24.155968Z",
     "iopub.status.busy": "2021-06-13T11:56:24.155287Z",
     "iopub.status.idle": "2021-06-13T11:56:24.575768Z",
     "shell.execute_reply": "2021-06-13T11:56:24.575162Z",
     "shell.execute_reply.started": "2021-06-12T11:55:35.721507Z"
    },
    "papermill": {
     "duration": 0.476514,
     "end_time": "2021-06-13T11:56:24.575912",
     "exception": false,
     "start_time": "2021-06-13T11:56:24.099398",
     "status": "completed"
    },
    "tags": []
   },
   "outputs": [
    {
     "data": {
      "image/png": "[encoded data removed]",
      "text/plain": [
       "<Figure size 864x432 with 1 Axes>"
      ]
     },
     "metadata": {
      "needs_background": "light"
     },
     "output_type": "display_data"
    }
   ],
   "source": [
    "plt.figure(figsize=(12,6))\n",
    "sns.barplot(x='sentiment', y=copy_df['message'].apply(len) ,data = copy_df, palette='PRGn')\n",
    "plt.ylabel('avg_Length')\n",
    "plt.xlabel('Sentiment')\n",
    "plt.title('Average Length of Message by Sentiment')\n",
    "plt.show()"
   ]
  },
  {
   "cell_type": "code",
   "execution_count": 13,
   "id": "laughing-champion",
   "metadata": {
    "execution": {
     "iopub.execute_input": "2021-06-13T11:56:24.650708Z",
     "iopub.status.busy": "2021-06-13T11:56:24.650058Z",
     "iopub.status.idle": "2021-06-13T11:56:24.653286Z",
     "shell.execute_reply": "2021-06-13T11:56:24.652704Z",
     "shell.execute_reply.started": "2021-06-12T11:55:36.204754Z"
    },
    "papermill": {
     "duration": 0.043798,
     "end_time": "2021-06-13T11:56:24.653449",
     "exception": false,
     "start_time": "2021-06-13T11:56:24.609651",
     "status": "completed"
    },
    "tags": []
   },
   "outputs": [],
   "source": [
    "# function that takes a tweet message and a character e.g @ and remove the character from the sentence\n",
    "# Returns the sentence without the character\n",
    "# Define the function to remove the punctuation\n",
    "def remove_punctuations(msg):\n",
    "    msg = str(msg).lower()\n",
    "    msg = re.sub('\\[.*?\\]', '', msg)\n",
    "    msg = re.sub('https?://\\S+|www\\.\\S+', '', msg)\n",
    "    msg = re.sub('<.*?>+', '', msg)\n",
    "    msg = re.sub('[%s]' % re.escape(string.punctuation), '', msg)\n",
    "    msg = re.sub('\\n', '', msg)\n",
    "    msg = re.sub('\\w*\\d\\w*', '', msg)\n",
    "    msg = re.sub('rt','',msg)\n",
    "    return msg"
   ]
  },
  {
   "cell_type": "code",
   "execution_count": 14,
   "id": "statistical-effect",
   "metadata": {
    "execution": {
     "iopub.execute_input": "2021-06-13T11:56:24.746077Z",
     "iopub.status.busy": "2021-06-13T11:56:24.741081Z",
     "iopub.status.idle": "2021-06-13T11:56:25.474836Z",
     "shell.execute_reply": "2021-06-13T11:56:25.474305Z",
     "shell.execute_reply.started": "2021-06-12T11:55:36.213767Z"
    },
    "papermill": {
     "duration": 0.78834,
     "end_time": "2021-06-13T11:56:25.474994",
     "exception": false,
     "start_time": "2021-06-13T11:56:24.686654",
     "status": "completed"
    },
    "tags": []
   },
   "outputs": [
    {
     "data": {
      "text/html": [
       "<div>\n",
       "<style scoped>\n",
       "    .dataframe tbody tr th:only-of-type {\n",
       "        vertical-align: middle;\n",
       "    }\n",
       "\n",
       "    .dataframe tbody tr th {\n",
       "        vertical-align: top;\n",
       "    }\n",
       "\n",
       "    .dataframe thead th {\n",
       "        text-align: right;\n",
       "    }\n",
       "</style>\n",
       "<table border=\"1\" class=\"dataframe\">\n",
       "  <thead>\n",
       "    <tr style=\"text-align: right;\">\n",
       "      <th></th>\n",
       "      <th>sentiment</th>\n",
       "      <th>message</th>\n",
       "      <th>tweetid</th>\n",
       "      <th>clean_message</th>\n",
       "    </tr>\n",
       "  </thead>\n",
       "  <tbody>\n",
       "    <tr>\n",
       "      <th>0</th>\n",
       "      <td>1</td>\n",
       "      <td>PolySciMajor EPA chief doesn't think carbon di...</td>\n",
       "      <td>625221</td>\n",
       "      <td>polyscimajor epa chief doesnt think carbon dio...</td>\n",
       "    </tr>\n",
       "    <tr>\n",
       "      <th>1</th>\n",
       "      <td>1</td>\n",
       "      <td>It's not like we lack evidence of anthropogeni...</td>\n",
       "      <td>126103</td>\n",
       "      <td>its not like we lack evidence of anthropogenic...</td>\n",
       "    </tr>\n",
       "    <tr>\n",
       "      <th>2</th>\n",
       "      <td>2</td>\n",
       "      <td>RT @RawStory: Researchers say we have three ye...</td>\n",
       "      <td>698562</td>\n",
       "      <td>rawstory researchers say we have three years ...</td>\n",
       "    </tr>\n",
       "    <tr>\n",
       "      <th>3</th>\n",
       "      <td>1</td>\n",
       "      <td>#TodayinMaker# WIRED : 2016 was a pivotal year...</td>\n",
       "      <td>573736</td>\n",
       "      <td>todayinmaker wired   was a pivotal year in the...</td>\n",
       "    </tr>\n",
       "    <tr>\n",
       "      <th>4</th>\n",
       "      <td>1</td>\n",
       "      <td>RT @SoyNovioDeTodas: It's 2016, and a racist, ...</td>\n",
       "      <td>466954</td>\n",
       "      <td>soynoviodetodas its  and a racist sexist clim...</td>\n",
       "    </tr>\n",
       "  </tbody>\n",
       "</table>\n",
       "</div>"
      ],
      "text/plain": [
       "   sentiment                                            message  tweetid  \\\n",
       "0          1  PolySciMajor EPA chief doesn't think carbon di...   625221   \n",
       "1          1  It's not like we lack evidence of anthropogeni...   126103   \n",
       "2          2  RT @RawStory: Researchers say we have three ye...   698562   \n",
       "3          1  #TodayinMaker# WIRED : 2016 was a pivotal year...   573736   \n",
       "4          1  RT @SoyNovioDeTodas: It's 2016, and a racist, ...   466954   \n",
       "\n",
       "                                       clean_message  \n",
       "0  polyscimajor epa chief doesnt think carbon dio...  \n",
       "1  its not like we lack evidence of anthropogenic...  \n",
       "2   rawstory researchers say we have three years ...  \n",
       "3  todayinmaker wired   was a pivotal year in the...  \n",
       "4   soynoviodetodas its  and a racist sexist clim...  "
      ]
     },
     "execution_count": 14,
     "metadata": {},
     "output_type": "execute_result"
    }
   ],
   "source": [
    "train_df['clean_message'] = train_df['message'].apply(lambda x:remove_punctuations(x))\n",
    "train_df.head()"
   ]
  },
  {
   "cell_type": "markdown",
   "id": "established-chemistry",
   "metadata": {
    "papermill": {
     "duration": 0.032929,
     "end_time": "2021-06-13T11:56:25.541977",
     "exception": false,
     "start_time": "2021-06-13T11:56:25.509048",
     "status": "completed"
    },
    "tags": []
   },
   "source": [
    "### Removing Stop Words"
   ]
  },
  {
   "cell_type": "code",
   "execution_count": 15,
   "id": "pediatric-malawi",
   "metadata": {
    "execution": {
     "iopub.execute_input": "2021-06-13T11:56:25.619050Z",
     "iopub.status.busy": "2021-06-13T11:56:25.618402Z",
     "iopub.status.idle": "2021-06-13T11:56:25.683269Z",
     "shell.execute_reply": "2021-06-13T11:56:25.682724Z",
     "shell.execute_reply.started": "2021-06-12T11:55:37.007335Z"
    },
    "papermill": {
     "duration": 0.107799,
     "end_time": "2021-06-13T11:56:25.683437",
     "exception": false,
     "start_time": "2021-06-13T11:56:25.575638",
     "status": "completed"
    },
    "tags": []
   },
   "outputs": [],
   "source": [
    "train_df['clean_message'] = train_df['clean_message'].apply(lambda x: ' '.join([a for a in x.split() if len(a)>3]))"
   ]
  },
  {
   "cell_type": "code",
   "execution_count": 16,
   "id": "printable-keeping",
   "metadata": {
    "execution": {
     "iopub.execute_input": "2021-06-13T11:56:25.760714Z",
     "iopub.status.busy": "2021-06-13T11:56:25.760061Z",
     "iopub.status.idle": "2021-06-13T11:56:25.762857Z",
     "shell.execute_reply": "2021-06-13T11:56:25.763423Z",
     "shell.execute_reply.started": "2021-06-12T11:55:37.085497Z"
    },
    "papermill": {
     "duration": 0.046389,
     "end_time": "2021-06-13T11:56:25.763605",
     "exception": false,
     "start_time": "2021-06-13T11:56:25.717216",
     "status": "completed"
    },
    "tags": []
   },
   "outputs": [
    {
     "data": {
      "text/html": [
       "<div>\n",
       "<style scoped>\n",
       "    .dataframe tbody tr th:only-of-type {\n",
       "        vertical-align: middle;\n",
       "    }\n",
       "\n",
       "    .dataframe tbody tr th {\n",
       "        vertical-align: top;\n",
       "    }\n",
       "\n",
       "    .dataframe thead th {\n",
       "        text-align: right;\n",
       "    }\n",
       "</style>\n",
       "<table border=\"1\" class=\"dataframe\">\n",
       "  <thead>\n",
       "    <tr style=\"text-align: right;\">\n",
       "      <th></th>\n",
       "      <th>sentiment</th>\n",
       "      <th>message</th>\n",
       "      <th>tweetid</th>\n",
       "      <th>clean_message</th>\n",
       "    </tr>\n",
       "  </thead>\n",
       "  <tbody>\n",
       "    <tr>\n",
       "      <th>0</th>\n",
       "      <td>1</td>\n",
       "      <td>PolySciMajor EPA chief doesn't think carbon di...</td>\n",
       "      <td>625221</td>\n",
       "      <td>polyscimajor chief doesnt think carbon dioxide...</td>\n",
       "    </tr>\n",
       "    <tr>\n",
       "      <th>1</th>\n",
       "      <td>1</td>\n",
       "      <td>It's not like we lack evidence of anthropogeni...</td>\n",
       "      <td>126103</td>\n",
       "      <td>like lack evidence anthropogenic global warming</td>\n",
       "    </tr>\n",
       "    <tr>\n",
       "      <th>2</th>\n",
       "      <td>2</td>\n",
       "      <td>RT @RawStory: Researchers say we have three ye...</td>\n",
       "      <td>698562</td>\n",
       "      <td>rawstory researchers have three years climate ...</td>\n",
       "    </tr>\n",
       "    <tr>\n",
       "      <th>3</th>\n",
       "      <td>1</td>\n",
       "      <td>#TodayinMaker# WIRED : 2016 was a pivotal year...</td>\n",
       "      <td>573736</td>\n",
       "      <td>todayinmaker wired pivotal year climate change</td>\n",
       "    </tr>\n",
       "    <tr>\n",
       "      <th>4</th>\n",
       "      <td>1</td>\n",
       "      <td>RT @SoyNovioDeTodas: It's 2016, and a racist, ...</td>\n",
       "      <td>466954</td>\n",
       "      <td>soynoviodetodas racist sexist climate change d...</td>\n",
       "    </tr>\n",
       "  </tbody>\n",
       "</table>\n",
       "</div>"
      ],
      "text/plain": [
       "   sentiment                                            message  tweetid  \\\n",
       "0          1  PolySciMajor EPA chief doesn't think carbon di...   625221   \n",
       "1          1  It's not like we lack evidence of anthropogeni...   126103   \n",
       "2          2  RT @RawStory: Researchers say we have three ye...   698562   \n",
       "3          1  #TodayinMaker# WIRED : 2016 was a pivotal year...   573736   \n",
       "4          1  RT @SoyNovioDeTodas: It's 2016, and a racist, ...   466954   \n",
       "\n",
       "                                       clean_message  \n",
       "0  polyscimajor chief doesnt think carbon dioxide...  \n",
       "1    like lack evidence anthropogenic global warming  \n",
       "2  rawstory researchers have three years climate ...  \n",
       "3     todayinmaker wired pivotal year climate change  \n",
       "4  soynoviodetodas racist sexist climate change d...  "
      ]
     },
     "execution_count": 16,
     "metadata": {},
     "output_type": "execute_result"
    }
   ],
   "source": [
    "train_df.head()"
   ]
  },
  {
   "cell_type": "code",
   "execution_count": 17,
   "id": "negative-toner",
   "metadata": {
    "execution": {
     "iopub.execute_input": "2021-06-13T11:56:25.833142Z",
     "iopub.status.busy": "2021-06-13T11:56:25.832582Z",
     "iopub.status.idle": "2021-06-13T11:56:26.169365Z",
     "shell.execute_reply": "2021-06-13T11:56:26.169849Z",
     "shell.execute_reply.started": "2021-06-12T11:55:37.097294Z"
    },
    "papermill": {
     "duration": 0.372874,
     "end_time": "2021-06-13T11:56:26.170031",
     "exception": false,
     "start_time": "2021-06-13T11:56:25.797157",
     "status": "completed"
    },
    "tags": []
   },
   "outputs": [],
   "source": [
    " train = train_df['clean_message']\n",
    "\n",
    "vectorizer = CountVectorizer()\n",
    "count_vectorized = vectorizer.fit_transform(train)"
   ]
  },
  {
   "cell_type": "code",
   "execution_count": 18,
   "id": "sporting-polish",
   "metadata": {
    "execution": {
     "iopub.execute_input": "2021-06-13T11:56:26.266890Z",
     "iopub.status.busy": "2021-06-13T11:56:26.261653Z",
     "iopub.status.idle": "2021-06-13T11:56:26.610113Z",
     "shell.execute_reply": "2021-06-13T11:56:26.609252Z",
     "shell.execute_reply.started": "2021-06-12T11:55:37.468045Z"
    },
    "papermill": {
     "duration": 0.405925,
     "end_time": "2021-06-13T11:56:26.610306",
     "exception": false,
     "start_time": "2021-06-13T11:56:26.204381",
     "status": "completed"
    },
    "tags": []
   },
   "outputs": [],
   "source": [
    "# Converting the collection of clean messages to a matrix of TF-IDF features\n",
    "data = train_df['clean_message']\n",
    "\n",
    "vectorizer=TfidfVectorizer(use_idf=True, max_df=0.95)\n",
    "vectorized = vectorizer.fit_transform(data)"
   ]
  },
  {
   "cell_type": "code",
   "execution_count": 19,
   "id": "headed-macintosh",
   "metadata": {
    "execution": {
     "iopub.execute_input": "2021-06-13T11:56:26.695346Z",
     "iopub.status.busy": "2021-06-13T11:56:26.694345Z",
     "iopub.status.idle": "2021-06-13T11:56:26.708872Z",
     "shell.execute_reply": "2021-06-13T11:56:26.709349Z",
     "shell.execute_reply.started": "2021-06-12T11:55:37.858388Z"
    },
    "papermill": {
     "duration": 0.055468,
     "end_time": "2021-06-13T11:56:26.709519",
     "exception": false,
     "start_time": "2021-06-13T11:56:26.654051",
     "status": "completed"
    },
    "tags": []
   },
   "outputs": [],
   "source": [
    "import scipy.sparse\n",
    "\n",
    "# Defining the features as well as the label\n",
    "X = scipy.sparse.hstack([vectorized, count_vectorized])\n",
    "y = train_df['sentiment']"
   ]
  },
  {
   "cell_type": "code",
   "execution_count": 20,
   "id": "generous-diamond",
   "metadata": {
    "execution": {
     "iopub.execute_input": "2021-06-13T11:56:26.788956Z",
     "iopub.status.busy": "2021-06-13T11:56:26.788001Z",
     "iopub.status.idle": "2021-06-13T11:56:26.808944Z",
     "shell.execute_reply": "2021-06-13T11:56:26.809486Z",
     "shell.execute_reply.started": "2021-06-12T11:55:37.879295Z"
    },
    "papermill": {
     "duration": 0.062745,
     "end_time": "2021-06-13T11:56:26.809688",
     "exception": false,
     "start_time": "2021-06-13T11:56:26.746943",
     "status": "completed"
    },
    "tags": []
   },
   "outputs": [],
   "source": [
    "from sklearn.model_selection import train_test_split\n",
    "\n",
    "# Splitting the previously defined features and label of your dataset\n",
    "X_train, X_test, y_train, y_test = train_test_split(X, y, test_size=0.33, random_state=42)"
   ]
  },
  {
   "cell_type": "code",
   "execution_count": 21,
   "id": "raising-turtle",
   "metadata": {
    "execution": {
     "iopub.execute_input": "2021-06-13T11:56:26.881478Z",
     "iopub.status.busy": "2021-06-13T11:56:26.880595Z",
     "iopub.status.idle": "2021-06-13T11:56:26.885420Z",
     "shell.execute_reply": "2021-06-13T11:56:26.885998Z",
     "shell.execute_reply.started": "2021-06-12T11:55:37.902388Z"
    },
    "papermill": {
     "duration": 0.0423,
     "end_time": "2021-06-13T11:56:26.886154",
     "exception": false,
     "start_time": "2021-06-13T11:56:26.843854",
     "status": "completed"
    },
    "tags": []
   },
   "outputs": [],
   "source": [
    "# Creating a list of all the models to train\n",
    "algs = [LogisticRegression(random_state = 5), SVC(kernel = 'linear', random_state = 5), SVC(kernel = 'rbf', random_state = 5)\n",
    "        ,MultinomialNB(), KNeighborsClassifier(), DecisionTreeClassifier(max_depth=6),RandomForestClassifier()]"
   ]
  },
  {
   "cell_type": "code",
   "execution_count": null,
   "id": "adjacent-illinois",
   "metadata": {
    "papermill": {
     "duration": 0.032969,
     "end_time": "2021-06-13T11:56:26.952613",
     "exception": false,
     "start_time": "2021-06-13T11:56:26.919644",
     "status": "completed"
    },
    "tags": []
   },
   "outputs": [],
   "source": []
  },
  {
   "cell_type": "code",
   "execution_count": null,
   "id": "moving-porcelain",
   "metadata": {
    "papermill": {
     "duration": 0.034023,
     "end_time": "2021-06-13T11:56:27.020486",
     "exception": false,
     "start_time": "2021-06-13T11:56:26.986463",
     "status": "completed"
    },
    "tags": []
   },
   "outputs": [],
   "source": []
  },
  {
   "cell_type": "code",
   "execution_count": 22,
   "id": "sustainable-vinyl",
   "metadata": {
    "execution": {
     "iopub.execute_input": "2021-06-13T11:56:27.091583Z",
     "iopub.status.busy": "2021-06-13T11:56:27.090733Z",
     "iopub.status.idle": "2021-06-13T11:58:36.206852Z",
     "shell.execute_reply": "2021-06-13T11:58:36.207371Z",
     "shell.execute_reply.started": "2021-06-12T11:55:37.910074Z"
    },
    "papermill": {
     "duration": 129.153428,
     "end_time": "2021-06-13T11:58:36.207568",
     "exception": false,
     "start_time": "2021-06-13T11:56:27.054140",
     "status": "completed"
    },
    "tags": []
   },
   "outputs": [
    {
     "name": "stderr",
     "output_type": "stream",
     "text": [
      "/opt/conda/lib/python3.7/site-packages/sklearn/linear_model/_logistic.py:765: ConvergenceWarning:\n",
      "\n",
      "lbfgs failed to converge (status=1):\n",
      "STOP: TOTAL NO. of ITERATIONS REACHED LIMIT.\n",
      "\n",
      "Increase the number of iterations (max_iter) or scale the data as shown in:\n",
      "    https://scikit-learn.org/stable/modules/preprocessing.html\n",
      "Please also refer to the documentation for alternative solver options:\n",
      "    https://scikit-learn.org/stable/modules/linear_model.html#logistic-regression\n",
      "\n"
     ]
    },
    {
     "name": "stdout",
     "output_type": "stream",
     "text": [
      "LogisticRegression(random_state=5)\n",
      "[[ 178   65  166   19]\n",
      " [  27  314  327   69]\n",
      " [  31  162 2428  240]\n",
      " [   6   33  279  877]]\n",
      "              precision    recall  f1-score   support\n",
      "\n",
      "          -1       0.74      0.42      0.53       428\n",
      "           0       0.55      0.43      0.48       737\n",
      "           1       0.76      0.85      0.80      2861\n",
      "           2       0.73      0.73      0.73      1195\n",
      "\n",
      "    accuracy                           0.73      5221\n",
      "   macro avg       0.69      0.61      0.64      5221\n",
      "weighted avg       0.72      0.73      0.72      5221\n",
      "\n",
      "F1_score:  0.717\n",
      "-------------------------------------------------------\n",
      "SVC(kernel='linear', random_state=5)\n",
      "[[ 200   69  142   17]\n",
      " [  54  369  248   66]\n",
      " [  90  267 2237  267]\n",
      " [  16   72  243  864]]\n",
      "              precision    recall  f1-score   support\n",
      "\n",
      "          -1       0.56      0.47      0.51       428\n",
      "           0       0.47      0.50      0.49       737\n",
      "           1       0.78      0.78      0.78      2861\n",
      "           2       0.71      0.72      0.72      1195\n",
      "\n",
      "    accuracy                           0.70      5221\n",
      "   macro avg       0.63      0.62      0.62      5221\n",
      "weighted avg       0.70      0.70      0.70      5221\n",
      "\n",
      "F1_score:  0.702\n",
      "-------------------------------------------------------\n",
      "SVC(random_state=5)\n",
      "[[  82   35  300   11]\n",
      " [   2  198  497   40]\n",
      " [   0   55 2657  149]\n",
      " [   3   20  370  802]]\n",
      "              precision    recall  f1-score   support\n",
      "\n",
      "          -1       0.94      0.19      0.32       428\n",
      "           0       0.64      0.27      0.38       737\n",
      "           1       0.69      0.93      0.79      2861\n",
      "           2       0.80      0.67      0.73      1195\n",
      "\n",
      "    accuracy                           0.72      5221\n",
      "   macro avg       0.77      0.52      0.56      5221\n",
      "weighted avg       0.73      0.72      0.68      5221\n",
      "\n",
      "F1_score:  0.682\n",
      "-------------------------------------------------------\n",
      "MultinomialNB()\n",
      "[[  73   25  306   24]\n",
      " [  11  191  460   75]\n",
      " [   8   53 2594  206]\n",
      " [   1   12  401  781]]\n",
      "              precision    recall  f1-score   support\n",
      "\n",
      "          -1       0.78      0.17      0.28       428\n",
      "           0       0.68      0.26      0.38       737\n",
      "           1       0.69      0.91      0.78      2861\n",
      "           2       0.72      0.65      0.68      1195\n",
      "\n",
      "    accuracy                           0.70      5221\n",
      "   macro avg       0.72      0.50      0.53      5221\n",
      "weighted avg       0.70      0.70      0.66      5221\n",
      "\n",
      "F1_score:  0.662\n",
      "-------------------------------------------------------\n",
      "KNeighborsClassifier()\n",
      "[[  51  210  159    8]\n",
      " [  11  425  276   25]\n",
      " [  46  798 1895  122]\n",
      " [   5  306  480  404]]\n",
      "              precision    recall  f1-score   support\n",
      "\n",
      "          -1       0.45      0.12      0.19       428\n",
      "           0       0.24      0.58      0.34       737\n",
      "           1       0.67      0.66      0.67      2861\n",
      "           2       0.72      0.34      0.46      1195\n",
      "\n",
      "    accuracy                           0.53      5221\n",
      "   macro avg       0.52      0.42      0.42      5221\n",
      "weighted avg       0.61      0.53      0.54      5221\n",
      "\n",
      "F1_score:  0.536\n",
      "-------------------------------------------------------\n",
      "DecisionTreeClassifier(max_depth=6)\n",
      "[[  13    0  414    1]\n",
      " [   1   22  701   13]\n",
      " [   7    6 2770   78]\n",
      " [   0    1 1005  189]]\n",
      "              precision    recall  f1-score   support\n",
      "\n",
      "          -1       0.62      0.03      0.06       428\n",
      "           0       0.76      0.03      0.06       737\n",
      "           1       0.57      0.97      0.71      2861\n",
      "           2       0.67      0.16      0.26      1195\n",
      "\n",
      "    accuracy                           0.57      5221\n",
      "   macro avg       0.65      0.30      0.27      5221\n",
      "weighted avg       0.62      0.57      0.46      5221\n",
      "\n",
      "F1_score:  0.463\n",
      "-------------------------------------------------------\n",
      "RandomForestClassifier()\n",
      "[[  90   42  283   13]\n",
      " [   4  240  474   19]\n",
      " [   2  108 2613  138]\n",
      " [   2   24  448  721]]\n",
      "              precision    recall  f1-score   support\n",
      "\n",
      "          -1       0.92      0.21      0.34       428\n",
      "           0       0.58      0.33      0.42       737\n",
      "           1       0.68      0.91      0.78      2861\n",
      "           2       0.81      0.60      0.69      1195\n",
      "\n",
      "    accuracy                           0.70      5221\n",
      "   macro avg       0.75      0.51      0.56      5221\n",
      "weighted avg       0.72      0.70      0.67      5221\n",
      "\n",
      "F1_score:  0.674\n",
      "-------------------------------------------------------\n"
     ]
    }
   ],
   "source": [
    "# Fitting models onto the training data and predicting.\n",
    "\n",
    "for i in range(0, len(algs)):\n",
    "    \n",
    "    text_clf = Pipeline([('clf', algs[i])])\n",
    "    text_clf.fit(X_train, y_train)  \n",
    "    predictions = text_clf.predict(X_test)\n",
    "\n",
    "\n",
    "    print(algs[i])\n",
    "    print(metrics.confusion_matrix(y_test,predictions))\n",
    "    print(metrics.classification_report(y_test,predictions))\n",
    "    print('F1_score: ',round(metrics.f1_score(y_test,predictions, average = 'weighted'),3))\n",
    "    print('-------------------------------------------------------')"
   ]
  },
  {
   "cell_type": "code",
   "execution_count": 23,
   "id": "deadly-poison",
   "metadata": {
    "execution": {
     "iopub.execute_input": "2021-06-13T11:58:36.286144Z",
     "iopub.status.busy": "2021-06-13T11:58:36.285460Z",
     "iopub.status.idle": "2021-06-13T11:58:36.414455Z",
     "shell.execute_reply": "2021-06-13T11:58:36.413964Z",
     "shell.execute_reply.started": "2021-06-12T12:25:21.686588Z"
    },
    "papermill": {
     "duration": 0.171513,
     "end_time": "2021-06-13T11:58:36.414627",
     "exception": false,
     "start_time": "2021-06-13T11:58:36.243114",
     "status": "completed"
    },
    "tags": []
   },
   "outputs": [
    {
     "ename": "TypeError",
     "evalue": "predict() missing 1 required positional argument: 'X'",
     "output_type": "error",
     "traceback": [
      "\u001b[0;31m---------------------------------------------------------------------------\u001b[0m",
      "\u001b[0;31mTypeError\u001b[0m                                 Traceback (most recent call last)",
      "\u001b[0;32m<ipython-input-23-00f615bf434f>\u001b[0m in \u001b[0;36m<module>\u001b[0;34m\u001b[0m\n\u001b[1;32m      1\u001b[0m \u001b[0msubmission\u001b[0m \u001b[0;34m=\u001b[0m \u001b[0mpd\u001b[0m\u001b[0;34m.\u001b[0m\u001b[0mDataFrame\u001b[0m\u001b[0;34m(\u001b[0m\u001b[0;34m)\u001b[0m\u001b[0;34m\u001b[0m\u001b[0;34m\u001b[0m\u001b[0m\n\u001b[1;32m      2\u001b[0m \u001b[0msubmission\u001b[0m\u001b[0;34m[\u001b[0m\u001b[0;34m'TweetID'\u001b[0m\u001b[0;34m]\u001b[0m \u001b[0;34m=\u001b[0m \u001b[0mtest_df\u001b[0m\u001b[0;34m[\u001b[0m\u001b[0;34m'tweetid'\u001b[0m\u001b[0;34m]\u001b[0m\u001b[0;34m\u001b[0m\u001b[0;34m\u001b[0m\u001b[0m\n\u001b[0;32m----> 3\u001b[0;31m \u001b[0msubmission\u001b[0m\u001b[0;34m[\u001b[0m\u001b[0;34m'Sentiment'\u001b[0m\u001b[0;34m]\u001b[0m \u001b[0;34m=\u001b[0m \u001b[0mLogisticRegression\u001b[0m\u001b[0;34m.\u001b[0m\u001b[0mpredict\u001b[0m\u001b[0;34m(\u001b[0m\u001b[0mX_test\u001b[0m\u001b[0;34m)\u001b[0m\u001b[0;34m\u001b[0m\u001b[0;34m\u001b[0m\u001b[0m\n\u001b[0m\u001b[1;32m      4\u001b[0m \u001b[0;34m\u001b[0m\u001b[0m\n\u001b[1;32m      5\u001b[0m \u001b[0msubmission\u001b[0m\u001b[0;34m.\u001b[0m\u001b[0mto_csv\u001b[0m\u001b[0;34m(\u001b[0m\u001b[0;34m'sub.csv'\u001b[0m\u001b[0;34m,\u001b[0m \u001b[0mindex\u001b[0m\u001b[0;34m=\u001b[0m\u001b[0;32mFalse\u001b[0m\u001b[0;34m)\u001b[0m\u001b[0;34m\u001b[0m\u001b[0;34m\u001b[0m\u001b[0m\n",
      "\u001b[0;31mTypeError\u001b[0m: predict() missing 1 required positional argument: 'X'"
     ]
    }
   ],
   "source": [
    "submission = pd.DataFrame()\n",
    "submission['TweetID'] = test_df['tweetid']\n",
    "submission['Sentiment'] = LogisticRegression.predict(X_test)\n",
    "\n",
    "submission.to_csv('sub.csv', index=False)"
   ]
  },
  {
   "cell_type": "code",
   "execution_count": 24,
   "id": "acknowledged-adoption",
   "metadata": {
    "execution": {
     "iopub.execute_input": "2021-06-13T11:58:36.502735Z",
     "iopub.status.busy": "2021-06-13T11:58:36.502124Z",
     "iopub.status.idle": "2021-06-13T11:58:36.506450Z",
     "shell.execute_reply": "2021-06-13T11:58:36.505876Z",
     "shell.execute_reply.started": "2021-06-12T12:38:30.460594Z"
    },
    "papermill": {
     "duration": 0.055344,
     "end_time": "2021-06-13T11:58:36.506627",
     "exception": false,
     "start_time": "2021-06-13T11:58:36.451283",
     "status": "completed"
    },
    "tags": []
   },
   "outputs": [
    {
     "ename": "NameError",
     "evalue": "name 'Logist' is not defined",
     "output_type": "error",
     "traceback": [
      "\u001b[0;31m---------------------------------------------------------------------------\u001b[0m",
      "\u001b[0;31mNameError\u001b[0m                                 Traceback (most recent call last)",
      "\u001b[0;32m<ipython-input-24-4031d0613ea5>\u001b[0m in \u001b[0;36m<module>\u001b[0;34m\u001b[0m\n\u001b[0;32m----> 1\u001b[0;31m \u001b[0mLogist\u001b[0m\u001b[0;34m.\u001b[0m\u001b[0mfit\u001b[0m\u001b[0;34m(\u001b[0m\u001b[0mX_train\u001b[0m\u001b[0;34m,\u001b[0m \u001b[0my_train\u001b[0m\u001b[0;34m)\u001b[0m\u001b[0;34m\u001b[0m\u001b[0;34m\u001b[0m\u001b[0m\n\u001b[0m",
      "\u001b[0;31mNameError\u001b[0m: name 'Logist' is not defined"
     ]
    }
   ],
   "source": [
    "Logist.fit(X_train, y_train)"
   ]
  },
  {
   "cell_type": "code",
   "execution_count": 25,
   "id": "wicked-office",
   "metadata": {
    "execution": {
     "iopub.execute_input": "2021-06-13T11:58:36.584399Z",
     "iopub.status.busy": "2021-06-13T11:58:36.583793Z",
     "iopub.status.idle": "2021-06-13T11:58:36.585969Z",
     "shell.execute_reply": "2021-06-13T11:58:36.586463Z",
     "shell.execute_reply.started": "2021-06-12T12:42:54.73495Z"
    },
    "papermill": {
     "duration": 0.043372,
     "end_time": "2021-06-13T11:58:36.586636",
     "exception": false,
     "start_time": "2021-06-13T11:58:36.543264",
     "status": "completed"
    },
    "tags": []
   },
   "outputs": [],
   "source": [
    "Logist = LogisticRegression(random_state = 5)"
   ]
  },
  {
   "cell_type": "code",
   "execution_count": 26,
   "id": "coastal-showcase",
   "metadata": {
    "execution": {
     "iopub.execute_input": "2021-06-13T11:58:36.664190Z",
     "iopub.status.busy": "2021-06-13T11:58:36.663554Z",
     "iopub.status.idle": "2021-06-13T11:58:42.173526Z",
     "shell.execute_reply": "2021-06-13T11:58:42.174403Z",
     "shell.execute_reply.started": "2021-06-12T12:43:58.716837Z"
    },
    "papermill": {
     "duration": 5.551563,
     "end_time": "2021-06-13T11:58:42.174666",
     "exception": false,
     "start_time": "2021-06-13T11:58:36.623103",
     "status": "completed"
    },
    "tags": []
   },
   "outputs": [
    {
     "name": "stdout",
     "output_type": "stream",
     "text": [
      "F1_score:  0.717\n"
     ]
    },
    {
     "name": "stderr",
     "output_type": "stream",
     "text": [
      "/opt/conda/lib/python3.7/site-packages/sklearn/linear_model/_logistic.py:765: ConvergenceWarning:\n",
      "\n",
      "lbfgs failed to converge (status=1):\n",
      "STOP: TOTAL NO. of ITERATIONS REACHED LIMIT.\n",
      "\n",
      "Increase the number of iterations (max_iter) or scale the data as shown in:\n",
      "    https://scikit-learn.org/stable/modules/preprocessing.html\n",
      "Please also refer to the documentation for alternative solver options:\n",
      "    https://scikit-learn.org/stable/modules/linear_model.html#logistic-regression\n",
      "\n"
     ]
    }
   ],
   "source": [
    "Logist.fit(X_train, y_train)\n",
    "predictors = Logist.predict(X_test)\n",
    "print('F1_score: ', round(metrics.f1_score(y_test,predictors,average = 'weighted'),3))"
   ]
  },
  {
   "cell_type": "code",
   "execution_count": 27,
   "id": "hearing-legend",
   "metadata": {
    "execution": {
     "iopub.execute_input": "2021-06-13T11:58:42.319834Z",
     "iopub.status.busy": "2021-06-13T11:58:42.319077Z",
     "iopub.status.idle": "2021-06-13T11:58:42.335540Z",
     "shell.execute_reply": "2021-06-13T11:58:42.336207Z",
     "shell.execute_reply.started": "2021-06-12T12:45:08.878264Z"
    },
    "papermill": {
     "duration": 0.071147,
     "end_time": "2021-06-13T11:58:42.336378",
     "exception": false,
     "start_time": "2021-06-13T11:58:42.265231",
     "status": "completed"
    },
    "tags": []
   },
   "outputs": [
    {
     "ename": "ValueError",
     "evalue": "array length 5221 does not match index length 10546",
     "output_type": "error",
     "traceback": [
      "\u001b[0;31m---------------------------------------------------------------------------\u001b[0m",
      "\u001b[0;31mValueError\u001b[0m                                Traceback (most recent call last)",
      "\u001b[0;32m<ipython-input-27-6e1b5077e47a>\u001b[0m in \u001b[0;36m<module>\u001b[0;34m\u001b[0m\n\u001b[0;32m----> 1\u001b[0;31m \u001b[0mmy_submission\u001b[0m \u001b[0;34m=\u001b[0m \u001b[0mpd\u001b[0m\u001b[0;34m.\u001b[0m\u001b[0mDataFrame\u001b[0m\u001b[0;34m(\u001b[0m\u001b[0;34m{\u001b[0m\u001b[0;34m'tweetid'\u001b[0m\u001b[0;34m:\u001b[0m \u001b[0mtest_df\u001b[0m\u001b[0;34m.\u001b[0m\u001b[0mtweetid\u001b[0m\u001b[0;34m,\u001b[0m \u001b[0;34m'sentiment'\u001b[0m\u001b[0;34m:\u001b[0m \u001b[0mpredictors\u001b[0m\u001b[0;34m.\u001b[0m\u001b[0mreshape\u001b[0m\u001b[0;34m(\u001b[0m\u001b[0;34m(\u001b[0m\u001b[0mpredictors\u001b[0m\u001b[0;34m.\u001b[0m\u001b[0mshape\u001b[0m\u001b[0;34m[\u001b[0m\u001b[0;36m0\u001b[0m\u001b[0;34m]\u001b[0m\u001b[0;34m)\u001b[0m\u001b[0;34m)\u001b[0m\u001b[0;34m}\u001b[0m\u001b[0;34m)\u001b[0m\u001b[0;34m\u001b[0m\u001b[0;34m\u001b[0m\u001b[0m\n\u001b[0m\u001b[1;32m      2\u001b[0m \u001b[0;31m# you could use any filename. We choose submission here\u001b[0m\u001b[0;34m\u001b[0m\u001b[0;34m\u001b[0m\u001b[0;34m\u001b[0m\u001b[0m\n\u001b[1;32m      3\u001b[0m \u001b[0mmy_submission\u001b[0m\u001b[0;34m.\u001b[0m\u001b[0mto_csv\u001b[0m\u001b[0;34m(\u001b[0m\u001b[0;34m'submission.csv'\u001b[0m\u001b[0;34m,\u001b[0m \u001b[0mindex\u001b[0m\u001b[0;34m=\u001b[0m\u001b[0;32mFalse\u001b[0m\u001b[0;34m)\u001b[0m\u001b[0;34m\u001b[0m\u001b[0;34m\u001b[0m\u001b[0m\n",
      "\u001b[0;32m/opt/conda/lib/python3.7/site-packages/pandas/core/frame.py\u001b[0m in \u001b[0;36m__init__\u001b[0;34m(self, data, index, columns, dtype, copy)\u001b[0m\n\u001b[1;32m    527\u001b[0m \u001b[0;34m\u001b[0m\u001b[0m\n\u001b[1;32m    528\u001b[0m         \u001b[0;32melif\u001b[0m \u001b[0misinstance\u001b[0m\u001b[0;34m(\u001b[0m\u001b[0mdata\u001b[0m\u001b[0;34m,\u001b[0m \u001b[0mdict\u001b[0m\u001b[0;34m)\u001b[0m\u001b[0;34m:\u001b[0m\u001b[0;34m\u001b[0m\u001b[0;34m\u001b[0m\u001b[0m\n\u001b[0;32m--> 529\u001b[0;31m             \u001b[0mmgr\u001b[0m \u001b[0;34m=\u001b[0m \u001b[0minit_dict\u001b[0m\u001b[0;34m(\u001b[0m\u001b[0mdata\u001b[0m\u001b[0;34m,\u001b[0m \u001b[0mindex\u001b[0m\u001b[0;34m,\u001b[0m \u001b[0mcolumns\u001b[0m\u001b[0;34m,\u001b[0m \u001b[0mdtype\u001b[0m\u001b[0;34m=\u001b[0m\u001b[0mdtype\u001b[0m\u001b[0;34m)\u001b[0m\u001b[0;34m\u001b[0m\u001b[0;34m\u001b[0m\u001b[0m\n\u001b[0m\u001b[1;32m    530\u001b[0m         \u001b[0;32melif\u001b[0m \u001b[0misinstance\u001b[0m\u001b[0;34m(\u001b[0m\u001b[0mdata\u001b[0m\u001b[0;34m,\u001b[0m \u001b[0mma\u001b[0m\u001b[0;34m.\u001b[0m\u001b[0mMaskedArray\u001b[0m\u001b[0;34m)\u001b[0m\u001b[0;34m:\u001b[0m\u001b[0;34m\u001b[0m\u001b[0;34m\u001b[0m\u001b[0m\n\u001b[1;32m    531\u001b[0m             \u001b[0;32mimport\u001b[0m \u001b[0mnumpy\u001b[0m\u001b[0;34m.\u001b[0m\u001b[0mma\u001b[0m\u001b[0;34m.\u001b[0m\u001b[0mmrecords\u001b[0m \u001b[0;32mas\u001b[0m \u001b[0mmrecords\u001b[0m\u001b[0;34m\u001b[0m\u001b[0;34m\u001b[0m\u001b[0m\n",
      "\u001b[0;32m/opt/conda/lib/python3.7/site-packages/pandas/core/internals/construction.py\u001b[0m in \u001b[0;36minit_dict\u001b[0;34m(data, index, columns, dtype)\u001b[0m\n\u001b[1;32m    285\u001b[0m             \u001b[0marr\u001b[0m \u001b[0;32mif\u001b[0m \u001b[0;32mnot\u001b[0m \u001b[0mis_datetime64tz_dtype\u001b[0m\u001b[0;34m(\u001b[0m\u001b[0marr\u001b[0m\u001b[0;34m)\u001b[0m \u001b[0;32melse\u001b[0m \u001b[0marr\u001b[0m\u001b[0;34m.\u001b[0m\u001b[0mcopy\u001b[0m\u001b[0;34m(\u001b[0m\u001b[0;34m)\u001b[0m \u001b[0;32mfor\u001b[0m \u001b[0marr\u001b[0m \u001b[0;32min\u001b[0m \u001b[0marrays\u001b[0m\u001b[0;34m\u001b[0m\u001b[0;34m\u001b[0m\u001b[0m\n\u001b[1;32m    286\u001b[0m         ]\n\u001b[0;32m--> 287\u001b[0;31m     \u001b[0;32mreturn\u001b[0m \u001b[0marrays_to_mgr\u001b[0m\u001b[0;34m(\u001b[0m\u001b[0marrays\u001b[0m\u001b[0;34m,\u001b[0m \u001b[0mdata_names\u001b[0m\u001b[0;34m,\u001b[0m \u001b[0mindex\u001b[0m\u001b[0;34m,\u001b[0m \u001b[0mcolumns\u001b[0m\u001b[0;34m,\u001b[0m \u001b[0mdtype\u001b[0m\u001b[0;34m=\u001b[0m\u001b[0mdtype\u001b[0m\u001b[0;34m)\u001b[0m\u001b[0;34m\u001b[0m\u001b[0;34m\u001b[0m\u001b[0m\n\u001b[0m\u001b[1;32m    288\u001b[0m \u001b[0;34m\u001b[0m\u001b[0m\n\u001b[1;32m    289\u001b[0m \u001b[0;34m\u001b[0m\u001b[0m\n",
      "\u001b[0;32m/opt/conda/lib/python3.7/site-packages/pandas/core/internals/construction.py\u001b[0m in \u001b[0;36marrays_to_mgr\u001b[0;34m(arrays, arr_names, index, columns, dtype, verify_integrity)\u001b[0m\n\u001b[1;32m     78\u001b[0m         \u001b[0;31m# figure out the index, if necessary\u001b[0m\u001b[0;34m\u001b[0m\u001b[0;34m\u001b[0m\u001b[0;34m\u001b[0m\u001b[0m\n\u001b[1;32m     79\u001b[0m         \u001b[0;32mif\u001b[0m \u001b[0mindex\u001b[0m \u001b[0;32mis\u001b[0m \u001b[0;32mNone\u001b[0m\u001b[0;34m:\u001b[0m\u001b[0;34m\u001b[0m\u001b[0;34m\u001b[0m\u001b[0m\n\u001b[0;32m---> 80\u001b[0;31m             \u001b[0mindex\u001b[0m \u001b[0;34m=\u001b[0m \u001b[0mextract_index\u001b[0m\u001b[0;34m(\u001b[0m\u001b[0marrays\u001b[0m\u001b[0;34m)\u001b[0m\u001b[0;34m\u001b[0m\u001b[0;34m\u001b[0m\u001b[0m\n\u001b[0m\u001b[1;32m     81\u001b[0m         \u001b[0;32melse\u001b[0m\u001b[0;34m:\u001b[0m\u001b[0;34m\u001b[0m\u001b[0;34m\u001b[0m\u001b[0m\n\u001b[1;32m     82\u001b[0m             \u001b[0mindex\u001b[0m \u001b[0;34m=\u001b[0m \u001b[0mensure_index\u001b[0m\u001b[0;34m(\u001b[0m\u001b[0mindex\u001b[0m\u001b[0;34m)\u001b[0m\u001b[0;34m\u001b[0m\u001b[0;34m\u001b[0m\u001b[0m\n",
      "\u001b[0;32m/opt/conda/lib/python3.7/site-packages/pandas/core/internals/construction.py\u001b[0m in \u001b[0;36mextract_index\u001b[0;34m(data)\u001b[0m\n\u001b[1;32m    413\u001b[0m                         \u001b[0;34mf\"length {len(index)}\"\u001b[0m\u001b[0;34m\u001b[0m\u001b[0;34m\u001b[0m\u001b[0m\n\u001b[1;32m    414\u001b[0m                     )\n\u001b[0;32m--> 415\u001b[0;31m                     \u001b[0;32mraise\u001b[0m \u001b[0mValueError\u001b[0m\u001b[0;34m(\u001b[0m\u001b[0mmsg\u001b[0m\u001b[0;34m)\u001b[0m\u001b[0;34m\u001b[0m\u001b[0;34m\u001b[0m\u001b[0m\n\u001b[0m\u001b[1;32m    416\u001b[0m             \u001b[0;32melse\u001b[0m\u001b[0;34m:\u001b[0m\u001b[0;34m\u001b[0m\u001b[0;34m\u001b[0m\u001b[0m\n\u001b[1;32m    417\u001b[0m                 \u001b[0mindex\u001b[0m \u001b[0;34m=\u001b[0m \u001b[0mibase\u001b[0m\u001b[0;34m.\u001b[0m\u001b[0mdefault_index\u001b[0m\u001b[0;34m(\u001b[0m\u001b[0mlengths\u001b[0m\u001b[0;34m[\u001b[0m\u001b[0;36m0\u001b[0m\u001b[0;34m]\u001b[0m\u001b[0;34m)\u001b[0m\u001b[0;34m\u001b[0m\u001b[0;34m\u001b[0m\u001b[0m\n",
      "\u001b[0;31mValueError\u001b[0m: array length 5221 does not match index length 10546"
     ]
    }
   ],
   "source": [
    "my_submission = pd.DataFrame({'tweetid': test_df.tweetid, 'sentiment': predictors.reshape((predictors.shape[0]))})\n",
    "# you could use any filename. We choose submission here\n",
    "my_submission.to_csv('submission.csv', index=False)"
   ]
  },
  {
   "cell_type": "code",
   "execution_count": null,
   "id": "transparent-perfume",
   "metadata": {
    "papermill": {
     "duration": 0.03771,
     "end_time": "2021-06-13T11:58:42.412821",
     "exception": false,
     "start_time": "2021-06-13T11:58:42.375111",
     "status": "completed"
    },
    "tags": []
   },
   "outputs": [],
   "source": []
  }
 ],
 "metadata": {
  "kernelspec": {
   "display_name": "Python 3",
   "language": "python",
   "name": "python3"
  },
  "language_info": {
   "codemirror_mode": {
    "name": "ipython",
    "version": 3
   },
   "file_extension": ".py",
   "mimetype": "text/x-python",
   "name": "python",
   "nbconvert_exporter": "python",
   "pygments_lexer": "ipython3",
   "version": "3.7.10"
  },
  "papermill": {
   "default_parameters": {},
   "duration": 151.791966,
   "end_time": "2021-06-13T11:58:43.906162",
   "environment_variables": {},
   "exception": null,
   "input_path": "__notebook__.ipynb",
   "output_path": "__notebook__.ipynb",
   "parameters": {},
   "start_time": "2021-06-13T11:56:12.114196",
   "version": "2.3.3"
  }
 },
 "nbformat": 4,
 "nbformat_minor": 5
}
